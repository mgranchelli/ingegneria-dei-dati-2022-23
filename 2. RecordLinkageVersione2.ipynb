{
 "cells": [
  {
   "cell_type": "markdown",
   "id": "f114a247",
   "metadata": {},
   "source": [
    "## Record Linkage"
   ]
  },
  {
   "cell_type": "code",
   "execution_count": 59,
   "id": "58910cdf",
   "metadata": {},
   "outputs": [],
   "source": [
    "!pip install recordlinkage --q"
   ]
  },
  {
   "cell_type": "code",
   "execution_count": 60,
   "id": "5ead78a9",
   "metadata": {},
   "outputs": [],
   "source": [
    "import numpy as np \n",
    "import pandas as pd\n",
    "import recordlinkage\n",
    "import time"
   ]
  },
  {
   "cell_type": "code",
   "execution_count": 61,
   "id": "512e7651",
   "metadata": {},
   "outputs": [],
   "source": [
    "t_start = time.time()"
   ]
  },
  {
   "cell_type": "code",
   "execution_count": 62,
   "id": "ff3b3f97",
   "metadata": {},
   "outputs": [
    {
     "data": {
      "text/html": [
       "<div>\n",
       "<style scoped>\n",
       "    .dataframe tbody tr th:only-of-type {\n",
       "        vertical-align: middle;\n",
       "    }\n",
       "\n",
       "    .dataframe tbody tr th {\n",
       "        vertical-align: top;\n",
       "    }\n",
       "\n",
       "    .dataframe thead th {\n",
       "        text-align: right;\n",
       "    }\n",
       "</style>\n",
       "<table border=\"1\" class=\"dataframe\">\n",
       "  <thead>\n",
       "    <tr style=\"text-align: right;\">\n",
       "      <th></th>\n",
       "      <th>name</th>\n",
       "      <th>country</th>\n",
       "      <th>sector</th>\n",
       "      <th>founded</th>\n",
       "      <th>marketcap</th>\n",
       "      <th>revenue</th>\n",
       "      <th>employees</th>\n",
       "      <th>website</th>\n",
       "      <th>ceo</th>\n",
       "    </tr>\n",
       "  </thead>\n",
       "  <tbody>\n",
       "    <tr>\n",
       "      <th>0</th>\n",
       "      <td>LACEWORK</td>\n",
       "      <td>UNITED STATES</td>\n",
       "      <td>CYBERSECURITY</td>\n",
       "      <td>2015.0</td>\n",
       "      <td>NaN</td>\n",
       "      <td>NaN</td>\n",
       "      <td>NaN</td>\n",
       "      <td>NaN</td>\n",
       "      <td>NaN</td>\n",
       "    </tr>\n",
       "    <tr>\n",
       "      <th>1</th>\n",
       "      <td>TIPALTI</td>\n",
       "      <td>UNITED STATES</td>\n",
       "      <td>FINTECH</td>\n",
       "      <td>2010.0</td>\n",
       "      <td>NaN</td>\n",
       "      <td>NaN</td>\n",
       "      <td>NaN</td>\n",
       "      <td>NaN</td>\n",
       "      <td>NaN</td>\n",
       "    </tr>\n",
       "    <tr>\n",
       "      <th>2</th>\n",
       "      <td>TEMPUS</td>\n",
       "      <td>UNITED STATES</td>\n",
       "      <td>HEALTH</td>\n",
       "      <td>2015.0</td>\n",
       "      <td>NaN</td>\n",
       "      <td>NaN</td>\n",
       "      <td>NaN</td>\n",
       "      <td>NaN</td>\n",
       "      <td>NaN</td>\n",
       "    </tr>\n",
       "    <tr>\n",
       "      <th>3</th>\n",
       "      <td>ANDURIL</td>\n",
       "      <td>UNITED STATES</td>\n",
       "      <td>ARTIFICIAL INTELLIGENCE</td>\n",
       "      <td>2017.0</td>\n",
       "      <td>NaN</td>\n",
       "      <td>NaN</td>\n",
       "      <td>NaN</td>\n",
       "      <td>NaN</td>\n",
       "      <td>NaN</td>\n",
       "    </tr>\n",
       "    <tr>\n",
       "      <th>4</th>\n",
       "      <td>BOLT</td>\n",
       "      <td>ESTONIA</td>\n",
       "      <td>AUTO TRANSPORTATION</td>\n",
       "      <td>2013.0</td>\n",
       "      <td>NaN</td>\n",
       "      <td>NaN</td>\n",
       "      <td>NaN</td>\n",
       "      <td>NaN</td>\n",
       "      <td>NaN</td>\n",
       "    </tr>\n",
       "  </tbody>\n",
       "</table>\n",
       "</div>"
      ],
      "text/plain": [
       "       name        country                   sector  founded  marketcap  \\\n",
       "0  LACEWORK  UNITED STATES            CYBERSECURITY   2015.0        NaN   \n",
       "1   TIPALTI  UNITED STATES                  FINTECH   2010.0        NaN   \n",
       "2    TEMPUS  UNITED STATES                   HEALTH   2015.0        NaN   \n",
       "3   ANDURIL  UNITED STATES  ARTIFICIAL INTELLIGENCE   2017.0        NaN   \n",
       "4      BOLT        ESTONIA      AUTO TRANSPORTATION   2013.0        NaN   \n",
       "\n",
       "   revenue  employees website  ceo  \n",
       "0      NaN        NaN     NaN  NaN  \n",
       "1      NaN        NaN     NaN  NaN  \n",
       "2      NaN        NaN     NaN  NaN  \n",
       "3      NaN        NaN     NaN  NaN  \n",
       "4      NaN        NaN     NaN  NaN  "
      ]
     },
     "execution_count": 62,
     "metadata": {},
     "output_type": "execute_result"
    }
   ],
   "source": [
    "final = pd.read_csv(\"src/aligned_dataset.csv\")\n",
    "final = final.drop(columns=['Unnamed: 0'])\n",
    "final.head()"
   ]
  },
  {
   "cell_type": "code",
   "execution_count": 63,
   "id": "34d90ce0",
   "metadata": {},
   "outputs": [
    {
     "data": {
      "text/html": [
       "<div>\n",
       "<style scoped>\n",
       "    .dataframe tbody tr th:only-of-type {\n",
       "        vertical-align: middle;\n",
       "    }\n",
       "\n",
       "    .dataframe tbody tr th {\n",
       "        vertical-align: top;\n",
       "    }\n",
       "\n",
       "    .dataframe thead th {\n",
       "        text-align: right;\n",
       "    }\n",
       "</style>\n",
       "<table border=\"1\" class=\"dataframe\">\n",
       "  <thead>\n",
       "    <tr style=\"text-align: right;\">\n",
       "      <th></th>\n",
       "      <th>name</th>\n",
       "      <th>country</th>\n",
       "      <th>sector</th>\n",
       "      <th>founded</th>\n",
       "      <th>marketcap</th>\n",
       "      <th>revenue</th>\n",
       "      <th>employees</th>\n",
       "      <th>website</th>\n",
       "      <th>ceo</th>\n",
       "    </tr>\n",
       "  </thead>\n",
       "  <tbody>\n",
       "    <tr>\n",
       "      <th>0</th>\n",
       "      <td>0044 LIMITED</td>\n",
       "      <td>UNITED KINGDOM</td>\n",
       "      <td>NaN</td>\n",
       "      <td>NaN</td>\n",
       "      <td>NaN</td>\n",
       "      <td>NaN</td>\n",
       "      <td>NaN</td>\n",
       "      <td>NaN</td>\n",
       "      <td>NaN</td>\n",
       "    </tr>\n",
       "    <tr>\n",
       "      <th>1</th>\n",
       "      <td>0X</td>\n",
       "      <td>UNITED STATES</td>\n",
       "      <td>FINTECH</td>\n",
       "      <td>2016.0</td>\n",
       "      <td>NaN</td>\n",
       "      <td>NaN</td>\n",
       "      <td>NaN</td>\n",
       "      <td>NaN</td>\n",
       "      <td>NaN</td>\n",
       "    </tr>\n",
       "    <tr>\n",
       "      <th>2</th>\n",
       "      <td>0X</td>\n",
       "      <td>UNITED STATES</td>\n",
       "      <td>FINTECH</td>\n",
       "      <td>NaN</td>\n",
       "      <td>NaN</td>\n",
       "      <td>NaN</td>\n",
       "      <td>NaN</td>\n",
       "      <td>NaN</td>\n",
       "      <td>NaN</td>\n",
       "    </tr>\n",
       "    <tr>\n",
       "      <th>3</th>\n",
       "      <td>1 1</td>\n",
       "      <td>GERMANY</td>\n",
       "      <td>NaN</td>\n",
       "      <td>NaN</td>\n",
       "      <td>2.320000e+09</td>\n",
       "      <td>NaN</td>\n",
       "      <td>NaN</td>\n",
       "      <td>NaN</td>\n",
       "      <td>NaN</td>\n",
       "    </tr>\n",
       "    <tr>\n",
       "      <th>4</th>\n",
       "      <td>1 1</td>\n",
       "      <td>GERMANY</td>\n",
       "      <td>NaN</td>\n",
       "      <td>NaN</td>\n",
       "      <td>2.270000e+09</td>\n",
       "      <td>NaN</td>\n",
       "      <td>NaN</td>\n",
       "      <td>NaN</td>\n",
       "      <td>NaN</td>\n",
       "    </tr>\n",
       "  </tbody>\n",
       "</table>\n",
       "</div>"
      ],
      "text/plain": [
       "           name         country   sector  founded     marketcap  revenue  \\\n",
       "0  0044 LIMITED  UNITED KINGDOM      NaN      NaN           NaN      NaN   \n",
       "1            0X   UNITED STATES  FINTECH   2016.0           NaN      NaN   \n",
       "2            0X   UNITED STATES  FINTECH      NaN           NaN      NaN   \n",
       "3           1 1         GERMANY      NaN      NaN  2.320000e+09      NaN   \n",
       "4           1 1         GERMANY      NaN      NaN  2.270000e+09      NaN   \n",
       "\n",
       "   employees website  ceo  \n",
       "0        NaN     NaN  NaN  \n",
       "1        NaN     NaN  NaN  \n",
       "2        NaN     NaN  NaN  \n",
       "3        NaN     NaN  NaN  \n",
       "4        NaN     NaN  NaN  "
      ]
     },
     "execution_count": 63,
     "metadata": {},
     "output_type": "execute_result"
    }
   ],
   "source": [
    "final = final.sort_values('name')\n",
    "final = final.reset_index(drop=True)\n",
    "final.head()"
   ]
  },
  {
   "cell_type": "code",
   "execution_count": 64,
   "id": "eff8379d",
   "metadata": {},
   "outputs": [],
   "source": [
    "# final.to_csv(\"./src/sorted_final_dataset.csv\")"
   ]
  },
  {
   "cell_type": "code",
   "execution_count": 65,
   "id": "bd412c40",
   "metadata": {},
   "outputs": [
    {
     "name": "stdout",
     "output_type": "stream",
     "text": [
      "<class 'pandas.core.frame.DataFrame'>\n",
      "RangeIndex: 173033 entries, 0 to 173032\n",
      "Data columns (total 9 columns):\n",
      " #   Column     Non-Null Count   Dtype  \n",
      "---  ------     --------------   -----  \n",
      " 0   name       173033 non-null  object \n",
      " 1   country    166096 non-null  object \n",
      " 2   sector     49000 non-null   object \n",
      " 3   founded    40090 non-null   float64\n",
      " 4   marketcap  75005 non-null   float64\n",
      " 5   revenue    51370 non-null   float64\n",
      " 6   employees  42602 non-null   float64\n",
      " 7   website    16799 non-null   object \n",
      " 8   ceo        21160 non-null   object \n",
      "dtypes: float64(4), object(5)\n",
      "memory usage: 11.9+ MB\n"
     ]
    }
   ],
   "source": [
    "final.info()"
   ]
  },
  {
   "cell_type": "markdown",
   "id": "a4f223ca",
   "metadata": {},
   "source": [
    "## Index"
   ]
  },
  {
   "cell_type": "code",
   "execution_count": 66,
   "id": "4d82f2cc",
   "metadata": {},
   "outputs": [],
   "source": [
    "from difflib import SequenceMatcher\n",
    "\n",
    "def similar(a, b):\n",
    "    return SequenceMatcher(None, a, b).ratio()"
   ]
  },
  {
   "cell_type": "code",
   "execution_count": 67,
   "id": "6d5732e7",
   "metadata": {},
   "outputs": [],
   "source": [
    "from recordlinkage.base import BaseIndexAlgorithm\n",
    "class CustomIndex(BaseIndexAlgorithm):\n",
    "    def _link_index(self, df_a, df_b):\n",
    "        t0 = time.time()\n",
    "        print(len(df_a))\n",
    "        indici1=[]\n",
    "        indici2=[]\n",
    "        x = 50\n",
    "        for i in range(0, len(df_a)):\n",
    "            if(i%10000 == 0):\n",
    "                print(i)\n",
    "            if (i + x) >= len(df_a):\n",
    "                    x -= 1\n",
    "            for j in range(i, (i+x)):\n",
    "                if(similar(df_a.loc[i, 'name'], df_a.loc[j, 'name'])>0.35):\n",
    "                    indici1.append(i)\n",
    "                    indici2.append(j)\n",
    "        indici = [indici1, indici2]\n",
    "        t1 = time.time()\n",
    "        print(t1-t0)\n",
    "        return pd.MultiIndex.from_arrays(indici, names=('first', 'second'))  "
   ]
  },
  {
   "cell_type": "code",
   "execution_count": 68,
   "id": "7cc53c6e",
   "metadata": {},
   "outputs": [
    {
     "name": "stdout",
     "output_type": "stream",
     "text": [
      "173033\n",
      "0\n",
      "10000\n",
      "20000\n",
      "30000\n",
      "40000\n",
      "50000\n",
      "60000\n",
      "70000\n",
      "80000\n",
      "90000\n",
      "100000\n",
      "110000\n",
      "120000\n",
      "130000\n",
      "140000\n",
      "150000\n",
      "160000\n",
      "170000\n",
      "379.6686599254608\n"
     ]
    }
   ],
   "source": [
    "indexer = CustomIndex()\n",
    "candidate_pairs = indexer.index(final, final)\n",
    "pairs = candidate_pairs"
   ]
  },
  {
   "cell_type": "code",
   "execution_count": 69,
   "id": "c1a67fd2",
   "metadata": {},
   "outputs": [
    {
     "data": {
      "text/plain": [
       "MultiIndex([(     0,      0),\n",
       "            (     0,     17),\n",
       "            (     0,     18),\n",
       "            (     0,     19),\n",
       "            (     0,     20),\n",
       "            (     0,     21),\n",
       "            (     0,     22),\n",
       "            (     0,     23),\n",
       "            (     0,     24),\n",
       "            (     0,     32),\n",
       "            ...\n",
       "            (173027, 173030),\n",
       "            (173028, 173028),\n",
       "            (173028, 173029),\n",
       "            (173028, 173030),\n",
       "            (173029, 173029),\n",
       "            (173029, 173030),\n",
       "            (173029, 173031),\n",
       "            (173030, 173030),\n",
       "            (173030, 173031),\n",
       "            (173031, 173031)],\n",
       "           length=5582851)"
      ]
     },
     "execution_count": 69,
     "metadata": {},
     "output_type": "execute_result"
    }
   ],
   "source": [
    "pairs"
   ]
  },
  {
   "cell_type": "code",
   "execution_count": 70,
   "id": "9f9244b2",
   "metadata": {},
   "outputs": [],
   "source": [
    "# 80% training set, 20% test set\n",
    "n_perc = int((len(pairs) * 80) / 100)\n",
    "train_pairs = pairs[:n_perc]\n",
    "test_pairs = pairs[n_perc:]"
   ]
  },
  {
   "cell_type": "markdown",
   "id": "7b0ec846",
   "metadata": {},
   "source": [
    "## Training "
   ]
  },
  {
   "cell_type": "code",
   "execution_count": 71,
   "id": "6fb96273",
   "metadata": {},
   "outputs": [],
   "source": [
    "from recordlinkage.base import BaseCompareFeature\n",
    "class CompareNumbers(BaseCompareFeature):\n",
    "    # Similarity score between two numbers\n",
    "    def _compute_vectorized(self, s1, s2):\n",
    "        s1 = abs(s1)\n",
    "        s2 = abs(s2)\n",
    "        return round(1 - abs(s1 - s2) / (s1 + s2))"
   ]
  },
  {
   "cell_type": "code",
   "execution_count": 72,
   "id": "f4bf3197",
   "metadata": {},
   "outputs": [],
   "source": [
    "# jarowinkler gives priority to the begining of the string\n",
    "# levenshtein cares more about the order\n",
    "# compare.string -> default: levenshtein\n",
    "compare = recordlinkage.Compare()\n",
    "\n",
    "compare.string('name', 'name', label=\"name\", threshold=0.60)\n",
    "compare.string('country', 'country', label=\"country\", threshold=0.60, missing_value=np.nan)\n",
    "compare.string('sector', 'sector', label=\"sector\", threshold=0.50, missing_value=np.nan)\n",
    "compare.string('website', 'website', method='jarowinkler', label=\"website\", threshold=0.50, missing_value=np.nan)\n",
    "compare.string('ceo', 'ceo', method='jarowinkler', label=\"ceo\", threshold=0.60, missing_value=np.nan)\n",
    "\n",
    "training_features = compare.compute(train_pairs, final, final)\n",
    "training_features['score'] = training_features.loc[:, 'name':'ceo'].sum(axis=1)\n",
    "training_features['null_values'] = training_features.loc[:, 'name':'ceo'].isnull().sum(axis=1)"
   ]
  },
  {
   "cell_type": "code",
   "execution_count": 73,
   "id": "10dfcbe1",
   "metadata": {},
   "outputs": [
    {
     "data": {
      "text/html": [
       "<div>\n",
       "<style scoped>\n",
       "    .dataframe tbody tr th:only-of-type {\n",
       "        vertical-align: middle;\n",
       "    }\n",
       "\n",
       "    .dataframe tbody tr th {\n",
       "        vertical-align: top;\n",
       "    }\n",
       "\n",
       "    .dataframe thead th {\n",
       "        text-align: right;\n",
       "    }\n",
       "</style>\n",
       "<table border=\"1\" class=\"dataframe\">\n",
       "  <thead>\n",
       "    <tr style=\"text-align: right;\">\n",
       "      <th></th>\n",
       "      <th></th>\n",
       "      <th>name</th>\n",
       "      <th>country</th>\n",
       "      <th>sector</th>\n",
       "      <th>website</th>\n",
       "      <th>ceo</th>\n",
       "      <th>score</th>\n",
       "      <th>null_values</th>\n",
       "    </tr>\n",
       "  </thead>\n",
       "  <tbody>\n",
       "    <tr>\n",
       "      <th rowspan=\"10\" valign=\"top\">0</th>\n",
       "      <th>0</th>\n",
       "      <td>1.0</td>\n",
       "      <td>1.0</td>\n",
       "      <td>NaN</td>\n",
       "      <td>NaN</td>\n",
       "      <td>NaN</td>\n",
       "      <td>2.0</td>\n",
       "      <td>3</td>\n",
       "    </tr>\n",
       "    <tr>\n",
       "      <th>17</th>\n",
       "      <td>0.0</td>\n",
       "      <td>0.0</td>\n",
       "      <td>NaN</td>\n",
       "      <td>NaN</td>\n",
       "      <td>NaN</td>\n",
       "      <td>0.0</td>\n",
       "      <td>3</td>\n",
       "    </tr>\n",
       "    <tr>\n",
       "      <th>18</th>\n",
       "      <td>0.0</td>\n",
       "      <td>0.0</td>\n",
       "      <td>NaN</td>\n",
       "      <td>NaN</td>\n",
       "      <td>NaN</td>\n",
       "      <td>0.0</td>\n",
       "      <td>3</td>\n",
       "    </tr>\n",
       "    <tr>\n",
       "      <th>19</th>\n",
       "      <td>0.0</td>\n",
       "      <td>0.0</td>\n",
       "      <td>NaN</td>\n",
       "      <td>NaN</td>\n",
       "      <td>NaN</td>\n",
       "      <td>0.0</td>\n",
       "      <td>3</td>\n",
       "    </tr>\n",
       "    <tr>\n",
       "      <th>20</th>\n",
       "      <td>0.0</td>\n",
       "      <td>0.0</td>\n",
       "      <td>NaN</td>\n",
       "      <td>NaN</td>\n",
       "      <td>NaN</td>\n",
       "      <td>0.0</td>\n",
       "      <td>3</td>\n",
       "    </tr>\n",
       "    <tr>\n",
       "      <th>21</th>\n",
       "      <td>0.0</td>\n",
       "      <td>NaN</td>\n",
       "      <td>NaN</td>\n",
       "      <td>NaN</td>\n",
       "      <td>NaN</td>\n",
       "      <td>0.0</td>\n",
       "      <td>4</td>\n",
       "    </tr>\n",
       "    <tr>\n",
       "      <th>22</th>\n",
       "      <td>0.0</td>\n",
       "      <td>0.0</td>\n",
       "      <td>NaN</td>\n",
       "      <td>NaN</td>\n",
       "      <td>NaN</td>\n",
       "      <td>0.0</td>\n",
       "      <td>3</td>\n",
       "    </tr>\n",
       "    <tr>\n",
       "      <th>23</th>\n",
       "      <td>0.0</td>\n",
       "      <td>0.0</td>\n",
       "      <td>NaN</td>\n",
       "      <td>NaN</td>\n",
       "      <td>NaN</td>\n",
       "      <td>0.0</td>\n",
       "      <td>3</td>\n",
       "    </tr>\n",
       "    <tr>\n",
       "      <th>24</th>\n",
       "      <td>0.0</td>\n",
       "      <td>0.0</td>\n",
       "      <td>NaN</td>\n",
       "      <td>NaN</td>\n",
       "      <td>NaN</td>\n",
       "      <td>0.0</td>\n",
       "      <td>3</td>\n",
       "    </tr>\n",
       "    <tr>\n",
       "      <th>32</th>\n",
       "      <td>0.0</td>\n",
       "      <td>0.0</td>\n",
       "      <td>NaN</td>\n",
       "      <td>NaN</td>\n",
       "      <td>NaN</td>\n",
       "      <td>0.0</td>\n",
       "      <td>3</td>\n",
       "    </tr>\n",
       "  </tbody>\n",
       "</table>\n",
       "</div>"
      ],
      "text/plain": [
       "      name  country  sector  website  ceo  score  null_values\n",
       "0 0    1.0      1.0     NaN      NaN  NaN    2.0            3\n",
       "  17   0.0      0.0     NaN      NaN  NaN    0.0            3\n",
       "  18   0.0      0.0     NaN      NaN  NaN    0.0            3\n",
       "  19   0.0      0.0     NaN      NaN  NaN    0.0            3\n",
       "  20   0.0      0.0     NaN      NaN  NaN    0.0            3\n",
       "  21   0.0      NaN     NaN      NaN  NaN    0.0            4\n",
       "  22   0.0      0.0     NaN      NaN  NaN    0.0            3\n",
       "  23   0.0      0.0     NaN      NaN  NaN    0.0            3\n",
       "  24   0.0      0.0     NaN      NaN  NaN    0.0            3\n",
       "  32   0.0      0.0     NaN      NaN  NaN    0.0            3"
      ]
     },
     "execution_count": 73,
     "metadata": {},
     "output_type": "execute_result"
    }
   ],
   "source": [
    "training_features.head(10)"
   ]
  },
  {
   "cell_type": "code",
   "execution_count": 74,
   "id": "c744913a",
   "metadata": {},
   "outputs": [],
   "source": [
    "col = len(final.columns) - 4\n",
    "training_matches = training_features[training_features['score'] >= (col - training_features['null_values'])/2]\n",
    "matches_train = training_matches\n",
    "training_matches = training_matches.reset_index()"
   ]
  },
  {
   "cell_type": "code",
   "execution_count": 75,
   "id": "ae8f3600",
   "metadata": {},
   "outputs": [
    {
     "data": {
      "text/html": [
       "<div>\n",
       "<style scoped>\n",
       "    .dataframe tbody tr th:only-of-type {\n",
       "        vertical-align: middle;\n",
       "    }\n",
       "\n",
       "    .dataframe tbody tr th {\n",
       "        vertical-align: top;\n",
       "    }\n",
       "\n",
       "    .dataframe thead th {\n",
       "        text-align: right;\n",
       "    }\n",
       "</style>\n",
       "<table border=\"1\" class=\"dataframe\">\n",
       "  <thead>\n",
       "    <tr style=\"text-align: right;\">\n",
       "      <th></th>\n",
       "      <th>level_0</th>\n",
       "      <th>level_1</th>\n",
       "    </tr>\n",
       "  </thead>\n",
       "  <tbody>\n",
       "    <tr>\n",
       "      <th>0</th>\n",
       "      <td>0</td>\n",
       "      <td>0</td>\n",
       "    </tr>\n",
       "    <tr>\n",
       "      <th>1</th>\n",
       "      <td>1</td>\n",
       "      <td>1</td>\n",
       "    </tr>\n",
       "    <tr>\n",
       "      <th>2</th>\n",
       "      <td>1</td>\n",
       "      <td>2</td>\n",
       "    </tr>\n",
       "    <tr>\n",
       "      <th>3</th>\n",
       "      <td>2</td>\n",
       "      <td>2</td>\n",
       "    </tr>\n",
       "    <tr>\n",
       "      <th>4</th>\n",
       "      <td>3</td>\n",
       "      <td>3</td>\n",
       "    </tr>\n",
       "  </tbody>\n",
       "</table>\n",
       "</div>"
      ],
      "text/plain": [
       "   level_0  level_1\n",
       "0        0        0\n",
       "1        1        1\n",
       "2        1        2\n",
       "3        2        2\n",
       "4        3        3"
      ]
     },
     "execution_count": 75,
     "metadata": {},
     "output_type": "execute_result"
    }
   ],
   "source": [
    "# toDrop = ['name', 'country', 'sector', 'founded', 'marketcap', 'revenue', 'employees', 'website', 'ceo', 'score', 'null_values']\n",
    "toDrop = ['name', 'country', 'sector', 'website', 'ceo', 'score', 'null_values']\n",
    "training_matches = training_matches.drop(toDrop, axis=1)\n",
    "training_matches.head()"
   ]
  },
  {
   "cell_type": "code",
   "execution_count": 76,
   "id": "9343bad5",
   "metadata": {},
   "outputs": [],
   "source": [
    "training_matches = pd.MultiIndex.from_frame(training_matches)"
   ]
  },
  {
   "cell_type": "code",
   "execution_count": 77,
   "id": "159a2e9a",
   "metadata": {},
   "outputs": [
    {
     "data": {
      "text/plain": [
       "MultiIndex([(     0,      0),\n",
       "            (     1,      1),\n",
       "            (     1,      2),\n",
       "            (     2,      2),\n",
       "            (     3,      3),\n",
       "            (     3,      4),\n",
       "            (     3,      5),\n",
       "            (     3,      6),\n",
       "            (     3,      7),\n",
       "            (     3,      8),\n",
       "            ...\n",
       "            (138405, 138414),\n",
       "            (138406, 138406),\n",
       "            (138406, 138407),\n",
       "            (138406, 138408),\n",
       "            (138406, 138409),\n",
       "            (138406, 138410),\n",
       "            (138406, 138411),\n",
       "            (138406, 138412),\n",
       "            (138406, 138413),\n",
       "            (138406, 138414)],\n",
       "           names=['level_0', 'level_1'], length=1614487)"
      ]
     },
     "execution_count": 77,
     "metadata": {},
     "output_type": "execute_result"
    }
   ],
   "source": [
    "training_matches"
   ]
  },
  {
   "cell_type": "code",
   "execution_count": 78,
   "id": "8ac67eec",
   "metadata": {},
   "outputs": [],
   "source": [
    "def createDictionary(matches):\n",
    "    d = {}\n",
    "    ignoreSet = set()\n",
    "    for k, v in matches:\n",
    "        if k not in d.keys() and k not in ignoreSet:\n",
    "            d[k] = [k]\n",
    "            ignoreSet.add(k)\n",
    "        elif k in d.keys() and v not in ignoreSet:\n",
    "            d[k].append(v)\n",
    "            ignoreSet.add(v)\n",
    "    return d\n",
    "            "
   ]
  },
  {
   "cell_type": "code",
   "execution_count": 79,
   "id": "70c99a03",
   "metadata": {},
   "outputs": [],
   "source": [
    "def collapseMatches(df, dict_matches):\n",
    "    df_collapsed = pd.DataFrame(columns=['name', 'country', 'sector', 'founded', 'marketcap', 'revenue', 'employees', 'website', 'ceo'])\n",
    "    indexesToDelete = []\n",
    "    i = 0\n",
    "    for k in dict_matches.keys():\n",
    "        if(i%10000==0):\n",
    "            print(i)\n",
    "        i+=1\n",
    "        indexesToDelete.append(k)\n",
    "        row = df[df.index == k]\n",
    "        for v in dict_matches[k]:\n",
    "            indexesToDelete.append(v)\n",
    "            for field in row:\n",
    "                if(row[field].isnull().values.any()):\n",
    "                    if(not df[df.index == v][field].isnull().values.any()):\n",
    "                        row.at[k, field] = df[df.index==v][field].values[0]\n",
    "        df_collapsed.loc[len(df_collapsed.index)]=row.values[0]\n",
    "    return df_collapsed, indexesToDelete"
   ]
  },
  {
   "cell_type": "code",
   "execution_count": 80,
   "id": "4fd8856e",
   "metadata": {},
   "outputs": [],
   "source": [
    "dictionary = createDictionary(training_matches)"
   ]
  },
  {
   "cell_type": "code",
   "execution_count": 81,
   "id": "1d82e1a2",
   "metadata": {},
   "outputs": [
    {
     "name": "stdout",
     "output_type": "stream",
     "text": [
      "0\n",
      "10000\n",
      "20000\n"
     ]
    }
   ],
   "source": [
    "df_collapsed_train, indexesToDeleteGlobal = collapseMatches(final, dictionary)\n",
    "#df_collapsed_train.to_csv('./src/train_matches_collapsed.csv', index=False)"
   ]
  },
  {
   "cell_type": "code",
   "execution_count": 82,
   "id": "2caf73bc",
   "metadata": {},
   "outputs": [
    {
     "data": {
      "text/html": [
       "<div>\n",
       "<style scoped>\n",
       "    .dataframe tbody tr th:only-of-type {\n",
       "        vertical-align: middle;\n",
       "    }\n",
       "\n",
       "    .dataframe tbody tr th {\n",
       "        vertical-align: top;\n",
       "    }\n",
       "\n",
       "    .dataframe thead th {\n",
       "        text-align: right;\n",
       "    }\n",
       "</style>\n",
       "<table border=\"1\" class=\"dataframe\">\n",
       "  <thead>\n",
       "    <tr style=\"text-align: right;\">\n",
       "      <th></th>\n",
       "      <th>name</th>\n",
       "      <th>country</th>\n",
       "      <th>sector</th>\n",
       "      <th>founded</th>\n",
       "      <th>marketcap</th>\n",
       "      <th>revenue</th>\n",
       "      <th>employees</th>\n",
       "      <th>website</th>\n",
       "      <th>ceo</th>\n",
       "    </tr>\n",
       "  </thead>\n",
       "  <tbody>\n",
       "    <tr>\n",
       "      <th>0</th>\n",
       "      <td>0044 LIMITED</td>\n",
       "      <td>UNITED KINGDOM</td>\n",
       "      <td>NaN</td>\n",
       "      <td>NaN</td>\n",
       "      <td>NaN</td>\n",
       "      <td>NaN</td>\n",
       "      <td>NaN</td>\n",
       "      <td>NaN</td>\n",
       "      <td>NaN</td>\n",
       "    </tr>\n",
       "    <tr>\n",
       "      <th>1</th>\n",
       "      <td>0X</td>\n",
       "      <td>UNITED STATES</td>\n",
       "      <td>FINTECH</td>\n",
       "      <td>2016.0</td>\n",
       "      <td>NaN</td>\n",
       "      <td>NaN</td>\n",
       "      <td>NaN</td>\n",
       "      <td>NaN</td>\n",
       "      <td>NaN</td>\n",
       "    </tr>\n",
       "    <tr>\n",
       "      <th>2</th>\n",
       "      <td>1 1</td>\n",
       "      <td>GERMANY</td>\n",
       "      <td>TELECOMMUNICATION INTERNET</td>\n",
       "      <td>1983.0</td>\n",
       "      <td>2.320000e+09</td>\n",
       "      <td>4.312000e+06</td>\n",
       "      <td>3163.0</td>\n",
       "      <td>HTTPS://WWW.1UND1-DRILLISCH.DE</td>\n",
       "      <td>MR RALPH DOMMERMUTH</td>\n",
       "    </tr>\n",
       "    <tr>\n",
       "      <th>3</th>\n",
       "      <td>1 800 FLOWERS</td>\n",
       "      <td>USA</td>\n",
       "      <td>E COMMERCE INTERNET TECH</td>\n",
       "      <td>NaN</td>\n",
       "      <td>6.500000e+08</td>\n",
       "      <td>1.860000e+09</td>\n",
       "      <td>4700.0</td>\n",
       "      <td>HTTPS://WWW.1800FLOWERS.COM/</td>\n",
       "      <td>NaN</td>\n",
       "    </tr>\n",
       "    <tr>\n",
       "      <th>4</th>\n",
       "      <td>1 INDIA FAMILY MART</td>\n",
       "      <td>INDIA</td>\n",
       "      <td>RETAIL</td>\n",
       "      <td>2012.0</td>\n",
       "      <td>NaN</td>\n",
       "      <td>NaN</td>\n",
       "      <td>NaN</td>\n",
       "      <td>NaN</td>\n",
       "      <td>NaN</td>\n",
       "    </tr>\n",
       "    <tr>\n",
       "      <th>5</th>\n",
       "      <td>10 OR</td>\n",
       "      <td>TAIPEI</td>\n",
       "      <td>SMARTPHONES</td>\n",
       "      <td>2004.0</td>\n",
       "      <td>NaN</td>\n",
       "      <td>NaN</td>\n",
       "      <td>NaN</td>\n",
       "      <td>NaN</td>\n",
       "      <td>MR CHI KUAN YANG</td>\n",
       "    </tr>\n",
       "    <tr>\n",
       "      <th>6</th>\n",
       "      <td>100 PLUS</td>\n",
       "      <td>NaN</td>\n",
       "      <td>SPORTS DRINK</td>\n",
       "      <td>NaN</td>\n",
       "      <td>NaN</td>\n",
       "      <td>NaN</td>\n",
       "      <td>NaN</td>\n",
       "      <td>NaN</td>\n",
       "      <td>NaN</td>\n",
       "    </tr>\n",
       "    <tr>\n",
       "      <th>7</th>\n",
       "      <td>1000MERCIS</td>\n",
       "      <td>FRANCE</td>\n",
       "      <td>NaN</td>\n",
       "      <td>NaN</td>\n",
       "      <td>NaN</td>\n",
       "      <td>NaN</td>\n",
       "      <td>386.0</td>\n",
       "      <td>NaN</td>\n",
       "      <td>MS YSEULYS COSTES</td>\n",
       "    </tr>\n",
       "    <tr>\n",
       "      <th>8</th>\n",
       "      <td>1047 GAMES</td>\n",
       "      <td>UNITED STATES</td>\n",
       "      <td>INTERNET SOFTWARE SERVICES</td>\n",
       "      <td>2017.0</td>\n",
       "      <td>NaN</td>\n",
       "      <td>NaN</td>\n",
       "      <td>1239.0</td>\n",
       "      <td>NaN</td>\n",
       "      <td>DR SERGE SAXONOV PH D</td>\n",
       "    </tr>\n",
       "    <tr>\n",
       "      <th>9</th>\n",
       "      <td>10DSPACEO 14318875</td>\n",
       "      <td>NaN</td>\n",
       "      <td>NaN</td>\n",
       "      <td>NaN</td>\n",
       "      <td>NaN</td>\n",
       "      <td>NaN</td>\n",
       "      <td>NaN</td>\n",
       "      <td>NaN</td>\n",
       "      <td>NaN</td>\n",
       "    </tr>\n",
       "  </tbody>\n",
       "</table>\n",
       "</div>"
      ],
      "text/plain": [
       "                  name         country                      sector  founded  \\\n",
       "0         0044 LIMITED  UNITED KINGDOM                         NaN      NaN   \n",
       "1                   0X   UNITED STATES                     FINTECH   2016.0   \n",
       "2                  1 1         GERMANY  TELECOMMUNICATION INTERNET   1983.0   \n",
       "3        1 800 FLOWERS             USA    E COMMERCE INTERNET TECH      NaN   \n",
       "4  1 INDIA FAMILY MART           INDIA                      RETAIL   2012.0   \n",
       "5                10 OR          TAIPEI                 SMARTPHONES   2004.0   \n",
       "6             100 PLUS             NaN                SPORTS DRINK      NaN   \n",
       "7           1000MERCIS          FRANCE                         NaN      NaN   \n",
       "8           1047 GAMES   UNITED STATES  INTERNET SOFTWARE SERVICES   2017.0   \n",
       "9   10DSPACEO 14318875             NaN                         NaN      NaN   \n",
       "\n",
       "      marketcap       revenue  employees                         website  \\\n",
       "0           NaN           NaN        NaN                             NaN   \n",
       "1           NaN           NaN        NaN                             NaN   \n",
       "2  2.320000e+09  4.312000e+06     3163.0  HTTPS://WWW.1UND1-DRILLISCH.DE   \n",
       "3  6.500000e+08  1.860000e+09     4700.0    HTTPS://WWW.1800FLOWERS.COM/   \n",
       "4           NaN           NaN        NaN                             NaN   \n",
       "5           NaN           NaN        NaN                             NaN   \n",
       "6           NaN           NaN        NaN                             NaN   \n",
       "7           NaN           NaN      386.0                             NaN   \n",
       "8           NaN           NaN     1239.0                             NaN   \n",
       "9           NaN           NaN        NaN                             NaN   \n",
       "\n",
       "                     ceo  \n",
       "0                    NaN  \n",
       "1                    NaN  \n",
       "2    MR RALPH DOMMERMUTH  \n",
       "3                    NaN  \n",
       "4                    NaN  \n",
       "5       MR CHI KUAN YANG  \n",
       "6                    NaN  \n",
       "7      MS YSEULYS COSTES  \n",
       "8  DR SERGE SAXONOV PH D  \n",
       "9                    NaN  "
      ]
     },
     "execution_count": 82,
     "metadata": {},
     "output_type": "execute_result"
    }
   ],
   "source": [
    "df_collapsed_train.head(10)"
   ]
  },
  {
   "cell_type": "code",
   "execution_count": 83,
   "id": "e6d20fa0",
   "metadata": {},
   "outputs": [
    {
     "data": {
      "text/html": [
       "<div>\n",
       "<style scoped>\n",
       "    .dataframe tbody tr th:only-of-type {\n",
       "        vertical-align: middle;\n",
       "    }\n",
       "\n",
       "    .dataframe tbody tr th {\n",
       "        vertical-align: top;\n",
       "    }\n",
       "\n",
       "    .dataframe thead th {\n",
       "        text-align: right;\n",
       "    }\n",
       "</style>\n",
       "<table border=\"1\" class=\"dataframe\">\n",
       "  <thead>\n",
       "    <tr style=\"text-align: right;\">\n",
       "      <th></th>\n",
       "      <th></th>\n",
       "      <th>name</th>\n",
       "      <th>country</th>\n",
       "      <th>sector</th>\n",
       "      <th>website</th>\n",
       "      <th>ceo</th>\n",
       "      <th>score</th>\n",
       "      <th>null_values</th>\n",
       "    </tr>\n",
       "  </thead>\n",
       "  <tbody>\n",
       "    <tr>\n",
       "      <th rowspan=\"5\" valign=\"top\">0</th>\n",
       "      <th>0</th>\n",
       "      <td>1.0</td>\n",
       "      <td>1.0</td>\n",
       "      <td>0.0</td>\n",
       "      <td>0.0</td>\n",
       "      <td>0.0</td>\n",
       "      <td>2.0</td>\n",
       "      <td>3</td>\n",
       "    </tr>\n",
       "    <tr>\n",
       "      <th>17</th>\n",
       "      <td>0.0</td>\n",
       "      <td>0.0</td>\n",
       "      <td>0.0</td>\n",
       "      <td>0.0</td>\n",
       "      <td>0.0</td>\n",
       "      <td>0.0</td>\n",
       "      <td>3</td>\n",
       "    </tr>\n",
       "    <tr>\n",
       "      <th>18</th>\n",
       "      <td>0.0</td>\n",
       "      <td>0.0</td>\n",
       "      <td>0.0</td>\n",
       "      <td>0.0</td>\n",
       "      <td>0.0</td>\n",
       "      <td>0.0</td>\n",
       "      <td>3</td>\n",
       "    </tr>\n",
       "    <tr>\n",
       "      <th>19</th>\n",
       "      <td>0.0</td>\n",
       "      <td>0.0</td>\n",
       "      <td>0.0</td>\n",
       "      <td>0.0</td>\n",
       "      <td>0.0</td>\n",
       "      <td>0.0</td>\n",
       "      <td>3</td>\n",
       "    </tr>\n",
       "    <tr>\n",
       "      <th>20</th>\n",
       "      <td>0.0</td>\n",
       "      <td>0.0</td>\n",
       "      <td>0.0</td>\n",
       "      <td>0.0</td>\n",
       "      <td>0.0</td>\n",
       "      <td>0.0</td>\n",
       "      <td>3</td>\n",
       "    </tr>\n",
       "  </tbody>\n",
       "</table>\n",
       "</div>"
      ],
      "text/plain": [
       "      name  country  sector  website  ceo  score  null_values\n",
       "0 0    1.0      1.0     0.0      0.0  0.0    2.0            3\n",
       "  17   0.0      0.0     0.0      0.0  0.0    0.0            3\n",
       "  18   0.0      0.0     0.0      0.0  0.0    0.0            3\n",
       "  19   0.0      0.0     0.0      0.0  0.0    0.0            3\n",
       "  20   0.0      0.0     0.0      0.0  0.0    0.0            3"
      ]
     },
     "execution_count": 83,
     "metadata": {},
     "output_type": "execute_result"
    }
   ],
   "source": [
    "training_features = training_features.fillna(0)\n",
    "training_features.head()"
   ]
  },
  {
   "cell_type": "markdown",
   "id": "eabf3ade",
   "metadata": {},
   "source": [
    "#### Classifier"
   ]
  },
  {
   "cell_type": "code",
   "execution_count": 84,
   "id": "98e68b6d",
   "metadata": {},
   "outputs": [],
   "source": [
    "classifier = recordlinkage.NaiveBayesClassifier()\n",
    "classifier.fit(training_features, training_matches)"
   ]
  },
  {
   "cell_type": "markdown",
   "id": "a25ceab1",
   "metadata": {},
   "source": [
    "## Testing"
   ]
  },
  {
   "cell_type": "code",
   "execution_count": 85,
   "id": "09625fb5",
   "metadata": {},
   "outputs": [],
   "source": [
    "compare = recordlinkage.Compare()\n",
    "\n",
    "compare.string('name', 'name', label=\"name\", threshold=0.60)\n",
    "compare.string('country', 'country', label=\"country\", threshold=0.60, missing_value=np.nan)\n",
    "compare.string('sector', 'sector', label=\"sector\", threshold=0.50, missing_value=np.nan)\n",
    "compare.string('website', 'website', method='jarowinkler', label=\"website\", threshold=0.50, missing_value=np.nan)\n",
    "compare.string('ceo', 'ceo', method='jarowinkler', label=\"ceo\", threshold=0.60, missing_value=np.nan)\n",
    "\n",
    "test_features = compare.compute(test_pairs, final, final)\n",
    "test_features['score'] = test_features.loc[:, 'name':'ceo'].sum(axis=1)\n",
    "test_features['null_values'] = test_features.loc[:, 'name':'ceo'].isnull().sum(axis=1)"
   ]
  },
  {
   "cell_type": "code",
   "execution_count": 86,
   "id": "355a05cb",
   "metadata": {},
   "outputs": [],
   "source": [
    "col = len(final.columns) - 4\n",
    "test_matches = test_features[test_features['score'] >= (col - test_features['null_values'])/2]\n",
    "matches_test = test_matches\n",
    "test_matches = test_matches.reset_index()"
   ]
  },
  {
   "cell_type": "code",
   "execution_count": 87,
   "id": "00f0fb59",
   "metadata": {},
   "outputs": [
    {
     "data": {
      "text/html": [
       "<div>\n",
       "<style scoped>\n",
       "    .dataframe tbody tr th:only-of-type {\n",
       "        vertical-align: middle;\n",
       "    }\n",
       "\n",
       "    .dataframe tbody tr th {\n",
       "        vertical-align: top;\n",
       "    }\n",
       "\n",
       "    .dataframe thead th {\n",
       "        text-align: right;\n",
       "    }\n",
       "</style>\n",
       "<table border=\"1\" class=\"dataframe\">\n",
       "  <thead>\n",
       "    <tr style=\"text-align: right;\">\n",
       "      <th></th>\n",
       "      <th>level_0</th>\n",
       "      <th>level_1</th>\n",
       "    </tr>\n",
       "  </thead>\n",
       "  <tbody>\n",
       "    <tr>\n",
       "      <th>0</th>\n",
       "      <td>138407</td>\n",
       "      <td>138407</td>\n",
       "    </tr>\n",
       "    <tr>\n",
       "      <th>1</th>\n",
       "      <td>138407</td>\n",
       "      <td>138408</td>\n",
       "    </tr>\n",
       "    <tr>\n",
       "      <th>2</th>\n",
       "      <td>138407</td>\n",
       "      <td>138409</td>\n",
       "    </tr>\n",
       "    <tr>\n",
       "      <th>3</th>\n",
       "      <td>138407</td>\n",
       "      <td>138410</td>\n",
       "    </tr>\n",
       "    <tr>\n",
       "      <th>4</th>\n",
       "      <td>138407</td>\n",
       "      <td>138411</td>\n",
       "    </tr>\n",
       "  </tbody>\n",
       "</table>\n",
       "</div>"
      ],
      "text/plain": [
       "   level_0  level_1\n",
       "0   138407   138407\n",
       "1   138407   138408\n",
       "2   138407   138409\n",
       "3   138407   138410\n",
       "4   138407   138411"
      ]
     },
     "execution_count": 87,
     "metadata": {},
     "output_type": "execute_result"
    }
   ],
   "source": [
    "# toDrop = ['name', 'country', 'sector', 'founded', 'marketcap', 'revenue', 'employees', 'website', 'ceo', 'score', 'null_values']\n",
    "toDrop = ['name', 'country', 'sector', 'website', 'ceo', 'score', 'null_values']\n",
    "test_matches = test_matches.drop(toDrop, axis=1)\n",
    "test_matches.head()"
   ]
  },
  {
   "cell_type": "code",
   "execution_count": 88,
   "id": "ddbdd16c",
   "metadata": {},
   "outputs": [],
   "source": [
    "test_matches = pd.MultiIndex.from_frame(test_matches)"
   ]
  },
  {
   "cell_type": "code",
   "execution_count": 89,
   "id": "bbad7be0",
   "metadata": {},
   "outputs": [],
   "source": [
    "dictionary_test = createDictionary(test_matches)"
   ]
  },
  {
   "cell_type": "code",
   "execution_count": 90,
   "id": "7baafe5b",
   "metadata": {},
   "outputs": [
    {
     "name": "stdout",
     "output_type": "stream",
     "text": [
      "0\n"
     ]
    }
   ],
   "source": [
    "df_collapsed_test, indexesToDeleteTest = collapseMatches(final, dictionary_test)\n",
    "#df_collapsed_test.to_csv('./src/test_matches_collapsed.csv', index=False)"
   ]
  },
  {
   "cell_type": "code",
   "execution_count": 91,
   "id": "075bc156",
   "metadata": {},
   "outputs": [
    {
     "data": {
      "text/html": [
       "<div>\n",
       "<style scoped>\n",
       "    .dataframe tbody tr th:only-of-type {\n",
       "        vertical-align: middle;\n",
       "    }\n",
       "\n",
       "    .dataframe tbody tr th {\n",
       "        vertical-align: top;\n",
       "    }\n",
       "\n",
       "    .dataframe thead th {\n",
       "        text-align: right;\n",
       "    }\n",
       "</style>\n",
       "<table border=\"1\" class=\"dataframe\">\n",
       "  <thead>\n",
       "    <tr style=\"text-align: right;\">\n",
       "      <th></th>\n",
       "      <th></th>\n",
       "      <th>name</th>\n",
       "      <th>country</th>\n",
       "      <th>sector</th>\n",
       "      <th>website</th>\n",
       "      <th>ceo</th>\n",
       "      <th>score</th>\n",
       "      <th>null_values</th>\n",
       "    </tr>\n",
       "  </thead>\n",
       "  <tbody>\n",
       "    <tr>\n",
       "      <th rowspan=\"5\" valign=\"top\">138406</th>\n",
       "      <th>138415</th>\n",
       "      <td>0.0</td>\n",
       "      <td>0.0</td>\n",
       "      <td>0.0</td>\n",
       "      <td>0.0</td>\n",
       "      <td>0.0</td>\n",
       "      <td>0.0</td>\n",
       "      <td>3</td>\n",
       "    </tr>\n",
       "    <tr>\n",
       "      <th>138416</th>\n",
       "      <td>0.0</td>\n",
       "      <td>0.0</td>\n",
       "      <td>0.0</td>\n",
       "      <td>0.0</td>\n",
       "      <td>0.0</td>\n",
       "      <td>0.0</td>\n",
       "      <td>3</td>\n",
       "    </tr>\n",
       "    <tr>\n",
       "      <th>138417</th>\n",
       "      <td>0.0</td>\n",
       "      <td>0.0</td>\n",
       "      <td>0.0</td>\n",
       "      <td>0.0</td>\n",
       "      <td>0.0</td>\n",
       "      <td>0.0</td>\n",
       "      <td>3</td>\n",
       "    </tr>\n",
       "    <tr>\n",
       "      <th>138418</th>\n",
       "      <td>0.0</td>\n",
       "      <td>0.0</td>\n",
       "      <td>0.0</td>\n",
       "      <td>0.0</td>\n",
       "      <td>0.0</td>\n",
       "      <td>0.0</td>\n",
       "      <td>3</td>\n",
       "    </tr>\n",
       "    <tr>\n",
       "      <th>138419</th>\n",
       "      <td>0.0</td>\n",
       "      <td>0.0</td>\n",
       "      <td>0.0</td>\n",
       "      <td>0.0</td>\n",
       "      <td>0.0</td>\n",
       "      <td>0.0</td>\n",
       "      <td>3</td>\n",
       "    </tr>\n",
       "  </tbody>\n",
       "</table>\n",
       "</div>"
      ],
      "text/plain": [
       "               name  country  sector  website  ceo  score  null_values\n",
       "138406 138415   0.0      0.0     0.0      0.0  0.0    0.0            3\n",
       "       138416   0.0      0.0     0.0      0.0  0.0    0.0            3\n",
       "       138417   0.0      0.0     0.0      0.0  0.0    0.0            3\n",
       "       138418   0.0      0.0     0.0      0.0  0.0    0.0            3\n",
       "       138419   0.0      0.0     0.0      0.0  0.0    0.0            3"
      ]
     },
     "execution_count": 91,
     "metadata": {},
     "output_type": "execute_result"
    }
   ],
   "source": [
    "test_features = test_features.fillna(0)\n",
    "test_features.head()"
   ]
  },
  {
   "cell_type": "code",
   "execution_count": 92,
   "id": "af11deaa",
   "metadata": {},
   "outputs": [],
   "source": [
    "predictions = classifier.predict(test_features)"
   ]
  },
  {
   "cell_type": "markdown",
   "id": "6e116d2e",
   "metadata": {},
   "source": [
    "## Evaluation"
   ]
  },
  {
   "cell_type": "code",
   "execution_count": 93,
   "id": "662bc1da",
   "metadata": {},
   "outputs": [
    {
     "name": "stdout",
     "output_type": "stream",
     "text": [
      "[[398934      0]\n",
      " [ 21868 695769]]\n",
      "\n",
      "Recall: 1.0\n",
      "Precision: 0.9480325663851408\n",
      "F-score: 0.9733231186625938\n",
      "Accuracy: 0.980415038542108\n"
     ]
    }
   ],
   "source": [
    "# Confusion matrix\n",
    "confusion_matrix = recordlinkage.confusion_matrix(test_matches, predictions, len(test_features))\n",
    "print(confusion_matrix)\n",
    "\n",
    "\n",
    "# Metrics\n",
    "recall = recordlinkage.recall(test_matches, predictions)\n",
    "print('\\nRecall:', recall)\n",
    "precision = recordlinkage.precision(test_matches, predictions)\n",
    "print('Precision:', precision)\n",
    "fscore = recordlinkage.fscore(confusion_matrix)\n",
    "print('F-score:', fscore)\n",
    "accuracy = recordlinkage.accuracy(test_matches, predictions, len(test_features))\n",
    "print('Accuracy:', accuracy)"
   ]
  },
  {
   "cell_type": "code",
   "execution_count": 94,
   "id": "cf70692c",
   "metadata": {},
   "outputs": [
    {
     "data": {
      "text/plain": [
       "MultiIndex([], )"
      ]
     },
     "execution_count": 94,
     "metadata": {},
     "output_type": "execute_result"
    }
   ],
   "source": [
    "false_negatives = test_matches.difference(predictions)\n",
    "false_negatives"
   ]
  },
  {
   "cell_type": "code",
   "execution_count": 95,
   "id": "3285431a",
   "metadata": {},
   "outputs": [
    {
     "name": "stdout",
     "output_type": "stream",
     "text": [
      "No False Negatives Present\n"
     ]
    }
   ],
   "source": [
    "try:\n",
    "    fn_from_dfA = false_negatives[0][0]\n",
    "    fn_from_dfB = false_negatives[0][1]\n",
    "\n",
    "    display(final[final.index == fn_from_dfA])\n",
    "    display(final[final.index == fn_from_dfB])\n",
    "except:\n",
    "    print(\"No False Negatives Present\")"
   ]
  },
  {
   "cell_type": "code",
   "execution_count": 96,
   "id": "79c962b5",
   "metadata": {},
   "outputs": [
    {
     "name": "stdout",
     "output_type": "stream",
     "text": [
      "No False Negatives Present\n"
     ]
    }
   ],
   "source": [
    "try: \n",
    "    fn_from_dfA = false_negatives[1][0]\n",
    "    fn_from_dfB = false_negatives[1][1]\n",
    "\n",
    "    display(final[final.index == fn_from_dfA])\n",
    "    display(final[final.index == fn_from_dfB])\n",
    "except: \n",
    "    print(\"No False Negatives Present\")"
   ]
  },
  {
   "cell_type": "markdown",
   "id": "9d75612e",
   "metadata": {},
   "source": [
    "## Linking tables"
   ]
  },
  {
   "cell_type": "code",
   "execution_count": 97,
   "id": "e81c964b",
   "metadata": {},
   "outputs": [],
   "source": [
    "new_companies = pd.concat([df_collapsed_train, df_collapsed_test])"
   ]
  },
  {
   "cell_type": "code",
   "execution_count": 98,
   "id": "5a9dbc83",
   "metadata": {},
   "outputs": [],
   "source": [
    "new_companies = new_companies.reset_index()"
   ]
  },
  {
   "cell_type": "code",
   "execution_count": 99,
   "id": "f4fdf1ad",
   "metadata": {},
   "outputs": [],
   "source": [
    "new_companies = new_companies.drop(columns=['index'])"
   ]
  },
  {
   "cell_type": "code",
   "execution_count": 100,
   "id": "06fade48",
   "metadata": {},
   "outputs": [
    {
     "data": {
      "text/html": [
       "<div>\n",
       "<style scoped>\n",
       "    .dataframe tbody tr th:only-of-type {\n",
       "        vertical-align: middle;\n",
       "    }\n",
       "\n",
       "    .dataframe tbody tr th {\n",
       "        vertical-align: top;\n",
       "    }\n",
       "\n",
       "    .dataframe thead th {\n",
       "        text-align: right;\n",
       "    }\n",
       "</style>\n",
       "<table border=\"1\" class=\"dataframe\">\n",
       "  <thead>\n",
       "    <tr style=\"text-align: right;\">\n",
       "      <th></th>\n",
       "      <th>name</th>\n",
       "      <th>country</th>\n",
       "      <th>sector</th>\n",
       "      <th>founded</th>\n",
       "      <th>marketcap</th>\n",
       "      <th>revenue</th>\n",
       "      <th>employees</th>\n",
       "      <th>website</th>\n",
       "      <th>ceo</th>\n",
       "    </tr>\n",
       "  </thead>\n",
       "  <tbody>\n",
       "    <tr>\n",
       "      <th>0</th>\n",
       "      <td>0044 LIMITED</td>\n",
       "      <td>UNITED KINGDOM</td>\n",
       "      <td>NaN</td>\n",
       "      <td>NaN</td>\n",
       "      <td>NaN</td>\n",
       "      <td>NaN</td>\n",
       "      <td>NaN</td>\n",
       "      <td>NaN</td>\n",
       "      <td>NaN</td>\n",
       "    </tr>\n",
       "    <tr>\n",
       "      <th>1</th>\n",
       "      <td>0X</td>\n",
       "      <td>UNITED STATES</td>\n",
       "      <td>FINTECH</td>\n",
       "      <td>2016.0</td>\n",
       "      <td>NaN</td>\n",
       "      <td>NaN</td>\n",
       "      <td>NaN</td>\n",
       "      <td>NaN</td>\n",
       "      <td>NaN</td>\n",
       "    </tr>\n",
       "    <tr>\n",
       "      <th>2</th>\n",
       "      <td>1 1</td>\n",
       "      <td>GERMANY</td>\n",
       "      <td>TELECOMMUNICATION INTERNET</td>\n",
       "      <td>1983.0</td>\n",
       "      <td>2320000000.0</td>\n",
       "      <td>4312000.0</td>\n",
       "      <td>3163.0</td>\n",
       "      <td>HTTPS://WWW.1UND1-DRILLISCH.DE</td>\n",
       "      <td>MR RALPH DOMMERMUTH</td>\n",
       "    </tr>\n",
       "    <tr>\n",
       "      <th>3</th>\n",
       "      <td>1 800 FLOWERS</td>\n",
       "      <td>USA</td>\n",
       "      <td>E COMMERCE INTERNET TECH</td>\n",
       "      <td>NaN</td>\n",
       "      <td>650000000.0</td>\n",
       "      <td>1860000000.0</td>\n",
       "      <td>4700.0</td>\n",
       "      <td>HTTPS://WWW.1800FLOWERS.COM/</td>\n",
       "      <td>NaN</td>\n",
       "    </tr>\n",
       "    <tr>\n",
       "      <th>4</th>\n",
       "      <td>1 INDIA FAMILY MART</td>\n",
       "      <td>INDIA</td>\n",
       "      <td>RETAIL</td>\n",
       "      <td>2012.0</td>\n",
       "      <td>NaN</td>\n",
       "      <td>NaN</td>\n",
       "      <td>NaN</td>\n",
       "      <td>NaN</td>\n",
       "      <td>NaN</td>\n",
       "    </tr>\n",
       "  </tbody>\n",
       "</table>\n",
       "</div>"
      ],
      "text/plain": [
       "                  name         country                      sector founded  \\\n",
       "0         0044 LIMITED  UNITED KINGDOM                         NaN     NaN   \n",
       "1                   0X   UNITED STATES                     FINTECH  2016.0   \n",
       "2                  1 1         GERMANY  TELECOMMUNICATION INTERNET  1983.0   \n",
       "3        1 800 FLOWERS             USA    E COMMERCE INTERNET TECH     NaN   \n",
       "4  1 INDIA FAMILY MART           INDIA                      RETAIL  2012.0   \n",
       "\n",
       "      marketcap       revenue employees                         website  \\\n",
       "0           NaN           NaN       NaN                             NaN   \n",
       "1           NaN           NaN       NaN                             NaN   \n",
       "2  2320000000.0     4312000.0    3163.0  HTTPS://WWW.1UND1-DRILLISCH.DE   \n",
       "3   650000000.0  1860000000.0    4700.0    HTTPS://WWW.1800FLOWERS.COM/   \n",
       "4           NaN           NaN       NaN                             NaN   \n",
       "\n",
       "                   ceo  \n",
       "0                  NaN  \n",
       "1                  NaN  \n",
       "2  MR RALPH DOMMERMUTH  \n",
       "3                  NaN  \n",
       "4                  NaN  "
      ]
     },
     "execution_count": 100,
     "metadata": {},
     "output_type": "execute_result"
    }
   ],
   "source": [
    "new_companies.head()"
   ]
  },
  {
   "cell_type": "code",
   "execution_count": 101,
   "id": "4d7b6f33",
   "metadata": {},
   "outputs": [],
   "source": [
    "# new_companies.to_csv('src/first_new_dataset.csv')"
   ]
  },
  {
   "cell_type": "markdown",
   "id": "6f6b2f88",
   "metadata": {},
   "source": [
    "## Seconda passata di Matching"
   ]
  },
  {
   "cell_type": "code",
   "execution_count": 102,
   "id": "b3d34c78",
   "metadata": {},
   "outputs": [
    {
     "name": "stdout",
     "output_type": "stream",
     "text": [
      "35043\n",
      "0\n",
      "10000\n",
      "20000\n",
      "30000\n",
      "82.35908126831055\n"
     ]
    }
   ],
   "source": [
    "indexer = CustomIndex()\n",
    "candidate_pairs2 = indexer.index(new_companies, new_companies)\n",
    "pairs2 = candidate_pairs2"
   ]
  },
  {
   "cell_type": "code",
   "execution_count": 103,
   "id": "006b138b",
   "metadata": {},
   "outputs": [
    {
     "data": {
      "text/plain": [
       "MultiIndex([(    0,     0),\n",
       "            (    0,     3),\n",
       "            (    0,     6),\n",
       "            (    0,     8),\n",
       "            (    0,    13),\n",
       "            (    0,    15),\n",
       "            (    0,    26),\n",
       "            (    0,    38),\n",
       "            (    0,    39),\n",
       "            (    1,     1),\n",
       "            ...\n",
       "            (35037, 35037),\n",
       "            (35037, 35038),\n",
       "            (35037, 35040),\n",
       "            (35038, 35038),\n",
       "            (35038, 35040),\n",
       "            (35039, 35039),\n",
       "            (35039, 35041),\n",
       "            (35040, 35040),\n",
       "            (35040, 35041),\n",
       "            (35041, 35041)],\n",
       "           length=711633)"
      ]
     },
     "execution_count": 103,
     "metadata": {},
     "output_type": "execute_result"
    }
   ],
   "source": [
    "pairs2"
   ]
  },
  {
   "cell_type": "code",
   "execution_count": 104,
   "id": "23e45b71",
   "metadata": {},
   "outputs": [],
   "source": [
    "compare = recordlinkage.Compare()\n",
    "compare.string('name', 'name', label=\"name\", threshold=0.60)\n",
    "\n",
    "features = compare.compute(pairs2, new_companies, new_companies)"
   ]
  },
  {
   "cell_type": "code",
   "execution_count": 105,
   "id": "771d8b8e",
   "metadata": {},
   "outputs": [
    {
     "data": {
      "text/html": [
       "<div>\n",
       "<style scoped>\n",
       "    .dataframe tbody tr th:only-of-type {\n",
       "        vertical-align: middle;\n",
       "    }\n",
       "\n",
       "    .dataframe tbody tr th {\n",
       "        vertical-align: top;\n",
       "    }\n",
       "\n",
       "    .dataframe thead th {\n",
       "        text-align: right;\n",
       "    }\n",
       "</style>\n",
       "<table border=\"1\" class=\"dataframe\">\n",
       "  <thead>\n",
       "    <tr style=\"text-align: right;\">\n",
       "      <th></th>\n",
       "      <th></th>\n",
       "      <th>name</th>\n",
       "    </tr>\n",
       "  </thead>\n",
       "  <tbody>\n",
       "    <tr>\n",
       "      <th rowspan=\"5\" valign=\"top\">0</th>\n",
       "      <th>0</th>\n",
       "      <td>1.0</td>\n",
       "    </tr>\n",
       "    <tr>\n",
       "      <th>3</th>\n",
       "      <td>0.0</td>\n",
       "    </tr>\n",
       "    <tr>\n",
       "      <th>6</th>\n",
       "      <td>0.0</td>\n",
       "    </tr>\n",
       "    <tr>\n",
       "      <th>8</th>\n",
       "      <td>0.0</td>\n",
       "    </tr>\n",
       "    <tr>\n",
       "      <th>13</th>\n",
       "      <td>0.0</td>\n",
       "    </tr>\n",
       "  </tbody>\n",
       "</table>\n",
       "</div>"
      ],
      "text/plain": [
       "      name\n",
       "0 0    1.0\n",
       "  3    0.0\n",
       "  6    0.0\n",
       "  8    0.0\n",
       "  13   0.0"
      ]
     },
     "execution_count": 105,
     "metadata": {},
     "output_type": "execute_result"
    }
   ],
   "source": [
    "features.head()"
   ]
  },
  {
   "cell_type": "code",
   "execution_count": 106,
   "id": "bbda3554",
   "metadata": {},
   "outputs": [],
   "source": [
    "matches = features[features['name'] == 1]\n",
    "matches = matches.drop(columns = ['name'])\n",
    "matches = matches.reset_index()"
   ]
  },
  {
   "cell_type": "code",
   "execution_count": 107,
   "id": "ef1a1ce5",
   "metadata": {},
   "outputs": [
    {
     "data": {
      "text/html": [
       "<div>\n",
       "<style scoped>\n",
       "    .dataframe tbody tr th:only-of-type {\n",
       "        vertical-align: middle;\n",
       "    }\n",
       "\n",
       "    .dataframe tbody tr th {\n",
       "        vertical-align: top;\n",
       "    }\n",
       "\n",
       "    .dataframe thead th {\n",
       "        text-align: right;\n",
       "    }\n",
       "</style>\n",
       "<table border=\"1\" class=\"dataframe\">\n",
       "  <thead>\n",
       "    <tr style=\"text-align: right;\">\n",
       "      <th></th>\n",
       "      <th>level_0</th>\n",
       "      <th>level_1</th>\n",
       "    </tr>\n",
       "  </thead>\n",
       "  <tbody>\n",
       "    <tr>\n",
       "      <th>0</th>\n",
       "      <td>0</td>\n",
       "      <td>0</td>\n",
       "    </tr>\n",
       "    <tr>\n",
       "      <th>1</th>\n",
       "      <td>1</td>\n",
       "      <td>1</td>\n",
       "    </tr>\n",
       "    <tr>\n",
       "      <th>2</th>\n",
       "      <td>2</td>\n",
       "      <td>2</td>\n",
       "    </tr>\n",
       "    <tr>\n",
       "      <th>3</th>\n",
       "      <td>3</td>\n",
       "      <td>3</td>\n",
       "    </tr>\n",
       "    <tr>\n",
       "      <th>4</th>\n",
       "      <td>4</td>\n",
       "      <td>4</td>\n",
       "    </tr>\n",
       "  </tbody>\n",
       "</table>\n",
       "</div>"
      ],
      "text/plain": [
       "   level_0  level_1\n",
       "0        0        0\n",
       "1        1        1\n",
       "2        2        2\n",
       "3        3        3\n",
       "4        4        4"
      ]
     },
     "execution_count": 107,
     "metadata": {},
     "output_type": "execute_result"
    }
   ],
   "source": [
    "matches.head()"
   ]
  },
  {
   "cell_type": "code",
   "execution_count": 108,
   "id": "803f8215",
   "metadata": {},
   "outputs": [],
   "source": [
    "matches_index = pd.MultiIndex.from_frame(matches)"
   ]
  },
  {
   "cell_type": "code",
   "execution_count": 109,
   "id": "15df4401",
   "metadata": {},
   "outputs": [
    {
     "data": {
      "text/plain": [
       "MultiIndex([(    0,     0),\n",
       "            (    1,     1),\n",
       "            (    2,     2),\n",
       "            (    3,     3),\n",
       "            (    4,     4),\n",
       "            (    5,     5),\n",
       "            (    6,     6),\n",
       "            (    7,     7),\n",
       "            (    8,     8),\n",
       "            (    9,     9),\n",
       "            ...\n",
       "            (35032, 35032),\n",
       "            (35033, 35033),\n",
       "            (35034, 35034),\n",
       "            (35035, 35035),\n",
       "            (35036, 35036),\n",
       "            (35037, 35037),\n",
       "            (35038, 35038),\n",
       "            (35039, 35039),\n",
       "            (35040, 35040),\n",
       "            (35041, 35041)],\n",
       "           names=['level_0', 'level_1'], length=41759)"
      ]
     },
     "execution_count": 109,
     "metadata": {},
     "output_type": "execute_result"
    }
   ],
   "source": [
    "matches_index"
   ]
  },
  {
   "cell_type": "code",
   "execution_count": 110,
   "id": "ffa1df7b",
   "metadata": {},
   "outputs": [],
   "source": [
    "dictionary_final = createDictionary(matches_index)"
   ]
  },
  {
   "cell_type": "code",
   "execution_count": 111,
   "id": "d4329343",
   "metadata": {},
   "outputs": [
    {
     "name": "stdout",
     "output_type": "stream",
     "text": [
      "0\n",
      "10000\n",
      "20000\n",
      "30000\n"
     ]
    }
   ],
   "source": [
    "collapsed_df_final, indexesToDeleteFinal = collapseMatches(new_companies, dictionary_final)"
   ]
  },
  {
   "cell_type": "code",
   "execution_count": 115,
   "id": "6fcfcf38",
   "metadata": {},
   "outputs": [],
   "source": [
    "collapsed_df_final.founded = collapsed_df_final.founded.astype(object).astype('Int64')\n",
    "collapsed_df_final.marketcap = collapsed_df_final.marketcap.astype(object).astype('Int64')\n",
    "collapsed_df_final.revenue = collapsed_df_final.revenue.astype(object).astype('Int64')\n",
    "collapsed_df_final.employees = collapsed_df_final.employees.astype(object).astype('Int64')"
   ]
  },
  {
   "cell_type": "code",
   "execution_count": 116,
   "id": "a16933ff",
   "metadata": {},
   "outputs": [],
   "source": [
    "collapsed_df_final.to_csv('./src/linked_dataset.csv')"
   ]
  },
  {
   "cell_type": "code",
   "execution_count": 113,
   "id": "1c6c227b",
   "metadata": {},
   "outputs": [
    {
     "name": "stdout",
     "output_type": "stream",
     "text": [
      "970.8166949748993\n"
     ]
    }
   ],
   "source": [
    "t_end = time.time()\n",
    "print(t_end-t_start)"
   ]
  }
 ],
 "metadata": {
  "kernelspec": {
   "display_name": "Python 3 (ipykernel)",
   "language": "python",
   "name": "python3"
  },
  "language_info": {
   "codemirror_mode": {
    "name": "ipython",
    "version": 3
   },
   "file_extension": ".py",
   "mimetype": "text/x-python",
   "name": "python",
   "nbconvert_exporter": "python",
   "pygments_lexer": "ipython3",
   "version": "3.9.2"
  },
  "vscode": {
   "interpreter": {
    "hash": "aee8b7b246df8f9039afb4144a1f6fd8d2ca17a180786b69acc140d282b71a49"
   }
  }
 },
 "nbformat": 4,
 "nbformat_minor": 5
}
