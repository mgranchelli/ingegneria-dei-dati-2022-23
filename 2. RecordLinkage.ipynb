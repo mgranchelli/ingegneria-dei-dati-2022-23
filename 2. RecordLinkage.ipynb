{
 "cells": [
  {
   "cell_type": "markdown",
   "id": "f114a247",
   "metadata": {},
   "source": [
    "## Record Linkage"
   ]
  },
  {
   "cell_type": "code",
   "execution_count": null,
   "id": "58910cdf",
   "metadata": {},
   "outputs": [],
   "source": [
    "!pip install recordlinkage --q"
   ]
  },
  {
   "cell_type": "code",
   "execution_count": null,
   "id": "5ead78a9",
   "metadata": {},
   "outputs": [],
   "source": [
    "import numpy as np \n",
    "import pandas as pd\n",
    "import recordlinkage\n",
    "import time"
   ]
  },
  {
   "cell_type": "code",
   "execution_count": null,
   "id": "512e7651",
   "metadata": {},
   "outputs": [],
   "source": [
    "t_start = time.time()"
   ]
  },
  {
   "cell_type": "code",
   "execution_count": null,
   "id": "ff3b3f97",
   "metadata": {},
   "outputs": [],
   "source": [
    "final = pd.read_csv(\"src/aligned_dataset.csv\")\n",
    "final = final.drop(columns=['Unnamed: 0'])\n",
    "final.head()"
   ]
  },
  {
   "cell_type": "code",
   "execution_count": null,
   "id": "34d90ce0",
   "metadata": {},
   "outputs": [],
   "source": [
    "final = final.sort_values('name')\n",
    "final = final.reset_index(drop=True)\n",
    "final.head()"
   ]
  },
  {
   "cell_type": "code",
   "execution_count": null,
   "id": "eff8379d",
   "metadata": {},
   "outputs": [],
   "source": [
    "# final.to_csv(\"./src/sorted_final_dataset.csv\")"
   ]
  },
  {
   "cell_type": "code",
   "execution_count": null,
   "id": "bd412c40",
   "metadata": {},
   "outputs": [],
   "source": [
    "final.info()"
   ]
  },
  {
   "cell_type": "markdown",
   "id": "a4f223ca",
   "metadata": {},
   "source": [
    "## Index"
   ]
  },
  {
   "cell_type": "code",
   "execution_count": null,
   "id": "4d82f2cc",
   "metadata": {},
   "outputs": [],
   "source": [
    "from difflib import SequenceMatcher\n",
    "\n",
    "def similar(a, b):\n",
    "    return SequenceMatcher(None, a, b).ratio()"
   ]
  },
  {
   "cell_type": "code",
   "execution_count": null,
   "id": "6d5732e7",
   "metadata": {},
   "outputs": [],
   "source": [
    "from recordlinkage.base import BaseIndexAlgorithm\n",
    "class CustomIndex(BaseIndexAlgorithm):\n",
    "    def _link_index(self, df_a, df_b):\n",
    "        t0 = time.time()\n",
    "        print(len(df_a))\n",
    "        indici1=[]\n",
    "        indici2=[]\n",
    "        x = 50\n",
    "        for i in range(0, len(df_a)):\n",
    "            if(i%10000 == 0):\n",
    "                print(i)\n",
    "            if (i + x) >= len(df_a):\n",
    "                    x -= 1\n",
    "            for j in range(i, (i+x)):\n",
    "                if(similar(df_a.loc[i, 'name'], df_a.loc[j, 'name'])>0.35):\n",
    "                    indici1.append(i)\n",
    "                    indici2.append(j)\n",
    "        indici = [indici1, indici2]\n",
    "        t1 = time.time()\n",
    "        print(t1-t0)\n",
    "        return pd.MultiIndex.from_arrays(indici, names=('first', 'second'))  "
   ]
  },
  {
   "cell_type": "code",
   "execution_count": null,
   "id": "7cc53c6e",
   "metadata": {},
   "outputs": [],
   "source": [
    "indexer = CustomIndex()\n",
    "candidate_pairs = indexer.index(final, final)\n",
    "pairs = candidate_pairs"
   ]
  },
  {
   "cell_type": "code",
   "execution_count": null,
   "id": "c1a67fd2",
   "metadata": {},
   "outputs": [],
   "source": [
    "pairs"
   ]
  },
  {
   "cell_type": "code",
   "execution_count": null,
   "id": "9f9244b2",
   "metadata": {},
   "outputs": [],
   "source": [
    "# 80% training set, 20% test set\n",
    "n_perc = int((len(pairs) * 80) / 100)\n",
    "train_pairs = pairs[:n_perc]\n",
    "test_pairs = pairs[n_perc:]"
   ]
  },
  {
   "cell_type": "markdown",
   "id": "7b0ec846",
   "metadata": {},
   "source": [
    "## Training "
   ]
  },
  {
   "cell_type": "code",
   "execution_count": null,
   "id": "6fb96273",
   "metadata": {},
   "outputs": [],
   "source": [
    "from recordlinkage.base import BaseCompareFeature\n",
    "class CompareNumbers(BaseCompareFeature):\n",
    "    # Similarity score between two numbers\n",
    "    def _compute_vectorized(self, s1, s2):\n",
    "        s1 = abs(s1)\n",
    "        s2 = abs(s2)\n",
    "        return round(1 - abs(s1 - s2) / (s1 + s2))"
   ]
  },
  {
   "cell_type": "code",
   "execution_count": null,
   "id": "f4bf3197",
   "metadata": {},
   "outputs": [],
   "source": [
    "# jarowinkler gives priority to the begining of the string\n",
    "# levenshtein cares more about the order\n",
    "# compare.string -> default: levenshtein\n",
    "compare = recordlinkage.Compare()\n",
    "\n",
    "compare.string('name', 'name', label=\"name\", threshold=0.60)\n",
    "compare.string('country', 'country', label=\"country\", threshold=0.60, missing_value=np.nan)\n",
    "compare.string('sector', 'sector', label=\"sector\", threshold=0.50, missing_value=np.nan)\n",
    "compare.string('website', 'website', method='jarowinkler', label=\"website\", threshold=0.50, missing_value=np.nan)\n",
    "compare.string('ceo', 'ceo', method='jarowinkler', label=\"ceo\", threshold=0.60, missing_value=np.nan)\n",
    "\n",
    "training_features = compare.compute(train_pairs, final, final)\n",
    "training_features['score'] = training_features.loc[:, 'name':'ceo'].sum(axis=1)\n",
    "training_features['null_values'] = training_features.loc[:, 'name':'ceo'].isnull().sum(axis=1)"
   ]
  },
  {
   "cell_type": "code",
   "execution_count": null,
   "id": "10dfcbe1",
   "metadata": {},
   "outputs": [],
   "source": [
    "training_features.head(10)"
   ]
  },
  {
   "cell_type": "code",
   "execution_count": null,
   "id": "c744913a",
   "metadata": {},
   "outputs": [],
   "source": [
    "col = len(final.columns) - 4\n",
    "training_matches = training_features[training_features['score'] >= (col - training_features['null_values'])/2]\n",
    "matches_train = training_matches\n",
    "training_matches = training_matches.reset_index()"
   ]
  },
  {
   "cell_type": "code",
   "execution_count": null,
   "id": "ae8f3600",
   "metadata": {},
   "outputs": [],
   "source": [
    "# toDrop = ['name', 'country', 'sector', 'founded', 'marketcap', 'revenue', 'employees', 'website', 'ceo', 'score', 'null_values']\n",
    "toDrop = ['name', 'country', 'sector', 'website', 'ceo', 'score', 'null_values']\n",
    "training_matches = training_matches.drop(toDrop, axis=1)\n",
    "training_matches.head()"
   ]
  },
  {
   "cell_type": "code",
   "execution_count": null,
   "id": "9343bad5",
   "metadata": {},
   "outputs": [],
   "source": [
    "training_matches = pd.MultiIndex.from_frame(training_matches)"
   ]
  },
  {
   "cell_type": "code",
   "execution_count": null,
   "id": "159a2e9a",
   "metadata": {},
   "outputs": [],
   "source": [
    "training_matches"
   ]
  },
  {
   "cell_type": "code",
   "execution_count": null,
   "id": "8ac67eec",
   "metadata": {},
   "outputs": [],
   "source": [
    "def createDictionary(matches):\n",
    "    d = {}\n",
    "    ignoreSet = set()\n",
    "    for k, v in matches:\n",
    "        if k not in d.keys() and k not in ignoreSet:\n",
    "            d[k] = [k]\n",
    "            ignoreSet.add(k)\n",
    "        elif k in d.keys() and v not in ignoreSet:\n",
    "            d[k].append(v)\n",
    "            ignoreSet.add(v)\n",
    "    return d\n",
    "            "
   ]
  },
  {
   "cell_type": "code",
   "execution_count": null,
   "id": "70c99a03",
   "metadata": {},
   "outputs": [],
   "source": [
    "def collapseMatches(df, dict_matches):\n",
    "    df_collapsed = pd.DataFrame(columns=['name', 'country', 'sector', 'founded', 'marketcap', 'revenue', 'employees', 'website', 'ceo'])\n",
    "    indexesToDelete = []\n",
    "    i = 0\n",
    "    for k in dict_matches.keys():\n",
    "        if(i%10000==0):\n",
    "            print(i)\n",
    "        i+=1\n",
    "        indexesToDelete.append(k)\n",
    "        row = df[df.index == k]\n",
    "        for v in dict_matches[k]:\n",
    "            indexesToDelete.append(v)\n",
    "            for field in row:\n",
    "                if(row[field].isnull().values.any()):\n",
    "                    if(not df[df.index == v][field].isnull().values.any()):\n",
    "                        row.at[k, field] = df[df.index==v][field].values[0]\n",
    "        df_collapsed.loc[len(df_collapsed.index)]=row.values[0]\n",
    "    return df_collapsed, indexesToDelete"
   ]
  },
  {
   "cell_type": "code",
   "execution_count": null,
   "id": "4fd8856e",
   "metadata": {},
   "outputs": [],
   "source": [
    "dictionary = createDictionary(training_matches)"
   ]
  },
  {
   "cell_type": "code",
   "execution_count": null,
   "id": "1d82e1a2",
   "metadata": {},
   "outputs": [],
   "source": [
    "df_collapsed_train, indexesToDeleteGlobal = collapseMatches(final, dictionary)\n",
    "#df_collapsed_train.to_csv('./src/train_matches_collapsed.csv', index=False)"
   ]
  },
  {
   "cell_type": "code",
   "execution_count": null,
   "id": "2caf73bc",
   "metadata": {},
   "outputs": [],
   "source": [
    "df_collapsed_train.head(10)"
   ]
  },
  {
   "cell_type": "code",
   "execution_count": null,
   "id": "e6d20fa0",
   "metadata": {},
   "outputs": [],
   "source": [
    "training_features = training_features.fillna(0)\n",
    "training_features.head()"
   ]
  },
  {
   "cell_type": "markdown",
   "id": "eabf3ade",
   "metadata": {},
   "source": [
    "#### Classifier"
   ]
  },
  {
   "cell_type": "code",
   "execution_count": null,
   "id": "98e68b6d",
   "metadata": {},
   "outputs": [],
   "source": [
    "classifier = recordlinkage.NaiveBayesClassifier()\n",
    "classifier.fit(training_features, training_matches)"
   ]
  },
  {
   "cell_type": "markdown",
   "id": "a25ceab1",
   "metadata": {},
   "source": [
    "## Testing"
   ]
  },
  {
   "cell_type": "code",
   "execution_count": null,
   "id": "09625fb5",
   "metadata": {},
   "outputs": [],
   "source": [
    "compare = recordlinkage.Compare()\n",
    "\n",
    "compare.string('name', 'name', label=\"name\", threshold=0.60)\n",
    "compare.string('country', 'country', label=\"country\", threshold=0.60, missing_value=np.nan)\n",
    "compare.string('sector', 'sector', label=\"sector\", threshold=0.50, missing_value=np.nan)\n",
    "compare.string('website', 'website', method='jarowinkler', label=\"website\", threshold=0.50, missing_value=np.nan)\n",
    "compare.string('ceo', 'ceo', method='jarowinkler', label=\"ceo\", threshold=0.60, missing_value=np.nan)\n",
    "\n",
    "test_features = compare.compute(test_pairs, final, final)\n",
    "test_features['score'] = test_features.loc[:, 'name':'ceo'].sum(axis=1)\n",
    "test_features['null_values'] = test_features.loc[:, 'name':'ceo'].isnull().sum(axis=1)"
   ]
  },
  {
   "cell_type": "code",
   "execution_count": null,
   "id": "355a05cb",
   "metadata": {},
   "outputs": [],
   "source": [
    "col = len(final.columns) - 4\n",
    "test_matches = test_features[test_features['score'] >= (col - test_features['null_values'])/2]\n",
    "matches_test = test_matches\n",
    "test_matches = test_matches.reset_index()"
   ]
  },
  {
   "cell_type": "code",
   "execution_count": null,
   "id": "00f0fb59",
   "metadata": {},
   "outputs": [],
   "source": [
    "# toDrop = ['name', 'country', 'sector', 'founded', 'marketcap', 'revenue', 'employees', 'website', 'ceo', 'score', 'null_values']\n",
    "toDrop = ['name', 'country', 'sector', 'website', 'ceo', 'score', 'null_values']\n",
    "test_matches = test_matches.drop(toDrop, axis=1)\n",
    "test_matches.head()"
   ]
  },
  {
   "cell_type": "code",
   "execution_count": null,
   "id": "ddbdd16c",
   "metadata": {},
   "outputs": [],
   "source": [
    "test_matches = pd.MultiIndex.from_frame(test_matches)"
   ]
  },
  {
   "cell_type": "code",
   "execution_count": null,
   "id": "bbad7be0",
   "metadata": {},
   "outputs": [],
   "source": [
    "dictionary_test = createDictionary(test_matches)"
   ]
  },
  {
   "cell_type": "code",
   "execution_count": null,
   "id": "7baafe5b",
   "metadata": {},
   "outputs": [],
   "source": [
    "df_collapsed_test, indexesToDeleteTest = collapseMatches(final, dictionary_test)\n",
    "#df_collapsed_test.to_csv('./src/test_matches_collapsed.csv', index=False)"
   ]
  },
  {
   "cell_type": "code",
   "execution_count": null,
   "id": "075bc156",
   "metadata": {},
   "outputs": [],
   "source": [
    "test_features = test_features.fillna(0)\n",
    "test_features.head()"
   ]
  },
  {
   "cell_type": "code",
   "execution_count": null,
   "id": "af11deaa",
   "metadata": {},
   "outputs": [],
   "source": [
    "predictions = classifier.predict(test_features)"
   ]
  },
  {
   "cell_type": "markdown",
   "id": "6e116d2e",
   "metadata": {},
   "source": [
    "## Evaluation"
   ]
  },
  {
   "cell_type": "code",
   "execution_count": null,
   "id": "662bc1da",
   "metadata": {},
   "outputs": [],
   "source": [
    "# Confusion matrix\n",
    "confusion_matrix = recordlinkage.confusion_matrix(test_matches, predictions, len(test_features))\n",
    "print(confusion_matrix)\n",
    "\n",
    "\n",
    "# Metrics\n",
    "recall = recordlinkage.recall(test_matches, predictions)\n",
    "print('\\nRecall:', recall)\n",
    "precision = recordlinkage.precision(test_matches, predictions)\n",
    "print('Precision:', precision)\n",
    "fscore = recordlinkage.fscore(confusion_matrix)\n",
    "print('F-score:', fscore)\n",
    "accuracy = recordlinkage.accuracy(test_matches, predictions, len(test_features))\n",
    "print('Accuracy:', accuracy)"
   ]
  },
  {
   "cell_type": "code",
   "execution_count": null,
   "id": "cf70692c",
   "metadata": {},
   "outputs": [],
   "source": [
    "false_negatives = test_matches.difference(predictions)\n",
    "false_negatives"
   ]
  },
  {
   "cell_type": "code",
   "execution_count": null,
   "id": "3285431a",
   "metadata": {},
   "outputs": [],
   "source": [
    "try:\n",
    "    fn_from_dfA = false_negatives[0][0]\n",
    "    fn_from_dfB = false_negatives[0][1]\n",
    "\n",
    "    display(final[final.index == fn_from_dfA])\n",
    "    display(final[final.index == fn_from_dfB])\n",
    "except:\n",
    "    print(\"No False Negatives Present\")"
   ]
  },
  {
   "cell_type": "code",
   "execution_count": null,
   "id": "79c962b5",
   "metadata": {},
   "outputs": [],
   "source": [
    "try: \n",
    "    fn_from_dfA = false_negatives[1][0]\n",
    "    fn_from_dfB = false_negatives[1][1]\n",
    "\n",
    "    display(final[final.index == fn_from_dfA])\n",
    "    display(final[final.index == fn_from_dfB])\n",
    "except: \n",
    "    print(\"No False Negatives Present\")"
   ]
  },
  {
   "cell_type": "markdown",
   "id": "9d75612e",
   "metadata": {},
   "source": [
    "## Linking tables"
   ]
  },
  {
   "cell_type": "code",
   "execution_count": null,
   "id": "e81c964b",
   "metadata": {},
   "outputs": [],
   "source": [
    "new_companies = pd.concat([df_collapsed_train, df_collapsed_test])"
   ]
  },
  {
   "cell_type": "code",
   "execution_count": null,
   "id": "5a9dbc83",
   "metadata": {},
   "outputs": [],
   "source": [
    "new_companies = new_companies.reset_index()"
   ]
  },
  {
   "cell_type": "code",
   "execution_count": null,
   "id": "f4fdf1ad",
   "metadata": {},
   "outputs": [],
   "source": [
    "new_companies = new_companies.drop(columns=['index'])"
   ]
  },
  {
   "cell_type": "code",
   "execution_count": null,
   "id": "06fade48",
   "metadata": {},
   "outputs": [],
   "source": [
    "new_companies.head()"
   ]
  },
  {
   "cell_type": "code",
   "execution_count": null,
   "id": "4d7b6f33",
   "metadata": {},
   "outputs": [],
   "source": [
    "# new_companies.to_csv('src/first_new_dataset.csv')"
   ]
  },
  {
   "cell_type": "markdown",
   "id": "6f6b2f88",
   "metadata": {},
   "source": [
    "## Seconda passata di Matching"
   ]
  },
  {
   "cell_type": "code",
   "execution_count": null,
   "id": "b3d34c78",
   "metadata": {},
   "outputs": [],
   "source": [
    "indexer = CustomIndex()\n",
    "candidate_pairs2 = indexer.index(new_companies, new_companies)\n",
    "pairs2 = candidate_pairs2"
   ]
  },
  {
   "cell_type": "code",
   "execution_count": null,
   "id": "006b138b",
   "metadata": {},
   "outputs": [],
   "source": [
    "pairs2"
   ]
  },
  {
   "cell_type": "code",
   "execution_count": null,
   "id": "23e45b71",
   "metadata": {},
   "outputs": [],
   "source": [
    "compare = recordlinkage.Compare()\n",
    "compare.string('name', 'name', label=\"name\", threshold=0.60)\n",
    "\n",
    "features = compare.compute(pairs2, new_companies, new_companies)"
   ]
  },
  {
   "cell_type": "code",
   "execution_count": null,
   "id": "771d8b8e",
   "metadata": {},
   "outputs": [],
   "source": [
    "features.head()"
   ]
  },
  {
   "cell_type": "code",
   "execution_count": null,
   "id": "bbda3554",
   "metadata": {},
   "outputs": [],
   "source": [
    "matches = features[features['name'] == 1]\n",
    "matches = matches.drop(columns = ['name'])\n",
    "matches = matches.reset_index()"
   ]
  },
  {
   "cell_type": "code",
   "execution_count": null,
   "id": "ef1a1ce5",
   "metadata": {},
   "outputs": [],
   "source": [
    "matches.head()"
   ]
  },
  {
   "cell_type": "code",
   "execution_count": null,
   "id": "803f8215",
   "metadata": {},
   "outputs": [],
   "source": [
    "matches_index = pd.MultiIndex.from_frame(matches)"
   ]
  },
  {
   "cell_type": "code",
   "execution_count": null,
   "id": "15df4401",
   "metadata": {},
   "outputs": [],
   "source": [
    "matches_index"
   ]
  },
  {
   "cell_type": "code",
   "execution_count": null,
   "id": "ffa1df7b",
   "metadata": {},
   "outputs": [],
   "source": [
    "dictionary_final = createDictionary(matches_index)"
   ]
  },
  {
   "cell_type": "code",
   "execution_count": null,
   "id": "d4329343",
   "metadata": {},
   "outputs": [],
   "source": [
    "collapsed_df_final, indexesToDeleteFinal = collapseMatches(new_companies, dictionary_final)"
   ]
  },
  {
   "cell_type": "code",
   "execution_count": null,
   "id": "6fcfcf38",
   "metadata": {},
   "outputs": [],
   "source": [
    "collapsed_df_final.founded = collapsed_df_final.founded.astype(object).astype('Int64')\n",
    "collapsed_df_final.marketcap = collapsed_df_final.marketcap.astype(object).astype('Int64')\n",
    "collapsed_df_final.revenue = collapsed_df_final.revenue.astype(object).astype('Int64')\n",
    "collapsed_df_final.employees = collapsed_df_final.employees.astype(object).astype('Int64')"
   ]
  },
  {
   "cell_type": "code",
   "execution_count": null,
   "id": "a16933ff",
   "metadata": {},
   "outputs": [],
   "source": [
    "collapsed_df_final.to_csv('./src/2. linked_dataset.csv')"
   ]
  },
  {
   "cell_type": "code",
   "execution_count": null,
   "id": "1c6c227b",
   "metadata": {},
   "outputs": [],
   "source": [
    "t_end = time.time()\n",
    "print(t_end-t_start)"
   ]
  }
 ],
 "metadata": {
  "kernelspec": {
   "display_name": "Python 3 (ipykernel)",
   "language": "python",
   "name": "python3"
  },
  "language_info": {
   "codemirror_mode": {
    "name": "ipython",
    "version": 3
   },
   "file_extension": ".py",
   "mimetype": "text/x-python",
   "name": "python",
   "nbconvert_exporter": "python",
   "pygments_lexer": "ipython3",
   "version": "3.9.2"
  },
  "vscode": {
   "interpreter": {
    "hash": "aee8b7b246df8f9039afb4144a1f6fd8d2ca17a180786b69acc140d282b71a49"
   }
  }
 },
 "nbformat": 4,
 "nbformat_minor": 5
}
