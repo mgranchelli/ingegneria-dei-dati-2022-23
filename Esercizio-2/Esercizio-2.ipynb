{
 "cells": [
  {
   "cell_type": "markdown",
   "metadata": {},
   "source": [
    "## Sorgenti:\n",
    "- [**Trasfermarkt**](#Trasfermarkt) (https://www.transfermarkt.it)\n",
    "- [**Fbref**](#Fbref) (https://fbref.com)\n",
    "- [**Tuttocalciatori**](#Tuttocalciatori) (https://www.tuttocalciatori.net)\n",
    "- [**Goal**](#Goal) (https://www.goal.com)\n",
    "- [**Wikipedia**](#Wikipedia) (https://it.wikipedia.org/)\n",
    "\n"
   ]
  },
  {
   "cell_type": "markdown",
   "metadata": {},
   "source": [
    "## Calciatori:\n",
    "- Sandro Tonali\n",
    "- Guglielmo Vicario\n",
    "- Victor Osimhen\n",
    "- Ángel Di María\n",
    "- Ademola Lookman"
   ]
  },
  {
   "cell_type": "markdown",
   "metadata": {},
   "source": [
    "## Attributi:\n",
    "- Nome\n",
    "- Data di nascita\n",
    "- Altezza\n",
    "- Peso\n",
    "- Posizione\n",
    "- Nazionalità\n",
    "- Squadra\n",
    "- Numero di maglia"
   ]
  },
  {
   "cell_type": "code",
   "execution_count": null,
   "metadata": {},
   "outputs": [],
   "source": [
    "from lxml import html\n",
    "import requests\n",
    "from typing import List\n",
    "import re\n",
    "import unicodedata"
   ]
  },
  {
   "cell_type": "code",
   "execution_count": null,
   "metadata": {},
   "outputs": [],
   "source": [
    "header = {'User-Agent': 'Mozilla/5.0 (Macintosh; Intel Mac OS X 10_15_7) AppleWebKit/537.36 (KHTML, like Gecko) Chrome/107.0.0.0 Safari/537.36'}\n",
    "all_players = []"
   ]
  },
  {
   "cell_type": "code",
   "execution_count": null,
   "metadata": {},
   "outputs": [],
   "source": [
    "def print_player(player):\n",
    "        print('Nome: ' + player.nome)\n",
    "        print('Data di nascita: ' + player.data_nascita)\n",
    "        print('Altezza: ' + player.altezza)\n",
    "        print('Peso: ' + player.peso)\n",
    "        print('Posizione: ' + str(player.posizione))\n",
    "        print('Nazionalità: ' + str(player.nazionalita))\n",
    "        print('Squadra: ' + player.squadra)\n",
    "        print('Numero di maglia: ' + player.numero_maglia + '\\n')\n",
    "\n",
    "def list_to_string(lista: List[str]):\n",
    "    l = []\n",
    "    for s in lista:\n",
    "        if len(lista) > 1:\n",
    "            l.append(unicodedata.normalize(\"NFKD\", s.strip()))\n",
    "        else:\n",
    "            return unicodedata.normalize(\"NFKD\", s.strip())\n",
    "    return l\n",
    "        \n"
   ]
  },
  {
   "cell_type": "markdown",
   "metadata": {},
   "source": [
    "### Trasfermarkt"
   ]
  },
  {
   "cell_type": "code",
   "execution_count": null,
   "metadata": {},
   "outputs": [],
   "source": [
    "class Trasfermarkt:\n",
    "    def __init__(self, tree):\n",
    "        self.nome = list_to_string(tree.xpath(\"//header[@class='data-header']/div/h1/text()[2]\")) + \" \" + \\\n",
    "            list_to_string(tree.xpath(\"//header[@class='data-header']/div/h1/strong/text()\"))\n",
    "        self.data_nascita = list_to_string(tree.xpath(\"//span[contains(.,'Data di nascita')]/following-sibling::span[1]/a/text()\"))\n",
    "        self.altezza = list_to_string(tree.xpath(\"//div[@class='data-header__details']/ul[2]/li[1]/span/text()\"))\n",
    "        self.peso = \"None\"\n",
    "        self.posizione = list_to_string(tree.xpath(\"//div[@class='data-header__details']/ul[2]/li[2]/span/text()\"))\n",
    "        self.nazionalita = list_to_string(tree.xpath(\"//span[contains(.,'Nazionalità:')]/following-sibling::span[1]/img/@title\"))\n",
    "        self.squadra = list_to_string(tree.xpath(\"//span[@class='data-header__club']/a/text()\"))\n",
    "        self.numero_maglia = list_to_string(tree.xpath(\"//span[@class='data-header__shirt-number']/text()\"))[1:]\n"
   ]
  },
  {
   "cell_type": "code",
   "execution_count": null,
   "metadata": {},
   "outputs": [],
   "source": [
    "links = [\n",
    "    \"https://www.transfermarkt.it/sandro-tonali/profil/spieler/397033\",\n",
    "    \"https://www.transfermarkt.it/guglielmo-vicario/profil/spieler/286047\",\n",
    "    \"https://www.transfermarkt.it/victor-osimhen/profil/spieler/401923\",\n",
    "    \"https://www.transfermarkt.it/angel-di-maria/profil/spieler/45320\",\n",
    "    \"https://www.transfermarkt.it/ademola-lookman/profil/spieler/406040\"\n",
    "]"
   ]
  },
  {
   "cell_type": "code",
   "execution_count": null,
   "metadata": {},
   "outputs": [],
   "source": [
    "for link in links:\n",
    "    page = requests.get(link, headers=header)\n",
    "    if page.status_code != 503:\n",
    "        player = Trasfermarkt(html.fromstring(page.content))\n",
    "        all_players.append(player)\n",
    "        # print_player(player)\n",
    "    else: \n",
    "        print(\"503 Error code\")"
   ]
  },
  {
   "cell_type": "markdown",
   "metadata": {},
   "source": [
    "### Fbref"
   ]
  },
  {
   "cell_type": "code",
   "execution_count": null,
   "metadata": {},
   "outputs": [],
   "source": [
    "class Fbref:\n",
    "    def __init__(self, tree):\n",
    "        self.nome = list_to_string(tree.xpath(\"//div[@id='meta']/div[2]/h1/span/text()\"))\n",
    "        self.data_nascita = list_to_string(tree.xpath(\"//span[contains(@id,'necro-birth')]/@data-birth\"))\n",
    "        self.altezza = list_to_string(tree.xpath(\"//span[contains(@id,'necro-birth')]/../preceding-sibling::p[1]/span[1]/text()\"))\n",
    "        self.peso = list_to_string(tree.xpath(\"//span[contains(@id,'necro-birth')]/../preceding-sibling::p[1]/span[2]/text()\"))\n",
    "        self.posizione = list_to_string(tree.xpath(\"//strong[contains(.,'Position:')]/../text()[1]\"))[:-2]\n",
    "        self.nazionalita = list_to_string(tree.xpath(\"//strong[contains(.,'Club:')]/../preceding-sibling::p[1]/a/text()\"))\n",
    "        self.squadra = list_to_string(tree.xpath(\"//strong[contains(.,'Club:')]/../a/text()\"))\n",
    "        self.numero_maglia = \"None\""
   ]
  },
  {
   "cell_type": "code",
   "execution_count": null,
   "metadata": {},
   "outputs": [],
   "source": [
    "links = [\n",
    "    \"https://fbref.com/en/players/0db169ae/Sandro-Tonali\",\n",
    "    \"https://fbref.com/en/players/77d6fd4d/Guglielmo-Vicario\",\n",
    "    \"https://fbref.com/en/players/8c90fd7a/Victor-Osimhen\",\n",
    "    \"https://fbref.com/en/players/19cda00b/Angel-Di-Maria\",\n",
    "    \"https://fbref.com/en/players/7c104bb7/Ademola-Lookman\"\n",
    "]"
   ]
  },
  {
   "cell_type": "code",
   "execution_count": null,
   "metadata": {},
   "outputs": [],
   "source": [
    "for link in links:\n",
    "    page = requests.get(link, headers=header)\n",
    "    if page.status_code != 503:\n",
    "        player = Fbref(html.fromstring(page.content))\n",
    "        all_players.append(player)\n",
    "        # print_player(player)\n",
    "    else: \n",
    "        print(\"503 Error code\")"
   ]
  },
  {
   "cell_type": "markdown",
   "metadata": {},
   "source": [
    "### Tuttocalciatori"
   ]
  },
  {
   "cell_type": "code",
   "execution_count": null,
   "metadata": {},
   "outputs": [],
   "source": [
    "class Tuttocalciatori:\n",
    "    def __init__(self, tree):\n",
    "        self.nome = list_to_string(tree.xpath(\"//div[@class='col-md-6']/h1/text()\"))\n",
    "        self.data_nascita = list_to_string(tree.xpath(\"//div[@id='dati']/div/div[2]/table/tr[4]/td[2]/text()\"))\n",
    "        self.altezza = list_to_string(tree.xpath(\"//div[@id='dati']/div/div[2]/table/tr[7]/td[2]/text()\"))\n",
    "        self.peso = list_to_string(tree.xpath(\"//div[@id='dati']/div/div[2]/table/tr[8]/td[2]/text()\"))\n",
    "        self.posizione = list_to_string(tree.xpath(\"//div[@id='dati']/div/div[2]/table/tr[2]/td[2]/text()\"))\n",
    "        self.nazionalita = list_to_string(tree.xpath(\"//div[@id='dati']/div/div[2]/table/tr[3]/td[2]/text()\"))\n",
    "        self.squadra = list_to_string(tree.xpath(\"//div[@id='dati']/div/div[2]/table/tr[1]/td[2]/a/text()\"))\n",
    "        self.numero_maglia = \"None\""
   ]
  },
  {
   "cell_type": "code",
   "execution_count": null,
   "metadata": {},
   "outputs": [],
   "source": [
    "links = [\n",
    "    \"https://www.tuttocalciatori.net/Tonali_Sandro\",\n",
    "    \"https://www.tuttocalciatori.net/Vicario_Guglielmo\",\n",
    "    \"https://www.tuttocalciatori.net/Osimhen_Victor\",\n",
    "    \"https://www.tuttocalciatori.net/Di_Maria_Angel_Fabian\",\n",
    "    \"https://www.tuttocalciatori.net/Lookman_Ademola\"\n",
    "]"
   ]
  },
  {
   "cell_type": "code",
   "execution_count": null,
   "metadata": {},
   "outputs": [],
   "source": [
    "for link in links:\n",
    "    page = requests.get(link, headers=header)\n",
    "    if page.status_code != 503:\n",
    "        player = Tuttocalciatori(html.fromstring(page.content))\n",
    "        all_players.append(player)\n",
    "        # print_player(player)\n",
    "    else: \n",
    "        print(\"503 Error code\")"
   ]
  },
  {
   "cell_type": "markdown",
   "metadata": {},
   "source": [
    "### Goal"
   ]
  },
  {
   "cell_type": "code",
   "execution_count": null,
   "metadata": {},
   "outputs": [],
   "source": [
    "class Goal:\n",
    "    def __init__(self, tree):\n",
    "        self.nome = list_to_string(tree.xpath(\"//span[@class='p0c-person-information__full-name']/text()\"))\n",
    "        self.data_nascita = list_to_string(tree.xpath(\"//time[@class='p0c-person-information__date-of-birth']/text()\"))\n",
    "        self.altezza = list_to_string(tree.xpath(\"//div[@class='p0c-person-information__player-stats']/div[1]/div[2]/text()\"))\n",
    "        self.peso = list_to_string(tree.xpath(\"//div[@class='p0c-person-information__player-stats']/div[2]/div[2]/text()\"))\n",
    "        self.posizione = list_to_string(tree.xpath(\"//span[@class='p0c-person-information__position']/text()\"))\n",
    "        self.nazionalita = list_to_string(tree.xpath(\"//span[@class='p0c-person-information__nationality']/text()\"))\n",
    "        self.squadra = list_to_string(tree.xpath(\"//a[@class='p0c-person-information__club']/text()\"))\n",
    "        self.numero_maglia = list_to_string(tree.xpath(\"//div[@class='p0c-person-information__shirt-number']/text()\"))"
   ]
  },
  {
   "cell_type": "code",
   "execution_count": null,
   "metadata": {},
   "outputs": [],
   "source": [
    "links = [\n",
    "    \"https://www.goal.com/it/giocatore/sandro-tonali/9sxg58hszjq17avxgumftdu22\",\n",
    "    \"https://www.goal.com/it/giocatore/guglielmo-vicario/h12c7ocq35slzrop3ltnrsnp\",\n",
    "    \"https://www.goal.com/it/giocatore/victor-osimhen/1wynwp4x95o9w5tt4cdog6i1\",\n",
    "    \"https://www.goal.com/it/giocatore/á-di-mar%C3%ADa/7glxasv2ed6ey82dknto1y66t\",\n",
    "    \"https://www.goal.com/it/giocatore/ademola-lookman/8d04q3yp2kouwog0lj0s7ew2x\"\n",
    "]"
   ]
  },
  {
   "cell_type": "code",
   "execution_count": null,
   "metadata": {},
   "outputs": [],
   "source": [
    "for link in links:\n",
    "    page = requests.get(link, headers=header)\n",
    "    if page.status_code != 503:\n",
    "        player = Goal(html.fromstring(page.content))\n",
    "        all_players.append(player)\n",
    "        # print_player(player)\n",
    "    else: \n",
    "        print(\"503 Error code\")"
   ]
  },
  {
   "cell_type": "markdown",
   "metadata": {},
   "source": [
    "### Wikipedia"
   ]
  },
  {
   "cell_type": "code",
   "execution_count": null,
   "metadata": {},
   "outputs": [],
   "source": [
    "class Wikipedia:\n",
    "    def __init__(self, tree):\n",
    "        self.nome = list_to_string(tree.xpath(\"//div[@class='mw-parser-output']/p[1]/b[1]/text()\"))\n",
    "        self.data_nascita = list_to_string(tree.xpath(\"//div[@class='mw-parser-output']/p[1]/a[2]/text()\")) + \" \" + \\\n",
    "            list_to_string(tree.xpath(\"//div[@class='mw-parser-output']/p[1]/a[3]/text()\"))\n",
    "        self.altezza = list_to_string(tree.xpath(\"//th[contains(.,'Altezza')]/../td/text()[1]\")) + \" \" + \\\n",
    "            list_to_string(tree.xpath(\"//th[contains(.,'Altezza')]/../td/a/text()\"))\n",
    "        self.peso = list_to_string(tree.xpath(\"//th[contains(.,'Peso')]/../td/text()[1]\")) + \" \" + \\\n",
    "            list_to_string(tree.xpath(\"//th[contains(.,'Peso')]/../td/a/text()\"))\n",
    "        self.posizione = list_to_string(tree.xpath(\"//th[contains(.,'Ruolo')]/../td/a/text()\"))\n",
    "        self.nazionalita = list_to_string(tree.xpath(\"//a[contains(@title,'Nazionalità sportiva')]/../../td/a/text()\"))\n",
    "        self.squadra = list_to_string(tree.xpath(\"//th[contains(.,'Squadra')]/../td/a/text()\"))\n",
    "        self.numero_maglia = \"None\""
   ]
  },
  {
   "cell_type": "code",
   "execution_count": null,
   "metadata": {},
   "outputs": [],
   "source": [
    "links = [\n",
    "    \"https://it.wikipedia.org/wiki/Sandro_Tonali\",\n",
    "    \"https://it.wikipedia.org/wiki/Guglielmo_Vicario\",\n",
    "    \"https://it.wikipedia.org/wiki/Victor_Osimhen\",\n",
    "    \"https://it.wikipedia.org/wiki/%C3%81ngel_Di_Mar%C3%ADa\",\n",
    "    \"https://it.wikipedia.org/wiki/Ademola_Lookman\"\n",
    "]"
   ]
  },
  {
   "cell_type": "code",
   "execution_count": null,
   "metadata": {},
   "outputs": [],
   "source": [
    "for link in links:\n",
    "    page = requests.get(link, headers=header)\n",
    "    if page.status_code != 503:\n",
    "        player = Wikipedia(html.fromstring(page.content))\n",
    "        all_players.append(player)\n",
    "        # print_player(player)\n",
    "    else: \n",
    "        print(\"503 Error code\")"
   ]
  },
  {
   "cell_type": "code",
   "execution_count": null,
   "metadata": {},
   "outputs": [],
   "source": [
    "import pandas as pd\n",
    "\n",
    "lst = [[x.nome, x.data_nascita, x.altezza, x.peso, x.posizione, x.nazionalita, x.squadra, x.numero_maglia] for x in all_players]\n",
    "df = pd.DataFrame(lst)\n",
    "df.to_csv('players.csv', index=0, header=['Nome', 'Data di nascita', 'Altezza', 'Peso', 'Posizione', 'Nazionalità', 'Squadra', 'Numero di maglia'])"
   ]
  }
 ],
 "metadata": {
  "kernelspec": {
   "display_name": "Python 3.9.2 64-bit",
   "language": "python",
   "name": "python3"
  },
  "language_info": {
   "codemirror_mode": {
    "name": "ipython",
    "version": 3
   },
   "file_extension": ".py",
   "mimetype": "text/x-python",
   "name": "python",
   "nbconvert_exporter": "python",
   "pygments_lexer": "ipython3",
   "version": "3.9.2"
  },
  "orig_nbformat": 4,
  "vscode": {
   "interpreter": {
    "hash": "aee8b7b246df8f9039afb4144a1f6fd8d2ca17a180786b69acc140d282b71a49"
   }
  }
 },
 "nbformat": 4,
 "nbformat_minor": 2
}
