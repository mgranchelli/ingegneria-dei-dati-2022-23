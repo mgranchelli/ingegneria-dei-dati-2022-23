{
 "cells": [
  {
   "attachments": {},
   "cell_type": "markdown",
   "metadata": {},
   "source": [
    "# Schema Alignment"
   ]
  },
  {
   "cell_type": "markdown",
   "metadata": {},
   "source": [
    "# Datasets Analysis"
   ]
  },
  {
   "cell_type": "code",
   "execution_count": null,
   "metadata": {},
   "outputs": [],
   "source": [
    "!pip install pandas -q\n",
    "!pip install numpy -q\n",
    "!pip install pandas-profiling -q\n",
    "!pip install ipywidgets -q"
   ]
  },
  {
   "cell_type": "code",
   "execution_count": null,
   "metadata": {},
   "outputs": [],
   "source": [
    "import os\n",
    "import pandas as pd\n",
    "import numpy as np\n",
    "import time"
   ]
  },
  {
   "cell_type": "code",
   "execution_count": null,
   "metadata": {},
   "outputs": [],
   "source": [
    "t_start = time.time()"
   ]
  },
  {
   "cell_type": "markdown",
   "metadata": {},
   "source": [
    "## wissel-ariregister"
   ]
  },
  {
   "cell_type": "code",
   "execution_count": null,
   "metadata": {},
   "outputs": [],
   "source": [
    "df_aziende = pd.read_csv(\"./src/datasets/wissel-ariregister.rik.ee/wissel-aziende-ariregister.rik.ee.csv\")\n",
    "df_activity = pd.read_csv(\"./src/datasets/wissel-ariregister.rik.ee/wissel-activity-ariregister.rik.ee.csv\")\n",
    "df_partners = pd.read_csv(\"./src/datasets/wissel-ariregister.rik.ee/wissel-partners-ariregister.rik.ee.csv\")\n",
    "df_rappresentanti = pd.read_csv(\"./src/datasets/wissel-ariregister.rik.ee/wissel-rappresentanti-ariregister.rik.ee.csv\")"
   ]
  },
  {
   "cell_type": "code",
   "execution_count": null,
   "metadata": {},
   "outputs": [],
   "source": [
    "df_aziende.rename(columns={'ID':'ID azienda'}, inplace=True)\n",
    "toDrop = [\"URL\", \"Code\", \"Legal form\", \"Status\", \"Registration Date\", \"Deletion Date\"]\n",
    "df_aziende = df_aziende.drop(toDrop, axis=1)\n",
    "df_aziende.head()"
   ]
  },
  {
   "cell_type": "code",
   "execution_count": null,
   "metadata": {},
   "outputs": [],
   "source": [
    "toDrop = [\"EMTAK Code\", \"NACE Code\", \"Source\"]\n",
    "df_activity = df_activity.drop(toDrop, axis=1)\n",
    "df_activity.head()"
   ]
  },
  {
   "cell_type": "code",
   "execution_count": null,
   "metadata": {},
   "outputs": [],
   "source": [
    "df_partners.head()"
   ]
  },
  {
   "cell_type": "code",
   "execution_count": null,
   "metadata": {},
   "outputs": [],
   "source": [
    "df_rappresentanti.head()"
   ]
  },
  {
   "cell_type": "code",
   "execution_count": null,
   "metadata": {},
   "outputs": [],
   "source": [
    "df3 = pd.merge(df_aziende, df_activity, how='left', on='ID azienda')"
   ]
  },
  {
   "cell_type": "code",
   "execution_count": null,
   "metadata": {},
   "outputs": [],
   "source": [
    "df3.head()"
   ]
  },
  {
   "cell_type": "code",
   "execution_count": null,
   "metadata": {},
   "outputs": [],
   "source": [
    "df3.to_csv(\"./src/datasets/wissel-ariregister.rik.ee.csv\")"
   ]
  },
  {
   "cell_type": "markdown",
   "metadata": {},
   "source": [
    "## wissel-companiesmarketcap"
   ]
  },
  {
   "cell_type": "code",
   "execution_count": null,
   "metadata": {},
   "outputs": [],
   "source": [
    "df_companies_aziende = pd.read_csv(\"./src/datasets/wissel-companiesmarketcap.com/wissel-aziende-companiesmarketcap.com.csv\")\n",
    "df_companies_categorie = pd.read_csv(\"./src/datasets/wissel-companiesmarketcap.com/wissel-categorie-companiesmarketcap.com.csv\")"
   ]
  },
  {
   "cell_type": "code",
   "execution_count": null,
   "metadata": {},
   "outputs": [],
   "source": [
    "df_companies_aziende.head()"
   ]
  },
  {
   "cell_type": "code",
   "execution_count": null,
   "metadata": {},
   "outputs": [],
   "source": [
    "df_companies_aziende.rename(columns={'Unnamed: 0':'ID azienda'}, inplace=True)\n",
    "toDrop = [\"ID\", \"URL\"]\n",
    "df_companies_aziende = df_companies_aziende.drop(toDrop, axis=1)\n",
    "df_companies_aziende.head()"
   ]
  },
  {
   "cell_type": "code",
   "execution_count": null,
   "metadata": {},
   "outputs": [],
   "source": [
    "for i in range(0, 5160):\n",
    "    df_companies_aziende.loc[i, \"ID azienda\"] += 1401"
   ]
  },
  {
   "cell_type": "code",
   "execution_count": null,
   "metadata": {},
   "outputs": [],
   "source": [
    "for i in range(5160, 6560):\n",
    "    df_companies_aziende.loc[i, \"ID azienda\"] += 1"
   ]
  },
  {
   "cell_type": "code",
   "execution_count": null,
   "metadata": {},
   "outputs": [],
   "source": [
    "df_companies_aziende.sort_values([\"ID azienda\"], \n",
    "                    axis=0,\n",
    "                    ascending=[True], \n",
    "                    inplace=True)"
   ]
  },
  {
   "cell_type": "code",
   "execution_count": null,
   "metadata": {},
   "outputs": [],
   "source": [
    "df_companies_aziende.head()"
   ]
  },
  {
   "cell_type": "code",
   "execution_count": null,
   "metadata": {},
   "outputs": [],
   "source": [
    "df_companies_categorie.rename(columns={'Company ID':'ID azienda'}, inplace=True)\n",
    "df_companies_categorie.head()"
   ]
  },
  {
   "cell_type": "code",
   "execution_count": null,
   "metadata": {},
   "outputs": [],
   "source": [
    "df_companies_aziende['ID azienda'] = pd.to_numeric(df_companies_aziende['ID azienda'], errors='coerce').fillna(0).astype(int)"
   ]
  },
  {
   "cell_type": "code",
   "execution_count": null,
   "metadata": {},
   "outputs": [],
   "source": [
    "df_companies_aziende.head()"
   ]
  },
  {
   "cell_type": "code",
   "execution_count": null,
   "metadata": {},
   "outputs": [],
   "source": [
    "df4 = pd.merge(df_companies_aziende, df_companies_categorie, how='left', on='ID azienda')\n",
    "df4.head()"
   ]
  },
  {
   "cell_type": "code",
   "execution_count": null,
   "metadata": {},
   "outputs": [],
   "source": [
    "df4 = df4.groupby([\"ID azienda\",\"Name\",\"Company code\", \"Marketcap\", \"Share price\", \"Earnings\", \"Revenue\", \"Shares\", \"Employees\"])['Category'].agg(list).reset_index()"
   ]
  },
  {
   "cell_type": "code",
   "execution_count": null,
   "metadata": {},
   "outputs": [],
   "source": [
    "df4.head()"
   ]
  },
  {
   "cell_type": "code",
   "execution_count": null,
   "metadata": {},
   "outputs": [],
   "source": [
    "df4.to_csv(\"./src/datasets/wissel-companiesmarketcap.com.csv\")"
   ]
  },
  {
   "cell_type": "markdown",
   "metadata": {},
   "source": [
    "## FR_sole24ore.csv"
   ]
  },
  {
   "cell_type": "code",
   "execution_count": null,
   "metadata": {},
   "outputs": [],
   "source": [
    "fr_sole24 = pd.read_csv(\"./src/datasets/FR_sole24ore.csv\")\n",
    "if fr_sole24.columns[len(fr_sole24.columns)-1] == \"name\":\n",
    "    fr_sole24 = fr_sole24.drop(fr_sole24.columns[0], axis=1)\n",
    "else:\n",
    "    fr_sole24 = pd.read_csv(\"./src/datasets/FR_sole24ore.csv\", header=None)"
   ]
  },
  {
   "cell_type": "code",
   "execution_count": null,
   "metadata": {},
   "outputs": [],
   "source": [
    "fr_sole24.columns = [\"address\", \"city\", \"sector\", \"employees\", \"name\"]\n",
    "fr_sole24.head()"
   ]
  },
  {
   "cell_type": "code",
   "execution_count": null,
   "metadata": {},
   "outputs": [],
   "source": [
    "fr_sole24.to_csv(\"./src/datasets/FR_sole24ore.csv\")"
   ]
  },
  {
   "cell_type": "markdown",
   "metadata": {},
   "source": [
    "## Files"
   ]
  },
  {
   "cell_type": "code",
   "execution_count": null,
   "metadata": {},
   "outputs": [],
   "source": [
    "source = 'src/datasets/'\n",
    "files_list = os.listdir(source)\n",
    "files_list.sort()\n",
    "files_list = [source + x for x in files_list if os.path.isfile(source+x)]"
   ]
  },
  {
   "cell_type": "code",
   "execution_count": null,
   "metadata": {},
   "outputs": [],
   "source": [
    "# print(files_list)\n",
    "final_files = []\n",
    "len(files_list)"
   ]
  },
  {
   "cell_type": "code",
   "execution_count": null,
   "metadata": {},
   "outputs": [],
   "source": [
    "import warnings\n",
    "warnings.filterwarnings('ignore', category=UserWarning, module='openpyxl')\n",
    "\n",
    "file_ext = {}\n",
    "columns_file = {}\n",
    "files_columns = {}\n",
    "for i in files_list:\n",
    "    #print(\"File name: \" + i)\n",
    "    #print(i[len(i)-3:])\n",
    "    if i[len(i)-3:] == \"csv\":\n",
    "        if \"csv\" not in file_ext:\n",
    "            file_ext[\"csv\"] = 0\n",
    "        file_ext[\"csv\"] += 1\n",
    "\n",
    "        current_file = pd.read_csv(i, encoding=\"utf-8\", encoding_errors=\"ignore\")\n",
    "        # print(file_csv.columns)\n",
    "\n",
    "\n",
    "    elif i[len(i)-4:] == \"json\":\n",
    "        if \"json\" not in file_ext:\n",
    "            file_ext[\"json\"] = 0\n",
    "        file_ext[\"json\"] += 1\n",
    "\n",
    "        current_file = pd.read_json(i)\n",
    "        # print(file_json.head())\n",
    "        \n",
    "    elif i[len(i)-5:] == \"jsonl\":\n",
    "        if \"jsonl\" not in file_ext:\n",
    "            file_ext[\"jsonl\"] = 0\n",
    "        file_ext[\"jsonl\"] += 1\n",
    "\n",
    "        current_file = pd.read_json(i, lines=True)\n",
    "        # print(file_jsonl.head())\n",
    "        \n",
    "    elif i[len(i)-3:] == \"xls\":\n",
    "        if \"xls\" not in file_ext:\n",
    "            file_ext[\"xls\"] = 0\n",
    "        file_ext[\"xls\"] += 1\n",
    "\n",
    "        current_file = pd.read_excel(i)\n",
    "        # print(file_xls.head())\n",
    "        \n",
    "    elif i[len(i)-4:] == \"xlsx\":\n",
    "        if \"xlsx\" not in file_ext:\n",
    "            file_ext[\"xlsx\"] = 0\n",
    "        file_ext[\"xlsx\"] += 1\n",
    "        \n",
    "        # Genera warning\n",
    "        current_file = pd.read_excel(i)\n",
    "        # print(file_xlsx.head())\n",
    "        \n",
    "    else:\n",
    "        print(\"file error: \" + i)\n",
    "\n",
    "    if i not in files_columns:\n",
    "        files_columns[i] = current_file.columns\n",
    "\n",
    "\n",
    "    for c in current_file.columns:\n",
    "        if c.lower() not in columns_file:\n",
    "            columns_file[c.lower()] = 0\n",
    "        columns_file[c.lower()] += 1"
   ]
  },
  {
   "cell_type": "code",
   "execution_count": null,
   "metadata": {},
   "outputs": [],
   "source": [
    "file_ext"
   ]
  },
  {
   "cell_type": "code",
   "execution_count": null,
   "metadata": {},
   "outputs": [],
   "source": [
    "files_columns"
   ]
  },
  {
   "cell_type": "markdown",
   "metadata": {},
   "source": [
    "## Check columns"
   ]
  },
  {
   "cell_type": "code",
   "execution_count": null,
   "metadata": {},
   "outputs": [],
   "source": [
    "import json\n",
    "# with open('columns_to_remove.json', 'w', encoding='utf8') as f:\n",
    "#     json.dump(columns_to_remove, f, ensure_ascii=False)\n",
    "\n",
    "# with open('columns_to_rename.json', 'w', encoding='utf8') as f:\n",
    "#     json.dump(columns_to_rename, f, ensure_ascii=False)"
   ]
  },
  {
   "cell_type": "code",
   "execution_count": null,
   "metadata": {},
   "outputs": [],
   "source": [
    "def columns_to_remove_not_remove(columns):\n",
    "    with open('columns_to_remove.json', 'r', encoding='utf8') as f:\n",
    "        columns_to_remove = json.load(f)\n",
    "\n",
    "    r = []\n",
    "    l = []\n",
    "    print(\"Columns to remove:\")\n",
    "    for c in columns:\n",
    "        if c.lower() in columns_to_remove:\n",
    "            print(c)\n",
    "            r.append(c)\n",
    "        else:\n",
    "            l.append(c)\n",
    "    return (r, l)"
   ]
  },
  {
   "cell_type": "code",
   "execution_count": null,
   "metadata": {},
   "outputs": [],
   "source": [
    "def rename_columns(columns):\n",
    "    with open('columns_to_rename.json', 'r', encoding='utf8') as f:\n",
    "        columns_to_rename = json.load(f)\n",
    "    \n",
    "    l = []\n",
    "    print(\"Columns to rename:\")\n",
    "    for c in columns:\n",
    "        error=True\n",
    "        for name_column, list_strings in columns_to_rename.items():\n",
    "            if c.lower() == name_column:\n",
    "                l.append(name_column)\n",
    "                error=False\n",
    "            elif c.lower() in list_strings:\n",
    "                print(c + \" -> \" + name_column)\n",
    "                l.append(name_column)\n",
    "                error=False    \n",
    "        \n",
    "        if error: \n",
    "            l.append(c.lower())\n",
    "            print(\"Column error: \" + c)\n",
    "    return l"
   ]
  },
  {
   "cell_type": "code",
   "execution_count": null,
   "metadata": {},
   "outputs": [],
   "source": [
    "cleaned_files = []"
   ]
  },
  {
   "cell_type": "markdown",
   "metadata": {},
   "source": [
    "## Convert market cap and revenue"
   ]
  },
  {
   "cell_type": "code",
   "execution_count": null,
   "metadata": {},
   "outputs": [],
   "source": [
    "def convert_market_cap_revenue(val):\n",
    "    if \"T\" in val or \"Trillion\" in val:\n",
    "        val = val.replace('$','').replace(\"Trillion\", '').replace('USD', '').replace('US', '').replace('T','').strip()\n",
    "        return int(float(val)*(10**12))\n",
    "    elif \"B\" in val or \"Billion\" in val:\n",
    "        val = val.replace('$','').replace(\"Billion\", '').replace('USD', '').replace('US', '').replace('B','').strip()\n",
    "        return int(float(val)*(10**9))\n",
    "    elif \"M\" in val:\n",
    "        val = val.replace('$','').replace(\"Million\", '').replace('USD', '').replace('US', '').replace('M','').strip()\n",
    "        return int(float(val)*(10**6))\n",
    "    else:\n",
    "        return np.nan"
   ]
  },
  {
   "cell_type": "markdown",
   "metadata": {},
   "source": [
    "## DDD"
   ]
  },
  {
   "cell_type": "markdown",
   "metadata": {},
   "source": [
    "### DDD-cbinsight.com.csv"
   ]
  },
  {
   "cell_type": "code",
   "execution_count": null,
   "metadata": {},
   "outputs": [],
   "source": [
    "files_list[0]"
   ]
  },
  {
   "cell_type": "code",
   "execution_count": null,
   "metadata": {},
   "outputs": [],
   "source": [
    "ddd_cbinsight = pd.read_csv(files_list[0])\n",
    "ddd_cbinsight.head()"
   ]
  },
  {
   "cell_type": "code",
   "execution_count": null,
   "metadata": {},
   "outputs": [],
   "source": [
    "to_drop, _ = columns_to_remove_not_remove(ddd_cbinsight)"
   ]
  },
  {
   "cell_type": "code",
   "execution_count": null,
   "metadata": {},
   "outputs": [],
   "source": [
    "ddd_cbinsight = ddd_cbinsight.drop(to_drop, axis=1)\n",
    "to_rename = rename_columns(ddd_cbinsight.columns)\n",
    "ddd_cbinsight.columns = to_rename"
   ]
  },
  {
   "cell_type": "code",
   "execution_count": null,
   "metadata": {},
   "outputs": [],
   "source": [
    "ddd_cbinsight = ddd_cbinsight.replace('None', np.nan)\n",
    "ddd_cbinsight.founded = ddd_cbinsight.founded.astype(object).astype('Int64')\n",
    "\n",
    "ddd_cbinsight.head()"
   ]
  },
  {
   "cell_type": "code",
   "execution_count": null,
   "metadata": {},
   "outputs": [],
   "source": [
    "cleaned_files.append(ddd_cbinsight)"
   ]
  },
  {
   "cell_type": "markdown",
   "metadata": {},
   "source": [
    "### DDD-companiesmarketcap.com.csv"
   ]
  },
  {
   "cell_type": "code",
   "execution_count": null,
   "metadata": {},
   "outputs": [],
   "source": [
    "files_list[1]"
   ]
  },
  {
   "cell_type": "code",
   "execution_count": null,
   "metadata": {},
   "outputs": [],
   "source": [
    "ddd_companies = pd.read_csv(files_list[1])\n",
    "ddd_companies.head()"
   ]
  },
  {
   "cell_type": "code",
   "execution_count": null,
   "metadata": {},
   "outputs": [],
   "source": [
    "to_drop, _ = columns_to_remove_not_remove(ddd_companies)"
   ]
  },
  {
   "cell_type": "code",
   "execution_count": null,
   "metadata": {},
   "outputs": [],
   "source": [
    "ddd_companies = ddd_companies.drop(to_drop, axis=1)\n",
    "to_rename = rename_columns(ddd_companies.columns)\n",
    "ddd_companies.columns = to_rename"
   ]
  },
  {
   "cell_type": "code",
   "execution_count": null,
   "metadata": {},
   "outputs": [],
   "source": [
    "ddd_companies.marketcap = ddd_companies.marketcap.apply(lambda x: convert_market_cap_revenue(x) if pd.notnull(x) else x)\n",
    "ddd_companies = ddd_companies.replace('None', np.nan)\n",
    "ddd_companies.marketcap = ddd_companies.marketcap.astype(object).astype('Int64')\n",
    "\n",
    "ddd_companies.head()"
   ]
  },
  {
   "cell_type": "code",
   "execution_count": null,
   "metadata": {},
   "outputs": [],
   "source": [
    "cleaned_files.append(ddd_companies)"
   ]
  },
  {
   "cell_type": "markdown",
   "metadata": {},
   "source": [
    "### DDD-ft.com.csv"
   ]
  },
  {
   "cell_type": "code",
   "execution_count": null,
   "metadata": {},
   "outputs": [],
   "source": [
    "files_list[2]"
   ]
  },
  {
   "cell_type": "code",
   "execution_count": null,
   "metadata": {},
   "outputs": [],
   "source": [
    "ddd_ft = pd.read_csv(files_list[2])\n",
    "ddd_ft.head()"
   ]
  },
  {
   "cell_type": "code",
   "execution_count": null,
   "metadata": {},
   "outputs": [],
   "source": [
    "to_drop, _ = columns_to_remove_not_remove(ddd_ft)"
   ]
  },
  {
   "cell_type": "code",
   "execution_count": null,
   "metadata": {},
   "outputs": [],
   "source": [
    "ddd_ft = ddd_ft.drop(to_drop, axis=1)\n",
    "to_rename = rename_columns(ddd_ft.columns)\n",
    "ddd_ft.columns = to_rename"
   ]
  },
  {
   "cell_type": "code",
   "execution_count": null,
   "metadata": {},
   "outputs": [],
   "source": [
    "ddd_ft = ddd_ft.replace('None', np.nan)\n",
    "ddd_ft.revenue = ddd_ft.revenue.apply(lambda x : x.replace(',',''))\n",
    "\n",
    "ddd_ft.revenue = ddd_ft.revenue.astype(object).astype('Int64')\n",
    "ddd_ft.employees = ddd_ft.employees.astype(object).astype('Int64')\n",
    "ddd_ft.founded = ddd_ft.founded.astype(object).astype('Int64')\n",
    "ddd_ft.head()"
   ]
  },
  {
   "cell_type": "code",
   "execution_count": null,
   "metadata": {},
   "outputs": [],
   "source": [
    "cleaned_files.append(ddd_ft)"
   ]
  },
  {
   "cell_type": "markdown",
   "metadata": {},
   "source": [
    "### DDD-teamblind.com.csv"
   ]
  },
  {
   "cell_type": "code",
   "execution_count": null,
   "metadata": {},
   "outputs": [],
   "source": [
    "files_list[3]"
   ]
  },
  {
   "cell_type": "code",
   "execution_count": null,
   "metadata": {},
   "outputs": [],
   "source": [
    "ddd_teamblind = pd.read_csv(files_list[3])\n",
    "ddd_teamblind.head()"
   ]
  },
  {
   "cell_type": "code",
   "execution_count": null,
   "metadata": {},
   "outputs": [],
   "source": [
    "to_drop, _ = columns_to_remove_not_remove(ddd_teamblind)"
   ]
  },
  {
   "cell_type": "code",
   "execution_count": null,
   "metadata": {},
   "outputs": [],
   "source": [
    "ddd_teamblind = ddd_teamblind.drop(to_drop, axis=1)\n",
    "to_rename = rename_columns(ddd_teamblind.columns)\n",
    "ddd_teamblind.columns = to_rename"
   ]
  },
  {
   "cell_type": "code",
   "execution_count": null,
   "metadata": {},
   "outputs": [],
   "source": [
    "ddd_teamblind.country = ddd_teamblind.country.apply(lambda x: x.split(',', 1)[0])\n",
    "ddd_teamblind.employees = ddd_teamblind.employees.apply(lambda x: x.replace(',', '').replace('to ', '').replace(' employees', '').replace('+', '').split(' ', 1)) \n",
    "ddd_teamblind.employees = ddd_teamblind.employees.apply(lambda x: int(sum([int(i) for i in x])/2) if x[0] != 'None' else np.nan)\n",
    "ddd_teamblind = ddd_teamblind.replace('None', np.nan)\n",
    "ddd_teamblind.employees = ddd_teamblind.employees.astype(object).astype('Int64')\n",
    "ddd_teamblind.founded = ddd_teamblind.founded.astype(object).astype('Int64')\n",
    "ddd_teamblind.head()"
   ]
  },
  {
   "cell_type": "code",
   "execution_count": null,
   "metadata": {},
   "outputs": [],
   "source": [
    "cleaned_files.append(ddd_teamblind)"
   ]
  },
  {
   "cell_type": "markdown",
   "metadata": {},
   "source": [
    "## FR"
   ]
  },
  {
   "cell_type": "markdown",
   "metadata": {},
   "source": [
    "### FR_campaignindia.csv"
   ]
  },
  {
   "cell_type": "code",
   "execution_count": null,
   "metadata": {},
   "outputs": [],
   "source": [
    "files_list[4]"
   ]
  },
  {
   "cell_type": "code",
   "execution_count": null,
   "metadata": {},
   "outputs": [],
   "source": [
    "fr_india = pd.read_csv(files_list[4])\n",
    "fr_india.head()"
   ]
  },
  {
   "cell_type": "code",
   "execution_count": null,
   "metadata": {},
   "outputs": [],
   "source": [
    "to_drop, _ = columns_to_remove_not_remove(fr_india)"
   ]
  },
  {
   "cell_type": "code",
   "execution_count": null,
   "metadata": {},
   "outputs": [],
   "source": [
    "fr_india = fr_india.drop(to_drop, axis=1)\n",
    "to_rename = rename_columns(fr_india.columns)\n",
    "fr_india.columns = to_rename\n",
    "fr_india.head()"
   ]
  },
  {
   "cell_type": "code",
   "execution_count": null,
   "metadata": {},
   "outputs": [],
   "source": [
    "cleaned_files.append(fr_india)"
   ]
  },
  {
   "cell_type": "markdown",
   "metadata": {},
   "source": [
    "### FR_company_social_urls.csv"
   ]
  },
  {
   "cell_type": "code",
   "execution_count": null,
   "metadata": {},
   "outputs": [],
   "source": [
    "files_list[5]"
   ]
  },
  {
   "cell_type": "code",
   "execution_count": null,
   "metadata": {},
   "outputs": [],
   "source": [
    "fr_social_urls = pd.read_csv(files_list[5])\n",
    "fr_social_urls.head()"
   ]
  },
  {
   "cell_type": "code",
   "execution_count": null,
   "metadata": {},
   "outputs": [],
   "source": [
    "url_dataset = [\"Facebook\", \"Twitter\", \"Instagram\", \"Pinterest\"]\n",
    "fr_social_urls['link'] = fr_social_urls[url_dataset].values.tolist()"
   ]
  },
  {
   "cell_type": "code",
   "execution_count": null,
   "metadata": {},
   "outputs": [],
   "source": [
    "to_drop, _ = columns_to_remove_not_remove(fr_social_urls)\n",
    "to_drop.extend(url_dataset)"
   ]
  },
  {
   "cell_type": "code",
   "execution_count": null,
   "metadata": {},
   "outputs": [],
   "source": [
    "fr_social_urls = fr_social_urls.drop(to_drop, axis=1)\n",
    "to_rename = rename_columns(fr_social_urls.columns)\n",
    "fr_social_urls.columns = to_rename\n",
    "fr_social_urls.head()"
   ]
  },
  {
   "cell_type": "code",
   "execution_count": null,
   "metadata": {},
   "outputs": [],
   "source": [
    "cleaned_files.append(fr_social_urls)"
   ]
  },
  {
   "cell_type": "markdown",
   "metadata": {},
   "source": [
    "### FR_disfold.csv"
   ]
  },
  {
   "cell_type": "code",
   "execution_count": null,
   "metadata": {},
   "outputs": [],
   "source": [
    "files_list[6]"
   ]
  },
  {
   "cell_type": "code",
   "execution_count": null,
   "metadata": {},
   "outputs": [],
   "source": [
    "fr_disfold = pd.read_csv(files_list[6])\n",
    "fr_disfold.head()"
   ]
  },
  {
   "cell_type": "code",
   "execution_count": null,
   "metadata": {},
   "outputs": [],
   "source": [
    "to_drop, _ = columns_to_remove_not_remove(fr_disfold)"
   ]
  },
  {
   "cell_type": "code",
   "execution_count": null,
   "metadata": {},
   "outputs": [],
   "source": [
    "fr_disfold = fr_disfold.drop(to_drop, axis=1)\n",
    "to_rename = rename_columns(fr_disfold.columns)\n",
    "fr_disfold.columns = to_rename"
   ]
  },
  {
   "cell_type": "code",
   "execution_count": null,
   "metadata": {},
   "outputs": [],
   "source": [
    "fr_disfold.founded = fr_disfold.founded.str.extract(r'([\\d]{4})')\n",
    "fr_disfold.ceo = fr_disfold.ceo.apply(lambda x : str(x).replace('CEO: ', \"\"))\n",
    "fr_disfold.employees = fr_disfold.employees.apply(lambda x : str(x).replace('Employees: ', '').replace(\",\", \"\"))\n",
    "fr_disfold = fr_disfold.replace('nan', np.nan)\n",
    "\n",
    "fr_disfold.founded = fr_disfold.founded.astype(object).astype('Int64')\n",
    "fr_disfold.employees = fr_disfold.employees.astype(object).astype('Int64')\n",
    "fr_disfold.head()"
   ]
  },
  {
   "cell_type": "code",
   "execution_count": null,
   "metadata": {},
   "outputs": [],
   "source": [
    "cleaned_files.append(fr_disfold)"
   ]
  },
  {
   "cell_type": "markdown",
   "metadata": {},
   "source": [
    "### FR_famcap_germany.csv"
   ]
  },
  {
   "cell_type": "code",
   "execution_count": null,
   "metadata": {},
   "outputs": [],
   "source": [
    "files_list[7]"
   ]
  },
  {
   "cell_type": "code",
   "execution_count": null,
   "metadata": {},
   "outputs": [],
   "source": [
    "fr_germany = pd.read_csv(files_list[7])\n",
    "fr_germany.head()"
   ]
  },
  {
   "cell_type": "code",
   "execution_count": null,
   "metadata": {},
   "outputs": [],
   "source": [
    "to_drop, _ = columns_to_remove_not_remove(fr_germany)"
   ]
  },
  {
   "cell_type": "code",
   "execution_count": null,
   "metadata": {},
   "outputs": [],
   "source": [
    "fr_germany = fr_germany.drop(to_drop, axis=1)\n",
    "to_rename = rename_columns(fr_germany.columns)\n",
    "fr_germany.columns = to_rename\n",
    "fr_germany.head()"
   ]
  },
  {
   "cell_type": "code",
   "execution_count": null,
   "metadata": {},
   "outputs": [],
   "source": [
    "fr_germany.revenue = fr_germany.revenue.apply(lambda x : float(str(x).replace(',', '')))\n",
    "fr_germany.employees = fr_germany.employees.apply(lambda x : str(x).replace(',', ''))\n",
    "\n",
    "fr_germany.revenue = fr_germany.revenue.astype(float).astype(int)\n",
    "fr_germany.employees = fr_germany.employees.astype(object).astype('Int64')\n",
    "fr_germany.founded = fr_germany.founded.astype(object).astype('Int64')\n",
    "fr_germany.head()"
   ]
  },
  {
   "cell_type": "code",
   "execution_count": null,
   "metadata": {},
   "outputs": [],
   "source": [
    "cleaned_files.append(fr_germany)"
   ]
  },
  {
   "cell_type": "markdown",
   "metadata": {},
   "source": [
    "### FR_followers.csv"
   ]
  },
  {
   "cell_type": "code",
   "execution_count": null,
   "metadata": {},
   "outputs": [],
   "source": [
    "files_list[8]"
   ]
  },
  {
   "cell_type": "code",
   "execution_count": null,
   "metadata": {},
   "outputs": [],
   "source": [
    "fr_followers = pd.read_csv(files_list[8])\n",
    "fr_followers.head()"
   ]
  },
  {
   "cell_type": "markdown",
   "metadata": {},
   "source": [
    "#### Dataset da non usare?"
   ]
  },
  {
   "cell_type": "markdown",
   "metadata": {},
   "source": [
    "### FR_forbes.csv"
   ]
  },
  {
   "cell_type": "code",
   "execution_count": null,
   "metadata": {},
   "outputs": [],
   "source": [
    "files_list[9]"
   ]
  },
  {
   "cell_type": "code",
   "execution_count": null,
   "metadata": {},
   "outputs": [],
   "source": [
    "fr_forbes = pd.read_csv(files_list[9])\n",
    "fr_forbes.head()"
   ]
  },
  {
   "cell_type": "code",
   "execution_count": null,
   "metadata": {},
   "outputs": [],
   "source": [
    "to_rename = rename_columns(fr_forbes.columns)\n",
    "fr_forbes.columns = to_rename"
   ]
  },
  {
   "cell_type": "code",
   "execution_count": null,
   "metadata": {},
   "outputs": [],
   "source": [
    "fr_forbes.founded = fr_forbes.founded.astype(str).replace(r'\\.0$', '', regex=True)\n",
    "fr_forbes.country = fr_forbes.country.str.split(',', n=1).str.get(-1)\n",
    "fr_forbes.revenue = fr_forbes.revenue.apply(lambda x: convert_market_cap_revenue(x) if pd.notnull(x) else x)\n",
    "\n",
    "fr_forbes = fr_forbes.replace('nan', np.nan)\n",
    "\n",
    "fr_forbes.founded = fr_forbes.founded.astype(object).astype('Int64')\n",
    "fr_forbes.revenue = fr_forbes.revenue.astype(object).astype('Int64')\n",
    "fr_forbes.head()"
   ]
  },
  {
   "cell_type": "code",
   "execution_count": null,
   "metadata": {},
   "outputs": [],
   "source": [
    "cleaned_files.append(fr_forbes)"
   ]
  },
  {
   "cell_type": "markdown",
   "metadata": {},
   "source": [
    "### FR_ft.csv"
   ]
  },
  {
   "cell_type": "code",
   "execution_count": null,
   "metadata": {},
   "outputs": [],
   "source": [
    "files_list[10]"
   ]
  },
  {
   "cell_type": "code",
   "execution_count": null,
   "metadata": {},
   "outputs": [],
   "source": [
    "fr_ft = pd.read_csv(files_list[10])\n",
    "fr_ft.head()"
   ]
  },
  {
   "cell_type": "code",
   "execution_count": null,
   "metadata": {},
   "outputs": [],
   "source": [
    "to_drop, _ = columns_to_remove_not_remove(fr_ft)"
   ]
  },
  {
   "cell_type": "code",
   "execution_count": null,
   "metadata": {},
   "outputs": [],
   "source": [
    "fr_ft = fr_ft.drop(to_drop, axis=1)\n",
    "to_rename = rename_columns(fr_ft.columns)\n",
    "fr_ft.columns = to_rename"
   ]
  },
  {
   "cell_type": "code",
   "execution_count": null,
   "metadata": {},
   "outputs": [],
   "source": [
    "fr_ft.revenue = fr_ft.revenue.apply(lambda x : (str(x).replace(',', '')))\n",
    "fr_ft.employees = fr_ft.employees.astype(str).replace(r'\\.0$', '', regex=True)\n",
    "fr_ft = fr_ft.replace('nan', np.nan)\n",
    "\n",
    "fr_ft.revenue = fr_ft.revenue.astype(object).astype('Int64')\n",
    "fr_ft.employees = fr_ft.employees.astype(object).astype('Int64')\n",
    "fr_ft.founded = fr_ft.founded.astype(object).astype('Int64')\n",
    "\n",
    "fr_ft.head()"
   ]
  },
  {
   "cell_type": "code",
   "execution_count": null,
   "metadata": {},
   "outputs": [],
   "source": [
    "cleaned_files.append(fr_ft)"
   ]
  },
  {
   "cell_type": "markdown",
   "metadata": {},
   "source": [
    "### FR_sole24ore.csv"
   ]
  },
  {
   "cell_type": "code",
   "execution_count": null,
   "metadata": {},
   "outputs": [],
   "source": [
    "files_list[11]"
   ]
  },
  {
   "cell_type": "code",
   "execution_count": null,
   "metadata": {},
   "outputs": [],
   "source": [
    "fr_sole24 = pd.read_csv(files_list[11])\n",
    "fr_sole24['country'] = 'ITALY'\n",
    "fr_sole24.head()"
   ]
  },
  {
   "cell_type": "code",
   "execution_count": null,
   "metadata": {},
   "outputs": [],
   "source": [
    "to_drop, _ = columns_to_remove_not_remove(fr_sole24)\n",
    "to_drop.append(\"address\")"
   ]
  },
  {
   "cell_type": "code",
   "execution_count": null,
   "metadata": {},
   "outputs": [],
   "source": [
    "fr_sole24 = fr_sole24.drop(to_drop, axis=1)\n",
    "to_rename = rename_columns(fr_sole24.columns)\n",
    "fr_sole24.columns = to_rename"
   ]
  },
  {
   "cell_type": "code",
   "execution_count": null,
   "metadata": {},
   "outputs": [],
   "source": [
    "fr_sole24.employees = fr_sole24.employees.apply(lambda x : (str(x).replace('.', '')))\n",
    "fr_sole24.employees = fr_sole24.employees.astype(object).astype('Int64')\n",
    "fr_sole24.head()"
   ]
  },
  {
   "cell_type": "code",
   "execution_count": null,
   "metadata": {},
   "outputs": [],
   "source": [
    "cleaned_files.append(fr_sole24)"
   ]
  },
  {
   "cell_type": "markdown",
   "metadata": {},
   "source": [
    "### FR_valuetoday.csv"
   ]
  },
  {
   "cell_type": "code",
   "execution_count": null,
   "metadata": {},
   "outputs": [],
   "source": [
    "files_list[12]"
   ]
  },
  {
   "cell_type": "code",
   "execution_count": null,
   "metadata": {},
   "outputs": [],
   "source": [
    "fr_value = pd.read_csv(files_list[12])\n",
    "fr_value.head()"
   ]
  },
  {
   "cell_type": "code",
   "execution_count": null,
   "metadata": {},
   "outputs": [],
   "source": [
    "to_drop, _ = columns_to_remove_not_remove(fr_value)"
   ]
  },
  {
   "cell_type": "code",
   "execution_count": null,
   "metadata": {},
   "outputs": [],
   "source": [
    "fr_value = fr_value.drop(to_drop, axis=1)\n",
    "to_rename = rename_columns(fr_value.columns)\n",
    "fr_value.columns = to_rename"
   ]
  },
  {
   "cell_type": "code",
   "execution_count": null,
   "metadata": {},
   "outputs": [],
   "source": [
    "fr_value.founded = fr_value.founded.astype(str).replace(r'\\.0$', '', regex=True)\n",
    "fr_value.employees = fr_value.employees.apply(lambda x : (str(x).replace(',', '')))\n",
    "fr_value = fr_value.replace('nan', np.nan)\n",
    "\n",
    "fr_value.employees = fr_value.employees.astype(object).astype('Int64')\n",
    "fr_value.founded = fr_value.founded.astype(object).astype('Int64')\n",
    "\n",
    "fr_value.head()"
   ]
  },
  {
   "cell_type": "code",
   "execution_count": null,
   "metadata": {},
   "outputs": [],
   "source": [
    "cleaned_files.append(fr_value)"
   ]
  },
  {
   "cell_type": "markdown",
   "metadata": {},
   "source": [
    "## GioPonSpiz"
   ]
  },
  {
   "cell_type": "markdown",
   "metadata": {},
   "source": [
    "### GioPonSpiz-companiesmarketcap.com.json"
   ]
  },
  {
   "cell_type": "code",
   "execution_count": null,
   "metadata": {},
   "outputs": [],
   "source": [
    "files_list[13]"
   ]
  },
  {
   "cell_type": "code",
   "execution_count": null,
   "metadata": {},
   "outputs": [],
   "source": [
    "gps_companies = pd.read_json(files_list[13])\n",
    "gps_companies.head()"
   ]
  },
  {
   "cell_type": "code",
   "execution_count": null,
   "metadata": {},
   "outputs": [],
   "source": [
    "to_drop, _ = columns_to_remove_not_remove(gps_companies)"
   ]
  },
  {
   "cell_type": "code",
   "execution_count": null,
   "metadata": {},
   "outputs": [],
   "source": [
    "gps_companies = gps_companies.drop(to_drop, axis=1)\n",
    "to_rename = rename_columns(gps_companies.columns)\n",
    "gps_companies.columns = to_rename"
   ]
  },
  {
   "cell_type": "code",
   "execution_count": null,
   "metadata": {},
   "outputs": [],
   "source": [
    "gps_companies.marketcap = gps_companies.marketcap.apply(lambda x: convert_market_cap_revenue(x) if pd.notnull(x) else x)\n",
    "gps_companies.marketcap = gps_companies.marketcap.astype(object).astype('Int64')\n",
    "gps_companies.head()"
   ]
  },
  {
   "cell_type": "code",
   "execution_count": null,
   "metadata": {},
   "outputs": [],
   "source": [
    "cleaned_files.append(gps_companies)"
   ]
  },
  {
   "cell_type": "markdown",
   "metadata": {},
   "source": [
    "### GioPonSpiz-disfold.com.json"
   ]
  },
  {
   "cell_type": "code",
   "execution_count": null,
   "metadata": {},
   "outputs": [],
   "source": [
    "files_list[14]"
   ]
  },
  {
   "cell_type": "code",
   "execution_count": null,
   "metadata": {},
   "outputs": [],
   "source": [
    "gps_disfold = pd.read_json(files_list[14])\n",
    "gps_disfold.head()"
   ]
  },
  {
   "cell_type": "code",
   "execution_count": null,
   "metadata": {},
   "outputs": [],
   "source": [
    "to_drop, _ = columns_to_remove_not_remove(gps_disfold)\n",
    "to_drop.append(\"industry\")"
   ]
  },
  {
   "cell_type": "code",
   "execution_count": null,
   "metadata": {},
   "outputs": [],
   "source": [
    "gps_disfold = gps_disfold.drop(to_drop, axis=1)\n",
    "to_rename = rename_columns(gps_disfold.columns)\n",
    "gps_disfold.columns = to_rename"
   ]
  },
  {
   "cell_type": "code",
   "execution_count": null,
   "metadata": {},
   "outputs": [],
   "source": [
    "gps_disfold = gps_disfold.replace(\"\", np.nan)\n",
    "gps_disfold.marketcap = gps_disfold.marketcap.apply(lambda x: convert_market_cap_revenue(x) if pd.notnull(x) else x)\n",
    "gps_disfold.marketcap = gps_disfold.marketcap.astype(object).astype('Int64')\n",
    "gps_disfold.head()"
   ]
  },
  {
   "cell_type": "code",
   "execution_count": null,
   "metadata": {},
   "outputs": [],
   "source": [
    "cleaned_files.append(gps_disfold)"
   ]
  },
  {
   "cell_type": "markdown",
   "metadata": {},
   "source": [
    "### GioPonSpiz-value.today.json"
   ]
  },
  {
   "cell_type": "code",
   "execution_count": null,
   "metadata": {},
   "outputs": [],
   "source": [
    "files_list[15]"
   ]
  },
  {
   "cell_type": "code",
   "execution_count": null,
   "metadata": {},
   "outputs": [],
   "source": [
    "gps_value = pd.read_json(files_list[15])\n",
    "gps_value.head()"
   ]
  },
  {
   "cell_type": "code",
   "execution_count": null,
   "metadata": {},
   "outputs": [],
   "source": [
    "to_drop, _ = columns_to_remove_not_remove(gps_value)"
   ]
  },
  {
   "cell_type": "code",
   "execution_count": null,
   "metadata": {},
   "outputs": [],
   "source": [
    "gps_value = gps_value.drop(to_drop, axis=1)\n",
    "to_rename = rename_columns(gps_value.columns)\n",
    "gps_value.columns = to_rename"
   ]
  },
  {
   "cell_type": "code",
   "execution_count": null,
   "metadata": {},
   "outputs": [],
   "source": [
    "gps_value.marketcap = gps_value.marketcap.apply(lambda x: convert_market_cap_revenue(x.replace(',', '')) if pd.notnull(x) else x)\n",
    "gps_value.marketcap = gps_value.marketcap.astype(object).astype('Int64')\n",
    "gps_value.head()"
   ]
  },
  {
   "cell_type": "code",
   "execution_count": null,
   "metadata": {},
   "outputs": [],
   "source": [
    "cleaned_files.append(gps_value)"
   ]
  },
  {
   "cell_type": "markdown",
   "metadata": {},
   "source": [
    "### GioPonSpiz-wikipedia.org.json"
   ]
  },
  {
   "cell_type": "code",
   "execution_count": null,
   "metadata": {},
   "outputs": [],
   "source": [
    "files_list[16]"
   ]
  },
  {
   "cell_type": "code",
   "execution_count": null,
   "metadata": {},
   "outputs": [],
   "source": [
    "gps_wiki = pd.read_json(files_list[16])\n",
    "gps_wiki.head()"
   ]
  },
  {
   "cell_type": "code",
   "execution_count": null,
   "metadata": {},
   "outputs": [],
   "source": [
    "to_drop, _ = columns_to_remove_not_remove(gps_wiki)\n",
    "to_drop.append(\"Industry\")"
   ]
  },
  {
   "cell_type": "code",
   "execution_count": null,
   "metadata": {},
   "outputs": [],
   "source": [
    "gps_wiki = gps_wiki.drop(to_drop, axis=1)\n",
    "to_rename = rename_columns(gps_wiki.columns)\n",
    "gps_wiki.columns = to_rename"
   ]
  },
  {
   "cell_type": "code",
   "execution_count": null,
   "metadata": {},
   "outputs": [],
   "source": [
    "gps_wiki = gps_wiki.replace('', np.nan)\n",
    "gps_wiki = gps_wiki.replace('UNKNOWN', np.nan)\n",
    "gps_wiki = gps_wiki.replace('?', np.nan)\n",
    "gps_wiki = gps_wiki.replace('-', np.nan)\n",
    "gps_wiki.founded = gps_wiki.founded.astype(object).astype('Int64')\n",
    "gps_wiki.head()"
   ]
  },
  {
   "cell_type": "code",
   "execution_count": null,
   "metadata": {},
   "outputs": [],
   "source": [
    "cleaned_files.append(gps_wiki)"
   ]
  },
  {
   "cell_type": "markdown",
   "metadata": {},
   "source": [
    "## MalPatSaj"
   ]
  },
  {
   "cell_type": "markdown",
   "metadata": {},
   "source": [
    "### MalPatSaj-companiesmarketcap.com.xls"
   ]
  },
  {
   "cell_type": "code",
   "execution_count": null,
   "metadata": {},
   "outputs": [],
   "source": [
    "files_list[17]"
   ]
  },
  {
   "cell_type": "code",
   "execution_count": null,
   "metadata": {},
   "outputs": [],
   "source": [
    "mps_companies = pd.read_excel(files_list[17])\n",
    "mps_companies.head()"
   ]
  },
  {
   "cell_type": "code",
   "execution_count": null,
   "metadata": {},
   "outputs": [],
   "source": [
    "to_drop, _ = columns_to_remove_not_remove(mps_companies)"
   ]
  },
  {
   "cell_type": "code",
   "execution_count": null,
   "metadata": {},
   "outputs": [],
   "source": [
    "mps_companies = mps_companies.drop(to_drop, axis=1)\n",
    "to_rename = rename_columns(mps_companies.columns)\n",
    "mps_companies.columns = to_rename"
   ]
  },
  {
   "cell_type": "code",
   "execution_count": null,
   "metadata": {},
   "outputs": [],
   "source": [
    "mps_companies.marketcap = mps_companies.marketcap.apply(lambda x: convert_market_cap_revenue(x) if pd.notnull(x) else x)\n",
    "mps_companies.marketcap = mps_companies.marketcap.astype(object).astype('Int64')\n",
    "mps_companies.head()"
   ]
  },
  {
   "cell_type": "code",
   "execution_count": null,
   "metadata": {},
   "outputs": [],
   "source": [
    "cleaned_files.append(mps_companies)"
   ]
  },
  {
   "cell_type": "markdown",
   "metadata": {},
   "source": [
    "### MalPatSaj-disfold.com.xlsx"
   ]
  },
  {
   "cell_type": "code",
   "execution_count": null,
   "metadata": {},
   "outputs": [],
   "source": [
    "files_list[18]"
   ]
  },
  {
   "cell_type": "code",
   "execution_count": null,
   "metadata": {},
   "outputs": [],
   "source": [
    "mps_disfold = pd.read_excel(files_list[18])\n",
    "mps_disfold.head()"
   ]
  },
  {
   "cell_type": "code",
   "execution_count": null,
   "metadata": {},
   "outputs": [],
   "source": [
    "to_drop, _ = columns_to_remove_not_remove(mps_disfold)\n",
    "to_drop.append(\"Industry\")"
   ]
  },
  {
   "cell_type": "code",
   "execution_count": null,
   "metadata": {},
   "outputs": [],
   "source": [
    "mps_disfold = mps_disfold.drop(to_drop, axis=1)\n",
    "to_rename = rename_columns(mps_disfold.columns)\n",
    "mps_disfold.columns = to_rename"
   ]
  },
  {
   "cell_type": "code",
   "execution_count": null,
   "metadata": {},
   "outputs": [],
   "source": [
    "mps_disfold.marketcap = mps_disfold.marketcap.apply(lambda x: convert_market_cap_revenue(x) if pd.notnull(x) else x)\n",
    "mps_disfold.marketcap = mps_disfold.marketcap.astype(object).astype('Int64')\n",
    "mps_disfold.head()"
   ]
  },
  {
   "cell_type": "code",
   "execution_count": null,
   "metadata": {},
   "outputs": [],
   "source": [
    "cleaned_files.append(mps_disfold)"
   ]
  },
  {
   "cell_type": "markdown",
   "metadata": {},
   "source": [
    "### MalPatSaj-forbes.com.xls"
   ]
  },
  {
   "cell_type": "code",
   "execution_count": null,
   "metadata": {},
   "outputs": [],
   "source": [
    "files_list[19]"
   ]
  },
  {
   "cell_type": "code",
   "execution_count": null,
   "metadata": {},
   "outputs": [],
   "source": [
    "mps_forbes = pd.read_excel(files_list[19])\n",
    "mps_forbes.head()"
   ]
  },
  {
   "cell_type": "code",
   "execution_count": null,
   "metadata": {},
   "outputs": [],
   "source": [
    "to_drop, _ = columns_to_remove_not_remove(mps_forbes)\n",
    "to_drop.append(\"Assets\")"
   ]
  },
  {
   "cell_type": "code",
   "execution_count": null,
   "metadata": {},
   "outputs": [],
   "source": [
    "mps_forbes = mps_forbes.drop(to_drop, axis=1)\n",
    "to_rename = rename_columns(mps_forbes.columns)\n",
    "mps_forbes.columns = to_rename"
   ]
  },
  {
   "cell_type": "code",
   "execution_count": null,
   "metadata": {},
   "outputs": [],
   "source": [
    "mps_forbes.revenue = mps_forbes.revenue.apply(lambda x: convert_market_cap_revenue(x) if pd.notnull(x) else x)\n",
    "mps_forbes.revenue = mps_forbes.revenue.astype(object).astype('Int64')\n",
    "mps_forbes.head()"
   ]
  },
  {
   "cell_type": "code",
   "execution_count": null,
   "metadata": {},
   "outputs": [],
   "source": [
    "cleaned_files.append(mps_forbes)"
   ]
  },
  {
   "cell_type": "markdown",
   "metadata": {},
   "source": [
    "### MalPatSaj-wikipedia.org.xls"
   ]
  },
  {
   "cell_type": "code",
   "execution_count": null,
   "metadata": {},
   "outputs": [],
   "source": [
    "files_list[20]"
   ]
  },
  {
   "cell_type": "code",
   "execution_count": null,
   "metadata": {},
   "outputs": [],
   "source": [
    "mps_wiki = pd.read_excel(files_list[20])\n",
    "mps_wiki.head()"
   ]
  },
  {
   "cell_type": "code",
   "execution_count": null,
   "metadata": {},
   "outputs": [],
   "source": [
    "to_drop, _ = columns_to_remove_not_remove(mps_wiki)\n",
    "to_drop.append(\"Industry\")"
   ]
  },
  {
   "cell_type": "code",
   "execution_count": null,
   "metadata": {},
   "outputs": [],
   "source": [
    "mps_wiki = mps_wiki.drop(to_drop, axis=1)\n",
    "to_rename = rename_columns(mps_wiki.columns)\n",
    "mps_wiki.columns = to_rename\n",
    "mps_wiki.founded = mps_wiki.founded.str.extract(r'([\\d]{4})')\n",
    "mps_wiki.founded = mps_wiki.founded.astype(object).astype('Int64')\n",
    "mps_wiki.head()"
   ]
  },
  {
   "cell_type": "code",
   "execution_count": null,
   "metadata": {},
   "outputs": [],
   "source": [
    "cleaned_files.append(mps_wiki)"
   ]
  },
  {
   "cell_type": "markdown",
   "metadata": {},
   "source": [
    "## MarScoToc"
   ]
  },
  {
   "cell_type": "markdown",
   "metadata": {},
   "source": [
    "### MarScoToc-ambitionbox.com.csv"
   ]
  },
  {
   "cell_type": "code",
   "execution_count": null,
   "metadata": {},
   "outputs": [],
   "source": [
    "files_list[21]"
   ]
  },
  {
   "cell_type": "code",
   "execution_count": null,
   "metadata": {},
   "outputs": [],
   "source": [
    "mst_ambition = pd.read_csv(files_list[21], encoding=\"utf-8\", encoding_errors=\"ignore\")\n",
    "mst_ambition.head()"
   ]
  },
  {
   "cell_type": "code",
   "execution_count": null,
   "metadata": {},
   "outputs": [],
   "source": [
    "to_drop, _ = columns_to_remove_not_remove(mst_ambition)"
   ]
  },
  {
   "cell_type": "code",
   "execution_count": null,
   "metadata": {},
   "outputs": [],
   "source": [
    "mst_ambition = mst_ambition.drop(to_drop, axis=1)\n",
    "to_rename = rename_columns(mst_ambition.columns)\n",
    "mst_ambition.columns = to_rename"
   ]
  },
  {
   "cell_type": "code",
   "execution_count": null,
   "metadata": {},
   "outputs": [],
   "source": [
    "mst_ambition.country = mst_ambition.country.apply(lambda x: str(x).split(',')[-1])\n",
    "mst_ambition.founded = mst_ambition.founded.str.extract(r'([\\d]{4})')\n",
    "mst_ambition = mst_ambition.replace('nan', np.nan)\n",
    "\n",
    "mst_ambition.founded = mst_ambition.founded.astype(object).astype('Int64')\n",
    "\n",
    "mst_ambition.head()"
   ]
  },
  {
   "cell_type": "code",
   "execution_count": null,
   "metadata": {},
   "outputs": [],
   "source": [
    "cleaned_files.append(mst_ambition)"
   ]
  },
  {
   "cell_type": "markdown",
   "metadata": {},
   "source": [
    "### MarScoToc-companiesmarketcap.com.csv"
   ]
  },
  {
   "cell_type": "code",
   "execution_count": null,
   "metadata": {},
   "outputs": [],
   "source": [
    "files_list[22]"
   ]
  },
  {
   "cell_type": "code",
   "execution_count": null,
   "metadata": {},
   "outputs": [],
   "source": [
    "mst_companies = pd.read_csv(files_list[22], encoding=\"utf-8\", encoding_errors=\"ignore\")\n",
    "mst_companies.head()"
   ]
  },
  {
   "cell_type": "code",
   "execution_count": null,
   "metadata": {},
   "outputs": [],
   "source": [
    "to_drop, _ = columns_to_remove_not_remove(mst_companies)"
   ]
  },
  {
   "cell_type": "code",
   "execution_count": null,
   "metadata": {},
   "outputs": [],
   "source": [
    "mst_companies = mst_companies.drop(to_drop, axis=1)\n",
    "to_rename = rename_columns(mst_companies.columns)\n",
    "mst_companies.columns = to_rename"
   ]
  },
  {
   "cell_type": "code",
   "execution_count": null,
   "metadata": {},
   "outputs": [],
   "source": [
    "mst_companies.marketcap = mst_companies.marketcap.apply(lambda x: convert_market_cap_revenue(x) if pd.notnull(x) else x)\n",
    "mst_companies.marketcap = mst_companies.marketcap.astype(object).astype('Int64')\n",
    "mst_companies.head()"
   ]
  },
  {
   "cell_type": "code",
   "execution_count": null,
   "metadata": {},
   "outputs": [],
   "source": [
    "cleaned_files.append(mst_companies)"
   ]
  },
  {
   "cell_type": "markdown",
   "metadata": {},
   "source": [
    "### MarScoToc-wikipedia.org.csv"
   ]
  },
  {
   "cell_type": "code",
   "execution_count": null,
   "metadata": {},
   "outputs": [],
   "source": [
    "files_list[24]"
   ]
  },
  {
   "cell_type": "code",
   "execution_count": null,
   "metadata": {},
   "outputs": [],
   "source": [
    "mst_wiki = pd.read_csv(files_list[24], encoding=\"utf-8\", encoding_errors=\"ignore\")\n",
    "mst_wiki.head()"
   ]
  },
  {
   "cell_type": "code",
   "execution_count": null,
   "metadata": {},
   "outputs": [],
   "source": [
    "to_drop, _ = columns_to_remove_not_remove(mst_wiki)"
   ]
  },
  {
   "cell_type": "code",
   "execution_count": null,
   "metadata": {},
   "outputs": [],
   "source": [
    "mst_wiki = mst_wiki.drop(to_drop, axis=1)\n",
    "to_rename = rename_columns(mst_wiki.columns)\n",
    "mst_wiki.columns = to_rename"
   ]
  },
  {
   "cell_type": "code",
   "execution_count": null,
   "metadata": {},
   "outputs": [],
   "source": [
    "mst_wiki.country = mst_wiki.country.apply(lambda x: str(x).split(',')[-1])\n",
    "mst_wiki.founded = mst_wiki.founded.str.extract(r'([\\d]{4})')\n",
    "mst_wiki = mst_wiki.replace('nan', np.nan)\n",
    "\n",
    "mst_wiki.founded = mst_wiki.founded.astype(object).astype('Int64')\n",
    "\n",
    "mst_wiki.head()"
   ]
  },
  {
   "cell_type": "code",
   "execution_count": null,
   "metadata": {},
   "outputs": [],
   "source": [
    "cleaned_files.append(mst_wiki)"
   ]
  },
  {
   "cell_type": "markdown",
   "metadata": {},
   "source": [
    "## avengers"
   ]
  },
  {
   "cell_type": "markdown",
   "metadata": {},
   "source": [
    "### avengers-companiesmarketcap.jsonl"
   ]
  },
  {
   "cell_type": "code",
   "execution_count": null,
   "metadata": {},
   "outputs": [],
   "source": [
    "files_list[25]"
   ]
  },
  {
   "cell_type": "code",
   "execution_count": null,
   "metadata": {},
   "outputs": [],
   "source": [
    "avengers_companies = pd.read_json(files_list[25], lines=True)\n",
    "avengers_companies.head()"
   ]
  },
  {
   "cell_type": "code",
   "execution_count": null,
   "metadata": {},
   "outputs": [],
   "source": [
    "to_drop, _ = columns_to_remove_not_remove(avengers_companies)"
   ]
  },
  {
   "cell_type": "code",
   "execution_count": null,
   "metadata": {},
   "outputs": [],
   "source": [
    "avengers_companies = avengers_companies.drop(to_drop, axis=1)\n",
    "to_rename = rename_columns(avengers_companies.columns)\n",
    "avengers_companies.columns = to_rename"
   ]
  },
  {
   "cell_type": "code",
   "execution_count": null,
   "metadata": {},
   "outputs": [],
   "source": [
    "avengers_companies.marketcap = avengers_companies.marketcap.apply(lambda x: convert_market_cap_revenue(x) if pd.notnull(x) else x)\n",
    "avengers_companies.marketcap = avengers_companies.marketcap.astype(object).astype('Int64')\n",
    "avengers_companies.head()"
   ]
  },
  {
   "cell_type": "code",
   "execution_count": null,
   "metadata": {},
   "outputs": [],
   "source": [
    "cleaned_files.append(avengers_companies)"
   ]
  },
  {
   "cell_type": "markdown",
   "metadata": {},
   "source": [
    "### avengers-disfold.jsonl"
   ]
  },
  {
   "cell_type": "code",
   "execution_count": null,
   "metadata": {},
   "outputs": [],
   "source": [
    "files_list[26]"
   ]
  },
  {
   "cell_type": "code",
   "execution_count": null,
   "metadata": {},
   "outputs": [],
   "source": [
    "avengers_disfold = pd.read_json(files_list[26], lines=True)\n",
    "avengers_disfold.head()"
   ]
  },
  {
   "cell_type": "code",
   "execution_count": null,
   "metadata": {},
   "outputs": [],
   "source": [
    "avengers_disfold.gbp = avengers_disfold.gbp.fillna(avengers_disfold.market_cap)"
   ]
  },
  {
   "cell_type": "code",
   "execution_count": null,
   "metadata": {},
   "outputs": [],
   "source": [
    "to_drop, _ = columns_to_remove_not_remove(avengers_disfold)\n",
    "to_drop.append(\"market_cap\")"
   ]
  },
  {
   "cell_type": "code",
   "execution_count": null,
   "metadata": {},
   "outputs": [],
   "source": [
    "avengers_disfold = avengers_disfold.drop(to_drop, axis=1)\n",
    "to_rename = rename_columns(avengers_disfold.columns)\n",
    "avengers_disfold.columns = to_rename"
   ]
  },
  {
   "cell_type": "code",
   "execution_count": null,
   "metadata": {},
   "outputs": [],
   "source": [
    "avengers_disfold.employees = avengers_disfold.employees.apply(lambda x: str(x).replace(',', ''))\n",
    "avengers_disfold.founded = avengers_disfold.founded.str.extract(r'([\\d]{4})')\n",
    "avengers_disfold.marketcap = avengers_disfold.marketcap.apply(lambda x: convert_market_cap_revenue(x) if pd.notnull(x) else x)\n",
    "\n",
    "avengers_disfold = avengers_disfold.replace('nan', np.nan)\n",
    "\n",
    "avengers_disfold.marketcap = avengers_disfold.marketcap.astype(object).astype('Int64')\n",
    "avengers_disfold.employees = avengers_disfold.employees.astype(object).astype('Int64')\n",
    "avengers_disfold.founded = avengers_disfold.founded.astype(object).astype('Int64')\n",
    "avengers_disfold.head()"
   ]
  },
  {
   "cell_type": "code",
   "execution_count": null,
   "metadata": {},
   "outputs": [],
   "source": [
    "cleaned_files.append(avengers_disfold)"
   ]
  },
  {
   "cell_type": "markdown",
   "metadata": {},
   "source": [
    "### avengers-hithorizons.jsonl"
   ]
  },
  {
   "cell_type": "code",
   "execution_count": null,
   "metadata": {},
   "outputs": [],
   "source": [
    "files_list[27]"
   ]
  },
  {
   "cell_type": "code",
   "execution_count": null,
   "metadata": {},
   "outputs": [],
   "source": [
    "avengers_hit = pd.read_json(files_list[27], lines=True)\n",
    "avengers_hit.head()"
   ]
  },
  {
   "cell_type": "code",
   "execution_count": null,
   "metadata": {},
   "outputs": [],
   "source": [
    "to_drop, _ = columns_to_remove_not_remove(avengers_hit)"
   ]
  },
  {
   "cell_type": "code",
   "execution_count": null,
   "metadata": {},
   "outputs": [],
   "source": [
    "avengers_hit = avengers_hit.drop(to_drop, axis=1)\n",
    "to_rename = rename_columns(avengers_hit.columns)\n",
    "avengers_hit.columns = to_rename"
   ]
  },
  {
   "cell_type": "code",
   "execution_count": null,
   "metadata": {},
   "outputs": [],
   "source": [
    "avengers_hit.country = avengers_hit.country.apply(lambda x: str(x).split(',', 5)[-1])\n",
    "avengers_hit.founded = avengers_hit.founded.astype(object).astype('Int64')\n",
    "\n",
    "avengers_hit.head()"
   ]
  },
  {
   "cell_type": "code",
   "execution_count": null,
   "metadata": {},
   "outputs": [],
   "source": [
    "cleaned_files.append(avengers_hit)"
   ]
  },
  {
   "cell_type": "markdown",
   "metadata": {},
   "source": [
    "### avengers-valuetoday.jsonl"
   ]
  },
  {
   "cell_type": "code",
   "execution_count": null,
   "metadata": {},
   "outputs": [],
   "source": [
    "files_list[28]"
   ]
  },
  {
   "cell_type": "code",
   "execution_count": null,
   "metadata": {},
   "outputs": [],
   "source": [
    "avengers_value = pd.read_json(files_list[28], lines=True)\n",
    "avengers_value.head()"
   ]
  },
  {
   "cell_type": "code",
   "execution_count": null,
   "metadata": {},
   "outputs": [],
   "source": [
    "to_drop, _ = columns_to_remove_not_remove(avengers_value)"
   ]
  },
  {
   "cell_type": "code",
   "execution_count": null,
   "metadata": {},
   "outputs": [],
   "source": [
    "avengers_value = avengers_value.drop(to_drop, axis=1)\n",
    "to_rename = rename_columns(avengers_value.columns)\n",
    "avengers_value.columns = to_rename"
   ]
  },
  {
   "cell_type": "code",
   "execution_count": null,
   "metadata": {},
   "outputs": [],
   "source": [
    "avengers_value.employees = avengers_value.employees.apply(lambda x: str(x).replace(',', ''))\n",
    "avengers_value.revenue = avengers_value.revenue.apply(lambda x: convert_market_cap_revenue(x.replace(',', '.')) if pd.notnull(x) else x)\n",
    "\n",
    "avengers_value = avengers_value.replace('nan', np.nan)\n",
    "\n",
    "avengers_value.employees = avengers_value.employees.astype(object).astype('Int64')\n",
    "avengers_value.revenue = avengers_value.revenue.astype(object).astype('Int64')\n",
    "avengers_value.head()"
   ]
  },
  {
   "cell_type": "code",
   "execution_count": null,
   "metadata": {},
   "outputs": [],
   "source": [
    "cleaned_files.append(avengers_value)"
   ]
  },
  {
   "cell_type": "markdown",
   "metadata": {},
   "source": [
    "## gren"
   ]
  },
  {
   "cell_type": "markdown",
   "metadata": {},
   "source": [
    "### gren-companiesmarketcap.com.json"
   ]
  },
  {
   "cell_type": "code",
   "execution_count": null,
   "metadata": {},
   "outputs": [],
   "source": [
    "files_list[29]"
   ]
  },
  {
   "cell_type": "code",
   "execution_count": null,
   "metadata": {},
   "outputs": [],
   "source": [
    "gren_companies = pd.read_json(files_list[29])\n",
    "gren_companies.head()"
   ]
  },
  {
   "cell_type": "code",
   "execution_count": null,
   "metadata": {},
   "outputs": [],
   "source": [
    "to_drop, _ = columns_to_remove_not_remove(gren_companies)"
   ]
  },
  {
   "cell_type": "code",
   "execution_count": null,
   "metadata": {},
   "outputs": [],
   "source": [
    "gren_companies = gren_companies.drop(to_drop, axis=1)\n",
    "to_rename = rename_columns(gren_companies.columns)\n",
    "gren_companies.columns = to_rename\n",
    "gren_companies = gren_companies.replace('', np.nan)\n",
    "gren_companies.marketcap = gren_companies.marketcap.astype(object).astype('Int64')\n",
    "gren_companies.head()"
   ]
  },
  {
   "cell_type": "code",
   "execution_count": null,
   "metadata": {},
   "outputs": [],
   "source": [
    "cleaned_files.append(gren_companies)"
   ]
  },
  {
   "cell_type": "markdown",
   "metadata": {},
   "source": [
    "### gren-disfold.com.json"
   ]
  },
  {
   "cell_type": "code",
   "execution_count": null,
   "metadata": {},
   "outputs": [],
   "source": [
    "files_list[30]"
   ]
  },
  {
   "cell_type": "code",
   "execution_count": null,
   "metadata": {},
   "outputs": [],
   "source": [
    "gren_disfold = pd.read_json(files_list[30])\n",
    "gren_disfold.head()"
   ]
  },
  {
   "cell_type": "code",
   "execution_count": null,
   "metadata": {},
   "outputs": [],
   "source": [
    "to_drop, _ = columns_to_remove_not_remove(gren_disfold)\n",
    "to_drop.append(\"industry\")"
   ]
  },
  {
   "cell_type": "code",
   "execution_count": null,
   "metadata": {},
   "outputs": [],
   "source": [
    "gren_disfold = gren_disfold.drop(to_drop, axis=1)\n",
    "to_rename = rename_columns(gren_disfold.columns)\n",
    "gren_disfold.columns = to_rename\n",
    "gren_disfold.head()"
   ]
  },
  {
   "cell_type": "code",
   "execution_count": null,
   "metadata": {},
   "outputs": [],
   "source": [
    "cleaned_files.append(gren_disfold)"
   ]
  },
  {
   "cell_type": "markdown",
   "metadata": {},
   "source": [
    "### gren-ft.com.json"
   ]
  },
  {
   "cell_type": "code",
   "execution_count": null,
   "metadata": {},
   "outputs": [],
   "source": [
    "files_list[31]"
   ]
  },
  {
   "cell_type": "code",
   "execution_count": null,
   "metadata": {},
   "outputs": [],
   "source": [
    "gren_ft = pd.read_json(files_list[31])\n",
    "gren_ft.head()"
   ]
  },
  {
   "cell_type": "code",
   "execution_count": null,
   "metadata": {},
   "outputs": [],
   "source": [
    "to_drop, _ = columns_to_remove_not_remove(gren_ft)"
   ]
  },
  {
   "cell_type": "code",
   "execution_count": null,
   "metadata": {},
   "outputs": [],
   "source": [
    "gren_ft = gren_ft.drop(to_drop, axis=1)\n",
    "to_rename = rename_columns(gren_ft.columns)\n",
    "gren_ft.columns = to_rename"
   ]
  },
  {
   "cell_type": "code",
   "execution_count": null,
   "metadata": {},
   "outputs": [],
   "source": [
    "gren_ft = gren_ft.replace('n/a', np.nan)\n",
    "gren_ft.employees = gren_ft.employees.astype(object).astype('Int64')\n",
    "gren_ft.head()"
   ]
  },
  {
   "cell_type": "code",
   "execution_count": null,
   "metadata": {},
   "outputs": [],
   "source": [
    "cleaned_files.append(gren_ft)"
   ]
  },
  {
   "cell_type": "markdown",
   "metadata": {},
   "source": [
    "### gren-value.today.json"
   ]
  },
  {
   "cell_type": "code",
   "execution_count": null,
   "metadata": {},
   "outputs": [],
   "source": [
    "files_list[32]"
   ]
  },
  {
   "cell_type": "code",
   "execution_count": null,
   "metadata": {},
   "outputs": [],
   "source": [
    "gren_value = pd.read_json(files_list[32])\n",
    "gren_value.head()"
   ]
  },
  {
   "cell_type": "code",
   "execution_count": null,
   "metadata": {},
   "outputs": [],
   "source": [
    "url_dataset = ['wikipedia_page_url', 'twitter_page_url', 'facebook_page_url']\n",
    "gren_value['link'] = gren_value[url_dataset].values.tolist()"
   ]
  },
  {
   "cell_type": "code",
   "execution_count": null,
   "metadata": {},
   "outputs": [],
   "source": [
    "to_drop, _ = columns_to_remove_not_remove(gren_value)\n",
    "to_drop.extend(url_dataset)"
   ]
  },
  {
   "cell_type": "code",
   "execution_count": null,
   "metadata": {},
   "outputs": [],
   "source": [
    "gren_value = gren_value.drop(to_drop, axis=1)\n",
    "to_rename = rename_columns(gren_value.columns)\n",
    "gren_value.columns = to_rename"
   ]
  },
  {
   "cell_type": "code",
   "execution_count": null,
   "metadata": {},
   "outputs": [],
   "source": [
    "gren_value = gren_value.replace('', np.nan)\n",
    "gren_value.revenue = gren_value.revenue.astype(object).astype('Int64')\n",
    "gren_value.marketcap = gren_value.marketcap.astype(object).astype('Int64')\n",
    "gren_value.employees = gren_value.employees.astype(object).astype('Int64')\n",
    "gren_value.head()"
   ]
  },
  {
   "cell_type": "code",
   "execution_count": null,
   "metadata": {},
   "outputs": [],
   "source": [
    "cleaned_files.append(gren_value)"
   ]
  },
  {
   "cell_type": "markdown",
   "metadata": {},
   "source": [
    "## iGMM"
   ]
  },
  {
   "cell_type": "markdown",
   "metadata": {},
   "source": [
    "### iGMM-cbinsights.com.json"
   ]
  },
  {
   "cell_type": "code",
   "execution_count": null,
   "metadata": {},
   "outputs": [],
   "source": [
    "files_list[33]"
   ]
  },
  {
   "cell_type": "code",
   "execution_count": null,
   "metadata": {},
   "outputs": [],
   "source": [
    "igmm_cbinsights = pd.read_json(files_list[33])\n",
    "igmm_cbinsights.head()"
   ]
  },
  {
   "cell_type": "code",
   "execution_count": null,
   "metadata": {},
   "outputs": [],
   "source": [
    "to_drop, _ = columns_to_remove_not_remove(igmm_cbinsights)"
   ]
  },
  {
   "cell_type": "code",
   "execution_count": null,
   "metadata": {},
   "outputs": [],
   "source": [
    "igmm_cbinsights = igmm_cbinsights.drop(to_drop, axis=1)\n",
    "to_rename = rename_columns(igmm_cbinsights.columns)\n",
    "igmm_cbinsights.columns = to_rename\n",
    "igmm_cbinsights.head()"
   ]
  },
  {
   "cell_type": "code",
   "execution_count": null,
   "metadata": {},
   "outputs": [],
   "source": [
    "cleaned_files.append(igmm_cbinsights)"
   ]
  },
  {
   "cell_type": "markdown",
   "metadata": {},
   "source": [
    "### iGMM-companiesmarketcap.com.json"
   ]
  },
  {
   "cell_type": "code",
   "execution_count": null,
   "metadata": {},
   "outputs": [],
   "source": [
    "files_list[34]"
   ]
  },
  {
   "cell_type": "code",
   "execution_count": null,
   "metadata": {},
   "outputs": [],
   "source": [
    "igmm_companies = pd.read_json(files_list[34])\n",
    "igmm_companies.head()"
   ]
  },
  {
   "cell_type": "code",
   "execution_count": null,
   "metadata": {},
   "outputs": [],
   "source": [
    "to_drop, _ = columns_to_remove_not_remove(igmm_companies)"
   ]
  },
  {
   "cell_type": "code",
   "execution_count": null,
   "metadata": {},
   "outputs": [],
   "source": [
    "igmm_companies = igmm_companies.drop(to_drop, axis=1)\n",
    "to_rename = rename_columns(igmm_companies.columns)\n",
    "igmm_companies.columns = to_rename"
   ]
  },
  {
   "cell_type": "code",
   "execution_count": null,
   "metadata": {},
   "outputs": [],
   "source": [
    "igmm_companies.marketcap = igmm_companies.marketcap.apply(lambda x: convert_market_cap_revenue(x) if pd.notnull(x) else x)\n",
    "igmm_companies = igmm_companies.replace('N/A', np.nan) \n",
    "igmm_companies.marketcap = igmm_companies.marketcap.astype(object).astype('Int64')\n",
    "igmm_companies.head()"
   ]
  },
  {
   "cell_type": "code",
   "execution_count": null,
   "metadata": {},
   "outputs": [],
   "source": [
    "cleaned_files.append(igmm_companies)"
   ]
  },
  {
   "cell_type": "markdown",
   "metadata": {},
   "source": [
    "### iGMM-disfold.com.json"
   ]
  },
  {
   "cell_type": "code",
   "execution_count": null,
   "metadata": {},
   "outputs": [],
   "source": [
    "files_list[35]"
   ]
  },
  {
   "cell_type": "code",
   "execution_count": null,
   "metadata": {},
   "outputs": [],
   "source": [
    "igmm_disfold = pd.read_json(files_list[35])\n",
    "igmm_disfold.head()"
   ]
  },
  {
   "cell_type": "code",
   "execution_count": null,
   "metadata": {},
   "outputs": [],
   "source": [
    "to_drop, _ = columns_to_remove_not_remove(igmm_disfold)\n",
    "to_drop.append(\"headquarters\")\n",
    "to_drop.append(\"revenue\")\n",
    "to_drop.append(\"industry\")"
   ]
  },
  {
   "cell_type": "code",
   "execution_count": null,
   "metadata": {},
   "outputs": [],
   "source": [
    "igmm_disfold = igmm_disfold.drop(to_drop, axis=1)\n",
    "to_rename = rename_columns(igmm_disfold.columns)\n",
    "igmm_disfold.columns = to_rename"
   ]
  },
  {
   "cell_type": "code",
   "execution_count": null,
   "metadata": {},
   "outputs": [],
   "source": [
    "igmm_disfold.employees = igmm_disfold.employees.apply(lambda x: str(x).replace(',', ''))\n",
    "igmm_disfold.founded = igmm_disfold.founded.str.extract(r'([\\d]{4})')\n",
    "igmm_disfold.marketcap = igmm_disfold.marketcap.apply(lambda x: convert_market_cap_revenue(x) if pd.notnull(x) else x)\n",
    "igmm_disfold = igmm_disfold.replace('None', np.nan)\n",
    "\n",
    "igmm_disfold.employees = igmm_disfold.employees.astype(object).astype('Int64')\n",
    "igmm_disfold.founded = igmm_disfold.founded.astype(object).astype('Int64')\n",
    "igmm_disfold.marketcap = igmm_disfold.marketcap.astype(object).astype('Int64')\n",
    "\n",
    "igmm_disfold.head()"
   ]
  },
  {
   "cell_type": "code",
   "execution_count": null,
   "metadata": {},
   "outputs": [],
   "source": [
    "cleaned_files.append(igmm_disfold)"
   ]
  },
  {
   "cell_type": "markdown",
   "metadata": {},
   "source": [
    "### iGMM-value.today.json"
   ]
  },
  {
   "cell_type": "code",
   "execution_count": null,
   "metadata": {},
   "outputs": [],
   "source": [
    "files_list[36]"
   ]
  },
  {
   "cell_type": "code",
   "execution_count": null,
   "metadata": {},
   "outputs": [],
   "source": [
    "igmm_value = pd.read_json(files_list[36])\n",
    "igmm_value.head()"
   ]
  },
  {
   "cell_type": "code",
   "execution_count": null,
   "metadata": {},
   "outputs": [],
   "source": [
    "to_drop, _ = columns_to_remove_not_remove(igmm_value)"
   ]
  },
  {
   "cell_type": "code",
   "execution_count": null,
   "metadata": {},
   "outputs": [],
   "source": [
    "igmm_value = igmm_value.drop(to_drop, axis=1)\n",
    "to_rename = rename_columns(igmm_value.columns)\n",
    "igmm_value.columns = to_rename"
   ]
  },
  {
   "cell_type": "code",
   "execution_count": null,
   "metadata": {},
   "outputs": [],
   "source": [
    "igmm_value.employees = igmm_disfold.employees.apply(lambda x: str(x).replace(',', ''))\n",
    "igmm_value.revenue = igmm_value.revenue.apply(lambda x: convert_market_cap_revenue(x.replace(',', '.')) if pd.notnull(x) else x)\n",
    "igmm_value = igmm_value.replace('<NA>', np.nan)\n",
    "\n",
    "igmm_value.employees = igmm_value.employees.astype(object).astype('Int64')\n",
    "igmm_value.revenue = igmm_value.revenue.astype(object).astype('Int64')\n",
    "\n",
    "igmm_value.head()"
   ]
  },
  {
   "cell_type": "code",
   "execution_count": null,
   "metadata": {},
   "outputs": [],
   "source": [
    "cleaned_files.append(igmm_value)"
   ]
  },
  {
   "cell_type": "markdown",
   "metadata": {},
   "source": [
    "## silvestri"
   ]
  },
  {
   "cell_type": "markdown",
   "metadata": {},
   "source": [
    "### silvestri-disfold.com.csv"
   ]
  },
  {
   "cell_type": "code",
   "execution_count": null,
   "metadata": {},
   "outputs": [],
   "source": [
    "files_list[37]"
   ]
  },
  {
   "cell_type": "code",
   "execution_count": null,
   "metadata": {},
   "outputs": [],
   "source": [
    "silvestri_disfold = pd.read_csv(files_list[37])\n",
    "silvestri_disfold.head()"
   ]
  },
  {
   "cell_type": "code",
   "execution_count": null,
   "metadata": {},
   "outputs": [],
   "source": [
    "to_drop, _ = columns_to_remove_not_remove(silvestri_disfold)"
   ]
  },
  {
   "cell_type": "code",
   "execution_count": null,
   "metadata": {},
   "outputs": [],
   "source": [
    "silvestri_disfold = silvestri_disfold.drop(to_drop, axis=1)\n",
    "to_rename = rename_columns(silvestri_disfold.columns)\n",
    "silvestri_disfold.columns = to_rename\n",
    "silvestri_disfold.head()"
   ]
  },
  {
   "cell_type": "code",
   "execution_count": null,
   "metadata": {},
   "outputs": [],
   "source": [
    "cleaned_files.append(silvestri_disfold)"
   ]
  },
  {
   "cell_type": "markdown",
   "metadata": {},
   "source": [
    "### silvestri-forbes.com.csv"
   ]
  },
  {
   "cell_type": "code",
   "execution_count": null,
   "metadata": {},
   "outputs": [],
   "source": [
    "files_list[38]"
   ]
  },
  {
   "cell_type": "code",
   "execution_count": null,
   "metadata": {},
   "outputs": [],
   "source": [
    "silvestri_forbes = pd.read_csv(files_list[38])\n",
    "silvestri_forbes.head()"
   ]
  },
  {
   "cell_type": "code",
   "execution_count": null,
   "metadata": {},
   "outputs": [],
   "source": [
    "to_drop, _ = columns_to_remove_not_remove(silvestri_forbes)"
   ]
  },
  {
   "cell_type": "code",
   "execution_count": null,
   "metadata": {},
   "outputs": [],
   "source": [
    "silvestri_forbes = silvestri_forbes.drop(to_drop, axis=1)\n",
    "to_rename = rename_columns(silvestri_forbes.columns)\n",
    "silvestri_forbes.columns = to_rename"
   ]
  },
  {
   "cell_type": "code",
   "execution_count": null,
   "metadata": {},
   "outputs": [],
   "source": [
    "silvestri_forbes.revenue = silvestri_forbes.revenue.apply(lambda x: convert_market_cap_revenue(x.replace(',', '.')) if pd.notnull(x) else x)\n",
    "silvestri_forbes.revenue = silvestri_forbes.revenue.astype(object).astype('Int64')\n",
    "silvestri_forbes.head()"
   ]
  },
  {
   "cell_type": "code",
   "execution_count": null,
   "metadata": {},
   "outputs": [],
   "source": [
    "cleaned_files.append(silvestri_forbes)"
   ]
  },
  {
   "cell_type": "markdown",
   "metadata": {},
   "source": [
    "### silvestri-ft.com.csv"
   ]
  },
  {
   "cell_type": "code",
   "execution_count": null,
   "metadata": {},
   "outputs": [],
   "source": [
    "files_list[39]"
   ]
  },
  {
   "cell_type": "code",
   "execution_count": null,
   "metadata": {},
   "outputs": [],
   "source": [
    "silvestri_ft = pd.read_csv(files_list[39])\n",
    "silvestri_ft.head()"
   ]
  },
  {
   "cell_type": "code",
   "execution_count": null,
   "metadata": {},
   "outputs": [],
   "source": [
    "to_drop, _ = columns_to_remove_not_remove(silvestri_ft)"
   ]
  },
  {
   "cell_type": "code",
   "execution_count": null,
   "metadata": {},
   "outputs": [],
   "source": [
    "silvestri_ft = silvestri_ft.drop(to_drop, axis=1)\n",
    "to_rename = rename_columns(silvestri_ft.columns)\n",
    "silvestri_ft.columns = to_rename"
   ]
  },
  {
   "cell_type": "code",
   "execution_count": null,
   "metadata": {},
   "outputs": [],
   "source": [
    "silvestri_ft.revenue = silvestri_ft.revenue.apply(lambda x : (str(x).replace(',', '')))\n",
    "silvestri_ft.employees = silvestri_ft.employees.astype(str).replace(r'\\.0$', '', regex=True)\n",
    "silvestri_ft = silvestri_ft.replace('nan', np.nan)\n",
    "\n",
    "silvestri_ft.revenue = silvestri_ft.revenue.astype(object).astype('Int64')\n",
    "silvestri_ft.employees = silvestri_ft.employees.astype(object).astype('Int64')\n",
    "silvestri_ft.founded = silvestri_ft.founded.astype(object).astype('Int64')\n",
    "\n",
    "silvestri_ft.head()"
   ]
  },
  {
   "cell_type": "code",
   "execution_count": null,
   "metadata": {},
   "outputs": [],
   "source": [
    "cleaned_files.append(silvestri_ft)"
   ]
  },
  {
   "cell_type": "markdown",
   "metadata": {},
   "source": [
    "### silvestri-value.today.csv"
   ]
  },
  {
   "cell_type": "code",
   "execution_count": null,
   "metadata": {},
   "outputs": [],
   "source": [
    "files_list[40]"
   ]
  },
  {
   "cell_type": "code",
   "execution_count": null,
   "metadata": {},
   "outputs": [],
   "source": [
    "silvestri_value = pd.read_csv(files_list[40])\n",
    "silvestri_value.head()"
   ]
  },
  {
   "cell_type": "code",
   "execution_count": null,
   "metadata": {},
   "outputs": [],
   "source": [
    "to_drop, _ = columns_to_remove_not_remove(silvestri_value)"
   ]
  },
  {
   "cell_type": "code",
   "execution_count": null,
   "metadata": {},
   "outputs": [],
   "source": [
    "silvestri_value = silvestri_value.drop(to_drop, axis=1)\n",
    "to_rename = rename_columns(silvestri_value.columns)\n",
    "silvestri_value.columns = to_rename"
   ]
  },
  {
   "cell_type": "code",
   "execution_count": null,
   "metadata": {},
   "outputs": [],
   "source": [
    "silvestri_value.employees = silvestri_value.employees.apply(lambda x : (str(x).replace(',', '')))\n",
    "silvestri_value.revenue = silvestri_value.revenue.apply(lambda x: convert_market_cap_revenue(x.replace(',', '.')) if pd.notnull(x) else x)\n",
    "\n",
    "silvestri_value = silvestri_value.replace('<NA>', np.nan)\n",
    "silvestri_value = silvestri_value.replace('nan', np.nan)\n",
    "\n",
    "silvestri_value.employees = silvestri_value.employees.astype(object).astype('Int64')\n",
    "silvestri_value.revenue = silvestri_value.revenue.astype(object).astype('Int64')\n",
    "silvestri_value.head()"
   ]
  },
  {
   "cell_type": "code",
   "execution_count": null,
   "metadata": {},
   "outputs": [],
   "source": [
    "cleaned_files.append(silvestri_value)"
   ]
  },
  {
   "cell_type": "markdown",
   "metadata": {},
   "source": [
    "## slytherin"
   ]
  },
  {
   "cell_type": "markdown",
   "metadata": {},
   "source": [
    "### slytherin-disfold.com.json"
   ]
  },
  {
   "cell_type": "code",
   "execution_count": null,
   "metadata": {},
   "outputs": [],
   "source": [
    "files_list[41]"
   ]
  },
  {
   "cell_type": "code",
   "execution_count": null,
   "metadata": {},
   "outputs": [],
   "source": [
    "slytherin_disfold = pd.read_json(files_list[41])\n",
    "slytherin_disfold.head()"
   ]
  },
  {
   "cell_type": "markdown",
   "metadata": {},
   "source": [
    "#### Marketcap diverse valute"
   ]
  },
  {
   "cell_type": "code",
   "execution_count": null,
   "metadata": {},
   "outputs": [],
   "source": [
    "to_drop, _ = columns_to_remove_not_remove(slytherin_disfold)\n",
    "to_drop.append(\"link\")\n",
    "to_drop.append(\"market_cap\")"
   ]
  },
  {
   "cell_type": "code",
   "execution_count": null,
   "metadata": {},
   "outputs": [],
   "source": [
    "slytherin_disfold = slytherin_disfold.drop(to_drop, axis=1)\n",
    "to_rename = rename_columns(slytherin_disfold.columns)\n",
    "slytherin_disfold.columns = to_rename"
   ]
  },
  {
   "cell_type": "code",
   "execution_count": null,
   "metadata": {},
   "outputs": [],
   "source": [
    "slytherin_disfold.country = slytherin_disfold.country.apply(lambda x : (str(x).split(',')[-1].strip()))\n",
    "slytherin_disfold.employees = slytherin_disfold.employees.apply(lambda x : (str(x).replace(',', '')))\n",
    "slytherin_disfold = slytherin_disfold.replace('Not found', np.nan)\n",
    "\n",
    "slytherin_disfold.employees = slytherin_disfold.employees.astype(object).astype('Int64')\n",
    "\n",
    "slytherin_disfold.head()"
   ]
  },
  {
   "cell_type": "code",
   "execution_count": null,
   "metadata": {},
   "outputs": [],
   "source": [
    "cleaned_files.append(slytherin_disfold)"
   ]
  },
  {
   "cell_type": "markdown",
   "metadata": {},
   "source": [
    "### slytherin-forbes.com.json"
   ]
  },
  {
   "cell_type": "code",
   "execution_count": null,
   "metadata": {},
   "outputs": [],
   "source": [
    "files_list[42]"
   ]
  },
  {
   "cell_type": "code",
   "execution_count": null,
   "metadata": {},
   "outputs": [],
   "source": [
    "slytherin_forbes = pd.read_json(files_list[42])\n",
    "slytherin_forbes.head()"
   ]
  },
  {
   "cell_type": "code",
   "execution_count": null,
   "metadata": {},
   "outputs": [],
   "source": [
    "to_drop, _ = columns_to_remove_not_remove(slytherin_forbes)\n",
    "to_drop.append(\"link\")"
   ]
  },
  {
   "cell_type": "code",
   "execution_count": null,
   "metadata": {},
   "outputs": [],
   "source": [
    "slytherin_forbes = slytherin_forbes.drop(to_drop, axis=1)\n",
    "to_rename = rename_columns(slytherin_forbes.columns)\n",
    "slytherin_forbes.columns = to_rename"
   ]
  },
  {
   "cell_type": "code",
   "execution_count": null,
   "metadata": {},
   "outputs": [],
   "source": [
    "slytherin_forbes.employees = slytherin_forbes.employees.apply(lambda x : (str(x).replace(',', '')))\n",
    "slytherin_forbes.revenue = slytherin_forbes.revenue.apply(lambda x: convert_market_cap_revenue(x) if pd.notnull(x) else x)\n",
    "slytherin_forbes = slytherin_forbes.replace('Not found', np.nan)\n",
    "\n",
    "slytherin_forbes.employees = slytherin_forbes.employees.astype(object).astype('Int64')\n",
    "slytherin_forbes.revenue = slytherin_forbes.revenue.astype(object).astype('Int64')\n",
    "slytherin_forbes.founded = slytherin_forbes.founded.astype(object).astype('Int64')\n",
    "\n",
    "slytherin_forbes.head()"
   ]
  },
  {
   "cell_type": "code",
   "execution_count": null,
   "metadata": {},
   "outputs": [],
   "source": [
    "cleaned_files.append(slytherin_forbes)"
   ]
  },
  {
   "cell_type": "markdown",
   "metadata": {},
   "source": [
    "### slytherin-ft.com.json"
   ]
  },
  {
   "cell_type": "code",
   "execution_count": null,
   "metadata": {},
   "outputs": [],
   "source": [
    "files_list[43]"
   ]
  },
  {
   "cell_type": "code",
   "execution_count": null,
   "metadata": {},
   "outputs": [],
   "source": [
    "slytherin_ft = pd.read_json(files_list[43])\n",
    "slytherin_ft.head()"
   ]
  },
  {
   "cell_type": "code",
   "execution_count": null,
   "metadata": {},
   "outputs": [],
   "source": [
    "to_drop, _ = columns_to_remove_not_remove(slytherin_ft)"
   ]
  },
  {
   "cell_type": "code",
   "execution_count": null,
   "metadata": {},
   "outputs": [],
   "source": [
    "slytherin_ft = slytherin_ft.drop(to_drop, axis=1)\n",
    "to_rename = rename_columns(slytherin_ft.columns)\n",
    "slytherin_ft.columns = to_rename"
   ]
  },
  {
   "cell_type": "code",
   "execution_count": null,
   "metadata": {},
   "outputs": [],
   "source": [
    "slytherin_ft.employees = slytherin_ft.employees.apply(lambda x : (str(x).replace('.', '').replace(',', '')))\n",
    "slytherin_ft.revenue = slytherin_ft.revenue.apply(lambda x : (float(str(x).replace(',', ''))))\n",
    "slytherin_ft = slytherin_ft.replace('Not found', np.nan)\n",
    "slytherin_ft = slytherin_ft.replace('nan', np.nan)\n",
    "\n",
    "slytherin_ft.revenue = slytherin_ft.revenue.astype(float).astype(int)\n",
    "slytherin_ft.employees = slytherin_ft.employees.astype(object).astype('Int64')\n",
    "slytherin_ft.founded = slytherin_ft.founded.astype(object).astype('Int64')\n",
    "\n",
    "slytherin_ft.head()"
   ]
  },
  {
   "cell_type": "code",
   "execution_count": null,
   "metadata": {},
   "outputs": [],
   "source": [
    "cleaned_files.append(slytherin_ft)"
   ]
  },
  {
   "cell_type": "markdown",
   "metadata": {},
   "source": [
    "### slytherin-value.today.json"
   ]
  },
  {
   "cell_type": "code",
   "execution_count": null,
   "metadata": {},
   "outputs": [],
   "source": [
    "files_list[44]"
   ]
  },
  {
   "cell_type": "code",
   "execution_count": null,
   "metadata": {},
   "outputs": [],
   "source": [
    "slytherin_value = pd.read_json(files_list[44])\n",
    "slytherin_value.head()"
   ]
  },
  {
   "cell_type": "code",
   "execution_count": null,
   "metadata": {},
   "outputs": [],
   "source": [
    "to_drop, _ = columns_to_remove_not_remove(slytherin_value)\n",
    "to_drop.append(\"link\")"
   ]
  },
  {
   "cell_type": "code",
   "execution_count": null,
   "metadata": {},
   "outputs": [],
   "source": [
    "slytherin_value = slytherin_value.drop(to_drop, axis=1)\n",
    "to_rename = rename_columns(slytherin_value.columns)\n",
    "slytherin_value.columns = to_rename"
   ]
  },
  {
   "cell_type": "code",
   "execution_count": null,
   "metadata": {},
   "outputs": [],
   "source": [
    "slytherin_value.founded = slytherin_value.founded.str.extract(r'([\\d]{4})')\n",
    "slytherin_value.revenue = slytherin_value.revenue.str.extract('([\\d]+[.,\\d]+)', expand=False)\n",
    "slytherin_value.revenue = slytherin_value.revenue.apply(lambda x: convert_market_cap_revenue(x.replace('.', '').replace(',', '.') + 'Million') if pd.notnull(x) else x)\n",
    "\n",
    "slytherin_value = slytherin_value.replace('Not found', np.nan)\n",
    "slytherin_value = slytherin_value.replace('nan', np.nan)\n",
    "\n",
    "slytherin_value.founded = slytherin_value.founded.astype(object).astype('Int64')\n",
    "slytherin_value.revenue = slytherin_value.revenue.astype(object).astype('Int64')\n",
    "slytherin_value.head()"
   ]
  },
  {
   "cell_type": "code",
   "execution_count": null,
   "metadata": {},
   "outputs": [],
   "source": [
    "cleaned_files.append(slytherin_value)"
   ]
  },
  {
   "cell_type": "markdown",
   "metadata": {},
   "source": [
    "## wissel"
   ]
  },
  {
   "cell_type": "markdown",
   "metadata": {},
   "source": [
    "### wissel-ariregister.csv"
   ]
  },
  {
   "cell_type": "code",
   "execution_count": null,
   "metadata": {},
   "outputs": [],
   "source": [
    "files_list[45]"
   ]
  },
  {
   "cell_type": "code",
   "execution_count": null,
   "metadata": {},
   "outputs": [],
   "source": [
    "wissel_ariregister = pd.read_csv(files_list[45])\n",
    "wissel_ariregister.head()"
   ]
  },
  {
   "cell_type": "code",
   "execution_count": null,
   "metadata": {},
   "outputs": [],
   "source": [
    "to_drop, _ = columns_to_remove_not_remove(wissel_ariregister)"
   ]
  },
  {
   "cell_type": "code",
   "execution_count": null,
   "metadata": {},
   "outputs": [],
   "source": [
    "wissel_ariregister = wissel_ariregister.drop(to_drop, axis=1)\n",
    "to_rename = rename_columns(wissel_ariregister.columns)\n",
    "wissel_ariregister.columns = to_rename\n",
    "wissel_ariregister.head()"
   ]
  },
  {
   "cell_type": "code",
   "execution_count": null,
   "metadata": {},
   "outputs": [],
   "source": [
    "cleaned_files.append(wissel_ariregister)"
   ]
  },
  {
   "cell_type": "markdown",
   "metadata": {},
   "source": [
    "### wissel-companiesmarketcap.com.csv"
   ]
  },
  {
   "cell_type": "code",
   "execution_count": null,
   "metadata": {},
   "outputs": [],
   "source": [
    "files_list[46]"
   ]
  },
  {
   "cell_type": "code",
   "execution_count": null,
   "metadata": {},
   "outputs": [],
   "source": [
    "wissel_companies = pd.read_csv(files_list[46])\n",
    "wissel_companies.head()"
   ]
  },
  {
   "cell_type": "code",
   "execution_count": null,
   "metadata": {},
   "outputs": [],
   "source": [
    "to_drop, _ = columns_to_remove_not_remove(wissel_companies)"
   ]
  },
  {
   "cell_type": "code",
   "execution_count": null,
   "metadata": {},
   "outputs": [],
   "source": [
    "wissel_companies = wissel_companies.drop(to_drop, axis=1)\n",
    "to_rename = rename_columns(wissel_companies.columns)\n",
    "wissel_companies.columns = to_rename"
   ]
  },
  {
   "cell_type": "code",
   "execution_count": null,
   "metadata": {},
   "outputs": [],
   "source": [
    "wissel_companies.employees = wissel_companies.employees.apply(lambda x : (str(x).replace('.', '')))\n",
    "wissel_companies.revenue = wissel_companies.revenue.apply(lambda x: convert_market_cap_revenue(x) if pd.notnull(x) else x)\n",
    "wissel_companies.marketcap = wissel_companies.marketcap.apply(lambda x: convert_market_cap_revenue(x) if pd.notnull(x) else x)\n",
    "\n",
    "wissel_companies = wissel_companies.replace('<NA>', np.nan)\n",
    "wissel_companies = wissel_companies.replace('nan', np.nan)\n",
    "\n",
    "wissel_companies.employees = wissel_companies.employees.astype(object).astype('Int64')\n",
    "wissel_companies.revenue = wissel_companies.revenue.astype(object).astype('Int64')\n",
    "wissel_companies.marketcap = wissel_companies.marketcap.astype(object).astype('Int64')\n",
    "\n",
    "wissel_companies.head()"
   ]
  },
  {
   "cell_type": "code",
   "execution_count": null,
   "metadata": {},
   "outputs": [],
   "source": [
    "cleaned_files.append(wissel_companies)"
   ]
  },
  {
   "cell_type": "markdown",
   "metadata": {},
   "source": [
    "### wissel-gov.uk.csv"
   ]
  },
  {
   "cell_type": "code",
   "execution_count": null,
   "metadata": {},
   "outputs": [],
   "source": [
    "files_list[47]"
   ]
  },
  {
   "cell_type": "code",
   "execution_count": null,
   "metadata": {},
   "outputs": [],
   "source": [
    "wissel_gov = pd.read_csv(files_list[47])\n",
    "wissel_gov.head()"
   ]
  },
  {
   "cell_type": "code",
   "execution_count": null,
   "metadata": {},
   "outputs": [],
   "source": [
    "to_drop, _ = columns_to_remove_not_remove(wissel_gov)"
   ]
  },
  {
   "cell_type": "code",
   "execution_count": null,
   "metadata": {},
   "outputs": [],
   "source": [
    "wissel_gov = wissel_gov.drop(to_drop, axis=1)\n",
    "to_rename = rename_columns(wissel_gov.columns)\n",
    "wissel_gov.columns = to_rename\n",
    "wissel_gov.head()"
   ]
  },
  {
   "cell_type": "code",
   "execution_count": null,
   "metadata": {},
   "outputs": [],
   "source": [
    "cleaned_files.append(wissel_gov)"
   ]
  },
  {
   "cell_type": "markdown",
   "metadata": {},
   "source": [
    "### wissel-info-clipper.com.csv"
   ]
  },
  {
   "cell_type": "code",
   "execution_count": null,
   "metadata": {},
   "outputs": [],
   "source": [
    "files_list[48]"
   ]
  },
  {
   "cell_type": "code",
   "execution_count": null,
   "metadata": {},
   "outputs": [],
   "source": [
    "wissel_info = pd.read_csv(files_list[48])\n",
    "wissel_info.head()"
   ]
  },
  {
   "cell_type": "code",
   "execution_count": null,
   "metadata": {},
   "outputs": [],
   "source": [
    "to_drop, _ = columns_to_remove_not_remove(wissel_info)"
   ]
  },
  {
   "cell_type": "code",
   "execution_count": null,
   "metadata": {},
   "outputs": [],
   "source": [
    "wissel_info = wissel_info.drop(to_drop, axis=1)\n",
    "to_rename = rename_columns(wissel_info.columns)\n",
    "wissel_info.columns = to_rename\n",
    "wissel_info.head()"
   ]
  },
  {
   "cell_type": "code",
   "execution_count": null,
   "metadata": {},
   "outputs": [],
   "source": [
    "cleaned_files.append(wissel_info)"
   ]
  },
  {
   "cell_type": "markdown",
   "metadata": {},
   "source": [
    "# Datasets Concatenation"
   ]
  },
  {
   "cell_type": "code",
   "execution_count": null,
   "metadata": {},
   "outputs": [],
   "source": [
    "final = pd.concat(cleaned_files, ignore_index=True)"
   ]
  },
  {
   "cell_type": "code",
   "execution_count": null,
   "metadata": {},
   "outputs": [],
   "source": [
    "for c in final.columns:\n",
    "    final[str(c)] = final[str(c)].replace(r'\\r+|\\n+|\\t+',' ', regex=True)\n",
    "\n",
    "    if c == 'name':\n",
    "        final[str(c)] = final[str(c)].str.replace('[^a-zA-Z0-9]', ' ', regex=True)\n",
    "        final[str(c)] = final[str(c)].str.replace(r'\\s+', ' ', regex=True)\n",
    "\n",
    "    if c == 'sector' or c == 'country' or c == 'ceo':\n",
    "        final[str(c)] = final[str(c)].str.replace('[^a-zA-Z]', ' ', regex=True)\n",
    "        final[str(c)] = final[str(c)].str.replace(r'\\s+', ' ', regex=True)\n",
    "        final[str(c)] = final[str(c)].str.replace('nan', '')\n",
    "    \n",
    "    if final[str(c)].dtypes != 'Int64':\n",
    "        final[str(c)] = final[str(c)].str.strip()\n",
    "        final[str(c)] = final[str(c)].str.upper()\n",
    "    \n",
    "    final[str(c)] = final[str(c)].replace('', pd.NA)\n",
    "    final[str(c)] = final[str(c)].fillna(pd.NA)"
   ]
  },
  {
   "cell_type": "code",
   "execution_count": null,
   "metadata": {},
   "outputs": [],
   "source": [
    "final.to_csv(\"./src/1. aligned_dataset.csv\")"
   ]
  },
  {
   "cell_type": "code",
   "execution_count": null,
   "metadata": {},
   "outputs": [],
   "source": [
    "t_end = time.time()\n",
    "print(t_end-t_start)"
   ]
  },
  {
   "cell_type": "markdown",
   "metadata": {},
   "source": [
    "## Report final dataset"
   ]
  },
  {
   "cell_type": "code",
   "execution_count": null,
   "metadata": {},
   "outputs": [],
   "source": [
    "from pandas_profiling import ProfileReport\n",
    "profile=ProfileReport(final)\n",
    "profile.to_notebook_iframe()"
   ]
  }
 ],
 "metadata": {
  "kernelspec": {
   "display_name": "Python 3 (ipykernel)",
   "language": "python",
   "name": "python3"
  },
  "language_info": {
   "codemirror_mode": {
    "name": "ipython",
    "version": 3
   },
   "file_extension": ".py",
   "mimetype": "text/x-python",
   "name": "python",
   "nbconvert_exporter": "python",
   "pygments_lexer": "ipython3",
   "version": "3.9.2"
  },
  "vscode": {
   "interpreter": {
    "hash": "aee8b7b246df8f9039afb4144a1f6fd8d2ca17a180786b69acc140d282b71a49"
   }
  }
 },
 "nbformat": 4,
 "nbformat_minor": 2
}
