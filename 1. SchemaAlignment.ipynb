{
 "cells": [
  {
   "cell_type": "markdown",
   "metadata": {},
   "source": [
    "# Datasets Analysis"
   ]
  },
  {
   "cell_type": "code",
   "execution_count": 1,
   "metadata": {},
   "outputs": [],
   "source": [
    "!pip install pandas -q\n",
    "!pip install numpy -q\n",
    "!pip install pandas-profiling -q\n",
    "!pip install ipywidgets -q"
   ]
  },
  {
   "cell_type": "code",
   "execution_count": 2,
   "metadata": {},
   "outputs": [],
   "source": [
    "import os\n",
    "import pandas as pd\n",
    "import numpy as np"
   ]
  },
  {
   "cell_type": "markdown",
   "metadata": {},
   "source": [
    "## wissel-ariregister"
   ]
  },
  {
   "cell_type": "code",
   "execution_count": 3,
   "metadata": {},
   "outputs": [],
   "source": [
    "df_aziende = pd.read_csv(\"./src/datasets/wissel-ariregister.rik.ee/wissel-aziende-ariregister.rik.ee.csv\")\n",
    "df_activity = pd.read_csv(\"./src/datasets/wissel-ariregister.rik.ee/wissel-activity-ariregister.rik.ee.csv\")\n",
    "df_partners = pd.read_csv(\"./src/datasets/wissel-ariregister.rik.ee/wissel-partners-ariregister.rik.ee.csv\")\n",
    "df_rappresentanti = pd.read_csv(\"./src/datasets/wissel-ariregister.rik.ee/wissel-rappresentanti-ariregister.rik.ee.csv\")"
   ]
  },
  {
   "cell_type": "code",
   "execution_count": 4,
   "metadata": {},
   "outputs": [
    {
     "data": {
      "text/html": [
       "<div>\n",
       "<style scoped>\n",
       "    .dataframe tbody tr th:only-of-type {\n",
       "        vertical-align: middle;\n",
       "    }\n",
       "\n",
       "    .dataframe tbody tr th {\n",
       "        vertical-align: top;\n",
       "    }\n",
       "\n",
       "    .dataframe thead th {\n",
       "        text-align: right;\n",
       "    }\n",
       "</style>\n",
       "<table border=\"1\" class=\"dataframe\">\n",
       "  <thead>\n",
       "    <tr style=\"text-align: right;\">\n",
       "      <th></th>\n",
       "      <th>ID azienda</th>\n",
       "      <th>Name</th>\n",
       "      <th>Capital</th>\n",
       "      <th>Address</th>\n",
       "    </tr>\n",
       "  </thead>\n",
       "  <tbody>\n",
       "    <tr>\n",
       "      <th>0</th>\n",
       "      <td>1</td>\n",
       "      <td>10DspaceOÃœ(14318875)</td>\n",
       "      <td>NaN</td>\n",
       "      <td>NaN</td>\n",
       "    </tr>\n",
       "    <tr>\n",
       "      <th>1</th>\n",
       "      <td>2</td>\n",
       "      <td>21SparrowsOÃœ(16270291)</td>\n",
       "      <td>Capitalis10Â 000Â â‚¬</td>\n",
       "      <td>Harju maakond Tallinn ...</td>\n",
       "    </tr>\n",
       "    <tr>\n",
       "      <th>2</th>\n",
       "      <td>3</td>\n",
       "      <td>3DSTOÃœ(12454634)</td>\n",
       "      <td>Capitalis2Â 500Â â‚¬</td>\n",
       "      <td>Harju maakond Tallinn ...</td>\n",
       "    </tr>\n",
       "    <tr>\n",
       "      <th>3</th>\n",
       "      <td>4</td>\n",
       "      <td>8BitsSpaceOÃœ(14867109)</td>\n",
       "      <td>Capitalis2Â 500Â â‚¬</td>\n",
       "      <td>Harju maakond Tallinn ...</td>\n",
       "    </tr>\n",
       "    <tr>\n",
       "      <th>4</th>\n",
       "      <td>5</td>\n",
       "      <td>A1EhituspartnerOÃœ(16451101)</td>\n",
       "      <td>Capitalis2Â 500Â â‚¬</td>\n",
       "      <td>PÃµlva maakond PÃµlva ...</td>\n",
       "    </tr>\n",
       "  </tbody>\n",
       "</table>\n",
       "</div>"
      ],
      "text/plain": [
       "   ID azienda                          Name                Capital  \\\n",
       "0           1         10DspaceOÃœ(14318875)                    NaN   \n",
       "1           2       21SparrowsOÃœ(16270291)  Capitalis10Â 000Â â‚¬   \n",
       "2           3             3DSTOÃœ(12454634)   Capitalis2Â 500Â â‚¬   \n",
       "3           4       8BitsSpaceOÃœ(14867109)   Capitalis2Â 500Â â‚¬   \n",
       "4           5  A1EhituspartnerOÃœ(16451101)   Capitalis2Â 500Â â‚¬   \n",
       "\n",
       "                                             Address  \n",
       "0                                                NaN  \n",
       "1                          Harju maakond Tallinn ...  \n",
       "2                          Harju maakond Tallinn ...  \n",
       "3                          Harju maakond Tallinn ...  \n",
       "4                          PÃµlva maakond PÃµlva ...  "
      ]
     },
     "execution_count": 4,
     "metadata": {},
     "output_type": "execute_result"
    }
   ],
   "source": [
    "df_aziende.rename(columns={'ID':'ID azienda'}, inplace=True)\n",
    "toDrop = [\"URL\", \"Code\", \"Legal form\", \"Status\", \"Registration Date\", \"Deletion Date\"]\n",
    "df_aziende = df_aziende.drop(toDrop, axis=1)\n",
    "df_aziende.head()"
   ]
  },
  {
   "cell_type": "code",
   "execution_count": 5,
   "metadata": {},
   "outputs": [
    {
     "data": {
      "text/html": [
       "<div>\n",
       "<style scoped>\n",
       "    .dataframe tbody tr th:only-of-type {\n",
       "        vertical-align: middle;\n",
       "    }\n",
       "\n",
       "    .dataframe tbody tr th {\n",
       "        vertical-align: top;\n",
       "    }\n",
       "\n",
       "    .dataframe thead th {\n",
       "        text-align: right;\n",
       "    }\n",
       "</style>\n",
       "<table border=\"1\" class=\"dataframe\">\n",
       "  <thead>\n",
       "    <tr style=\"text-align: right;\">\n",
       "      <th></th>\n",
       "      <th>ID azienda</th>\n",
       "      <th>Area of Activity</th>\n",
       "    </tr>\n",
       "  </thead>\n",
       "  <tbody>\n",
       "    <tr>\n",
       "      <th>0</th>\n",
       "      <td>2</td>\n",
       "      <td>Other activities auxiliary to financial servic...</td>\n",
       "    </tr>\n",
       "    <tr>\n",
       "      <th>1</th>\n",
       "      <td>3</td>\n",
       "      <td>Specialised design activities</td>\n",
       "    </tr>\n",
       "    <tr>\n",
       "      <th>2</th>\n",
       "      <td>4</td>\n",
       "      <td>Computer programming activities</td>\n",
       "    </tr>\n",
       "    <tr>\n",
       "      <th>3</th>\n",
       "      <td>5</td>\n",
       "      <td>Construction of residential and non-residentia...</td>\n",
       "    </tr>\n",
       "    <tr>\n",
       "      <th>4</th>\n",
       "      <td>6</td>\n",
       "      <td>Renting and operational leasing of other machi...</td>\n",
       "    </tr>\n",
       "  </tbody>\n",
       "</table>\n",
       "</div>"
      ],
      "text/plain": [
       "   ID azienda                                   Area of Activity\n",
       "0           2  Other activities auxiliary to financial servic...\n",
       "1           3                      Specialised design activities\n",
       "2           4                    Computer programming activities\n",
       "3           5  Construction of residential and non-residentia...\n",
       "4           6  Renting and operational leasing of other machi..."
      ]
     },
     "execution_count": 5,
     "metadata": {},
     "output_type": "execute_result"
    }
   ],
   "source": [
    "toDrop = [\"EMTAK Code\", \"NACE Code\", \"Source\"]\n",
    "df_activity = df_activity.drop(toDrop, axis=1)\n",
    "df_activity.head()"
   ]
  },
  {
   "cell_type": "code",
   "execution_count": 6,
   "metadata": {},
   "outputs": [
    {
     "data": {
      "text/html": [
       "<div>\n",
       "<style scoped>\n",
       "    .dataframe tbody tr th:only-of-type {\n",
       "        vertical-align: middle;\n",
       "    }\n",
       "\n",
       "    .dataframe tbody tr th {\n",
       "        vertical-align: top;\n",
       "    }\n",
       "\n",
       "    .dataframe thead th {\n",
       "        text-align: right;\n",
       "    }\n",
       "</style>\n",
       "<table border=\"1\" class=\"dataframe\">\n",
       "  <thead>\n",
       "    <tr style=\"text-align: right;\">\n",
       "      <th></th>\n",
       "      <th>ID azienda</th>\n",
       "      <th>Name</th>\n",
       "      <th>Code</th>\n",
       "      <th>Participation</th>\n",
       "      <th>Contribution</th>\n",
       "    </tr>\n",
       "  </thead>\n",
       "  <tbody>\n",
       "    <tr>\n",
       "      <th>0</th>\n",
       "      <td>2</td>\n",
       "      <td>\\n                                        Jani...</td>\n",
       "      <td>38807314918\\n</td>\n",
       "      <td>70.00%</td>\n",
       "      <td>\\n                                    7000.00 ...</td>\n",
       "    </tr>\n",
       "    <tr>\n",
       "      <th>1</th>\n",
       "      <td>2</td>\n",
       "      <td>\\n                                        Kair...</td>\n",
       "      <td>48812154914\\n</td>\n",
       "      <td>30.00%</td>\n",
       "      <td>\\n                                    3000.00 ...</td>\n",
       "    </tr>\n",
       "    <tr>\n",
       "      <th>2</th>\n",
       "      <td>3</td>\n",
       "      <td>\\n                                        Siim...</td>\n",
       "      <td>38807042731\\n</td>\n",
       "      <td>100.00%</td>\n",
       "      <td>\\n                                    2500.00 ...</td>\n",
       "    </tr>\n",
       "    <tr>\n",
       "      <th>3</th>\n",
       "      <td>4</td>\n",
       "      <td>\\n                                        Domi...</td>\n",
       "      <td>39207230150\\n</td>\n",
       "      <td>100.00%</td>\n",
       "      <td>\\n                                    2500.00 ...</td>\n",
       "    </tr>\n",
       "    <tr>\n",
       "      <th>4</th>\n",
       "      <td>5</td>\n",
       "      <td>\\n                                        Arti...</td>\n",
       "      <td>38205186529\\n</td>\n",
       "      <td>50.00%</td>\n",
       "      <td>\\n                                    1250.00 ...</td>\n",
       "    </tr>\n",
       "  </tbody>\n",
       "</table>\n",
       "</div>"
      ],
      "text/plain": [
       "   ID azienda                                               Name  \\\n",
       "0           2  \\n                                        Jani...   \n",
       "1           2  \\n                                        Kair...   \n",
       "2           3  \\n                                        Siim...   \n",
       "3           4  \\n                                        Domi...   \n",
       "4           5  \\n                                        Arti...   \n",
       "\n",
       "                                            Code Participation  \\\n",
       "0  38807314918\\n                                        70.00%   \n",
       "1  48812154914\\n                                        30.00%   \n",
       "2  38807042731\\n                                       100.00%   \n",
       "3  39207230150\\n                                       100.00%   \n",
       "4  38205186529\\n                                        50.00%   \n",
       "\n",
       "                                        Contribution  \n",
       "0  \\n                                    7000.00 ...  \n",
       "1  \\n                                    3000.00 ...  \n",
       "2  \\n                                    2500.00 ...  \n",
       "3  \\n                                    2500.00 ...  \n",
       "4  \\n                                    1250.00 ...  "
      ]
     },
     "execution_count": 6,
     "metadata": {},
     "output_type": "execute_result"
    }
   ],
   "source": [
    "df_partners.head()"
   ]
  },
  {
   "cell_type": "code",
   "execution_count": 7,
   "metadata": {},
   "outputs": [
    {
     "data": {
      "text/html": [
       "<div>\n",
       "<style scoped>\n",
       "    .dataframe tbody tr th:only-of-type {\n",
       "        vertical-align: middle;\n",
       "    }\n",
       "\n",
       "    .dataframe tbody tr th {\n",
       "        vertical-align: top;\n",
       "    }\n",
       "\n",
       "    .dataframe thead th {\n",
       "        text-align: right;\n",
       "    }\n",
       "</style>\n",
       "<table border=\"1\" class=\"dataframe\">\n",
       "  <thead>\n",
       "    <tr style=\"text-align: right;\">\n",
       "      <th></th>\n",
       "      <th>ID azienda</th>\n",
       "      <th>Name</th>\n",
       "      <th>Code</th>\n",
       "      <th>Role</th>\n",
       "      <th>Start Date</th>\n",
       "    </tr>\n",
       "  </thead>\n",
       "  <tbody>\n",
       "    <tr>\n",
       "      <th>0</th>\n",
       "      <td>2</td>\n",
       "      <td>\\n                                Janis Jegi\\n...</td>\n",
       "      <td>\\n                                    38807314...</td>\n",
       "      <td>\\n                                Management b...</td>\n",
       "      <td>14.07.2021</td>\n",
       "    </tr>\n",
       "    <tr>\n",
       "      <th>1</th>\n",
       "      <td>3</td>\n",
       "      <td>\\n                                Siim Tiigim\\...</td>\n",
       "      <td>\\n                                    38807042...</td>\n",
       "      <td>\\n                                Management b...</td>\n",
       "      <td>15.04.2013</td>\n",
       "    </tr>\n",
       "    <tr>\n",
       "      <th>2</th>\n",
       "      <td>4</td>\n",
       "      <td>\\n                                Dominik Gron...</td>\n",
       "      <td>\\n                                    39207230...</td>\n",
       "      <td>\\n                                Management b...</td>\n",
       "      <td>11.12.2019</td>\n",
       "    </tr>\n",
       "    <tr>\n",
       "      <th>3</th>\n",
       "      <td>5</td>\n",
       "      <td>\\n                                Rainis Luik\\...</td>\n",
       "      <td>\\n                                    37508026...</td>\n",
       "      <td>\\n                                Management b...</td>\n",
       "      <td>28.02.2022</td>\n",
       "    </tr>\n",
       "    <tr>\n",
       "      <th>4</th>\n",
       "      <td>6</td>\n",
       "      <td>\\n                                Kaido Kaabel...</td>\n",
       "      <td>\\n                                    36706040...</td>\n",
       "      <td>\\n                                Management b...</td>\n",
       "      <td>28.11.1996</td>\n",
       "    </tr>\n",
       "  </tbody>\n",
       "</table>\n",
       "</div>"
      ],
      "text/plain": [
       "   ID azienda                                               Name  \\\n",
       "0           2  \\n                                Janis Jegi\\n...   \n",
       "1           3  \\n                                Siim Tiigim\\...   \n",
       "2           4  \\n                                Dominik Gron...   \n",
       "3           5  \\n                                Rainis Luik\\...   \n",
       "4           6  \\n                                Kaido Kaabel...   \n",
       "\n",
       "                                                Code  \\\n",
       "0  \\n                                    38807314...   \n",
       "1  \\n                                    38807042...   \n",
       "2  \\n                                    39207230...   \n",
       "3  \\n                                    37508026...   \n",
       "4  \\n                                    36706040...   \n",
       "\n",
       "                                                Role  Start Date  \n",
       "0  \\n                                Management b...  14.07.2021  \n",
       "1  \\n                                Management b...  15.04.2013  \n",
       "2  \\n                                Management b...  11.12.2019  \n",
       "3  \\n                                Management b...  28.02.2022  \n",
       "4  \\n                                Management b...  28.11.1996  "
      ]
     },
     "execution_count": 7,
     "metadata": {},
     "output_type": "execute_result"
    }
   ],
   "source": [
    "df_rappresentanti.head()"
   ]
  },
  {
   "cell_type": "code",
   "execution_count": 8,
   "metadata": {},
   "outputs": [],
   "source": [
    "df3 = pd.merge(df_aziende, df_activity, how='left', on='ID azienda')"
   ]
  },
  {
   "cell_type": "code",
   "execution_count": 9,
   "metadata": {},
   "outputs": [
    {
     "data": {
      "text/html": [
       "<div>\n",
       "<style scoped>\n",
       "    .dataframe tbody tr th:only-of-type {\n",
       "        vertical-align: middle;\n",
       "    }\n",
       "\n",
       "    .dataframe tbody tr th {\n",
       "        vertical-align: top;\n",
       "    }\n",
       "\n",
       "    .dataframe thead th {\n",
       "        text-align: right;\n",
       "    }\n",
       "</style>\n",
       "<table border=\"1\" class=\"dataframe\">\n",
       "  <thead>\n",
       "    <tr style=\"text-align: right;\">\n",
       "      <th></th>\n",
       "      <th>ID azienda</th>\n",
       "      <th>Name</th>\n",
       "      <th>Capital</th>\n",
       "      <th>Address</th>\n",
       "      <th>Area of Activity</th>\n",
       "    </tr>\n",
       "  </thead>\n",
       "  <tbody>\n",
       "    <tr>\n",
       "      <th>0</th>\n",
       "      <td>1</td>\n",
       "      <td>10DspaceOÃœ(14318875)</td>\n",
       "      <td>NaN</td>\n",
       "      <td>NaN</td>\n",
       "      <td>NaN</td>\n",
       "    </tr>\n",
       "    <tr>\n",
       "      <th>1</th>\n",
       "      <td>2</td>\n",
       "      <td>21SparrowsOÃœ(16270291)</td>\n",
       "      <td>Capitalis10Â 000Â â‚¬</td>\n",
       "      <td>Harju maakond Tallinn ...</td>\n",
       "      <td>Other activities auxiliary to financial servic...</td>\n",
       "    </tr>\n",
       "    <tr>\n",
       "      <th>2</th>\n",
       "      <td>3</td>\n",
       "      <td>3DSTOÃœ(12454634)</td>\n",
       "      <td>Capitalis2Â 500Â â‚¬</td>\n",
       "      <td>Harju maakond Tallinn ...</td>\n",
       "      <td>Specialised design activities</td>\n",
       "    </tr>\n",
       "    <tr>\n",
       "      <th>3</th>\n",
       "      <td>4</td>\n",
       "      <td>8BitsSpaceOÃœ(14867109)</td>\n",
       "      <td>Capitalis2Â 500Â â‚¬</td>\n",
       "      <td>Harju maakond Tallinn ...</td>\n",
       "      <td>Computer programming activities</td>\n",
       "    </tr>\n",
       "    <tr>\n",
       "      <th>4</th>\n",
       "      <td>5</td>\n",
       "      <td>A1EhituspartnerOÃœ(16451101)</td>\n",
       "      <td>Capitalis2Â 500Â â‚¬</td>\n",
       "      <td>PÃµlva maakond PÃµlva ...</td>\n",
       "      <td>Construction of residential and non-residentia...</td>\n",
       "    </tr>\n",
       "  </tbody>\n",
       "</table>\n",
       "</div>"
      ],
      "text/plain": [
       "   ID azienda                          Name                Capital  \\\n",
       "0           1         10DspaceOÃœ(14318875)                    NaN   \n",
       "1           2       21SparrowsOÃœ(16270291)  Capitalis10Â 000Â â‚¬   \n",
       "2           3             3DSTOÃœ(12454634)   Capitalis2Â 500Â â‚¬   \n",
       "3           4       8BitsSpaceOÃœ(14867109)   Capitalis2Â 500Â â‚¬   \n",
       "4           5  A1EhituspartnerOÃœ(16451101)   Capitalis2Â 500Â â‚¬   \n",
       "\n",
       "                                             Address  \\\n",
       "0                                                NaN   \n",
       "1                          Harju maakond Tallinn ...   \n",
       "2                          Harju maakond Tallinn ...   \n",
       "3                          Harju maakond Tallinn ...   \n",
       "4                          PÃµlva maakond PÃµlva ...   \n",
       "\n",
       "                                    Area of Activity  \n",
       "0                                                NaN  \n",
       "1  Other activities auxiliary to financial servic...  \n",
       "2                      Specialised design activities  \n",
       "3                    Computer programming activities  \n",
       "4  Construction of residential and non-residentia...  "
      ]
     },
     "execution_count": 9,
     "metadata": {},
     "output_type": "execute_result"
    }
   ],
   "source": [
    "df3.head()"
   ]
  },
  {
   "cell_type": "code",
   "execution_count": 10,
   "metadata": {},
   "outputs": [],
   "source": [
    "df3.to_csv(\"./src/datasets/wissel-ariregister.rik.ee.csv\")"
   ]
  },
  {
   "cell_type": "markdown",
   "metadata": {},
   "source": [
    "## wissel-companiesmarketcap"
   ]
  },
  {
   "cell_type": "code",
   "execution_count": 11,
   "metadata": {},
   "outputs": [],
   "source": [
    "df_companies_aziende = pd.read_csv(\"./src/datasets/wissel-companiesmarketcap.com/wissel-aziende-companiesmarketcap.com.csv\")\n",
    "df_companies_categorie = pd.read_csv(\"./src/datasets/wissel-companiesmarketcap.com/wissel-categorie-companiesmarketcap.com.csv\")"
   ]
  },
  {
   "cell_type": "code",
   "execution_count": 12,
   "metadata": {},
   "outputs": [
    {
     "data": {
      "text/html": [
       "<div>\n",
       "<style scoped>\n",
       "    .dataframe tbody tr th:only-of-type {\n",
       "        vertical-align: middle;\n",
       "    }\n",
       "\n",
       "    .dataframe tbody tr th {\n",
       "        vertical-align: top;\n",
       "    }\n",
       "\n",
       "    .dataframe thead th {\n",
       "        text-align: right;\n",
       "    }\n",
       "</style>\n",
       "<table border=\"1\" class=\"dataframe\">\n",
       "  <thead>\n",
       "    <tr style=\"text-align: right;\">\n",
       "      <th></th>\n",
       "      <th>Unnamed: 0</th>\n",
       "      <th>URL</th>\n",
       "      <th>ID</th>\n",
       "      <th>Name</th>\n",
       "      <th>Company code</th>\n",
       "      <th>Marketcap</th>\n",
       "      <th>Share price</th>\n",
       "      <th>Earnings</th>\n",
       "      <th>Revenue</th>\n",
       "      <th>Shares</th>\n",
       "      <th>Employees</th>\n",
       "    </tr>\n",
       "  </thead>\n",
       "  <tbody>\n",
       "    <tr>\n",
       "      <th>0</th>\n",
       "      <td>0</td>\n",
       "      <td>https://companiesmarketcap.com/vertex-pharmace...</td>\n",
       "      <td>1.0</td>\n",
       "      <td>Vertex Pharmaceuticals</td>\n",
       "      <td>VRTX</td>\n",
       "      <td>$77.24 B</td>\n",
       "      <td>$300.94</td>\n",
       "      <td>$4.08 B</td>\n",
       "      <td>$8.70 B</td>\n",
       "      <td>256.500.000</td>\n",
       "      <td>3.9</td>\n",
       "    </tr>\n",
       "    <tr>\n",
       "      <th>1</th>\n",
       "      <td>1</td>\n",
       "      <td>https://companiesmarketcap.com/verano-holdings...</td>\n",
       "      <td>2.0</td>\n",
       "      <td>Verano Holdings</td>\n",
       "      <td>VRNOF</td>\n",
       "      <td>$0.97 B</td>\n",
       "      <td>$3.00</td>\n",
       "      <td>-$62.2 M</td>\n",
       "      <td>$0.81 B</td>\n",
       "      <td>NaN</td>\n",
       "      <td>3.888</td>\n",
       "    </tr>\n",
       "    <tr>\n",
       "      <th>2</th>\n",
       "      <td>2</td>\n",
       "      <td>https://companiesmarketcap.com/azz/marketcap/</td>\n",
       "      <td>3.0</td>\n",
       "      <td>AZZ</td>\n",
       "      <td>AZZ</td>\n",
       "      <td>$1.09 B</td>\n",
       "      <td>$43.85</td>\n",
       "      <td>$0.12 B</td>\n",
       "      <td>$1.17 B</td>\n",
       "      <td>NaN</td>\n",
       "      <td>3.885</td>\n",
       "    </tr>\n",
       "    <tr>\n",
       "      <th>3</th>\n",
       "      <td>3</td>\n",
       "      <td>https://companiesmarketcap.com/fnb-corp/market...</td>\n",
       "      <td>4.0</td>\n",
       "      <td>F.N.B. Corporation</td>\n",
       "      <td>FNB</td>\n",
       "      <td>$4.83 B</td>\n",
       "      <td>$13.41</td>\n",
       "      <td>$0.50 B</td>\n",
       "      <td>$1.33 B</td>\n",
       "      <td>NaN</td>\n",
       "      <td>3.884</td>\n",
       "    </tr>\n",
       "    <tr>\n",
       "      <th>4</th>\n",
       "      <td>4</td>\n",
       "      <td>https://companiesmarketcap.com/quanex-building...</td>\n",
       "      <td>5.0</td>\n",
       "      <td>Quanex Building Products</td>\n",
       "      <td>NX</td>\n",
       "      <td>$0.82 B</td>\n",
       "      <td>$24.96</td>\n",
       "      <td>$0.10 B</td>\n",
       "      <td>$1.22 B</td>\n",
       "      <td>NaN</td>\n",
       "      <td>3.86</td>\n",
       "    </tr>\n",
       "  </tbody>\n",
       "</table>\n",
       "</div>"
      ],
      "text/plain": [
       "   Unnamed: 0                                                URL   ID  \\\n",
       "0           0  https://companiesmarketcap.com/vertex-pharmace...  1.0   \n",
       "1           1  https://companiesmarketcap.com/verano-holdings...  2.0   \n",
       "2           2      https://companiesmarketcap.com/azz/marketcap/  3.0   \n",
       "3           3  https://companiesmarketcap.com/fnb-corp/market...  4.0   \n",
       "4           4  https://companiesmarketcap.com/quanex-building...  5.0   \n",
       "\n",
       "                       Name Company code Marketcap Share price  Earnings  \\\n",
       "0    Vertex Pharmaceuticals         VRTX  $77.24 B     $300.94   $4.08 B   \n",
       "1           Verano Holdings        VRNOF   $0.97 B       $3.00  -$62.2 M   \n",
       "2                       AZZ          AZZ   $1.09 B      $43.85   $0.12 B   \n",
       "3        F.N.B. Corporation          FNB   $4.83 B      $13.41   $0.50 B   \n",
       "4  Quanex Building Products           NX   $0.82 B      $24.96   $0.10 B   \n",
       "\n",
       "   Revenue       Shares Employees  \n",
       "0  $8.70 B  256.500.000       3.9  \n",
       "1  $0.81 B          NaN     3.888  \n",
       "2  $1.17 B          NaN     3.885  \n",
       "3  $1.33 B          NaN     3.884  \n",
       "4  $1.22 B          NaN      3.86  "
      ]
     },
     "execution_count": 12,
     "metadata": {},
     "output_type": "execute_result"
    }
   ],
   "source": [
    "df_companies_aziende.head()"
   ]
  },
  {
   "cell_type": "code",
   "execution_count": 13,
   "metadata": {},
   "outputs": [
    {
     "data": {
      "text/html": [
       "<div>\n",
       "<style scoped>\n",
       "    .dataframe tbody tr th:only-of-type {\n",
       "        vertical-align: middle;\n",
       "    }\n",
       "\n",
       "    .dataframe tbody tr th {\n",
       "        vertical-align: top;\n",
       "    }\n",
       "\n",
       "    .dataframe thead th {\n",
       "        text-align: right;\n",
       "    }\n",
       "</style>\n",
       "<table border=\"1\" class=\"dataframe\">\n",
       "  <thead>\n",
       "    <tr style=\"text-align: right;\">\n",
       "      <th></th>\n",
       "      <th>ID azienda</th>\n",
       "      <th>Name</th>\n",
       "      <th>Company code</th>\n",
       "      <th>Marketcap</th>\n",
       "      <th>Share price</th>\n",
       "      <th>Earnings</th>\n",
       "      <th>Revenue</th>\n",
       "      <th>Shares</th>\n",
       "      <th>Employees</th>\n",
       "    </tr>\n",
       "  </thead>\n",
       "  <tbody>\n",
       "    <tr>\n",
       "      <th>0</th>\n",
       "      <td>0</td>\n",
       "      <td>Vertex Pharmaceuticals</td>\n",
       "      <td>VRTX</td>\n",
       "      <td>$77.24 B</td>\n",
       "      <td>$300.94</td>\n",
       "      <td>$4.08 B</td>\n",
       "      <td>$8.70 B</td>\n",
       "      <td>256.500.000</td>\n",
       "      <td>3.9</td>\n",
       "    </tr>\n",
       "    <tr>\n",
       "      <th>1</th>\n",
       "      <td>1</td>\n",
       "      <td>Verano Holdings</td>\n",
       "      <td>VRNOF</td>\n",
       "      <td>$0.97 B</td>\n",
       "      <td>$3.00</td>\n",
       "      <td>-$62.2 M</td>\n",
       "      <td>$0.81 B</td>\n",
       "      <td>NaN</td>\n",
       "      <td>3.888</td>\n",
       "    </tr>\n",
       "    <tr>\n",
       "      <th>2</th>\n",
       "      <td>2</td>\n",
       "      <td>AZZ</td>\n",
       "      <td>AZZ</td>\n",
       "      <td>$1.09 B</td>\n",
       "      <td>$43.85</td>\n",
       "      <td>$0.12 B</td>\n",
       "      <td>$1.17 B</td>\n",
       "      <td>NaN</td>\n",
       "      <td>3.885</td>\n",
       "    </tr>\n",
       "    <tr>\n",
       "      <th>3</th>\n",
       "      <td>3</td>\n",
       "      <td>F.N.B. Corporation</td>\n",
       "      <td>FNB</td>\n",
       "      <td>$4.83 B</td>\n",
       "      <td>$13.41</td>\n",
       "      <td>$0.50 B</td>\n",
       "      <td>$1.33 B</td>\n",
       "      <td>NaN</td>\n",
       "      <td>3.884</td>\n",
       "    </tr>\n",
       "    <tr>\n",
       "      <th>4</th>\n",
       "      <td>4</td>\n",
       "      <td>Quanex Building Products</td>\n",
       "      <td>NX</td>\n",
       "      <td>$0.82 B</td>\n",
       "      <td>$24.96</td>\n",
       "      <td>$0.10 B</td>\n",
       "      <td>$1.22 B</td>\n",
       "      <td>NaN</td>\n",
       "      <td>3.86</td>\n",
       "    </tr>\n",
       "  </tbody>\n",
       "</table>\n",
       "</div>"
      ],
      "text/plain": [
       "   ID azienda                      Name Company code Marketcap Share price  \\\n",
       "0           0    Vertex Pharmaceuticals         VRTX  $77.24 B     $300.94   \n",
       "1           1           Verano Holdings        VRNOF   $0.97 B       $3.00   \n",
       "2           2                       AZZ          AZZ   $1.09 B      $43.85   \n",
       "3           3        F.N.B. Corporation          FNB   $4.83 B      $13.41   \n",
       "4           4  Quanex Building Products           NX   $0.82 B      $24.96   \n",
       "\n",
       "   Earnings  Revenue       Shares Employees  \n",
       "0   $4.08 B  $8.70 B  256.500.000       3.9  \n",
       "1  -$62.2 M  $0.81 B          NaN     3.888  \n",
       "2   $0.12 B  $1.17 B          NaN     3.885  \n",
       "3   $0.50 B  $1.33 B          NaN     3.884  \n",
       "4   $0.10 B  $1.22 B          NaN      3.86  "
      ]
     },
     "execution_count": 13,
     "metadata": {},
     "output_type": "execute_result"
    }
   ],
   "source": [
    "df_companies_aziende.rename(columns={'Unnamed: 0':'ID azienda'}, inplace=True)\n",
    "toDrop = [\"ID\", \"URL\"]\n",
    "df_companies_aziende = df_companies_aziende.drop(toDrop, axis=1)\n",
    "df_companies_aziende.head()"
   ]
  },
  {
   "cell_type": "code",
   "execution_count": 14,
   "metadata": {},
   "outputs": [],
   "source": [
    "for i in range(0, 5160):\n",
    "    df_companies_aziende.loc[i, \"ID azienda\"] += 1401"
   ]
  },
  {
   "cell_type": "code",
   "execution_count": 15,
   "metadata": {},
   "outputs": [],
   "source": [
    "for i in range(5160, 6560):\n",
    "    df_companies_aziende.loc[i, \"ID azienda\"] += 1"
   ]
  },
  {
   "cell_type": "code",
   "execution_count": 16,
   "metadata": {},
   "outputs": [],
   "source": [
    "df_companies_aziende.sort_values([\"ID azienda\"], \n",
    "                    axis=0,\n",
    "                    ascending=[True], \n",
    "                    inplace=True)"
   ]
  },
  {
   "cell_type": "code",
   "execution_count": 17,
   "metadata": {},
   "outputs": [
    {
     "data": {
      "text/html": [
       "<div>\n",
       "<style scoped>\n",
       "    .dataframe tbody tr th:only-of-type {\n",
       "        vertical-align: middle;\n",
       "    }\n",
       "\n",
       "    .dataframe tbody tr th {\n",
       "        vertical-align: top;\n",
       "    }\n",
       "\n",
       "    .dataframe thead th {\n",
       "        text-align: right;\n",
       "    }\n",
       "</style>\n",
       "<table border=\"1\" class=\"dataframe\">\n",
       "  <thead>\n",
       "    <tr style=\"text-align: right;\">\n",
       "      <th></th>\n",
       "      <th>ID azienda</th>\n",
       "      <th>Name</th>\n",
       "      <th>Company code</th>\n",
       "      <th>Marketcap</th>\n",
       "      <th>Share price</th>\n",
       "      <th>Earnings</th>\n",
       "      <th>Revenue</th>\n",
       "      <th>Shares</th>\n",
       "      <th>Employees</th>\n",
       "    </tr>\n",
       "  </thead>\n",
       "  <tbody>\n",
       "    <tr>\n",
       "      <th>5160</th>\n",
       "      <td>1</td>\n",
       "      <td>Walmart</td>\n",
       "      <td>WMT</td>\n",
       "      <td>$411.81 B</td>\n",
       "      <td>$151.73</td>\n",
       "      <td>$14.84 B</td>\n",
       "      <td>$600.11 B</td>\n",
       "      <td>2.736.000.000</td>\n",
       "      <td>2.300.000</td>\n",
       "    </tr>\n",
       "    <tr>\n",
       "      <th>5161</th>\n",
       "      <td>2</td>\n",
       "      <td>Amazon</td>\n",
       "      <td>AMZN</td>\n",
       "      <td>$988.03 B</td>\n",
       "      <td>$96.85</td>\n",
       "      <td>$12.11 B</td>\n",
       "      <td>$502.19 B</td>\n",
       "      <td>10.175.000.000</td>\n",
       "      <td>1.544.000</td>\n",
       "    </tr>\n",
       "    <tr>\n",
       "      <th>5162</th>\n",
       "      <td>3</td>\n",
       "      <td>United Parcel Service</td>\n",
       "      <td>UPS</td>\n",
       "      <td>$164.27 B</td>\n",
       "      <td>$189.93</td>\n",
       "      <td>$14.32 B</td>\n",
       "      <td>$101.07 B</td>\n",
       "      <td>870.000.000</td>\n",
       "      <td>500.000</td>\n",
       "    </tr>\n",
       "    <tr>\n",
       "      <th>5163</th>\n",
       "      <td>4</td>\n",
       "      <td>Kroger</td>\n",
       "      <td>KR</td>\n",
       "      <td>$35.29 B</td>\n",
       "      <td>$49.30</td>\n",
       "      <td>$3.03 B</td>\n",
       "      <td>$144.14 B</td>\n",
       "      <td>716.000.000</td>\n",
       "      <td>500.000</td>\n",
       "    </tr>\n",
       "    <tr>\n",
       "      <th>5164</th>\n",
       "      <td>5</td>\n",
       "      <td>Home Depot</td>\n",
       "      <td>HD</td>\n",
       "      <td>$332.04 B</td>\n",
       "      <td>$325.79</td>\n",
       "      <td>$24.14 B</td>\n",
       "      <td>$157.29 B</td>\n",
       "      <td>1.023.000.000</td>\n",
       "      <td>500.000</td>\n",
       "    </tr>\n",
       "  </tbody>\n",
       "</table>\n",
       "</div>"
      ],
      "text/plain": [
       "      ID azienda                   Name Company code  Marketcap Share price  \\\n",
       "5160           1                Walmart          WMT  $411.81 B     $151.73   \n",
       "5161           2                 Amazon         AMZN  $988.03 B      $96.85   \n",
       "5162           3  United Parcel Service          UPS  $164.27 B     $189.93   \n",
       "5163           4                 Kroger           KR   $35.29 B      $49.30   \n",
       "5164           5             Home Depot           HD  $332.04 B     $325.79   \n",
       "\n",
       "      Earnings    Revenue          Shares  Employees  \n",
       "5160  $14.84 B  $600.11 B   2.736.000.000  2.300.000  \n",
       "5161  $12.11 B  $502.19 B  10.175.000.000  1.544.000  \n",
       "5162  $14.32 B  $101.07 B     870.000.000    500.000  \n",
       "5163   $3.03 B  $144.14 B     716.000.000    500.000  \n",
       "5164  $24.14 B  $157.29 B   1.023.000.000    500.000  "
      ]
     },
     "execution_count": 17,
     "metadata": {},
     "output_type": "execute_result"
    }
   ],
   "source": [
    "df_companies_aziende.head()"
   ]
  },
  {
   "cell_type": "code",
   "execution_count": 18,
   "metadata": {},
   "outputs": [
    {
     "data": {
      "text/html": [
       "<div>\n",
       "<style scoped>\n",
       "    .dataframe tbody tr th:only-of-type {\n",
       "        vertical-align: middle;\n",
       "    }\n",
       "\n",
       "    .dataframe tbody tr th {\n",
       "        vertical-align: top;\n",
       "    }\n",
       "\n",
       "    .dataframe thead th {\n",
       "        text-align: right;\n",
       "    }\n",
       "</style>\n",
       "<table border=\"1\" class=\"dataframe\">\n",
       "  <thead>\n",
       "    <tr style=\"text-align: right;\">\n",
       "      <th></th>\n",
       "      <th>ID azienda</th>\n",
       "      <th>Category</th>\n",
       "      <th>Hash</th>\n",
       "    </tr>\n",
       "  </thead>\n",
       "  <tbody>\n",
       "    <tr>\n",
       "      <th>0</th>\n",
       "      <td>1</td>\n",
       "      <td>Retail</td>\n",
       "      <td>2932210656109287952</td>\n",
       "    </tr>\n",
       "    <tr>\n",
       "      <th>1</th>\n",
       "      <td>1</td>\n",
       "      <td>Dowjones</td>\n",
       "      <td>-3512652547975320346</td>\n",
       "    </tr>\n",
       "    <tr>\n",
       "      <th>2</th>\n",
       "      <td>1</td>\n",
       "      <td>SupermarketChains</td>\n",
       "      <td>-4069439822336842578</td>\n",
       "    </tr>\n",
       "    <tr>\n",
       "      <th>3</th>\n",
       "      <td>2</td>\n",
       "      <td>ECommerce</td>\n",
       "      <td>5458971525214020641</td>\n",
       "    </tr>\n",
       "    <tr>\n",
       "      <th>4</th>\n",
       "      <td>2</td>\n",
       "      <td>Internet</td>\n",
       "      <td>-848597773130649638</td>\n",
       "    </tr>\n",
       "  </tbody>\n",
       "</table>\n",
       "</div>"
      ],
      "text/plain": [
       "   ID azienda           Category                 Hash\n",
       "0           1             Retail  2932210656109287952\n",
       "1           1           Dowjones -3512652547975320346\n",
       "2           1  SupermarketChains -4069439822336842578\n",
       "3           2          ECommerce  5458971525214020641\n",
       "4           2           Internet  -848597773130649638"
      ]
     },
     "execution_count": 18,
     "metadata": {},
     "output_type": "execute_result"
    }
   ],
   "source": [
    "df_companies_categorie.rename(columns={'Company ID':'ID azienda'}, inplace=True)\n",
    "df_companies_categorie.head()"
   ]
  },
  {
   "cell_type": "code",
   "execution_count": 19,
   "metadata": {},
   "outputs": [],
   "source": [
    "df_companies_aziende['ID azienda'] = pd.to_numeric(df_companies_aziende['ID azienda'], errors='coerce').fillna(0).astype(int)"
   ]
  },
  {
   "cell_type": "code",
   "execution_count": 20,
   "metadata": {},
   "outputs": [
    {
     "data": {
      "text/html": [
       "<div>\n",
       "<style scoped>\n",
       "    .dataframe tbody tr th:only-of-type {\n",
       "        vertical-align: middle;\n",
       "    }\n",
       "\n",
       "    .dataframe tbody tr th {\n",
       "        vertical-align: top;\n",
       "    }\n",
       "\n",
       "    .dataframe thead th {\n",
       "        text-align: right;\n",
       "    }\n",
       "</style>\n",
       "<table border=\"1\" class=\"dataframe\">\n",
       "  <thead>\n",
       "    <tr style=\"text-align: right;\">\n",
       "      <th></th>\n",
       "      <th>ID azienda</th>\n",
       "      <th>Name</th>\n",
       "      <th>Company code</th>\n",
       "      <th>Marketcap</th>\n",
       "      <th>Share price</th>\n",
       "      <th>Earnings</th>\n",
       "      <th>Revenue</th>\n",
       "      <th>Shares</th>\n",
       "      <th>Employees</th>\n",
       "    </tr>\n",
       "  </thead>\n",
       "  <tbody>\n",
       "    <tr>\n",
       "      <th>5160</th>\n",
       "      <td>1</td>\n",
       "      <td>Walmart</td>\n",
       "      <td>WMT</td>\n",
       "      <td>$411.81 B</td>\n",
       "      <td>$151.73</td>\n",
       "      <td>$14.84 B</td>\n",
       "      <td>$600.11 B</td>\n",
       "      <td>2.736.000.000</td>\n",
       "      <td>2.300.000</td>\n",
       "    </tr>\n",
       "    <tr>\n",
       "      <th>5161</th>\n",
       "      <td>2</td>\n",
       "      <td>Amazon</td>\n",
       "      <td>AMZN</td>\n",
       "      <td>$988.03 B</td>\n",
       "      <td>$96.85</td>\n",
       "      <td>$12.11 B</td>\n",
       "      <td>$502.19 B</td>\n",
       "      <td>10.175.000.000</td>\n",
       "      <td>1.544.000</td>\n",
       "    </tr>\n",
       "    <tr>\n",
       "      <th>5162</th>\n",
       "      <td>3</td>\n",
       "      <td>United Parcel Service</td>\n",
       "      <td>UPS</td>\n",
       "      <td>$164.27 B</td>\n",
       "      <td>$189.93</td>\n",
       "      <td>$14.32 B</td>\n",
       "      <td>$101.07 B</td>\n",
       "      <td>870.000.000</td>\n",
       "      <td>500.000</td>\n",
       "    </tr>\n",
       "    <tr>\n",
       "      <th>5163</th>\n",
       "      <td>4</td>\n",
       "      <td>Kroger</td>\n",
       "      <td>KR</td>\n",
       "      <td>$35.29 B</td>\n",
       "      <td>$49.30</td>\n",
       "      <td>$3.03 B</td>\n",
       "      <td>$144.14 B</td>\n",
       "      <td>716.000.000</td>\n",
       "      <td>500.000</td>\n",
       "    </tr>\n",
       "    <tr>\n",
       "      <th>5164</th>\n",
       "      <td>5</td>\n",
       "      <td>Home Depot</td>\n",
       "      <td>HD</td>\n",
       "      <td>$332.04 B</td>\n",
       "      <td>$325.79</td>\n",
       "      <td>$24.14 B</td>\n",
       "      <td>$157.29 B</td>\n",
       "      <td>1.023.000.000</td>\n",
       "      <td>500.000</td>\n",
       "    </tr>\n",
       "  </tbody>\n",
       "</table>\n",
       "</div>"
      ],
      "text/plain": [
       "      ID azienda                   Name Company code  Marketcap Share price  \\\n",
       "5160           1                Walmart          WMT  $411.81 B     $151.73   \n",
       "5161           2                 Amazon         AMZN  $988.03 B      $96.85   \n",
       "5162           3  United Parcel Service          UPS  $164.27 B     $189.93   \n",
       "5163           4                 Kroger           KR   $35.29 B      $49.30   \n",
       "5164           5             Home Depot           HD  $332.04 B     $325.79   \n",
       "\n",
       "      Earnings    Revenue          Shares  Employees  \n",
       "5160  $14.84 B  $600.11 B   2.736.000.000  2.300.000  \n",
       "5161  $12.11 B  $502.19 B  10.175.000.000  1.544.000  \n",
       "5162  $14.32 B  $101.07 B     870.000.000    500.000  \n",
       "5163   $3.03 B  $144.14 B     716.000.000    500.000  \n",
       "5164  $24.14 B  $157.29 B   1.023.000.000    500.000  "
      ]
     },
     "execution_count": 20,
     "metadata": {},
     "output_type": "execute_result"
    }
   ],
   "source": [
    "df_companies_aziende.head()"
   ]
  },
  {
   "cell_type": "code",
   "execution_count": 21,
   "metadata": {},
   "outputs": [
    {
     "data": {
      "text/html": [
       "<div>\n",
       "<style scoped>\n",
       "    .dataframe tbody tr th:only-of-type {\n",
       "        vertical-align: middle;\n",
       "    }\n",
       "\n",
       "    .dataframe tbody tr th {\n",
       "        vertical-align: top;\n",
       "    }\n",
       "\n",
       "    .dataframe thead th {\n",
       "        text-align: right;\n",
       "    }\n",
       "</style>\n",
       "<table border=\"1\" class=\"dataframe\">\n",
       "  <thead>\n",
       "    <tr style=\"text-align: right;\">\n",
       "      <th></th>\n",
       "      <th>ID azienda</th>\n",
       "      <th>Name</th>\n",
       "      <th>Company code</th>\n",
       "      <th>Marketcap</th>\n",
       "      <th>Share price</th>\n",
       "      <th>Earnings</th>\n",
       "      <th>Revenue</th>\n",
       "      <th>Shares</th>\n",
       "      <th>Employees</th>\n",
       "      <th>Category</th>\n",
       "      <th>Hash</th>\n",
       "    </tr>\n",
       "  </thead>\n",
       "  <tbody>\n",
       "    <tr>\n",
       "      <th>0</th>\n",
       "      <td>1</td>\n",
       "      <td>Walmart</td>\n",
       "      <td>WMT</td>\n",
       "      <td>$411.81 B</td>\n",
       "      <td>$151.73</td>\n",
       "      <td>$14.84 B</td>\n",
       "      <td>$600.11 B</td>\n",
       "      <td>2.736.000.000</td>\n",
       "      <td>2.300.000</td>\n",
       "      <td>Retail</td>\n",
       "      <td>2.932211e+18</td>\n",
       "    </tr>\n",
       "    <tr>\n",
       "      <th>1</th>\n",
       "      <td>1</td>\n",
       "      <td>Walmart</td>\n",
       "      <td>WMT</td>\n",
       "      <td>$411.81 B</td>\n",
       "      <td>$151.73</td>\n",
       "      <td>$14.84 B</td>\n",
       "      <td>$600.11 B</td>\n",
       "      <td>2.736.000.000</td>\n",
       "      <td>2.300.000</td>\n",
       "      <td>Dowjones</td>\n",
       "      <td>-3.512653e+18</td>\n",
       "    </tr>\n",
       "    <tr>\n",
       "      <th>2</th>\n",
       "      <td>1</td>\n",
       "      <td>Walmart</td>\n",
       "      <td>WMT</td>\n",
       "      <td>$411.81 B</td>\n",
       "      <td>$151.73</td>\n",
       "      <td>$14.84 B</td>\n",
       "      <td>$600.11 B</td>\n",
       "      <td>2.736.000.000</td>\n",
       "      <td>2.300.000</td>\n",
       "      <td>SupermarketChains</td>\n",
       "      <td>-4.069440e+18</td>\n",
       "    </tr>\n",
       "    <tr>\n",
       "      <th>3</th>\n",
       "      <td>2</td>\n",
       "      <td>Amazon</td>\n",
       "      <td>AMZN</td>\n",
       "      <td>$988.03 B</td>\n",
       "      <td>$96.85</td>\n",
       "      <td>$12.11 B</td>\n",
       "      <td>$502.19 B</td>\n",
       "      <td>10.175.000.000</td>\n",
       "      <td>1.544.000</td>\n",
       "      <td>ECommerce</td>\n",
       "      <td>5.458972e+18</td>\n",
       "    </tr>\n",
       "    <tr>\n",
       "      <th>4</th>\n",
       "      <td>2</td>\n",
       "      <td>Amazon</td>\n",
       "      <td>AMZN</td>\n",
       "      <td>$988.03 B</td>\n",
       "      <td>$96.85</td>\n",
       "      <td>$12.11 B</td>\n",
       "      <td>$502.19 B</td>\n",
       "      <td>10.175.000.000</td>\n",
       "      <td>1.544.000</td>\n",
       "      <td>Internet</td>\n",
       "      <td>-8.485978e+17</td>\n",
       "    </tr>\n",
       "  </tbody>\n",
       "</table>\n",
       "</div>"
      ],
      "text/plain": [
       "   ID azienda     Name Company code  Marketcap Share price  Earnings  \\\n",
       "0           1  Walmart          WMT  $411.81 B     $151.73  $14.84 B   \n",
       "1           1  Walmart          WMT  $411.81 B     $151.73  $14.84 B   \n",
       "2           1  Walmart          WMT  $411.81 B     $151.73  $14.84 B   \n",
       "3           2   Amazon         AMZN  $988.03 B      $96.85  $12.11 B   \n",
       "4           2   Amazon         AMZN  $988.03 B      $96.85  $12.11 B   \n",
       "\n",
       "     Revenue          Shares  Employees           Category          Hash  \n",
       "0  $600.11 B   2.736.000.000  2.300.000             Retail  2.932211e+18  \n",
       "1  $600.11 B   2.736.000.000  2.300.000           Dowjones -3.512653e+18  \n",
       "2  $600.11 B   2.736.000.000  2.300.000  SupermarketChains -4.069440e+18  \n",
       "3  $502.19 B  10.175.000.000  1.544.000          ECommerce  5.458972e+18  \n",
       "4  $502.19 B  10.175.000.000  1.544.000           Internet -8.485978e+17  "
      ]
     },
     "execution_count": 21,
     "metadata": {},
     "output_type": "execute_result"
    }
   ],
   "source": [
    "df4 = pd.merge(df_companies_aziende, df_companies_categorie, how='left', on='ID azienda')\n",
    "df4.head()"
   ]
  },
  {
   "cell_type": "code",
   "execution_count": 22,
   "metadata": {},
   "outputs": [],
   "source": [
    "df4 = df4.groupby([\"ID azienda\",\"Name\",\"Company code\", \"Marketcap\", \"Share price\", \"Earnings\", \"Revenue\", \"Shares\", \"Employees\"])['Category'].agg(list).reset_index()"
   ]
  },
  {
   "cell_type": "code",
   "execution_count": 23,
   "metadata": {},
   "outputs": [
    {
     "data": {
      "text/html": [
       "<div>\n",
       "<style scoped>\n",
       "    .dataframe tbody tr th:only-of-type {\n",
       "        vertical-align: middle;\n",
       "    }\n",
       "\n",
       "    .dataframe tbody tr th {\n",
       "        vertical-align: top;\n",
       "    }\n",
       "\n",
       "    .dataframe thead th {\n",
       "        text-align: right;\n",
       "    }\n",
       "</style>\n",
       "<table border=\"1\" class=\"dataframe\">\n",
       "  <thead>\n",
       "    <tr style=\"text-align: right;\">\n",
       "      <th></th>\n",
       "      <th>ID azienda</th>\n",
       "      <th>Name</th>\n",
       "      <th>Company code</th>\n",
       "      <th>Marketcap</th>\n",
       "      <th>Share price</th>\n",
       "      <th>Earnings</th>\n",
       "      <th>Revenue</th>\n",
       "      <th>Shares</th>\n",
       "      <th>Employees</th>\n",
       "      <th>Category</th>\n",
       "    </tr>\n",
       "  </thead>\n",
       "  <tbody>\n",
       "    <tr>\n",
       "      <th>0</th>\n",
       "      <td>1</td>\n",
       "      <td>Walmart</td>\n",
       "      <td>WMT</td>\n",
       "      <td>$411.81 B</td>\n",
       "      <td>$151.73</td>\n",
       "      <td>$14.84 B</td>\n",
       "      <td>$600.11 B</td>\n",
       "      <td>2.736.000.000</td>\n",
       "      <td>2.300.000</td>\n",
       "      <td>[Retail, Dowjones, SupermarketChains]</td>\n",
       "    </tr>\n",
       "    <tr>\n",
       "      <th>1</th>\n",
       "      <td>2</td>\n",
       "      <td>Amazon</td>\n",
       "      <td>AMZN</td>\n",
       "      <td>$988.03 B</td>\n",
       "      <td>$96.85</td>\n",
       "      <td>$12.11 B</td>\n",
       "      <td>$502.19 B</td>\n",
       "      <td>10.175.000.000</td>\n",
       "      <td>1.544.000</td>\n",
       "      <td>[ECommerce, Internet, Tech, Retail]</td>\n",
       "    </tr>\n",
       "    <tr>\n",
       "      <th>2</th>\n",
       "      <td>3</td>\n",
       "      <td>United Parcel Service</td>\n",
       "      <td>UPS</td>\n",
       "      <td>$164.27 B</td>\n",
       "      <td>$189.93</td>\n",
       "      <td>$14.32 B</td>\n",
       "      <td>$101.07 B</td>\n",
       "      <td>870.000.000</td>\n",
       "      <td>500.000</td>\n",
       "      <td>[Courier, Transportation]</td>\n",
       "    </tr>\n",
       "    <tr>\n",
       "      <th>3</th>\n",
       "      <td>4</td>\n",
       "      <td>Kroger</td>\n",
       "      <td>KR</td>\n",
       "      <td>$35.29 B</td>\n",
       "      <td>$49.30</td>\n",
       "      <td>$3.03 B</td>\n",
       "      <td>$144.14 B</td>\n",
       "      <td>716.000.000</td>\n",
       "      <td>500.000</td>\n",
       "      <td>[Retail, SupermarketChains]</td>\n",
       "    </tr>\n",
       "    <tr>\n",
       "      <th>4</th>\n",
       "      <td>5</td>\n",
       "      <td>Home Depot</td>\n",
       "      <td>HD</td>\n",
       "      <td>$332.04 B</td>\n",
       "      <td>$325.79</td>\n",
       "      <td>$24.14 B</td>\n",
       "      <td>$157.29 B</td>\n",
       "      <td>1.023.000.000</td>\n",
       "      <td>500.000</td>\n",
       "      <td>[Retail, Dowjones]</td>\n",
       "    </tr>\n",
       "  </tbody>\n",
       "</table>\n",
       "</div>"
      ],
      "text/plain": [
       "   ID azienda                   Name Company code  Marketcap Share price  \\\n",
       "0           1                Walmart          WMT  $411.81 B     $151.73   \n",
       "1           2                 Amazon         AMZN  $988.03 B      $96.85   \n",
       "2           3  United Parcel Service          UPS  $164.27 B     $189.93   \n",
       "3           4                 Kroger           KR   $35.29 B      $49.30   \n",
       "4           5             Home Depot           HD  $332.04 B     $325.79   \n",
       "\n",
       "   Earnings    Revenue          Shares  Employees  \\\n",
       "0  $14.84 B  $600.11 B   2.736.000.000  2.300.000   \n",
       "1  $12.11 B  $502.19 B  10.175.000.000  1.544.000   \n",
       "2  $14.32 B  $101.07 B     870.000.000    500.000   \n",
       "3   $3.03 B  $144.14 B     716.000.000    500.000   \n",
       "4  $24.14 B  $157.29 B   1.023.000.000    500.000   \n",
       "\n",
       "                                Category  \n",
       "0  [Retail, Dowjones, SupermarketChains]  \n",
       "1    [ECommerce, Internet, Tech, Retail]  \n",
       "2              [Courier, Transportation]  \n",
       "3            [Retail, SupermarketChains]  \n",
       "4                     [Retail, Dowjones]  "
      ]
     },
     "execution_count": 23,
     "metadata": {},
     "output_type": "execute_result"
    }
   ],
   "source": [
    "df4.head()"
   ]
  },
  {
   "cell_type": "code",
   "execution_count": 24,
   "metadata": {},
   "outputs": [],
   "source": [
    "df4.to_csv(\"./src/datasets/wissel-companiesmarketcap.com.csv\")"
   ]
  },
  {
   "cell_type": "markdown",
   "metadata": {},
   "source": [
    "## FR_sole24ore.csv"
   ]
  },
  {
   "cell_type": "code",
   "execution_count": 25,
   "metadata": {},
   "outputs": [],
   "source": [
    "fr_sole24 = pd.read_csv(\"./src/datasets/FR_sole24ore.csv\")\n",
    "if fr_sole24.columns[len(fr_sole24.columns)-1] == \"name\":\n",
    "    fr_sole24 = fr_sole24.drop(fr_sole24.columns[0], axis=1)\n",
    "else:\n",
    "    fr_sole24 = pd.read_csv(\"./src/datasets/FR_sole24ore.csv\", header=None)"
   ]
  },
  {
   "cell_type": "code",
   "execution_count": 26,
   "metadata": {},
   "outputs": [
    {
     "data": {
      "text/html": [
       "<div>\n",
       "<style scoped>\n",
       "    .dataframe tbody tr th:only-of-type {\n",
       "        vertical-align: middle;\n",
       "    }\n",
       "\n",
       "    .dataframe tbody tr th {\n",
       "        vertical-align: top;\n",
       "    }\n",
       "\n",
       "    .dataframe thead th {\n",
       "        text-align: right;\n",
       "    }\n",
       "</style>\n",
       "<table border=\"1\" class=\"dataframe\">\n",
       "  <thead>\n",
       "    <tr style=\"text-align: right;\">\n",
       "      <th></th>\n",
       "      <th>address</th>\n",
       "      <th>city</th>\n",
       "      <th>sector</th>\n",
       "      <th>employees</th>\n",
       "      <th>name</th>\n",
       "    </tr>\n",
       "  </thead>\n",
       "  <tbody>\n",
       "    <tr>\n",
       "      <th>0</th>\n",
       "      <td>Via Maurizio Gonzaga 5</td>\n",
       "      <td>NaN</td>\n",
       "      <td>E-commerce</td>\n",
       "      <td>7.337</td>\n",
       "      <td>Winelivery S.r.l.</td>\n",
       "    </tr>\n",
       "    <tr>\n",
       "      <th>1</th>\n",
       "      <td>Via Damiano Chiesa 53</td>\n",
       "      <td>Bitritto</td>\n",
       "      <td>Servizi generali</td>\n",
       "      <td>8.375</td>\n",
       "      <td>Pegaso Security S.r.l.</td>\n",
       "    </tr>\n",
       "    <tr>\n",
       "      <th>2</th>\n",
       "      <td>Piazza IV Novembre 4</td>\n",
       "      <td>Milano</td>\n",
       "      <td>Vendita al dettaglio &amp; all'ingrosso</td>\n",
       "      <td>13.889</td>\n",
       "      <td>Euro Top Brand S.r.l.s.</td>\n",
       "    </tr>\n",
       "    <tr>\n",
       "      <th>3</th>\n",
       "      <td>Piazza Manifattura 1</td>\n",
       "      <td>Rovereto</td>\n",
       "      <td>Energia</td>\n",
       "      <td>3.585</td>\n",
       "      <td>Infinityhub S.p.A. Benefit</td>\n",
       "    </tr>\n",
       "    <tr>\n",
       "      <th>4</th>\n",
       "      <td>Via Solferino 36</td>\n",
       "      <td>Milano</td>\n",
       "      <td>Servizi finanziari</td>\n",
       "      <td>11.302</td>\n",
       "      <td>Credimi S.p.a.</td>\n",
       "    </tr>\n",
       "  </tbody>\n",
       "</table>\n",
       "</div>"
      ],
      "text/plain": [
       "                  address      city                               sector  \\\n",
       "0  Via Maurizio Gonzaga 5       NaN                           E-commerce   \n",
       "1   Via Damiano Chiesa 53  Bitritto                     Servizi generali   \n",
       "2    Piazza IV Novembre 4    Milano  Vendita al dettaglio & all'ingrosso   \n",
       "3    Piazza Manifattura 1  Rovereto                              Energia   \n",
       "4        Via Solferino 36    Milano                   Servizi finanziari   \n",
       "\n",
       "   employees                        name  \n",
       "0      7.337           Winelivery S.r.l.  \n",
       "1      8.375      Pegaso Security S.r.l.  \n",
       "2     13.889     Euro Top Brand S.r.l.s.  \n",
       "3      3.585  Infinityhub S.p.A. Benefit  \n",
       "4     11.302              Credimi S.p.a.  "
      ]
     },
     "execution_count": 26,
     "metadata": {},
     "output_type": "execute_result"
    }
   ],
   "source": [
    "fr_sole24.columns = [\"address\", \"city\", \"sector\", \"employees\", \"name\"]\n",
    "fr_sole24.head()"
   ]
  },
  {
   "cell_type": "code",
   "execution_count": 27,
   "metadata": {},
   "outputs": [],
   "source": [
    "fr_sole24.to_csv(\"./src/datasets/FR_sole24ore.csv\")"
   ]
  },
  {
   "cell_type": "markdown",
   "metadata": {},
   "source": [
    "## Files"
   ]
  },
  {
   "cell_type": "code",
   "execution_count": 28,
   "metadata": {},
   "outputs": [],
   "source": [
    "source = 'src/datasets/'\n",
    "files_list = os.listdir(source)\n",
    "files_list.sort()\n",
    "files_list = [source + x for x in files_list if os.path.isfile(source+x)]"
   ]
  },
  {
   "cell_type": "code",
   "execution_count": 29,
   "metadata": {},
   "outputs": [
    {
     "data": {
      "text/plain": [
       "49"
      ]
     },
     "execution_count": 29,
     "metadata": {},
     "output_type": "execute_result"
    }
   ],
   "source": [
    "# print(files_list)\n",
    "final_files = []\n",
    "len(files_list)"
   ]
  },
  {
   "cell_type": "code",
   "execution_count": 30,
   "metadata": {},
   "outputs": [],
   "source": [
    "import warnings\n",
    "warnings.filterwarnings('ignore', category=UserWarning, module='openpyxl')\n",
    "\n",
    "file_ext = {}\n",
    "columns_file = {}\n",
    "files_columns = {}\n",
    "for i in files_list:\n",
    "    #print(\"File name: \" + i)\n",
    "    #print(i[len(i)-3:])\n",
    "    if i[len(i)-3:] == \"csv\":\n",
    "        if \"csv\" not in file_ext:\n",
    "            file_ext[\"csv\"] = 0\n",
    "        file_ext[\"csv\"] += 1\n",
    "\n",
    "        current_file = pd.read_csv(i, encoding=\"utf-8\", encoding_errors=\"ignore\")\n",
    "        # print(file_csv.columns)\n",
    "\n",
    "\n",
    "    elif i[len(i)-4:] == \"json\":\n",
    "        if \"json\" not in file_ext:\n",
    "            file_ext[\"json\"] = 0\n",
    "        file_ext[\"json\"] += 1\n",
    "\n",
    "        current_file = pd.read_json(i)\n",
    "        # print(file_json.head())\n",
    "        \n",
    "    elif i[len(i)-5:] == \"jsonl\":\n",
    "        if \"jsonl\" not in file_ext:\n",
    "            file_ext[\"jsonl\"] = 0\n",
    "        file_ext[\"jsonl\"] += 1\n",
    "\n",
    "        current_file = pd.read_json(i, lines=True)\n",
    "        # print(file_jsonl.head())\n",
    "        \n",
    "    elif i[len(i)-3:] == \"xls\":\n",
    "        if \"xls\" not in file_ext:\n",
    "            file_ext[\"xls\"] = 0\n",
    "        file_ext[\"xls\"] += 1\n",
    "\n",
    "        current_file = pd.read_excel(i)\n",
    "        # print(file_xls.head())\n",
    "        \n",
    "    elif i[len(i)-4:] == \"xlsx\":\n",
    "        if \"xlsx\" not in file_ext:\n",
    "            file_ext[\"xlsx\"] = 0\n",
    "        file_ext[\"xlsx\"] += 1\n",
    "        \n",
    "        # Genera warning\n",
    "        current_file = pd.read_excel(i)\n",
    "        # print(file_xlsx.head())\n",
    "        \n",
    "    else:\n",
    "        print(\"file error: \" + i)\n",
    "\n",
    "    if i not in files_columns:\n",
    "        files_columns[i] = current_file.columns\n",
    "\n",
    "\n",
    "    for c in current_file.columns:\n",
    "        if c.lower() not in columns_file:\n",
    "            columns_file[c.lower()] = 0\n",
    "        columns_file[c.lower()] += 1"
   ]
  },
  {
   "cell_type": "code",
   "execution_count": 31,
   "metadata": {},
   "outputs": [
    {
     "data": {
      "text/plain": [
       "{'csv': 25, 'json': 16, 'xls': 3, 'xlsx': 1, 'jsonl': 4}"
      ]
     },
     "execution_count": 31,
     "metadata": {},
     "output_type": "execute_result"
    }
   ],
   "source": [
    "file_ext"
   ]
  },
  {
   "cell_type": "code",
   "execution_count": 32,
   "metadata": {},
   "outputs": [
    {
     "data": {
      "text/plain": [
       "{'src/datasets/DDD-cbinsight.com.csv': Index(['Unnamed: 0', 'name', 'valuation', 'dateJoined', 'country', 'city',\n",
       "        'industry', 'investors', 'founded', 'stage', 'totalRaised'],\n",
       "       dtype='object'),\n",
       " 'src/datasets/DDD-companiesmarketcap.com.csv': Index(['Unnamed: 0', 'name', 'rank', 'marketcap', 'country', 'share_price',\n",
       "        'change1d', 'change1y', 'categories'],\n",
       "       dtype='object'),\n",
       " 'src/datasets/DDD-ft.com.csv': Index(['Unnamed: 0', 'name', 'country', 'sector', 'absolute_growth_rate_pct',\n",
       "        'compound_annual_growth_rate_cagr_pct', 'revenue_2020_euro',\n",
       "        'revenue_2017_euro', 'number_of_employees_2020',\n",
       "        'number_of_employees_2017', 'founding_year'],\n",
       "       dtype='object'),\n",
       " 'src/datasets/DDD-teamblind.com.csv': Index(['Unnamed: 0', 'name', 'website', 'locations', 'size', 'industry',\n",
       "        'founded'],\n",
       "       dtype='object'),\n",
       " 'src/datasets/FR_campaignindia.csv': Index(['RANK', 'BRAND NAME', 'CATEGORY', 'MAIN MARKET', '2010 RANK'], dtype='object'),\n",
       " 'src/datasets/FR_company_social_urls.csv': Index(['Company', 'Facebook', 'Twitter', 'Instagram', 'Pinterest'], dtype='object'),\n",
       " 'src/datasets/FR_disfold.csv': Index(['Founded', 'Top Competitor', 'Employees', 'CEO', 'Name'], dtype='object'),\n",
       " 'src/datasets/FR_famcap_germany.csv': Index(['Rank', 'Company', 'Revenues 2018 $m', 'Employees', 'Family ownership',\n",
       "        'Founded', 'Public/Private', 'Generation', 'Family executive',\n",
       "        'Woman in leadership', 'Sector', 'Headquarters', 'State (abbreviation)',\n",
       "        'Website'],\n",
       "       dtype='object'),\n",
       " 'src/datasets/FR_followers.csv': Index(['Company', 'Facebook', 'Twitter', 'Instagram', 'Pinterest'], dtype='object'),\n",
       " 'src/datasets/FR_forbes.csv': Index(['Industry', 'Founded', 'Revenue', 'Name', 'Location'], dtype='object'),\n",
       " 'src/datasets/FR_ft.csv': Index(['Rank', 'Name', 'in 2021 ranking', 'in 2020 ranking', 'Country',\n",
       "        'Sector', 'Absolute Growth Rate %',\n",
       "        'Compound Annual Growth Rate (CAGR) %', 'Revenue 2020 (€)',\n",
       "        'Revenue 2017 (€)', 'Number of employees 2020',\n",
       "        'Number of employees 2017', 'Founding Year'],\n",
       "       dtype='object'),\n",
       " 'src/datasets/FR_sole24ore.csv': Index(['Unnamed: 0', 'address', 'city', 'sector', 'employees', 'name'], dtype='object'),\n",
       " 'src/datasets/FR_valuetoday.csv': Index(['IPO Year', 'Number of Employees', 'Country', 'CEO', 'Founded Year',\n",
       "        'Market Value', 'Name'],\n",
       "       dtype='object'),\n",
       " 'src/datasets/GioPonSpiz-companiesmarketcap.com.json': Index(['name', 'codice', 'pricecap', 'price', 'country'], dtype='object'),\n",
       " 'src/datasets/GioPonSpiz-disfold.com.json': Index(['name', 'marketCap', 'stock', 'sector', 'industry', 'country'], dtype='object'),\n",
       " 'src/datasets/GioPonSpiz-value.today.json': Index(['name', 'world_rank', 'marketValue', 'marketCap', 'CEO', 'country'], dtype='object'),\n",
       " 'src/datasets/GioPonSpiz-wikipedia.org.json': Index(['Name', 'Industry', 'Sector', 'Headquarters', 'Founded'], dtype='object'),\n",
       " 'src/datasets/MalPatSaj-companiesmarketcap.com.xls': Index(['Unnamed: 0', 'Name', 'Symbol', 'MarketCap', 'Price', 'Country'], dtype='object'),\n",
       " 'src/datasets/MalPatSaj-disfold.com.xlsx': Index(['Unnamed: 0', 'Name', 'MarketCap', 'Stock', 'Country', 'Sector',\n",
       "        'Industry'],\n",
       "       dtype='object'),\n",
       " 'src/datasets/MalPatSaj-forbes.com.xls': Index(['Unnamed: 0', 'Name', 'Country', 'Sales', 'Profit', 'Assets',\n",
       "        'Market Value'],\n",
       "       dtype='object'),\n",
       " 'src/datasets/MalPatSaj-wikipedia.org.xls': Index(['Unnamed: 0', 'Name', 'Industry', 'Sector', 'Headquarters', 'Founded',\n",
       "        'Notes'],\n",
       "       dtype='object'),\n",
       " 'src/datasets/MarScoToc-ambitionbox.com.csv': Index(['Name', 'Industry', 'Headquarter', 'Ownership', 'Foundation Year'], dtype='object'),\n",
       " 'src/datasets/MarScoToc-companiesmarketcap.com.csv': Index(['Name', 'Master Cap', 'Country', 'Rank', 'Share Price'], dtype='object'),\n",
       " 'src/datasets/MarScoToc-disfold.com.csv': Index(['Name', 'MasterCap', 'Country', 'Industry', 'Sector'], dtype='object'),\n",
       " 'src/datasets/MarScoToc-wikipedia.org.csv': Index(['Name', 'Industry', 'headQuarters', 'Founded', 'Area Served'], dtype='object'),\n",
       " 'src/datasets/avengers-companiesmarketcap.jsonl': Index(['id', 'name', 'rank', 'market_cap', 'country', 'share_price',\n",
       "        'change_1_day', 'change_1_year', 'categories'],\n",
       "       dtype='object'),\n",
       " 'src/datasets/avengers-disfold.jsonl': Index(['id', 'name', 'official_name', 'headquarters_country',\n",
       "        'headquarters_continent', 'founded', 'employees', 'ceo', 'market_cap',\n",
       "        'categories', 'gbp'],\n",
       "       dtype='object'),\n",
       " 'src/datasets/avengers-hithorizons.jsonl': Index(['id', 'name', 'address', 'nation', 'hhid', 'industry', 'sic_code',\n",
       "        'type', 'est_of_ownership'],\n",
       "       dtype='object'),\n",
       " 'src/datasets/avengers-valuetoday.jsonl': Index(['id', 'name', 'world_rank', 'annual_revenue_in_usd',\n",
       "        'annual_net_income_in_usd', 'annual_results_for_year_ending',\n",
       "        'total_assets_in_usd', 'total_liabilities_in_usd',\n",
       "        'total_equity_in_usd', 'headquarters_region_city',\n",
       "        'headquarters_country', 'headquarters_sub_region',\n",
       "        'headquarters_continent', 'company_business', 'number_of_employees',\n",
       "        'ceo', 'founders', 'company_website'],\n",
       "       dtype='object'),\n",
       " 'src/datasets/gren-companiesmarketcap.com.json': Index(['name', 'market_capitalization_USD', 'price', 'country'], dtype='object'),\n",
       " 'src/datasets/gren-disfold.com.json': Index(['name', 'market_capitalization_USD', 'stock', 'country', 'sector',\n",
       "        'industry'],\n",
       "       dtype='object'),\n",
       " 'src/datasets/gren-ft.com.json': Index(['name', 'country', 'sector', 'revenue_2020_EU', 'revenue_2017_EU',\n",
       "        'employees_number_2020', 'employees_number_2017', 'founding_year'],\n",
       "       dtype='object'),\n",
       " 'src/datasets/gren-value.today.json': Index(['name', 'annual_revenue_USD', 'annual_net_income_USD',\n",
       "        'market_capitalization_2022', 'employees_number', 'CEO',\n",
       "        'headquarters_country', 'wikipedia_page_url', 'twitter_page_url',\n",
       "        'facebook_page_url'],\n",
       "       dtype='object'),\n",
       " 'src/datasets/iGMM-cbinsights.com.json': Index(['company', 'valuation', 'datejoined', 'country', 'city', 'industry',\n",
       "        'selectinvestors'],\n",
       "       dtype='object'),\n",
       " 'src/datasets/iGMM-companiesmarketcap.com.json': Index(['name', 'code', 'rank', 'marketcap', 'country', 'sharePrice',\n",
       "        'change(1day)', 'change(1year)', 'categories'],\n",
       "       dtype='object'),\n",
       " 'src/datasets/iGMM-disfold.com.json': Index(['name', 'code', 'rank', 'ceo', 'country', 'sector', 'industry',\n",
       "        'headquarters', 'employees', 'founded', 'marketcap', 'revenue',\n",
       "        'net income', 'link'],\n",
       "       dtype='object'),\n",
       " 'src/datasets/iGMM-value.today.json': Index(['name', 'ceo', 'market value (Jan-07-2022)', 'world rank (Jan-07-2022)',\n",
       "        'market value (Jan 1st 2020)', 'world rank (Jan-2020)',\n",
       "        'headquarters country', 'number of employees', 'company business',\n",
       "        'annual revenue in USD', 'annual net income in USD', 'company website'],\n",
       "       dtype='object'),\n",
       " 'src/datasets/silvestri-disfold.com.csv': Index(['name', 'country', 'market_value_apr_2022', 'sector', 'stock'], dtype='object'),\n",
       " 'src/datasets/silvestri-forbes.com.csv': Index(['country', 'market_value_apr_2022', 'name', 'revenue_2022'], dtype='object'),\n",
       " 'src/datasets/silvestri-ft.com.csv': Index(['country', 'employees_2017', 'employees_2020', 'founding_year', 'name',\n",
       "        'revenue_2017', 'revenue_2020', 'sector'],\n",
       "       dtype='object'),\n",
       " 'src/datasets/silvestri-value.today.csv': Index(['ceo', 'country', 'market_value_jan_2020', 'market_value_jan_2021',\n",
       "        'market_value_jan_2022', 'name', 'employees_2022', 'revenue_2022',\n",
       "        'sector'],\n",
       "       dtype='object'),\n",
       " 'src/datasets/slytherin-disfold.com.json': Index(['link', 'name', 'headquarters', 'employees', 'ceo', 'market_cap'], dtype='object'),\n",
       " 'src/datasets/slytherin-forbes.com.json': Index(['link', 'name', 'industry', 'founded', 'country', 'ceo', 'employees',\n",
       "        'revenue'],\n",
       "       dtype='object'),\n",
       " 'src/datasets/slytherin-ft.com.json': Index(['link', 'name', 'country', 'industry', 'revenue', 'employees',\n",
       "        'founded'],\n",
       "       dtype='object'),\n",
       " 'src/datasets/slytherin-value.today.json': Index(['link', 'rank', 'name', 'ceo', 'founded', 'revenue', 'country',\n",
       "        'industry'],\n",
       "       dtype='object'),\n",
       " 'src/datasets/wissel-ariregister.rik.ee.csv': Index(['Unnamed: 0', 'ID azienda', 'Name', 'Capital', 'Address',\n",
       "        'Area of Activity'],\n",
       "       dtype='object'),\n",
       " 'src/datasets/wissel-companiesmarketcap.com.csv': Index(['Unnamed: 0', 'ID azienda', 'Name', 'Company code', 'Marketcap',\n",
       "        'Share price', 'Earnings', 'Revenue', 'Shares', 'Employees',\n",
       "        'Category'],\n",
       "       dtype='object'),\n",
       " 'src/datasets/wissel-gov.uk.csv': Index(['URL', 'ID', 'Name', 'Company ID', 'Company Status', 'Company Type',\n",
       "        'Registration Date', 'Incorporation Date', 'Dissolution Date',\n",
       "        'Office Address'],\n",
       "       dtype='object'),\n",
       " 'src/datasets/wissel-info-clipper.com.csv': Index(['Unnamed: 0', 'INDEX', 'URL', 'Name', 'Trade Name', 'Address Name',\n",
       "        'Postalcode', 'City', 'State', 'Country', 'Location type'],\n",
       "       dtype='object')}"
      ]
     },
     "execution_count": 32,
     "metadata": {},
     "output_type": "execute_result"
    }
   ],
   "source": [
    "files_columns"
   ]
  },
  {
   "cell_type": "markdown",
   "metadata": {},
   "source": [
    "## Check columns"
   ]
  },
  {
   "cell_type": "code",
   "execution_count": 33,
   "metadata": {},
   "outputs": [],
   "source": [
    "import json\n",
    "# with open('columns_to_remove.json', 'w', encoding='utf8') as f:\n",
    "#     json.dump(columns_to_remove, f, ensure_ascii=False)\n",
    "\n",
    "# with open('columns_to_rename.json', 'w', encoding='utf8') as f:\n",
    "#     json.dump(columns_to_rename, f, ensure_ascii=False)"
   ]
  },
  {
   "cell_type": "code",
   "execution_count": 34,
   "metadata": {},
   "outputs": [],
   "source": [
    "def columns_to_remove_not_remove(columns):\n",
    "    with open('columns_to_remove.json', 'r', encoding='utf8') as f:\n",
    "        columns_to_remove = json.load(f)\n",
    "\n",
    "    r = []\n",
    "    l = []\n",
    "    print(\"Columns to remove:\")\n",
    "    for c in columns:\n",
    "        if c.lower() in columns_to_remove:\n",
    "            print(c)\n",
    "            r.append(c)\n",
    "        else:\n",
    "            l.append(c)\n",
    "    return (r, l)"
   ]
  },
  {
   "cell_type": "code",
   "execution_count": 35,
   "metadata": {},
   "outputs": [],
   "source": [
    "def rename_columns(columns):\n",
    "    with open('columns_to_rename.json', 'r', encoding='utf8') as f:\n",
    "        columns_to_rename = json.load(f)\n",
    "    \n",
    "    l = []\n",
    "    print(\"Columns to rename:\")\n",
    "    for c in columns:\n",
    "        error=True\n",
    "        for name_column, list_strings in columns_to_rename.items():\n",
    "            if c.lower() == name_column:\n",
    "                l.append(name_column)\n",
    "                error=False\n",
    "            elif c.lower() in list_strings:\n",
    "                print(c + \" -> \" + name_column)\n",
    "                l.append(name_column)\n",
    "                error=False    \n",
    "        \n",
    "        if error: \n",
    "            l.append(c.lower())\n",
    "            print(\"Column error: \" + c)\n",
    "    return l"
   ]
  },
  {
   "cell_type": "code",
   "execution_count": 36,
   "metadata": {},
   "outputs": [],
   "source": [
    "cleaned_files = []"
   ]
  },
  {
   "cell_type": "markdown",
   "metadata": {},
   "source": [
    "## Convert market cap and revenue"
   ]
  },
  {
   "cell_type": "code",
   "execution_count": 37,
   "metadata": {},
   "outputs": [],
   "source": [
    "def convert_market_cap_revenue(val):\n",
    "    if \"T\" in val or \"Trillion\" in val:\n",
    "        val = val.replace('$','').replace(\"Trillion\", '').replace('USD', '').replace('US', '').replace('T','').strip()\n",
    "        return int(float(val)*(10**12))\n",
    "    elif \"B\" in val or \"Billion\" in val:\n",
    "        val = val.replace('$','').replace(\"Billion\", '').replace('USD', '').replace('US', '').replace('B','').strip()\n",
    "        return int(float(val)*(10**9))\n",
    "    elif \"M\" in val:\n",
    "        val = val.replace('$','').replace(\"Million\", '').replace('USD', '').replace('US', '').replace('M','').strip()\n",
    "        return int(float(val)*(10**6))\n",
    "    else:\n",
    "        return np.nan"
   ]
  },
  {
   "attachments": {},
   "cell_type": "markdown",
   "metadata": {},
   "source": [
    "## DDD"
   ]
  },
  {
   "cell_type": "markdown",
   "metadata": {},
   "source": [
    "### DDD-cbinsight.com.csv"
   ]
  },
  {
   "cell_type": "code",
   "execution_count": 38,
   "metadata": {},
   "outputs": [
    {
     "data": {
      "text/plain": [
       "'src/datasets/DDD-cbinsight.com.csv'"
      ]
     },
     "execution_count": 38,
     "metadata": {},
     "output_type": "execute_result"
    }
   ],
   "source": [
    "files_list[0]"
   ]
  },
  {
   "cell_type": "code",
   "execution_count": 39,
   "metadata": {},
   "outputs": [
    {
     "data": {
      "text/html": [
       "<div>\n",
       "<style scoped>\n",
       "    .dataframe tbody tr th:only-of-type {\n",
       "        vertical-align: middle;\n",
       "    }\n",
       "\n",
       "    .dataframe tbody tr th {\n",
       "        vertical-align: top;\n",
       "    }\n",
       "\n",
       "    .dataframe thead th {\n",
       "        text-align: right;\n",
       "    }\n",
       "</style>\n",
       "<table border=\"1\" class=\"dataframe\">\n",
       "  <thead>\n",
       "    <tr style=\"text-align: right;\">\n",
       "      <th></th>\n",
       "      <th>Unnamed: 0</th>\n",
       "      <th>name</th>\n",
       "      <th>valuation</th>\n",
       "      <th>dateJoined</th>\n",
       "      <th>country</th>\n",
       "      <th>city</th>\n",
       "      <th>industry</th>\n",
       "      <th>investors</th>\n",
       "      <th>founded</th>\n",
       "      <th>stage</th>\n",
       "      <th>totalRaised</th>\n",
       "    </tr>\n",
       "  </thead>\n",
       "  <tbody>\n",
       "    <tr>\n",
       "      <th>0</th>\n",
       "      <td>0</td>\n",
       "      <td>Lacework</td>\n",
       "      <td>$8.3B</td>\n",
       "      <td>1/7/2021</td>\n",
       "      <td>United States</td>\n",
       "      <td>San Jose</td>\n",
       "      <td>Cybersecurity</td>\n",
       "      <td>Sutter Hill Ventures, Liberty Global Ventures,...</td>\n",
       "      <td>2015</td>\n",
       "      <td>Series E</td>\n",
       "      <td>$1.907B</td>\n",
       "    </tr>\n",
       "    <tr>\n",
       "      <th>1</th>\n",
       "      <td>1</td>\n",
       "      <td>Tipalti</td>\n",
       "      <td>$8.3B</td>\n",
       "      <td>10/6/2020</td>\n",
       "      <td>United States</td>\n",
       "      <td>San Mateo</td>\n",
       "      <td>Fintech</td>\n",
       "      <td>01 Advisors, Zeev Ventures, Group 11</td>\n",
       "      <td>2010</td>\n",
       "      <td>Series F</td>\n",
       "      <td>$556M</td>\n",
       "    </tr>\n",
       "    <tr>\n",
       "      <th>2</th>\n",
       "      <td>2</td>\n",
       "      <td>Tempus</td>\n",
       "      <td>$8.1B</td>\n",
       "      <td>3/21/2018</td>\n",
       "      <td>United States</td>\n",
       "      <td>Chicago</td>\n",
       "      <td>Health</td>\n",
       "      <td>New Enterprise Associates, T. Rowe Associates,...</td>\n",
       "      <td>2015</td>\n",
       "      <td>Unattributed - II</td>\n",
       "      <td>$1.345B</td>\n",
       "    </tr>\n",
       "    <tr>\n",
       "      <th>3</th>\n",
       "      <td>3</td>\n",
       "      <td>Anduril</td>\n",
       "      <td>$8.48B</td>\n",
       "      <td>9/11/2019</td>\n",
       "      <td>United States</td>\n",
       "      <td>Irvine</td>\n",
       "      <td>Artificial intelligence</td>\n",
       "      <td>Andreessen Horowitz, Founders Fund, Revolution...</td>\n",
       "      <td>2017</td>\n",
       "      <td>Series E</td>\n",
       "      <td>$2.309B</td>\n",
       "    </tr>\n",
       "    <tr>\n",
       "      <th>4</th>\n",
       "      <td>4</td>\n",
       "      <td>Bolt</td>\n",
       "      <td>$8.4B</td>\n",
       "      <td>5/29/2018</td>\n",
       "      <td>Estonia</td>\n",
       "      <td>Tallinn</td>\n",
       "      <td>Auto &amp; transportation</td>\n",
       "      <td>Didi Chuxing, Diamler, TMT Investments</td>\n",
       "      <td>2013</td>\n",
       "      <td>Series F</td>\n",
       "      <td>$1.971B</td>\n",
       "    </tr>\n",
       "  </tbody>\n",
       "</table>\n",
       "</div>"
      ],
      "text/plain": [
       "   Unnamed: 0      name valuation dateJoined        country       city  \\\n",
       "0           0  Lacework     $8.3B   1/7/2021  United States   San Jose   \n",
       "1           1   Tipalti     $8.3B  10/6/2020  United States  San Mateo   \n",
       "2           2    Tempus     $8.1B  3/21/2018  United States    Chicago   \n",
       "3           3   Anduril    $8.48B  9/11/2019  United States     Irvine   \n",
       "4           4      Bolt     $8.4B  5/29/2018        Estonia    Tallinn   \n",
       "\n",
       "                  industry                                          investors  \\\n",
       "0            Cybersecurity  Sutter Hill Ventures, Liberty Global Ventures,...   \n",
       "1                  Fintech               01 Advisors, Zeev Ventures, Group 11   \n",
       "2                   Health  New Enterprise Associates, T. Rowe Associates,...   \n",
       "3  Artificial intelligence  Andreessen Horowitz, Founders Fund, Revolution...   \n",
       "4    Auto & transportation             Didi Chuxing, Diamler, TMT Investments   \n",
       "\n",
       "  founded              stage totalRaised  \n",
       "0    2015           Series E     $1.907B  \n",
       "1    2010           Series F       $556M  \n",
       "2    2015  Unattributed - II     $1.345B  \n",
       "3    2017           Series E     $2.309B  \n",
       "4    2013           Series F     $1.971B  "
      ]
     },
     "execution_count": 39,
     "metadata": {},
     "output_type": "execute_result"
    }
   ],
   "source": [
    "ddd_cbinsight = pd.read_csv(files_list[0])\n",
    "ddd_cbinsight.head()"
   ]
  },
  {
   "cell_type": "code",
   "execution_count": 40,
   "metadata": {},
   "outputs": [
    {
     "name": "stdout",
     "output_type": "stream",
     "text": [
      "Columns to remove:\n",
      "Unnamed: 0\n",
      "valuation\n",
      "dateJoined\n",
      "city\n",
      "investors\n",
      "stage\n",
      "totalRaised\n"
     ]
    }
   ],
   "source": [
    "to_drop, _ = columns_to_remove_not_remove(ddd_cbinsight)"
   ]
  },
  {
   "cell_type": "code",
   "execution_count": 41,
   "metadata": {},
   "outputs": [
    {
     "name": "stdout",
     "output_type": "stream",
     "text": [
      "Columns to rename:\n",
      "industry -> sector\n"
     ]
    }
   ],
   "source": [
    "ddd_cbinsight = ddd_cbinsight.drop(to_drop, axis=1)\n",
    "to_rename = rename_columns(ddd_cbinsight.columns)\n",
    "ddd_cbinsight.columns = to_rename"
   ]
  },
  {
   "cell_type": "code",
   "execution_count": 42,
   "metadata": {},
   "outputs": [
    {
     "data": {
      "text/html": [
       "<div>\n",
       "<style scoped>\n",
       "    .dataframe tbody tr th:only-of-type {\n",
       "        vertical-align: middle;\n",
       "    }\n",
       "\n",
       "    .dataframe tbody tr th {\n",
       "        vertical-align: top;\n",
       "    }\n",
       "\n",
       "    .dataframe thead th {\n",
       "        text-align: right;\n",
       "    }\n",
       "</style>\n",
       "<table border=\"1\" class=\"dataframe\">\n",
       "  <thead>\n",
       "    <tr style=\"text-align: right;\">\n",
       "      <th></th>\n",
       "      <th>name</th>\n",
       "      <th>country</th>\n",
       "      <th>sector</th>\n",
       "      <th>founded</th>\n",
       "    </tr>\n",
       "  </thead>\n",
       "  <tbody>\n",
       "    <tr>\n",
       "      <th>0</th>\n",
       "      <td>Lacework</td>\n",
       "      <td>United States</td>\n",
       "      <td>Cybersecurity</td>\n",
       "      <td>2015</td>\n",
       "    </tr>\n",
       "    <tr>\n",
       "      <th>1</th>\n",
       "      <td>Tipalti</td>\n",
       "      <td>United States</td>\n",
       "      <td>Fintech</td>\n",
       "      <td>2010</td>\n",
       "    </tr>\n",
       "    <tr>\n",
       "      <th>2</th>\n",
       "      <td>Tempus</td>\n",
       "      <td>United States</td>\n",
       "      <td>Health</td>\n",
       "      <td>2015</td>\n",
       "    </tr>\n",
       "    <tr>\n",
       "      <th>3</th>\n",
       "      <td>Anduril</td>\n",
       "      <td>United States</td>\n",
       "      <td>Artificial intelligence</td>\n",
       "      <td>2017</td>\n",
       "    </tr>\n",
       "    <tr>\n",
       "      <th>4</th>\n",
       "      <td>Bolt</td>\n",
       "      <td>Estonia</td>\n",
       "      <td>Auto &amp; transportation</td>\n",
       "      <td>2013</td>\n",
       "    </tr>\n",
       "  </tbody>\n",
       "</table>\n",
       "</div>"
      ],
      "text/plain": [
       "       name        country                   sector  founded\n",
       "0  Lacework  United States            Cybersecurity     2015\n",
       "1   Tipalti  United States                  Fintech     2010\n",
       "2    Tempus  United States                   Health     2015\n",
       "3   Anduril  United States  Artificial intelligence     2017\n",
       "4      Bolt        Estonia    Auto & transportation     2013"
      ]
     },
     "execution_count": 42,
     "metadata": {},
     "output_type": "execute_result"
    }
   ],
   "source": [
    "ddd_cbinsight = ddd_cbinsight.replace('None', np.nan)\n",
    "ddd_cbinsight.founded = ddd_cbinsight.founded.astype(object).astype('Int64')\n",
    "\n",
    "ddd_cbinsight.head()"
   ]
  },
  {
   "cell_type": "code",
   "execution_count": 43,
   "metadata": {},
   "outputs": [],
   "source": [
    "cleaned_files.append(ddd_cbinsight)"
   ]
  },
  {
   "cell_type": "markdown",
   "metadata": {},
   "source": [
    "### DDD-companiesmarketcap.com.csv"
   ]
  },
  {
   "cell_type": "code",
   "execution_count": 44,
   "metadata": {},
   "outputs": [
    {
     "data": {
      "text/plain": [
       "'src/datasets/DDD-companiesmarketcap.com.csv'"
      ]
     },
     "execution_count": 44,
     "metadata": {},
     "output_type": "execute_result"
    }
   ],
   "source": [
    "files_list[1]"
   ]
  },
  {
   "cell_type": "code",
   "execution_count": 45,
   "metadata": {},
   "outputs": [
    {
     "data": {
      "text/html": [
       "<div>\n",
       "<style scoped>\n",
       "    .dataframe tbody tr th:only-of-type {\n",
       "        vertical-align: middle;\n",
       "    }\n",
       "\n",
       "    .dataframe tbody tr th {\n",
       "        vertical-align: top;\n",
       "    }\n",
       "\n",
       "    .dataframe thead th {\n",
       "        text-align: right;\n",
       "    }\n",
       "</style>\n",
       "<table border=\"1\" class=\"dataframe\">\n",
       "  <thead>\n",
       "    <tr style=\"text-align: right;\">\n",
       "      <th></th>\n",
       "      <th>Unnamed: 0</th>\n",
       "      <th>name</th>\n",
       "      <th>rank</th>\n",
       "      <th>marketcap</th>\n",
       "      <th>country</th>\n",
       "      <th>share_price</th>\n",
       "      <th>change1d</th>\n",
       "      <th>change1y</th>\n",
       "      <th>categories</th>\n",
       "    </tr>\n",
       "  </thead>\n",
       "  <tbody>\n",
       "    <tr>\n",
       "      <th>0</th>\n",
       "      <td>0</td>\n",
       "      <td>Apple</td>\n",
       "      <td>1</td>\n",
       "      <td>$2.194 T</td>\n",
       "      <td>usa</td>\n",
       "      <td>$137.98</td>\n",
       "      <td>1.50%</td>\n",
       "      <td>-18.74%</td>\n",
       "      <td>tech software dow-jones tech-hardware electron...</td>\n",
       "    </tr>\n",
       "    <tr>\n",
       "      <th>1</th>\n",
       "      <td>1</td>\n",
       "      <td>Unilever</td>\n",
       "      <td>99</td>\n",
       "      <td>$129.09 B</td>\n",
       "      <td>united-kingdom</td>\n",
       "      <td>$50.98</td>\n",
       "      <td>-0.21%</td>\n",
       "      <td>-6.09%</td>\n",
       "      <td>food consumer-goods</td>\n",
       "    </tr>\n",
       "    <tr>\n",
       "      <th>2</th>\n",
       "      <td>2</td>\n",
       "      <td>AIA</td>\n",
       "      <td>97</td>\n",
       "      <td>$130.12 B</td>\n",
       "      <td>hong-kong</td>\n",
       "      <td>$11.11</td>\n",
       "      <td>1.34%</td>\n",
       "      <td>3.93%</td>\n",
       "      <td>insurance</td>\n",
       "    </tr>\n",
       "    <tr>\n",
       "      <th>3</th>\n",
       "      <td>3</td>\n",
       "      <td>Lowe's Companies</td>\n",
       "      <td>100</td>\n",
       "      <td>$128.96 B</td>\n",
       "      <td>usa</td>\n",
       "      <td>$213.26</td>\n",
       "      <td>1.79%</td>\n",
       "      <td>-12.38%</td>\n",
       "      <td>retail</td>\n",
       "    </tr>\n",
       "    <tr>\n",
       "      <th>4</th>\n",
       "      <td>4</td>\n",
       "      <td>RWE</td>\n",
       "      <td>601</td>\n",
       "      <td>$30.02 B</td>\n",
       "      <td>germany</td>\n",
       "      <td>$44.41</td>\n",
       "      <td>-1.16%</td>\n",
       "      <td>6.40%</td>\n",
       "      <td>electricity dax energy</td>\n",
       "    </tr>\n",
       "  </tbody>\n",
       "</table>\n",
       "</div>"
      ],
      "text/plain": [
       "   Unnamed: 0              name  rank  marketcap         country share_price  \\\n",
       "0           0             Apple     1   $2.194 T             usa     $137.98   \n",
       "1           1          Unilever    99  $129.09 B  united-kingdom      $50.98   \n",
       "2           2               AIA    97  $130.12 B       hong-kong      $11.11   \n",
       "3           3  Lowe's Companies   100  $128.96 B             usa     $213.26   \n",
       "4           4               RWE   601   $30.02 B         germany      $44.41   \n",
       "\n",
       "  change1d change1y                                         categories  \n",
       "0    1.50%  -18.74%  tech software dow-jones tech-hardware electron...  \n",
       "1   -0.21%   -6.09%                               food consumer-goods   \n",
       "2    1.34%    3.93%                                         insurance   \n",
       "3    1.79%  -12.38%                                            retail   \n",
       "4   -1.16%    6.40%                            electricity dax energy   "
      ]
     },
     "execution_count": 45,
     "metadata": {},
     "output_type": "execute_result"
    }
   ],
   "source": [
    "ddd_companies = pd.read_csv(files_list[1])\n",
    "ddd_companies.head()"
   ]
  },
  {
   "cell_type": "code",
   "execution_count": 46,
   "metadata": {},
   "outputs": [
    {
     "name": "stdout",
     "output_type": "stream",
     "text": [
      "Columns to remove:\n",
      "Unnamed: 0\n",
      "rank\n",
      "share_price\n",
      "change1d\n",
      "change1y\n"
     ]
    }
   ],
   "source": [
    "to_drop, _ = columns_to_remove_not_remove(ddd_companies)"
   ]
  },
  {
   "cell_type": "code",
   "execution_count": 47,
   "metadata": {},
   "outputs": [
    {
     "name": "stdout",
     "output_type": "stream",
     "text": [
      "Columns to rename:\n",
      "categories -> sector\n"
     ]
    }
   ],
   "source": [
    "ddd_companies = ddd_companies.drop(to_drop, axis=1)\n",
    "to_rename = rename_columns(ddd_companies.columns)\n",
    "ddd_companies.columns = to_rename"
   ]
  },
  {
   "cell_type": "code",
   "execution_count": 48,
   "metadata": {},
   "outputs": [
    {
     "data": {
      "text/html": [
       "<div>\n",
       "<style scoped>\n",
       "    .dataframe tbody tr th:only-of-type {\n",
       "        vertical-align: middle;\n",
       "    }\n",
       "\n",
       "    .dataframe tbody tr th {\n",
       "        vertical-align: top;\n",
       "    }\n",
       "\n",
       "    .dataframe thead th {\n",
       "        text-align: right;\n",
       "    }\n",
       "</style>\n",
       "<table border=\"1\" class=\"dataframe\">\n",
       "  <thead>\n",
       "    <tr style=\"text-align: right;\">\n",
       "      <th></th>\n",
       "      <th>name</th>\n",
       "      <th>marketcap</th>\n",
       "      <th>country</th>\n",
       "      <th>sector</th>\n",
       "    </tr>\n",
       "  </thead>\n",
       "  <tbody>\n",
       "    <tr>\n",
       "      <th>0</th>\n",
       "      <td>Apple</td>\n",
       "      <td>2194000000000</td>\n",
       "      <td>usa</td>\n",
       "      <td>tech software dow-jones tech-hardware electron...</td>\n",
       "    </tr>\n",
       "    <tr>\n",
       "      <th>1</th>\n",
       "      <td>Unilever</td>\n",
       "      <td>129090000000</td>\n",
       "      <td>united-kingdom</td>\n",
       "      <td>food consumer-goods</td>\n",
       "    </tr>\n",
       "    <tr>\n",
       "      <th>2</th>\n",
       "      <td>AIA</td>\n",
       "      <td>130120000000</td>\n",
       "      <td>hong-kong</td>\n",
       "      <td>insurance</td>\n",
       "    </tr>\n",
       "    <tr>\n",
       "      <th>3</th>\n",
       "      <td>Lowe's Companies</td>\n",
       "      <td>128960000000</td>\n",
       "      <td>usa</td>\n",
       "      <td>retail</td>\n",
       "    </tr>\n",
       "    <tr>\n",
       "      <th>4</th>\n",
       "      <td>RWE</td>\n",
       "      <td>30020000000</td>\n",
       "      <td>germany</td>\n",
       "      <td>electricity dax energy</td>\n",
       "    </tr>\n",
       "  </tbody>\n",
       "</table>\n",
       "</div>"
      ],
      "text/plain": [
       "               name      marketcap         country  \\\n",
       "0             Apple  2194000000000             usa   \n",
       "1          Unilever   129090000000  united-kingdom   \n",
       "2               AIA   130120000000       hong-kong   \n",
       "3  Lowe's Companies   128960000000             usa   \n",
       "4               RWE    30020000000         germany   \n",
       "\n",
       "                                              sector  \n",
       "0  tech software dow-jones tech-hardware electron...  \n",
       "1                               food consumer-goods   \n",
       "2                                         insurance   \n",
       "3                                            retail   \n",
       "4                            electricity dax energy   "
      ]
     },
     "execution_count": 48,
     "metadata": {},
     "output_type": "execute_result"
    }
   ],
   "source": [
    "ddd_companies.marketcap = ddd_companies.marketcap.apply(lambda x: convert_market_cap_revenue(x) if pd.notnull(x) else x)\n",
    "ddd_companies = ddd_companies.replace('None', np.nan)\n",
    "ddd_companies.marketcap = ddd_companies.marketcap.astype(object).astype('Int64')\n",
    "\n",
    "ddd_companies.head()"
   ]
  },
  {
   "cell_type": "code",
   "execution_count": 49,
   "metadata": {},
   "outputs": [],
   "source": [
    "cleaned_files.append(ddd_companies)"
   ]
  },
  {
   "cell_type": "markdown",
   "metadata": {},
   "source": [
    "### DDD-ft.com.csv"
   ]
  },
  {
   "cell_type": "code",
   "execution_count": 50,
   "metadata": {},
   "outputs": [
    {
     "data": {
      "text/plain": [
       "'src/datasets/DDD-ft.com.csv'"
      ]
     },
     "execution_count": 50,
     "metadata": {},
     "output_type": "execute_result"
    }
   ],
   "source": [
    "files_list[2]"
   ]
  },
  {
   "cell_type": "code",
   "execution_count": 51,
   "metadata": {},
   "outputs": [
    {
     "data": {
      "text/html": [
       "<div>\n",
       "<style scoped>\n",
       "    .dataframe tbody tr th:only-of-type {\n",
       "        vertical-align: middle;\n",
       "    }\n",
       "\n",
       "    .dataframe tbody tr th {\n",
       "        vertical-align: top;\n",
       "    }\n",
       "\n",
       "    .dataframe thead th {\n",
       "        text-align: right;\n",
       "    }\n",
       "</style>\n",
       "<table border=\"1\" class=\"dataframe\">\n",
       "  <thead>\n",
       "    <tr style=\"text-align: right;\">\n",
       "      <th></th>\n",
       "      <th>Unnamed: 0</th>\n",
       "      <th>name</th>\n",
       "      <th>country</th>\n",
       "      <th>sector</th>\n",
       "      <th>absolute_growth_rate_pct</th>\n",
       "      <th>compound_annual_growth_rate_cagr_pct</th>\n",
       "      <th>revenue_2020_euro</th>\n",
       "      <th>revenue_2017_euro</th>\n",
       "      <th>number_of_employees_2020</th>\n",
       "      <th>number_of_employees_2017</th>\n",
       "      <th>founding_year</th>\n",
       "    </tr>\n",
       "  </thead>\n",
       "  <tbody>\n",
       "    <tr>\n",
       "      <th>0</th>\n",
       "      <td>0</td>\n",
       "      <td>Swappie</td>\n",
       "      <td>Finland</td>\n",
       "      <td>Technology</td>\n",
       "      <td>19,152.82</td>\n",
       "      <td>477.43</td>\n",
       "      <td>97,611,814</td>\n",
       "      <td>507,000</td>\n",
       "      <td>218</td>\n",
       "      <td>1</td>\n",
       "      <td>2016</td>\n",
       "    </tr>\n",
       "    <tr>\n",
       "      <th>1</th>\n",
       "      <td>1</td>\n",
       "      <td>Kilo Health</td>\n",
       "      <td>Lithuania</td>\n",
       "      <td>Health</td>\n",
       "      <td>16,541.73</td>\n",
       "      <td>450.05</td>\n",
       "      <td>57,318,766</td>\n",
       "      <td>344,428</td>\n",
       "      <td>177</td>\n",
       "      <td>10</td>\n",
       "      <td>2013</td>\n",
       "    </tr>\n",
       "    <tr>\n",
       "      <th>2</th>\n",
       "      <td>2</td>\n",
       "      <td>OCI</td>\n",
       "      <td>UK</td>\n",
       "      <td>Financial Services</td>\n",
       "      <td>13,133.13</td>\n",
       "      <td>409.59</td>\n",
       "      <td>568,322,073</td>\n",
       "      <td>4,325,512</td>\n",
       "      <td>32</td>\n",
       "      <td>4</td>\n",
       "      <td>2012</td>\n",
       "    </tr>\n",
       "    <tr>\n",
       "      <th>3</th>\n",
       "      <td>3</td>\n",
       "      <td>OnlyFans</td>\n",
       "      <td>UK</td>\n",
       "      <td>Technology</td>\n",
       "      <td>11,928.05</td>\n",
       "      <td>393.63</td>\n",
       "      <td>316,732,986</td>\n",
       "      <td>2,652,185</td>\n",
       "      <td>800</td>\n",
       "      <td>4</td>\n",
       "      <td>2016</td>\n",
       "    </tr>\n",
       "    <tr>\n",
       "      <th>4</th>\n",
       "      <td>4</td>\n",
       "      <td>Enpal</td>\n",
       "      <td>Germany</td>\n",
       "      <td>Energy</td>\n",
       "      <td>11,441.27</td>\n",
       "      <td>386.88</td>\n",
       "      <td>56,109,613</td>\n",
       "      <td>486,165</td>\n",
       "      <td>365</td>\n",
       "      <td>9</td>\n",
       "      <td>2017</td>\n",
       "    </tr>\n",
       "  </tbody>\n",
       "</table>\n",
       "</div>"
      ],
      "text/plain": [
       "   Unnamed: 0         name    country              sector  \\\n",
       "0           0      Swappie    Finland          Technology   \n",
       "1           1  Kilo Health  Lithuania              Health   \n",
       "2           2          OCI         UK  Financial Services   \n",
       "3           3     OnlyFans         UK          Technology   \n",
       "4           4        Enpal    Germany              Energy   \n",
       "\n",
       "  absolute_growth_rate_pct  compound_annual_growth_rate_cagr_pct  \\\n",
       "0                19,152.82                                477.43   \n",
       "1                16,541.73                                450.05   \n",
       "2                13,133.13                                409.59   \n",
       "3                11,928.05                                393.63   \n",
       "4                11,441.27                                386.88   \n",
       "\n",
       "  revenue_2020_euro revenue_2017_euro number_of_employees_2020  \\\n",
       "0        97,611,814           507,000                      218   \n",
       "1        57,318,766           344,428                      177   \n",
       "2       568,322,073         4,325,512                       32   \n",
       "3       316,732,986         2,652,185                      800   \n",
       "4        56,109,613           486,165                      365   \n",
       "\n",
       "  number_of_employees_2017  founding_year  \n",
       "0                        1           2016  \n",
       "1                       10           2013  \n",
       "2                        4           2012  \n",
       "3                        4           2016  \n",
       "4                        9           2017  "
      ]
     },
     "execution_count": 51,
     "metadata": {},
     "output_type": "execute_result"
    }
   ],
   "source": [
    "ddd_ft = pd.read_csv(files_list[2])\n",
    "ddd_ft.head()"
   ]
  },
  {
   "cell_type": "code",
   "execution_count": 52,
   "metadata": {},
   "outputs": [
    {
     "name": "stdout",
     "output_type": "stream",
     "text": [
      "Columns to remove:\n",
      "Unnamed: 0\n",
      "absolute_growth_rate_pct\n",
      "compound_annual_growth_rate_cagr_pct\n",
      "revenue_2017_euro\n",
      "number_of_employees_2017\n"
     ]
    }
   ],
   "source": [
    "to_drop, _ = columns_to_remove_not_remove(ddd_ft)"
   ]
  },
  {
   "cell_type": "code",
   "execution_count": 53,
   "metadata": {},
   "outputs": [
    {
     "name": "stdout",
     "output_type": "stream",
     "text": [
      "Columns to rename:\n",
      "revenue_2020_euro -> revenue\n",
      "number_of_employees_2020 -> employees\n",
      "founding_year -> founded\n"
     ]
    }
   ],
   "source": [
    "ddd_ft = ddd_ft.drop(to_drop, axis=1)\n",
    "to_rename = rename_columns(ddd_ft.columns)\n",
    "ddd_ft.columns = to_rename"
   ]
  },
  {
   "cell_type": "code",
   "execution_count": 54,
   "metadata": {},
   "outputs": [
    {
     "data": {
      "text/html": [
       "<div>\n",
       "<style scoped>\n",
       "    .dataframe tbody tr th:only-of-type {\n",
       "        vertical-align: middle;\n",
       "    }\n",
       "\n",
       "    .dataframe tbody tr th {\n",
       "        vertical-align: top;\n",
       "    }\n",
       "\n",
       "    .dataframe thead th {\n",
       "        text-align: right;\n",
       "    }\n",
       "</style>\n",
       "<table border=\"1\" class=\"dataframe\">\n",
       "  <thead>\n",
       "    <tr style=\"text-align: right;\">\n",
       "      <th></th>\n",
       "      <th>name</th>\n",
       "      <th>country</th>\n",
       "      <th>sector</th>\n",
       "      <th>revenue</th>\n",
       "      <th>employees</th>\n",
       "      <th>founded</th>\n",
       "    </tr>\n",
       "  </thead>\n",
       "  <tbody>\n",
       "    <tr>\n",
       "      <th>0</th>\n",
       "      <td>Swappie</td>\n",
       "      <td>Finland</td>\n",
       "      <td>Technology</td>\n",
       "      <td>97611814</td>\n",
       "      <td>218</td>\n",
       "      <td>2016</td>\n",
       "    </tr>\n",
       "    <tr>\n",
       "      <th>1</th>\n",
       "      <td>Kilo Health</td>\n",
       "      <td>Lithuania</td>\n",
       "      <td>Health</td>\n",
       "      <td>57318766</td>\n",
       "      <td>177</td>\n",
       "      <td>2013</td>\n",
       "    </tr>\n",
       "    <tr>\n",
       "      <th>2</th>\n",
       "      <td>OCI</td>\n",
       "      <td>UK</td>\n",
       "      <td>Financial Services</td>\n",
       "      <td>568322073</td>\n",
       "      <td>32</td>\n",
       "      <td>2012</td>\n",
       "    </tr>\n",
       "    <tr>\n",
       "      <th>3</th>\n",
       "      <td>OnlyFans</td>\n",
       "      <td>UK</td>\n",
       "      <td>Technology</td>\n",
       "      <td>316732986</td>\n",
       "      <td>800</td>\n",
       "      <td>2016</td>\n",
       "    </tr>\n",
       "    <tr>\n",
       "      <th>4</th>\n",
       "      <td>Enpal</td>\n",
       "      <td>Germany</td>\n",
       "      <td>Energy</td>\n",
       "      <td>56109613</td>\n",
       "      <td>365</td>\n",
       "      <td>2017</td>\n",
       "    </tr>\n",
       "  </tbody>\n",
       "</table>\n",
       "</div>"
      ],
      "text/plain": [
       "          name    country              sector    revenue  employees  founded\n",
       "0      Swappie    Finland          Technology   97611814        218     2016\n",
       "1  Kilo Health  Lithuania              Health   57318766        177     2013\n",
       "2          OCI         UK  Financial Services  568322073         32     2012\n",
       "3     OnlyFans         UK          Technology  316732986        800     2016\n",
       "4        Enpal    Germany              Energy   56109613        365     2017"
      ]
     },
     "execution_count": 54,
     "metadata": {},
     "output_type": "execute_result"
    }
   ],
   "source": [
    "ddd_ft = ddd_ft.replace('None', np.nan)\n",
    "ddd_ft.revenue = ddd_ft.revenue.apply(lambda x : x.replace(',',''))\n",
    "\n",
    "ddd_ft.revenue = ddd_ft.revenue.astype(object).astype('Int64')\n",
    "ddd_ft.employees = ddd_ft.employees.astype(object).astype('Int64')\n",
    "ddd_ft.founded = ddd_ft.founded.astype(object).astype('Int64')\n",
    "ddd_ft.head()"
   ]
  },
  {
   "cell_type": "code",
   "execution_count": 55,
   "metadata": {},
   "outputs": [],
   "source": [
    "cleaned_files.append(ddd_ft)"
   ]
  },
  {
   "cell_type": "markdown",
   "metadata": {},
   "source": [
    "### DDD-teamblind.com.csv"
   ]
  },
  {
   "cell_type": "code",
   "execution_count": 56,
   "metadata": {},
   "outputs": [
    {
     "data": {
      "text/plain": [
       "'src/datasets/DDD-teamblind.com.csv'"
      ]
     },
     "execution_count": 56,
     "metadata": {},
     "output_type": "execute_result"
    }
   ],
   "source": [
    "files_list[3]"
   ]
  },
  {
   "cell_type": "code",
   "execution_count": 57,
   "metadata": {},
   "outputs": [
    {
     "data": {
      "text/html": [
       "<div>\n",
       "<style scoped>\n",
       "    .dataframe tbody tr th:only-of-type {\n",
       "        vertical-align: middle;\n",
       "    }\n",
       "\n",
       "    .dataframe tbody tr th {\n",
       "        vertical-align: top;\n",
       "    }\n",
       "\n",
       "    .dataframe thead th {\n",
       "        text-align: right;\n",
       "    }\n",
       "</style>\n",
       "<table border=\"1\" class=\"dataframe\">\n",
       "  <thead>\n",
       "    <tr style=\"text-align: right;\">\n",
       "      <th></th>\n",
       "      <th>Unnamed: 0</th>\n",
       "      <th>name</th>\n",
       "      <th>website</th>\n",
       "      <th>locations</th>\n",
       "      <th>size</th>\n",
       "      <th>industry</th>\n",
       "      <th>founded</th>\n",
       "    </tr>\n",
       "  </thead>\n",
       "  <tbody>\n",
       "    <tr>\n",
       "      <th>0</th>\n",
       "      <td>0</td>\n",
       "      <td>Proteus Digital Health Careers</td>\n",
       "      <td>www.proteus.com</td>\n",
       "      <td>Redwood City, CA</td>\n",
       "      <td>201 to 500 employees</td>\n",
       "      <td>Pharmaceuticals</td>\n",
       "      <td>2004</td>\n",
       "    </tr>\n",
       "    <tr>\n",
       "      <th>1</th>\n",
       "      <td>1</td>\n",
       "      <td>Zelis Careers</td>\n",
       "      <td>www.zelis.com</td>\n",
       "      <td>Bedminster, NJ</td>\n",
       "      <td>1,001 to 5,000 employees</td>\n",
       "      <td>Information Technology &amp; Services</td>\n",
       "      <td>2016</td>\n",
       "    </tr>\n",
       "    <tr>\n",
       "      <th>2</th>\n",
       "      <td>2</td>\n",
       "      <td>UpNest Careers</td>\n",
       "      <td>www.upnest.com</td>\n",
       "      <td>Burlingame, CA</td>\n",
       "      <td>1 to 50 employees</td>\n",
       "      <td>Real Estate</td>\n",
       "      <td>2013</td>\n",
       "    </tr>\n",
       "    <tr>\n",
       "      <th>3</th>\n",
       "      <td>3</td>\n",
       "      <td>conferacity Careers</td>\n",
       "      <td>conferacity.com</td>\n",
       "      <td>Menlo Park, CA</td>\n",
       "      <td>1 to 50 employees</td>\n",
       "      <td>Broadcast &amp; Online Media</td>\n",
       "      <td>2013</td>\n",
       "    </tr>\n",
       "    <tr>\n",
       "      <th>4</th>\n",
       "      <td>4</td>\n",
       "      <td>Zenoti Careers</td>\n",
       "      <td>www.zenoti.com</td>\n",
       "      <td>Bellevue, WA</td>\n",
       "      <td>501 to 1,000 employees</td>\n",
       "      <td>Computer Software</td>\n",
       "      <td>2010</td>\n",
       "    </tr>\n",
       "  </tbody>\n",
       "</table>\n",
       "</div>"
      ],
      "text/plain": [
       "   Unnamed: 0                            name          website  \\\n",
       "0           0  Proteus Digital Health Careers  www.proteus.com   \n",
       "1           1                   Zelis Careers    www.zelis.com   \n",
       "2           2                  UpNest Careers   www.upnest.com   \n",
       "3           3             conferacity Careers  conferacity.com   \n",
       "4           4                  Zenoti Careers   www.zenoti.com   \n",
       "\n",
       "          locations                      size  \\\n",
       "0  Redwood City, CA      201 to 500 employees   \n",
       "1    Bedminster, NJ  1,001 to 5,000 employees   \n",
       "2    Burlingame, CA         1 to 50 employees   \n",
       "3    Menlo Park, CA         1 to 50 employees   \n",
       "4      Bellevue, WA    501 to 1,000 employees   \n",
       "\n",
       "                            industry founded  \n",
       "0                    Pharmaceuticals    2004  \n",
       "1  Information Technology & Services    2016  \n",
       "2                        Real Estate    2013  \n",
       "3           Broadcast & Online Media    2013  \n",
       "4                  Computer Software    2010  "
      ]
     },
     "execution_count": 57,
     "metadata": {},
     "output_type": "execute_result"
    }
   ],
   "source": [
    "ddd_teamblind = pd.read_csv(files_list[3])\n",
    "ddd_teamblind.head()"
   ]
  },
  {
   "cell_type": "code",
   "execution_count": 58,
   "metadata": {},
   "outputs": [
    {
     "name": "stdout",
     "output_type": "stream",
     "text": [
      "Columns to remove:\n",
      "Unnamed: 0\n"
     ]
    }
   ],
   "source": [
    "to_drop, _ = columns_to_remove_not_remove(ddd_teamblind)"
   ]
  },
  {
   "cell_type": "code",
   "execution_count": 59,
   "metadata": {},
   "outputs": [
    {
     "name": "stdout",
     "output_type": "stream",
     "text": [
      "Columns to rename:\n",
      "website -> links\n",
      "locations -> country\n",
      "size -> employees\n",
      "industry -> sector\n"
     ]
    }
   ],
   "source": [
    "ddd_teamblind = ddd_teamblind.drop(to_drop, axis=1)\n",
    "to_rename = rename_columns(ddd_teamblind.columns)\n",
    "ddd_teamblind.columns = to_rename"
   ]
  },
  {
   "cell_type": "code",
   "execution_count": 60,
   "metadata": {},
   "outputs": [
    {
     "data": {
      "text/html": [
       "<div>\n",
       "<style scoped>\n",
       "    .dataframe tbody tr th:only-of-type {\n",
       "        vertical-align: middle;\n",
       "    }\n",
       "\n",
       "    .dataframe tbody tr th {\n",
       "        vertical-align: top;\n",
       "    }\n",
       "\n",
       "    .dataframe thead th {\n",
       "        text-align: right;\n",
       "    }\n",
       "</style>\n",
       "<table border=\"1\" class=\"dataframe\">\n",
       "  <thead>\n",
       "    <tr style=\"text-align: right;\">\n",
       "      <th></th>\n",
       "      <th>name</th>\n",
       "      <th>links</th>\n",
       "      <th>country</th>\n",
       "      <th>employees</th>\n",
       "      <th>sector</th>\n",
       "      <th>founded</th>\n",
       "    </tr>\n",
       "  </thead>\n",
       "  <tbody>\n",
       "    <tr>\n",
       "      <th>0</th>\n",
       "      <td>Proteus Digital Health Careers</td>\n",
       "      <td>www.proteus.com</td>\n",
       "      <td>Redwood City</td>\n",
       "      <td>350</td>\n",
       "      <td>Pharmaceuticals</td>\n",
       "      <td>2004</td>\n",
       "    </tr>\n",
       "    <tr>\n",
       "      <th>1</th>\n",
       "      <td>Zelis Careers</td>\n",
       "      <td>www.zelis.com</td>\n",
       "      <td>Bedminster</td>\n",
       "      <td>3000</td>\n",
       "      <td>Information Technology &amp; Services</td>\n",
       "      <td>2016</td>\n",
       "    </tr>\n",
       "    <tr>\n",
       "      <th>2</th>\n",
       "      <td>UpNest Careers</td>\n",
       "      <td>www.upnest.com</td>\n",
       "      <td>Burlingame</td>\n",
       "      <td>25</td>\n",
       "      <td>Real Estate</td>\n",
       "      <td>2013</td>\n",
       "    </tr>\n",
       "    <tr>\n",
       "      <th>3</th>\n",
       "      <td>conferacity Careers</td>\n",
       "      <td>conferacity.com</td>\n",
       "      <td>Menlo Park</td>\n",
       "      <td>25</td>\n",
       "      <td>Broadcast &amp; Online Media</td>\n",
       "      <td>2013</td>\n",
       "    </tr>\n",
       "    <tr>\n",
       "      <th>4</th>\n",
       "      <td>Zenoti Careers</td>\n",
       "      <td>www.zenoti.com</td>\n",
       "      <td>Bellevue</td>\n",
       "      <td>750</td>\n",
       "      <td>Computer Software</td>\n",
       "      <td>2010</td>\n",
       "    </tr>\n",
       "  </tbody>\n",
       "</table>\n",
       "</div>"
      ],
      "text/plain": [
       "                             name            links       country  employees  \\\n",
       "0  Proteus Digital Health Careers  www.proteus.com  Redwood City        350   \n",
       "1                   Zelis Careers    www.zelis.com    Bedminster       3000   \n",
       "2                  UpNest Careers   www.upnest.com    Burlingame         25   \n",
       "3             conferacity Careers  conferacity.com    Menlo Park         25   \n",
       "4                  Zenoti Careers   www.zenoti.com      Bellevue        750   \n",
       "\n",
       "                              sector  founded  \n",
       "0                    Pharmaceuticals     2004  \n",
       "1  Information Technology & Services     2016  \n",
       "2                        Real Estate     2013  \n",
       "3           Broadcast & Online Media     2013  \n",
       "4                  Computer Software     2010  "
      ]
     },
     "execution_count": 60,
     "metadata": {},
     "output_type": "execute_result"
    }
   ],
   "source": [
    "ddd_teamblind.country = ddd_teamblind.country.apply(lambda x: x.split(',', 1)[0])\n",
    "ddd_teamblind.employees = ddd_teamblind.employees.apply(lambda x: x.replace(',', '').replace('to ', '').replace(' employees', '').replace('+', '').split(' ', 1)) \n",
    "ddd_teamblind.employees = ddd_teamblind.employees.apply(lambda x: int(sum([int(i) for i in x])/2) if x[0] != 'None' else np.nan)\n",
    "ddd_teamblind = ddd_teamblind.replace('None', np.nan)\n",
    "ddd_teamblind.employees = ddd_teamblind.employees.astype(object).astype('Int64')\n",
    "ddd_teamblind.founded = ddd_teamblind.founded.astype(object).astype('Int64')\n",
    "ddd_teamblind.head()"
   ]
  },
  {
   "cell_type": "code",
   "execution_count": 61,
   "metadata": {},
   "outputs": [],
   "source": [
    "cleaned_files.append(ddd_teamblind)"
   ]
  },
  {
   "cell_type": "markdown",
   "metadata": {},
   "source": [
    "## FR"
   ]
  },
  {
   "cell_type": "markdown",
   "metadata": {},
   "source": [
    "### FR_campaignindia.csv"
   ]
  },
  {
   "cell_type": "code",
   "execution_count": 62,
   "metadata": {},
   "outputs": [
    {
     "data": {
      "text/plain": [
       "'src/datasets/FR_campaignindia.csv'"
      ]
     },
     "execution_count": 62,
     "metadata": {},
     "output_type": "execute_result"
    }
   ],
   "source": [
    "files_list[4]"
   ]
  },
  {
   "cell_type": "code",
   "execution_count": 63,
   "metadata": {},
   "outputs": [
    {
     "data": {
      "text/html": [
       "<div>\n",
       "<style scoped>\n",
       "    .dataframe tbody tr th:only-of-type {\n",
       "        vertical-align: middle;\n",
       "    }\n",
       "\n",
       "    .dataframe tbody tr th {\n",
       "        vertical-align: top;\n",
       "    }\n",
       "\n",
       "    .dataframe thead th {\n",
       "        text-align: right;\n",
       "    }\n",
       "</style>\n",
       "<table border=\"1\" class=\"dataframe\">\n",
       "  <thead>\n",
       "    <tr style=\"text-align: right;\">\n",
       "      <th></th>\n",
       "      <th>RANK</th>\n",
       "      <th>BRAND NAME</th>\n",
       "      <th>CATEGORY</th>\n",
       "      <th>MAIN MARKET</th>\n",
       "      <th>2010 RANK</th>\n",
       "    </tr>\n",
       "  </thead>\n",
       "  <tbody>\n",
       "    <tr>\n",
       "      <th>0</th>\n",
       "      <td>1</td>\n",
       "      <td>Sony</td>\n",
       "      <td>Consumer electronics</td>\n",
       "      <td>Regional</td>\n",
       "      <td>1</td>\n",
       "    </tr>\n",
       "    <tr>\n",
       "      <th>1</th>\n",
       "      <td>2</td>\n",
       "      <td>Samsung</td>\n",
       "      <td>Electronics/White goods</td>\n",
       "      <td>Regional</td>\n",
       "      <td>2</td>\n",
       "    </tr>\n",
       "    <tr>\n",
       "      <th>2</th>\n",
       "      <td>3</td>\n",
       "      <td>Panasonic</td>\n",
       "      <td>Consumer electronics</td>\n",
       "      <td>Regional</td>\n",
       "      <td>3</td>\n",
       "    </tr>\n",
       "    <tr>\n",
       "      <th>3</th>\n",
       "      <td>4</td>\n",
       "      <td>LG</td>\n",
       "      <td>Electronics/White goods</td>\n",
       "      <td>Regional</td>\n",
       "      <td>4</td>\n",
       "    </tr>\n",
       "    <tr>\n",
       "      <th>4</th>\n",
       "      <td>5</td>\n",
       "      <td>Canon</td>\n",
       "      <td>Camera/Office equipment</td>\n",
       "      <td>Regional</td>\n",
       "      <td>5</td>\n",
       "    </tr>\n",
       "  </tbody>\n",
       "</table>\n",
       "</div>"
      ],
      "text/plain": [
       "   RANK BRAND NAME                 CATEGORY MAIN MARKET 2010 RANK\n",
       "0     1       Sony     Consumer electronics    Regional         1\n",
       "1     2    Samsung  Electronics/White goods    Regional         2\n",
       "2     3  Panasonic     Consumer electronics    Regional         3\n",
       "3     4         LG  Electronics/White goods    Regional         4\n",
       "4     5      Canon  Camera/Office equipment    Regional         5"
      ]
     },
     "execution_count": 63,
     "metadata": {},
     "output_type": "execute_result"
    }
   ],
   "source": [
    "fr_india = pd.read_csv(files_list[4])\n",
    "fr_india.head()"
   ]
  },
  {
   "cell_type": "code",
   "execution_count": 64,
   "metadata": {},
   "outputs": [
    {
     "name": "stdout",
     "output_type": "stream",
     "text": [
      "Columns to remove:\n",
      "RANK\n",
      "MAIN MARKET\n",
      "2010 RANK\n"
     ]
    }
   ],
   "source": [
    "to_drop, _ = columns_to_remove_not_remove(fr_india)"
   ]
  },
  {
   "cell_type": "code",
   "execution_count": 65,
   "metadata": {},
   "outputs": [
    {
     "name": "stdout",
     "output_type": "stream",
     "text": [
      "Columns to rename:\n",
      "BRAND NAME -> name\n",
      "CATEGORY -> sector\n"
     ]
    },
    {
     "data": {
      "text/html": [
       "<div>\n",
       "<style scoped>\n",
       "    .dataframe tbody tr th:only-of-type {\n",
       "        vertical-align: middle;\n",
       "    }\n",
       "\n",
       "    .dataframe tbody tr th {\n",
       "        vertical-align: top;\n",
       "    }\n",
       "\n",
       "    .dataframe thead th {\n",
       "        text-align: right;\n",
       "    }\n",
       "</style>\n",
       "<table border=\"1\" class=\"dataframe\">\n",
       "  <thead>\n",
       "    <tr style=\"text-align: right;\">\n",
       "      <th></th>\n",
       "      <th>name</th>\n",
       "      <th>sector</th>\n",
       "    </tr>\n",
       "  </thead>\n",
       "  <tbody>\n",
       "    <tr>\n",
       "      <th>0</th>\n",
       "      <td>Sony</td>\n",
       "      <td>Consumer electronics</td>\n",
       "    </tr>\n",
       "    <tr>\n",
       "      <th>1</th>\n",
       "      <td>Samsung</td>\n",
       "      <td>Electronics/White goods</td>\n",
       "    </tr>\n",
       "    <tr>\n",
       "      <th>2</th>\n",
       "      <td>Panasonic</td>\n",
       "      <td>Consumer electronics</td>\n",
       "    </tr>\n",
       "    <tr>\n",
       "      <th>3</th>\n",
       "      <td>LG</td>\n",
       "      <td>Electronics/White goods</td>\n",
       "    </tr>\n",
       "    <tr>\n",
       "      <th>4</th>\n",
       "      <td>Canon</td>\n",
       "      <td>Camera/Office equipment</td>\n",
       "    </tr>\n",
       "  </tbody>\n",
       "</table>\n",
       "</div>"
      ],
      "text/plain": [
       "        name                   sector\n",
       "0       Sony     Consumer electronics\n",
       "1    Samsung  Electronics/White goods\n",
       "2  Panasonic     Consumer electronics\n",
       "3         LG  Electronics/White goods\n",
       "4      Canon  Camera/Office equipment"
      ]
     },
     "execution_count": 65,
     "metadata": {},
     "output_type": "execute_result"
    }
   ],
   "source": [
    "fr_india = fr_india.drop(to_drop, axis=1)\n",
    "to_rename = rename_columns(fr_india.columns)\n",
    "fr_india.columns = to_rename\n",
    "fr_india.head()"
   ]
  },
  {
   "cell_type": "code",
   "execution_count": 66,
   "metadata": {},
   "outputs": [],
   "source": [
    "cleaned_files.append(fr_india)"
   ]
  },
  {
   "cell_type": "markdown",
   "metadata": {},
   "source": [
    "### FR_company_social_urls.csv"
   ]
  },
  {
   "cell_type": "code",
   "execution_count": 67,
   "metadata": {},
   "outputs": [
    {
     "data": {
      "text/plain": [
       "'src/datasets/FR_company_social_urls.csv'"
      ]
     },
     "execution_count": 67,
     "metadata": {},
     "output_type": "execute_result"
    }
   ],
   "source": [
    "files_list[5]"
   ]
  },
  {
   "cell_type": "code",
   "execution_count": 68,
   "metadata": {},
   "outputs": [
    {
     "data": {
      "text/html": [
       "<div>\n",
       "<style scoped>\n",
       "    .dataframe tbody tr th:only-of-type {\n",
       "        vertical-align: middle;\n",
       "    }\n",
       "\n",
       "    .dataframe tbody tr th {\n",
       "        vertical-align: top;\n",
       "    }\n",
       "\n",
       "    .dataframe thead th {\n",
       "        text-align: right;\n",
       "    }\n",
       "</style>\n",
       "<table border=\"1\" class=\"dataframe\">\n",
       "  <thead>\n",
       "    <tr style=\"text-align: right;\">\n",
       "      <th></th>\n",
       "      <th>Company</th>\n",
       "      <th>Facebook</th>\n",
       "      <th>Twitter</th>\n",
       "      <th>Instagram</th>\n",
       "      <th>Pinterest</th>\n",
       "    </tr>\n",
       "  </thead>\n",
       "  <tbody>\n",
       "    <tr>\n",
       "      <th>0</th>\n",
       "      <td>The Hershey Company</td>\n",
       "      <td>https://www.facebook.com/HersheyCompany/</td>\n",
       "      <td>https://twitter.com/hersheycompany</td>\n",
       "      <td>https://www.instagram.com/hersheycompany/</td>\n",
       "      <td>https://www.pinterest.com/hersheycompany/</td>\n",
       "    </tr>\n",
       "    <tr>\n",
       "      <th>1</th>\n",
       "      <td>ITC</td>\n",
       "      <td>https://it-it.facebook.com/ITCooperativa/</td>\n",
       "      <td>https://twitter.com/search?q=%23itc</td>\n",
       "      <td>https://www.instagram.com/tgruiz24/?hl=it</td>\n",
       "      <td>https://www.pinterest.it/itcaccessories/</td>\n",
       "    </tr>\n",
       "    <tr>\n",
       "      <th>2</th>\n",
       "      <td>Pgnig Group</td>\n",
       "      <td>https://www.facebook.com/PGNiG/</td>\n",
       "      <td>https://twitter.com/search?q=%23pgnig</td>\n",
       "      <td>https://www.instagram.com/pgnig_od/</td>\n",
       "      <td>NaN</td>\n",
       "    </tr>\n",
       "    <tr>\n",
       "      <th>3</th>\n",
       "      <td>MTN Group</td>\n",
       "      <td>https://m.facebook.com/profile.php?id=10859005...</td>\n",
       "      <td>https://twitter.com/mtngroup</td>\n",
       "      <td>https://www.instagram.com/mtn.company/?hl=it</td>\n",
       "      <td>https://www.pinterest.it/mtn_company/</td>\n",
       "    </tr>\n",
       "    <tr>\n",
       "      <th>4</th>\n",
       "      <td>Compass Group</td>\n",
       "      <td>https://it-it.facebook.com/people/Compass-Grou...</td>\n",
       "      <td>https://twitter.com/compassgroupuk</td>\n",
       "      <td>https://www.instagram.com/compassgroupse/?hl=it</td>\n",
       "      <td>https://www.pinterest.it/pin/288652657357881873/</td>\n",
       "    </tr>\n",
       "  </tbody>\n",
       "</table>\n",
       "</div>"
      ],
      "text/plain": [
       "               Company                                           Facebook  \\\n",
       "0  The Hershey Company           https://www.facebook.com/HersheyCompany/   \n",
       "1                  ITC          https://it-it.facebook.com/ITCooperativa/   \n",
       "2          Pgnig Group                    https://www.facebook.com/PGNiG/   \n",
       "3            MTN Group  https://m.facebook.com/profile.php?id=10859005...   \n",
       "4        Compass Group  https://it-it.facebook.com/people/Compass-Grou...   \n",
       "\n",
       "                                 Twitter  \\\n",
       "0     https://twitter.com/hersheycompany   \n",
       "1    https://twitter.com/search?q=%23itc   \n",
       "2  https://twitter.com/search?q=%23pgnig   \n",
       "3           https://twitter.com/mtngroup   \n",
       "4     https://twitter.com/compassgroupuk   \n",
       "\n",
       "                                         Instagram  \\\n",
       "0        https://www.instagram.com/hersheycompany/   \n",
       "1        https://www.instagram.com/tgruiz24/?hl=it   \n",
       "2              https://www.instagram.com/pgnig_od/   \n",
       "3     https://www.instagram.com/mtn.company/?hl=it   \n",
       "4  https://www.instagram.com/compassgroupse/?hl=it   \n",
       "\n",
       "                                          Pinterest  \n",
       "0         https://www.pinterest.com/hersheycompany/  \n",
       "1          https://www.pinterest.it/itcaccessories/  \n",
       "2                                               NaN  \n",
       "3             https://www.pinterest.it/mtn_company/  \n",
       "4  https://www.pinterest.it/pin/288652657357881873/  "
      ]
     },
     "execution_count": 68,
     "metadata": {},
     "output_type": "execute_result"
    }
   ],
   "source": [
    "fr_social_urls = pd.read_csv(files_list[5])\n",
    "fr_social_urls.head()"
   ]
  },
  {
   "cell_type": "code",
   "execution_count": 69,
   "metadata": {},
   "outputs": [],
   "source": [
    "url_dataset = [\"Facebook\", \"Twitter\", \"Instagram\", \"Pinterest\"]\n",
    "fr_social_urls['link'] = fr_social_urls[url_dataset].values.tolist()"
   ]
  },
  {
   "cell_type": "code",
   "execution_count": 70,
   "metadata": {},
   "outputs": [
    {
     "name": "stdout",
     "output_type": "stream",
     "text": [
      "Columns to remove:\n"
     ]
    }
   ],
   "source": [
    "to_drop, _ = columns_to_remove_not_remove(fr_social_urls)\n",
    "to_drop.extend(url_dataset)"
   ]
  },
  {
   "cell_type": "code",
   "execution_count": 71,
   "metadata": {},
   "outputs": [
    {
     "name": "stdout",
     "output_type": "stream",
     "text": [
      "Columns to rename:\n",
      "Company -> name\n",
      "link -> links\n"
     ]
    },
    {
     "data": {
      "text/html": [
       "<div>\n",
       "<style scoped>\n",
       "    .dataframe tbody tr th:only-of-type {\n",
       "        vertical-align: middle;\n",
       "    }\n",
       "\n",
       "    .dataframe tbody tr th {\n",
       "        vertical-align: top;\n",
       "    }\n",
       "\n",
       "    .dataframe thead th {\n",
       "        text-align: right;\n",
       "    }\n",
       "</style>\n",
       "<table border=\"1\" class=\"dataframe\">\n",
       "  <thead>\n",
       "    <tr style=\"text-align: right;\">\n",
       "      <th></th>\n",
       "      <th>name</th>\n",
       "      <th>links</th>\n",
       "    </tr>\n",
       "  </thead>\n",
       "  <tbody>\n",
       "    <tr>\n",
       "      <th>0</th>\n",
       "      <td>The Hershey Company</td>\n",
       "      <td>[https://www.facebook.com/HersheyCompany/, htt...</td>\n",
       "    </tr>\n",
       "    <tr>\n",
       "      <th>1</th>\n",
       "      <td>ITC</td>\n",
       "      <td>[https://it-it.facebook.com/ITCooperativa/, ht...</td>\n",
       "    </tr>\n",
       "    <tr>\n",
       "      <th>2</th>\n",
       "      <td>Pgnig Group</td>\n",
       "      <td>[https://www.facebook.com/PGNiG/, https://twit...</td>\n",
       "    </tr>\n",
       "    <tr>\n",
       "      <th>3</th>\n",
       "      <td>MTN Group</td>\n",
       "      <td>[https://m.facebook.com/profile.php?id=1085900...</td>\n",
       "    </tr>\n",
       "    <tr>\n",
       "      <th>4</th>\n",
       "      <td>Compass Group</td>\n",
       "      <td>[https://it-it.facebook.com/people/Compass-Gro...</td>\n",
       "    </tr>\n",
       "  </tbody>\n",
       "</table>\n",
       "</div>"
      ],
      "text/plain": [
       "                  name                                              links\n",
       "0  The Hershey Company  [https://www.facebook.com/HersheyCompany/, htt...\n",
       "1                  ITC  [https://it-it.facebook.com/ITCooperativa/, ht...\n",
       "2          Pgnig Group  [https://www.facebook.com/PGNiG/, https://twit...\n",
       "3            MTN Group  [https://m.facebook.com/profile.php?id=1085900...\n",
       "4        Compass Group  [https://it-it.facebook.com/people/Compass-Gro..."
      ]
     },
     "execution_count": 71,
     "metadata": {},
     "output_type": "execute_result"
    }
   ],
   "source": [
    "fr_social_urls = fr_social_urls.drop(to_drop, axis=1)\n",
    "to_rename = rename_columns(fr_social_urls.columns)\n",
    "fr_social_urls.columns = to_rename\n",
    "fr_social_urls.head()"
   ]
  },
  {
   "cell_type": "code",
   "execution_count": 72,
   "metadata": {},
   "outputs": [],
   "source": [
    "cleaned_files.append(fr_social_urls)"
   ]
  },
  {
   "cell_type": "markdown",
   "metadata": {},
   "source": [
    "### FR_disfold.csv"
   ]
  },
  {
   "cell_type": "code",
   "execution_count": 73,
   "metadata": {},
   "outputs": [
    {
     "data": {
      "text/plain": [
       "'src/datasets/FR_disfold.csv'"
      ]
     },
     "execution_count": 73,
     "metadata": {},
     "output_type": "execute_result"
    }
   ],
   "source": [
    "files_list[6]"
   ]
  },
  {
   "cell_type": "code",
   "execution_count": 74,
   "metadata": {},
   "outputs": [
    {
     "data": {
      "text/html": [
       "<div>\n",
       "<style scoped>\n",
       "    .dataframe tbody tr th:only-of-type {\n",
       "        vertical-align: middle;\n",
       "    }\n",
       "\n",
       "    .dataframe tbody tr th {\n",
       "        vertical-align: top;\n",
       "    }\n",
       "\n",
       "    .dataframe thead th {\n",
       "        text-align: right;\n",
       "    }\n",
       "</style>\n",
       "<table border=\"1\" class=\"dataframe\">\n",
       "  <thead>\n",
       "    <tr style=\"text-align: right;\">\n",
       "      <th></th>\n",
       "      <th>Founded</th>\n",
       "      <th>Top Competitor</th>\n",
       "      <th>Employees</th>\n",
       "      <th>CEO</th>\n",
       "      <th>Name</th>\n",
       "    </tr>\n",
       "  </thead>\n",
       "  <tbody>\n",
       "    <tr>\n",
       "      <th>0</th>\n",
       "      <td>Founded: April 1, 1976</td>\n",
       "      <td>Samsung</td>\n",
       "      <td>Employees: 100,000</td>\n",
       "      <td>CEO: Mr. Timothy D. Cook</td>\n",
       "      <td>Apple</td>\n",
       "    </tr>\n",
       "    <tr>\n",
       "      <th>1</th>\n",
       "      <td>Founded: April 4, 1975</td>\n",
       "      <td>Oracle</td>\n",
       "      <td>Employees: 181,000</td>\n",
       "      <td>CEO: Mr. Satya Nadella</td>\n",
       "      <td>Microsoft</td>\n",
       "    </tr>\n",
       "    <tr>\n",
       "      <th>2</th>\n",
       "      <td>NaN</td>\n",
       "      <td>ExxonMobil</td>\n",
       "      <td>NaN</td>\n",
       "      <td>CEO: Mr. Amin H. Nasser</td>\n",
       "      <td>Aramco</td>\n",
       "    </tr>\n",
       "    <tr>\n",
       "      <th>3</th>\n",
       "      <td>Founded: October 2, 2015</td>\n",
       "      <td>Meta</td>\n",
       "      <td>Employees: 156,500</td>\n",
       "      <td>CEO: Mr. Sundar Pichai</td>\n",
       "      <td>Alphabet</td>\n",
       "    </tr>\n",
       "    <tr>\n",
       "      <th>4</th>\n",
       "      <td>Founded: July 5, 1994</td>\n",
       "      <td>Alibaba</td>\n",
       "      <td>Employees: 1,608,000</td>\n",
       "      <td>CEO: Mr. Andrew R. Jassy</td>\n",
       "      <td>Amazon</td>\n",
       "    </tr>\n",
       "  </tbody>\n",
       "</table>\n",
       "</div>"
      ],
      "text/plain": [
       "                    Founded Top Competitor             Employees  \\\n",
       "0    Founded: April 1, 1976        Samsung    Employees: 100,000   \n",
       "1    Founded: April 4, 1975         Oracle    Employees: 181,000   \n",
       "2                       NaN     ExxonMobil                   NaN   \n",
       "3  Founded: October 2, 2015           Meta    Employees: 156,500   \n",
       "4     Founded: July 5, 1994        Alibaba  Employees: 1,608,000   \n",
       "\n",
       "                        CEO       Name  \n",
       "0  CEO: Mr. Timothy D. Cook      Apple  \n",
       "1    CEO: Mr. Satya Nadella  Microsoft  \n",
       "2   CEO: Mr. Amin H. Nasser     Aramco  \n",
       "3    CEO: Mr. Sundar Pichai   Alphabet  \n",
       "4  CEO: Mr. Andrew R. Jassy     Amazon  "
      ]
     },
     "execution_count": 74,
     "metadata": {},
     "output_type": "execute_result"
    }
   ],
   "source": [
    "fr_disfold = pd.read_csv(files_list[6])\n",
    "fr_disfold.head()"
   ]
  },
  {
   "cell_type": "code",
   "execution_count": 75,
   "metadata": {},
   "outputs": [
    {
     "name": "stdout",
     "output_type": "stream",
     "text": [
      "Columns to remove:\n",
      "Top Competitor\n"
     ]
    }
   ],
   "source": [
    "to_drop, _ = columns_to_remove_not_remove(fr_disfold)"
   ]
  },
  {
   "cell_type": "code",
   "execution_count": 76,
   "metadata": {},
   "outputs": [
    {
     "name": "stdout",
     "output_type": "stream",
     "text": [
      "Columns to rename:\n"
     ]
    }
   ],
   "source": [
    "fr_disfold = fr_disfold.drop(to_drop, axis=1)\n",
    "to_rename = rename_columns(fr_disfold.columns)\n",
    "fr_disfold.columns = to_rename"
   ]
  },
  {
   "cell_type": "code",
   "execution_count": 77,
   "metadata": {},
   "outputs": [
    {
     "data": {
      "text/html": [
       "<div>\n",
       "<style scoped>\n",
       "    .dataframe tbody tr th:only-of-type {\n",
       "        vertical-align: middle;\n",
       "    }\n",
       "\n",
       "    .dataframe tbody tr th {\n",
       "        vertical-align: top;\n",
       "    }\n",
       "\n",
       "    .dataframe thead th {\n",
       "        text-align: right;\n",
       "    }\n",
       "</style>\n",
       "<table border=\"1\" class=\"dataframe\">\n",
       "  <thead>\n",
       "    <tr style=\"text-align: right;\">\n",
       "      <th></th>\n",
       "      <th>founded</th>\n",
       "      <th>employees</th>\n",
       "      <th>ceo</th>\n",
       "      <th>name</th>\n",
       "    </tr>\n",
       "  </thead>\n",
       "  <tbody>\n",
       "    <tr>\n",
       "      <th>0</th>\n",
       "      <td>1976</td>\n",
       "      <td>100000</td>\n",
       "      <td>Mr. Timothy D. Cook</td>\n",
       "      <td>Apple</td>\n",
       "    </tr>\n",
       "    <tr>\n",
       "      <th>1</th>\n",
       "      <td>1975</td>\n",
       "      <td>181000</td>\n",
       "      <td>Mr. Satya Nadella</td>\n",
       "      <td>Microsoft</td>\n",
       "    </tr>\n",
       "    <tr>\n",
       "      <th>2</th>\n",
       "      <td>&lt;NA&gt;</td>\n",
       "      <td>&lt;NA&gt;</td>\n",
       "      <td>Mr. Amin H. Nasser</td>\n",
       "      <td>Aramco</td>\n",
       "    </tr>\n",
       "    <tr>\n",
       "      <th>3</th>\n",
       "      <td>2015</td>\n",
       "      <td>156500</td>\n",
       "      <td>Mr. Sundar Pichai</td>\n",
       "      <td>Alphabet</td>\n",
       "    </tr>\n",
       "    <tr>\n",
       "      <th>4</th>\n",
       "      <td>1994</td>\n",
       "      <td>1608000</td>\n",
       "      <td>Mr. Andrew R. Jassy</td>\n",
       "      <td>Amazon</td>\n",
       "    </tr>\n",
       "  </tbody>\n",
       "</table>\n",
       "</div>"
      ],
      "text/plain": [
       "   founded  employees                  ceo       name\n",
       "0     1976     100000  Mr. Timothy D. Cook      Apple\n",
       "1     1975     181000    Mr. Satya Nadella  Microsoft\n",
       "2     <NA>       <NA>   Mr. Amin H. Nasser     Aramco\n",
       "3     2015     156500    Mr. Sundar Pichai   Alphabet\n",
       "4     1994    1608000  Mr. Andrew R. Jassy     Amazon"
      ]
     },
     "execution_count": 77,
     "metadata": {},
     "output_type": "execute_result"
    }
   ],
   "source": [
    "fr_disfold.founded = fr_disfold.founded.str.extract(r'([\\d]{4})')\n",
    "fr_disfold.ceo = fr_disfold.ceo.apply(lambda x : str(x).replace('CEO: ', \"\"))\n",
    "fr_disfold.employees = fr_disfold.employees.apply(lambda x : str(x).replace('Employees: ', '').replace(\",\", \"\"))\n",
    "fr_disfold = fr_disfold.replace('nan', np.nan)\n",
    "\n",
    "fr_disfold.founded = fr_disfold.founded.astype(object).astype('Int64')\n",
    "fr_disfold.employees = fr_disfold.employees.astype(object).astype('Int64')\n",
    "fr_disfold.head()"
   ]
  },
  {
   "cell_type": "code",
   "execution_count": 78,
   "metadata": {},
   "outputs": [],
   "source": [
    "cleaned_files.append(fr_disfold)"
   ]
  },
  {
   "cell_type": "markdown",
   "metadata": {},
   "source": [
    "### FR_famcap_germany.csv"
   ]
  },
  {
   "cell_type": "code",
   "execution_count": 79,
   "metadata": {},
   "outputs": [
    {
     "data": {
      "text/plain": [
       "'src/datasets/FR_famcap_germany.csv'"
      ]
     },
     "execution_count": 79,
     "metadata": {},
     "output_type": "execute_result"
    }
   ],
   "source": [
    "files_list[7]"
   ]
  },
  {
   "cell_type": "code",
   "execution_count": 80,
   "metadata": {},
   "outputs": [
    {
     "data": {
      "text/html": [
       "<div>\n",
       "<style scoped>\n",
       "    .dataframe tbody tr th:only-of-type {\n",
       "        vertical-align: middle;\n",
       "    }\n",
       "\n",
       "    .dataframe tbody tr th {\n",
       "        vertical-align: top;\n",
       "    }\n",
       "\n",
       "    .dataframe thead th {\n",
       "        text-align: right;\n",
       "    }\n",
       "</style>\n",
       "<table border=\"1\" class=\"dataframe\">\n",
       "  <thead>\n",
       "    <tr style=\"text-align: right;\">\n",
       "      <th></th>\n",
       "      <th>Rank</th>\n",
       "      <th>Company</th>\n",
       "      <th>Revenues 2018 $m</th>\n",
       "      <th>Employees</th>\n",
       "      <th>Family ownership</th>\n",
       "      <th>Founded</th>\n",
       "      <th>Public/Private</th>\n",
       "      <th>Generation</th>\n",
       "      <th>Family executive</th>\n",
       "      <th>Woman in leadership</th>\n",
       "      <th>Sector</th>\n",
       "      <th>Headquarters</th>\n",
       "      <th>State (abbreviation)</th>\n",
       "      <th>Website</th>\n",
       "    </tr>\n",
       "  </thead>\n",
       "  <tbody>\n",
       "    <tr>\n",
       "      <th>0</th>\n",
       "      <td>1</td>\n",
       "      <td>Volkswagen Group</td>\n",
       "      <td>266,315.1</td>\n",
       "      <td>665,260</td>\n",
       "      <td>Porsche, Piech</td>\n",
       "      <td>1937</td>\n",
       "      <td>Public</td>\n",
       "      <td>4</td>\n",
       "      <td>No</td>\n",
       "      <td>Yes</td>\n",
       "      <td>Automotive</td>\n",
       "      <td>Wolfsburg</td>\n",
       "      <td>NI</td>\n",
       "      <td>www.volkswagenag.de</td>\n",
       "    </tr>\n",
       "    <tr>\n",
       "      <th>1</th>\n",
       "      <td>2</td>\n",
       "      <td>Schwarz Group (aka Lidl, Kaufland, ...)</td>\n",
       "      <td>119,418.4</td>\n",
       "      <td>429,000</td>\n",
       "      <td>Schwarz</td>\n",
       "      <td>1930</td>\n",
       "      <td>Private</td>\n",
       "      <td>2</td>\n",
       "      <td>No</td>\n",
       "      <td>No</td>\n",
       "      <td>Retail</td>\n",
       "      <td>Neckarsulm</td>\n",
       "      <td>BW</td>\n",
       "      <td>www.lidl.de</td>\n",
       "    </tr>\n",
       "    <tr>\n",
       "      <th>2</th>\n",
       "      <td>3</td>\n",
       "      <td>BMW Group</td>\n",
       "      <td>109,018.3</td>\n",
       "      <td>134,682</td>\n",
       "      <td>Quandt, Klatten</td>\n",
       "      <td>1916</td>\n",
       "      <td>Public</td>\n",
       "      <td>4</td>\n",
       "      <td>No</td>\n",
       "      <td>Yes</td>\n",
       "      <td>Automotive</td>\n",
       "      <td>München</td>\n",
       "      <td>BY</td>\n",
       "      <td>www.bmwgroup.com</td>\n",
       "    </tr>\n",
       "    <tr>\n",
       "      <th>3</th>\n",
       "      <td>4</td>\n",
       "      <td>ALDI Discounter (Nord + Süd)</td>\n",
       "      <td>100,423.6</td>\n",
       "      <td>208,000</td>\n",
       "      <td>Albrecht</td>\n",
       "      <td>1913</td>\n",
       "      <td>Private</td>\n",
       "      <td>4</td>\n",
       "      <td>No</td>\n",
       "      <td>Yes</td>\n",
       "      <td>Retail</td>\n",
       "      <td>E en and Mülheim an der Ruhr</td>\n",
       "      <td>NW</td>\n",
       "      <td>www.aldi.de</td>\n",
       "    </tr>\n",
       "    <tr>\n",
       "      <th>4</th>\n",
       "      <td>5</td>\n",
       "      <td>Robert Bosch Group</td>\n",
       "      <td>87,935.7</td>\n",
       "      <td>409,881</td>\n",
       "      <td>Bosch</td>\n",
       "      <td>1886</td>\n",
       "      <td>Private</td>\n",
       "      <td>3</td>\n",
       "      <td>No</td>\n",
       "      <td>No</td>\n",
       "      <td>Automotive</td>\n",
       "      <td>Gerlingen-Schillerhöhe</td>\n",
       "      <td>BW</td>\n",
       "      <td>www.bosch.de</td>\n",
       "    </tr>\n",
       "  </tbody>\n",
       "</table>\n",
       "</div>"
      ],
      "text/plain": [
       "   Rank                                  Company Revenues 2018 $m Employees  \\\n",
       "0     1                         Volkswagen Group        266,315.1   665,260   \n",
       "1     2  Schwarz Group (aka Lidl, Kaufland, ...)        119,418.4   429,000   \n",
       "2     3                                BMW Group        109,018.3   134,682   \n",
       "3     4             ALDI Discounter (Nord + Süd)        100,423.6   208,000   \n",
       "4     5                       Robert Bosch Group         87,935.7   409,881   \n",
       "\n",
       "  Family ownership  Founded Public/Private Generation Family executive  \\\n",
       "0   Porsche, Piech     1937         Public          4               No   \n",
       "1          Schwarz     1930        Private          2               No   \n",
       "2  Quandt, Klatten     1916         Public          4               No   \n",
       "3         Albrecht     1913        Private          4               No   \n",
       "4            Bosch     1886        Private          3               No   \n",
       "\n",
       "  Woman in leadership      Sector                  Headquarters  \\\n",
       "0                 Yes  Automotive                     Wolfsburg   \n",
       "1                  No      Retail                    Neckarsulm   \n",
       "2                 Yes  Automotive                       München   \n",
       "3                 Yes      Retail  E en and Mülheim an der Ruhr   \n",
       "4                  No  Automotive        Gerlingen-Schillerhöhe   \n",
       "\n",
       "  State (abbreviation)              Website  \n",
       "0                   NI  www.volkswagenag.de  \n",
       "1                   BW          www.lidl.de  \n",
       "2                   BY     www.bmwgroup.com  \n",
       "3                   NW          www.aldi.de  \n",
       "4                   BW         www.bosch.de  "
      ]
     },
     "execution_count": 80,
     "metadata": {},
     "output_type": "execute_result"
    }
   ],
   "source": [
    "fr_germany = pd.read_csv(files_list[7])\n",
    "fr_germany.head()"
   ]
  },
  {
   "cell_type": "code",
   "execution_count": 81,
   "metadata": {},
   "outputs": [
    {
     "name": "stdout",
     "output_type": "stream",
     "text": [
      "Columns to remove:\n",
      "Rank\n",
      "Family ownership\n",
      "Public/Private\n",
      "Generation\n",
      "Family executive\n",
      "Woman in leadership\n",
      "State (abbreviation)\n"
     ]
    }
   ],
   "source": [
    "to_drop, _ = columns_to_remove_not_remove(fr_germany)"
   ]
  },
  {
   "cell_type": "code",
   "execution_count": 82,
   "metadata": {},
   "outputs": [
    {
     "name": "stdout",
     "output_type": "stream",
     "text": [
      "Columns to rename:\n",
      "Company -> name\n",
      "Revenues 2018 $m -> revenue\n",
      "Headquarters -> country\n",
      "Website -> links\n"
     ]
    },
    {
     "data": {
      "text/html": [
       "<div>\n",
       "<style scoped>\n",
       "    .dataframe tbody tr th:only-of-type {\n",
       "        vertical-align: middle;\n",
       "    }\n",
       "\n",
       "    .dataframe tbody tr th {\n",
       "        vertical-align: top;\n",
       "    }\n",
       "\n",
       "    .dataframe thead th {\n",
       "        text-align: right;\n",
       "    }\n",
       "</style>\n",
       "<table border=\"1\" class=\"dataframe\">\n",
       "  <thead>\n",
       "    <tr style=\"text-align: right;\">\n",
       "      <th></th>\n",
       "      <th>name</th>\n",
       "      <th>revenue</th>\n",
       "      <th>employees</th>\n",
       "      <th>founded</th>\n",
       "      <th>sector</th>\n",
       "      <th>country</th>\n",
       "      <th>links</th>\n",
       "    </tr>\n",
       "  </thead>\n",
       "  <tbody>\n",
       "    <tr>\n",
       "      <th>0</th>\n",
       "      <td>Volkswagen Group</td>\n",
       "      <td>266,315.1</td>\n",
       "      <td>665,260</td>\n",
       "      <td>1937</td>\n",
       "      <td>Automotive</td>\n",
       "      <td>Wolfsburg</td>\n",
       "      <td>www.volkswagenag.de</td>\n",
       "    </tr>\n",
       "    <tr>\n",
       "      <th>1</th>\n",
       "      <td>Schwarz Group (aka Lidl, Kaufland, ...)</td>\n",
       "      <td>119,418.4</td>\n",
       "      <td>429,000</td>\n",
       "      <td>1930</td>\n",
       "      <td>Retail</td>\n",
       "      <td>Neckarsulm</td>\n",
       "      <td>www.lidl.de</td>\n",
       "    </tr>\n",
       "    <tr>\n",
       "      <th>2</th>\n",
       "      <td>BMW Group</td>\n",
       "      <td>109,018.3</td>\n",
       "      <td>134,682</td>\n",
       "      <td>1916</td>\n",
       "      <td>Automotive</td>\n",
       "      <td>München</td>\n",
       "      <td>www.bmwgroup.com</td>\n",
       "    </tr>\n",
       "    <tr>\n",
       "      <th>3</th>\n",
       "      <td>ALDI Discounter (Nord + Süd)</td>\n",
       "      <td>100,423.6</td>\n",
       "      <td>208,000</td>\n",
       "      <td>1913</td>\n",
       "      <td>Retail</td>\n",
       "      <td>E en and Mülheim an der Ruhr</td>\n",
       "      <td>www.aldi.de</td>\n",
       "    </tr>\n",
       "    <tr>\n",
       "      <th>4</th>\n",
       "      <td>Robert Bosch Group</td>\n",
       "      <td>87,935.7</td>\n",
       "      <td>409,881</td>\n",
       "      <td>1886</td>\n",
       "      <td>Automotive</td>\n",
       "      <td>Gerlingen-Schillerhöhe</td>\n",
       "      <td>www.bosch.de</td>\n",
       "    </tr>\n",
       "  </tbody>\n",
       "</table>\n",
       "</div>"
      ],
      "text/plain": [
       "                                      name    revenue employees  founded  \\\n",
       "0                         Volkswagen Group  266,315.1   665,260     1937   \n",
       "1  Schwarz Group (aka Lidl, Kaufland, ...)  119,418.4   429,000     1930   \n",
       "2                                BMW Group  109,018.3   134,682     1916   \n",
       "3             ALDI Discounter (Nord + Süd)  100,423.6   208,000     1913   \n",
       "4                       Robert Bosch Group   87,935.7   409,881     1886   \n",
       "\n",
       "       sector                       country                links  \n",
       "0  Automotive                     Wolfsburg  www.volkswagenag.de  \n",
       "1      Retail                    Neckarsulm          www.lidl.de  \n",
       "2  Automotive                       München     www.bmwgroup.com  \n",
       "3      Retail  E en and Mülheim an der Ruhr          www.aldi.de  \n",
       "4  Automotive        Gerlingen-Schillerhöhe         www.bosch.de  "
      ]
     },
     "execution_count": 82,
     "metadata": {},
     "output_type": "execute_result"
    }
   ],
   "source": [
    "fr_germany = fr_germany.drop(to_drop, axis=1)\n",
    "to_rename = rename_columns(fr_germany.columns)\n",
    "fr_germany.columns = to_rename\n",
    "fr_germany.head()"
   ]
  },
  {
   "cell_type": "code",
   "execution_count": 83,
   "metadata": {},
   "outputs": [
    {
     "data": {
      "text/html": [
       "<div>\n",
       "<style scoped>\n",
       "    .dataframe tbody tr th:only-of-type {\n",
       "        vertical-align: middle;\n",
       "    }\n",
       "\n",
       "    .dataframe tbody tr th {\n",
       "        vertical-align: top;\n",
       "    }\n",
       "\n",
       "    .dataframe thead th {\n",
       "        text-align: right;\n",
       "    }\n",
       "</style>\n",
       "<table border=\"1\" class=\"dataframe\">\n",
       "  <thead>\n",
       "    <tr style=\"text-align: right;\">\n",
       "      <th></th>\n",
       "      <th>name</th>\n",
       "      <th>revenue</th>\n",
       "      <th>employees</th>\n",
       "      <th>founded</th>\n",
       "      <th>sector</th>\n",
       "      <th>country</th>\n",
       "      <th>links</th>\n",
       "    </tr>\n",
       "  </thead>\n",
       "  <tbody>\n",
       "    <tr>\n",
       "      <th>0</th>\n",
       "      <td>Volkswagen Group</td>\n",
       "      <td>266315</td>\n",
       "      <td>665260</td>\n",
       "      <td>1937</td>\n",
       "      <td>Automotive</td>\n",
       "      <td>Wolfsburg</td>\n",
       "      <td>www.volkswagenag.de</td>\n",
       "    </tr>\n",
       "    <tr>\n",
       "      <th>1</th>\n",
       "      <td>Schwarz Group (aka Lidl, Kaufland, ...)</td>\n",
       "      <td>119418</td>\n",
       "      <td>429000</td>\n",
       "      <td>1930</td>\n",
       "      <td>Retail</td>\n",
       "      <td>Neckarsulm</td>\n",
       "      <td>www.lidl.de</td>\n",
       "    </tr>\n",
       "    <tr>\n",
       "      <th>2</th>\n",
       "      <td>BMW Group</td>\n",
       "      <td>109018</td>\n",
       "      <td>134682</td>\n",
       "      <td>1916</td>\n",
       "      <td>Automotive</td>\n",
       "      <td>München</td>\n",
       "      <td>www.bmwgroup.com</td>\n",
       "    </tr>\n",
       "    <tr>\n",
       "      <th>3</th>\n",
       "      <td>ALDI Discounter (Nord + Süd)</td>\n",
       "      <td>100423</td>\n",
       "      <td>208000</td>\n",
       "      <td>1913</td>\n",
       "      <td>Retail</td>\n",
       "      <td>E en and Mülheim an der Ruhr</td>\n",
       "      <td>www.aldi.de</td>\n",
       "    </tr>\n",
       "    <tr>\n",
       "      <th>4</th>\n",
       "      <td>Robert Bosch Group</td>\n",
       "      <td>87935</td>\n",
       "      <td>409881</td>\n",
       "      <td>1886</td>\n",
       "      <td>Automotive</td>\n",
       "      <td>Gerlingen-Schillerhöhe</td>\n",
       "      <td>www.bosch.de</td>\n",
       "    </tr>\n",
       "  </tbody>\n",
       "</table>\n",
       "</div>"
      ],
      "text/plain": [
       "                                      name  revenue  employees  founded  \\\n",
       "0                         Volkswagen Group   266315     665260     1937   \n",
       "1  Schwarz Group (aka Lidl, Kaufland, ...)   119418     429000     1930   \n",
       "2                                BMW Group   109018     134682     1916   \n",
       "3             ALDI Discounter (Nord + Süd)   100423     208000     1913   \n",
       "4                       Robert Bosch Group    87935     409881     1886   \n",
       "\n",
       "       sector                       country                links  \n",
       "0  Automotive                     Wolfsburg  www.volkswagenag.de  \n",
       "1      Retail                    Neckarsulm          www.lidl.de  \n",
       "2  Automotive                       München     www.bmwgroup.com  \n",
       "3      Retail  E en and Mülheim an der Ruhr          www.aldi.de  \n",
       "4  Automotive        Gerlingen-Schillerhöhe         www.bosch.de  "
      ]
     },
     "execution_count": 83,
     "metadata": {},
     "output_type": "execute_result"
    }
   ],
   "source": [
    "fr_germany.revenue = fr_germany.revenue.apply(lambda x : float(str(x).replace(',', '')))\n",
    "fr_germany.employees = fr_germany.employees.apply(lambda x : str(x).replace(',', ''))\n",
    "\n",
    "fr_germany.revenue = fr_germany.revenue.astype(float).astype(int)\n",
    "fr_germany.employees = fr_germany.employees.astype(object).astype('Int64')\n",
    "fr_germany.founded = fr_germany.founded.astype(object).astype('Int64')\n",
    "fr_germany.head()"
   ]
  },
  {
   "cell_type": "code",
   "execution_count": 84,
   "metadata": {},
   "outputs": [],
   "source": [
    "cleaned_files.append(fr_germany)"
   ]
  },
  {
   "cell_type": "markdown",
   "metadata": {},
   "source": [
    "### FR_followers.csv"
   ]
  },
  {
   "cell_type": "code",
   "execution_count": 85,
   "metadata": {},
   "outputs": [
    {
     "data": {
      "text/plain": [
       "'src/datasets/FR_followers.csv'"
      ]
     },
     "execution_count": 85,
     "metadata": {},
     "output_type": "execute_result"
    }
   ],
   "source": [
    "files_list[8]"
   ]
  },
  {
   "cell_type": "code",
   "execution_count": 86,
   "metadata": {},
   "outputs": [
    {
     "data": {
      "text/html": [
       "<div>\n",
       "<style scoped>\n",
       "    .dataframe tbody tr th:only-of-type {\n",
       "        vertical-align: middle;\n",
       "    }\n",
       "\n",
       "    .dataframe tbody tr th {\n",
       "        vertical-align: top;\n",
       "    }\n",
       "\n",
       "    .dataframe thead th {\n",
       "        text-align: right;\n",
       "    }\n",
       "</style>\n",
       "<table border=\"1\" class=\"dataframe\">\n",
       "  <thead>\n",
       "    <tr style=\"text-align: right;\">\n",
       "      <th></th>\n",
       "      <th>Company</th>\n",
       "      <th>Facebook</th>\n",
       "      <th>Twitter</th>\n",
       "      <th>Instagram</th>\n",
       "      <th>Pinterest</th>\n",
       "    </tr>\n",
       "  </thead>\n",
       "  <tbody>\n",
       "    <tr>\n",
       "      <th>0</th>\n",
       "      <td>Apple</td>\n",
       "      <td>14.031.481 persone seguono questa Pagina</td>\n",
       "      <td>8,8 Mln</td>\n",
       "      <td>28.9M follower</td>\n",
       "      <td>-</td>\n",
       "    </tr>\n",
       "    <tr>\n",
       "      <th>1</th>\n",
       "      <td>Amazon</td>\n",
       "      <td>5.017.069 persone seguono questa Pagina</td>\n",
       "      <td>5 Mln</td>\n",
       "      <td>3.8M follower</td>\n",
       "      <td>712,6mila follower</td>\n",
       "    </tr>\n",
       "    <tr>\n",
       "      <th>2</th>\n",
       "      <td>China Construction Bank</td>\n",
       "      <td>-</td>\n",
       "      <td>-</td>\n",
       "      <td>-</td>\n",
       "      <td>-</td>\n",
       "    </tr>\n",
       "    <tr>\n",
       "      <th>3</th>\n",
       "      <td>Agricultural Bank of China</td>\n",
       "      <td>-</td>\n",
       "      <td>-</td>\n",
       "      <td>-</td>\n",
       "      <td>-</td>\n",
       "    </tr>\n",
       "    <tr>\n",
       "      <th>4</th>\n",
       "      <td>ICBC</td>\n",
       "      <td>15.811 persone seguono questa Pagina</td>\n",
       "      <td>22.516</td>\n",
       "      <td>3,868 follower</td>\n",
       "      <td>-</td>\n",
       "    </tr>\n",
       "  </tbody>\n",
       "</table>\n",
       "</div>"
      ],
      "text/plain": [
       "                      Company                                  Facebook  \\\n",
       "0                       Apple  14.031.481 persone seguono questa Pagina   \n",
       "1                      Amazon   5.017.069 persone seguono questa Pagina   \n",
       "2     China Construction Bank                                         -   \n",
       "3  Agricultural Bank of China                                         -   \n",
       "4                        ICBC      15.811 persone seguono questa Pagina   \n",
       "\n",
       "   Twitter       Instagram           Pinterest  \n",
       "0  8,8 Mln  28.9M follower                   -  \n",
       "1    5 Mln   3.8M follower  712,6mila follower  \n",
       "2        -               -                   -  \n",
       "3        -               -                   -  \n",
       "4   22.516  3,868 follower                   -  "
      ]
     },
     "execution_count": 86,
     "metadata": {},
     "output_type": "execute_result"
    }
   ],
   "source": [
    "fr_followers = pd.read_csv(files_list[8])\n",
    "fr_followers.head()"
   ]
  },
  {
   "cell_type": "markdown",
   "metadata": {},
   "source": [
    "#### Dataset da non usare?"
   ]
  },
  {
   "cell_type": "markdown",
   "metadata": {},
   "source": [
    "### FR_forbes.csv"
   ]
  },
  {
   "cell_type": "code",
   "execution_count": 87,
   "metadata": {},
   "outputs": [
    {
     "data": {
      "text/plain": [
       "'src/datasets/FR_forbes.csv'"
      ]
     },
     "execution_count": 87,
     "metadata": {},
     "output_type": "execute_result"
    }
   ],
   "source": [
    "files_list[9]"
   ]
  },
  {
   "cell_type": "code",
   "execution_count": 88,
   "metadata": {},
   "outputs": [
    {
     "data": {
      "text/html": [
       "<div>\n",
       "<style scoped>\n",
       "    .dataframe tbody tr th:only-of-type {\n",
       "        vertical-align: middle;\n",
       "    }\n",
       "\n",
       "    .dataframe tbody tr th {\n",
       "        vertical-align: top;\n",
       "    }\n",
       "\n",
       "    .dataframe thead th {\n",
       "        text-align: right;\n",
       "    }\n",
       "</style>\n",
       "<table border=\"1\" class=\"dataframe\">\n",
       "  <thead>\n",
       "    <tr style=\"text-align: right;\">\n",
       "      <th></th>\n",
       "      <th>Industry</th>\n",
       "      <th>Founded</th>\n",
       "      <th>Revenue</th>\n",
       "      <th>Name</th>\n",
       "      <th>Location</th>\n",
       "    </tr>\n",
       "  </thead>\n",
       "  <tbody>\n",
       "    <tr>\n",
       "      <th>0</th>\n",
       "      <td>Diversified Financials</td>\n",
       "      <td>1939.0</td>\n",
       "      <td>$276.1B</td>\n",
       "      <td>Berkshire Hathaway</td>\n",
       "      <td>Omaha, Nebraska</td>\n",
       "    </tr>\n",
       "    <tr>\n",
       "      <th>1</th>\n",
       "      <td>Banking</td>\n",
       "      <td>1984.0</td>\n",
       "      <td>$208.1B</td>\n",
       "      <td>ICBC</td>\n",
       "      <td>Beijing, China</td>\n",
       "    </tr>\n",
       "    <tr>\n",
       "      <th>2</th>\n",
       "      <td>Oil &amp; Gas Operations</td>\n",
       "      <td>1933.0</td>\n",
       "      <td>$400.4B</td>\n",
       "      <td>Saudi Arabian Oil Company (Saudi Aramco)</td>\n",
       "      <td>Dhahran, Saudi Arabia</td>\n",
       "    </tr>\n",
       "    <tr>\n",
       "      <th>3</th>\n",
       "      <td>Banking and Financial Services</td>\n",
       "      <td>2000.0</td>\n",
       "      <td>$124.5B</td>\n",
       "      <td>JPMorgan Chase</td>\n",
       "      <td>New York, New York</td>\n",
       "    </tr>\n",
       "    <tr>\n",
       "      <th>4</th>\n",
       "      <td>Banking</td>\n",
       "      <td>2014.0</td>\n",
       "      <td>$202.1B</td>\n",
       "      <td>China Construction Bank</td>\n",
       "      <td>Beijing, China</td>\n",
       "    </tr>\n",
       "  </tbody>\n",
       "</table>\n",
       "</div>"
      ],
      "text/plain": [
       "                         Industry  Founded  Revenue  \\\n",
       "0          Diversified Financials   1939.0  $276.1B   \n",
       "1                         Banking   1984.0  $208.1B   \n",
       "2            Oil & Gas Operations   1933.0  $400.4B   \n",
       "3  Banking and Financial Services   2000.0  $124.5B   \n",
       "4                         Banking   2014.0  $202.1B   \n",
       "\n",
       "                                       Name               Location  \n",
       "0                        Berkshire Hathaway        Omaha, Nebraska  \n",
       "1                                      ICBC         Beijing, China  \n",
       "2  Saudi Arabian Oil Company (Saudi Aramco)  Dhahran, Saudi Arabia  \n",
       "3                            JPMorgan Chase     New York, New York  \n",
       "4                   China Construction Bank         Beijing, China  "
      ]
     },
     "execution_count": 88,
     "metadata": {},
     "output_type": "execute_result"
    }
   ],
   "source": [
    "fr_forbes = pd.read_csv(files_list[9])\n",
    "fr_forbes.head()"
   ]
  },
  {
   "cell_type": "code",
   "execution_count": 89,
   "metadata": {},
   "outputs": [
    {
     "name": "stdout",
     "output_type": "stream",
     "text": [
      "Columns to rename:\n",
      "Industry -> sector\n",
      "Location -> country\n"
     ]
    }
   ],
   "source": [
    "to_rename = rename_columns(fr_forbes.columns)\n",
    "fr_forbes.columns = to_rename"
   ]
  },
  {
   "cell_type": "code",
   "execution_count": 90,
   "metadata": {},
   "outputs": [
    {
     "data": {
      "text/html": [
       "<div>\n",
       "<style scoped>\n",
       "    .dataframe tbody tr th:only-of-type {\n",
       "        vertical-align: middle;\n",
       "    }\n",
       "\n",
       "    .dataframe tbody tr th {\n",
       "        vertical-align: top;\n",
       "    }\n",
       "\n",
       "    .dataframe thead th {\n",
       "        text-align: right;\n",
       "    }\n",
       "</style>\n",
       "<table border=\"1\" class=\"dataframe\">\n",
       "  <thead>\n",
       "    <tr style=\"text-align: right;\">\n",
       "      <th></th>\n",
       "      <th>sector</th>\n",
       "      <th>founded</th>\n",
       "      <th>revenue</th>\n",
       "      <th>name</th>\n",
       "      <th>country</th>\n",
       "    </tr>\n",
       "  </thead>\n",
       "  <tbody>\n",
       "    <tr>\n",
       "      <th>0</th>\n",
       "      <td>Diversified Financials</td>\n",
       "      <td>1939</td>\n",
       "      <td>276100000000</td>\n",
       "      <td>Berkshire Hathaway</td>\n",
       "      <td>Nebraska</td>\n",
       "    </tr>\n",
       "    <tr>\n",
       "      <th>1</th>\n",
       "      <td>Banking</td>\n",
       "      <td>1984</td>\n",
       "      <td>208100000000</td>\n",
       "      <td>ICBC</td>\n",
       "      <td>China</td>\n",
       "    </tr>\n",
       "    <tr>\n",
       "      <th>2</th>\n",
       "      <td>Oil &amp; Gas Operations</td>\n",
       "      <td>1933</td>\n",
       "      <td>400400000000</td>\n",
       "      <td>Saudi Arabian Oil Company (Saudi Aramco)</td>\n",
       "      <td>Saudi Arabia</td>\n",
       "    </tr>\n",
       "    <tr>\n",
       "      <th>3</th>\n",
       "      <td>Banking and Financial Services</td>\n",
       "      <td>2000</td>\n",
       "      <td>124500000000</td>\n",
       "      <td>JPMorgan Chase</td>\n",
       "      <td>New York</td>\n",
       "    </tr>\n",
       "    <tr>\n",
       "      <th>4</th>\n",
       "      <td>Banking</td>\n",
       "      <td>2014</td>\n",
       "      <td>202100000000</td>\n",
       "      <td>China Construction Bank</td>\n",
       "      <td>China</td>\n",
       "    </tr>\n",
       "  </tbody>\n",
       "</table>\n",
       "</div>"
      ],
      "text/plain": [
       "                           sector  founded       revenue  \\\n",
       "0          Diversified Financials     1939  276100000000   \n",
       "1                         Banking     1984  208100000000   \n",
       "2            Oil & Gas Operations     1933  400400000000   \n",
       "3  Banking and Financial Services     2000  124500000000   \n",
       "4                         Banking     2014  202100000000   \n",
       "\n",
       "                                       name        country  \n",
       "0                        Berkshire Hathaway       Nebraska  \n",
       "1                                      ICBC          China  \n",
       "2  Saudi Arabian Oil Company (Saudi Aramco)   Saudi Arabia  \n",
       "3                            JPMorgan Chase       New York  \n",
       "4                   China Construction Bank          China  "
      ]
     },
     "execution_count": 90,
     "metadata": {},
     "output_type": "execute_result"
    }
   ],
   "source": [
    "fr_forbes.founded = fr_forbes.founded.astype(str).replace(r'\\.0$', '', regex=True)\n",
    "fr_forbes.country = fr_forbes.country.str.split(',', n=1).str.get(-1)\n",
    "fr_forbes.revenue = fr_forbes.revenue.apply(lambda x: convert_market_cap_revenue(x) if pd.notnull(x) else x)\n",
    "\n",
    "fr_forbes = fr_forbes.replace('nan', np.nan)\n",
    "\n",
    "fr_forbes.founded = fr_forbes.founded.astype(object).astype('Int64')\n",
    "fr_forbes.revenue = fr_forbes.revenue.astype(object).astype('Int64')\n",
    "fr_forbes.head()"
   ]
  },
  {
   "cell_type": "code",
   "execution_count": 91,
   "metadata": {},
   "outputs": [],
   "source": [
    "cleaned_files.append(fr_forbes)"
   ]
  },
  {
   "cell_type": "markdown",
   "metadata": {},
   "source": [
    "### FR_ft.csv"
   ]
  },
  {
   "cell_type": "code",
   "execution_count": 92,
   "metadata": {},
   "outputs": [
    {
     "data": {
      "text/plain": [
       "'src/datasets/FR_ft.csv'"
      ]
     },
     "execution_count": 92,
     "metadata": {},
     "output_type": "execute_result"
    }
   ],
   "source": [
    "files_list[10]"
   ]
  },
  {
   "cell_type": "code",
   "execution_count": 93,
   "metadata": {},
   "outputs": [
    {
     "data": {
      "text/html": [
       "<div>\n",
       "<style scoped>\n",
       "    .dataframe tbody tr th:only-of-type {\n",
       "        vertical-align: middle;\n",
       "    }\n",
       "\n",
       "    .dataframe tbody tr th {\n",
       "        vertical-align: top;\n",
       "    }\n",
       "\n",
       "    .dataframe thead th {\n",
       "        text-align: right;\n",
       "    }\n",
       "</style>\n",
       "<table border=\"1\" class=\"dataframe\">\n",
       "  <thead>\n",
       "    <tr style=\"text-align: right;\">\n",
       "      <th></th>\n",
       "      <th>Rank</th>\n",
       "      <th>Name</th>\n",
       "      <th>in 2021 ranking</th>\n",
       "      <th>in 2020 ranking</th>\n",
       "      <th>Country</th>\n",
       "      <th>Sector</th>\n",
       "      <th>Absolute Growth Rate %</th>\n",
       "      <th>Compound Annual Growth Rate (CAGR) %</th>\n",
       "      <th>Revenue 2020 (€)</th>\n",
       "      <th>Revenue 2017 (€)</th>\n",
       "      <th>Number of employees 2020</th>\n",
       "      <th>Number of employees 2017</th>\n",
       "      <th>Founding Year</th>\n",
       "    </tr>\n",
       "  </thead>\n",
       "  <tbody>\n",
       "    <tr>\n",
       "      <th>0</th>\n",
       "      <td>1</td>\n",
       "      <td>Swappie</td>\n",
       "      <td>No</td>\n",
       "      <td>No</td>\n",
       "      <td>Finland</td>\n",
       "      <td>Technology</td>\n",
       "      <td>19,152.82</td>\n",
       "      <td>477.43</td>\n",
       "      <td>97,611,814</td>\n",
       "      <td>507,000</td>\n",
       "      <td>218.0</td>\n",
       "      <td>1</td>\n",
       "      <td>2016</td>\n",
       "    </tr>\n",
       "    <tr>\n",
       "      <th>1</th>\n",
       "      <td>2</td>\n",
       "      <td>Kilo Health</td>\n",
       "      <td>No</td>\n",
       "      <td>No</td>\n",
       "      <td>Lithuania</td>\n",
       "      <td>Health</td>\n",
       "      <td>16,541.73</td>\n",
       "      <td>450.05</td>\n",
       "      <td>57,318,766</td>\n",
       "      <td>344,428</td>\n",
       "      <td>177.0</td>\n",
       "      <td>10</td>\n",
       "      <td>2013</td>\n",
       "    </tr>\n",
       "    <tr>\n",
       "      <th>2</th>\n",
       "      <td>3</td>\n",
       "      <td>OCI</td>\n",
       "      <td>No</td>\n",
       "      <td>No</td>\n",
       "      <td>UK</td>\n",
       "      <td>Financial Services</td>\n",
       "      <td>13,133.13</td>\n",
       "      <td>409.59</td>\n",
       "      <td>568,322,073</td>\n",
       "      <td>4,325,512</td>\n",
       "      <td>32.0</td>\n",
       "      <td>4</td>\n",
       "      <td>2012</td>\n",
       "    </tr>\n",
       "    <tr>\n",
       "      <th>3</th>\n",
       "      <td>4</td>\n",
       "      <td>OnlyFans</td>\n",
       "      <td>No</td>\n",
       "      <td>No</td>\n",
       "      <td>UK</td>\n",
       "      <td>Technology</td>\n",
       "      <td>11,928.05</td>\n",
       "      <td>393.63</td>\n",
       "      <td>316,732,986</td>\n",
       "      <td>2,652,185</td>\n",
       "      <td>800.0</td>\n",
       "      <td>4</td>\n",
       "      <td>2016</td>\n",
       "    </tr>\n",
       "    <tr>\n",
       "      <th>4</th>\n",
       "      <td>5</td>\n",
       "      <td>Enpal</td>\n",
       "      <td>No</td>\n",
       "      <td>No</td>\n",
       "      <td>Germany</td>\n",
       "      <td>Energy</td>\n",
       "      <td>11,441.27</td>\n",
       "      <td>386.88</td>\n",
       "      <td>56,109,613</td>\n",
       "      <td>486,165</td>\n",
       "      <td>365.0</td>\n",
       "      <td>9</td>\n",
       "      <td>2017</td>\n",
       "    </tr>\n",
       "  </tbody>\n",
       "</table>\n",
       "</div>"
      ],
      "text/plain": [
       "   Rank         Name in 2021 ranking in 2020 ranking    Country  \\\n",
       "0     1      Swappie              No              No    Finland   \n",
       "1     2  Kilo Health              No              No  Lithuania   \n",
       "2     3          OCI              No              No         UK   \n",
       "3     4     OnlyFans              No              No         UK   \n",
       "4     5        Enpal              No              No    Germany   \n",
       "\n",
       "               Sector Absolute Growth Rate %  \\\n",
       "0          Technology              19,152.82   \n",
       "1              Health              16,541.73   \n",
       "2  Financial Services              13,133.13   \n",
       "3          Technology              11,928.05   \n",
       "4              Energy              11,441.27   \n",
       "\n",
       "   Compound Annual Growth Rate (CAGR) % Revenue 2020 (€) Revenue 2017 (€)  \\\n",
       "0                                477.43       97,611,814          507,000   \n",
       "1                                450.05       57,318,766          344,428   \n",
       "2                                409.59      568,322,073        4,325,512   \n",
       "3                                393.63      316,732,986        2,652,185   \n",
       "4                                386.88       56,109,613          486,165   \n",
       "\n",
       "   Number of employees 2020 Number of employees 2017  Founding Year  \n",
       "0                     218.0                        1           2016  \n",
       "1                     177.0                       10           2013  \n",
       "2                      32.0                        4           2012  \n",
       "3                     800.0                        4           2016  \n",
       "4                     365.0                        9           2017  "
      ]
     },
     "execution_count": 93,
     "metadata": {},
     "output_type": "execute_result"
    }
   ],
   "source": [
    "fr_ft = pd.read_csv(files_list[10])\n",
    "fr_ft.head()"
   ]
  },
  {
   "cell_type": "code",
   "execution_count": 94,
   "metadata": {},
   "outputs": [
    {
     "name": "stdout",
     "output_type": "stream",
     "text": [
      "Columns to remove:\n",
      "Rank\n",
      "in 2021 ranking\n",
      "in 2020 ranking\n",
      "Absolute Growth Rate %\n",
      "Compound Annual Growth Rate (CAGR) %\n",
      "Revenue 2017 (€)\n",
      "Number of employees 2017\n"
     ]
    }
   ],
   "source": [
    "to_drop, _ = columns_to_remove_not_remove(fr_ft)"
   ]
  },
  {
   "cell_type": "code",
   "execution_count": 95,
   "metadata": {},
   "outputs": [
    {
     "name": "stdout",
     "output_type": "stream",
     "text": [
      "Columns to rename:\n",
      "Revenue 2020 (€) -> revenue\n",
      "Number of employees 2020 -> employees\n",
      "Founding Year -> founded\n"
     ]
    }
   ],
   "source": [
    "fr_ft = fr_ft.drop(to_drop, axis=1)\n",
    "to_rename = rename_columns(fr_ft.columns)\n",
    "fr_ft.columns = to_rename"
   ]
  },
  {
   "cell_type": "code",
   "execution_count": 96,
   "metadata": {},
   "outputs": [
    {
     "data": {
      "text/html": [
       "<div>\n",
       "<style scoped>\n",
       "    .dataframe tbody tr th:only-of-type {\n",
       "        vertical-align: middle;\n",
       "    }\n",
       "\n",
       "    .dataframe tbody tr th {\n",
       "        vertical-align: top;\n",
       "    }\n",
       "\n",
       "    .dataframe thead th {\n",
       "        text-align: right;\n",
       "    }\n",
       "</style>\n",
       "<table border=\"1\" class=\"dataframe\">\n",
       "  <thead>\n",
       "    <tr style=\"text-align: right;\">\n",
       "      <th></th>\n",
       "      <th>name</th>\n",
       "      <th>country</th>\n",
       "      <th>sector</th>\n",
       "      <th>revenue</th>\n",
       "      <th>employees</th>\n",
       "      <th>founded</th>\n",
       "    </tr>\n",
       "  </thead>\n",
       "  <tbody>\n",
       "    <tr>\n",
       "      <th>0</th>\n",
       "      <td>Swappie</td>\n",
       "      <td>Finland</td>\n",
       "      <td>Technology</td>\n",
       "      <td>97611814</td>\n",
       "      <td>218</td>\n",
       "      <td>2016</td>\n",
       "    </tr>\n",
       "    <tr>\n",
       "      <th>1</th>\n",
       "      <td>Kilo Health</td>\n",
       "      <td>Lithuania</td>\n",
       "      <td>Health</td>\n",
       "      <td>57318766</td>\n",
       "      <td>177</td>\n",
       "      <td>2013</td>\n",
       "    </tr>\n",
       "    <tr>\n",
       "      <th>2</th>\n",
       "      <td>OCI</td>\n",
       "      <td>UK</td>\n",
       "      <td>Financial Services</td>\n",
       "      <td>568322073</td>\n",
       "      <td>32</td>\n",
       "      <td>2012</td>\n",
       "    </tr>\n",
       "    <tr>\n",
       "      <th>3</th>\n",
       "      <td>OnlyFans</td>\n",
       "      <td>UK</td>\n",
       "      <td>Technology</td>\n",
       "      <td>316732986</td>\n",
       "      <td>800</td>\n",
       "      <td>2016</td>\n",
       "    </tr>\n",
       "    <tr>\n",
       "      <th>4</th>\n",
       "      <td>Enpal</td>\n",
       "      <td>Germany</td>\n",
       "      <td>Energy</td>\n",
       "      <td>56109613</td>\n",
       "      <td>365</td>\n",
       "      <td>2017</td>\n",
       "    </tr>\n",
       "  </tbody>\n",
       "</table>\n",
       "</div>"
      ],
      "text/plain": [
       "          name    country              sector    revenue  employees  founded\n",
       "0      Swappie    Finland          Technology   97611814        218     2016\n",
       "1  Kilo Health  Lithuania              Health   57318766        177     2013\n",
       "2          OCI         UK  Financial Services  568322073         32     2012\n",
       "3     OnlyFans         UK          Technology  316732986        800     2016\n",
       "4        Enpal    Germany              Energy   56109613        365     2017"
      ]
     },
     "execution_count": 96,
     "metadata": {},
     "output_type": "execute_result"
    }
   ],
   "source": [
    "fr_ft.revenue = fr_ft.revenue.apply(lambda x : (str(x).replace(',', '')))\n",
    "fr_ft.employees = fr_ft.employees.astype(str).replace(r'\\.0$', '', regex=True)\n",
    "fr_ft = fr_ft.replace('nan', np.nan)\n",
    "\n",
    "fr_ft.revenue = fr_ft.revenue.astype(object).astype('Int64')\n",
    "fr_ft.employees = fr_ft.employees.astype(object).astype('Int64')\n",
    "fr_ft.founded = fr_ft.founded.astype(object).astype('Int64')\n",
    "\n",
    "fr_ft.head()"
   ]
  },
  {
   "cell_type": "code",
   "execution_count": 97,
   "metadata": {},
   "outputs": [],
   "source": [
    "cleaned_files.append(fr_ft)"
   ]
  },
  {
   "cell_type": "markdown",
   "metadata": {},
   "source": [
    "### FR_sole24ore.csv"
   ]
  },
  {
   "cell_type": "code",
   "execution_count": 98,
   "metadata": {},
   "outputs": [
    {
     "data": {
      "text/plain": [
       "'src/datasets/FR_sole24ore.csv'"
      ]
     },
     "execution_count": 98,
     "metadata": {},
     "output_type": "execute_result"
    }
   ],
   "source": [
    "files_list[11]"
   ]
  },
  {
   "cell_type": "code",
   "execution_count": 99,
   "metadata": {},
   "outputs": [
    {
     "data": {
      "text/html": [
       "<div>\n",
       "<style scoped>\n",
       "    .dataframe tbody tr th:only-of-type {\n",
       "        vertical-align: middle;\n",
       "    }\n",
       "\n",
       "    .dataframe tbody tr th {\n",
       "        vertical-align: top;\n",
       "    }\n",
       "\n",
       "    .dataframe thead th {\n",
       "        text-align: right;\n",
       "    }\n",
       "</style>\n",
       "<table border=\"1\" class=\"dataframe\">\n",
       "  <thead>\n",
       "    <tr style=\"text-align: right;\">\n",
       "      <th></th>\n",
       "      <th>Unnamed: 0</th>\n",
       "      <th>address</th>\n",
       "      <th>city</th>\n",
       "      <th>sector</th>\n",
       "      <th>employees</th>\n",
       "      <th>name</th>\n",
       "      <th>country</th>\n",
       "    </tr>\n",
       "  </thead>\n",
       "  <tbody>\n",
       "    <tr>\n",
       "      <th>0</th>\n",
       "      <td>0</td>\n",
       "      <td>Via Maurizio Gonzaga 5</td>\n",
       "      <td>NaN</td>\n",
       "      <td>E-commerce</td>\n",
       "      <td>7.337</td>\n",
       "      <td>Winelivery S.r.l.</td>\n",
       "      <td>ITALY</td>\n",
       "    </tr>\n",
       "    <tr>\n",
       "      <th>1</th>\n",
       "      <td>1</td>\n",
       "      <td>Via Damiano Chiesa 53</td>\n",
       "      <td>Bitritto</td>\n",
       "      <td>Servizi generali</td>\n",
       "      <td>8.375</td>\n",
       "      <td>Pegaso Security S.r.l.</td>\n",
       "      <td>ITALY</td>\n",
       "    </tr>\n",
       "    <tr>\n",
       "      <th>2</th>\n",
       "      <td>2</td>\n",
       "      <td>Piazza IV Novembre 4</td>\n",
       "      <td>Milano</td>\n",
       "      <td>Vendita al dettaglio &amp; all'ingrosso</td>\n",
       "      <td>13.889</td>\n",
       "      <td>Euro Top Brand S.r.l.s.</td>\n",
       "      <td>ITALY</td>\n",
       "    </tr>\n",
       "    <tr>\n",
       "      <th>3</th>\n",
       "      <td>3</td>\n",
       "      <td>Piazza Manifattura 1</td>\n",
       "      <td>Rovereto</td>\n",
       "      <td>Energia</td>\n",
       "      <td>3.585</td>\n",
       "      <td>Infinityhub S.p.A. Benefit</td>\n",
       "      <td>ITALY</td>\n",
       "    </tr>\n",
       "    <tr>\n",
       "      <th>4</th>\n",
       "      <td>4</td>\n",
       "      <td>Via Solferino 36</td>\n",
       "      <td>Milano</td>\n",
       "      <td>Servizi finanziari</td>\n",
       "      <td>11.302</td>\n",
       "      <td>Credimi S.p.a.</td>\n",
       "      <td>ITALY</td>\n",
       "    </tr>\n",
       "  </tbody>\n",
       "</table>\n",
       "</div>"
      ],
      "text/plain": [
       "   Unnamed: 0                 address      city  \\\n",
       "0           0  Via Maurizio Gonzaga 5       NaN   \n",
       "1           1   Via Damiano Chiesa 53  Bitritto   \n",
       "2           2    Piazza IV Novembre 4    Milano   \n",
       "3           3    Piazza Manifattura 1  Rovereto   \n",
       "4           4        Via Solferino 36    Milano   \n",
       "\n",
       "                                sector  employees                        name  \\\n",
       "0                           E-commerce      7.337           Winelivery S.r.l.   \n",
       "1                     Servizi generali      8.375      Pegaso Security S.r.l.   \n",
       "2  Vendita al dettaglio & all'ingrosso     13.889     Euro Top Brand S.r.l.s.   \n",
       "3                              Energia      3.585  Infinityhub S.p.A. Benefit   \n",
       "4                   Servizi finanziari     11.302              Credimi S.p.a.   \n",
       "\n",
       "  country  \n",
       "0   ITALY  \n",
       "1   ITALY  \n",
       "2   ITALY  \n",
       "3   ITALY  \n",
       "4   ITALY  "
      ]
     },
     "execution_count": 99,
     "metadata": {},
     "output_type": "execute_result"
    }
   ],
   "source": [
    "fr_sole24 = pd.read_csv(files_list[11])\n",
    "fr_sole24['country'] = 'ITALY'\n",
    "fr_sole24.head()"
   ]
  },
  {
   "cell_type": "code",
   "execution_count": 100,
   "metadata": {},
   "outputs": [
    {
     "name": "stdout",
     "output_type": "stream",
     "text": [
      "Columns to remove:\n",
      "Unnamed: 0\n",
      "city\n"
     ]
    }
   ],
   "source": [
    "to_drop, _ = columns_to_remove_not_remove(fr_sole24)\n",
    "to_drop.append(\"address\")"
   ]
  },
  {
   "cell_type": "code",
   "execution_count": 101,
   "metadata": {},
   "outputs": [
    {
     "name": "stdout",
     "output_type": "stream",
     "text": [
      "Columns to rename:\n"
     ]
    }
   ],
   "source": [
    "fr_sole24 = fr_sole24.drop(to_drop, axis=1)\n",
    "to_rename = rename_columns(fr_sole24.columns)\n",
    "fr_sole24.columns = to_rename"
   ]
  },
  {
   "cell_type": "code",
   "execution_count": 102,
   "metadata": {},
   "outputs": [
    {
     "data": {
      "text/html": [
       "<div>\n",
       "<style scoped>\n",
       "    .dataframe tbody tr th:only-of-type {\n",
       "        vertical-align: middle;\n",
       "    }\n",
       "\n",
       "    .dataframe tbody tr th {\n",
       "        vertical-align: top;\n",
       "    }\n",
       "\n",
       "    .dataframe thead th {\n",
       "        text-align: right;\n",
       "    }\n",
       "</style>\n",
       "<table border=\"1\" class=\"dataframe\">\n",
       "  <thead>\n",
       "    <tr style=\"text-align: right;\">\n",
       "      <th></th>\n",
       "      <th>sector</th>\n",
       "      <th>employees</th>\n",
       "      <th>name</th>\n",
       "      <th>country</th>\n",
       "    </tr>\n",
       "  </thead>\n",
       "  <tbody>\n",
       "    <tr>\n",
       "      <th>0</th>\n",
       "      <td>E-commerce</td>\n",
       "      <td>7337</td>\n",
       "      <td>Winelivery S.r.l.</td>\n",
       "      <td>ITALY</td>\n",
       "    </tr>\n",
       "    <tr>\n",
       "      <th>1</th>\n",
       "      <td>Servizi generali</td>\n",
       "      <td>8375</td>\n",
       "      <td>Pegaso Security S.r.l.</td>\n",
       "      <td>ITALY</td>\n",
       "    </tr>\n",
       "    <tr>\n",
       "      <th>2</th>\n",
       "      <td>Vendita al dettaglio &amp; all'ingrosso</td>\n",
       "      <td>13889</td>\n",
       "      <td>Euro Top Brand S.r.l.s.</td>\n",
       "      <td>ITALY</td>\n",
       "    </tr>\n",
       "    <tr>\n",
       "      <th>3</th>\n",
       "      <td>Energia</td>\n",
       "      <td>3585</td>\n",
       "      <td>Infinityhub S.p.A. Benefit</td>\n",
       "      <td>ITALY</td>\n",
       "    </tr>\n",
       "    <tr>\n",
       "      <th>4</th>\n",
       "      <td>Servizi finanziari</td>\n",
       "      <td>11302</td>\n",
       "      <td>Credimi S.p.a.</td>\n",
       "      <td>ITALY</td>\n",
       "    </tr>\n",
       "  </tbody>\n",
       "</table>\n",
       "</div>"
      ],
      "text/plain": [
       "                                sector  employees                        name  \\\n",
       "0                           E-commerce       7337           Winelivery S.r.l.   \n",
       "1                     Servizi generali       8375      Pegaso Security S.r.l.   \n",
       "2  Vendita al dettaglio & all'ingrosso      13889     Euro Top Brand S.r.l.s.   \n",
       "3                              Energia       3585  Infinityhub S.p.A. Benefit   \n",
       "4                   Servizi finanziari      11302              Credimi S.p.a.   \n",
       "\n",
       "  country  \n",
       "0   ITALY  \n",
       "1   ITALY  \n",
       "2   ITALY  \n",
       "3   ITALY  \n",
       "4   ITALY  "
      ]
     },
     "execution_count": 102,
     "metadata": {},
     "output_type": "execute_result"
    }
   ],
   "source": [
    "fr_sole24.employees = fr_sole24.employees.apply(lambda x : (str(x).replace('.', '')))\n",
    "fr_sole24.employees = fr_sole24.employees.astype(object).astype('Int64')\n",
    "fr_sole24.head()"
   ]
  },
  {
   "cell_type": "code",
   "execution_count": 103,
   "metadata": {},
   "outputs": [],
   "source": [
    "cleaned_files.append(fr_sole24)"
   ]
  },
  {
   "cell_type": "markdown",
   "metadata": {},
   "source": [
    "### FR_valuetoday.csv"
   ]
  },
  {
   "cell_type": "code",
   "execution_count": 104,
   "metadata": {},
   "outputs": [
    {
     "data": {
      "text/plain": [
       "'src/datasets/FR_valuetoday.csv'"
      ]
     },
     "execution_count": 104,
     "metadata": {},
     "output_type": "execute_result"
    }
   ],
   "source": [
    "files_list[12]"
   ]
  },
  {
   "cell_type": "code",
   "execution_count": 105,
   "metadata": {},
   "outputs": [
    {
     "data": {
      "text/html": [
       "<div>\n",
       "<style scoped>\n",
       "    .dataframe tbody tr th:only-of-type {\n",
       "        vertical-align: middle;\n",
       "    }\n",
       "\n",
       "    .dataframe tbody tr th {\n",
       "        vertical-align: top;\n",
       "    }\n",
       "\n",
       "    .dataframe thead th {\n",
       "        text-align: right;\n",
       "    }\n",
       "</style>\n",
       "<table border=\"1\" class=\"dataframe\">\n",
       "  <thead>\n",
       "    <tr style=\"text-align: right;\">\n",
       "      <th></th>\n",
       "      <th>IPO Year</th>\n",
       "      <th>Number of Employees</th>\n",
       "      <th>Country</th>\n",
       "      <th>CEO</th>\n",
       "      <th>Founded Year</th>\n",
       "      <th>Market Value</th>\n",
       "      <th>Name</th>\n",
       "    </tr>\n",
       "  </thead>\n",
       "  <tbody>\n",
       "    <tr>\n",
       "      <th>0</th>\n",
       "      <td>1980.0</td>\n",
       "      <td>154,000</td>\n",
       "      <td>USA</td>\n",
       "      <td>Tim Cook</td>\n",
       "      <td>1976.0</td>\n",
       "      <td>2,825.00 Billion USD</td>\n",
       "      <td>APPLE</td>\n",
       "    </tr>\n",
       "    <tr>\n",
       "      <th>1</th>\n",
       "      <td>1986.0</td>\n",
       "      <td>220,000</td>\n",
       "      <td>USA</td>\n",
       "      <td>Satya Nadella</td>\n",
       "      <td>1975.0</td>\n",
       "      <td>2,358.00 Billion USD</td>\n",
       "      <td>MICROSOFT CORPORATION</td>\n",
       "    </tr>\n",
       "    <tr>\n",
       "      <th>2</th>\n",
       "      <td>NaN</td>\n",
       "      <td>79,800</td>\n",
       "      <td>Saudi Arabia</td>\n",
       "      <td>Amin H. Al-Nasser</td>\n",
       "      <td>1933.0</td>\n",
       "      <td>1,889.60 Billion USD</td>\n",
       "      <td>SAUDI ARABIAN OIL COMPANY (Saudi Aramco)</td>\n",
       "    </tr>\n",
       "    <tr>\n",
       "      <th>3</th>\n",
       "      <td>2004.0</td>\n",
       "      <td>156,500</td>\n",
       "      <td>USA</td>\n",
       "      <td>Sundar Pichai</td>\n",
       "      <td>2015.0</td>\n",
       "      <td>1,820.00 Billion USD</td>\n",
       "      <td>ALPHABET</td>\n",
       "    </tr>\n",
       "    <tr>\n",
       "      <th>4</th>\n",
       "      <td>1997.0</td>\n",
       "      <td>1,335,000</td>\n",
       "      <td>USA</td>\n",
       "      <td>Andy Jassy</td>\n",
       "      <td>1994.0</td>\n",
       "      <td>1,649.00 Billion USD</td>\n",
       "      <td>AMAZON.COM</td>\n",
       "    </tr>\n",
       "  </tbody>\n",
       "</table>\n",
       "</div>"
      ],
      "text/plain": [
       "   IPO Year Number of Employees       Country                CEO  \\\n",
       "0    1980.0             154,000           USA           Tim Cook   \n",
       "1    1986.0             220,000           USA      Satya Nadella   \n",
       "2       NaN              79,800  Saudi Arabia  Amin H. Al-Nasser   \n",
       "3    2004.0             156,500           USA      Sundar Pichai   \n",
       "4    1997.0           1,335,000           USA         Andy Jassy   \n",
       "\n",
       "   Founded Year          Market Value  \\\n",
       "0        1976.0  2,825.00 Billion USD   \n",
       "1        1975.0  2,358.00 Billion USD   \n",
       "2        1933.0  1,889.60 Billion USD   \n",
       "3        2015.0  1,820.00 Billion USD   \n",
       "4        1994.0  1,649.00 Billion USD   \n",
       "\n",
       "                                       Name  \n",
       "0                                     APPLE  \n",
       "1                     MICROSOFT CORPORATION  \n",
       "2  SAUDI ARABIAN OIL COMPANY (Saudi Aramco)  \n",
       "3                                  ALPHABET  \n",
       "4                                AMAZON.COM  "
      ]
     },
     "execution_count": 105,
     "metadata": {},
     "output_type": "execute_result"
    }
   ],
   "source": [
    "fr_value = pd.read_csv(files_list[12])\n",
    "fr_value.head()"
   ]
  },
  {
   "cell_type": "code",
   "execution_count": 106,
   "metadata": {},
   "outputs": [
    {
     "name": "stdout",
     "output_type": "stream",
     "text": [
      "Columns to remove:\n",
      "IPO Year\n",
      "Market Value\n"
     ]
    }
   ],
   "source": [
    "to_drop, _ = columns_to_remove_not_remove(fr_value)"
   ]
  },
  {
   "cell_type": "code",
   "execution_count": 107,
   "metadata": {},
   "outputs": [
    {
     "name": "stdout",
     "output_type": "stream",
     "text": [
      "Columns to rename:\n",
      "Number of Employees -> employees\n",
      "Founded Year -> founded\n"
     ]
    }
   ],
   "source": [
    "fr_value = fr_value.drop(to_drop, axis=1)\n",
    "to_rename = rename_columns(fr_value.columns)\n",
    "fr_value.columns = to_rename"
   ]
  },
  {
   "cell_type": "code",
   "execution_count": 108,
   "metadata": {},
   "outputs": [
    {
     "data": {
      "text/html": [
       "<div>\n",
       "<style scoped>\n",
       "    .dataframe tbody tr th:only-of-type {\n",
       "        vertical-align: middle;\n",
       "    }\n",
       "\n",
       "    .dataframe tbody tr th {\n",
       "        vertical-align: top;\n",
       "    }\n",
       "\n",
       "    .dataframe thead th {\n",
       "        text-align: right;\n",
       "    }\n",
       "</style>\n",
       "<table border=\"1\" class=\"dataframe\">\n",
       "  <thead>\n",
       "    <tr style=\"text-align: right;\">\n",
       "      <th></th>\n",
       "      <th>employees</th>\n",
       "      <th>country</th>\n",
       "      <th>ceo</th>\n",
       "      <th>founded</th>\n",
       "      <th>name</th>\n",
       "    </tr>\n",
       "  </thead>\n",
       "  <tbody>\n",
       "    <tr>\n",
       "      <th>0</th>\n",
       "      <td>154000</td>\n",
       "      <td>USA</td>\n",
       "      <td>Tim Cook</td>\n",
       "      <td>1976</td>\n",
       "      <td>APPLE</td>\n",
       "    </tr>\n",
       "    <tr>\n",
       "      <th>1</th>\n",
       "      <td>220000</td>\n",
       "      <td>USA</td>\n",
       "      <td>Satya Nadella</td>\n",
       "      <td>1975</td>\n",
       "      <td>MICROSOFT CORPORATION</td>\n",
       "    </tr>\n",
       "    <tr>\n",
       "      <th>2</th>\n",
       "      <td>79800</td>\n",
       "      <td>Saudi Arabia</td>\n",
       "      <td>Amin H. Al-Nasser</td>\n",
       "      <td>1933</td>\n",
       "      <td>SAUDI ARABIAN OIL COMPANY (Saudi Aramco)</td>\n",
       "    </tr>\n",
       "    <tr>\n",
       "      <th>3</th>\n",
       "      <td>156500</td>\n",
       "      <td>USA</td>\n",
       "      <td>Sundar Pichai</td>\n",
       "      <td>2015</td>\n",
       "      <td>ALPHABET</td>\n",
       "    </tr>\n",
       "    <tr>\n",
       "      <th>4</th>\n",
       "      <td>1335000</td>\n",
       "      <td>USA</td>\n",
       "      <td>Andy Jassy</td>\n",
       "      <td>1994</td>\n",
       "      <td>AMAZON.COM</td>\n",
       "    </tr>\n",
       "  </tbody>\n",
       "</table>\n",
       "</div>"
      ],
      "text/plain": [
       "   employees       country                ceo  founded  \\\n",
       "0     154000           USA           Tim Cook     1976   \n",
       "1     220000           USA      Satya Nadella     1975   \n",
       "2      79800  Saudi Arabia  Amin H. Al-Nasser     1933   \n",
       "3     156500           USA      Sundar Pichai     2015   \n",
       "4    1335000           USA         Andy Jassy     1994   \n",
       "\n",
       "                                       name  \n",
       "0                                     APPLE  \n",
       "1                     MICROSOFT CORPORATION  \n",
       "2  SAUDI ARABIAN OIL COMPANY (Saudi Aramco)  \n",
       "3                                  ALPHABET  \n",
       "4                                AMAZON.COM  "
      ]
     },
     "execution_count": 108,
     "metadata": {},
     "output_type": "execute_result"
    }
   ],
   "source": [
    "fr_value.founded = fr_value.founded.astype(str).replace(r'\\.0$', '', regex=True)\n",
    "fr_value.employees = fr_value.employees.apply(lambda x : (str(x).replace(',', '')))\n",
    "fr_value = fr_value.replace('nan', np.nan)\n",
    "\n",
    "fr_value.employees = fr_value.employees.astype(object).astype('Int64')\n",
    "fr_value.founded = fr_value.founded.astype(object).astype('Int64')\n",
    "\n",
    "fr_value.head()"
   ]
  },
  {
   "cell_type": "code",
   "execution_count": 109,
   "metadata": {},
   "outputs": [],
   "source": [
    "cleaned_files.append(fr_value)"
   ]
  },
  {
   "cell_type": "markdown",
   "metadata": {},
   "source": [
    "## GioPonSpiz"
   ]
  },
  {
   "cell_type": "markdown",
   "metadata": {},
   "source": [
    "### GioPonSpiz-companiesmarketcap.com.json"
   ]
  },
  {
   "cell_type": "code",
   "execution_count": 110,
   "metadata": {},
   "outputs": [
    {
     "data": {
      "text/plain": [
       "'src/datasets/GioPonSpiz-companiesmarketcap.com.json'"
      ]
     },
     "execution_count": 110,
     "metadata": {},
     "output_type": "execute_result"
    }
   ],
   "source": [
    "files_list[13]"
   ]
  },
  {
   "cell_type": "code",
   "execution_count": 111,
   "metadata": {},
   "outputs": [
    {
     "data": {
      "text/html": [
       "<div>\n",
       "<style scoped>\n",
       "    .dataframe tbody tr th:only-of-type {\n",
       "        vertical-align: middle;\n",
       "    }\n",
       "\n",
       "    .dataframe tbody tr th {\n",
       "        vertical-align: top;\n",
       "    }\n",
       "\n",
       "    .dataframe thead th {\n",
       "        text-align: right;\n",
       "    }\n",
       "</style>\n",
       "<table border=\"1\" class=\"dataframe\">\n",
       "  <thead>\n",
       "    <tr style=\"text-align: right;\">\n",
       "      <th></th>\n",
       "      <th>name</th>\n",
       "      <th>codice</th>\n",
       "      <th>pricecap</th>\n",
       "      <th>price</th>\n",
       "      <th>country</th>\n",
       "    </tr>\n",
       "  </thead>\n",
       "  <tbody>\n",
       "    <tr>\n",
       "      <th>0</th>\n",
       "      <td>Apple</td>\n",
       "      <td>AAPL</td>\n",
       "      <td>$2.143 T</td>\n",
       "      <td>$134.76</td>\n",
       "      <td>USA</td>\n",
       "    </tr>\n",
       "    <tr>\n",
       "      <th>1</th>\n",
       "      <td>Saudi Aramco</td>\n",
       "      <td>2222.SR</td>\n",
       "      <td>$1.878 T</td>\n",
       "      <td>$8.54</td>\n",
       "      <td>S. Arabia</td>\n",
       "    </tr>\n",
       "    <tr>\n",
       "      <th>2</th>\n",
       "      <td>Microsoft</td>\n",
       "      <td>MSFT</td>\n",
       "      <td>$1.783 T</td>\n",
       "      <td>$239.23</td>\n",
       "      <td>USA</td>\n",
       "    </tr>\n",
       "    <tr>\n",
       "      <th>3</th>\n",
       "      <td>Alphabet (Google)</td>\n",
       "      <td>GOOG</td>\n",
       "      <td>$1.195 T</td>\n",
       "      <td>$92.80</td>\n",
       "      <td>USA</td>\n",
       "    </tr>\n",
       "    <tr>\n",
       "      <th>4</th>\n",
       "      <td>Amazon</td>\n",
       "      <td>AMZN</td>\n",
       "      <td>$1.000 T</td>\n",
       "      <td>$98.12</td>\n",
       "      <td>USA</td>\n",
       "    </tr>\n",
       "  </tbody>\n",
       "</table>\n",
       "</div>"
      ],
      "text/plain": [
       "                name   codice  pricecap    price    country\n",
       "0              Apple     AAPL  $2.143 T  $134.76        USA\n",
       "1       Saudi Aramco  2222.SR  $1.878 T    $8.54  S. Arabia\n",
       "2          Microsoft     MSFT  $1.783 T  $239.23        USA\n",
       "3  Alphabet (Google)     GOOG  $1.195 T   $92.80        USA\n",
       "4             Amazon     AMZN  $1.000 T   $98.12        USA"
      ]
     },
     "execution_count": 111,
     "metadata": {},
     "output_type": "execute_result"
    }
   ],
   "source": [
    "gps_companies = pd.read_json(files_list[13])\n",
    "gps_companies.head()"
   ]
  },
  {
   "cell_type": "code",
   "execution_count": 112,
   "metadata": {},
   "outputs": [
    {
     "name": "stdout",
     "output_type": "stream",
     "text": [
      "Columns to remove:\n",
      "codice\n",
      "price\n"
     ]
    }
   ],
   "source": [
    "to_drop, _ = columns_to_remove_not_remove(gps_companies)"
   ]
  },
  {
   "cell_type": "code",
   "execution_count": 113,
   "metadata": {},
   "outputs": [
    {
     "name": "stdout",
     "output_type": "stream",
     "text": [
      "Columns to rename:\n",
      "pricecap -> marketcap\n"
     ]
    }
   ],
   "source": [
    "gps_companies = gps_companies.drop(to_drop, axis=1)\n",
    "to_rename = rename_columns(gps_companies.columns)\n",
    "gps_companies.columns = to_rename"
   ]
  },
  {
   "cell_type": "code",
   "execution_count": 114,
   "metadata": {},
   "outputs": [
    {
     "data": {
      "text/html": [
       "<div>\n",
       "<style scoped>\n",
       "    .dataframe tbody tr th:only-of-type {\n",
       "        vertical-align: middle;\n",
       "    }\n",
       "\n",
       "    .dataframe tbody tr th {\n",
       "        vertical-align: top;\n",
       "    }\n",
       "\n",
       "    .dataframe thead th {\n",
       "        text-align: right;\n",
       "    }\n",
       "</style>\n",
       "<table border=\"1\" class=\"dataframe\">\n",
       "  <thead>\n",
       "    <tr style=\"text-align: right;\">\n",
       "      <th></th>\n",
       "      <th>name</th>\n",
       "      <th>marketcap</th>\n",
       "      <th>country</th>\n",
       "    </tr>\n",
       "  </thead>\n",
       "  <tbody>\n",
       "    <tr>\n",
       "      <th>0</th>\n",
       "      <td>Apple</td>\n",
       "      <td>2142999999999</td>\n",
       "      <td>USA</td>\n",
       "    </tr>\n",
       "    <tr>\n",
       "      <th>1</th>\n",
       "      <td>Saudi Aramco</td>\n",
       "      <td>1878000000000</td>\n",
       "      <td>S. Arabia</td>\n",
       "    </tr>\n",
       "    <tr>\n",
       "      <th>2</th>\n",
       "      <td>Microsoft</td>\n",
       "      <td>1783000000000</td>\n",
       "      <td>USA</td>\n",
       "    </tr>\n",
       "    <tr>\n",
       "      <th>3</th>\n",
       "      <td>Alphabet (Google)</td>\n",
       "      <td>1195000000000</td>\n",
       "      <td>USA</td>\n",
       "    </tr>\n",
       "    <tr>\n",
       "      <th>4</th>\n",
       "      <td>Amazon</td>\n",
       "      <td>1000000000000</td>\n",
       "      <td>USA</td>\n",
       "    </tr>\n",
       "  </tbody>\n",
       "</table>\n",
       "</div>"
      ],
      "text/plain": [
       "                name      marketcap    country\n",
       "0              Apple  2142999999999        USA\n",
       "1       Saudi Aramco  1878000000000  S. Arabia\n",
       "2          Microsoft  1783000000000        USA\n",
       "3  Alphabet (Google)  1195000000000        USA\n",
       "4             Amazon  1000000000000        USA"
      ]
     },
     "execution_count": 114,
     "metadata": {},
     "output_type": "execute_result"
    }
   ],
   "source": [
    "gps_companies.marketcap = gps_companies.marketcap.apply(lambda x: convert_market_cap_revenue(x) if pd.notnull(x) else x)\n",
    "gps_companies.marketcap = gps_companies.marketcap.astype(object).astype('Int64')\n",
    "gps_companies.head()"
   ]
  },
  {
   "cell_type": "code",
   "execution_count": 115,
   "metadata": {},
   "outputs": [],
   "source": [
    "cleaned_files.append(gps_companies)"
   ]
  },
  {
   "cell_type": "markdown",
   "metadata": {},
   "source": [
    "### GioPonSpiz-disfold.com.json"
   ]
  },
  {
   "cell_type": "code",
   "execution_count": 116,
   "metadata": {},
   "outputs": [
    {
     "data": {
      "text/plain": [
       "'src/datasets/GioPonSpiz-disfold.com.json'"
      ]
     },
     "execution_count": 116,
     "metadata": {},
     "output_type": "execute_result"
    }
   ],
   "source": [
    "files_list[14]"
   ]
  },
  {
   "cell_type": "code",
   "execution_count": 117,
   "metadata": {},
   "outputs": [
    {
     "data": {
      "text/html": [
       "<div>\n",
       "<style scoped>\n",
       "    .dataframe tbody tr th:only-of-type {\n",
       "        vertical-align: middle;\n",
       "    }\n",
       "\n",
       "    .dataframe tbody tr th {\n",
       "        vertical-align: top;\n",
       "    }\n",
       "\n",
       "    .dataframe thead th {\n",
       "        text-align: right;\n",
       "    }\n",
       "</style>\n",
       "<table border=\"1\" class=\"dataframe\">\n",
       "  <thead>\n",
       "    <tr style=\"text-align: right;\">\n",
       "      <th></th>\n",
       "      <th>name</th>\n",
       "      <th>marketCap</th>\n",
       "      <th>stock</th>\n",
       "      <th>sector</th>\n",
       "      <th>industry</th>\n",
       "      <th>country</th>\n",
       "    </tr>\n",
       "  </thead>\n",
       "  <tbody>\n",
       "    <tr>\n",
       "      <th>0</th>\n",
       "      <td>Apple Inc.</td>\n",
       "      <td>$2.825 T</td>\n",
       "      <td>AAPL</td>\n",
       "      <td>Technology</td>\n",
       "      <td>Consumer Electronics</td>\n",
       "      <td>United States</td>\n",
       "    </tr>\n",
       "    <tr>\n",
       "      <th>1</th>\n",
       "      <td>Microsoft Corporation</td>\n",
       "      <td>$2.328 T</td>\n",
       "      <td>MSFT</td>\n",
       "      <td>Technology</td>\n",
       "      <td>Software—Infrastructure</td>\n",
       "      <td>United States</td>\n",
       "    </tr>\n",
       "    <tr>\n",
       "      <th>2</th>\n",
       "      <td>Saudi Arabian Oil Company</td>\n",
       "      <td>$2.297 T</td>\n",
       "      <td>2222</td>\n",
       "      <td>Energy</td>\n",
       "      <td>Oil &amp; Gas Integrated</td>\n",
       "      <td>Saudi Arabia</td>\n",
       "    </tr>\n",
       "    <tr>\n",
       "      <th>3</th>\n",
       "      <td>Alphabet Inc.</td>\n",
       "      <td>$1.825 T</td>\n",
       "      <td>GOOG</td>\n",
       "      <td>Communication Services</td>\n",
       "      <td>Internet Content &amp; Information</td>\n",
       "      <td>United States</td>\n",
       "    </tr>\n",
       "    <tr>\n",
       "      <th>4</th>\n",
       "      <td>Amazon.com, Inc.</td>\n",
       "      <td>$1.642 T</td>\n",
       "      <td>AMZN</td>\n",
       "      <td>Consumer Discretionary</td>\n",
       "      <td>Internet Retail</td>\n",
       "      <td>United States</td>\n",
       "    </tr>\n",
       "  </tbody>\n",
       "</table>\n",
       "</div>"
      ],
      "text/plain": [
       "                        name marketCap stock                  sector  \\\n",
       "0                 Apple Inc.  $2.825 T  AAPL              Technology   \n",
       "1      Microsoft Corporation  $2.328 T  MSFT              Technology   \n",
       "2  Saudi Arabian Oil Company  $2.297 T  2222                  Energy   \n",
       "3              Alphabet Inc.  $1.825 T  GOOG  Communication Services   \n",
       "4           Amazon.com, Inc.  $1.642 T  AMZN  Consumer Discretionary   \n",
       "\n",
       "                         industry        country  \n",
       "0            Consumer Electronics  United States  \n",
       "1         Software—Infrastructure  United States  \n",
       "2            Oil & Gas Integrated   Saudi Arabia  \n",
       "3  Internet Content & Information  United States  \n",
       "4                 Internet Retail  United States  "
      ]
     },
     "execution_count": 117,
     "metadata": {},
     "output_type": "execute_result"
    }
   ],
   "source": [
    "gps_disfold = pd.read_json(files_list[14])\n",
    "gps_disfold.head()"
   ]
  },
  {
   "cell_type": "code",
   "execution_count": 118,
   "metadata": {},
   "outputs": [
    {
     "name": "stdout",
     "output_type": "stream",
     "text": [
      "Columns to remove:\n",
      "stock\n"
     ]
    }
   ],
   "source": [
    "to_drop, _ = columns_to_remove_not_remove(gps_disfold)\n",
    "to_drop.append(\"industry\")"
   ]
  },
  {
   "cell_type": "code",
   "execution_count": 119,
   "metadata": {},
   "outputs": [
    {
     "name": "stdout",
     "output_type": "stream",
     "text": [
      "Columns to rename:\n"
     ]
    }
   ],
   "source": [
    "gps_disfold = gps_disfold.drop(to_drop, axis=1)\n",
    "to_rename = rename_columns(gps_disfold.columns)\n",
    "gps_disfold.columns = to_rename"
   ]
  },
  {
   "cell_type": "code",
   "execution_count": 120,
   "metadata": {},
   "outputs": [
    {
     "data": {
      "text/html": [
       "<div>\n",
       "<style scoped>\n",
       "    .dataframe tbody tr th:only-of-type {\n",
       "        vertical-align: middle;\n",
       "    }\n",
       "\n",
       "    .dataframe tbody tr th {\n",
       "        vertical-align: top;\n",
       "    }\n",
       "\n",
       "    .dataframe thead th {\n",
       "        text-align: right;\n",
       "    }\n",
       "</style>\n",
       "<table border=\"1\" class=\"dataframe\">\n",
       "  <thead>\n",
       "    <tr style=\"text-align: right;\">\n",
       "      <th></th>\n",
       "      <th>name</th>\n",
       "      <th>marketcap</th>\n",
       "      <th>sector</th>\n",
       "      <th>country</th>\n",
       "    </tr>\n",
       "  </thead>\n",
       "  <tbody>\n",
       "    <tr>\n",
       "      <th>0</th>\n",
       "      <td>Apple Inc.</td>\n",
       "      <td>2825000000000</td>\n",
       "      <td>Technology</td>\n",
       "      <td>United States</td>\n",
       "    </tr>\n",
       "    <tr>\n",
       "      <th>1</th>\n",
       "      <td>Microsoft Corporation</td>\n",
       "      <td>2328000000000</td>\n",
       "      <td>Technology</td>\n",
       "      <td>United States</td>\n",
       "    </tr>\n",
       "    <tr>\n",
       "      <th>2</th>\n",
       "      <td>Saudi Arabian Oil Company</td>\n",
       "      <td>2297000000000</td>\n",
       "      <td>Energy</td>\n",
       "      <td>Saudi Arabia</td>\n",
       "    </tr>\n",
       "    <tr>\n",
       "      <th>3</th>\n",
       "      <td>Alphabet Inc.</td>\n",
       "      <td>1825000000000</td>\n",
       "      <td>Communication Services</td>\n",
       "      <td>United States</td>\n",
       "    </tr>\n",
       "    <tr>\n",
       "      <th>4</th>\n",
       "      <td>Amazon.com, Inc.</td>\n",
       "      <td>1642000000000</td>\n",
       "      <td>Consumer Discretionary</td>\n",
       "      <td>United States</td>\n",
       "    </tr>\n",
       "  </tbody>\n",
       "</table>\n",
       "</div>"
      ],
      "text/plain": [
       "                        name      marketcap                  sector  \\\n",
       "0                 Apple Inc.  2825000000000              Technology   \n",
       "1      Microsoft Corporation  2328000000000              Technology   \n",
       "2  Saudi Arabian Oil Company  2297000000000                  Energy   \n",
       "3              Alphabet Inc.  1825000000000  Communication Services   \n",
       "4           Amazon.com, Inc.  1642000000000  Consumer Discretionary   \n",
       "\n",
       "         country  \n",
       "0  United States  \n",
       "1  United States  \n",
       "2   Saudi Arabia  \n",
       "3  United States  \n",
       "4  United States  "
      ]
     },
     "execution_count": 120,
     "metadata": {},
     "output_type": "execute_result"
    }
   ],
   "source": [
    "gps_disfold = gps_disfold.replace(\"\", np.nan)\n",
    "gps_disfold.marketcap = gps_disfold.marketcap.apply(lambda x: convert_market_cap_revenue(x) if pd.notnull(x) else x)\n",
    "gps_disfold.marketcap = gps_disfold.marketcap.astype(object).astype('Int64')\n",
    "gps_disfold.head()"
   ]
  },
  {
   "cell_type": "code",
   "execution_count": 121,
   "metadata": {},
   "outputs": [],
   "source": [
    "cleaned_files.append(gps_disfold)"
   ]
  },
  {
   "attachments": {},
   "cell_type": "markdown",
   "metadata": {},
   "source": [
    "### GioPonSpiz-value.today.json"
   ]
  },
  {
   "cell_type": "code",
   "execution_count": 122,
   "metadata": {},
   "outputs": [
    {
     "data": {
      "text/plain": [
       "'src/datasets/GioPonSpiz-value.today.json'"
      ]
     },
     "execution_count": 122,
     "metadata": {},
     "output_type": "execute_result"
    }
   ],
   "source": [
    "files_list[15]"
   ]
  },
  {
   "cell_type": "code",
   "execution_count": 123,
   "metadata": {},
   "outputs": [
    {
     "data": {
      "text/html": [
       "<div>\n",
       "<style scoped>\n",
       "    .dataframe tbody tr th:only-of-type {\n",
       "        vertical-align: middle;\n",
       "    }\n",
       "\n",
       "    .dataframe tbody tr th {\n",
       "        vertical-align: top;\n",
       "    }\n",
       "\n",
       "    .dataframe thead th {\n",
       "        text-align: right;\n",
       "    }\n",
       "</style>\n",
       "<table border=\"1\" class=\"dataframe\">\n",
       "  <thead>\n",
       "    <tr style=\"text-align: right;\">\n",
       "      <th></th>\n",
       "      <th>name</th>\n",
       "      <th>world_rank</th>\n",
       "      <th>marketValue</th>\n",
       "      <th>marketCap</th>\n",
       "      <th>CEO</th>\n",
       "      <th>country</th>\n",
       "    </tr>\n",
       "  </thead>\n",
       "  <tbody>\n",
       "    <tr>\n",
       "      <th>0</th>\n",
       "      <td>APPLE</td>\n",
       "      <td>1</td>\n",
       "      <td>2,825.000 Billion USD</td>\n",
       "      <td>2,510.000 Billion USD</td>\n",
       "      <td>Tim Cook</td>\n",
       "      <td>USA</td>\n",
       "    </tr>\n",
       "    <tr>\n",
       "      <th>1</th>\n",
       "      <td>MICROSOFT CORPORATION</td>\n",
       "      <td>2</td>\n",
       "      <td>2,358.000 Billion USD</td>\n",
       "      <td>2,269.000 Billion USD</td>\n",
       "      <td>None</td>\n",
       "      <td>USA</td>\n",
       "    </tr>\n",
       "    <tr>\n",
       "      <th>2</th>\n",
       "      <td>SAUDI ARABIAN OIL COMPANY (Saudi Aramco)</td>\n",
       "      <td>3</td>\n",
       "      <td>1,889.600 Billion USD</td>\n",
       "      <td>1,891.600 Billion USD</td>\n",
       "      <td>H.E. Yasir Othman Al-Rumayyan</td>\n",
       "      <td>Saudi Arabia</td>\n",
       "    </tr>\n",
       "    <tr>\n",
       "      <th>3</th>\n",
       "      <td>ALPHABET</td>\n",
       "      <td>4</td>\n",
       "      <td>1,820.000 Billion USD</td>\n",
       "      <td>1,934.000 Billion USD</td>\n",
       "      <td>John L. Hennessy</td>\n",
       "      <td>USA</td>\n",
       "    </tr>\n",
       "    <tr>\n",
       "      <th>4</th>\n",
       "      <td>AMAZON.COM</td>\n",
       "      <td>5</td>\n",
       "      <td>1,649.000 Billion USD</td>\n",
       "      <td>1,758.000 Billion USD</td>\n",
       "      <td>Andy Jassy</td>\n",
       "      <td>USA</td>\n",
       "    </tr>\n",
       "  </tbody>\n",
       "</table>\n",
       "</div>"
      ],
      "text/plain": [
       "                                       name world_rank            marketValue  \\\n",
       "0                                     APPLE          1  2,825.000 Billion USD   \n",
       "1                     MICROSOFT CORPORATION          2  2,358.000 Billion USD   \n",
       "2  SAUDI ARABIAN OIL COMPANY (Saudi Aramco)          3  1,889.600 Billion USD   \n",
       "3                                  ALPHABET          4  1,820.000 Billion USD   \n",
       "4                                AMAZON.COM          5  1,649.000 Billion USD   \n",
       "\n",
       "               marketCap                            CEO       country  \n",
       "0  2,510.000 Billion USD                       Tim Cook           USA  \n",
       "1  2,269.000 Billion USD                           None           USA  \n",
       "2  1,891.600 Billion USD  H.E. Yasir Othman Al-Rumayyan  Saudi Arabia  \n",
       "3  1,934.000 Billion USD               John L. Hennessy           USA  \n",
       "4  1,758.000 Billion USD                     Andy Jassy           USA  "
      ]
     },
     "execution_count": 123,
     "metadata": {},
     "output_type": "execute_result"
    }
   ],
   "source": [
    "gps_value = pd.read_json(files_list[15])\n",
    "gps_value.head()"
   ]
  },
  {
   "cell_type": "code",
   "execution_count": 124,
   "metadata": {},
   "outputs": [
    {
     "name": "stdout",
     "output_type": "stream",
     "text": [
      "Columns to remove:\n",
      "world_rank\n",
      "marketValue\n"
     ]
    }
   ],
   "source": [
    "to_drop, _ = columns_to_remove_not_remove(gps_value)"
   ]
  },
  {
   "cell_type": "code",
   "execution_count": 125,
   "metadata": {},
   "outputs": [
    {
     "name": "stdout",
     "output_type": "stream",
     "text": [
      "Columns to rename:\n"
     ]
    }
   ],
   "source": [
    "gps_value = gps_value.drop(to_drop, axis=1)\n",
    "to_rename = rename_columns(gps_value.columns)\n",
    "gps_value.columns = to_rename"
   ]
  },
  {
   "cell_type": "code",
   "execution_count": 126,
   "metadata": {},
   "outputs": [
    {
     "data": {
      "text/html": [
       "<div>\n",
       "<style scoped>\n",
       "    .dataframe tbody tr th:only-of-type {\n",
       "        vertical-align: middle;\n",
       "    }\n",
       "\n",
       "    .dataframe tbody tr th {\n",
       "        vertical-align: top;\n",
       "    }\n",
       "\n",
       "    .dataframe thead th {\n",
       "        text-align: right;\n",
       "    }\n",
       "</style>\n",
       "<table border=\"1\" class=\"dataframe\">\n",
       "  <thead>\n",
       "    <tr style=\"text-align: right;\">\n",
       "      <th></th>\n",
       "      <th>name</th>\n",
       "      <th>marketcap</th>\n",
       "      <th>ceo</th>\n",
       "      <th>country</th>\n",
       "    </tr>\n",
       "  </thead>\n",
       "  <tbody>\n",
       "    <tr>\n",
       "      <th>0</th>\n",
       "      <td>APPLE</td>\n",
       "      <td>2510000000000</td>\n",
       "      <td>Tim Cook</td>\n",
       "      <td>USA</td>\n",
       "    </tr>\n",
       "    <tr>\n",
       "      <th>1</th>\n",
       "      <td>MICROSOFT CORPORATION</td>\n",
       "      <td>2269000000000</td>\n",
       "      <td>None</td>\n",
       "      <td>USA</td>\n",
       "    </tr>\n",
       "    <tr>\n",
       "      <th>2</th>\n",
       "      <td>SAUDI ARABIAN OIL COMPANY (Saudi Aramco)</td>\n",
       "      <td>1891600000000</td>\n",
       "      <td>H.E. Yasir Othman Al-Rumayyan</td>\n",
       "      <td>Saudi Arabia</td>\n",
       "    </tr>\n",
       "    <tr>\n",
       "      <th>3</th>\n",
       "      <td>ALPHABET</td>\n",
       "      <td>1934000000000</td>\n",
       "      <td>John L. Hennessy</td>\n",
       "      <td>USA</td>\n",
       "    </tr>\n",
       "    <tr>\n",
       "      <th>4</th>\n",
       "      <td>AMAZON.COM</td>\n",
       "      <td>1758000000000</td>\n",
       "      <td>Andy Jassy</td>\n",
       "      <td>USA</td>\n",
       "    </tr>\n",
       "  </tbody>\n",
       "</table>\n",
       "</div>"
      ],
      "text/plain": [
       "                                       name      marketcap  \\\n",
       "0                                     APPLE  2510000000000   \n",
       "1                     MICROSOFT CORPORATION  2269000000000   \n",
       "2  SAUDI ARABIAN OIL COMPANY (Saudi Aramco)  1891600000000   \n",
       "3                                  ALPHABET  1934000000000   \n",
       "4                                AMAZON.COM  1758000000000   \n",
       "\n",
       "                             ceo       country  \n",
       "0                       Tim Cook           USA  \n",
       "1                           None           USA  \n",
       "2  H.E. Yasir Othman Al-Rumayyan  Saudi Arabia  \n",
       "3               John L. Hennessy           USA  \n",
       "4                     Andy Jassy           USA  "
      ]
     },
     "execution_count": 126,
     "metadata": {},
     "output_type": "execute_result"
    }
   ],
   "source": [
    "gps_value.marketcap = gps_value.marketcap.apply(lambda x: convert_market_cap_revenue(x.replace(',', '')) if pd.notnull(x) else x)\n",
    "gps_value.marketcap = gps_value.marketcap.astype(object).astype('Int64')\n",
    "gps_value.head()"
   ]
  },
  {
   "cell_type": "code",
   "execution_count": 127,
   "metadata": {},
   "outputs": [],
   "source": [
    "cleaned_files.append(gps_value)"
   ]
  },
  {
   "cell_type": "markdown",
   "metadata": {},
   "source": [
    "### GioPonSpiz-wikipedia.org.json"
   ]
  },
  {
   "cell_type": "code",
   "execution_count": 128,
   "metadata": {},
   "outputs": [
    {
     "data": {
      "text/plain": [
       "'src/datasets/GioPonSpiz-wikipedia.org.json'"
      ]
     },
     "execution_count": 128,
     "metadata": {},
     "output_type": "execute_result"
    }
   ],
   "source": [
    "files_list[16]"
   ]
  },
  {
   "cell_type": "code",
   "execution_count": 129,
   "metadata": {},
   "outputs": [
    {
     "data": {
      "text/html": [
       "<div>\n",
       "<style scoped>\n",
       "    .dataframe tbody tr th:only-of-type {\n",
       "        vertical-align: middle;\n",
       "    }\n",
       "\n",
       "    .dataframe tbody tr th {\n",
       "        vertical-align: top;\n",
       "    }\n",
       "\n",
       "    .dataframe thead th {\n",
       "        text-align: right;\n",
       "    }\n",
       "</style>\n",
       "<table border=\"1\" class=\"dataframe\">\n",
       "  <thead>\n",
       "    <tr style=\"text-align: right;\">\n",
       "      <th></th>\n",
       "      <th>Name</th>\n",
       "      <th>Industry</th>\n",
       "      <th>Sector</th>\n",
       "      <th>Headquarters</th>\n",
       "      <th>Founded</th>\n",
       "    </tr>\n",
       "  </thead>\n",
       "  <tbody>\n",
       "    <tr>\n",
       "      <th>0</th>\n",
       "      <td>3H Biomedical</td>\n",
       "      <td>Health care</td>\n",
       "      <td>Biotechnology</td>\n",
       "      <td>Uppsala</td>\n",
       "      <td>2004</td>\n",
       "    </tr>\n",
       "    <tr>\n",
       "      <th>1</th>\n",
       "      <td>AarhusKarlshamn</td>\n",
       "      <td>Consumer goods</td>\n",
       "      <td>Food products</td>\n",
       "      <td>Malmö</td>\n",
       "      <td>2005</td>\n",
       "    </tr>\n",
       "    <tr>\n",
       "      <th>2</th>\n",
       "      <td>Abba Seafood</td>\n",
       "      <td>Consumer goods</td>\n",
       "      <td>Food products</td>\n",
       "      <td>Gothenburg</td>\n",
       "      <td>1883</td>\n",
       "    </tr>\n",
       "    <tr>\n",
       "      <th>3</th>\n",
       "      <td>ABU Garcia</td>\n",
       "      <td>Consumer goods</td>\n",
       "      <td>Recreational products</td>\n",
       "      <td>Svängsta</td>\n",
       "      <td>1921</td>\n",
       "    </tr>\n",
       "    <tr>\n",
       "      <th>4</th>\n",
       "      <td>Acando</td>\n",
       "      <td>Technology</td>\n",
       "      <td>Software</td>\n",
       "      <td>Stockholm</td>\n",
       "      <td>2001</td>\n",
       "    </tr>\n",
       "  </tbody>\n",
       "</table>\n",
       "</div>"
      ],
      "text/plain": [
       "              Name        Industry                 Sector Headquarters Founded\n",
       "0    3H Biomedical     Health care          Biotechnology      Uppsala    2004\n",
       "1  AarhusKarlshamn  Consumer goods          Food products        Malmö    2005\n",
       "2     Abba Seafood  Consumer goods          Food products   Gothenburg    1883\n",
       "3       ABU Garcia  Consumer goods  Recreational products     Svängsta    1921\n",
       "4           Acando      Technology               Software    Stockholm    2001"
      ]
     },
     "execution_count": 129,
     "metadata": {},
     "output_type": "execute_result"
    }
   ],
   "source": [
    "gps_wiki = pd.read_json(files_list[16])\n",
    "gps_wiki.head()"
   ]
  },
  {
   "cell_type": "code",
   "execution_count": 130,
   "metadata": {},
   "outputs": [
    {
     "name": "stdout",
     "output_type": "stream",
     "text": [
      "Columns to remove:\n"
     ]
    }
   ],
   "source": [
    "to_drop, _ = columns_to_remove_not_remove(gps_wiki)\n",
    "to_drop.append(\"Industry\")"
   ]
  },
  {
   "cell_type": "code",
   "execution_count": 131,
   "metadata": {},
   "outputs": [
    {
     "name": "stdout",
     "output_type": "stream",
     "text": [
      "Columns to rename:\n",
      "Headquarters -> country\n"
     ]
    }
   ],
   "source": [
    "gps_wiki = gps_wiki.drop(to_drop, axis=1)\n",
    "to_rename = rename_columns(gps_wiki.columns)\n",
    "gps_wiki.columns = to_rename"
   ]
  },
  {
   "cell_type": "code",
   "execution_count": 132,
   "metadata": {},
   "outputs": [
    {
     "data": {
      "text/html": [
       "<div>\n",
       "<style scoped>\n",
       "    .dataframe tbody tr th:only-of-type {\n",
       "        vertical-align: middle;\n",
       "    }\n",
       "\n",
       "    .dataframe tbody tr th {\n",
       "        vertical-align: top;\n",
       "    }\n",
       "\n",
       "    .dataframe thead th {\n",
       "        text-align: right;\n",
       "    }\n",
       "</style>\n",
       "<table border=\"1\" class=\"dataframe\">\n",
       "  <thead>\n",
       "    <tr style=\"text-align: right;\">\n",
       "      <th></th>\n",
       "      <th>name</th>\n",
       "      <th>sector</th>\n",
       "      <th>country</th>\n",
       "      <th>founded</th>\n",
       "    </tr>\n",
       "  </thead>\n",
       "  <tbody>\n",
       "    <tr>\n",
       "      <th>0</th>\n",
       "      <td>3H Biomedical</td>\n",
       "      <td>Biotechnology</td>\n",
       "      <td>Uppsala</td>\n",
       "      <td>2004</td>\n",
       "    </tr>\n",
       "    <tr>\n",
       "      <th>1</th>\n",
       "      <td>AarhusKarlshamn</td>\n",
       "      <td>Food products</td>\n",
       "      <td>Malmö</td>\n",
       "      <td>2005</td>\n",
       "    </tr>\n",
       "    <tr>\n",
       "      <th>2</th>\n",
       "      <td>Abba Seafood</td>\n",
       "      <td>Food products</td>\n",
       "      <td>Gothenburg</td>\n",
       "      <td>1883</td>\n",
       "    </tr>\n",
       "    <tr>\n",
       "      <th>3</th>\n",
       "      <td>ABU Garcia</td>\n",
       "      <td>Recreational products</td>\n",
       "      <td>Svängsta</td>\n",
       "      <td>1921</td>\n",
       "    </tr>\n",
       "    <tr>\n",
       "      <th>4</th>\n",
       "      <td>Acando</td>\n",
       "      <td>Software</td>\n",
       "      <td>Stockholm</td>\n",
       "      <td>2001</td>\n",
       "    </tr>\n",
       "  </tbody>\n",
       "</table>\n",
       "</div>"
      ],
      "text/plain": [
       "              name                 sector     country  founded\n",
       "0    3H Biomedical          Biotechnology     Uppsala     2004\n",
       "1  AarhusKarlshamn          Food products       Malmö     2005\n",
       "2     Abba Seafood          Food products  Gothenburg     1883\n",
       "3       ABU Garcia  Recreational products    Svängsta     1921\n",
       "4           Acando               Software   Stockholm     2001"
      ]
     },
     "execution_count": 132,
     "metadata": {},
     "output_type": "execute_result"
    }
   ],
   "source": [
    "gps_wiki = gps_wiki.replace('', np.nan)\n",
    "gps_wiki = gps_wiki.replace('UNKNOWN', np.nan)\n",
    "gps_wiki = gps_wiki.replace('?', np.nan)\n",
    "gps_wiki = gps_wiki.replace('-', np.nan)\n",
    "gps_wiki.founded = gps_wiki.founded.astype(object).astype('Int64')\n",
    "gps_wiki.head()"
   ]
  },
  {
   "cell_type": "code",
   "execution_count": 133,
   "metadata": {},
   "outputs": [],
   "source": [
    "cleaned_files.append(gps_wiki)"
   ]
  },
  {
   "cell_type": "markdown",
   "metadata": {},
   "source": [
    "## MalPatSaj"
   ]
  },
  {
   "cell_type": "markdown",
   "metadata": {},
   "source": [
    "### MalPatSaj-companiesmarketcap.com.xls"
   ]
  },
  {
   "cell_type": "code",
   "execution_count": 134,
   "metadata": {},
   "outputs": [
    {
     "data": {
      "text/plain": [
       "'src/datasets/MalPatSaj-companiesmarketcap.com.xls'"
      ]
     },
     "execution_count": 134,
     "metadata": {},
     "output_type": "execute_result"
    }
   ],
   "source": [
    "files_list[17]"
   ]
  },
  {
   "cell_type": "code",
   "execution_count": 135,
   "metadata": {},
   "outputs": [
    {
     "data": {
      "text/html": [
       "<div>\n",
       "<style scoped>\n",
       "    .dataframe tbody tr th:only-of-type {\n",
       "        vertical-align: middle;\n",
       "    }\n",
       "\n",
       "    .dataframe tbody tr th {\n",
       "        vertical-align: top;\n",
       "    }\n",
       "\n",
       "    .dataframe thead th {\n",
       "        text-align: right;\n",
       "    }\n",
       "</style>\n",
       "<table border=\"1\" class=\"dataframe\">\n",
       "  <thead>\n",
       "    <tr style=\"text-align: right;\">\n",
       "      <th></th>\n",
       "      <th>Unnamed: 0</th>\n",
       "      <th>Name</th>\n",
       "      <th>Symbol</th>\n",
       "      <th>MarketCap</th>\n",
       "      <th>Price</th>\n",
       "      <th>Country</th>\n",
       "    </tr>\n",
       "  </thead>\n",
       "  <tbody>\n",
       "    <tr>\n",
       "      <th>0</th>\n",
       "      <td>0</td>\n",
       "      <td>Apple</td>\n",
       "      <td>AAPL</td>\n",
       "      <td>$2.278 T</td>\n",
       "      <td>$143.21</td>\n",
       "      <td>USA</td>\n",
       "    </tr>\n",
       "    <tr>\n",
       "      <th>1</th>\n",
       "      <td>1</td>\n",
       "      <td>Microsoft</td>\n",
       "      <td>MSFT</td>\n",
       "      <td>$1.917 T</td>\n",
       "      <td>$257.22</td>\n",
       "      <td>USA</td>\n",
       "    </tr>\n",
       "    <tr>\n",
       "      <th>2</th>\n",
       "      <td>2</td>\n",
       "      <td>Saudi Aramco</td>\n",
       "      <td>2222.SR</td>\n",
       "      <td>$1.810 T</td>\n",
       "      <td>$8.23</td>\n",
       "      <td>S. Arabia</td>\n",
       "    </tr>\n",
       "    <tr>\n",
       "      <th>3</th>\n",
       "      <td>3</td>\n",
       "      <td>Alphabet (Google)</td>\n",
       "      <td>GOOG</td>\n",
       "      <td>$1.232 T</td>\n",
       "      <td>$95.31</td>\n",
       "      <td>USA</td>\n",
       "    </tr>\n",
       "    <tr>\n",
       "      <th>4</th>\n",
       "      <td>4</td>\n",
       "      <td>Amazon</td>\n",
       "      <td>AMZN</td>\n",
       "      <td>$934.27 B</td>\n",
       "      <td>$91.58</td>\n",
       "      <td>USA</td>\n",
       "    </tr>\n",
       "  </tbody>\n",
       "</table>\n",
       "</div>"
      ],
      "text/plain": [
       "   Unnamed: 0               Name   Symbol  MarketCap    Price    Country\n",
       "0           0              Apple     AAPL   $2.278 T  $143.21        USA\n",
       "1           1          Microsoft     MSFT   $1.917 T  $257.22        USA\n",
       "2           2       Saudi Aramco  2222.SR   $1.810 T    $8.23  S. Arabia\n",
       "3           3  Alphabet (Google)     GOOG   $1.232 T   $95.31        USA\n",
       "4           4             Amazon     AMZN  $934.27 B   $91.58        USA"
      ]
     },
     "execution_count": 135,
     "metadata": {},
     "output_type": "execute_result"
    }
   ],
   "source": [
    "mps_companies = pd.read_excel(files_list[17])\n",
    "mps_companies.head()"
   ]
  },
  {
   "cell_type": "code",
   "execution_count": 136,
   "metadata": {},
   "outputs": [
    {
     "name": "stdout",
     "output_type": "stream",
     "text": [
      "Columns to remove:\n",
      "Unnamed: 0\n",
      "Symbol\n",
      "Price\n"
     ]
    }
   ],
   "source": [
    "to_drop, _ = columns_to_remove_not_remove(mps_companies)"
   ]
  },
  {
   "cell_type": "code",
   "execution_count": 137,
   "metadata": {},
   "outputs": [
    {
     "name": "stdout",
     "output_type": "stream",
     "text": [
      "Columns to rename:\n"
     ]
    }
   ],
   "source": [
    "mps_companies = mps_companies.drop(to_drop, axis=1)\n",
    "to_rename = rename_columns(mps_companies.columns)\n",
    "mps_companies.columns = to_rename"
   ]
  },
  {
   "cell_type": "code",
   "execution_count": 138,
   "metadata": {},
   "outputs": [
    {
     "data": {
      "text/html": [
       "<div>\n",
       "<style scoped>\n",
       "    .dataframe tbody tr th:only-of-type {\n",
       "        vertical-align: middle;\n",
       "    }\n",
       "\n",
       "    .dataframe tbody tr th {\n",
       "        vertical-align: top;\n",
       "    }\n",
       "\n",
       "    .dataframe thead th {\n",
       "        text-align: right;\n",
       "    }\n",
       "</style>\n",
       "<table border=\"1\" class=\"dataframe\">\n",
       "  <thead>\n",
       "    <tr style=\"text-align: right;\">\n",
       "      <th></th>\n",
       "      <th>name</th>\n",
       "      <th>marketcap</th>\n",
       "      <th>country</th>\n",
       "    </tr>\n",
       "  </thead>\n",
       "  <tbody>\n",
       "    <tr>\n",
       "      <th>0</th>\n",
       "      <td>Apple</td>\n",
       "      <td>2278000000000</td>\n",
       "      <td>USA</td>\n",
       "    </tr>\n",
       "    <tr>\n",
       "      <th>1</th>\n",
       "      <td>Microsoft</td>\n",
       "      <td>1917000000000</td>\n",
       "      <td>USA</td>\n",
       "    </tr>\n",
       "    <tr>\n",
       "      <th>2</th>\n",
       "      <td>Saudi Aramco</td>\n",
       "      <td>1810000000000</td>\n",
       "      <td>S. Arabia</td>\n",
       "    </tr>\n",
       "    <tr>\n",
       "      <th>3</th>\n",
       "      <td>Alphabet (Google)</td>\n",
       "      <td>1232000000000</td>\n",
       "      <td>USA</td>\n",
       "    </tr>\n",
       "    <tr>\n",
       "      <th>4</th>\n",
       "      <td>Amazon</td>\n",
       "      <td>934270000000</td>\n",
       "      <td>USA</td>\n",
       "    </tr>\n",
       "  </tbody>\n",
       "</table>\n",
       "</div>"
      ],
      "text/plain": [
       "                name      marketcap    country\n",
       "0              Apple  2278000000000        USA\n",
       "1          Microsoft  1917000000000        USA\n",
       "2       Saudi Aramco  1810000000000  S. Arabia\n",
       "3  Alphabet (Google)  1232000000000        USA\n",
       "4             Amazon   934270000000        USA"
      ]
     },
     "execution_count": 138,
     "metadata": {},
     "output_type": "execute_result"
    }
   ],
   "source": [
    "mps_companies.marketcap = mps_companies.marketcap.apply(lambda x: convert_market_cap_revenue(x) if pd.notnull(x) else x)\n",
    "mps_companies.marketcap = mps_companies.marketcap.astype(object).astype('Int64')\n",
    "mps_companies.head()"
   ]
  },
  {
   "cell_type": "code",
   "execution_count": 139,
   "metadata": {},
   "outputs": [],
   "source": [
    "cleaned_files.append(mps_companies)"
   ]
  },
  {
   "cell_type": "markdown",
   "metadata": {},
   "source": [
    "### MalPatSaj-disfold.com.xlsx"
   ]
  },
  {
   "cell_type": "code",
   "execution_count": 140,
   "metadata": {},
   "outputs": [
    {
     "data": {
      "text/plain": [
       "'src/datasets/MalPatSaj-disfold.com.xlsx'"
      ]
     },
     "execution_count": 140,
     "metadata": {},
     "output_type": "execute_result"
    }
   ],
   "source": [
    "files_list[18]"
   ]
  },
  {
   "cell_type": "code",
   "execution_count": 141,
   "metadata": {},
   "outputs": [
    {
     "data": {
      "text/html": [
       "<div>\n",
       "<style scoped>\n",
       "    .dataframe tbody tr th:only-of-type {\n",
       "        vertical-align: middle;\n",
       "    }\n",
       "\n",
       "    .dataframe tbody tr th {\n",
       "        vertical-align: top;\n",
       "    }\n",
       "\n",
       "    .dataframe thead th {\n",
       "        text-align: right;\n",
       "    }\n",
       "</style>\n",
       "<table border=\"1\" class=\"dataframe\">\n",
       "  <thead>\n",
       "    <tr style=\"text-align: right;\">\n",
       "      <th></th>\n",
       "      <th>Unnamed: 0</th>\n",
       "      <th>Name</th>\n",
       "      <th>MarketCap</th>\n",
       "      <th>Stock</th>\n",
       "      <th>Country</th>\n",
       "      <th>Sector</th>\n",
       "      <th>Industry</th>\n",
       "    </tr>\n",
       "  </thead>\n",
       "  <tbody>\n",
       "    <tr>\n",
       "      <th>0</th>\n",
       "      <td>0</td>\n",
       "      <td>Apple Inc.</td>\n",
       "      <td>$2.825 T</td>\n",
       "      <td>AAPL</td>\n",
       "      <td>United States</td>\n",
       "      <td>Technology</td>\n",
       "      <td>Consumer Electronics</td>\n",
       "    </tr>\n",
       "    <tr>\n",
       "      <th>1</th>\n",
       "      <td>1</td>\n",
       "      <td>Microsoft Corporation</td>\n",
       "      <td>$2.328 T</td>\n",
       "      <td>MSFT</td>\n",
       "      <td>United States</td>\n",
       "      <td>Technology</td>\n",
       "      <td>Software—Infrastructure</td>\n",
       "    </tr>\n",
       "    <tr>\n",
       "      <th>2</th>\n",
       "      <td>2</td>\n",
       "      <td>Saudi Arabian Oil Company</td>\n",
       "      <td>$2.297 T</td>\n",
       "      <td>2222</td>\n",
       "      <td>Saudi Arabia</td>\n",
       "      <td>Energy</td>\n",
       "      <td>Oil &amp; Gas Integrated</td>\n",
       "    </tr>\n",
       "    <tr>\n",
       "      <th>3</th>\n",
       "      <td>3</td>\n",
       "      <td>Alphabet Inc.</td>\n",
       "      <td>$1.825 T</td>\n",
       "      <td>GOOG</td>\n",
       "      <td>United States</td>\n",
       "      <td>Communication Services</td>\n",
       "      <td>Internet Content &amp; Information</td>\n",
       "    </tr>\n",
       "    <tr>\n",
       "      <th>4</th>\n",
       "      <td>4</td>\n",
       "      <td>Amazon.com, Inc.</td>\n",
       "      <td>$1.642 T</td>\n",
       "      <td>AMZN</td>\n",
       "      <td>United States</td>\n",
       "      <td>Consumer Discretionary</td>\n",
       "      <td>Internet Retail</td>\n",
       "    </tr>\n",
       "  </tbody>\n",
       "</table>\n",
       "</div>"
      ],
      "text/plain": [
       "   Unnamed: 0                       Name MarketCap Stock        Country  \\\n",
       "0           0                 Apple Inc.  $2.825 T  AAPL  United States   \n",
       "1           1      Microsoft Corporation  $2.328 T  MSFT  United States   \n",
       "2           2  Saudi Arabian Oil Company  $2.297 T  2222   Saudi Arabia   \n",
       "3           3              Alphabet Inc.  $1.825 T  GOOG  United States   \n",
       "4           4           Amazon.com, Inc.  $1.642 T  AMZN  United States   \n",
       "\n",
       "                   Sector                        Industry  \n",
       "0              Technology            Consumer Electronics  \n",
       "1              Technology         Software—Infrastructure  \n",
       "2                  Energy            Oil & Gas Integrated  \n",
       "3  Communication Services  Internet Content & Information  \n",
       "4  Consumer Discretionary                 Internet Retail  "
      ]
     },
     "execution_count": 141,
     "metadata": {},
     "output_type": "execute_result"
    }
   ],
   "source": [
    "mps_disfold = pd.read_excel(files_list[18])\n",
    "mps_disfold.head()"
   ]
  },
  {
   "cell_type": "code",
   "execution_count": 142,
   "metadata": {},
   "outputs": [
    {
     "name": "stdout",
     "output_type": "stream",
     "text": [
      "Columns to remove:\n",
      "Unnamed: 0\n",
      "Stock\n"
     ]
    }
   ],
   "source": [
    "to_drop, _ = columns_to_remove_not_remove(mps_disfold)\n",
    "to_drop.append(\"Industry\")"
   ]
  },
  {
   "cell_type": "code",
   "execution_count": 143,
   "metadata": {},
   "outputs": [
    {
     "name": "stdout",
     "output_type": "stream",
     "text": [
      "Columns to rename:\n"
     ]
    }
   ],
   "source": [
    "mps_disfold = mps_disfold.drop(to_drop, axis=1)\n",
    "to_rename = rename_columns(mps_disfold.columns)\n",
    "mps_disfold.columns = to_rename"
   ]
  },
  {
   "cell_type": "code",
   "execution_count": 144,
   "metadata": {},
   "outputs": [
    {
     "data": {
      "text/html": [
       "<div>\n",
       "<style scoped>\n",
       "    .dataframe tbody tr th:only-of-type {\n",
       "        vertical-align: middle;\n",
       "    }\n",
       "\n",
       "    .dataframe tbody tr th {\n",
       "        vertical-align: top;\n",
       "    }\n",
       "\n",
       "    .dataframe thead th {\n",
       "        text-align: right;\n",
       "    }\n",
       "</style>\n",
       "<table border=\"1\" class=\"dataframe\">\n",
       "  <thead>\n",
       "    <tr style=\"text-align: right;\">\n",
       "      <th></th>\n",
       "      <th>name</th>\n",
       "      <th>marketcap</th>\n",
       "      <th>country</th>\n",
       "      <th>sector</th>\n",
       "    </tr>\n",
       "  </thead>\n",
       "  <tbody>\n",
       "    <tr>\n",
       "      <th>0</th>\n",
       "      <td>Apple Inc.</td>\n",
       "      <td>2825000000000</td>\n",
       "      <td>United States</td>\n",
       "      <td>Technology</td>\n",
       "    </tr>\n",
       "    <tr>\n",
       "      <th>1</th>\n",
       "      <td>Microsoft Corporation</td>\n",
       "      <td>2328000000000</td>\n",
       "      <td>United States</td>\n",
       "      <td>Technology</td>\n",
       "    </tr>\n",
       "    <tr>\n",
       "      <th>2</th>\n",
       "      <td>Saudi Arabian Oil Company</td>\n",
       "      <td>2297000000000</td>\n",
       "      <td>Saudi Arabia</td>\n",
       "      <td>Energy</td>\n",
       "    </tr>\n",
       "    <tr>\n",
       "      <th>3</th>\n",
       "      <td>Alphabet Inc.</td>\n",
       "      <td>1825000000000</td>\n",
       "      <td>United States</td>\n",
       "      <td>Communication Services</td>\n",
       "    </tr>\n",
       "    <tr>\n",
       "      <th>4</th>\n",
       "      <td>Amazon.com, Inc.</td>\n",
       "      <td>1642000000000</td>\n",
       "      <td>United States</td>\n",
       "      <td>Consumer Discretionary</td>\n",
       "    </tr>\n",
       "  </tbody>\n",
       "</table>\n",
       "</div>"
      ],
      "text/plain": [
       "                        name      marketcap        country  \\\n",
       "0                 Apple Inc.  2825000000000  United States   \n",
       "1      Microsoft Corporation  2328000000000  United States   \n",
       "2  Saudi Arabian Oil Company  2297000000000   Saudi Arabia   \n",
       "3              Alphabet Inc.  1825000000000  United States   \n",
       "4           Amazon.com, Inc.  1642000000000  United States   \n",
       "\n",
       "                   sector  \n",
       "0              Technology  \n",
       "1              Technology  \n",
       "2                  Energy  \n",
       "3  Communication Services  \n",
       "4  Consumer Discretionary  "
      ]
     },
     "execution_count": 144,
     "metadata": {},
     "output_type": "execute_result"
    }
   ],
   "source": [
    "mps_disfold.marketcap = mps_disfold.marketcap.apply(lambda x: convert_market_cap_revenue(x) if pd.notnull(x) else x)\n",
    "mps_disfold.marketcap = mps_disfold.marketcap.astype(object).astype('Int64')\n",
    "mps_disfold.head()"
   ]
  },
  {
   "cell_type": "code",
   "execution_count": 145,
   "metadata": {},
   "outputs": [],
   "source": [
    "cleaned_files.append(mps_disfold)"
   ]
  },
  {
   "cell_type": "markdown",
   "metadata": {},
   "source": [
    "### MalPatSaj-forbes.com.xls"
   ]
  },
  {
   "cell_type": "code",
   "execution_count": 146,
   "metadata": {},
   "outputs": [
    {
     "data": {
      "text/plain": [
       "'src/datasets/MalPatSaj-forbes.com.xls'"
      ]
     },
     "execution_count": 146,
     "metadata": {},
     "output_type": "execute_result"
    }
   ],
   "source": [
    "files_list[19]"
   ]
  },
  {
   "cell_type": "code",
   "execution_count": 147,
   "metadata": {},
   "outputs": [
    {
     "data": {
      "text/html": [
       "<div>\n",
       "<style scoped>\n",
       "    .dataframe tbody tr th:only-of-type {\n",
       "        vertical-align: middle;\n",
       "    }\n",
       "\n",
       "    .dataframe tbody tr th {\n",
       "        vertical-align: top;\n",
       "    }\n",
       "\n",
       "    .dataframe thead th {\n",
       "        text-align: right;\n",
       "    }\n",
       "</style>\n",
       "<table border=\"1\" class=\"dataframe\">\n",
       "  <thead>\n",
       "    <tr style=\"text-align: right;\">\n",
       "      <th></th>\n",
       "      <th>Unnamed: 0</th>\n",
       "      <th>Name</th>\n",
       "      <th>Country</th>\n",
       "      <th>Sales</th>\n",
       "      <th>Profit</th>\n",
       "      <th>Assets</th>\n",
       "      <th>Market Value</th>\n",
       "    </tr>\n",
       "  </thead>\n",
       "  <tbody>\n",
       "    <tr>\n",
       "      <th>0</th>\n",
       "      <td>0</td>\n",
       "      <td>Berkshire Hathaway</td>\n",
       "      <td>United States</td>\n",
       "      <td>$276.09 B</td>\n",
       "      <td>$89.8 B</td>\n",
       "      <td>$958.78 B</td>\n",
       "      <td>$741.48 B</td>\n",
       "    </tr>\n",
       "    <tr>\n",
       "      <th>1</th>\n",
       "      <td>1</td>\n",
       "      <td>ICBC</td>\n",
       "      <td>China</td>\n",
       "      <td>$208.13 B</td>\n",
       "      <td>$54.03 B</td>\n",
       "      <td>$5,518.51 B</td>\n",
       "      <td>$214.43 B</td>\n",
       "    </tr>\n",
       "    <tr>\n",
       "      <th>2</th>\n",
       "      <td>2</td>\n",
       "      <td>Saudi Arabian Oil Company (Saudi Aramco)</td>\n",
       "      <td>Saudi Arabia</td>\n",
       "      <td>$400.38 B</td>\n",
       "      <td>$105.36 B</td>\n",
       "      <td>$576.04 B</td>\n",
       "      <td>$2,292.08 B</td>\n",
       "    </tr>\n",
       "    <tr>\n",
       "      <th>3</th>\n",
       "      <td>3</td>\n",
       "      <td>JPMorgan Chase</td>\n",
       "      <td>United States</td>\n",
       "      <td>$124.54 B</td>\n",
       "      <td>$42.12 B</td>\n",
       "      <td>$3,954.69 B</td>\n",
       "      <td>$374.45 B</td>\n",
       "    </tr>\n",
       "    <tr>\n",
       "      <th>4</th>\n",
       "      <td>4</td>\n",
       "      <td>China Construction Bank</td>\n",
       "      <td>China</td>\n",
       "      <td>$202.07 B</td>\n",
       "      <td>$46.89 B</td>\n",
       "      <td>$4,746.95 B</td>\n",
       "      <td>$181.32 B</td>\n",
       "    </tr>\n",
       "  </tbody>\n",
       "</table>\n",
       "</div>"
      ],
      "text/plain": [
       "   Unnamed: 0                                      Name        Country  \\\n",
       "0           0                        Berkshire Hathaway  United States   \n",
       "1           1                                      ICBC          China   \n",
       "2           2  Saudi Arabian Oil Company (Saudi Aramco)   Saudi Arabia   \n",
       "3           3                            JPMorgan Chase  United States   \n",
       "4           4                   China Construction Bank          China   \n",
       "\n",
       "       Sales     Profit       Assets Market Value  \n",
       "0  $276.09 B    $89.8 B    $958.78 B    $741.48 B  \n",
       "1  $208.13 B   $54.03 B  $5,518.51 B    $214.43 B  \n",
       "2  $400.38 B  $105.36 B    $576.04 B  $2,292.08 B  \n",
       "3  $124.54 B   $42.12 B  $3,954.69 B    $374.45 B  \n",
       "4  $202.07 B   $46.89 B  $4,746.95 B    $181.32 B  "
      ]
     },
     "execution_count": 147,
     "metadata": {},
     "output_type": "execute_result"
    }
   ],
   "source": [
    "mps_forbes = pd.read_excel(files_list[19])\n",
    "mps_forbes.head()"
   ]
  },
  {
   "cell_type": "code",
   "execution_count": 148,
   "metadata": {},
   "outputs": [
    {
     "name": "stdout",
     "output_type": "stream",
     "text": [
      "Columns to remove:\n",
      "Unnamed: 0\n",
      "Profit\n",
      "Market Value\n"
     ]
    }
   ],
   "source": [
    "to_drop, _ = columns_to_remove_not_remove(mps_forbes)\n",
    "to_drop.append(\"Assets\")"
   ]
  },
  {
   "cell_type": "code",
   "execution_count": 149,
   "metadata": {},
   "outputs": [
    {
     "name": "stdout",
     "output_type": "stream",
     "text": [
      "Columns to rename:\n",
      "Sales -> revenue\n"
     ]
    }
   ],
   "source": [
    "mps_forbes = mps_forbes.drop(to_drop, axis=1)\n",
    "to_rename = rename_columns(mps_forbes.columns)\n",
    "mps_forbes.columns = to_rename"
   ]
  },
  {
   "cell_type": "code",
   "execution_count": 150,
   "metadata": {},
   "outputs": [
    {
     "data": {
      "text/html": [
       "<div>\n",
       "<style scoped>\n",
       "    .dataframe tbody tr th:only-of-type {\n",
       "        vertical-align: middle;\n",
       "    }\n",
       "\n",
       "    .dataframe tbody tr th {\n",
       "        vertical-align: top;\n",
       "    }\n",
       "\n",
       "    .dataframe thead th {\n",
       "        text-align: right;\n",
       "    }\n",
       "</style>\n",
       "<table border=\"1\" class=\"dataframe\">\n",
       "  <thead>\n",
       "    <tr style=\"text-align: right;\">\n",
       "      <th></th>\n",
       "      <th>name</th>\n",
       "      <th>country</th>\n",
       "      <th>revenue</th>\n",
       "    </tr>\n",
       "  </thead>\n",
       "  <tbody>\n",
       "    <tr>\n",
       "      <th>0</th>\n",
       "      <td>Berkshire Hathaway</td>\n",
       "      <td>United States</td>\n",
       "      <td>276090000000</td>\n",
       "    </tr>\n",
       "    <tr>\n",
       "      <th>1</th>\n",
       "      <td>ICBC</td>\n",
       "      <td>China</td>\n",
       "      <td>208130000000</td>\n",
       "    </tr>\n",
       "    <tr>\n",
       "      <th>2</th>\n",
       "      <td>Saudi Arabian Oil Company (Saudi Aramco)</td>\n",
       "      <td>Saudi Arabia</td>\n",
       "      <td>400380000000</td>\n",
       "    </tr>\n",
       "    <tr>\n",
       "      <th>3</th>\n",
       "      <td>JPMorgan Chase</td>\n",
       "      <td>United States</td>\n",
       "      <td>124540000000</td>\n",
       "    </tr>\n",
       "    <tr>\n",
       "      <th>4</th>\n",
       "      <td>China Construction Bank</td>\n",
       "      <td>China</td>\n",
       "      <td>202070000000</td>\n",
       "    </tr>\n",
       "  </tbody>\n",
       "</table>\n",
       "</div>"
      ],
      "text/plain": [
       "                                       name        country       revenue\n",
       "0                        Berkshire Hathaway  United States  276090000000\n",
       "1                                      ICBC          China  208130000000\n",
       "2  Saudi Arabian Oil Company (Saudi Aramco)   Saudi Arabia  400380000000\n",
       "3                            JPMorgan Chase  United States  124540000000\n",
       "4                   China Construction Bank          China  202070000000"
      ]
     },
     "execution_count": 150,
     "metadata": {},
     "output_type": "execute_result"
    }
   ],
   "source": [
    "mps_forbes.revenue = mps_forbes.revenue.apply(lambda x: convert_market_cap_revenue(x) if pd.notnull(x) else x)\n",
    "mps_forbes.revenue = mps_forbes.revenue.astype(object).astype('Int64')\n",
    "mps_forbes.head()"
   ]
  },
  {
   "cell_type": "code",
   "execution_count": 151,
   "metadata": {},
   "outputs": [],
   "source": [
    "cleaned_files.append(mps_forbes)"
   ]
  },
  {
   "cell_type": "markdown",
   "metadata": {},
   "source": [
    "### MalPatSaj-wikipedia.org.xls"
   ]
  },
  {
   "cell_type": "code",
   "execution_count": 152,
   "metadata": {},
   "outputs": [
    {
     "data": {
      "text/plain": [
       "'src/datasets/MalPatSaj-wikipedia.org.xls'"
      ]
     },
     "execution_count": 152,
     "metadata": {},
     "output_type": "execute_result"
    }
   ],
   "source": [
    "files_list[20]"
   ]
  },
  {
   "cell_type": "code",
   "execution_count": 153,
   "metadata": {},
   "outputs": [
    {
     "data": {
      "text/html": [
       "<div>\n",
       "<style scoped>\n",
       "    .dataframe tbody tr th:only-of-type {\n",
       "        vertical-align: middle;\n",
       "    }\n",
       "\n",
       "    .dataframe tbody tr th {\n",
       "        vertical-align: top;\n",
       "    }\n",
       "\n",
       "    .dataframe thead th {\n",
       "        text-align: right;\n",
       "    }\n",
       "</style>\n",
       "<table border=\"1\" class=\"dataframe\">\n",
       "  <thead>\n",
       "    <tr style=\"text-align: right;\">\n",
       "      <th></th>\n",
       "      <th>Unnamed: 0</th>\n",
       "      <th>Name</th>\n",
       "      <th>Industry</th>\n",
       "      <th>Sector</th>\n",
       "      <th>Headquarters</th>\n",
       "      <th>Founded</th>\n",
       "      <th>Notes</th>\n",
       "    </tr>\n",
       "  </thead>\n",
       "  <tbody>\n",
       "    <tr>\n",
       "      <th>0</th>\n",
       "      <td>0</td>\n",
       "      <td>Agrana</td>\n",
       "      <td>Consumer goods</td>\n",
       "      <td>Food products</td>\n",
       "      <td>Vienna</td>\n",
       "      <td>1988</td>\n",
       "      <td>Sugar, starch, fruit juice concentrates and fr...</td>\n",
       "    </tr>\n",
       "    <tr>\n",
       "      <th>1</th>\n",
       "      <td>1</td>\n",
       "      <td>pewag group</td>\n",
       "      <td>Industrials</td>\n",
       "      <td>Industrial machinery</td>\n",
       "      <td>Klagenfurt</td>\n",
       "      <td>1479</td>\n",
       "      <td>Chain manufacturer</td>\n",
       "    </tr>\n",
       "    <tr>\n",
       "      <th>2</th>\n",
       "      <td>2</td>\n",
       "      <td>AHT Cooling Systems</td>\n",
       "      <td>Industrials</td>\n",
       "      <td>Electronic equipment</td>\n",
       "      <td>Rottenmann</td>\n",
       "      <td>1983</td>\n",
       "      <td>Cooling and refrigeration</td>\n",
       "    </tr>\n",
       "    <tr>\n",
       "      <th>3</th>\n",
       "      <td>3</td>\n",
       "      <td>Ammerer Bed Company</td>\n",
       "      <td>Consumer goods</td>\n",
       "      <td>Durable household products</td>\n",
       "      <td>Ried im Innkreis</td>\n",
       "      <td>1763</td>\n",
       "      <td>NaN</td>\n",
       "    </tr>\n",
       "    <tr>\n",
       "      <th>4</th>\n",
       "      <td>4</td>\n",
       "      <td>ams AG</td>\n",
       "      <td>Technology</td>\n",
       "      <td>Semiconductors</td>\n",
       "      <td>Premstätten</td>\n",
       "      <td>1981</td>\n",
       "      <td>Semiconductors</td>\n",
       "    </tr>\n",
       "  </tbody>\n",
       "</table>\n",
       "</div>"
      ],
      "text/plain": [
       "   Unnamed: 0                 Name        Industry  \\\n",
       "0           0               Agrana  Consumer goods   \n",
       "1           1          pewag group     Industrials   \n",
       "2           2  AHT Cooling Systems     Industrials   \n",
       "3           3  Ammerer Bed Company  Consumer goods   \n",
       "4           4               ams AG      Technology   \n",
       "\n",
       "                       Sector      Headquarters Founded  \\\n",
       "0               Food products            Vienna    1988   \n",
       "1        Industrial machinery        Klagenfurt    1479   \n",
       "2        Electronic equipment        Rottenmann    1983   \n",
       "3  Durable household products  Ried im Innkreis    1763   \n",
       "4              Semiconductors       Premstätten    1981   \n",
       "\n",
       "                                               Notes  \n",
       "0  Sugar, starch, fruit juice concentrates and fr...  \n",
       "1                                 Chain manufacturer  \n",
       "2                          Cooling and refrigeration  \n",
       "3                                                NaN  \n",
       "4                                     Semiconductors  "
      ]
     },
     "execution_count": 153,
     "metadata": {},
     "output_type": "execute_result"
    }
   ],
   "source": [
    "mps_wiki = pd.read_excel(files_list[20])\n",
    "mps_wiki.head()"
   ]
  },
  {
   "cell_type": "code",
   "execution_count": 154,
   "metadata": {},
   "outputs": [
    {
     "name": "stdout",
     "output_type": "stream",
     "text": [
      "Columns to remove:\n",
      "Unnamed: 0\n",
      "Notes\n"
     ]
    }
   ],
   "source": [
    "to_drop, _ = columns_to_remove_not_remove(mps_wiki)\n",
    "to_drop.append(\"Industry\")"
   ]
  },
  {
   "cell_type": "code",
   "execution_count": 155,
   "metadata": {},
   "outputs": [
    {
     "name": "stdout",
     "output_type": "stream",
     "text": [
      "Columns to rename:\n",
      "Headquarters -> country\n"
     ]
    },
    {
     "data": {
      "text/html": [
       "<div>\n",
       "<style scoped>\n",
       "    .dataframe tbody tr th:only-of-type {\n",
       "        vertical-align: middle;\n",
       "    }\n",
       "\n",
       "    .dataframe tbody tr th {\n",
       "        vertical-align: top;\n",
       "    }\n",
       "\n",
       "    .dataframe thead th {\n",
       "        text-align: right;\n",
       "    }\n",
       "</style>\n",
       "<table border=\"1\" class=\"dataframe\">\n",
       "  <thead>\n",
       "    <tr style=\"text-align: right;\">\n",
       "      <th></th>\n",
       "      <th>name</th>\n",
       "      <th>sector</th>\n",
       "      <th>country</th>\n",
       "      <th>founded</th>\n",
       "    </tr>\n",
       "  </thead>\n",
       "  <tbody>\n",
       "    <tr>\n",
       "      <th>0</th>\n",
       "      <td>Agrana</td>\n",
       "      <td>Food products</td>\n",
       "      <td>Vienna</td>\n",
       "      <td>1988</td>\n",
       "    </tr>\n",
       "    <tr>\n",
       "      <th>1</th>\n",
       "      <td>pewag group</td>\n",
       "      <td>Industrial machinery</td>\n",
       "      <td>Klagenfurt</td>\n",
       "      <td>1479</td>\n",
       "    </tr>\n",
       "    <tr>\n",
       "      <th>2</th>\n",
       "      <td>AHT Cooling Systems</td>\n",
       "      <td>Electronic equipment</td>\n",
       "      <td>Rottenmann</td>\n",
       "      <td>1983</td>\n",
       "    </tr>\n",
       "    <tr>\n",
       "      <th>3</th>\n",
       "      <td>Ammerer Bed Company</td>\n",
       "      <td>Durable household products</td>\n",
       "      <td>Ried im Innkreis</td>\n",
       "      <td>1763</td>\n",
       "    </tr>\n",
       "    <tr>\n",
       "      <th>4</th>\n",
       "      <td>ams AG</td>\n",
       "      <td>Semiconductors</td>\n",
       "      <td>Premstätten</td>\n",
       "      <td>1981</td>\n",
       "    </tr>\n",
       "  </tbody>\n",
       "</table>\n",
       "</div>"
      ],
      "text/plain": [
       "                  name                      sector           country  founded\n",
       "0               Agrana               Food products            Vienna     1988\n",
       "1          pewag group        Industrial machinery        Klagenfurt     1479\n",
       "2  AHT Cooling Systems        Electronic equipment        Rottenmann     1983\n",
       "3  Ammerer Bed Company  Durable household products  Ried im Innkreis     1763\n",
       "4               ams AG              Semiconductors       Premstätten     1981"
      ]
     },
     "execution_count": 155,
     "metadata": {},
     "output_type": "execute_result"
    }
   ],
   "source": [
    "mps_wiki = mps_wiki.drop(to_drop, axis=1)\n",
    "to_rename = rename_columns(mps_wiki.columns)\n",
    "mps_wiki.columns = to_rename\n",
    "mps_wiki.founded = mps_wiki.founded.str.extract(r'([\\d]{4})')\n",
    "mps_wiki.founded = mps_wiki.founded.astype(object).astype('Int64')\n",
    "mps_wiki.head()"
   ]
  },
  {
   "cell_type": "code",
   "execution_count": 156,
   "metadata": {},
   "outputs": [],
   "source": [
    "cleaned_files.append(mps_wiki)"
   ]
  },
  {
   "cell_type": "markdown",
   "metadata": {},
   "source": [
    "## MarScoToc"
   ]
  },
  {
   "cell_type": "markdown",
   "metadata": {},
   "source": [
    "### MarScoToc-ambitionbox.com.csv"
   ]
  },
  {
   "cell_type": "code",
   "execution_count": 157,
   "metadata": {},
   "outputs": [
    {
     "data": {
      "text/plain": [
       "'src/datasets/MarScoToc-ambitionbox.com.csv'"
      ]
     },
     "execution_count": 157,
     "metadata": {},
     "output_type": "execute_result"
    }
   ],
   "source": [
    "files_list[21]"
   ]
  },
  {
   "cell_type": "code",
   "execution_count": 158,
   "metadata": {},
   "outputs": [
    {
     "data": {
      "text/html": [
       "<div>\n",
       "<style scoped>\n",
       "    .dataframe tbody tr th:only-of-type {\n",
       "        vertical-align: middle;\n",
       "    }\n",
       "\n",
       "    .dataframe tbody tr th {\n",
       "        vertical-align: top;\n",
       "    }\n",
       "\n",
       "    .dataframe thead th {\n",
       "        text-align: right;\n",
       "    }\n",
       "</style>\n",
       "<table border=\"1\" class=\"dataframe\">\n",
       "  <thead>\n",
       "    <tr style=\"text-align: right;\">\n",
       "      <th></th>\n",
       "      <th>Name</th>\n",
       "      <th>Industry</th>\n",
       "      <th>Headquarter</th>\n",
       "      <th>Ownership</th>\n",
       "      <th>Foundation Year</th>\n",
       "    </tr>\n",
       "  </thead>\n",
       "  <tbody>\n",
       "    <tr>\n",
       "      <th>0</th>\n",
       "      <td>TCS</td>\n",
       "      <td>IT Services &amp; Consulting</td>\n",
       "      <td>Mumbai, Maharashtra, India</td>\n",
       "      <td>Public</td>\n",
       "      <td>1968 (55 yrs old)</td>\n",
       "    </tr>\n",
       "    <tr>\n",
       "      <th>1</th>\n",
       "      <td>Accenture</td>\n",
       "      <td>IT Services &amp; Consulting</td>\n",
       "      <td>Dublin, Ireland</td>\n",
       "      <td>Public</td>\n",
       "      <td>1989 (34 yrs old)</td>\n",
       "    </tr>\n",
       "    <tr>\n",
       "      <th>2</th>\n",
       "      <td>Cognizant</td>\n",
       "      <td>IT Services &amp; Consulting</td>\n",
       "      <td>Teaneck. New Jersey., United States (USA)</td>\n",
       "      <td>Private</td>\n",
       "      <td>1994 (29 yrs old)</td>\n",
       "    </tr>\n",
       "    <tr>\n",
       "      <th>3</th>\n",
       "      <td>ICICI Bank</td>\n",
       "      <td>Banking</td>\n",
       "      <td>Mumbai, Maharashtra, India</td>\n",
       "      <td>Public</td>\n",
       "      <td>1994 (29 yrs old)</td>\n",
       "    </tr>\n",
       "    <tr>\n",
       "      <th>4</th>\n",
       "      <td>HDFC Bank</td>\n",
       "      <td>Banking</td>\n",
       "      <td>Mumbai, Maharashtra, India</td>\n",
       "      <td>Public</td>\n",
       "      <td>1994 (29 yrs old)</td>\n",
       "    </tr>\n",
       "  </tbody>\n",
       "</table>\n",
       "</div>"
      ],
      "text/plain": [
       "         Name                  Industry  \\\n",
       "0         TCS  IT Services & Consulting   \n",
       "1   Accenture  IT Services & Consulting   \n",
       "2   Cognizant  IT Services & Consulting   \n",
       "3  ICICI Bank                   Banking   \n",
       "4   HDFC Bank                   Banking   \n",
       "\n",
       "                                 Headquarter Ownership    Foundation Year  \n",
       "0                 Mumbai, Maharashtra, India    Public  1968 (55 yrs old)  \n",
       "1                            Dublin, Ireland    Public  1989 (34 yrs old)  \n",
       "2  Teaneck. New Jersey., United States (USA)   Private  1994 (29 yrs old)  \n",
       "3                 Mumbai, Maharashtra, India    Public  1994 (29 yrs old)  \n",
       "4                 Mumbai, Maharashtra, India    Public  1994 (29 yrs old)  "
      ]
     },
     "execution_count": 158,
     "metadata": {},
     "output_type": "execute_result"
    }
   ],
   "source": [
    "mst_ambition = pd.read_csv(files_list[21], encoding=\"utf-8\", encoding_errors=\"ignore\")\n",
    "mst_ambition.head()"
   ]
  },
  {
   "cell_type": "code",
   "execution_count": 159,
   "metadata": {},
   "outputs": [
    {
     "name": "stdout",
     "output_type": "stream",
     "text": [
      "Columns to remove:\n",
      "Ownership\n"
     ]
    }
   ],
   "source": [
    "to_drop, _ = columns_to_remove_not_remove(mst_ambition)"
   ]
  },
  {
   "cell_type": "code",
   "execution_count": 160,
   "metadata": {},
   "outputs": [
    {
     "name": "stdout",
     "output_type": "stream",
     "text": [
      "Columns to rename:\n",
      "Industry -> sector\n",
      "Headquarter -> country\n",
      "Foundation Year -> founded\n"
     ]
    }
   ],
   "source": [
    "mst_ambition = mst_ambition.drop(to_drop, axis=1)\n",
    "to_rename = rename_columns(mst_ambition.columns)\n",
    "mst_ambition.columns = to_rename"
   ]
  },
  {
   "cell_type": "code",
   "execution_count": 161,
   "metadata": {},
   "outputs": [
    {
     "data": {
      "text/html": [
       "<div>\n",
       "<style scoped>\n",
       "    .dataframe tbody tr th:only-of-type {\n",
       "        vertical-align: middle;\n",
       "    }\n",
       "\n",
       "    .dataframe tbody tr th {\n",
       "        vertical-align: top;\n",
       "    }\n",
       "\n",
       "    .dataframe thead th {\n",
       "        text-align: right;\n",
       "    }\n",
       "</style>\n",
       "<table border=\"1\" class=\"dataframe\">\n",
       "  <thead>\n",
       "    <tr style=\"text-align: right;\">\n",
       "      <th></th>\n",
       "      <th>name</th>\n",
       "      <th>sector</th>\n",
       "      <th>country</th>\n",
       "      <th>founded</th>\n",
       "    </tr>\n",
       "  </thead>\n",
       "  <tbody>\n",
       "    <tr>\n",
       "      <th>0</th>\n",
       "      <td>TCS</td>\n",
       "      <td>IT Services &amp; Consulting</td>\n",
       "      <td>India</td>\n",
       "      <td>1968</td>\n",
       "    </tr>\n",
       "    <tr>\n",
       "      <th>1</th>\n",
       "      <td>Accenture</td>\n",
       "      <td>IT Services &amp; Consulting</td>\n",
       "      <td>Ireland</td>\n",
       "      <td>1989</td>\n",
       "    </tr>\n",
       "    <tr>\n",
       "      <th>2</th>\n",
       "      <td>Cognizant</td>\n",
       "      <td>IT Services &amp; Consulting</td>\n",
       "      <td>United States (USA)</td>\n",
       "      <td>1994</td>\n",
       "    </tr>\n",
       "    <tr>\n",
       "      <th>3</th>\n",
       "      <td>ICICI Bank</td>\n",
       "      <td>Banking</td>\n",
       "      <td>India</td>\n",
       "      <td>1994</td>\n",
       "    </tr>\n",
       "    <tr>\n",
       "      <th>4</th>\n",
       "      <td>HDFC Bank</td>\n",
       "      <td>Banking</td>\n",
       "      <td>India</td>\n",
       "      <td>1994</td>\n",
       "    </tr>\n",
       "  </tbody>\n",
       "</table>\n",
       "</div>"
      ],
      "text/plain": [
       "         name                    sector               country  founded\n",
       "0         TCS  IT Services & Consulting                 India     1968\n",
       "1   Accenture  IT Services & Consulting               Ireland     1989\n",
       "2   Cognizant  IT Services & Consulting   United States (USA)     1994\n",
       "3  ICICI Bank                   Banking                 India     1994\n",
       "4   HDFC Bank                   Banking                 India     1994"
      ]
     },
     "execution_count": 161,
     "metadata": {},
     "output_type": "execute_result"
    }
   ],
   "source": [
    "mst_ambition.country = mst_ambition.country.apply(lambda x: str(x).split(',')[-1])\n",
    "mst_ambition.founded = mst_ambition.founded.str.extract(r'([\\d]{4})')\n",
    "mst_ambition = mst_ambition.replace('nan', np.nan)\n",
    "\n",
    "mst_ambition.founded = mst_ambition.founded.astype(object).astype('Int64')\n",
    "\n",
    "mst_ambition.head()"
   ]
  },
  {
   "cell_type": "code",
   "execution_count": 162,
   "metadata": {},
   "outputs": [],
   "source": [
    "cleaned_files.append(mst_ambition)"
   ]
  },
  {
   "cell_type": "markdown",
   "metadata": {},
   "source": [
    "### MarScoToc-companiesmarketcap.com.csv"
   ]
  },
  {
   "cell_type": "code",
   "execution_count": 163,
   "metadata": {},
   "outputs": [
    {
     "data": {
      "text/plain": [
       "'src/datasets/MarScoToc-companiesmarketcap.com.csv'"
      ]
     },
     "execution_count": 163,
     "metadata": {},
     "output_type": "execute_result"
    }
   ],
   "source": [
    "files_list[22]"
   ]
  },
  {
   "cell_type": "code",
   "execution_count": 164,
   "metadata": {},
   "outputs": [
    {
     "data": {
      "text/html": [
       "<div>\n",
       "<style scoped>\n",
       "    .dataframe tbody tr th:only-of-type {\n",
       "        vertical-align: middle;\n",
       "    }\n",
       "\n",
       "    .dataframe tbody tr th {\n",
       "        vertical-align: top;\n",
       "    }\n",
       "\n",
       "    .dataframe thead th {\n",
       "        text-align: right;\n",
       "    }\n",
       "</style>\n",
       "<table border=\"1\" class=\"dataframe\">\n",
       "  <thead>\n",
       "    <tr style=\"text-align: right;\">\n",
       "      <th></th>\n",
       "      <th>Name</th>\n",
       "      <th>Master Cap</th>\n",
       "      <th>Country</th>\n",
       "      <th>Rank</th>\n",
       "      <th>Share Price</th>\n",
       "    </tr>\n",
       "  </thead>\n",
       "  <tbody>\n",
       "    <tr>\n",
       "      <th>0</th>\n",
       "      <td>Apple</td>\n",
       "      <td>$2.183 T</td>\n",
       "      <td>USA</td>\n",
       "      <td>#1</td>\n",
       "      <td>$137.87</td>\n",
       "    </tr>\n",
       "    <tr>\n",
       "      <th>1</th>\n",
       "      <td>Saudi Aramco</td>\n",
       "      <td>$1.887 T</td>\n",
       "      <td>Saudi Arabia</td>\n",
       "      <td>#2</td>\n",
       "      <td>$8.58</td>\n",
       "    </tr>\n",
       "    <tr>\n",
       "      <th>2</th>\n",
       "      <td>Microsoft</td>\n",
       "      <td>$1.790 T</td>\n",
       "      <td>USA</td>\n",
       "      <td>#3</td>\n",
       "      <td>$240.22</td>\n",
       "    </tr>\n",
       "    <tr>\n",
       "      <th>3</th>\n",
       "      <td>Alphabet (Google)</td>\n",
       "      <td>$1.278 T</td>\n",
       "      <td>USA</td>\n",
       "      <td>#4</td>\n",
       "      <td>$99.28</td>\n",
       "    </tr>\n",
       "    <tr>\n",
       "      <th>4</th>\n",
       "      <td>Amazon</td>\n",
       "      <td>$992.11 B</td>\n",
       "      <td>USA</td>\n",
       "      <td>#5</td>\n",
       "      <td>$97.25</td>\n",
       "    </tr>\n",
       "  </tbody>\n",
       "</table>\n",
       "</div>"
      ],
      "text/plain": [
       "                Name Master Cap       Country Rank Share Price\n",
       "0              Apple   $2.183 T           USA   #1     $137.87\n",
       "1       Saudi Aramco   $1.887 T  Saudi Arabia   #2       $8.58\n",
       "2          Microsoft   $1.790 T           USA   #3     $240.22\n",
       "3  Alphabet (Google)   $1.278 T           USA   #4      $99.28\n",
       "4             Amazon  $992.11 B           USA   #5      $97.25"
      ]
     },
     "execution_count": 164,
     "metadata": {},
     "output_type": "execute_result"
    }
   ],
   "source": [
    "mst_companies = pd.read_csv(files_list[22], encoding=\"utf-8\", encoding_errors=\"ignore\")\n",
    "mst_companies.head()"
   ]
  },
  {
   "cell_type": "code",
   "execution_count": 165,
   "metadata": {},
   "outputs": [
    {
     "name": "stdout",
     "output_type": "stream",
     "text": [
      "Columns to remove:\n",
      "Rank\n",
      "Share Price\n"
     ]
    }
   ],
   "source": [
    "to_drop, _ = columns_to_remove_not_remove(mst_companies)"
   ]
  },
  {
   "cell_type": "code",
   "execution_count": 166,
   "metadata": {},
   "outputs": [
    {
     "name": "stdout",
     "output_type": "stream",
     "text": [
      "Columns to rename:\n",
      "Master Cap -> marketcap\n"
     ]
    }
   ],
   "source": [
    "mst_companies = mst_companies.drop(to_drop, axis=1)\n",
    "to_rename = rename_columns(mst_companies.columns)\n",
    "mst_companies.columns = to_rename"
   ]
  },
  {
   "cell_type": "code",
   "execution_count": 167,
   "metadata": {},
   "outputs": [
    {
     "data": {
      "text/html": [
       "<div>\n",
       "<style scoped>\n",
       "    .dataframe tbody tr th:only-of-type {\n",
       "        vertical-align: middle;\n",
       "    }\n",
       "\n",
       "    .dataframe tbody tr th {\n",
       "        vertical-align: top;\n",
       "    }\n",
       "\n",
       "    .dataframe thead th {\n",
       "        text-align: right;\n",
       "    }\n",
       "</style>\n",
       "<table border=\"1\" class=\"dataframe\">\n",
       "  <thead>\n",
       "    <tr style=\"text-align: right;\">\n",
       "      <th></th>\n",
       "      <th>name</th>\n",
       "      <th>marketcap</th>\n",
       "      <th>country</th>\n",
       "    </tr>\n",
       "  </thead>\n",
       "  <tbody>\n",
       "    <tr>\n",
       "      <th>0</th>\n",
       "      <td>Apple</td>\n",
       "      <td>2182999999999</td>\n",
       "      <td>USA</td>\n",
       "    </tr>\n",
       "    <tr>\n",
       "      <th>1</th>\n",
       "      <td>Saudi Aramco</td>\n",
       "      <td>1887000000000</td>\n",
       "      <td>Saudi Arabia</td>\n",
       "    </tr>\n",
       "    <tr>\n",
       "      <th>2</th>\n",
       "      <td>Microsoft</td>\n",
       "      <td>1790000000000</td>\n",
       "      <td>USA</td>\n",
       "    </tr>\n",
       "    <tr>\n",
       "      <th>3</th>\n",
       "      <td>Alphabet (Google)</td>\n",
       "      <td>1278000000000</td>\n",
       "      <td>USA</td>\n",
       "    </tr>\n",
       "    <tr>\n",
       "      <th>4</th>\n",
       "      <td>Amazon</td>\n",
       "      <td>992110000000</td>\n",
       "      <td>USA</td>\n",
       "    </tr>\n",
       "  </tbody>\n",
       "</table>\n",
       "</div>"
      ],
      "text/plain": [
       "                name      marketcap       country\n",
       "0              Apple  2182999999999           USA\n",
       "1       Saudi Aramco  1887000000000  Saudi Arabia\n",
       "2          Microsoft  1790000000000           USA\n",
       "3  Alphabet (Google)  1278000000000           USA\n",
       "4             Amazon   992110000000           USA"
      ]
     },
     "execution_count": 167,
     "metadata": {},
     "output_type": "execute_result"
    }
   ],
   "source": [
    "mst_companies.marketcap = mst_companies.marketcap.apply(lambda x: convert_market_cap_revenue(x) if pd.notnull(x) else x)\n",
    "mst_companies.marketcap = mst_companies.marketcap.astype(object).astype('Int64')\n",
    "mst_companies.head()"
   ]
  },
  {
   "cell_type": "code",
   "execution_count": 168,
   "metadata": {},
   "outputs": [],
   "source": [
    "cleaned_files.append(mst_companies)"
   ]
  },
  {
   "cell_type": "markdown",
   "metadata": {},
   "source": [
    "### MarScoToc-wikipedia.org.csv"
   ]
  },
  {
   "cell_type": "code",
   "execution_count": 169,
   "metadata": {},
   "outputs": [
    {
     "data": {
      "text/plain": [
       "'src/datasets/MarScoToc-wikipedia.org.csv'"
      ]
     },
     "execution_count": 169,
     "metadata": {},
     "output_type": "execute_result"
    }
   ],
   "source": [
    "files_list[24]"
   ]
  },
  {
   "cell_type": "code",
   "execution_count": 170,
   "metadata": {},
   "outputs": [
    {
     "data": {
      "text/html": [
       "<div>\n",
       "<style scoped>\n",
       "    .dataframe tbody tr th:only-of-type {\n",
       "        vertical-align: middle;\n",
       "    }\n",
       "\n",
       "    .dataframe tbody tr th {\n",
       "        vertical-align: top;\n",
       "    }\n",
       "\n",
       "    .dataframe thead th {\n",
       "        text-align: right;\n",
       "    }\n",
       "</style>\n",
       "<table border=\"1\" class=\"dataframe\">\n",
       "  <thead>\n",
       "    <tr style=\"text-align: right;\">\n",
       "      <th></th>\n",
       "      <th>Name</th>\n",
       "      <th>Industry</th>\n",
       "      <th>headQuarters</th>\n",
       "      <th>Founded</th>\n",
       "      <th>Area Served</th>\n",
       "    </tr>\n",
       "  </thead>\n",
       "  <tbody>\n",
       "    <tr>\n",
       "      <th>0</th>\n",
       "      <td>85C Bakery Cafe</td>\n",
       "      <td>Food and Beverage</td>\n",
       "      <td>Taipei</td>\n",
       "      <td>2004; 18 years ago (2004)</td>\n",
       "      <td>Worldwide</td>\n",
       "    </tr>\n",
       "    <tr>\n",
       "      <th>1</th>\n",
       "      <td>10.or</td>\n",
       "      <td>Smartphones</td>\n",
       "      <td>Taipei</td>\n",
       "      <td>2004; 18 years ago (2004)</td>\n",
       "      <td>Worldwide</td>\n",
       "    </tr>\n",
       "    <tr>\n",
       "      <th>2</th>\n",
       "      <td>2U (company)</td>\n",
       "      <td>Smartphones</td>\n",
       "      <td>Lanham, Maryland</td>\n",
       "      <td>2008; 14 years ago (2008)</td>\n",
       "      <td>Global</td>\n",
       "    </tr>\n",
       "    <tr>\n",
       "      <th>3</th>\n",
       "      <td>3i</td>\n",
       "      <td>Corporate finance</td>\n",
       "      <td>London</td>\n",
       "      <td>1945; 77 years ago (1945)</td>\n",
       "      <td>NaN</td>\n",
       "    </tr>\n",
       "    <tr>\n",
       "      <th>4</th>\n",
       "      <td>3M</td>\n",
       "      <td>Conglomerate</td>\n",
       "      <td>London</td>\n",
       "      <td>June 13, 1902; 120 years ago (1902-06-13) in T...</td>\n",
       "      <td>Worldwide</td>\n",
       "    </tr>\n",
       "  </tbody>\n",
       "</table>\n",
       "</div>"
      ],
      "text/plain": [
       "              Name           Industry      headQuarters  \\\n",
       "0  85C Bakery Cafe  Food and Beverage            Taipei   \n",
       "1            10.or        Smartphones            Taipei   \n",
       "2     2U (company)        Smartphones  Lanham, Maryland   \n",
       "3               3i  Corporate finance            London   \n",
       "4               3M       Conglomerate            London   \n",
       "\n",
       "                                             Founded Area Served  \n",
       "0                          2004; 18 years ago (2004)   Worldwide  \n",
       "1                          2004; 18 years ago (2004)   Worldwide  \n",
       "2                          2008; 14 years ago (2008)      Global  \n",
       "3                          1945; 77 years ago (1945)         NaN  \n",
       "4  June 13, 1902; 120 years ago (1902-06-13) in T...   Worldwide  "
      ]
     },
     "execution_count": 170,
     "metadata": {},
     "output_type": "execute_result"
    }
   ],
   "source": [
    "mst_wiki = pd.read_csv(files_list[24], encoding=\"utf-8\", encoding_errors=\"ignore\")\n",
    "mst_wiki.head()"
   ]
  },
  {
   "cell_type": "code",
   "execution_count": 171,
   "metadata": {},
   "outputs": [
    {
     "name": "stdout",
     "output_type": "stream",
     "text": [
      "Columns to remove:\n",
      "Area Served\n"
     ]
    }
   ],
   "source": [
    "to_drop, _ = columns_to_remove_not_remove(mst_wiki)"
   ]
  },
  {
   "cell_type": "code",
   "execution_count": 172,
   "metadata": {},
   "outputs": [
    {
     "name": "stdout",
     "output_type": "stream",
     "text": [
      "Columns to rename:\n",
      "Industry -> sector\n",
      "headQuarters -> country\n"
     ]
    }
   ],
   "source": [
    "mst_wiki = mst_wiki.drop(to_drop, axis=1)\n",
    "to_rename = rename_columns(mst_wiki.columns)\n",
    "mst_wiki.columns = to_rename"
   ]
  },
  {
   "cell_type": "code",
   "execution_count": 173,
   "metadata": {},
   "outputs": [
    {
     "data": {
      "text/html": [
       "<div>\n",
       "<style scoped>\n",
       "    .dataframe tbody tr th:only-of-type {\n",
       "        vertical-align: middle;\n",
       "    }\n",
       "\n",
       "    .dataframe tbody tr th {\n",
       "        vertical-align: top;\n",
       "    }\n",
       "\n",
       "    .dataframe thead th {\n",
       "        text-align: right;\n",
       "    }\n",
       "</style>\n",
       "<table border=\"1\" class=\"dataframe\">\n",
       "  <thead>\n",
       "    <tr style=\"text-align: right;\">\n",
       "      <th></th>\n",
       "      <th>name</th>\n",
       "      <th>sector</th>\n",
       "      <th>country</th>\n",
       "      <th>founded</th>\n",
       "    </tr>\n",
       "  </thead>\n",
       "  <tbody>\n",
       "    <tr>\n",
       "      <th>0</th>\n",
       "      <td>85C Bakery Cafe</td>\n",
       "      <td>Food and Beverage</td>\n",
       "      <td>Taipei</td>\n",
       "      <td>2004</td>\n",
       "    </tr>\n",
       "    <tr>\n",
       "      <th>1</th>\n",
       "      <td>10.or</td>\n",
       "      <td>Smartphones</td>\n",
       "      <td>Taipei</td>\n",
       "      <td>2004</td>\n",
       "    </tr>\n",
       "    <tr>\n",
       "      <th>2</th>\n",
       "      <td>2U (company)</td>\n",
       "      <td>Smartphones</td>\n",
       "      <td>Maryland</td>\n",
       "      <td>2008</td>\n",
       "    </tr>\n",
       "    <tr>\n",
       "      <th>3</th>\n",
       "      <td>3i</td>\n",
       "      <td>Corporate finance</td>\n",
       "      <td>London</td>\n",
       "      <td>1945</td>\n",
       "    </tr>\n",
       "    <tr>\n",
       "      <th>4</th>\n",
       "      <td>3M</td>\n",
       "      <td>Conglomerate</td>\n",
       "      <td>London</td>\n",
       "      <td>1902</td>\n",
       "    </tr>\n",
       "  </tbody>\n",
       "</table>\n",
       "</div>"
      ],
      "text/plain": [
       "              name             sector    country  founded\n",
       "0  85C Bakery Cafe  Food and Beverage     Taipei     2004\n",
       "1            10.or        Smartphones     Taipei     2004\n",
       "2     2U (company)        Smartphones   Maryland     2008\n",
       "3               3i  Corporate finance     London     1945\n",
       "4               3M       Conglomerate     London     1902"
      ]
     },
     "execution_count": 173,
     "metadata": {},
     "output_type": "execute_result"
    }
   ],
   "source": [
    "mst_wiki.country = mst_wiki.country.apply(lambda x: str(x).split(',')[-1])\n",
    "mst_wiki.founded = mst_wiki.founded.str.extract(r'([\\d]{4})')\n",
    "mst_wiki = mst_wiki.replace('nan', np.nan)\n",
    "\n",
    "mst_wiki.founded = mst_wiki.founded.astype(object).astype('Int64')\n",
    "\n",
    "mst_wiki.head()"
   ]
  },
  {
   "cell_type": "code",
   "execution_count": 174,
   "metadata": {},
   "outputs": [],
   "source": [
    "cleaned_files.append(mst_wiki)"
   ]
  },
  {
   "cell_type": "markdown",
   "metadata": {},
   "source": [
    "## avengers"
   ]
  },
  {
   "cell_type": "markdown",
   "metadata": {},
   "source": [
    "### avengers-companiesmarketcap.jsonl"
   ]
  },
  {
   "cell_type": "code",
   "execution_count": 175,
   "metadata": {},
   "outputs": [
    {
     "data": {
      "text/plain": [
       "'src/datasets/avengers-companiesmarketcap.jsonl'"
      ]
     },
     "execution_count": 175,
     "metadata": {},
     "output_type": "execute_result"
    }
   ],
   "source": [
    "files_list[25]"
   ]
  },
  {
   "cell_type": "code",
   "execution_count": 176,
   "metadata": {},
   "outputs": [
    {
     "data": {
      "text/html": [
       "<div>\n",
       "<style scoped>\n",
       "    .dataframe tbody tr th:only-of-type {\n",
       "        vertical-align: middle;\n",
       "    }\n",
       "\n",
       "    .dataframe tbody tr th {\n",
       "        vertical-align: top;\n",
       "    }\n",
       "\n",
       "    .dataframe thead th {\n",
       "        text-align: right;\n",
       "    }\n",
       "</style>\n",
       "<table border=\"1\" class=\"dataframe\">\n",
       "  <thead>\n",
       "    <tr style=\"text-align: right;\">\n",
       "      <th></th>\n",
       "      <th>id</th>\n",
       "      <th>name</th>\n",
       "      <th>rank</th>\n",
       "      <th>market_cap</th>\n",
       "      <th>country</th>\n",
       "      <th>share_price</th>\n",
       "      <th>change_1_day</th>\n",
       "      <th>change_1_year</th>\n",
       "      <th>categories</th>\n",
       "    </tr>\n",
       "  </thead>\n",
       "  <tbody>\n",
       "    <tr>\n",
       "      <th>0</th>\n",
       "      <td>1aeb78c70807445290795f145210a39e</td>\n",
       "      <td>Apple</td>\n",
       "      <td>1</td>\n",
       "      <td>$2.351 T</td>\n",
       "      <td>USA</td>\n",
       "      <td>$147.81</td>\n",
       "      <td>-0.34%</td>\n",
       "      <td>-9.74%</td>\n",
       "      <td>[Tech, Software, Dow jones, Tech Hardware, Ele...</td>\n",
       "    </tr>\n",
       "    <tr>\n",
       "      <th>1</th>\n",
       "      <td>8443bd488b2543718e4dab19e7d1b371</td>\n",
       "      <td>Bristol-myers Squibb</td>\n",
       "      <td>57</td>\n",
       "      <td>$172.49 B</td>\n",
       "      <td>USA</td>\n",
       "      <td>$81.13</td>\n",
       "      <td>0.31%</td>\n",
       "      <td>46.42%</td>\n",
       "      <td>[Pharmaceuticals, Biotech]</td>\n",
       "    </tr>\n",
       "    <tr>\n",
       "      <th>2</th>\n",
       "      <td>d35ff63680a645f986048ab48d2fe322</td>\n",
       "      <td>Wells Fargo</td>\n",
       "      <td>56</td>\n",
       "      <td>$175.05 B</td>\n",
       "      <td>USA</td>\n",
       "      <td>$45.94</td>\n",
       "      <td>-1.98%</td>\n",
       "      <td>-6.07%</td>\n",
       "      <td>[Banks, Financial services]</td>\n",
       "    </tr>\n",
       "    <tr>\n",
       "      <th>3</th>\n",
       "      <td>0664af11c7b9417bab58542ffa880c0e</td>\n",
       "      <td>Nike</td>\n",
       "      <td>55</td>\n",
       "      <td>$175.54 B</td>\n",
       "      <td>USA</td>\n",
       "      <td>$112.20</td>\n",
       "      <td>1.29%</td>\n",
       "      <td>-34.00%</td>\n",
       "      <td>[Sports goods, Footwear, Dow jones, Clothing]</td>\n",
       "    </tr>\n",
       "    <tr>\n",
       "      <th>4</th>\n",
       "      <td>4a67737ea89e450b8e8677a91e90327f</td>\n",
       "      <td>Walt Disney</td>\n",
       "      <td>54</td>\n",
       "      <td>$177.08 B</td>\n",
       "      <td>USA</td>\n",
       "      <td>$99.43</td>\n",
       "      <td>0.85%</td>\n",
       "      <td>-32.45%</td>\n",
       "      <td>[Entertainment, Dow jones]</td>\n",
       "    </tr>\n",
       "  </tbody>\n",
       "</table>\n",
       "</div>"
      ],
      "text/plain": [
       "                                 id                  name  rank market_cap  \\\n",
       "0  1aeb78c70807445290795f145210a39e                 Apple     1   $2.351 T   \n",
       "1  8443bd488b2543718e4dab19e7d1b371  Bristol-myers Squibb    57  $172.49 B   \n",
       "2  d35ff63680a645f986048ab48d2fe322           Wells Fargo    56  $175.05 B   \n",
       "3  0664af11c7b9417bab58542ffa880c0e                  Nike    55  $175.54 B   \n",
       "4  4a67737ea89e450b8e8677a91e90327f           Walt Disney    54  $177.08 B   \n",
       "\n",
       "  country share_price change_1_day change_1_year  \\\n",
       "0     USA     $147.81       -0.34%        -9.74%   \n",
       "1     USA      $81.13        0.31%        46.42%   \n",
       "2     USA      $45.94       -1.98%        -6.07%   \n",
       "3     USA     $112.20        1.29%       -34.00%   \n",
       "4     USA      $99.43        0.85%       -32.45%   \n",
       "\n",
       "                                          categories  \n",
       "0  [Tech, Software, Dow jones, Tech Hardware, Ele...  \n",
       "1                         [Pharmaceuticals, Biotech]  \n",
       "2                        [Banks, Financial services]  \n",
       "3      [Sports goods, Footwear, Dow jones, Clothing]  \n",
       "4                         [Entertainment, Dow jones]  "
      ]
     },
     "execution_count": 176,
     "metadata": {},
     "output_type": "execute_result"
    }
   ],
   "source": [
    "avengers_companies = pd.read_json(files_list[25], lines=True)\n",
    "avengers_companies.head()"
   ]
  },
  {
   "cell_type": "code",
   "execution_count": 177,
   "metadata": {},
   "outputs": [
    {
     "name": "stdout",
     "output_type": "stream",
     "text": [
      "Columns to remove:\n",
      "id\n",
      "rank\n",
      "share_price\n",
      "change_1_day\n",
      "change_1_year\n"
     ]
    }
   ],
   "source": [
    "to_drop, _ = columns_to_remove_not_remove(avengers_companies)"
   ]
  },
  {
   "cell_type": "code",
   "execution_count": 178,
   "metadata": {},
   "outputs": [
    {
     "name": "stdout",
     "output_type": "stream",
     "text": [
      "Columns to rename:\n",
      "market_cap -> marketcap\n",
      "categories -> sector\n"
     ]
    }
   ],
   "source": [
    "avengers_companies = avengers_companies.drop(to_drop, axis=1)\n",
    "to_rename = rename_columns(avengers_companies.columns)\n",
    "avengers_companies.columns = to_rename"
   ]
  },
  {
   "cell_type": "code",
   "execution_count": 179,
   "metadata": {},
   "outputs": [
    {
     "data": {
      "text/html": [
       "<div>\n",
       "<style scoped>\n",
       "    .dataframe tbody tr th:only-of-type {\n",
       "        vertical-align: middle;\n",
       "    }\n",
       "\n",
       "    .dataframe tbody tr th {\n",
       "        vertical-align: top;\n",
       "    }\n",
       "\n",
       "    .dataframe thead th {\n",
       "        text-align: right;\n",
       "    }\n",
       "</style>\n",
       "<table border=\"1\" class=\"dataframe\">\n",
       "  <thead>\n",
       "    <tr style=\"text-align: right;\">\n",
       "      <th></th>\n",
       "      <th>name</th>\n",
       "      <th>marketcap</th>\n",
       "      <th>country</th>\n",
       "      <th>sector</th>\n",
       "    </tr>\n",
       "  </thead>\n",
       "  <tbody>\n",
       "    <tr>\n",
       "      <th>0</th>\n",
       "      <td>Apple</td>\n",
       "      <td>2351000000000</td>\n",
       "      <td>USA</td>\n",
       "      <td>[Tech, Software, Dow jones, Tech Hardware, Ele...</td>\n",
       "    </tr>\n",
       "    <tr>\n",
       "      <th>1</th>\n",
       "      <td>Bristol-myers Squibb</td>\n",
       "      <td>172490000000</td>\n",
       "      <td>USA</td>\n",
       "      <td>[Pharmaceuticals, Biotech]</td>\n",
       "    </tr>\n",
       "    <tr>\n",
       "      <th>2</th>\n",
       "      <td>Wells Fargo</td>\n",
       "      <td>175050000000</td>\n",
       "      <td>USA</td>\n",
       "      <td>[Banks, Financial services]</td>\n",
       "    </tr>\n",
       "    <tr>\n",
       "      <th>3</th>\n",
       "      <td>Nike</td>\n",
       "      <td>175540000000</td>\n",
       "      <td>USA</td>\n",
       "      <td>[Sports goods, Footwear, Dow jones, Clothing]</td>\n",
       "    </tr>\n",
       "    <tr>\n",
       "      <th>4</th>\n",
       "      <td>Walt Disney</td>\n",
       "      <td>177080000000</td>\n",
       "      <td>USA</td>\n",
       "      <td>[Entertainment, Dow jones]</td>\n",
       "    </tr>\n",
       "  </tbody>\n",
       "</table>\n",
       "</div>"
      ],
      "text/plain": [
       "                   name      marketcap country  \\\n",
       "0                 Apple  2351000000000     USA   \n",
       "1  Bristol-myers Squibb   172490000000     USA   \n",
       "2           Wells Fargo   175050000000     USA   \n",
       "3                  Nike   175540000000     USA   \n",
       "4           Walt Disney   177080000000     USA   \n",
       "\n",
       "                                              sector  \n",
       "0  [Tech, Software, Dow jones, Tech Hardware, Ele...  \n",
       "1                         [Pharmaceuticals, Biotech]  \n",
       "2                        [Banks, Financial services]  \n",
       "3      [Sports goods, Footwear, Dow jones, Clothing]  \n",
       "4                         [Entertainment, Dow jones]  "
      ]
     },
     "execution_count": 179,
     "metadata": {},
     "output_type": "execute_result"
    }
   ],
   "source": [
    "avengers_companies.marketcap = avengers_companies.marketcap.apply(lambda x: convert_market_cap_revenue(x) if pd.notnull(x) else x)\n",
    "avengers_companies.marketcap = avengers_companies.marketcap.astype(object).astype('Int64')\n",
    "avengers_companies.head()"
   ]
  },
  {
   "cell_type": "code",
   "execution_count": 180,
   "metadata": {},
   "outputs": [],
   "source": [
    "cleaned_files.append(avengers_companies)"
   ]
  },
  {
   "cell_type": "markdown",
   "metadata": {},
   "source": [
    "### avengers-disfold.jsonl"
   ]
  },
  {
   "cell_type": "code",
   "execution_count": 181,
   "metadata": {},
   "outputs": [
    {
     "data": {
      "text/plain": [
       "'src/datasets/avengers-disfold.jsonl'"
      ]
     },
     "execution_count": 181,
     "metadata": {},
     "output_type": "execute_result"
    }
   ],
   "source": [
    "files_list[26]"
   ]
  },
  {
   "cell_type": "code",
   "execution_count": 182,
   "metadata": {},
   "outputs": [
    {
     "data": {
      "text/html": [
       "<div>\n",
       "<style scoped>\n",
       "    .dataframe tbody tr th:only-of-type {\n",
       "        vertical-align: middle;\n",
       "    }\n",
       "\n",
       "    .dataframe tbody tr th {\n",
       "        vertical-align: top;\n",
       "    }\n",
       "\n",
       "    .dataframe thead th {\n",
       "        text-align: right;\n",
       "    }\n",
       "</style>\n",
       "<table border=\"1\" class=\"dataframe\">\n",
       "  <thead>\n",
       "    <tr style=\"text-align: right;\">\n",
       "      <th></th>\n",
       "      <th>id</th>\n",
       "      <th>name</th>\n",
       "      <th>official_name</th>\n",
       "      <th>headquarters_country</th>\n",
       "      <th>headquarters_continent</th>\n",
       "      <th>founded</th>\n",
       "      <th>employees</th>\n",
       "      <th>ceo</th>\n",
       "      <th>market_cap</th>\n",
       "      <th>categories</th>\n",
       "      <th>gbp</th>\n",
       "    </tr>\n",
       "  </thead>\n",
       "  <tbody>\n",
       "    <tr>\n",
       "      <th>0</th>\n",
       "      <td>1e4dfb844d5a47e39c14699648cbd55a</td>\n",
       "      <td>Apple</td>\n",
       "      <td>Apple Inc.</td>\n",
       "      <td>Cupertino</td>\n",
       "      <td>CA</td>\n",
       "      <td>April 1, 1976</td>\n",
       "      <td>100,000</td>\n",
       "      <td>Mr. Timothy D. Cook</td>\n",
       "      <td>$2.825 Trillion</td>\n",
       "      <td>[UnitedStates, Technology, ConsumerElectronics...</td>\n",
       "      <td>NaN</td>\n",
       "    </tr>\n",
       "    <tr>\n",
       "      <th>1</th>\n",
       "      <td>031f69c6c7fd49d89b00ecdfcd294bad</td>\n",
       "      <td>Danaher</td>\n",
       "      <td>Danaher Corporation</td>\n",
       "      <td>Washington</td>\n",
       "      <td>DC</td>\n",
       "      <td>1969</td>\n",
       "      <td>78,000</td>\n",
       "      <td>Mr. Rainer M. Blair</td>\n",
       "      <td>$208.03 Billion</td>\n",
       "      <td>[UnitedStates, Healthcare, Diagnostics&amp;Researc...</td>\n",
       "      <td>NaN</td>\n",
       "    </tr>\n",
       "    <tr>\n",
       "      <th>2</th>\n",
       "      <td>8acd1acfe59d4fc88c28038c9d3e8911</td>\n",
       "      <td>Merck</td>\n",
       "      <td>Merck &amp; Co., Inc.</td>\n",
       "      <td>Kenilworth</td>\n",
       "      <td>NJ</td>\n",
       "      <td>1891</td>\n",
       "      <td>67,000</td>\n",
       "      <td>Mr. Robert M. Davis J.D.</td>\n",
       "      <td>$210.38 Billion</td>\n",
       "      <td>[UnitedStates, Healthcare, DrugManufacturers—G...</td>\n",
       "      <td>NaN</td>\n",
       "    </tr>\n",
       "    <tr>\n",
       "      <th>3</th>\n",
       "      <td>ba6efa594766439dafb4045f0b25a23a</td>\n",
       "      <td>Bhp</td>\n",
       "      <td>BHP Group</td>\n",
       "      <td>Melbourne</td>\n",
       "      <td>VIC</td>\n",
       "      <td>1885</td>\n",
       "      <td>40,110</td>\n",
       "      <td>Mr. Mike P. Henry B.Sc., BSc (Chem)</td>\n",
       "      <td>A$281.66 Billion</td>\n",
       "      <td>[Australia, BasicMaterials, OtherIndustrialMet...</td>\n",
       "      <td>$211.25 Billion</td>\n",
       "    </tr>\n",
       "    <tr>\n",
       "      <th>4</th>\n",
       "      <td>83d47a2c8bd545cf80c17abfa6d81cf9</td>\n",
       "      <td>Nike</td>\n",
       "      <td>Nike, Inc.</td>\n",
       "      <td>Beaverton</td>\n",
       "      <td>OR</td>\n",
       "      <td>January 25, 1964</td>\n",
       "      <td>73,300</td>\n",
       "      <td>Mr. John J. Donahoe II</td>\n",
       "      <td>$213.60 Billion</td>\n",
       "      <td>[UnitedStates, ConsumerDiscretionary, Footwear...</td>\n",
       "      <td>NaN</td>\n",
       "    </tr>\n",
       "  </tbody>\n",
       "</table>\n",
       "</div>"
      ],
      "text/plain": [
       "                                 id     name        official_name  \\\n",
       "0  1e4dfb844d5a47e39c14699648cbd55a    Apple           Apple Inc.   \n",
       "1  031f69c6c7fd49d89b00ecdfcd294bad  Danaher  Danaher Corporation   \n",
       "2  8acd1acfe59d4fc88c28038c9d3e8911    Merck    Merck & Co., Inc.   \n",
       "3  ba6efa594766439dafb4045f0b25a23a      Bhp            BHP Group   \n",
       "4  83d47a2c8bd545cf80c17abfa6d81cf9     Nike           Nike, Inc.   \n",
       "\n",
       "  headquarters_country headquarters_continent           founded employees  \\\n",
       "0            Cupertino                     CA     April 1, 1976   100,000   \n",
       "1           Washington                     DC              1969    78,000   \n",
       "2           Kenilworth                     NJ              1891    67,000   \n",
       "3            Melbourne                    VIC              1885    40,110   \n",
       "4            Beaverton                     OR  January 25, 1964    73,300   \n",
       "\n",
       "                                   ceo        market_cap  \\\n",
       "0                  Mr. Timothy D. Cook   $2.825 Trillion   \n",
       "1                  Mr. Rainer M. Blair   $208.03 Billion   \n",
       "2             Mr. Robert M. Davis J.D.   $210.38 Billion   \n",
       "3  Mr. Mike P. Henry B.Sc., BSc (Chem)  A$281.66 Billion   \n",
       "4               Mr. John J. Donahoe II   $213.60 Billion   \n",
       "\n",
       "                                          categories              gbp  \n",
       "0  [UnitedStates, Technology, ConsumerElectronics...              NaN  \n",
       "1  [UnitedStates, Healthcare, Diagnostics&Researc...              NaN  \n",
       "2  [UnitedStates, Healthcare, DrugManufacturers—G...              NaN  \n",
       "3  [Australia, BasicMaterials, OtherIndustrialMet...  $211.25 Billion  \n",
       "4  [UnitedStates, ConsumerDiscretionary, Footwear...              NaN  "
      ]
     },
     "execution_count": 182,
     "metadata": {},
     "output_type": "execute_result"
    }
   ],
   "source": [
    "avengers_disfold = pd.read_json(files_list[26], lines=True)\n",
    "avengers_disfold.head()"
   ]
  },
  {
   "cell_type": "code",
   "execution_count": 183,
   "metadata": {},
   "outputs": [],
   "source": [
    "avengers_disfold.gbp = avengers_disfold.gbp.fillna(avengers_disfold.market_cap)"
   ]
  },
  {
   "cell_type": "code",
   "execution_count": 184,
   "metadata": {},
   "outputs": [
    {
     "name": "stdout",
     "output_type": "stream",
     "text": [
      "Columns to remove:\n",
      "id\n",
      "official_name\n",
      "headquarters_continent\n"
     ]
    }
   ],
   "source": [
    "to_drop, _ = columns_to_remove_not_remove(avengers_disfold)\n",
    "to_drop.append(\"market_cap\")"
   ]
  },
  {
   "cell_type": "code",
   "execution_count": 185,
   "metadata": {},
   "outputs": [
    {
     "name": "stdout",
     "output_type": "stream",
     "text": [
      "Columns to rename:\n",
      "headquarters_country -> country\n",
      "categories -> sector\n",
      "gbp -> marketcap\n"
     ]
    }
   ],
   "source": [
    "avengers_disfold = avengers_disfold.drop(to_drop, axis=1)\n",
    "to_rename = rename_columns(avengers_disfold.columns)\n",
    "avengers_disfold.columns = to_rename"
   ]
  },
  {
   "cell_type": "code",
   "execution_count": 186,
   "metadata": {},
   "outputs": [
    {
     "data": {
      "text/html": [
       "<div>\n",
       "<style scoped>\n",
       "    .dataframe tbody tr th:only-of-type {\n",
       "        vertical-align: middle;\n",
       "    }\n",
       "\n",
       "    .dataframe tbody tr th {\n",
       "        vertical-align: top;\n",
       "    }\n",
       "\n",
       "    .dataframe thead th {\n",
       "        text-align: right;\n",
       "    }\n",
       "</style>\n",
       "<table border=\"1\" class=\"dataframe\">\n",
       "  <thead>\n",
       "    <tr style=\"text-align: right;\">\n",
       "      <th></th>\n",
       "      <th>name</th>\n",
       "      <th>country</th>\n",
       "      <th>founded</th>\n",
       "      <th>employees</th>\n",
       "      <th>ceo</th>\n",
       "      <th>sector</th>\n",
       "      <th>marketcap</th>\n",
       "    </tr>\n",
       "  </thead>\n",
       "  <tbody>\n",
       "    <tr>\n",
       "      <th>0</th>\n",
       "      <td>Apple</td>\n",
       "      <td>Cupertino</td>\n",
       "      <td>1976</td>\n",
       "      <td>100000</td>\n",
       "      <td>Mr. Timothy D. Cook</td>\n",
       "      <td>[UnitedStates, Technology, ConsumerElectronics...</td>\n",
       "      <td>2825000000000</td>\n",
       "    </tr>\n",
       "    <tr>\n",
       "      <th>1</th>\n",
       "      <td>Danaher</td>\n",
       "      <td>Washington</td>\n",
       "      <td>1969</td>\n",
       "      <td>78000</td>\n",
       "      <td>Mr. Rainer M. Blair</td>\n",
       "      <td>[UnitedStates, Healthcare, Diagnostics&amp;Researc...</td>\n",
       "      <td>208030000000</td>\n",
       "    </tr>\n",
       "    <tr>\n",
       "      <th>2</th>\n",
       "      <td>Merck</td>\n",
       "      <td>Kenilworth</td>\n",
       "      <td>1891</td>\n",
       "      <td>67000</td>\n",
       "      <td>Mr. Robert M. Davis J.D.</td>\n",
       "      <td>[UnitedStates, Healthcare, DrugManufacturers—G...</td>\n",
       "      <td>210380000000</td>\n",
       "    </tr>\n",
       "    <tr>\n",
       "      <th>3</th>\n",
       "      <td>Bhp</td>\n",
       "      <td>Melbourne</td>\n",
       "      <td>1885</td>\n",
       "      <td>40110</td>\n",
       "      <td>Mr. Mike P. Henry B.Sc., BSc (Chem)</td>\n",
       "      <td>[Australia, BasicMaterials, OtherIndustrialMet...</td>\n",
       "      <td>211250000000</td>\n",
       "    </tr>\n",
       "    <tr>\n",
       "      <th>4</th>\n",
       "      <td>Nike</td>\n",
       "      <td>Beaverton</td>\n",
       "      <td>1964</td>\n",
       "      <td>73300</td>\n",
       "      <td>Mr. John J. Donahoe II</td>\n",
       "      <td>[UnitedStates, ConsumerDiscretionary, Footwear...</td>\n",
       "      <td>213600000000</td>\n",
       "    </tr>\n",
       "  </tbody>\n",
       "</table>\n",
       "</div>"
      ],
      "text/plain": [
       "      name     country  founded  employees  \\\n",
       "0    Apple   Cupertino     1976     100000   \n",
       "1  Danaher  Washington     1969      78000   \n",
       "2    Merck  Kenilworth     1891      67000   \n",
       "3      Bhp   Melbourne     1885      40110   \n",
       "4     Nike   Beaverton     1964      73300   \n",
       "\n",
       "                                   ceo  \\\n",
       "0                  Mr. Timothy D. Cook   \n",
       "1                  Mr. Rainer M. Blair   \n",
       "2             Mr. Robert M. Davis J.D.   \n",
       "3  Mr. Mike P. Henry B.Sc., BSc (Chem)   \n",
       "4               Mr. John J. Donahoe II   \n",
       "\n",
       "                                              sector      marketcap  \n",
       "0  [UnitedStates, Technology, ConsumerElectronics...  2825000000000  \n",
       "1  [UnitedStates, Healthcare, Diagnostics&Researc...   208030000000  \n",
       "2  [UnitedStates, Healthcare, DrugManufacturers—G...   210380000000  \n",
       "3  [Australia, BasicMaterials, OtherIndustrialMet...   211250000000  \n",
       "4  [UnitedStates, ConsumerDiscretionary, Footwear...   213600000000  "
      ]
     },
     "execution_count": 186,
     "metadata": {},
     "output_type": "execute_result"
    }
   ],
   "source": [
    "avengers_disfold.employees = avengers_disfold.employees.apply(lambda x: str(x).replace(',', ''))\n",
    "avengers_disfold.founded = avengers_disfold.founded.str.extract(r'([\\d]{4})')\n",
    "avengers_disfold.marketcap = avengers_disfold.marketcap.apply(lambda x: convert_market_cap_revenue(x) if pd.notnull(x) else x)\n",
    "\n",
    "avengers_disfold = avengers_disfold.replace('nan', np.nan)\n",
    "\n",
    "avengers_disfold.marketcap = avengers_disfold.marketcap.astype(object).astype('Int64')\n",
    "avengers_disfold.employees = avengers_disfold.employees.astype(object).astype('Int64')\n",
    "avengers_disfold.founded = avengers_disfold.founded.astype(object).astype('Int64')\n",
    "avengers_disfold.head()"
   ]
  },
  {
   "cell_type": "code",
   "execution_count": 187,
   "metadata": {},
   "outputs": [],
   "source": [
    "cleaned_files.append(avengers_disfold)"
   ]
  },
  {
   "cell_type": "markdown",
   "metadata": {},
   "source": [
    "### avengers-hithorizons.jsonl"
   ]
  },
  {
   "cell_type": "code",
   "execution_count": 188,
   "metadata": {},
   "outputs": [
    {
     "data": {
      "text/plain": [
       "'src/datasets/avengers-hithorizons.jsonl'"
      ]
     },
     "execution_count": 188,
     "metadata": {},
     "output_type": "execute_result"
    }
   ],
   "source": [
    "files_list[27]"
   ]
  },
  {
   "cell_type": "code",
   "execution_count": 189,
   "metadata": {},
   "outputs": [
    {
     "data": {
      "text/html": [
       "<div>\n",
       "<style scoped>\n",
       "    .dataframe tbody tr th:only-of-type {\n",
       "        vertical-align: middle;\n",
       "    }\n",
       "\n",
       "    .dataframe tbody tr th {\n",
       "        vertical-align: top;\n",
       "    }\n",
       "\n",
       "    .dataframe thead th {\n",
       "        text-align: right;\n",
       "    }\n",
       "</style>\n",
       "<table border=\"1\" class=\"dataframe\">\n",
       "  <thead>\n",
       "    <tr style=\"text-align: right;\">\n",
       "      <th></th>\n",
       "      <th>id</th>\n",
       "      <th>name</th>\n",
       "      <th>address</th>\n",
       "      <th>nation</th>\n",
       "      <th>hhid</th>\n",
       "      <th>industry</th>\n",
       "      <th>sic_code</th>\n",
       "      <th>type</th>\n",
       "      <th>est_of_ownership</th>\n",
       "    </tr>\n",
       "  </thead>\n",
       "  <tbody>\n",
       "    <tr>\n",
       "      <th>0</th>\n",
       "      <td>d60823f20d864692b517a8ad6c1418ed</td>\n",
       "      <td>Enel Spa</td>\n",
       "      <td>VIALE REGINA MARGHERITA 137, ROMA, 00198, ROMA...</td>\n",
       "      <td>IT00934061003</td>\n",
       "      <td>H-IT0031426662</td>\n",
       "      <td>Finance, Insurance, and Real Estate</td>\n",
       "      <td>Holding company (6719)</td>\n",
       "      <td>Corporation</td>\n",
       "      <td>1962</td>\n",
       "    </tr>\n",
       "    <tr>\n",
       "      <th>1</th>\n",
       "      <td>c7856532ca8b4dd286a9602c77221035</td>\n",
       "      <td>Esselunga Spa</td>\n",
       "      <td>VIA GIAMBOLOGNA 1, PIOLTELLO, 20096, MILANO, I...</td>\n",
       "      <td>IT04916380159</td>\n",
       "      <td>H-IT0068388950</td>\n",
       "      <td>Retail Trade</td>\n",
       "      <td>Ret mail-order house (5961)</td>\n",
       "      <td>Corporation</td>\n",
       "      <td>1957</td>\n",
       "    </tr>\n",
       "    <tr>\n",
       "      <th>2</th>\n",
       "      <td>e8e04ae3e4594e3b836e62077155b19a</td>\n",
       "      <td>Superit Srl</td>\n",
       "      <td>VIA VITTOR PISANI 20, MILANO, 20124, MILANO, I...</td>\n",
       "      <td>IT11068950960</td>\n",
       "      <td>H-IT0289899385</td>\n",
       "      <td>Finance, Insurance, and Real Estate</td>\n",
       "      <td>Holding company (6719)</td>\n",
       "      <td>Corporation</td>\n",
       "      <td>2019</td>\n",
       "    </tr>\n",
       "    <tr>\n",
       "      <th>3</th>\n",
       "      <td>37290f39faa54935813c0c6f840d7353</td>\n",
       "      <td>Saras Spa</td>\n",
       "      <td>GALLERIA PASSARELLA 2, MILANO, 20122, MILANO, ...</td>\n",
       "      <td>IT00136440922</td>\n",
       "      <td>H-IT0018414451</td>\n",
       "      <td>Manufacturing</td>\n",
       "      <td>Petroleum refiner (2911)</td>\n",
       "      <td>Corporation</td>\n",
       "      <td>1962</td>\n",
       "    </tr>\n",
       "    <tr>\n",
       "      <th>4</th>\n",
       "      <td>bb3a80a40f704c688f804f627667fd31</td>\n",
       "      <td>Unicredit Spa</td>\n",
       "      <td>PIAZZA GAE AULENTI 3 TOWER A, MILANO, 20154, M...</td>\n",
       "      <td>IT00348170101</td>\n",
       "      <td>H-IT0009571558</td>\n",
       "      <td>Finance, Insurance, and Real Estate</td>\n",
       "      <td>National commercial bank (6021)</td>\n",
       "      <td>Corporation</td>\n",
       "      <td>1870</td>\n",
       "    </tr>\n",
       "  </tbody>\n",
       "</table>\n",
       "</div>"
      ],
      "text/plain": [
       "                                 id           name  \\\n",
       "0  d60823f20d864692b517a8ad6c1418ed       Enel Spa   \n",
       "1  c7856532ca8b4dd286a9602c77221035  Esselunga Spa   \n",
       "2  e8e04ae3e4594e3b836e62077155b19a    Superit Srl   \n",
       "3  37290f39faa54935813c0c6f840d7353      Saras Spa   \n",
       "4  bb3a80a40f704c688f804f627667fd31  Unicredit Spa   \n",
       "\n",
       "                                             address         nation  \\\n",
       "0  VIALE REGINA MARGHERITA 137, ROMA, 00198, ROMA...  IT00934061003   \n",
       "1  VIA GIAMBOLOGNA 1, PIOLTELLO, 20096, MILANO, I...  IT04916380159   \n",
       "2  VIA VITTOR PISANI 20, MILANO, 20124, MILANO, I...  IT11068950960   \n",
       "3  GALLERIA PASSARELLA 2, MILANO, 20122, MILANO, ...  IT00136440922   \n",
       "4  PIAZZA GAE AULENTI 3 TOWER A, MILANO, 20154, M...  IT00348170101   \n",
       "\n",
       "             hhid                             industry  \\\n",
       "0  H-IT0031426662  Finance, Insurance, and Real Estate   \n",
       "1  H-IT0068388950                         Retail Trade   \n",
       "2  H-IT0289899385  Finance, Insurance, and Real Estate   \n",
       "3  H-IT0018414451                        Manufacturing   \n",
       "4  H-IT0009571558  Finance, Insurance, and Real Estate   \n",
       "\n",
       "                          sic_code         type  est_of_ownership  \n",
       "0           Holding company (6719)  Corporation              1962  \n",
       "1      Ret mail-order house (5961)  Corporation              1957  \n",
       "2           Holding company (6719)  Corporation              2019  \n",
       "3         Petroleum refiner (2911)  Corporation              1962  \n",
       "4  National commercial bank (6021)  Corporation              1870  "
      ]
     },
     "execution_count": 189,
     "metadata": {},
     "output_type": "execute_result"
    }
   ],
   "source": [
    "avengers_hit = pd.read_json(files_list[27], lines=True)\n",
    "avengers_hit.head()"
   ]
  },
  {
   "cell_type": "code",
   "execution_count": 190,
   "metadata": {},
   "outputs": [
    {
     "name": "stdout",
     "output_type": "stream",
     "text": [
      "Columns to remove:\n",
      "id\n",
      "nation\n",
      "hhid\n",
      "sic_code\n",
      "type\n"
     ]
    }
   ],
   "source": [
    "to_drop, _ = columns_to_remove_not_remove(avengers_hit)"
   ]
  },
  {
   "cell_type": "code",
   "execution_count": 191,
   "metadata": {},
   "outputs": [
    {
     "name": "stdout",
     "output_type": "stream",
     "text": [
      "Columns to rename:\n",
      "address -> country\n",
      "industry -> sector\n",
      "est_of_ownership -> founded\n"
     ]
    }
   ],
   "source": [
    "avengers_hit = avengers_hit.drop(to_drop, axis=1)\n",
    "to_rename = rename_columns(avengers_hit.columns)\n",
    "avengers_hit.columns = to_rename"
   ]
  },
  {
   "cell_type": "code",
   "execution_count": 192,
   "metadata": {},
   "outputs": [
    {
     "data": {
      "text/html": [
       "<div>\n",
       "<style scoped>\n",
       "    .dataframe tbody tr th:only-of-type {\n",
       "        vertical-align: middle;\n",
       "    }\n",
       "\n",
       "    .dataframe tbody tr th {\n",
       "        vertical-align: top;\n",
       "    }\n",
       "\n",
       "    .dataframe thead th {\n",
       "        text-align: right;\n",
       "    }\n",
       "</style>\n",
       "<table border=\"1\" class=\"dataframe\">\n",
       "  <thead>\n",
       "    <tr style=\"text-align: right;\">\n",
       "      <th></th>\n",
       "      <th>name</th>\n",
       "      <th>country</th>\n",
       "      <th>sector</th>\n",
       "      <th>founded</th>\n",
       "    </tr>\n",
       "  </thead>\n",
       "  <tbody>\n",
       "    <tr>\n",
       "      <th>0</th>\n",
       "      <td>Enel Spa</td>\n",
       "      <td>ITALY</td>\n",
       "      <td>Finance, Insurance, and Real Estate</td>\n",
       "      <td>1962</td>\n",
       "    </tr>\n",
       "    <tr>\n",
       "      <th>1</th>\n",
       "      <td>Esselunga Spa</td>\n",
       "      <td>ITALY</td>\n",
       "      <td>Retail Trade</td>\n",
       "      <td>1957</td>\n",
       "    </tr>\n",
       "    <tr>\n",
       "      <th>2</th>\n",
       "      <td>Superit Srl</td>\n",
       "      <td>ITALY</td>\n",
       "      <td>Finance, Insurance, and Real Estate</td>\n",
       "      <td>2019</td>\n",
       "    </tr>\n",
       "    <tr>\n",
       "      <th>3</th>\n",
       "      <td>Saras Spa</td>\n",
       "      <td>ITALY</td>\n",
       "      <td>Manufacturing</td>\n",
       "      <td>1962</td>\n",
       "    </tr>\n",
       "    <tr>\n",
       "      <th>4</th>\n",
       "      <td>Unicredit Spa</td>\n",
       "      <td>ITALY</td>\n",
       "      <td>Finance, Insurance, and Real Estate</td>\n",
       "      <td>1870</td>\n",
       "    </tr>\n",
       "  </tbody>\n",
       "</table>\n",
       "</div>"
      ],
      "text/plain": [
       "            name country                               sector  founded\n",
       "0       Enel Spa   ITALY  Finance, Insurance, and Real Estate     1962\n",
       "1  Esselunga Spa   ITALY                         Retail Trade     1957\n",
       "2    Superit Srl   ITALY  Finance, Insurance, and Real Estate     2019\n",
       "3      Saras Spa   ITALY                        Manufacturing     1962\n",
       "4  Unicredit Spa   ITALY  Finance, Insurance, and Real Estate     1870"
      ]
     },
     "execution_count": 192,
     "metadata": {},
     "output_type": "execute_result"
    }
   ],
   "source": [
    "avengers_hit.country = avengers_hit.country.apply(lambda x: str(x).split(',', 5)[-1])\n",
    "avengers_hit.founded = avengers_hit.founded.astype(object).astype('Int64')\n",
    "\n",
    "avengers_hit.head()"
   ]
  },
  {
   "cell_type": "code",
   "execution_count": 193,
   "metadata": {},
   "outputs": [],
   "source": [
    "cleaned_files.append(avengers_hit)"
   ]
  },
  {
   "cell_type": "markdown",
   "metadata": {},
   "source": [
    "### avengers-valuetoday.jsonl"
   ]
  },
  {
   "cell_type": "code",
   "execution_count": 194,
   "metadata": {},
   "outputs": [
    {
     "data": {
      "text/plain": [
       "'src/datasets/avengers-valuetoday.jsonl'"
      ]
     },
     "execution_count": 194,
     "metadata": {},
     "output_type": "execute_result"
    }
   ],
   "source": [
    "files_list[28]"
   ]
  },
  {
   "cell_type": "code",
   "execution_count": 195,
   "metadata": {},
   "outputs": [
    {
     "data": {
      "text/html": [
       "<div>\n",
       "<style scoped>\n",
       "    .dataframe tbody tr th:only-of-type {\n",
       "        vertical-align: middle;\n",
       "    }\n",
       "\n",
       "    .dataframe tbody tr th {\n",
       "        vertical-align: top;\n",
       "    }\n",
       "\n",
       "    .dataframe thead th {\n",
       "        text-align: right;\n",
       "    }\n",
       "</style>\n",
       "<table border=\"1\" class=\"dataframe\">\n",
       "  <thead>\n",
       "    <tr style=\"text-align: right;\">\n",
       "      <th></th>\n",
       "      <th>id</th>\n",
       "      <th>name</th>\n",
       "      <th>world_rank</th>\n",
       "      <th>annual_revenue_in_usd</th>\n",
       "      <th>annual_net_income_in_usd</th>\n",
       "      <th>annual_results_for_year_ending</th>\n",
       "      <th>total_assets_in_usd</th>\n",
       "      <th>total_liabilities_in_usd</th>\n",
       "      <th>total_equity_in_usd</th>\n",
       "      <th>headquarters_region_city</th>\n",
       "      <th>headquarters_country</th>\n",
       "      <th>headquarters_sub_region</th>\n",
       "      <th>headquarters_continent</th>\n",
       "      <th>company_business</th>\n",
       "      <th>number_of_employees</th>\n",
       "      <th>ceo</th>\n",
       "      <th>founders</th>\n",
       "      <th>company_website</th>\n",
       "    </tr>\n",
       "  </thead>\n",
       "  <tbody>\n",
       "    <tr>\n",
       "      <th>0</th>\n",
       "      <td>b9a098214d1a4ce1acc834cf17aef660</td>\n",
       "      <td>Apple</td>\n",
       "      <td>1</td>\n",
       "      <td>394,330 Million USD</td>\n",
       "      <td>99,803 Million USD</td>\n",
       "      <td>Sep-2022</td>\n",
       "      <td>352,760 Million USD</td>\n",
       "      <td>302,080 Million USD</td>\n",
       "      <td>50,672 Million USD</td>\n",
       "      <td>California</td>\n",
       "      <td>USA</td>\n",
       "      <td>Northern America</td>\n",
       "      <td>Americas</td>\n",
       "      <td>[Technology, Mobiles &amp; Accessories, Electronic...</td>\n",
       "      <td>154,000</td>\n",
       "      <td>Tim Cook</td>\n",
       "      <td>[Steve Jobs, Steve Wozniak, Ronald Wayne]</td>\n",
       "      <td>https://www.apple.com/</td>\n",
       "    </tr>\n",
       "    <tr>\n",
       "      <th>1</th>\n",
       "      <td>42f1b7d5a40343de9837fc75d74767c3</td>\n",
       "      <td>Taiwan Semiconductor Manufacturing Company (tsmc)</td>\n",
       "      <td>10</td>\n",
       "      <td>55,306 Million USD</td>\n",
       "      <td>20,783 Million USD</td>\n",
       "      <td>Dec-2021</td>\n",
       "      <td>129,800 Million USD</td>\n",
       "      <td>54,253 Million USD</td>\n",
       "      <td>75,543 Million USD</td>\n",
       "      <td>Hsinchu</td>\n",
       "      <td>Taiwan</td>\n",
       "      <td>South East Asia</td>\n",
       "      <td>Asia</td>\n",
       "      <td>[Technology, Semiconductors, Electronics, Tech...</td>\n",
       "      <td>65,152</td>\n",
       "      <td>C. C. Wei</td>\n",
       "      <td>Morris Chang</td>\n",
       "      <td>https://www.tsmc.com/</td>\n",
       "    </tr>\n",
       "    <tr>\n",
       "      <th>2</th>\n",
       "      <td>85fa8c7dfbb447d898002cb3cfb2fffd</td>\n",
       "      <td>Nvidia Corporation</td>\n",
       "      <td>9</td>\n",
       "      <td>26,914 Million USD</td>\n",
       "      <td>9,752 Million USD</td>\n",
       "      <td>For Year Ending  JAN-2022</td>\n",
       "      <td>44,187 Million USD</td>\n",
       "      <td>17,575 Million USD</td>\n",
       "      <td>26,612 Million USD</td>\n",
       "      <td>California</td>\n",
       "      <td>USA</td>\n",
       "      <td>Northern America</td>\n",
       "      <td>Americas</td>\n",
       "      <td>[Technology, Semiconductors, Electronics, Tech...</td>\n",
       "      <td>18,975</td>\n",
       "      <td>Jensen Huang</td>\n",
       "      <td>[Jensen Huang, Chris Malachowsky, Curtis Priem]</td>\n",
       "      <td>http://www.nvidia.com/</td>\n",
       "    </tr>\n",
       "    <tr>\n",
       "      <th>3</th>\n",
       "      <td>6b52bb9b50924235b1003c74bb8db227</td>\n",
       "      <td>Berkshire Hathaway</td>\n",
       "      <td>8</td>\n",
       "      <td>354,640 Million USD</td>\n",
       "      <td>89,795 Million USD</td>\n",
       "      <td>For Year ending Dec-2021</td>\n",
       "      <td>956,780 Million USD</td>\n",
       "      <td>443,850 Million USD</td>\n",
       "      <td>514,930 Million USD</td>\n",
       "      <td>Nebraska</td>\n",
       "      <td>USA</td>\n",
       "      <td>Northern America</td>\n",
       "      <td>Americas</td>\n",
       "      <td>[Financial Services, Investments, Insurance]</td>\n",
       "      <td>372,000</td>\n",
       "      <td>Warren Buffett</td>\n",
       "      <td>Oliver Chace</td>\n",
       "      <td>https://www.berkshirehathaway.com/</td>\n",
       "    </tr>\n",
       "    <tr>\n",
       "      <th>4</th>\n",
       "      <td>d10c3bd4fe924f138454b6f0583de7a1</td>\n",
       "      <td>Meta Platforms</td>\n",
       "      <td>7</td>\n",
       "      <td>117,930 Million USD</td>\n",
       "      <td>39,370 Million USD</td>\n",
       "      <td>Dec-2021</td>\n",
       "      <td>165,990 Million USD</td>\n",
       "      <td>41,108 Million USD</td>\n",
       "      <td>124,880 Million USD</td>\n",
       "      <td>California</td>\n",
       "      <td>USA</td>\n",
       "      <td>Northern America</td>\n",
       "      <td>Americas</td>\n",
       "      <td>[Communication Services, Internet or Mobile Ap...</td>\n",
       "      <td>77,805</td>\n",
       "      <td>Mark Zuckerberg</td>\n",
       "      <td>[Mark Zuckerberg, Andrew McCollum, Eduardo Sav...</td>\n",
       "      <td>https://www.facebook.com/</td>\n",
       "    </tr>\n",
       "  </tbody>\n",
       "</table>\n",
       "</div>"
      ],
      "text/plain": [
       "                                 id  \\\n",
       "0  b9a098214d1a4ce1acc834cf17aef660   \n",
       "1  42f1b7d5a40343de9837fc75d74767c3   \n",
       "2  85fa8c7dfbb447d898002cb3cfb2fffd   \n",
       "3  6b52bb9b50924235b1003c74bb8db227   \n",
       "4  d10c3bd4fe924f138454b6f0583de7a1   \n",
       "\n",
       "                                                name world_rank  \\\n",
       "0                                              Apple          1   \n",
       "1  Taiwan Semiconductor Manufacturing Company (tsmc)         10   \n",
       "2                                 Nvidia Corporation          9   \n",
       "3                                 Berkshire Hathaway          8   \n",
       "4                                     Meta Platforms          7   \n",
       "\n",
       "  annual_revenue_in_usd annual_net_income_in_usd  \\\n",
       "0   394,330 Million USD       99,803 Million USD   \n",
       "1    55,306 Million USD       20,783 Million USD   \n",
       "2    26,914 Million USD        9,752 Million USD   \n",
       "3   354,640 Million USD       89,795 Million USD   \n",
       "4   117,930 Million USD       39,370 Million USD   \n",
       "\n",
       "  annual_results_for_year_ending  total_assets_in_usd  \\\n",
       "0                       Sep-2022  352,760 Million USD   \n",
       "1                       Dec-2021  129,800 Million USD   \n",
       "2      For Year Ending  JAN-2022   44,187 Million USD   \n",
       "3       For Year ending Dec-2021  956,780 Million USD   \n",
       "4                       Dec-2021  165,990 Million USD   \n",
       "\n",
       "  total_liabilities_in_usd  total_equity_in_usd headquarters_region_city  \\\n",
       "0      302,080 Million USD   50,672 Million USD               California   \n",
       "1       54,253 Million USD   75,543 Million USD                  Hsinchu   \n",
       "2       17,575 Million USD   26,612 Million USD               California   \n",
       "3      443,850 Million USD  514,930 Million USD                 Nebraska   \n",
       "4       41,108 Million USD  124,880 Million USD               California   \n",
       "\n",
       "  headquarters_country headquarters_sub_region headquarters_continent  \\\n",
       "0                  USA        Northern America               Americas   \n",
       "1               Taiwan         South East Asia                   Asia   \n",
       "2                  USA        Northern America               Americas   \n",
       "3                  USA        Northern America               Americas   \n",
       "4                  USA        Northern America               Americas   \n",
       "\n",
       "                                    company_business number_of_employees  \\\n",
       "0  [Technology, Mobiles & Accessories, Electronic...             154,000   \n",
       "1  [Technology, Semiconductors, Electronics, Tech...              65,152   \n",
       "2  [Technology, Semiconductors, Electronics, Tech...              18,975   \n",
       "3       [Financial Services, Investments, Insurance]             372,000   \n",
       "4  [Communication Services, Internet or Mobile Ap...              77,805   \n",
       "\n",
       "               ceo                                           founders  \\\n",
       "0         Tim Cook          [Steve Jobs, Steve Wozniak, Ronald Wayne]   \n",
       "1        C. C. Wei                                       Morris Chang   \n",
       "2     Jensen Huang    [Jensen Huang, Chris Malachowsky, Curtis Priem]   \n",
       "3   Warren Buffett                                       Oliver Chace   \n",
       "4  Mark Zuckerberg  [Mark Zuckerberg, Andrew McCollum, Eduardo Sav...   \n",
       "\n",
       "                      company_website  \n",
       "0              https://www.apple.com/  \n",
       "1               https://www.tsmc.com/  \n",
       "2              http://www.nvidia.com/  \n",
       "3  https://www.berkshirehathaway.com/  \n",
       "4           https://www.facebook.com/  "
      ]
     },
     "execution_count": 195,
     "metadata": {},
     "output_type": "execute_result"
    }
   ],
   "source": [
    "avengers_value = pd.read_json(files_list[28], lines=True)\n",
    "avengers_value.head()"
   ]
  },
  {
   "cell_type": "code",
   "execution_count": 196,
   "metadata": {},
   "outputs": [
    {
     "name": "stdout",
     "output_type": "stream",
     "text": [
      "Columns to remove:\n",
      "id\n",
      "world_rank\n",
      "annual_net_income_in_usd\n",
      "annual_results_for_year_ending\n",
      "total_assets_in_usd\n",
      "total_liabilities_in_usd\n",
      "total_equity_in_usd\n",
      "headquarters_region_city\n",
      "headquarters_sub_region\n",
      "headquarters_continent\n",
      "founders\n"
     ]
    }
   ],
   "source": [
    "to_drop, _ = columns_to_remove_not_remove(avengers_value)"
   ]
  },
  {
   "cell_type": "code",
   "execution_count": 197,
   "metadata": {},
   "outputs": [
    {
     "name": "stdout",
     "output_type": "stream",
     "text": [
      "Columns to rename:\n",
      "annual_revenue_in_usd -> revenue\n",
      "headquarters_country -> country\n",
      "company_business -> sector\n",
      "number_of_employees -> employees\n",
      "company_website -> links\n"
     ]
    }
   ],
   "source": [
    "avengers_value = avengers_value.drop(to_drop, axis=1)\n",
    "to_rename = rename_columns(avengers_value.columns)\n",
    "avengers_value.columns = to_rename"
   ]
  },
  {
   "cell_type": "code",
   "execution_count": 198,
   "metadata": {},
   "outputs": [
    {
     "data": {
      "text/html": [
       "<div>\n",
       "<style scoped>\n",
       "    .dataframe tbody tr th:only-of-type {\n",
       "        vertical-align: middle;\n",
       "    }\n",
       "\n",
       "    .dataframe tbody tr th {\n",
       "        vertical-align: top;\n",
       "    }\n",
       "\n",
       "    .dataframe thead th {\n",
       "        text-align: right;\n",
       "    }\n",
       "</style>\n",
       "<table border=\"1\" class=\"dataframe\">\n",
       "  <thead>\n",
       "    <tr style=\"text-align: right;\">\n",
       "      <th></th>\n",
       "      <th>name</th>\n",
       "      <th>revenue</th>\n",
       "      <th>country</th>\n",
       "      <th>sector</th>\n",
       "      <th>employees</th>\n",
       "      <th>ceo</th>\n",
       "      <th>links</th>\n",
       "    </tr>\n",
       "  </thead>\n",
       "  <tbody>\n",
       "    <tr>\n",
       "      <th>0</th>\n",
       "      <td>Apple</td>\n",
       "      <td>394330000</td>\n",
       "      <td>USA</td>\n",
       "      <td>[Technology, Mobiles &amp; Accessories, Electronic...</td>\n",
       "      <td>154000</td>\n",
       "      <td>Tim Cook</td>\n",
       "      <td>https://www.apple.com/</td>\n",
       "    </tr>\n",
       "    <tr>\n",
       "      <th>1</th>\n",
       "      <td>Taiwan Semiconductor Manufacturing Company (tsmc)</td>\n",
       "      <td>55306000</td>\n",
       "      <td>Taiwan</td>\n",
       "      <td>[Technology, Semiconductors, Electronics, Tech...</td>\n",
       "      <td>65152</td>\n",
       "      <td>C. C. Wei</td>\n",
       "      <td>https://www.tsmc.com/</td>\n",
       "    </tr>\n",
       "    <tr>\n",
       "      <th>2</th>\n",
       "      <td>Nvidia Corporation</td>\n",
       "      <td>26914000</td>\n",
       "      <td>USA</td>\n",
       "      <td>[Technology, Semiconductors, Electronics, Tech...</td>\n",
       "      <td>18975</td>\n",
       "      <td>Jensen Huang</td>\n",
       "      <td>http://www.nvidia.com/</td>\n",
       "    </tr>\n",
       "    <tr>\n",
       "      <th>3</th>\n",
       "      <td>Berkshire Hathaway</td>\n",
       "      <td>354640000</td>\n",
       "      <td>USA</td>\n",
       "      <td>[Financial Services, Investments, Insurance]</td>\n",
       "      <td>372000</td>\n",
       "      <td>Warren Buffett</td>\n",
       "      <td>https://www.berkshirehathaway.com/</td>\n",
       "    </tr>\n",
       "    <tr>\n",
       "      <th>4</th>\n",
       "      <td>Meta Platforms</td>\n",
       "      <td>117930000</td>\n",
       "      <td>USA</td>\n",
       "      <td>[Communication Services, Internet or Mobile Ap...</td>\n",
       "      <td>77805</td>\n",
       "      <td>Mark Zuckerberg</td>\n",
       "      <td>https://www.facebook.com/</td>\n",
       "    </tr>\n",
       "  </tbody>\n",
       "</table>\n",
       "</div>"
      ],
      "text/plain": [
       "                                                name    revenue country  \\\n",
       "0                                              Apple  394330000     USA   \n",
       "1  Taiwan Semiconductor Manufacturing Company (tsmc)   55306000  Taiwan   \n",
       "2                                 Nvidia Corporation   26914000     USA   \n",
       "3                                 Berkshire Hathaway  354640000     USA   \n",
       "4                                     Meta Platforms  117930000     USA   \n",
       "\n",
       "                                              sector  employees  \\\n",
       "0  [Technology, Mobiles & Accessories, Electronic...     154000   \n",
       "1  [Technology, Semiconductors, Electronics, Tech...      65152   \n",
       "2  [Technology, Semiconductors, Electronics, Tech...      18975   \n",
       "3       [Financial Services, Investments, Insurance]     372000   \n",
       "4  [Communication Services, Internet or Mobile Ap...      77805   \n",
       "\n",
       "               ceo                               links  \n",
       "0         Tim Cook              https://www.apple.com/  \n",
       "1        C. C. Wei               https://www.tsmc.com/  \n",
       "2     Jensen Huang              http://www.nvidia.com/  \n",
       "3   Warren Buffett  https://www.berkshirehathaway.com/  \n",
       "4  Mark Zuckerberg           https://www.facebook.com/  "
      ]
     },
     "execution_count": 198,
     "metadata": {},
     "output_type": "execute_result"
    }
   ],
   "source": [
    "avengers_value.employees = avengers_value.employees.apply(lambda x: str(x).replace(',', ''))\n",
    "avengers_value.revenue = avengers_value.revenue.apply(lambda x: convert_market_cap_revenue(x.replace(',', '.')) if pd.notnull(x) else x)\n",
    "\n",
    "avengers_value = avengers_value.replace('nan', np.nan)\n",
    "\n",
    "avengers_value.employees = avengers_value.employees.astype(object).astype('Int64')\n",
    "avengers_value.revenue = avengers_value.revenue.astype(object).astype('Int64')\n",
    "avengers_value.head()"
   ]
  },
  {
   "cell_type": "code",
   "execution_count": 199,
   "metadata": {},
   "outputs": [],
   "source": [
    "cleaned_files.append(avengers_value)"
   ]
  },
  {
   "cell_type": "markdown",
   "metadata": {},
   "source": [
    "## gren"
   ]
  },
  {
   "cell_type": "markdown",
   "metadata": {},
   "source": [
    "### gren-companiesmarketcap.com.json"
   ]
  },
  {
   "cell_type": "code",
   "execution_count": 200,
   "metadata": {},
   "outputs": [
    {
     "data": {
      "text/plain": [
       "'src/datasets/gren-companiesmarketcap.com.json'"
      ]
     },
     "execution_count": 200,
     "metadata": {},
     "output_type": "execute_result"
    }
   ],
   "source": [
    "files_list[29]"
   ]
  },
  {
   "cell_type": "code",
   "execution_count": 201,
   "metadata": {},
   "outputs": [
    {
     "data": {
      "text/html": [
       "<div>\n",
       "<style scoped>\n",
       "    .dataframe tbody tr th:only-of-type {\n",
       "        vertical-align: middle;\n",
       "    }\n",
       "\n",
       "    .dataframe tbody tr th {\n",
       "        vertical-align: top;\n",
       "    }\n",
       "\n",
       "    .dataframe thead th {\n",
       "        text-align: right;\n",
       "    }\n",
       "</style>\n",
       "<table border=\"1\" class=\"dataframe\">\n",
       "  <thead>\n",
       "    <tr style=\"text-align: right;\">\n",
       "      <th></th>\n",
       "      <th>name</th>\n",
       "      <th>market_capitalization_USD</th>\n",
       "      <th>price</th>\n",
       "      <th>country</th>\n",
       "    </tr>\n",
       "  </thead>\n",
       "  <tbody>\n",
       "    <tr>\n",
       "      <th>0</th>\n",
       "      <td>Apple</td>\n",
       "      <td>2062000000000</td>\n",
       "      <td>130</td>\n",
       "      <td>USA</td>\n",
       "    </tr>\n",
       "    <tr>\n",
       "      <th>1</th>\n",
       "      <td>Saudi Aramco</td>\n",
       "      <td>1848000000000</td>\n",
       "      <td>8</td>\n",
       "      <td>S. Arabia</td>\n",
       "    </tr>\n",
       "    <tr>\n",
       "      <th>2</th>\n",
       "      <td>Microsoft</td>\n",
       "      <td>1676000000000</td>\n",
       "      <td>225</td>\n",
       "      <td>USA</td>\n",
       "    </tr>\n",
       "    <tr>\n",
       "      <th>3</th>\n",
       "      <td>Alphabet (Google)</td>\n",
       "      <td>1137000000000</td>\n",
       "      <td>88</td>\n",
       "      <td>USA</td>\n",
       "    </tr>\n",
       "    <tr>\n",
       "      <th>4</th>\n",
       "      <td>Amazon</td>\n",
       "      <td>878160000000</td>\n",
       "      <td>86</td>\n",
       "      <td>USA</td>\n",
       "    </tr>\n",
       "  </tbody>\n",
       "</table>\n",
       "</div>"
      ],
      "text/plain": [
       "                name market_capitalization_USD price    country\n",
       "0              Apple             2062000000000   130        USA\n",
       "1       Saudi Aramco             1848000000000     8  S. Arabia\n",
       "2          Microsoft             1676000000000   225        USA\n",
       "3  Alphabet (Google)             1137000000000    88        USA\n",
       "4             Amazon              878160000000    86        USA"
      ]
     },
     "execution_count": 201,
     "metadata": {},
     "output_type": "execute_result"
    }
   ],
   "source": [
    "gren_companies = pd.read_json(files_list[29])\n",
    "gren_companies.head()"
   ]
  },
  {
   "cell_type": "code",
   "execution_count": 202,
   "metadata": {},
   "outputs": [
    {
     "name": "stdout",
     "output_type": "stream",
     "text": [
      "Columns to remove:\n",
      "price\n"
     ]
    }
   ],
   "source": [
    "to_drop, _ = columns_to_remove_not_remove(gren_companies)"
   ]
  },
  {
   "cell_type": "code",
   "execution_count": 203,
   "metadata": {},
   "outputs": [
    {
     "name": "stdout",
     "output_type": "stream",
     "text": [
      "Columns to rename:\n",
      "market_capitalization_USD -> marketcap\n"
     ]
    },
    {
     "data": {
      "text/html": [
       "<div>\n",
       "<style scoped>\n",
       "    .dataframe tbody tr th:only-of-type {\n",
       "        vertical-align: middle;\n",
       "    }\n",
       "\n",
       "    .dataframe tbody tr th {\n",
       "        vertical-align: top;\n",
       "    }\n",
       "\n",
       "    .dataframe thead th {\n",
       "        text-align: right;\n",
       "    }\n",
       "</style>\n",
       "<table border=\"1\" class=\"dataframe\">\n",
       "  <thead>\n",
       "    <tr style=\"text-align: right;\">\n",
       "      <th></th>\n",
       "      <th>name</th>\n",
       "      <th>marketcap</th>\n",
       "      <th>country</th>\n",
       "    </tr>\n",
       "  </thead>\n",
       "  <tbody>\n",
       "    <tr>\n",
       "      <th>0</th>\n",
       "      <td>Apple</td>\n",
       "      <td>2062000000000</td>\n",
       "      <td>USA</td>\n",
       "    </tr>\n",
       "    <tr>\n",
       "      <th>1</th>\n",
       "      <td>Saudi Aramco</td>\n",
       "      <td>1848000000000</td>\n",
       "      <td>S. Arabia</td>\n",
       "    </tr>\n",
       "    <tr>\n",
       "      <th>2</th>\n",
       "      <td>Microsoft</td>\n",
       "      <td>1676000000000</td>\n",
       "      <td>USA</td>\n",
       "    </tr>\n",
       "    <tr>\n",
       "      <th>3</th>\n",
       "      <td>Alphabet (Google)</td>\n",
       "      <td>1137000000000</td>\n",
       "      <td>USA</td>\n",
       "    </tr>\n",
       "    <tr>\n",
       "      <th>4</th>\n",
       "      <td>Amazon</td>\n",
       "      <td>878160000000</td>\n",
       "      <td>USA</td>\n",
       "    </tr>\n",
       "  </tbody>\n",
       "</table>\n",
       "</div>"
      ],
      "text/plain": [
       "                name      marketcap    country\n",
       "0              Apple  2062000000000        USA\n",
       "1       Saudi Aramco  1848000000000  S. Arabia\n",
       "2          Microsoft  1676000000000        USA\n",
       "3  Alphabet (Google)  1137000000000        USA\n",
       "4             Amazon   878160000000        USA"
      ]
     },
     "execution_count": 203,
     "metadata": {},
     "output_type": "execute_result"
    }
   ],
   "source": [
    "gren_companies = gren_companies.drop(to_drop, axis=1)\n",
    "to_rename = rename_columns(gren_companies.columns)\n",
    "gren_companies.columns = to_rename\n",
    "gren_companies = gren_companies.replace('', np.nan)\n",
    "gren_companies.marketcap = gren_companies.marketcap.astype(object).astype('Int64')\n",
    "gren_companies.head()"
   ]
  },
  {
   "cell_type": "code",
   "execution_count": 204,
   "metadata": {},
   "outputs": [],
   "source": [
    "cleaned_files.append(gren_companies)"
   ]
  },
  {
   "cell_type": "markdown",
   "metadata": {},
   "source": [
    "### gren-disfold.com.json"
   ]
  },
  {
   "cell_type": "code",
   "execution_count": 205,
   "metadata": {},
   "outputs": [
    {
     "data": {
      "text/plain": [
       "'src/datasets/gren-disfold.com.json'"
      ]
     },
     "execution_count": 205,
     "metadata": {},
     "output_type": "execute_result"
    }
   ],
   "source": [
    "files_list[30]"
   ]
  },
  {
   "cell_type": "code",
   "execution_count": 206,
   "metadata": {},
   "outputs": [
    {
     "data": {
      "text/html": [
       "<div>\n",
       "<style scoped>\n",
       "    .dataframe tbody tr th:only-of-type {\n",
       "        vertical-align: middle;\n",
       "    }\n",
       "\n",
       "    .dataframe tbody tr th {\n",
       "        vertical-align: top;\n",
       "    }\n",
       "\n",
       "    .dataframe thead th {\n",
       "        text-align: right;\n",
       "    }\n",
       "</style>\n",
       "<table border=\"1\" class=\"dataframe\">\n",
       "  <thead>\n",
       "    <tr style=\"text-align: right;\">\n",
       "      <th></th>\n",
       "      <th>name</th>\n",
       "      <th>market_capitalization_USD</th>\n",
       "      <th>stock</th>\n",
       "      <th>country</th>\n",
       "      <th>sector</th>\n",
       "      <th>industry</th>\n",
       "    </tr>\n",
       "  </thead>\n",
       "  <tbody>\n",
       "    <tr>\n",
       "      <th>0</th>\n",
       "      <td>Apple Inc.</td>\n",
       "      <td>2825000000000</td>\n",
       "      <td>AAPL</td>\n",
       "      <td>United States</td>\n",
       "      <td>Technology</td>\n",
       "      <td>Consumer Electronics</td>\n",
       "    </tr>\n",
       "    <tr>\n",
       "      <th>1</th>\n",
       "      <td>Microsoft Corporation</td>\n",
       "      <td>2328000000000</td>\n",
       "      <td>MSFT</td>\n",
       "      <td>United States</td>\n",
       "      <td>Technology</td>\n",
       "      <td>Software—Infrastructure</td>\n",
       "    </tr>\n",
       "    <tr>\n",
       "      <th>2</th>\n",
       "      <td>Saudi Arabian Oil Company</td>\n",
       "      <td>2297000000000</td>\n",
       "      <td>2222</td>\n",
       "      <td>Saudi Arabia</td>\n",
       "      <td>Energy</td>\n",
       "      <td>Oil &amp; Gas Integrated</td>\n",
       "    </tr>\n",
       "    <tr>\n",
       "      <th>3</th>\n",
       "      <td>Alphabet Inc.</td>\n",
       "      <td>1825000000000</td>\n",
       "      <td>GOOG</td>\n",
       "      <td>United States</td>\n",
       "      <td>Communication Services</td>\n",
       "      <td>Internet Content &amp; Information</td>\n",
       "    </tr>\n",
       "    <tr>\n",
       "      <th>4</th>\n",
       "      <td>Amazon.com, Inc.</td>\n",
       "      <td>1642000000000</td>\n",
       "      <td>AMZN</td>\n",
       "      <td>United States</td>\n",
       "      <td>Consumer Discretionary</td>\n",
       "      <td>Internet Retail</td>\n",
       "    </tr>\n",
       "  </tbody>\n",
       "</table>\n",
       "</div>"
      ],
      "text/plain": [
       "                        name  market_capitalization_USD stock        country  \\\n",
       "0                 Apple Inc.              2825000000000  AAPL  United States   \n",
       "1      Microsoft Corporation              2328000000000  MSFT  United States   \n",
       "2  Saudi Arabian Oil Company              2297000000000  2222   Saudi Arabia   \n",
       "3              Alphabet Inc.              1825000000000  GOOG  United States   \n",
       "4           Amazon.com, Inc.              1642000000000  AMZN  United States   \n",
       "\n",
       "                   sector                        industry  \n",
       "0              Technology            Consumer Electronics  \n",
       "1              Technology         Software—Infrastructure  \n",
       "2                  Energy            Oil & Gas Integrated  \n",
       "3  Communication Services  Internet Content & Information  \n",
       "4  Consumer Discretionary                 Internet Retail  "
      ]
     },
     "execution_count": 206,
     "metadata": {},
     "output_type": "execute_result"
    }
   ],
   "source": [
    "gren_disfold = pd.read_json(files_list[30])\n",
    "gren_disfold.head()"
   ]
  },
  {
   "cell_type": "code",
   "execution_count": 207,
   "metadata": {},
   "outputs": [
    {
     "name": "stdout",
     "output_type": "stream",
     "text": [
      "Columns to remove:\n",
      "stock\n"
     ]
    }
   ],
   "source": [
    "to_drop, _ = columns_to_remove_not_remove(gren_disfold)\n",
    "to_drop.append(\"industry\")"
   ]
  },
  {
   "cell_type": "code",
   "execution_count": 208,
   "metadata": {},
   "outputs": [
    {
     "name": "stdout",
     "output_type": "stream",
     "text": [
      "Columns to rename:\n",
      "market_capitalization_USD -> marketcap\n"
     ]
    },
    {
     "data": {
      "text/html": [
       "<div>\n",
       "<style scoped>\n",
       "    .dataframe tbody tr th:only-of-type {\n",
       "        vertical-align: middle;\n",
       "    }\n",
       "\n",
       "    .dataframe tbody tr th {\n",
       "        vertical-align: top;\n",
       "    }\n",
       "\n",
       "    .dataframe thead th {\n",
       "        text-align: right;\n",
       "    }\n",
       "</style>\n",
       "<table border=\"1\" class=\"dataframe\">\n",
       "  <thead>\n",
       "    <tr style=\"text-align: right;\">\n",
       "      <th></th>\n",
       "      <th>name</th>\n",
       "      <th>marketcap</th>\n",
       "      <th>country</th>\n",
       "      <th>sector</th>\n",
       "    </tr>\n",
       "  </thead>\n",
       "  <tbody>\n",
       "    <tr>\n",
       "      <th>0</th>\n",
       "      <td>Apple Inc.</td>\n",
       "      <td>2825000000000</td>\n",
       "      <td>United States</td>\n",
       "      <td>Technology</td>\n",
       "    </tr>\n",
       "    <tr>\n",
       "      <th>1</th>\n",
       "      <td>Microsoft Corporation</td>\n",
       "      <td>2328000000000</td>\n",
       "      <td>United States</td>\n",
       "      <td>Technology</td>\n",
       "    </tr>\n",
       "    <tr>\n",
       "      <th>2</th>\n",
       "      <td>Saudi Arabian Oil Company</td>\n",
       "      <td>2297000000000</td>\n",
       "      <td>Saudi Arabia</td>\n",
       "      <td>Energy</td>\n",
       "    </tr>\n",
       "    <tr>\n",
       "      <th>3</th>\n",
       "      <td>Alphabet Inc.</td>\n",
       "      <td>1825000000000</td>\n",
       "      <td>United States</td>\n",
       "      <td>Communication Services</td>\n",
       "    </tr>\n",
       "    <tr>\n",
       "      <th>4</th>\n",
       "      <td>Amazon.com, Inc.</td>\n",
       "      <td>1642000000000</td>\n",
       "      <td>United States</td>\n",
       "      <td>Consumer Discretionary</td>\n",
       "    </tr>\n",
       "  </tbody>\n",
       "</table>\n",
       "</div>"
      ],
      "text/plain": [
       "                        name      marketcap        country  \\\n",
       "0                 Apple Inc.  2825000000000  United States   \n",
       "1      Microsoft Corporation  2328000000000  United States   \n",
       "2  Saudi Arabian Oil Company  2297000000000   Saudi Arabia   \n",
       "3              Alphabet Inc.  1825000000000  United States   \n",
       "4           Amazon.com, Inc.  1642000000000  United States   \n",
       "\n",
       "                   sector  \n",
       "0              Technology  \n",
       "1              Technology  \n",
       "2                  Energy  \n",
       "3  Communication Services  \n",
       "4  Consumer Discretionary  "
      ]
     },
     "execution_count": 208,
     "metadata": {},
     "output_type": "execute_result"
    }
   ],
   "source": [
    "gren_disfold = gren_disfold.drop(to_drop, axis=1)\n",
    "to_rename = rename_columns(gren_disfold.columns)\n",
    "gren_disfold.columns = to_rename\n",
    "gren_disfold.head()"
   ]
  },
  {
   "cell_type": "code",
   "execution_count": 209,
   "metadata": {},
   "outputs": [],
   "source": [
    "cleaned_files.append(gren_disfold)"
   ]
  },
  {
   "cell_type": "markdown",
   "metadata": {},
   "source": [
    "### gren-ft.com.json"
   ]
  },
  {
   "cell_type": "code",
   "execution_count": 210,
   "metadata": {},
   "outputs": [
    {
     "data": {
      "text/plain": [
       "'src/datasets/gren-ft.com.json'"
      ]
     },
     "execution_count": 210,
     "metadata": {},
     "output_type": "execute_result"
    }
   ],
   "source": [
    "files_list[31]"
   ]
  },
  {
   "cell_type": "code",
   "execution_count": 211,
   "metadata": {},
   "outputs": [
    {
     "data": {
      "text/html": [
       "<div>\n",
       "<style scoped>\n",
       "    .dataframe tbody tr th:only-of-type {\n",
       "        vertical-align: middle;\n",
       "    }\n",
       "\n",
       "    .dataframe tbody tr th {\n",
       "        vertical-align: top;\n",
       "    }\n",
       "\n",
       "    .dataframe thead th {\n",
       "        text-align: right;\n",
       "    }\n",
       "</style>\n",
       "<table border=\"1\" class=\"dataframe\">\n",
       "  <thead>\n",
       "    <tr style=\"text-align: right;\">\n",
       "      <th></th>\n",
       "      <th>name</th>\n",
       "      <th>country</th>\n",
       "      <th>sector</th>\n",
       "      <th>revenue_2020_EU</th>\n",
       "      <th>revenue_2017_EU</th>\n",
       "      <th>employees_number_2020</th>\n",
       "      <th>employees_number_2017</th>\n",
       "      <th>founding_year</th>\n",
       "    </tr>\n",
       "  </thead>\n",
       "  <tbody>\n",
       "    <tr>\n",
       "      <th>0</th>\n",
       "      <td>Swappie</td>\n",
       "      <td>Finland</td>\n",
       "      <td>Technology</td>\n",
       "      <td>97611814</td>\n",
       "      <td>507000</td>\n",
       "      <td>218</td>\n",
       "      <td>1</td>\n",
       "      <td>2016</td>\n",
       "    </tr>\n",
       "    <tr>\n",
       "      <th>1</th>\n",
       "      <td>Kilo Health</td>\n",
       "      <td>Lithuania</td>\n",
       "      <td>Health</td>\n",
       "      <td>57318766</td>\n",
       "      <td>344428</td>\n",
       "      <td>177</td>\n",
       "      <td>10</td>\n",
       "      <td>2013</td>\n",
       "    </tr>\n",
       "    <tr>\n",
       "      <th>2</th>\n",
       "      <td>OCI</td>\n",
       "      <td>UK</td>\n",
       "      <td>Financial Services</td>\n",
       "      <td>568322073</td>\n",
       "      <td>4325512</td>\n",
       "      <td>32</td>\n",
       "      <td>4</td>\n",
       "      <td>2012</td>\n",
       "    </tr>\n",
       "    <tr>\n",
       "      <th>3</th>\n",
       "      <td>OnlyFans</td>\n",
       "      <td>UK</td>\n",
       "      <td>Technology</td>\n",
       "      <td>316732986</td>\n",
       "      <td>2652185</td>\n",
       "      <td>800</td>\n",
       "      <td>4</td>\n",
       "      <td>2016</td>\n",
       "    </tr>\n",
       "    <tr>\n",
       "      <th>4</th>\n",
       "      <td>Enpal</td>\n",
       "      <td>Germany</td>\n",
       "      <td>Energy</td>\n",
       "      <td>56109613</td>\n",
       "      <td>486165</td>\n",
       "      <td>365</td>\n",
       "      <td>9</td>\n",
       "      <td>2017</td>\n",
       "    </tr>\n",
       "  </tbody>\n",
       "</table>\n",
       "</div>"
      ],
      "text/plain": [
       "          name    country              sector  revenue_2020_EU  \\\n",
       "0      Swappie    Finland          Technology         97611814   \n",
       "1  Kilo Health  Lithuania              Health         57318766   \n",
       "2          OCI         UK  Financial Services        568322073   \n",
       "3     OnlyFans         UK          Technology        316732986   \n",
       "4        Enpal    Germany              Energy         56109613   \n",
       "\n",
       "   revenue_2017_EU employees_number_2020 employees_number_2017  founding_year  \n",
       "0           507000                   218                     1           2016  \n",
       "1           344428                   177                    10           2013  \n",
       "2          4325512                    32                     4           2012  \n",
       "3          2652185                   800                     4           2016  \n",
       "4           486165                   365                     9           2017  "
      ]
     },
     "execution_count": 211,
     "metadata": {},
     "output_type": "execute_result"
    }
   ],
   "source": [
    "gren_ft = pd.read_json(files_list[31])\n",
    "gren_ft.head()"
   ]
  },
  {
   "cell_type": "code",
   "execution_count": 212,
   "metadata": {},
   "outputs": [
    {
     "name": "stdout",
     "output_type": "stream",
     "text": [
      "Columns to remove:\n",
      "revenue_2017_EU\n",
      "employees_number_2017\n"
     ]
    }
   ],
   "source": [
    "to_drop, _ = columns_to_remove_not_remove(gren_ft)"
   ]
  },
  {
   "cell_type": "code",
   "execution_count": 213,
   "metadata": {},
   "outputs": [
    {
     "name": "stdout",
     "output_type": "stream",
     "text": [
      "Columns to rename:\n",
      "revenue_2020_EU -> revenue\n",
      "employees_number_2020 -> employees\n",
      "founding_year -> founded\n"
     ]
    }
   ],
   "source": [
    "gren_ft = gren_ft.drop(to_drop, axis=1)\n",
    "to_rename = rename_columns(gren_ft.columns)\n",
    "gren_ft.columns = to_rename"
   ]
  },
  {
   "cell_type": "code",
   "execution_count": 214,
   "metadata": {},
   "outputs": [
    {
     "data": {
      "text/html": [
       "<div>\n",
       "<style scoped>\n",
       "    .dataframe tbody tr th:only-of-type {\n",
       "        vertical-align: middle;\n",
       "    }\n",
       "\n",
       "    .dataframe tbody tr th {\n",
       "        vertical-align: top;\n",
       "    }\n",
       "\n",
       "    .dataframe thead th {\n",
       "        text-align: right;\n",
       "    }\n",
       "</style>\n",
       "<table border=\"1\" class=\"dataframe\">\n",
       "  <thead>\n",
       "    <tr style=\"text-align: right;\">\n",
       "      <th></th>\n",
       "      <th>name</th>\n",
       "      <th>country</th>\n",
       "      <th>sector</th>\n",
       "      <th>revenue</th>\n",
       "      <th>employees</th>\n",
       "      <th>founded</th>\n",
       "    </tr>\n",
       "  </thead>\n",
       "  <tbody>\n",
       "    <tr>\n",
       "      <th>0</th>\n",
       "      <td>Swappie</td>\n",
       "      <td>Finland</td>\n",
       "      <td>Technology</td>\n",
       "      <td>97611814</td>\n",
       "      <td>218</td>\n",
       "      <td>2016</td>\n",
       "    </tr>\n",
       "    <tr>\n",
       "      <th>1</th>\n",
       "      <td>Kilo Health</td>\n",
       "      <td>Lithuania</td>\n",
       "      <td>Health</td>\n",
       "      <td>57318766</td>\n",
       "      <td>177</td>\n",
       "      <td>2013</td>\n",
       "    </tr>\n",
       "    <tr>\n",
       "      <th>2</th>\n",
       "      <td>OCI</td>\n",
       "      <td>UK</td>\n",
       "      <td>Financial Services</td>\n",
       "      <td>568322073</td>\n",
       "      <td>32</td>\n",
       "      <td>2012</td>\n",
       "    </tr>\n",
       "    <tr>\n",
       "      <th>3</th>\n",
       "      <td>OnlyFans</td>\n",
       "      <td>UK</td>\n",
       "      <td>Technology</td>\n",
       "      <td>316732986</td>\n",
       "      <td>800</td>\n",
       "      <td>2016</td>\n",
       "    </tr>\n",
       "    <tr>\n",
       "      <th>4</th>\n",
       "      <td>Enpal</td>\n",
       "      <td>Germany</td>\n",
       "      <td>Energy</td>\n",
       "      <td>56109613</td>\n",
       "      <td>365</td>\n",
       "      <td>2017</td>\n",
       "    </tr>\n",
       "  </tbody>\n",
       "</table>\n",
       "</div>"
      ],
      "text/plain": [
       "          name    country              sector    revenue  employees  founded\n",
       "0      Swappie    Finland          Technology   97611814        218     2016\n",
       "1  Kilo Health  Lithuania              Health   57318766        177     2013\n",
       "2          OCI         UK  Financial Services  568322073         32     2012\n",
       "3     OnlyFans         UK          Technology  316732986        800     2016\n",
       "4        Enpal    Germany              Energy   56109613        365     2017"
      ]
     },
     "execution_count": 214,
     "metadata": {},
     "output_type": "execute_result"
    }
   ],
   "source": [
    "gren_ft = gren_ft.replace('n/a', np.nan)\n",
    "gren_ft.employees = gren_ft.employees.astype(object).astype('Int64')\n",
    "gren_ft.head()"
   ]
  },
  {
   "cell_type": "code",
   "execution_count": 215,
   "metadata": {},
   "outputs": [],
   "source": [
    "cleaned_files.append(gren_ft)"
   ]
  },
  {
   "cell_type": "markdown",
   "metadata": {},
   "source": [
    "### gren-value.today.json"
   ]
  },
  {
   "cell_type": "code",
   "execution_count": 216,
   "metadata": {},
   "outputs": [
    {
     "data": {
      "text/plain": [
       "'src/datasets/gren-value.today.json'"
      ]
     },
     "execution_count": 216,
     "metadata": {},
     "output_type": "execute_result"
    }
   ],
   "source": [
    "files_list[32]"
   ]
  },
  {
   "cell_type": "code",
   "execution_count": 217,
   "metadata": {},
   "outputs": [
    {
     "data": {
      "text/html": [
       "<div>\n",
       "<style scoped>\n",
       "    .dataframe tbody tr th:only-of-type {\n",
       "        vertical-align: middle;\n",
       "    }\n",
       "\n",
       "    .dataframe tbody tr th {\n",
       "        vertical-align: top;\n",
       "    }\n",
       "\n",
       "    .dataframe thead th {\n",
       "        text-align: right;\n",
       "    }\n",
       "</style>\n",
       "<table border=\"1\" class=\"dataframe\">\n",
       "  <thead>\n",
       "    <tr style=\"text-align: right;\">\n",
       "      <th></th>\n",
       "      <th>name</th>\n",
       "      <th>annual_revenue_USD</th>\n",
       "      <th>annual_net_income_USD</th>\n",
       "      <th>market_capitalization_2022</th>\n",
       "      <th>employees_number</th>\n",
       "      <th>CEO</th>\n",
       "      <th>headquarters_country</th>\n",
       "      <th>wikipedia_page_url</th>\n",
       "      <th>twitter_page_url</th>\n",
       "      <th>facebook_page_url</th>\n",
       "    </tr>\n",
       "  </thead>\n",
       "  <tbody>\n",
       "    <tr>\n",
       "      <th>0</th>\n",
       "      <td>APPLE</td>\n",
       "      <td>394330000000</td>\n",
       "      <td>99803000000</td>\n",
       "      <td>2825000000000</td>\n",
       "      <td>154000</td>\n",
       "      <td>Tim Cook</td>\n",
       "      <td>USA</td>\n",
       "      <td>https://en.wikipedia.org/wiki/Apple_Inc.</td>\n",
       "      <td>https://twitter.com/apple?lang=en</td>\n",
       "      <td>https://www.facebook.com/apple/</td>\n",
       "    </tr>\n",
       "    <tr>\n",
       "      <th>1</th>\n",
       "      <td>MICROSOFT CORPORATION</td>\n",
       "      <td>198270000000</td>\n",
       "      <td>72738000000</td>\n",
       "      <td>2358000000000</td>\n",
       "      <td>220000</td>\n",
       "      <td>Satya Nadella</td>\n",
       "      <td>USA</td>\n",
       "      <td>https://en.wikipedia.org/wiki/Microsoft</td>\n",
       "      <td>https://twitter.com/Microsoft</td>\n",
       "      <td>https://www.facebook.com/Microsoft/</td>\n",
       "    </tr>\n",
       "    <tr>\n",
       "      <th>2</th>\n",
       "      <td>SAUDI ARABIAN OIL COMPANY (Saudi Aramco)</td>\n",
       "      <td>400460000000</td>\n",
       "      <td>105380000000</td>\n",
       "      <td>1889600000000</td>\n",
       "      <td>79800</td>\n",
       "      <td>Amin H. Al-Nasser</td>\n",
       "      <td>Saudi Arabia</td>\n",
       "      <td>https://en.wikipedia.org/wiki/Saudi_Aramco</td>\n",
       "      <td>https://twitter.com/Saudi_Aramco</td>\n",
       "      <td>https://www.facebook.com/aramco/</td>\n",
       "    </tr>\n",
       "    <tr>\n",
       "      <th>3</th>\n",
       "      <td>ALPHABET</td>\n",
       "      <td>257640000000</td>\n",
       "      <td>76003000000</td>\n",
       "      <td>1820000000000</td>\n",
       "      <td>156500</td>\n",
       "      <td>Sundar Pichai</td>\n",
       "      <td>USA</td>\n",
       "      <td>https://en.wikipedia.org/wiki/Alphabet_Inc.</td>\n",
       "      <td>https://twitter.com/google?lang=en</td>\n",
       "      <td>https://www.facebook.com/alphabet/</td>\n",
       "    </tr>\n",
       "    <tr>\n",
       "      <th>4</th>\n",
       "      <td>AMAZON.COM</td>\n",
       "      <td>469820000000</td>\n",
       "      <td>33364000000</td>\n",
       "      <td>1649000000000</td>\n",
       "      <td>1335000</td>\n",
       "      <td>Andy Jassy</td>\n",
       "      <td>USA</td>\n",
       "      <td>https://en.wikipedia.org/wiki/Amazon_(company)</td>\n",
       "      <td>https://twitter.com/amazon</td>\n",
       "      <td>https://www.facebook.com/Amazon/</td>\n",
       "    </tr>\n",
       "  </tbody>\n",
       "</table>\n",
       "</div>"
      ],
      "text/plain": [
       "                                       name annual_revenue_USD  \\\n",
       "0                                     APPLE       394330000000   \n",
       "1                     MICROSOFT CORPORATION       198270000000   \n",
       "2  SAUDI ARABIAN OIL COMPANY (Saudi Aramco)       400460000000   \n",
       "3                                  ALPHABET       257640000000   \n",
       "4                                AMAZON.COM       469820000000   \n",
       "\n",
       "  annual_net_income_USD market_capitalization_2022 employees_number  \\\n",
       "0           99803000000              2825000000000           154000   \n",
       "1           72738000000              2358000000000           220000   \n",
       "2          105380000000              1889600000000            79800   \n",
       "3           76003000000              1820000000000           156500   \n",
       "4           33364000000              1649000000000          1335000   \n",
       "\n",
       "                 CEO headquarters_country  \\\n",
       "0           Tim Cook                  USA   \n",
       "1      Satya Nadella                  USA   \n",
       "2  Amin H. Al-Nasser         Saudi Arabia   \n",
       "3      Sundar Pichai                  USA   \n",
       "4         Andy Jassy                  USA   \n",
       "\n",
       "                               wikipedia_page_url  \\\n",
       "0        https://en.wikipedia.org/wiki/Apple_Inc.   \n",
       "1         https://en.wikipedia.org/wiki/Microsoft   \n",
       "2      https://en.wikipedia.org/wiki/Saudi_Aramco   \n",
       "3     https://en.wikipedia.org/wiki/Alphabet_Inc.   \n",
       "4  https://en.wikipedia.org/wiki/Amazon_(company)   \n",
       "\n",
       "                     twitter_page_url                    facebook_page_url  \n",
       "0   https://twitter.com/apple?lang=en      https://www.facebook.com/apple/  \n",
       "1       https://twitter.com/Microsoft  https://www.facebook.com/Microsoft/  \n",
       "2    https://twitter.com/Saudi_Aramco     https://www.facebook.com/aramco/  \n",
       "3  https://twitter.com/google?lang=en   https://www.facebook.com/alphabet/  \n",
       "4          https://twitter.com/amazon     https://www.facebook.com/Amazon/  "
      ]
     },
     "execution_count": 217,
     "metadata": {},
     "output_type": "execute_result"
    }
   ],
   "source": [
    "gren_value = pd.read_json(files_list[32])\n",
    "gren_value.head()"
   ]
  },
  {
   "cell_type": "code",
   "execution_count": 218,
   "metadata": {},
   "outputs": [],
   "source": [
    "url_dataset = ['wikipedia_page_url', 'twitter_page_url', 'facebook_page_url']\n",
    "gren_value['link'] = gren_value[url_dataset].values.tolist()"
   ]
  },
  {
   "cell_type": "code",
   "execution_count": 219,
   "metadata": {},
   "outputs": [
    {
     "name": "stdout",
     "output_type": "stream",
     "text": [
      "Columns to remove:\n",
      "annual_net_income_USD\n"
     ]
    }
   ],
   "source": [
    "to_drop, _ = columns_to_remove_not_remove(gren_value)\n",
    "to_drop.extend(url_dataset)"
   ]
  },
  {
   "cell_type": "code",
   "execution_count": 220,
   "metadata": {},
   "outputs": [
    {
     "name": "stdout",
     "output_type": "stream",
     "text": [
      "Columns to rename:\n",
      "annual_revenue_USD -> revenue\n",
      "market_capitalization_2022 -> marketcap\n",
      "employees_number -> employees\n",
      "headquarters_country -> country\n",
      "link -> links\n"
     ]
    }
   ],
   "source": [
    "gren_value = gren_value.drop(to_drop, axis=1)\n",
    "to_rename = rename_columns(gren_value.columns)\n",
    "gren_value.columns = to_rename"
   ]
  },
  {
   "cell_type": "code",
   "execution_count": 221,
   "metadata": {},
   "outputs": [
    {
     "data": {
      "text/html": [
       "<div>\n",
       "<style scoped>\n",
       "    .dataframe tbody tr th:only-of-type {\n",
       "        vertical-align: middle;\n",
       "    }\n",
       "\n",
       "    .dataframe tbody tr th {\n",
       "        vertical-align: top;\n",
       "    }\n",
       "\n",
       "    .dataframe thead th {\n",
       "        text-align: right;\n",
       "    }\n",
       "</style>\n",
       "<table border=\"1\" class=\"dataframe\">\n",
       "  <thead>\n",
       "    <tr style=\"text-align: right;\">\n",
       "      <th></th>\n",
       "      <th>name</th>\n",
       "      <th>revenue</th>\n",
       "      <th>marketcap</th>\n",
       "      <th>employees</th>\n",
       "      <th>ceo</th>\n",
       "      <th>country</th>\n",
       "      <th>links</th>\n",
       "    </tr>\n",
       "  </thead>\n",
       "  <tbody>\n",
       "    <tr>\n",
       "      <th>0</th>\n",
       "      <td>APPLE</td>\n",
       "      <td>394330000000</td>\n",
       "      <td>2825000000000</td>\n",
       "      <td>154000</td>\n",
       "      <td>Tim Cook</td>\n",
       "      <td>USA</td>\n",
       "      <td>[https://en.wikipedia.org/wiki/Apple_Inc., htt...</td>\n",
       "    </tr>\n",
       "    <tr>\n",
       "      <th>1</th>\n",
       "      <td>MICROSOFT CORPORATION</td>\n",
       "      <td>198270000000</td>\n",
       "      <td>2358000000000</td>\n",
       "      <td>220000</td>\n",
       "      <td>Satya Nadella</td>\n",
       "      <td>USA</td>\n",
       "      <td>[https://en.wikipedia.org/wiki/Microsoft, http...</td>\n",
       "    </tr>\n",
       "    <tr>\n",
       "      <th>2</th>\n",
       "      <td>SAUDI ARABIAN OIL COMPANY (Saudi Aramco)</td>\n",
       "      <td>400460000000</td>\n",
       "      <td>1889600000000</td>\n",
       "      <td>79800</td>\n",
       "      <td>Amin H. Al-Nasser</td>\n",
       "      <td>Saudi Arabia</td>\n",
       "      <td>[https://en.wikipedia.org/wiki/Saudi_Aramco, h...</td>\n",
       "    </tr>\n",
       "    <tr>\n",
       "      <th>3</th>\n",
       "      <td>ALPHABET</td>\n",
       "      <td>257640000000</td>\n",
       "      <td>1820000000000</td>\n",
       "      <td>156500</td>\n",
       "      <td>Sundar Pichai</td>\n",
       "      <td>USA</td>\n",
       "      <td>[https://en.wikipedia.org/wiki/Alphabet_Inc., ...</td>\n",
       "    </tr>\n",
       "    <tr>\n",
       "      <th>4</th>\n",
       "      <td>AMAZON.COM</td>\n",
       "      <td>469820000000</td>\n",
       "      <td>1649000000000</td>\n",
       "      <td>1335000</td>\n",
       "      <td>Andy Jassy</td>\n",
       "      <td>USA</td>\n",
       "      <td>[https://en.wikipedia.org/wiki/Amazon_(company...</td>\n",
       "    </tr>\n",
       "  </tbody>\n",
       "</table>\n",
       "</div>"
      ],
      "text/plain": [
       "                                       name       revenue      marketcap  \\\n",
       "0                                     APPLE  394330000000  2825000000000   \n",
       "1                     MICROSOFT CORPORATION  198270000000  2358000000000   \n",
       "2  SAUDI ARABIAN OIL COMPANY (Saudi Aramco)  400460000000  1889600000000   \n",
       "3                                  ALPHABET  257640000000  1820000000000   \n",
       "4                                AMAZON.COM  469820000000  1649000000000   \n",
       "\n",
       "   employees                ceo       country  \\\n",
       "0     154000           Tim Cook           USA   \n",
       "1     220000      Satya Nadella           USA   \n",
       "2      79800  Amin H. Al-Nasser  Saudi Arabia   \n",
       "3     156500      Sundar Pichai           USA   \n",
       "4    1335000         Andy Jassy           USA   \n",
       "\n",
       "                                               links  \n",
       "0  [https://en.wikipedia.org/wiki/Apple_Inc., htt...  \n",
       "1  [https://en.wikipedia.org/wiki/Microsoft, http...  \n",
       "2  [https://en.wikipedia.org/wiki/Saudi_Aramco, h...  \n",
       "3  [https://en.wikipedia.org/wiki/Alphabet_Inc., ...  \n",
       "4  [https://en.wikipedia.org/wiki/Amazon_(company...  "
      ]
     },
     "execution_count": 221,
     "metadata": {},
     "output_type": "execute_result"
    }
   ],
   "source": [
    "gren_value = gren_value.replace('', np.nan)\n",
    "gren_value.revenue = gren_value.revenue.astype(object).astype('Int64')\n",
    "gren_value.marketcap = gren_value.marketcap.astype(object).astype('Int64')\n",
    "gren_value.employees = gren_value.employees.astype(object).astype('Int64')\n",
    "gren_value.head()"
   ]
  },
  {
   "cell_type": "code",
   "execution_count": 222,
   "metadata": {},
   "outputs": [],
   "source": [
    "cleaned_files.append(gren_value)"
   ]
  },
  {
   "cell_type": "markdown",
   "metadata": {},
   "source": [
    "## iGMM"
   ]
  },
  {
   "cell_type": "markdown",
   "metadata": {},
   "source": [
    "### iGMM-cbinsights.com.json"
   ]
  },
  {
   "cell_type": "code",
   "execution_count": 223,
   "metadata": {},
   "outputs": [
    {
     "data": {
      "text/plain": [
       "'src/datasets/iGMM-cbinsights.com.json'"
      ]
     },
     "execution_count": 223,
     "metadata": {},
     "output_type": "execute_result"
    }
   ],
   "source": [
    "files_list[33]"
   ]
  },
  {
   "cell_type": "code",
   "execution_count": 224,
   "metadata": {},
   "outputs": [
    {
     "data": {
      "text/html": [
       "<div>\n",
       "<style scoped>\n",
       "    .dataframe tbody tr th:only-of-type {\n",
       "        vertical-align: middle;\n",
       "    }\n",
       "\n",
       "    .dataframe tbody tr th {\n",
       "        vertical-align: top;\n",
       "    }\n",
       "\n",
       "    .dataframe thead th {\n",
       "        text-align: right;\n",
       "    }\n",
       "</style>\n",
       "<table border=\"1\" class=\"dataframe\">\n",
       "  <thead>\n",
       "    <tr style=\"text-align: right;\">\n",
       "      <th></th>\n",
       "      <th>company</th>\n",
       "      <th>valuation</th>\n",
       "      <th>datejoined</th>\n",
       "      <th>country</th>\n",
       "      <th>city</th>\n",
       "      <th>industry</th>\n",
       "      <th>selectinvestors</th>\n",
       "    </tr>\n",
       "  </thead>\n",
       "  <tbody>\n",
       "    <tr>\n",
       "      <th>0</th>\n",
       "      <td>ByteDance</td>\n",
       "      <td>$140</td>\n",
       "      <td>4/7/2017</td>\n",
       "      <td>China</td>\n",
       "      <td>Beijing</td>\n",
       "      <td>Artificial intelligence</td>\n",
       "      <td>Sequoia Capital China, SIG Asia Investments, S...</td>\n",
       "    </tr>\n",
       "    <tr>\n",
       "      <th>1</th>\n",
       "      <td>SpaceX</td>\n",
       "      <td>$127</td>\n",
       "      <td>12/1/2012</td>\n",
       "      <td>United States</td>\n",
       "      <td>Hawthorne</td>\n",
       "      <td>Other</td>\n",
       "      <td>Founders Fund, Draper Fisher Jurvetson, Rothen...</td>\n",
       "    </tr>\n",
       "    <tr>\n",
       "      <th>2</th>\n",
       "      <td>SHEIN</td>\n",
       "      <td>$100</td>\n",
       "      <td>7/3/2018</td>\n",
       "      <td>China</td>\n",
       "      <td>Shenzhen</td>\n",
       "      <td>E-commerce &amp; direct-to-consumer</td>\n",
       "      <td>Tiger Global Management, Sequoia Capital China...</td>\n",
       "    </tr>\n",
       "    <tr>\n",
       "      <th>3</th>\n",
       "      <td>Stripe</td>\n",
       "      <td>$95</td>\n",
       "      <td>1/23/2014</td>\n",
       "      <td>United States</td>\n",
       "      <td>San Francisco</td>\n",
       "      <td>Fintech</td>\n",
       "      <td>Khosla Ventures, LowercaseCapital, capitalG</td>\n",
       "    </tr>\n",
       "    <tr>\n",
       "      <th>4</th>\n",
       "      <td>Canva</td>\n",
       "      <td>$40</td>\n",
       "      <td>1/8/2018</td>\n",
       "      <td>Australia</td>\n",
       "      <td>Surry Hills</td>\n",
       "      <td>Internet software &amp; services</td>\n",
       "      <td>Sequoia Capital China, Blackbird Ventures, Mat...</td>\n",
       "    </tr>\n",
       "  </tbody>\n",
       "</table>\n",
       "</div>"
      ],
      "text/plain": [
       "     company valuation datejoined        country           city  \\\n",
       "0  ByteDance      $140   4/7/2017          China        Beijing   \n",
       "1     SpaceX      $127  12/1/2012  United States      Hawthorne   \n",
       "2      SHEIN      $100   7/3/2018          China       Shenzhen   \n",
       "3     Stripe       $95  1/23/2014  United States  San Francisco   \n",
       "4      Canva       $40   1/8/2018      Australia    Surry Hills   \n",
       "\n",
       "                          industry  \\\n",
       "0          Artificial intelligence   \n",
       "1                            Other   \n",
       "2  E-commerce & direct-to-consumer   \n",
       "3                          Fintech   \n",
       "4     Internet software & services   \n",
       "\n",
       "                                     selectinvestors  \n",
       "0  Sequoia Capital China, SIG Asia Investments, S...  \n",
       "1  Founders Fund, Draper Fisher Jurvetson, Rothen...  \n",
       "2  Tiger Global Management, Sequoia Capital China...  \n",
       "3        Khosla Ventures, LowercaseCapital, capitalG  \n",
       "4  Sequoia Capital China, Blackbird Ventures, Mat...  "
      ]
     },
     "execution_count": 224,
     "metadata": {},
     "output_type": "execute_result"
    }
   ],
   "source": [
    "igmm_cbinsights = pd.read_json(files_list[33])\n",
    "igmm_cbinsights.head()"
   ]
  },
  {
   "cell_type": "code",
   "execution_count": 225,
   "metadata": {},
   "outputs": [
    {
     "name": "stdout",
     "output_type": "stream",
     "text": [
      "Columns to remove:\n",
      "valuation\n",
      "datejoined\n",
      "city\n",
      "selectinvestors\n"
     ]
    }
   ],
   "source": [
    "to_drop, _ = columns_to_remove_not_remove(igmm_cbinsights)"
   ]
  },
  {
   "cell_type": "code",
   "execution_count": 226,
   "metadata": {},
   "outputs": [
    {
     "name": "stdout",
     "output_type": "stream",
     "text": [
      "Columns to rename:\n",
      "company -> name\n",
      "industry -> sector\n"
     ]
    },
    {
     "data": {
      "text/html": [
       "<div>\n",
       "<style scoped>\n",
       "    .dataframe tbody tr th:only-of-type {\n",
       "        vertical-align: middle;\n",
       "    }\n",
       "\n",
       "    .dataframe tbody tr th {\n",
       "        vertical-align: top;\n",
       "    }\n",
       "\n",
       "    .dataframe thead th {\n",
       "        text-align: right;\n",
       "    }\n",
       "</style>\n",
       "<table border=\"1\" class=\"dataframe\">\n",
       "  <thead>\n",
       "    <tr style=\"text-align: right;\">\n",
       "      <th></th>\n",
       "      <th>name</th>\n",
       "      <th>country</th>\n",
       "      <th>sector</th>\n",
       "    </tr>\n",
       "  </thead>\n",
       "  <tbody>\n",
       "    <tr>\n",
       "      <th>0</th>\n",
       "      <td>ByteDance</td>\n",
       "      <td>China</td>\n",
       "      <td>Artificial intelligence</td>\n",
       "    </tr>\n",
       "    <tr>\n",
       "      <th>1</th>\n",
       "      <td>SpaceX</td>\n",
       "      <td>United States</td>\n",
       "      <td>Other</td>\n",
       "    </tr>\n",
       "    <tr>\n",
       "      <th>2</th>\n",
       "      <td>SHEIN</td>\n",
       "      <td>China</td>\n",
       "      <td>E-commerce &amp; direct-to-consumer</td>\n",
       "    </tr>\n",
       "    <tr>\n",
       "      <th>3</th>\n",
       "      <td>Stripe</td>\n",
       "      <td>United States</td>\n",
       "      <td>Fintech</td>\n",
       "    </tr>\n",
       "    <tr>\n",
       "      <th>4</th>\n",
       "      <td>Canva</td>\n",
       "      <td>Australia</td>\n",
       "      <td>Internet software &amp; services</td>\n",
       "    </tr>\n",
       "  </tbody>\n",
       "</table>\n",
       "</div>"
      ],
      "text/plain": [
       "        name        country                           sector\n",
       "0  ByteDance          China          Artificial intelligence\n",
       "1     SpaceX  United States                            Other\n",
       "2      SHEIN          China  E-commerce & direct-to-consumer\n",
       "3     Stripe  United States                          Fintech\n",
       "4      Canva      Australia     Internet software & services"
      ]
     },
     "execution_count": 226,
     "metadata": {},
     "output_type": "execute_result"
    }
   ],
   "source": [
    "igmm_cbinsights = igmm_cbinsights.drop(to_drop, axis=1)\n",
    "to_rename = rename_columns(igmm_cbinsights.columns)\n",
    "igmm_cbinsights.columns = to_rename\n",
    "igmm_cbinsights.head()"
   ]
  },
  {
   "cell_type": "code",
   "execution_count": 227,
   "metadata": {},
   "outputs": [],
   "source": [
    "cleaned_files.append(igmm_cbinsights)"
   ]
  },
  {
   "cell_type": "markdown",
   "metadata": {},
   "source": [
    "### iGMM-companiesmarketcap.com.json"
   ]
  },
  {
   "cell_type": "code",
   "execution_count": 228,
   "metadata": {},
   "outputs": [
    {
     "data": {
      "text/plain": [
       "'src/datasets/iGMM-companiesmarketcap.com.json'"
      ]
     },
     "execution_count": 228,
     "metadata": {},
     "output_type": "execute_result"
    }
   ],
   "source": [
    "files_list[34]"
   ]
  },
  {
   "cell_type": "code",
   "execution_count": 229,
   "metadata": {},
   "outputs": [
    {
     "data": {
      "text/html": [
       "<div>\n",
       "<style scoped>\n",
       "    .dataframe tbody tr th:only-of-type {\n",
       "        vertical-align: middle;\n",
       "    }\n",
       "\n",
       "    .dataframe tbody tr th {\n",
       "        vertical-align: top;\n",
       "    }\n",
       "\n",
       "    .dataframe thead th {\n",
       "        text-align: right;\n",
       "    }\n",
       "</style>\n",
       "<table border=\"1\" class=\"dataframe\">\n",
       "  <thead>\n",
       "    <tr style=\"text-align: right;\">\n",
       "      <th></th>\n",
       "      <th>name</th>\n",
       "      <th>code</th>\n",
       "      <th>rank</th>\n",
       "      <th>marketcap</th>\n",
       "      <th>country</th>\n",
       "      <th>sharePrice</th>\n",
       "      <th>change(1day)</th>\n",
       "      <th>change(1year)</th>\n",
       "      <th>categories</th>\n",
       "    </tr>\n",
       "  </thead>\n",
       "  <tbody>\n",
       "    <tr>\n",
       "      <th>0</th>\n",
       "      <td>Apple</td>\n",
       "      <td>AAPL</td>\n",
       "      <td>1</td>\n",
       "      <td>$2.242 T</td>\n",
       "      <td>USA</td>\n",
       "      <td>$140.94</td>\n",
       "      <td>-1.38%</td>\n",
       "      <td>-17.67%</td>\n",
       "      <td>[Tech, Software, Dowjones, TechHardware, Elect...</td>\n",
       "    </tr>\n",
       "    <tr>\n",
       "      <th>1</th>\n",
       "      <td>McDonald</td>\n",
       "      <td>MCD</td>\n",
       "      <td>46</td>\n",
       "      <td>$198.00 B</td>\n",
       "      <td>USA</td>\n",
       "      <td>$270.34</td>\n",
       "      <td>-0.53%</td>\n",
       "      <td>4.01%</td>\n",
       "      <td>[Restaurantchains, Dowjones, Food]</td>\n",
       "    </tr>\n",
       "    <tr>\n",
       "      <th>2</th>\n",
       "      <td>T-Mobile US</td>\n",
       "      <td>TMUS</td>\n",
       "      <td>51</td>\n",
       "      <td>$185.11 B</td>\n",
       "      <td>USA</td>\n",
       "      <td>$148.79</td>\n",
       "      <td>-0.40%</td>\n",
       "      <td>27.01%</td>\n",
       "      <td>[Telecommunication]</td>\n",
       "    </tr>\n",
       "    <tr>\n",
       "      <th>3</th>\n",
       "      <td>Toyota</td>\n",
       "      <td>TM</td>\n",
       "      <td>49</td>\n",
       "      <td>$195.66 B</td>\n",
       "      <td>Japan</td>\n",
       "      <td>$141.86</td>\n",
       "      <td>0.55%</td>\n",
       "      <td>-24.32%</td>\n",
       "      <td>[Automakers, Manufacturing]</td>\n",
       "    </tr>\n",
       "    <tr>\n",
       "      <th>4</th>\n",
       "      <td>Cisco</td>\n",
       "      <td>CSCO</td>\n",
       "      <td>47</td>\n",
       "      <td>$197.92 B</td>\n",
       "      <td>USA</td>\n",
       "      <td>$48.18</td>\n",
       "      <td>-0.84%</td>\n",
       "      <td>-17.05%</td>\n",
       "      <td>[Tech, Electronics, Networkinghardware, Dowjon...</td>\n",
       "    </tr>\n",
       "  </tbody>\n",
       "</table>\n",
       "</div>"
      ],
      "text/plain": [
       "          name  code  rank  marketcap country sharePrice change(1day)  \\\n",
       "0        Apple  AAPL     1   $2.242 T     USA    $140.94       -1.38%   \n",
       "1     McDonald   MCD    46  $198.00 B     USA    $270.34       -0.53%   \n",
       "2  T-Mobile US  TMUS    51  $185.11 B     USA    $148.79       -0.40%   \n",
       "3       Toyota    TM    49  $195.66 B   Japan    $141.86        0.55%   \n",
       "4        Cisco  CSCO    47  $197.92 B     USA     $48.18       -0.84%   \n",
       "\n",
       "  change(1year)                                         categories  \n",
       "0       -17.67%  [Tech, Software, Dowjones, TechHardware, Elect...  \n",
       "1         4.01%                 [Restaurantchains, Dowjones, Food]  \n",
       "2        27.01%                                [Telecommunication]  \n",
       "3       -24.32%                        [Automakers, Manufacturing]  \n",
       "4       -17.05%  [Tech, Electronics, Networkinghardware, Dowjon...  "
      ]
     },
     "execution_count": 229,
     "metadata": {},
     "output_type": "execute_result"
    }
   ],
   "source": [
    "igmm_companies = pd.read_json(files_list[34])\n",
    "igmm_companies.head()"
   ]
  },
  {
   "cell_type": "code",
   "execution_count": 230,
   "metadata": {},
   "outputs": [
    {
     "name": "stdout",
     "output_type": "stream",
     "text": [
      "Columns to remove:\n",
      "code\n",
      "rank\n",
      "sharePrice\n",
      "change(1day)\n",
      "change(1year)\n"
     ]
    }
   ],
   "source": [
    "to_drop, _ = columns_to_remove_not_remove(igmm_companies)"
   ]
  },
  {
   "cell_type": "code",
   "execution_count": 231,
   "metadata": {},
   "outputs": [
    {
     "name": "stdout",
     "output_type": "stream",
     "text": [
      "Columns to rename:\n",
      "categories -> sector\n"
     ]
    }
   ],
   "source": [
    "igmm_companies = igmm_companies.drop(to_drop, axis=1)\n",
    "to_rename = rename_columns(igmm_companies.columns)\n",
    "igmm_companies.columns = to_rename"
   ]
  },
  {
   "cell_type": "code",
   "execution_count": 232,
   "metadata": {},
   "outputs": [
    {
     "data": {
      "text/html": [
       "<div>\n",
       "<style scoped>\n",
       "    .dataframe tbody tr th:only-of-type {\n",
       "        vertical-align: middle;\n",
       "    }\n",
       "\n",
       "    .dataframe tbody tr th {\n",
       "        vertical-align: top;\n",
       "    }\n",
       "\n",
       "    .dataframe thead th {\n",
       "        text-align: right;\n",
       "    }\n",
       "</style>\n",
       "<table border=\"1\" class=\"dataframe\">\n",
       "  <thead>\n",
       "    <tr style=\"text-align: right;\">\n",
       "      <th></th>\n",
       "      <th>name</th>\n",
       "      <th>marketcap</th>\n",
       "      <th>country</th>\n",
       "      <th>sector</th>\n",
       "    </tr>\n",
       "  </thead>\n",
       "  <tbody>\n",
       "    <tr>\n",
       "      <th>0</th>\n",
       "      <td>Apple</td>\n",
       "      <td>2242000000000</td>\n",
       "      <td>USA</td>\n",
       "      <td>[Tech, Software, Dowjones, TechHardware, Elect...</td>\n",
       "    </tr>\n",
       "    <tr>\n",
       "      <th>1</th>\n",
       "      <td>McDonald</td>\n",
       "      <td>198000000000</td>\n",
       "      <td>USA</td>\n",
       "      <td>[Restaurantchains, Dowjones, Food]</td>\n",
       "    </tr>\n",
       "    <tr>\n",
       "      <th>2</th>\n",
       "      <td>T-Mobile US</td>\n",
       "      <td>185110000000</td>\n",
       "      <td>USA</td>\n",
       "      <td>[Telecommunication]</td>\n",
       "    </tr>\n",
       "    <tr>\n",
       "      <th>3</th>\n",
       "      <td>Toyota</td>\n",
       "      <td>195660000000</td>\n",
       "      <td>Japan</td>\n",
       "      <td>[Automakers, Manufacturing]</td>\n",
       "    </tr>\n",
       "    <tr>\n",
       "      <th>4</th>\n",
       "      <td>Cisco</td>\n",
       "      <td>197920000000</td>\n",
       "      <td>USA</td>\n",
       "      <td>[Tech, Electronics, Networkinghardware, Dowjon...</td>\n",
       "    </tr>\n",
       "  </tbody>\n",
       "</table>\n",
       "</div>"
      ],
      "text/plain": [
       "          name      marketcap country  \\\n",
       "0        Apple  2242000000000     USA   \n",
       "1     McDonald   198000000000     USA   \n",
       "2  T-Mobile US   185110000000     USA   \n",
       "3       Toyota   195660000000   Japan   \n",
       "4        Cisco   197920000000     USA   \n",
       "\n",
       "                                              sector  \n",
       "0  [Tech, Software, Dowjones, TechHardware, Elect...  \n",
       "1                 [Restaurantchains, Dowjones, Food]  \n",
       "2                                [Telecommunication]  \n",
       "3                        [Automakers, Manufacturing]  \n",
       "4  [Tech, Electronics, Networkinghardware, Dowjon...  "
      ]
     },
     "execution_count": 232,
     "metadata": {},
     "output_type": "execute_result"
    }
   ],
   "source": [
    "igmm_companies.marketcap = igmm_companies.marketcap.apply(lambda x: convert_market_cap_revenue(x) if pd.notnull(x) else x)\n",
    "igmm_companies = igmm_companies.replace('N/A', np.nan) \n",
    "igmm_companies.marketcap = igmm_companies.marketcap.astype(object).astype('Int64')\n",
    "igmm_companies.head()"
   ]
  },
  {
   "cell_type": "code",
   "execution_count": 233,
   "metadata": {},
   "outputs": [],
   "source": [
    "cleaned_files.append(igmm_companies)"
   ]
  },
  {
   "cell_type": "markdown",
   "metadata": {},
   "source": [
    "### iGMM-disfold.com.json"
   ]
  },
  {
   "cell_type": "code",
   "execution_count": 234,
   "metadata": {},
   "outputs": [
    {
     "data": {
      "text/plain": [
       "'src/datasets/iGMM-disfold.com.json'"
      ]
     },
     "execution_count": 234,
     "metadata": {},
     "output_type": "execute_result"
    }
   ],
   "source": [
    "files_list[35]"
   ]
  },
  {
   "cell_type": "code",
   "execution_count": 235,
   "metadata": {},
   "outputs": [
    {
     "data": {
      "text/html": [
       "<div>\n",
       "<style scoped>\n",
       "    .dataframe tbody tr th:only-of-type {\n",
       "        vertical-align: middle;\n",
       "    }\n",
       "\n",
       "    .dataframe tbody tr th {\n",
       "        vertical-align: top;\n",
       "    }\n",
       "\n",
       "    .dataframe thead th {\n",
       "        text-align: right;\n",
       "    }\n",
       "</style>\n",
       "<table border=\"1\" class=\"dataframe\">\n",
       "  <thead>\n",
       "    <tr style=\"text-align: right;\">\n",
       "      <th></th>\n",
       "      <th>name</th>\n",
       "      <th>code</th>\n",
       "      <th>rank</th>\n",
       "      <th>ceo</th>\n",
       "      <th>country</th>\n",
       "      <th>sector</th>\n",
       "      <th>industry</th>\n",
       "      <th>headquarters</th>\n",
       "      <th>employees</th>\n",
       "      <th>founded</th>\n",
       "      <th>marketcap</th>\n",
       "      <th>revenue</th>\n",
       "      <th>net income</th>\n",
       "      <th>link</th>\n",
       "    </tr>\n",
       "  </thead>\n",
       "  <tbody>\n",
       "    <tr>\n",
       "      <th>0</th>\n",
       "      <td>Apple</td>\n",
       "      <td>AAPL</td>\n",
       "      <td>1</td>\n",
       "      <td>Mr. Timothy D. Cook</td>\n",
       "      <td>United States</td>\n",
       "      <td>Technology</td>\n",
       "      <td>Consumer Electronics</td>\n",
       "      <td>Cupertino, CA, United States</td>\n",
       "      <td>100,000</td>\n",
       "      <td>April 1, 1976</td>\n",
       "      <td>$2.825 Trillion</td>\n",
       "      <td>US$365.82 billion (2021)</td>\n",
       "      <td>US$94.68 billion (2021)</td>\n",
       "      <td>[https://www.apple.com, https://www.facebook.c...</td>\n",
       "    </tr>\n",
       "    <tr>\n",
       "      <th>1</th>\n",
       "      <td>ExxonMobil</td>\n",
       "      <td>XOM</td>\n",
       "      <td>23</td>\n",
       "      <td>Mr. Darren W. Woods</td>\n",
       "      <td>United States</td>\n",
       "      <td>Energy</td>\n",
       "      <td>Oil &amp; Gas Integrated</td>\n",
       "      <td>Irving, TX, United States</td>\n",
       "      <td>63,000</td>\n",
       "      <td>November 30, 1999</td>\n",
       "      <td>$348.72 Billion</td>\n",
       "      <td>US$276.692 billion (2021)</td>\n",
       "      <td>US$23.040 billion (2021)</td>\n",
       "      <td>[https://corporate.exxonmobil.com, https://en....</td>\n",
       "    </tr>\n",
       "    <tr>\n",
       "      <th>2</th>\n",
       "      <td>Roche</td>\n",
       "      <td>ROG</td>\n",
       "      <td>22</td>\n",
       "      <td>Dr. Severin Schwan Ph.D.</td>\n",
       "      <td>Switzerland</td>\n",
       "      <td>Healthcare</td>\n",
       "      <td>Drug Manufacturers—General</td>\n",
       "      <td>Basel, Switzerland</td>\n",
       "      <td>100,920</td>\n",
       "      <td>None</td>\n",
       "      <td>US$349.50 Billion</td>\n",
       "      <td>None</td>\n",
       "      <td>None</td>\n",
       "      <td>[https://www.roche.com]</td>\n",
       "    </tr>\n",
       "    <tr>\n",
       "      <th>3</th>\n",
       "      <td>Home Depot</td>\n",
       "      <td>HD</td>\n",
       "      <td>25</td>\n",
       "      <td>Mr. Edward P. Decker</td>\n",
       "      <td>United States</td>\n",
       "      <td>Consumer Discretionary</td>\n",
       "      <td>Home Improvement Retail</td>\n",
       "      <td>Atlanta, GA, United States</td>\n",
       "      <td>490,600</td>\n",
       "      <td>February 6, 1978</td>\n",
       "      <td>$321.47 Billion</td>\n",
       "      <td>US$110.2 billion (2019)</td>\n",
       "      <td>US$11.24 billion (2019)</td>\n",
       "      <td>[https://www.homedepot.com, https://en.wikiped...</td>\n",
       "    </tr>\n",
       "    <tr>\n",
       "      <th>4</th>\n",
       "      <td>Pfizer</td>\n",
       "      <td>PFE</td>\n",
       "      <td>27</td>\n",
       "      <td>Dr. Albert Bourla D.V.M., DVM, Ph.D.</td>\n",
       "      <td>United States</td>\n",
       "      <td>Healthcare</td>\n",
       "      <td>Drug Manufacturers—General</td>\n",
       "      <td>New York, NY, United States</td>\n",
       "      <td>79,000</td>\n",
       "      <td>1849</td>\n",
       "      <td>$300.79 Billion</td>\n",
       "      <td>$41.908 billion (2020)</td>\n",
       "      <td>$9.616 billion (2020)</td>\n",
       "      <td>[https://www.pfizer.com, https://www.facebook....</td>\n",
       "    </tr>\n",
       "  </tbody>\n",
       "</table>\n",
       "</div>"
      ],
      "text/plain": [
       "         name  code rank                                   ceo        country  \\\n",
       "0       Apple  AAPL    1                   Mr. Timothy D. Cook  United States   \n",
       "1  ExxonMobil   XOM   23                   Mr. Darren W. Woods  United States   \n",
       "2       Roche   ROG   22              Dr. Severin Schwan Ph.D.    Switzerland   \n",
       "3  Home Depot    HD   25                  Mr. Edward P. Decker  United States   \n",
       "4      Pfizer   PFE   27  Dr. Albert Bourla D.V.M., DVM, Ph.D.  United States   \n",
       "\n",
       "                   sector                    industry  \\\n",
       "0              Technology        Consumer Electronics   \n",
       "1                  Energy        Oil & Gas Integrated   \n",
       "2              Healthcare  Drug Manufacturers—General   \n",
       "3  Consumer Discretionary     Home Improvement Retail   \n",
       "4              Healthcare  Drug Manufacturers—General   \n",
       "\n",
       "                   headquarters employees            founded  \\\n",
       "0  Cupertino, CA, United States   100,000      April 1, 1976   \n",
       "1     Irving, TX, United States    63,000  November 30, 1999   \n",
       "2            Basel, Switzerland   100,920               None   \n",
       "3    Atlanta, GA, United States   490,600   February 6, 1978   \n",
       "4   New York, NY, United States    79,000               1849   \n",
       "\n",
       "           marketcap                    revenue                net income  \\\n",
       "0    $2.825 Trillion   US$365.82 billion (2021)   US$94.68 billion (2021)   \n",
       "1    $348.72 Billion  US$276.692 billion (2021)  US$23.040 billion (2021)   \n",
       "2  US$349.50 Billion                       None                      None   \n",
       "3    $321.47 Billion    US$110.2 billion (2019)   US$11.24 billion (2019)   \n",
       "4    $300.79 Billion     $41.908 billion (2020)     $9.616 billion (2020)   \n",
       "\n",
       "                                                link  \n",
       "0  [https://www.apple.com, https://www.facebook.c...  \n",
       "1  [https://corporate.exxonmobil.com, https://en....  \n",
       "2                            [https://www.roche.com]  \n",
       "3  [https://www.homedepot.com, https://en.wikiped...  \n",
       "4  [https://www.pfizer.com, https://www.facebook....  "
      ]
     },
     "execution_count": 235,
     "metadata": {},
     "output_type": "execute_result"
    }
   ],
   "source": [
    "igmm_disfold = pd.read_json(files_list[35])\n",
    "igmm_disfold.head()"
   ]
  },
  {
   "cell_type": "code",
   "execution_count": 236,
   "metadata": {},
   "outputs": [
    {
     "name": "stdout",
     "output_type": "stream",
     "text": [
      "Columns to remove:\n",
      "code\n",
      "rank\n",
      "net income\n"
     ]
    }
   ],
   "source": [
    "to_drop, _ = columns_to_remove_not_remove(igmm_disfold)\n",
    "to_drop.append(\"headquarters\")\n",
    "to_drop.append(\"revenue\")\n",
    "to_drop.append(\"industry\")"
   ]
  },
  {
   "cell_type": "code",
   "execution_count": 237,
   "metadata": {},
   "outputs": [
    {
     "name": "stdout",
     "output_type": "stream",
     "text": [
      "Columns to rename:\n",
      "link -> links\n"
     ]
    }
   ],
   "source": [
    "igmm_disfold = igmm_disfold.drop(to_drop, axis=1)\n",
    "to_rename = rename_columns(igmm_disfold.columns)\n",
    "igmm_disfold.columns = to_rename"
   ]
  },
  {
   "cell_type": "code",
   "execution_count": 238,
   "metadata": {},
   "outputs": [
    {
     "data": {
      "text/html": [
       "<div>\n",
       "<style scoped>\n",
       "    .dataframe tbody tr th:only-of-type {\n",
       "        vertical-align: middle;\n",
       "    }\n",
       "\n",
       "    .dataframe tbody tr th {\n",
       "        vertical-align: top;\n",
       "    }\n",
       "\n",
       "    .dataframe thead th {\n",
       "        text-align: right;\n",
       "    }\n",
       "</style>\n",
       "<table border=\"1\" class=\"dataframe\">\n",
       "  <thead>\n",
       "    <tr style=\"text-align: right;\">\n",
       "      <th></th>\n",
       "      <th>name</th>\n",
       "      <th>ceo</th>\n",
       "      <th>country</th>\n",
       "      <th>sector</th>\n",
       "      <th>employees</th>\n",
       "      <th>founded</th>\n",
       "      <th>marketcap</th>\n",
       "      <th>links</th>\n",
       "    </tr>\n",
       "  </thead>\n",
       "  <tbody>\n",
       "    <tr>\n",
       "      <th>0</th>\n",
       "      <td>Apple</td>\n",
       "      <td>Mr. Timothy D. Cook</td>\n",
       "      <td>United States</td>\n",
       "      <td>Technology</td>\n",
       "      <td>100000</td>\n",
       "      <td>1976</td>\n",
       "      <td>2825000000000</td>\n",
       "      <td>[https://www.apple.com, https://www.facebook.c...</td>\n",
       "    </tr>\n",
       "    <tr>\n",
       "      <th>1</th>\n",
       "      <td>ExxonMobil</td>\n",
       "      <td>Mr. Darren W. Woods</td>\n",
       "      <td>United States</td>\n",
       "      <td>Energy</td>\n",
       "      <td>63000</td>\n",
       "      <td>1999</td>\n",
       "      <td>348720000000</td>\n",
       "      <td>[https://corporate.exxonmobil.com, https://en....</td>\n",
       "    </tr>\n",
       "    <tr>\n",
       "      <th>2</th>\n",
       "      <td>Roche</td>\n",
       "      <td>Dr. Severin Schwan Ph.D.</td>\n",
       "      <td>Switzerland</td>\n",
       "      <td>Healthcare</td>\n",
       "      <td>100920</td>\n",
       "      <td>&lt;NA&gt;</td>\n",
       "      <td>349500000000</td>\n",
       "      <td>[https://www.roche.com]</td>\n",
       "    </tr>\n",
       "    <tr>\n",
       "      <th>3</th>\n",
       "      <td>Home Depot</td>\n",
       "      <td>Mr. Edward P. Decker</td>\n",
       "      <td>United States</td>\n",
       "      <td>Consumer Discretionary</td>\n",
       "      <td>490600</td>\n",
       "      <td>1978</td>\n",
       "      <td>321470000000</td>\n",
       "      <td>[https://www.homedepot.com, https://en.wikiped...</td>\n",
       "    </tr>\n",
       "    <tr>\n",
       "      <th>4</th>\n",
       "      <td>Pfizer</td>\n",
       "      <td>Dr. Albert Bourla D.V.M., DVM, Ph.D.</td>\n",
       "      <td>United States</td>\n",
       "      <td>Healthcare</td>\n",
       "      <td>79000</td>\n",
       "      <td>1849</td>\n",
       "      <td>300790000000</td>\n",
       "      <td>[https://www.pfizer.com, https://www.facebook....</td>\n",
       "    </tr>\n",
       "  </tbody>\n",
       "</table>\n",
       "</div>"
      ],
      "text/plain": [
       "         name                                   ceo        country  \\\n",
       "0       Apple                   Mr. Timothy D. Cook  United States   \n",
       "1  ExxonMobil                   Mr. Darren W. Woods  United States   \n",
       "2       Roche              Dr. Severin Schwan Ph.D.    Switzerland   \n",
       "3  Home Depot                  Mr. Edward P. Decker  United States   \n",
       "4      Pfizer  Dr. Albert Bourla D.V.M., DVM, Ph.D.  United States   \n",
       "\n",
       "                   sector  employees  founded      marketcap  \\\n",
       "0              Technology     100000     1976  2825000000000   \n",
       "1                  Energy      63000     1999   348720000000   \n",
       "2              Healthcare     100920     <NA>   349500000000   \n",
       "3  Consumer Discretionary     490600     1978   321470000000   \n",
       "4              Healthcare      79000     1849   300790000000   \n",
       "\n",
       "                                               links  \n",
       "0  [https://www.apple.com, https://www.facebook.c...  \n",
       "1  [https://corporate.exxonmobil.com, https://en....  \n",
       "2                            [https://www.roche.com]  \n",
       "3  [https://www.homedepot.com, https://en.wikiped...  \n",
       "4  [https://www.pfizer.com, https://www.facebook....  "
      ]
     },
     "execution_count": 238,
     "metadata": {},
     "output_type": "execute_result"
    }
   ],
   "source": [
    "igmm_disfold.employees = igmm_disfold.employees.apply(lambda x: str(x).replace(',', ''))\n",
    "igmm_disfold.founded = igmm_disfold.founded.str.extract(r'([\\d]{4})')\n",
    "igmm_disfold.marketcap = igmm_disfold.marketcap.apply(lambda x: convert_market_cap_revenue(x) if pd.notnull(x) else x)\n",
    "igmm_disfold = igmm_disfold.replace('None', np.nan)\n",
    "\n",
    "igmm_disfold.employees = igmm_disfold.employees.astype(object).astype('Int64')\n",
    "igmm_disfold.founded = igmm_disfold.founded.astype(object).astype('Int64')\n",
    "igmm_disfold.marketcap = igmm_disfold.marketcap.astype(object).astype('Int64')\n",
    "\n",
    "igmm_disfold.head()"
   ]
  },
  {
   "cell_type": "code",
   "execution_count": 239,
   "metadata": {},
   "outputs": [],
   "source": [
    "cleaned_files.append(igmm_disfold)"
   ]
  },
  {
   "cell_type": "markdown",
   "metadata": {},
   "source": [
    "### iGMM-value.today.json"
   ]
  },
  {
   "cell_type": "code",
   "execution_count": 240,
   "metadata": {},
   "outputs": [
    {
     "data": {
      "text/plain": [
       "'src/datasets/iGMM-value.today.json'"
      ]
     },
     "execution_count": 240,
     "metadata": {},
     "output_type": "execute_result"
    }
   ],
   "source": [
    "files_list[36]"
   ]
  },
  {
   "cell_type": "code",
   "execution_count": 241,
   "metadata": {},
   "outputs": [
    {
     "data": {
      "text/html": [
       "<div>\n",
       "<style scoped>\n",
       "    .dataframe tbody tr th:only-of-type {\n",
       "        vertical-align: middle;\n",
       "    }\n",
       "\n",
       "    .dataframe tbody tr th {\n",
       "        vertical-align: top;\n",
       "    }\n",
       "\n",
       "    .dataframe thead th {\n",
       "        text-align: right;\n",
       "    }\n",
       "</style>\n",
       "<table border=\"1\" class=\"dataframe\">\n",
       "  <thead>\n",
       "    <tr style=\"text-align: right;\">\n",
       "      <th></th>\n",
       "      <th>name</th>\n",
       "      <th>ceo</th>\n",
       "      <th>market value (Jan-07-2022)</th>\n",
       "      <th>world rank (Jan-07-2022)</th>\n",
       "      <th>market value (Jan 1st 2020)</th>\n",
       "      <th>world rank (Jan-2020)</th>\n",
       "      <th>headquarters country</th>\n",
       "      <th>number of employees</th>\n",
       "      <th>company business</th>\n",
       "      <th>annual revenue in USD</th>\n",
       "      <th>annual net income in USD</th>\n",
       "      <th>company website</th>\n",
       "    </tr>\n",
       "  </thead>\n",
       "  <tbody>\n",
       "    <tr>\n",
       "      <th>0</th>\n",
       "      <td>APPLE</td>\n",
       "      <td>Tim Cook</td>\n",
       "      <td>2,825.000 Billion USD</td>\n",
       "      <td>1</td>\n",
       "      <td>1,323.000 Billion USD</td>\n",
       "      <td>2.0</td>\n",
       "      <td>USA</td>\n",
       "      <td>154,000</td>\n",
       "      <td>[Technology, Mobiles &amp; Accessories, Electronics]</td>\n",
       "      <td>365,820 Million USD</td>\n",
       "      <td>94,680 Million USD</td>\n",
       "      <td>https://www.apple.com/</td>\n",
       "    </tr>\n",
       "    <tr>\n",
       "      <th>1</th>\n",
       "      <td>MICROSOFT CORPORATION</td>\n",
       "      <td>Satya Nadella</td>\n",
       "      <td>2,358.000 Billion USD</td>\n",
       "      <td>2</td>\n",
       "      <td>1,215.000 Billion USD</td>\n",
       "      <td>3.0</td>\n",
       "      <td>USA</td>\n",
       "      <td>220,000</td>\n",
       "      <td>[Technology, Software and IT, Laptops]</td>\n",
       "      <td>198,270 Million USD</td>\n",
       "      <td>72,738 Million USD</td>\n",
       "      <td>https://www.microsoft.com/</td>\n",
       "    </tr>\n",
       "    <tr>\n",
       "      <th>2</th>\n",
       "      <td>SAUDI ARABIAN OIL COMPANY (Saudi Aramco)</td>\n",
       "      <td>Amin H. Al-Nasser</td>\n",
       "      <td>1,889.600 Billion USD</td>\n",
       "      <td>3</td>\n",
       "      <td>1,898.100 Billion USD</td>\n",
       "      <td>1.0</td>\n",
       "      <td>Saudi Arabia</td>\n",
       "      <td>79,800</td>\n",
       "      <td>[Energy, Oil and Gas, Chemicals]</td>\n",
       "      <td>400,460 Million USD</td>\n",
       "      <td>105,380 Million USD</td>\n",
       "      <td>https://www.saudiaramco.com/</td>\n",
       "    </tr>\n",
       "    <tr>\n",
       "      <th>3</th>\n",
       "      <td>ALPHABET</td>\n",
       "      <td>Sundar Pichai</td>\n",
       "      <td>1,820.000 Billion USD</td>\n",
       "      <td>4</td>\n",
       "      <td>943.897 Billion USD</td>\n",
       "      <td>4.0</td>\n",
       "      <td>USA</td>\n",
       "      <td>156,500</td>\n",
       "      <td>[Technology, Internet or Mobile App Based Busi...</td>\n",
       "      <td>257,640 Million USD</td>\n",
       "      <td>76,003 Million USD</td>\n",
       "      <td>https://abc.xyz/</td>\n",
       "    </tr>\n",
       "    <tr>\n",
       "      <th>4</th>\n",
       "      <td>AMAZON.COM</td>\n",
       "      <td>Andy Jassy</td>\n",
       "      <td>1,649.000 Billion USD</td>\n",
       "      <td>5</td>\n",
       "      <td>941.028 Billion USD</td>\n",
       "      <td>5.0</td>\n",
       "      <td>USA</td>\n",
       "      <td>1,335,000</td>\n",
       "      <td>[eCommerce, Internet or Mobile App Based Busin...</td>\n",
       "      <td>469,820 Million USD</td>\n",
       "      <td>33,364 Million USD</td>\n",
       "      <td>https://www.amazon.com/</td>\n",
       "    </tr>\n",
       "  </tbody>\n",
       "</table>\n",
       "</div>"
      ],
      "text/plain": [
       "                                       name                ceo  \\\n",
       "0                                     APPLE           Tim Cook   \n",
       "1                     MICROSOFT CORPORATION      Satya Nadella   \n",
       "2  SAUDI ARABIAN OIL COMPANY (Saudi Aramco)  Amin H. Al-Nasser   \n",
       "3                                  ALPHABET      Sundar Pichai   \n",
       "4                                AMAZON.COM         Andy Jassy   \n",
       "\n",
       "  market value (Jan-07-2022) world rank (Jan-07-2022)  \\\n",
       "0      2,825.000 Billion USD                        1   \n",
       "1      2,358.000 Billion USD                        2   \n",
       "2      1,889.600 Billion USD                        3   \n",
       "3      1,820.000 Billion USD                        4   \n",
       "4      1,649.000 Billion USD                        5   \n",
       "\n",
       "  market value (Jan 1st 2020)  world rank (Jan-2020) headquarters country  \\\n",
       "0       1,323.000 Billion USD                    2.0                  USA   \n",
       "1       1,215.000 Billion USD                    3.0                  USA   \n",
       "2       1,898.100 Billion USD                    1.0         Saudi Arabia   \n",
       "3         943.897 Billion USD                    4.0                  USA   \n",
       "4         941.028 Billion USD                    5.0                  USA   \n",
       "\n",
       "  number of employees                                   company business  \\\n",
       "0             154,000   [Technology, Mobiles & Accessories, Electronics]   \n",
       "1             220,000             [Technology, Software and IT, Laptops]   \n",
       "2              79,800                   [Energy, Oil and Gas, Chemicals]   \n",
       "3             156,500  [Technology, Internet or Mobile App Based Busi...   \n",
       "4           1,335,000  [eCommerce, Internet or Mobile App Based Busin...   \n",
       "\n",
       "  annual revenue in USD annual net income in USD               company website  \n",
       "0   365,820 Million USD       94,680 Million USD        https://www.apple.com/  \n",
       "1   198,270 Million USD       72,738 Million USD    https://www.microsoft.com/  \n",
       "2   400,460 Million USD      105,380 Million USD  https://www.saudiaramco.com/  \n",
       "3   257,640 Million USD       76,003 Million USD              https://abc.xyz/  \n",
       "4   469,820 Million USD       33,364 Million USD       https://www.amazon.com/  "
      ]
     },
     "execution_count": 241,
     "metadata": {},
     "output_type": "execute_result"
    }
   ],
   "source": [
    "igmm_value = pd.read_json(files_list[36])\n",
    "igmm_value.head()"
   ]
  },
  {
   "cell_type": "code",
   "execution_count": 242,
   "metadata": {},
   "outputs": [
    {
     "name": "stdout",
     "output_type": "stream",
     "text": [
      "Columns to remove:\n",
      "market value (Jan-07-2022)\n",
      "world rank (Jan-07-2022)\n",
      "market value (Jan 1st 2020)\n",
      "world rank (Jan-2020)\n",
      "annual net income in USD\n",
      "company website\n"
     ]
    }
   ],
   "source": [
    "to_drop, _ = columns_to_remove_not_remove(igmm_value)"
   ]
  },
  {
   "cell_type": "code",
   "execution_count": 243,
   "metadata": {},
   "outputs": [
    {
     "name": "stdout",
     "output_type": "stream",
     "text": [
      "Columns to rename:\n",
      "headquarters country -> country\n",
      "number of employees -> employees\n",
      "company business -> sector\n",
      "annual revenue in USD -> revenue\n"
     ]
    }
   ],
   "source": [
    "igmm_value = igmm_value.drop(to_drop, axis=1)\n",
    "to_rename = rename_columns(igmm_value.columns)\n",
    "igmm_value.columns = to_rename"
   ]
  },
  {
   "cell_type": "code",
   "execution_count": 244,
   "metadata": {},
   "outputs": [
    {
     "data": {
      "text/html": [
       "<div>\n",
       "<style scoped>\n",
       "    .dataframe tbody tr th:only-of-type {\n",
       "        vertical-align: middle;\n",
       "    }\n",
       "\n",
       "    .dataframe tbody tr th {\n",
       "        vertical-align: top;\n",
       "    }\n",
       "\n",
       "    .dataframe thead th {\n",
       "        text-align: right;\n",
       "    }\n",
       "</style>\n",
       "<table border=\"1\" class=\"dataframe\">\n",
       "  <thead>\n",
       "    <tr style=\"text-align: right;\">\n",
       "      <th></th>\n",
       "      <th>name</th>\n",
       "      <th>ceo</th>\n",
       "      <th>country</th>\n",
       "      <th>employees</th>\n",
       "      <th>sector</th>\n",
       "      <th>revenue</th>\n",
       "    </tr>\n",
       "  </thead>\n",
       "  <tbody>\n",
       "    <tr>\n",
       "      <th>0</th>\n",
       "      <td>APPLE</td>\n",
       "      <td>Tim Cook</td>\n",
       "      <td>USA</td>\n",
       "      <td>100000</td>\n",
       "      <td>[Technology, Mobiles &amp; Accessories, Electronics]</td>\n",
       "      <td>365820000</td>\n",
       "    </tr>\n",
       "    <tr>\n",
       "      <th>1</th>\n",
       "      <td>MICROSOFT CORPORATION</td>\n",
       "      <td>Satya Nadella</td>\n",
       "      <td>USA</td>\n",
       "      <td>63000</td>\n",
       "      <td>[Technology, Software and IT, Laptops]</td>\n",
       "      <td>198270000</td>\n",
       "    </tr>\n",
       "    <tr>\n",
       "      <th>2</th>\n",
       "      <td>SAUDI ARABIAN OIL COMPANY (Saudi Aramco)</td>\n",
       "      <td>Amin H. Al-Nasser</td>\n",
       "      <td>Saudi Arabia</td>\n",
       "      <td>100920</td>\n",
       "      <td>[Energy, Oil and Gas, Chemicals]</td>\n",
       "      <td>400460000</td>\n",
       "    </tr>\n",
       "    <tr>\n",
       "      <th>3</th>\n",
       "      <td>ALPHABET</td>\n",
       "      <td>Sundar Pichai</td>\n",
       "      <td>USA</td>\n",
       "      <td>490600</td>\n",
       "      <td>[Technology, Internet or Mobile App Based Busi...</td>\n",
       "      <td>257640000</td>\n",
       "    </tr>\n",
       "    <tr>\n",
       "      <th>4</th>\n",
       "      <td>AMAZON.COM</td>\n",
       "      <td>Andy Jassy</td>\n",
       "      <td>USA</td>\n",
       "      <td>79000</td>\n",
       "      <td>[eCommerce, Internet or Mobile App Based Busin...</td>\n",
       "      <td>469820000</td>\n",
       "    </tr>\n",
       "  </tbody>\n",
       "</table>\n",
       "</div>"
      ],
      "text/plain": [
       "                                       name                ceo       country  \\\n",
       "0                                     APPLE           Tim Cook           USA   \n",
       "1                     MICROSOFT CORPORATION      Satya Nadella           USA   \n",
       "2  SAUDI ARABIAN OIL COMPANY (Saudi Aramco)  Amin H. Al-Nasser  Saudi Arabia   \n",
       "3                                  ALPHABET      Sundar Pichai           USA   \n",
       "4                                AMAZON.COM         Andy Jassy           USA   \n",
       "\n",
       "   employees                                             sector    revenue  \n",
       "0     100000   [Technology, Mobiles & Accessories, Electronics]  365820000  \n",
       "1      63000             [Technology, Software and IT, Laptops]  198270000  \n",
       "2     100920                   [Energy, Oil and Gas, Chemicals]  400460000  \n",
       "3     490600  [Technology, Internet or Mobile App Based Busi...  257640000  \n",
       "4      79000  [eCommerce, Internet or Mobile App Based Busin...  469820000  "
      ]
     },
     "execution_count": 244,
     "metadata": {},
     "output_type": "execute_result"
    }
   ],
   "source": [
    "igmm_value.employees = igmm_disfold.employees.apply(lambda x: str(x).replace(',', ''))\n",
    "igmm_value.revenue = igmm_value.revenue.apply(lambda x: convert_market_cap_revenue(x.replace(',', '.')) if pd.notnull(x) else x)\n",
    "igmm_value = igmm_value.replace('<NA>', np.nan)\n",
    "\n",
    "igmm_value.employees = igmm_value.employees.astype(object).astype('Int64')\n",
    "igmm_value.revenue = igmm_value.revenue.astype(object).astype('Int64')\n",
    "\n",
    "igmm_value.head()"
   ]
  },
  {
   "cell_type": "code",
   "execution_count": 245,
   "metadata": {},
   "outputs": [],
   "source": [
    "cleaned_files.append(igmm_value)"
   ]
  },
  {
   "cell_type": "markdown",
   "metadata": {},
   "source": [
    "## silvestri"
   ]
  },
  {
   "cell_type": "markdown",
   "metadata": {},
   "source": [
    "### silvestri-disfold.com.csv"
   ]
  },
  {
   "cell_type": "code",
   "execution_count": 246,
   "metadata": {},
   "outputs": [
    {
     "data": {
      "text/plain": [
       "'src/datasets/silvestri-disfold.com.csv'"
      ]
     },
     "execution_count": 246,
     "metadata": {},
     "output_type": "execute_result"
    }
   ],
   "source": [
    "files_list[37]"
   ]
  },
  {
   "cell_type": "code",
   "execution_count": 247,
   "metadata": {},
   "outputs": [
    {
     "data": {
      "text/html": [
       "<div>\n",
       "<style scoped>\n",
       "    .dataframe tbody tr th:only-of-type {\n",
       "        vertical-align: middle;\n",
       "    }\n",
       "\n",
       "    .dataframe tbody tr th {\n",
       "        vertical-align: top;\n",
       "    }\n",
       "\n",
       "    .dataframe thead th {\n",
       "        text-align: right;\n",
       "    }\n",
       "</style>\n",
       "<table border=\"1\" class=\"dataframe\">\n",
       "  <thead>\n",
       "    <tr style=\"text-align: right;\">\n",
       "      <th></th>\n",
       "      <th>name</th>\n",
       "      <th>country</th>\n",
       "      <th>market_value_apr_2022</th>\n",
       "      <th>sector</th>\n",
       "      <th>stock</th>\n",
       "    </tr>\n",
       "  </thead>\n",
       "  <tbody>\n",
       "    <tr>\n",
       "      <th>0</th>\n",
       "      <td>Apple Inc.</td>\n",
       "      <td>united states</td>\n",
       "      <td>$2.825 T</td>\n",
       "      <td>technology</td>\n",
       "      <td>AAPL</td>\n",
       "    </tr>\n",
       "    <tr>\n",
       "      <th>1</th>\n",
       "      <td>Microsoft Corporation</td>\n",
       "      <td>united states</td>\n",
       "      <td>$2.328 T</td>\n",
       "      <td>technology</td>\n",
       "      <td>MSFT</td>\n",
       "    </tr>\n",
       "    <tr>\n",
       "      <th>2</th>\n",
       "      <td>Saudi Arabian Oil Company</td>\n",
       "      <td>saudi arabia</td>\n",
       "      <td>$2.297 T</td>\n",
       "      <td>energy</td>\n",
       "      <td>2222</td>\n",
       "    </tr>\n",
       "    <tr>\n",
       "      <th>3</th>\n",
       "      <td>Alphabet Inc.</td>\n",
       "      <td>united states</td>\n",
       "      <td>$1.825 T</td>\n",
       "      <td>communication services</td>\n",
       "      <td>GOOG</td>\n",
       "    </tr>\n",
       "    <tr>\n",
       "      <th>4</th>\n",
       "      <td>Amazon.com, Inc.</td>\n",
       "      <td>united states</td>\n",
       "      <td>$1.642 T</td>\n",
       "      <td>consumer discretionary</td>\n",
       "      <td>AMZN</td>\n",
       "    </tr>\n",
       "  </tbody>\n",
       "</table>\n",
       "</div>"
      ],
      "text/plain": [
       "                        name        country market_value_apr_2022  \\\n",
       "0                 Apple Inc.  united states              $2.825 T   \n",
       "1      Microsoft Corporation  united states              $2.328 T   \n",
       "2  Saudi Arabian Oil Company   saudi arabia              $2.297 T   \n",
       "3              Alphabet Inc.  united states              $1.825 T   \n",
       "4           Amazon.com, Inc.  united states              $1.642 T   \n",
       "\n",
       "                   sector stock  \n",
       "0              technology  AAPL  \n",
       "1              technology  MSFT  \n",
       "2                  energy  2222  \n",
       "3  communication services  GOOG  \n",
       "4  consumer discretionary  AMZN  "
      ]
     },
     "execution_count": 247,
     "metadata": {},
     "output_type": "execute_result"
    }
   ],
   "source": [
    "silvestri_disfold = pd.read_csv(files_list[37])\n",
    "silvestri_disfold.head()"
   ]
  },
  {
   "cell_type": "code",
   "execution_count": 248,
   "metadata": {},
   "outputs": [
    {
     "name": "stdout",
     "output_type": "stream",
     "text": [
      "Columns to remove:\n",
      "market_value_apr_2022\n",
      "stock\n"
     ]
    }
   ],
   "source": [
    "to_drop, _ = columns_to_remove_not_remove(silvestri_disfold)"
   ]
  },
  {
   "cell_type": "code",
   "execution_count": 249,
   "metadata": {},
   "outputs": [
    {
     "name": "stdout",
     "output_type": "stream",
     "text": [
      "Columns to rename:\n"
     ]
    },
    {
     "data": {
      "text/html": [
       "<div>\n",
       "<style scoped>\n",
       "    .dataframe tbody tr th:only-of-type {\n",
       "        vertical-align: middle;\n",
       "    }\n",
       "\n",
       "    .dataframe tbody tr th {\n",
       "        vertical-align: top;\n",
       "    }\n",
       "\n",
       "    .dataframe thead th {\n",
       "        text-align: right;\n",
       "    }\n",
       "</style>\n",
       "<table border=\"1\" class=\"dataframe\">\n",
       "  <thead>\n",
       "    <tr style=\"text-align: right;\">\n",
       "      <th></th>\n",
       "      <th>name</th>\n",
       "      <th>country</th>\n",
       "      <th>sector</th>\n",
       "    </tr>\n",
       "  </thead>\n",
       "  <tbody>\n",
       "    <tr>\n",
       "      <th>0</th>\n",
       "      <td>Apple Inc.</td>\n",
       "      <td>united states</td>\n",
       "      <td>technology</td>\n",
       "    </tr>\n",
       "    <tr>\n",
       "      <th>1</th>\n",
       "      <td>Microsoft Corporation</td>\n",
       "      <td>united states</td>\n",
       "      <td>technology</td>\n",
       "    </tr>\n",
       "    <tr>\n",
       "      <th>2</th>\n",
       "      <td>Saudi Arabian Oil Company</td>\n",
       "      <td>saudi arabia</td>\n",
       "      <td>energy</td>\n",
       "    </tr>\n",
       "    <tr>\n",
       "      <th>3</th>\n",
       "      <td>Alphabet Inc.</td>\n",
       "      <td>united states</td>\n",
       "      <td>communication services</td>\n",
       "    </tr>\n",
       "    <tr>\n",
       "      <th>4</th>\n",
       "      <td>Amazon.com, Inc.</td>\n",
       "      <td>united states</td>\n",
       "      <td>consumer discretionary</td>\n",
       "    </tr>\n",
       "  </tbody>\n",
       "</table>\n",
       "</div>"
      ],
      "text/plain": [
       "                        name        country                  sector\n",
       "0                 Apple Inc.  united states              technology\n",
       "1      Microsoft Corporation  united states              technology\n",
       "2  Saudi Arabian Oil Company   saudi arabia                  energy\n",
       "3              Alphabet Inc.  united states  communication services\n",
       "4           Amazon.com, Inc.  united states  consumer discretionary"
      ]
     },
     "execution_count": 249,
     "metadata": {},
     "output_type": "execute_result"
    }
   ],
   "source": [
    "silvestri_disfold = silvestri_disfold.drop(to_drop, axis=1)\n",
    "to_rename = rename_columns(silvestri_disfold.columns)\n",
    "silvestri_disfold.columns = to_rename\n",
    "silvestri_disfold.head()"
   ]
  },
  {
   "cell_type": "code",
   "execution_count": 250,
   "metadata": {},
   "outputs": [],
   "source": [
    "cleaned_files.append(silvestri_disfold)"
   ]
  },
  {
   "cell_type": "markdown",
   "metadata": {},
   "source": [
    "### silvestri-forbes.com.csv"
   ]
  },
  {
   "cell_type": "code",
   "execution_count": 251,
   "metadata": {},
   "outputs": [
    {
     "data": {
      "text/plain": [
       "'src/datasets/silvestri-forbes.com.csv'"
      ]
     },
     "execution_count": 251,
     "metadata": {},
     "output_type": "execute_result"
    }
   ],
   "source": [
    "files_list[38]"
   ]
  },
  {
   "cell_type": "code",
   "execution_count": 252,
   "metadata": {},
   "outputs": [
    {
     "data": {
      "text/html": [
       "<div>\n",
       "<style scoped>\n",
       "    .dataframe tbody tr th:only-of-type {\n",
       "        vertical-align: middle;\n",
       "    }\n",
       "\n",
       "    .dataframe tbody tr th {\n",
       "        vertical-align: top;\n",
       "    }\n",
       "\n",
       "    .dataframe thead th {\n",
       "        text-align: right;\n",
       "    }\n",
       "</style>\n",
       "<table border=\"1\" class=\"dataframe\">\n",
       "  <thead>\n",
       "    <tr style=\"text-align: right;\">\n",
       "      <th></th>\n",
       "      <th>country</th>\n",
       "      <th>market_value_apr_2022</th>\n",
       "      <th>name</th>\n",
       "      <th>revenue_2022</th>\n",
       "    </tr>\n",
       "  </thead>\n",
       "  <tbody>\n",
       "    <tr>\n",
       "      <th>0</th>\n",
       "      <td>united states</td>\n",
       "      <td>$741.48 B</td>\n",
       "      <td>berkshire hathaway</td>\n",
       "      <td>$276.09 B</td>\n",
       "    </tr>\n",
       "    <tr>\n",
       "      <th>1</th>\n",
       "      <td>china</td>\n",
       "      <td>$214.43 B</td>\n",
       "      <td>icbc</td>\n",
       "      <td>$208.13 B</td>\n",
       "    </tr>\n",
       "    <tr>\n",
       "      <th>2</th>\n",
       "      <td>saudi arabia</td>\n",
       "      <td>$2,292.08 B</td>\n",
       "      <td>saudi arabian oil company (saudi aramco)</td>\n",
       "      <td>$400.38 B</td>\n",
       "    </tr>\n",
       "    <tr>\n",
       "      <th>3</th>\n",
       "      <td>united states</td>\n",
       "      <td>$374.45 B</td>\n",
       "      <td>jpmorgan chase</td>\n",
       "      <td>$124.54 B</td>\n",
       "    </tr>\n",
       "    <tr>\n",
       "      <th>4</th>\n",
       "      <td>china</td>\n",
       "      <td>$181.32 B</td>\n",
       "      <td>china construction bank</td>\n",
       "      <td>$202.07 B</td>\n",
       "    </tr>\n",
       "  </tbody>\n",
       "</table>\n",
       "</div>"
      ],
      "text/plain": [
       "         country market_value_apr_2022  \\\n",
       "0  united states             $741.48 B   \n",
       "1          china             $214.43 B   \n",
       "2   saudi arabia           $2,292.08 B   \n",
       "3  united states             $374.45 B   \n",
       "4          china             $181.32 B   \n",
       "\n",
       "                                       name revenue_2022  \n",
       "0                        berkshire hathaway    $276.09 B  \n",
       "1                                      icbc    $208.13 B  \n",
       "2  saudi arabian oil company (saudi aramco)    $400.38 B  \n",
       "3                            jpmorgan chase    $124.54 B  \n",
       "4                   china construction bank    $202.07 B  "
      ]
     },
     "execution_count": 252,
     "metadata": {},
     "output_type": "execute_result"
    }
   ],
   "source": [
    "silvestri_forbes = pd.read_csv(files_list[38])\n",
    "silvestri_forbes.head()"
   ]
  },
  {
   "cell_type": "code",
   "execution_count": 253,
   "metadata": {},
   "outputs": [
    {
     "name": "stdout",
     "output_type": "stream",
     "text": [
      "Columns to remove:\n",
      "market_value_apr_2022\n"
     ]
    }
   ],
   "source": [
    "to_drop, _ = columns_to_remove_not_remove(silvestri_forbes)"
   ]
  },
  {
   "cell_type": "code",
   "execution_count": 254,
   "metadata": {},
   "outputs": [
    {
     "name": "stdout",
     "output_type": "stream",
     "text": [
      "Columns to rename:\n",
      "revenue_2022 -> revenue\n"
     ]
    }
   ],
   "source": [
    "silvestri_forbes = silvestri_forbes.drop(to_drop, axis=1)\n",
    "to_rename = rename_columns(silvestri_forbes.columns)\n",
    "silvestri_forbes.columns = to_rename"
   ]
  },
  {
   "cell_type": "code",
   "execution_count": 255,
   "metadata": {},
   "outputs": [
    {
     "data": {
      "text/html": [
       "<div>\n",
       "<style scoped>\n",
       "    .dataframe tbody tr th:only-of-type {\n",
       "        vertical-align: middle;\n",
       "    }\n",
       "\n",
       "    .dataframe tbody tr th {\n",
       "        vertical-align: top;\n",
       "    }\n",
       "\n",
       "    .dataframe thead th {\n",
       "        text-align: right;\n",
       "    }\n",
       "</style>\n",
       "<table border=\"1\" class=\"dataframe\">\n",
       "  <thead>\n",
       "    <tr style=\"text-align: right;\">\n",
       "      <th></th>\n",
       "      <th>country</th>\n",
       "      <th>name</th>\n",
       "      <th>revenue</th>\n",
       "    </tr>\n",
       "  </thead>\n",
       "  <tbody>\n",
       "    <tr>\n",
       "      <th>0</th>\n",
       "      <td>united states</td>\n",
       "      <td>berkshire hathaway</td>\n",
       "      <td>276090000000</td>\n",
       "    </tr>\n",
       "    <tr>\n",
       "      <th>1</th>\n",
       "      <td>china</td>\n",
       "      <td>icbc</td>\n",
       "      <td>208130000000</td>\n",
       "    </tr>\n",
       "    <tr>\n",
       "      <th>2</th>\n",
       "      <td>saudi arabia</td>\n",
       "      <td>saudi arabian oil company (saudi aramco)</td>\n",
       "      <td>400380000000</td>\n",
       "    </tr>\n",
       "    <tr>\n",
       "      <th>3</th>\n",
       "      <td>united states</td>\n",
       "      <td>jpmorgan chase</td>\n",
       "      <td>124540000000</td>\n",
       "    </tr>\n",
       "    <tr>\n",
       "      <th>4</th>\n",
       "      <td>china</td>\n",
       "      <td>china construction bank</td>\n",
       "      <td>202070000000</td>\n",
       "    </tr>\n",
       "  </tbody>\n",
       "</table>\n",
       "</div>"
      ],
      "text/plain": [
       "         country                                      name       revenue\n",
       "0  united states                        berkshire hathaway  276090000000\n",
       "1          china                                      icbc  208130000000\n",
       "2   saudi arabia  saudi arabian oil company (saudi aramco)  400380000000\n",
       "3  united states                            jpmorgan chase  124540000000\n",
       "4          china                   china construction bank  202070000000"
      ]
     },
     "execution_count": 255,
     "metadata": {},
     "output_type": "execute_result"
    }
   ],
   "source": [
    "silvestri_forbes.revenue = silvestri_forbes.revenue.apply(lambda x: convert_market_cap_revenue(x.replace(',', '.')) if pd.notnull(x) else x)\n",
    "silvestri_forbes.revenue = silvestri_forbes.revenue.astype(object).astype('Int64')\n",
    "silvestri_forbes.head()"
   ]
  },
  {
   "cell_type": "code",
   "execution_count": 256,
   "metadata": {},
   "outputs": [],
   "source": [
    "cleaned_files.append(silvestri_forbes)"
   ]
  },
  {
   "cell_type": "markdown",
   "metadata": {},
   "source": [
    "### silvestri-ft.com.csv"
   ]
  },
  {
   "cell_type": "code",
   "execution_count": 257,
   "metadata": {},
   "outputs": [
    {
     "data": {
      "text/plain": [
       "'src/datasets/silvestri-ft.com.csv'"
      ]
     },
     "execution_count": 257,
     "metadata": {},
     "output_type": "execute_result"
    }
   ],
   "source": [
    "files_list[39]"
   ]
  },
  {
   "cell_type": "code",
   "execution_count": 258,
   "metadata": {},
   "outputs": [
    {
     "data": {
      "text/html": [
       "<div>\n",
       "<style scoped>\n",
       "    .dataframe tbody tr th:only-of-type {\n",
       "        vertical-align: middle;\n",
       "    }\n",
       "\n",
       "    .dataframe tbody tr th {\n",
       "        vertical-align: top;\n",
       "    }\n",
       "\n",
       "    .dataframe thead th {\n",
       "        text-align: right;\n",
       "    }\n",
       "</style>\n",
       "<table border=\"1\" class=\"dataframe\">\n",
       "  <thead>\n",
       "    <tr style=\"text-align: right;\">\n",
       "      <th></th>\n",
       "      <th>country</th>\n",
       "      <th>employees_2017</th>\n",
       "      <th>employees_2020</th>\n",
       "      <th>founding_year</th>\n",
       "      <th>name</th>\n",
       "      <th>revenue_2017</th>\n",
       "      <th>revenue_2020</th>\n",
       "      <th>sector</th>\n",
       "    </tr>\n",
       "  </thead>\n",
       "  <tbody>\n",
       "    <tr>\n",
       "      <th>0</th>\n",
       "      <td>finland</td>\n",
       "      <td>1</td>\n",
       "      <td>218.0</td>\n",
       "      <td>2016</td>\n",
       "      <td>swappie</td>\n",
       "      <td>507,000</td>\n",
       "      <td>97,611,814</td>\n",
       "      <td>technology</td>\n",
       "    </tr>\n",
       "    <tr>\n",
       "      <th>1</th>\n",
       "      <td>lithuania</td>\n",
       "      <td>10</td>\n",
       "      <td>177.0</td>\n",
       "      <td>2013</td>\n",
       "      <td>kilo health</td>\n",
       "      <td>344,428</td>\n",
       "      <td>57,318,766</td>\n",
       "      <td>health</td>\n",
       "    </tr>\n",
       "    <tr>\n",
       "      <th>2</th>\n",
       "      <td>uk</td>\n",
       "      <td>4</td>\n",
       "      <td>32.0</td>\n",
       "      <td>2012</td>\n",
       "      <td>oci</td>\n",
       "      <td>4,325,512</td>\n",
       "      <td>568,322,073</td>\n",
       "      <td>financial services</td>\n",
       "    </tr>\n",
       "    <tr>\n",
       "      <th>3</th>\n",
       "      <td>uk</td>\n",
       "      <td>4</td>\n",
       "      <td>800.0</td>\n",
       "      <td>2016</td>\n",
       "      <td>onlyfans</td>\n",
       "      <td>2,652,185</td>\n",
       "      <td>316,732,986</td>\n",
       "      <td>technology</td>\n",
       "    </tr>\n",
       "    <tr>\n",
       "      <th>4</th>\n",
       "      <td>germany</td>\n",
       "      <td>9</td>\n",
       "      <td>365.0</td>\n",
       "      <td>2017</td>\n",
       "      <td>enpal</td>\n",
       "      <td>486,165</td>\n",
       "      <td>56,109,613</td>\n",
       "      <td>energy</td>\n",
       "    </tr>\n",
       "  </tbody>\n",
       "</table>\n",
       "</div>"
      ],
      "text/plain": [
       "     country employees_2017  employees_2020  founding_year         name  \\\n",
       "0    finland              1           218.0           2016      swappie   \n",
       "1  lithuania             10           177.0           2013  kilo health   \n",
       "2         uk              4            32.0           2012          oci   \n",
       "3         uk              4           800.0           2016     onlyfans   \n",
       "4    germany              9           365.0           2017        enpal   \n",
       "\n",
       "  revenue_2017 revenue_2020              sector  \n",
       "0      507,000   97,611,814          technology  \n",
       "1      344,428   57,318,766              health  \n",
       "2    4,325,512  568,322,073  financial services  \n",
       "3    2,652,185  316,732,986          technology  \n",
       "4      486,165   56,109,613              energy  "
      ]
     },
     "execution_count": 258,
     "metadata": {},
     "output_type": "execute_result"
    }
   ],
   "source": [
    "silvestri_ft = pd.read_csv(files_list[39])\n",
    "silvestri_ft.head()"
   ]
  },
  {
   "cell_type": "code",
   "execution_count": 259,
   "metadata": {},
   "outputs": [
    {
     "name": "stdout",
     "output_type": "stream",
     "text": [
      "Columns to remove:\n",
      "employees_2017\n",
      "revenue_2017\n"
     ]
    }
   ],
   "source": [
    "to_drop, _ = columns_to_remove_not_remove(silvestri_ft)"
   ]
  },
  {
   "cell_type": "code",
   "execution_count": 260,
   "metadata": {},
   "outputs": [
    {
     "name": "stdout",
     "output_type": "stream",
     "text": [
      "Columns to rename:\n",
      "employees_2020 -> employees\n",
      "founding_year -> founded\n",
      "revenue_2020 -> revenue\n"
     ]
    }
   ],
   "source": [
    "silvestri_ft = silvestri_ft.drop(to_drop, axis=1)\n",
    "to_rename = rename_columns(silvestri_ft.columns)\n",
    "silvestri_ft.columns = to_rename"
   ]
  },
  {
   "cell_type": "code",
   "execution_count": 261,
   "metadata": {},
   "outputs": [
    {
     "data": {
      "text/html": [
       "<div>\n",
       "<style scoped>\n",
       "    .dataframe tbody tr th:only-of-type {\n",
       "        vertical-align: middle;\n",
       "    }\n",
       "\n",
       "    .dataframe tbody tr th {\n",
       "        vertical-align: top;\n",
       "    }\n",
       "\n",
       "    .dataframe thead th {\n",
       "        text-align: right;\n",
       "    }\n",
       "</style>\n",
       "<table border=\"1\" class=\"dataframe\">\n",
       "  <thead>\n",
       "    <tr style=\"text-align: right;\">\n",
       "      <th></th>\n",
       "      <th>country</th>\n",
       "      <th>employees</th>\n",
       "      <th>founded</th>\n",
       "      <th>name</th>\n",
       "      <th>revenue</th>\n",
       "      <th>sector</th>\n",
       "    </tr>\n",
       "  </thead>\n",
       "  <tbody>\n",
       "    <tr>\n",
       "      <th>0</th>\n",
       "      <td>finland</td>\n",
       "      <td>218</td>\n",
       "      <td>2016</td>\n",
       "      <td>swappie</td>\n",
       "      <td>97611814</td>\n",
       "      <td>technology</td>\n",
       "    </tr>\n",
       "    <tr>\n",
       "      <th>1</th>\n",
       "      <td>lithuania</td>\n",
       "      <td>177</td>\n",
       "      <td>2013</td>\n",
       "      <td>kilo health</td>\n",
       "      <td>57318766</td>\n",
       "      <td>health</td>\n",
       "    </tr>\n",
       "    <tr>\n",
       "      <th>2</th>\n",
       "      <td>uk</td>\n",
       "      <td>32</td>\n",
       "      <td>2012</td>\n",
       "      <td>oci</td>\n",
       "      <td>568322073</td>\n",
       "      <td>financial services</td>\n",
       "    </tr>\n",
       "    <tr>\n",
       "      <th>3</th>\n",
       "      <td>uk</td>\n",
       "      <td>800</td>\n",
       "      <td>2016</td>\n",
       "      <td>onlyfans</td>\n",
       "      <td>316732986</td>\n",
       "      <td>technology</td>\n",
       "    </tr>\n",
       "    <tr>\n",
       "      <th>4</th>\n",
       "      <td>germany</td>\n",
       "      <td>365</td>\n",
       "      <td>2017</td>\n",
       "      <td>enpal</td>\n",
       "      <td>56109613</td>\n",
       "      <td>energy</td>\n",
       "    </tr>\n",
       "  </tbody>\n",
       "</table>\n",
       "</div>"
      ],
      "text/plain": [
       "     country  employees  founded         name    revenue              sector\n",
       "0    finland        218     2016      swappie   97611814          technology\n",
       "1  lithuania        177     2013  kilo health   57318766              health\n",
       "2         uk         32     2012          oci  568322073  financial services\n",
       "3         uk        800     2016     onlyfans  316732986          technology\n",
       "4    germany        365     2017        enpal   56109613              energy"
      ]
     },
     "execution_count": 261,
     "metadata": {},
     "output_type": "execute_result"
    }
   ],
   "source": [
    "silvestri_ft.revenue = silvestri_ft.revenue.apply(lambda x : (str(x).replace(',', '')))\n",
    "silvestri_ft.employees = silvestri_ft.employees.astype(str).replace(r'\\.0$', '', regex=True)\n",
    "silvestri_ft = silvestri_ft.replace('nan', np.nan)\n",
    "\n",
    "silvestri_ft.revenue = silvestri_ft.revenue.astype(object).astype('Int64')\n",
    "silvestri_ft.employees = silvestri_ft.employees.astype(object).astype('Int64')\n",
    "silvestri_ft.founded = silvestri_ft.founded.astype(object).astype('Int64')\n",
    "\n",
    "silvestri_ft.head()"
   ]
  },
  {
   "cell_type": "code",
   "execution_count": 262,
   "metadata": {},
   "outputs": [],
   "source": [
    "cleaned_files.append(silvestri_ft)"
   ]
  },
  {
   "cell_type": "markdown",
   "metadata": {},
   "source": [
    "### silvestri-value.today.csv"
   ]
  },
  {
   "cell_type": "code",
   "execution_count": 263,
   "metadata": {},
   "outputs": [
    {
     "data": {
      "text/plain": [
       "'src/datasets/silvestri-value.today.csv'"
      ]
     },
     "execution_count": 263,
     "metadata": {},
     "output_type": "execute_result"
    }
   ],
   "source": [
    "files_list[40]"
   ]
  },
  {
   "cell_type": "code",
   "execution_count": 264,
   "metadata": {},
   "outputs": [
    {
     "data": {
      "text/html": [
       "<div>\n",
       "<style scoped>\n",
       "    .dataframe tbody tr th:only-of-type {\n",
       "        vertical-align: middle;\n",
       "    }\n",
       "\n",
       "    .dataframe tbody tr th {\n",
       "        vertical-align: top;\n",
       "    }\n",
       "\n",
       "    .dataframe thead th {\n",
       "        text-align: right;\n",
       "    }\n",
       "</style>\n",
       "<table border=\"1\" class=\"dataframe\">\n",
       "  <thead>\n",
       "    <tr style=\"text-align: right;\">\n",
       "      <th></th>\n",
       "      <th>ceo</th>\n",
       "      <th>country</th>\n",
       "      <th>market_value_jan_2020</th>\n",
       "      <th>market_value_jan_2021</th>\n",
       "      <th>market_value_jan_2022</th>\n",
       "      <th>name</th>\n",
       "      <th>employees_2022</th>\n",
       "      <th>revenue_2022</th>\n",
       "      <th>sector</th>\n",
       "    </tr>\n",
       "  </thead>\n",
       "  <tbody>\n",
       "    <tr>\n",
       "      <th>0</th>\n",
       "      <td>Bernard Arnault</td>\n",
       "      <td>france</td>\n",
       "      <td>237.807 Billion USD</td>\n",
       "      <td>313.500 Billion USD</td>\n",
       "      <td>409.480 Billion USD</td>\n",
       "      <td>lvmh</td>\n",
       "      <td>150,000</td>\n",
       "      <td>70,765 Million USD</td>\n",
       "      <td>fashion and luxury goods</td>\n",
       "    </tr>\n",
       "    <tr>\n",
       "      <th>1</th>\n",
       "      <td>Ulf Mark Schneider</td>\n",
       "      <td>switzerland</td>\n",
       "      <td>311.592 Billion USD</td>\n",
       "      <td>336.110 Billion USD</td>\n",
       "      <td>372.720 Billion USD</td>\n",
       "      <td>nestle ag</td>\n",
       "      <td>276,000</td>\n",
       "      <td>92,575 Million USD</td>\n",
       "      <td>consumer defensive</td>\n",
       "    </tr>\n",
       "    <tr>\n",
       "      <th>2</th>\n",
       "      <td>Severin Schwan</td>\n",
       "      <td>switzerland</td>\n",
       "      <td>279.684 Billion USD</td>\n",
       "      <td>295.780 Billion USD</td>\n",
       "      <td>356.150 Billion USD</td>\n",
       "      <td>roche holding ag</td>\n",
       "      <td>100,920</td>\n",
       "      <td>66,757 Million USD</td>\n",
       "      <td>healthcare</td>\n",
       "    </tr>\n",
       "    <tr>\n",
       "      <th>3</th>\n",
       "      <td>Peter Wennink</td>\n",
       "      <td>netherlands</td>\n",
       "      <td>127.542 Billion USD</td>\n",
       "      <td>205.120 Billion USD</td>\n",
       "      <td>307.330 Billion USD</td>\n",
       "      <td>asml holding</td>\n",
       "      <td>28,000</td>\n",
       "      <td>20,509 Million USD</td>\n",
       "      <td>technology</td>\n",
       "    </tr>\n",
       "    <tr>\n",
       "      <th>4</th>\n",
       "      <td>Bob van Dijk</td>\n",
       "      <td>netherlands</td>\n",
       "      <td>125.912 Billion USD</td>\n",
       "      <td>176.280 Billion USD</td>\n",
       "      <td>254.550 Billion USD</td>\n",
       "      <td>prosus</td>\n",
       "      <td>23,874</td>\n",
       "      <td>6,866 Million USD</td>\n",
       "      <td>communication services</td>\n",
       "    </tr>\n",
       "  </tbody>\n",
       "</table>\n",
       "</div>"
      ],
      "text/plain": [
       "                  ceo      country market_value_jan_2020  \\\n",
       "0     Bernard Arnault       france   237.807 Billion USD   \n",
       "1  Ulf Mark Schneider  switzerland   311.592 Billion USD   \n",
       "2      Severin Schwan  switzerland   279.684 Billion USD   \n",
       "3       Peter Wennink  netherlands   127.542 Billion USD   \n",
       "4        Bob van Dijk  netherlands   125.912 Billion USD   \n",
       "\n",
       "  market_value_jan_2021 market_value_jan_2022              name  \\\n",
       "0   313.500 Billion USD   409.480 Billion USD              lvmh   \n",
       "1   336.110 Billion USD   372.720 Billion USD         nestle ag   \n",
       "2   295.780 Billion USD   356.150 Billion USD  roche holding ag   \n",
       "3   205.120 Billion USD   307.330 Billion USD      asml holding   \n",
       "4   176.280 Billion USD   254.550 Billion USD            prosus   \n",
       "\n",
       "  employees_2022        revenue_2022                    sector  \n",
       "0        150,000  70,765 Million USD  fashion and luxury goods  \n",
       "1        276,000  92,575 Million USD        consumer defensive  \n",
       "2        100,920  66,757 Million USD                healthcare  \n",
       "3         28,000  20,509 Million USD                technology  \n",
       "4         23,874   6,866 Million USD    communication services  "
      ]
     },
     "execution_count": 264,
     "metadata": {},
     "output_type": "execute_result"
    }
   ],
   "source": [
    "silvestri_value = pd.read_csv(files_list[40])\n",
    "silvestri_value.head()"
   ]
  },
  {
   "cell_type": "code",
   "execution_count": 265,
   "metadata": {},
   "outputs": [
    {
     "name": "stdout",
     "output_type": "stream",
     "text": [
      "Columns to remove:\n",
      "market_value_jan_2020\n",
      "market_value_jan_2021\n",
      "market_value_jan_2022\n"
     ]
    }
   ],
   "source": [
    "to_drop, _ = columns_to_remove_not_remove(silvestri_value)"
   ]
  },
  {
   "cell_type": "code",
   "execution_count": 266,
   "metadata": {},
   "outputs": [
    {
     "name": "stdout",
     "output_type": "stream",
     "text": [
      "Columns to rename:\n",
      "employees_2022 -> employees\n",
      "revenue_2022 -> revenue\n"
     ]
    }
   ],
   "source": [
    "silvestri_value = silvestri_value.drop(to_drop, axis=1)\n",
    "to_rename = rename_columns(silvestri_value.columns)\n",
    "silvestri_value.columns = to_rename"
   ]
  },
  {
   "cell_type": "code",
   "execution_count": 267,
   "metadata": {},
   "outputs": [
    {
     "data": {
      "text/html": [
       "<div>\n",
       "<style scoped>\n",
       "    .dataframe tbody tr th:only-of-type {\n",
       "        vertical-align: middle;\n",
       "    }\n",
       "\n",
       "    .dataframe tbody tr th {\n",
       "        vertical-align: top;\n",
       "    }\n",
       "\n",
       "    .dataframe thead th {\n",
       "        text-align: right;\n",
       "    }\n",
       "</style>\n",
       "<table border=\"1\" class=\"dataframe\">\n",
       "  <thead>\n",
       "    <tr style=\"text-align: right;\">\n",
       "      <th></th>\n",
       "      <th>ceo</th>\n",
       "      <th>country</th>\n",
       "      <th>name</th>\n",
       "      <th>employees</th>\n",
       "      <th>revenue</th>\n",
       "      <th>sector</th>\n",
       "    </tr>\n",
       "  </thead>\n",
       "  <tbody>\n",
       "    <tr>\n",
       "      <th>0</th>\n",
       "      <td>Bernard Arnault</td>\n",
       "      <td>france</td>\n",
       "      <td>lvmh</td>\n",
       "      <td>150000</td>\n",
       "      <td>70765000</td>\n",
       "      <td>fashion and luxury goods</td>\n",
       "    </tr>\n",
       "    <tr>\n",
       "      <th>1</th>\n",
       "      <td>Ulf Mark Schneider</td>\n",
       "      <td>switzerland</td>\n",
       "      <td>nestle ag</td>\n",
       "      <td>276000</td>\n",
       "      <td>92575000</td>\n",
       "      <td>consumer defensive</td>\n",
       "    </tr>\n",
       "    <tr>\n",
       "      <th>2</th>\n",
       "      <td>Severin Schwan</td>\n",
       "      <td>switzerland</td>\n",
       "      <td>roche holding ag</td>\n",
       "      <td>100920</td>\n",
       "      <td>66757000</td>\n",
       "      <td>healthcare</td>\n",
       "    </tr>\n",
       "    <tr>\n",
       "      <th>3</th>\n",
       "      <td>Peter Wennink</td>\n",
       "      <td>netherlands</td>\n",
       "      <td>asml holding</td>\n",
       "      <td>28000</td>\n",
       "      <td>20509000</td>\n",
       "      <td>technology</td>\n",
       "    </tr>\n",
       "    <tr>\n",
       "      <th>4</th>\n",
       "      <td>Bob van Dijk</td>\n",
       "      <td>netherlands</td>\n",
       "      <td>prosus</td>\n",
       "      <td>23874</td>\n",
       "      <td>6866000</td>\n",
       "      <td>communication services</td>\n",
       "    </tr>\n",
       "  </tbody>\n",
       "</table>\n",
       "</div>"
      ],
      "text/plain": [
       "                  ceo      country              name  employees   revenue  \\\n",
       "0     Bernard Arnault       france              lvmh     150000  70765000   \n",
       "1  Ulf Mark Schneider  switzerland         nestle ag     276000  92575000   \n",
       "2      Severin Schwan  switzerland  roche holding ag     100920  66757000   \n",
       "3       Peter Wennink  netherlands      asml holding      28000  20509000   \n",
       "4        Bob van Dijk  netherlands            prosus      23874   6866000   \n",
       "\n",
       "                     sector  \n",
       "0  fashion and luxury goods  \n",
       "1        consumer defensive  \n",
       "2                healthcare  \n",
       "3                technology  \n",
       "4    communication services  "
      ]
     },
     "execution_count": 267,
     "metadata": {},
     "output_type": "execute_result"
    }
   ],
   "source": [
    "silvestri_value.employees = silvestri_value.employees.apply(lambda x : (str(x).replace(',', '')))\n",
    "silvestri_value.revenue = silvestri_value.revenue.apply(lambda x: convert_market_cap_revenue(x.replace(',', '.')) if pd.notnull(x) else x)\n",
    "\n",
    "silvestri_value = silvestri_value.replace('<NA>', np.nan)\n",
    "silvestri_value = silvestri_value.replace('nan', np.nan)\n",
    "\n",
    "silvestri_value.employees = silvestri_value.employees.astype(object).astype('Int64')\n",
    "silvestri_value.revenue = silvestri_value.revenue.astype(object).astype('Int64')\n",
    "silvestri_value.head()"
   ]
  },
  {
   "cell_type": "code",
   "execution_count": 268,
   "metadata": {},
   "outputs": [],
   "source": [
    "cleaned_files.append(silvestri_value)"
   ]
  },
  {
   "cell_type": "markdown",
   "metadata": {},
   "source": [
    "## slytherin"
   ]
  },
  {
   "cell_type": "markdown",
   "metadata": {},
   "source": [
    "### slytherin-disfold.com.json"
   ]
  },
  {
   "cell_type": "code",
   "execution_count": 269,
   "metadata": {},
   "outputs": [
    {
     "data": {
      "text/plain": [
       "'src/datasets/slytherin-disfold.com.json'"
      ]
     },
     "execution_count": 269,
     "metadata": {},
     "output_type": "execute_result"
    }
   ],
   "source": [
    "files_list[41]"
   ]
  },
  {
   "cell_type": "code",
   "execution_count": 270,
   "metadata": {},
   "outputs": [
    {
     "data": {
      "text/html": [
       "<div>\n",
       "<style scoped>\n",
       "    .dataframe tbody tr th:only-of-type {\n",
       "        vertical-align: middle;\n",
       "    }\n",
       "\n",
       "    .dataframe tbody tr th {\n",
       "        vertical-align: top;\n",
       "    }\n",
       "\n",
       "    .dataframe thead th {\n",
       "        text-align: right;\n",
       "    }\n",
       "</style>\n",
       "<table border=\"1\" class=\"dataframe\">\n",
       "  <thead>\n",
       "    <tr style=\"text-align: right;\">\n",
       "      <th></th>\n",
       "      <th>link</th>\n",
       "      <th>name</th>\n",
       "      <th>headquarters</th>\n",
       "      <th>employees</th>\n",
       "      <th>ceo</th>\n",
       "      <th>market_cap</th>\n",
       "    </tr>\n",
       "  </thead>\n",
       "  <tbody>\n",
       "    <tr>\n",
       "      <th>0</th>\n",
       "      <td>https://disfold.com/company/great-wall-motor-c...</td>\n",
       "      <td>Great Wall Motor Co Ltd</td>\n",
       "      <td>Baoding, China</td>\n",
       "      <td>63,174</td>\n",
       "      <td>Not found</td>\n",
       "      <td>CN¥203.69 Billion</td>\n",
       "    </tr>\n",
       "    <tr>\n",
       "      <th>1</th>\n",
       "      <td>https://disfold.com/company/colbun-sa/</td>\n",
       "      <td>Colbún SA</td>\n",
       "      <td>Santiago, Chile</td>\n",
       "      <td>1,193</td>\n",
       "      <td>Mr. Thomas Lippold Keller</td>\n",
       "      <td>CL$1.098 Trillion</td>\n",
       "    </tr>\n",
       "    <tr>\n",
       "      <th>2</th>\n",
       "      <td>https://disfold.com/company/usinas-siderurgica...</td>\n",
       "      <td>Usinas Siderúrgicas de Minas Gerais SA</td>\n",
       "      <td>Belo Horizonte, Brazil</td>\n",
       "      <td>Not found</td>\n",
       "      <td>Mr. Sergio Leite de Andrade</td>\n",
       "      <td>€3.54 Billion</td>\n",
       "    </tr>\n",
       "    <tr>\n",
       "      <th>3</th>\n",
       "      <td>https://disfold.com/company/origin-enterprises...</td>\n",
       "      <td>Origin Enterprises plc</td>\n",
       "      <td>Dublin, Ireland</td>\n",
       "      <td>2,641</td>\n",
       "      <td>Mr. Sean Gerard Coyle</td>\n",
       "      <td>€539.3 Million</td>\n",
       "    </tr>\n",
       "    <tr>\n",
       "      <th>4</th>\n",
       "      <td>https://disfold.com/company/summit-real-estate...</td>\n",
       "      <td>Summit Real Estate Holdings Ltd</td>\n",
       "      <td>Haifa, Israel</td>\n",
       "      <td>144</td>\n",
       "      <td>Mr. Amir  Sagi</td>\n",
       "      <td>₪45.1 Million</td>\n",
       "    </tr>\n",
       "  </tbody>\n",
       "</table>\n",
       "</div>"
      ],
      "text/plain": [
       "                                                link  \\\n",
       "0  https://disfold.com/company/great-wall-motor-c...   \n",
       "1             https://disfold.com/company/colbun-sa/   \n",
       "2  https://disfold.com/company/usinas-siderurgica...   \n",
       "3  https://disfold.com/company/origin-enterprises...   \n",
       "4  https://disfold.com/company/summit-real-estate...   \n",
       "\n",
       "                                     name            headquarters  employees  \\\n",
       "0                 Great Wall Motor Co Ltd          Baoding, China     63,174   \n",
       "1                               Colbún SA         Santiago, Chile      1,193   \n",
       "2  Usinas Siderúrgicas de Minas Gerais SA  Belo Horizonte, Brazil  Not found   \n",
       "3                  Origin Enterprises plc         Dublin, Ireland      2,641   \n",
       "4         Summit Real Estate Holdings Ltd           Haifa, Israel        144   \n",
       "\n",
       "                           ceo         market_cap  \n",
       "0                    Not found  CN¥203.69 Billion  \n",
       "1    Mr. Thomas Lippold Keller  CL$1.098 Trillion  \n",
       "2  Mr. Sergio Leite de Andrade      €3.54 Billion  \n",
       "3        Mr. Sean Gerard Coyle     €539.3 Million  \n",
       "4               Mr. Amir  Sagi      ₪45.1 Million  "
      ]
     },
     "execution_count": 270,
     "metadata": {},
     "output_type": "execute_result"
    }
   ],
   "source": [
    "slytherin_disfold = pd.read_json(files_list[41])\n",
    "slytherin_disfold.head()"
   ]
  },
  {
   "attachments": {},
   "cell_type": "markdown",
   "metadata": {},
   "source": [
    "#### Marketcap diverse valute"
   ]
  },
  {
   "cell_type": "code",
   "execution_count": 271,
   "metadata": {},
   "outputs": [
    {
     "name": "stdout",
     "output_type": "stream",
     "text": [
      "Columns to remove:\n"
     ]
    }
   ],
   "source": [
    "to_drop, _ = columns_to_remove_not_remove(slytherin_disfold)\n",
    "to_drop.append(\"link\")\n",
    "to_drop.append(\"market_cap\")"
   ]
  },
  {
   "cell_type": "code",
   "execution_count": 272,
   "metadata": {},
   "outputs": [
    {
     "name": "stdout",
     "output_type": "stream",
     "text": [
      "Columns to rename:\n",
      "headquarters -> country\n"
     ]
    }
   ],
   "source": [
    "slytherin_disfold = slytherin_disfold.drop(to_drop, axis=1)\n",
    "to_rename = rename_columns(slytherin_disfold.columns)\n",
    "slytherin_disfold.columns = to_rename"
   ]
  },
  {
   "cell_type": "code",
   "execution_count": 273,
   "metadata": {},
   "outputs": [
    {
     "data": {
      "text/html": [
       "<div>\n",
       "<style scoped>\n",
       "    .dataframe tbody tr th:only-of-type {\n",
       "        vertical-align: middle;\n",
       "    }\n",
       "\n",
       "    .dataframe tbody tr th {\n",
       "        vertical-align: top;\n",
       "    }\n",
       "\n",
       "    .dataframe thead th {\n",
       "        text-align: right;\n",
       "    }\n",
       "</style>\n",
       "<table border=\"1\" class=\"dataframe\">\n",
       "  <thead>\n",
       "    <tr style=\"text-align: right;\">\n",
       "      <th></th>\n",
       "      <th>name</th>\n",
       "      <th>country</th>\n",
       "      <th>employees</th>\n",
       "      <th>ceo</th>\n",
       "    </tr>\n",
       "  </thead>\n",
       "  <tbody>\n",
       "    <tr>\n",
       "      <th>0</th>\n",
       "      <td>Great Wall Motor Co Ltd</td>\n",
       "      <td>China</td>\n",
       "      <td>63174</td>\n",
       "      <td>NaN</td>\n",
       "    </tr>\n",
       "    <tr>\n",
       "      <th>1</th>\n",
       "      <td>Colbún SA</td>\n",
       "      <td>Chile</td>\n",
       "      <td>1193</td>\n",
       "      <td>Mr. Thomas Lippold Keller</td>\n",
       "    </tr>\n",
       "    <tr>\n",
       "      <th>2</th>\n",
       "      <td>Usinas Siderúrgicas de Minas Gerais SA</td>\n",
       "      <td>Brazil</td>\n",
       "      <td>&lt;NA&gt;</td>\n",
       "      <td>Mr. Sergio Leite de Andrade</td>\n",
       "    </tr>\n",
       "    <tr>\n",
       "      <th>3</th>\n",
       "      <td>Origin Enterprises plc</td>\n",
       "      <td>Ireland</td>\n",
       "      <td>2641</td>\n",
       "      <td>Mr. Sean Gerard Coyle</td>\n",
       "    </tr>\n",
       "    <tr>\n",
       "      <th>4</th>\n",
       "      <td>Summit Real Estate Holdings Ltd</td>\n",
       "      <td>Israel</td>\n",
       "      <td>144</td>\n",
       "      <td>Mr. Amir  Sagi</td>\n",
       "    </tr>\n",
       "  </tbody>\n",
       "</table>\n",
       "</div>"
      ],
      "text/plain": [
       "                                     name  country  employees  \\\n",
       "0                 Great Wall Motor Co Ltd    China      63174   \n",
       "1                               Colbún SA    Chile       1193   \n",
       "2  Usinas Siderúrgicas de Minas Gerais SA   Brazil       <NA>   \n",
       "3                  Origin Enterprises plc  Ireland       2641   \n",
       "4         Summit Real Estate Holdings Ltd   Israel        144   \n",
       "\n",
       "                           ceo  \n",
       "0                          NaN  \n",
       "1    Mr. Thomas Lippold Keller  \n",
       "2  Mr. Sergio Leite de Andrade  \n",
       "3        Mr. Sean Gerard Coyle  \n",
       "4               Mr. Amir  Sagi  "
      ]
     },
     "execution_count": 273,
     "metadata": {},
     "output_type": "execute_result"
    }
   ],
   "source": [
    "slytherin_disfold.country = slytherin_disfold.country.apply(lambda x : (str(x).split(',')[-1].strip()))\n",
    "slytherin_disfold.employees = slytherin_disfold.employees.apply(lambda x : (str(x).replace(',', '')))\n",
    "slytherin_disfold = slytherin_disfold.replace('Not found', np.nan)\n",
    "\n",
    "slytherin_disfold.employees = slytherin_disfold.employees.astype(object).astype('Int64')\n",
    "\n",
    "slytherin_disfold.head()"
   ]
  },
  {
   "cell_type": "code",
   "execution_count": 274,
   "metadata": {},
   "outputs": [],
   "source": [
    "cleaned_files.append(slytherin_disfold)"
   ]
  },
  {
   "cell_type": "markdown",
   "metadata": {},
   "source": [
    "### slytherin-forbes.com.json"
   ]
  },
  {
   "cell_type": "code",
   "execution_count": 275,
   "metadata": {},
   "outputs": [
    {
     "data": {
      "text/plain": [
       "'src/datasets/slytherin-forbes.com.json'"
      ]
     },
     "execution_count": 275,
     "metadata": {},
     "output_type": "execute_result"
    }
   ],
   "source": [
    "files_list[42]"
   ]
  },
  {
   "cell_type": "code",
   "execution_count": 276,
   "metadata": {},
   "outputs": [
    {
     "data": {
      "text/html": [
       "<div>\n",
       "<style scoped>\n",
       "    .dataframe tbody tr th:only-of-type {\n",
       "        vertical-align: middle;\n",
       "    }\n",
       "\n",
       "    .dataframe tbody tr th {\n",
       "        vertical-align: top;\n",
       "    }\n",
       "\n",
       "    .dataframe thead th {\n",
       "        text-align: right;\n",
       "    }\n",
       "</style>\n",
       "<table border=\"1\" class=\"dataframe\">\n",
       "  <thead>\n",
       "    <tr style=\"text-align: right;\">\n",
       "      <th></th>\n",
       "      <th>link</th>\n",
       "      <th>name</th>\n",
       "      <th>industry</th>\n",
       "      <th>founded</th>\n",
       "      <th>country</th>\n",
       "      <th>ceo</th>\n",
       "      <th>employees</th>\n",
       "      <th>revenue</th>\n",
       "    </tr>\n",
       "  </thead>\n",
       "  <tbody>\n",
       "    <tr>\n",
       "      <th>0</th>\n",
       "      <td>https://www.forbes.com/companies/berkshire-hat...</td>\n",
       "      <td>Berkshire Hathaway</td>\n",
       "      <td>Diversified Financials</td>\n",
       "      <td>1939</td>\n",
       "      <td>United States</td>\n",
       "      <td>Warren Edward Buffett</td>\n",
       "      <td>372,000</td>\n",
       "      <td>$276.1B</td>\n",
       "    </tr>\n",
       "    <tr>\n",
       "      <th>1</th>\n",
       "      <td>https://www.forbes.com/companies/icbc</td>\n",
       "      <td>ICBC</td>\n",
       "      <td>Banking</td>\n",
       "      <td>1984</td>\n",
       "      <td>China</td>\n",
       "      <td>Shu Gu</td>\n",
       "      <td>434,089</td>\n",
       "      <td>$208.1B</td>\n",
       "    </tr>\n",
       "    <tr>\n",
       "      <th>2</th>\n",
       "      <td>https://www.forbes.com/companies/saudi-arabian...</td>\n",
       "      <td>Saudi Arabian Oil Company (Saudi Aramco)</td>\n",
       "      <td>Oil &amp; Gas Operations</td>\n",
       "      <td>1933</td>\n",
       "      <td>Saudi Arabia</td>\n",
       "      <td>Amin bin Hasan Al-Nasser</td>\n",
       "      <td>68,493</td>\n",
       "      <td>$400.4B</td>\n",
       "    </tr>\n",
       "    <tr>\n",
       "      <th>3</th>\n",
       "      <td>https://www.forbes.com/companies/jpmorgan-chase</td>\n",
       "      <td>JPMorgan Chase</td>\n",
       "      <td>Banking and Financial Services</td>\n",
       "      <td>2000</td>\n",
       "      <td>United States</td>\n",
       "      <td>Jamie Dimon</td>\n",
       "      <td>270,000</td>\n",
       "      <td>$124.5B</td>\n",
       "    </tr>\n",
       "    <tr>\n",
       "      <th>4</th>\n",
       "      <td>https://www.forbes.com/companies/china-constru...</td>\n",
       "      <td>China Construction Bank</td>\n",
       "      <td>Banking</td>\n",
       "      <td>2014</td>\n",
       "      <td>China</td>\n",
       "      <td>Wang Zuji</td>\n",
       "      <td>349,671</td>\n",
       "      <td>$202.1B</td>\n",
       "    </tr>\n",
       "  </tbody>\n",
       "</table>\n",
       "</div>"
      ],
      "text/plain": [
       "                                                link  \\\n",
       "0  https://www.forbes.com/companies/berkshire-hat...   \n",
       "1              https://www.forbes.com/companies/icbc   \n",
       "2  https://www.forbes.com/companies/saudi-arabian...   \n",
       "3    https://www.forbes.com/companies/jpmorgan-chase   \n",
       "4  https://www.forbes.com/companies/china-constru...   \n",
       "\n",
       "                                       name                        industry  \\\n",
       "0                        Berkshire Hathaway          Diversified Financials   \n",
       "1                                      ICBC                         Banking   \n",
       "2  Saudi Arabian Oil Company (Saudi Aramco)            Oil & Gas Operations   \n",
       "3                            JPMorgan Chase  Banking and Financial Services   \n",
       "4                   China Construction Bank                         Banking   \n",
       "\n",
       "  founded        country                       ceo employees  revenue  \n",
       "0    1939  United States     Warren Edward Buffett   372,000  $276.1B  \n",
       "1    1984          China                    Shu Gu   434,089  $208.1B  \n",
       "2    1933   Saudi Arabia  Amin bin Hasan Al-Nasser    68,493  $400.4B  \n",
       "3    2000  United States               Jamie Dimon   270,000  $124.5B  \n",
       "4    2014          China                 Wang Zuji   349,671  $202.1B  "
      ]
     },
     "execution_count": 276,
     "metadata": {},
     "output_type": "execute_result"
    }
   ],
   "source": [
    "slytherin_forbes = pd.read_json(files_list[42])\n",
    "slytherin_forbes.head()"
   ]
  },
  {
   "cell_type": "code",
   "execution_count": 277,
   "metadata": {},
   "outputs": [
    {
     "name": "stdout",
     "output_type": "stream",
     "text": [
      "Columns to remove:\n"
     ]
    }
   ],
   "source": [
    "to_drop, _ = columns_to_remove_not_remove(slytherin_forbes)\n",
    "to_drop.append(\"link\")"
   ]
  },
  {
   "cell_type": "code",
   "execution_count": 278,
   "metadata": {},
   "outputs": [
    {
     "name": "stdout",
     "output_type": "stream",
     "text": [
      "Columns to rename:\n",
      "industry -> sector\n"
     ]
    }
   ],
   "source": [
    "slytherin_forbes = slytherin_forbes.drop(to_drop, axis=1)\n",
    "to_rename = rename_columns(slytherin_forbes.columns)\n",
    "slytherin_forbes.columns = to_rename"
   ]
  },
  {
   "cell_type": "code",
   "execution_count": 279,
   "metadata": {},
   "outputs": [
    {
     "data": {
      "text/html": [
       "<div>\n",
       "<style scoped>\n",
       "    .dataframe tbody tr th:only-of-type {\n",
       "        vertical-align: middle;\n",
       "    }\n",
       "\n",
       "    .dataframe tbody tr th {\n",
       "        vertical-align: top;\n",
       "    }\n",
       "\n",
       "    .dataframe thead th {\n",
       "        text-align: right;\n",
       "    }\n",
       "</style>\n",
       "<table border=\"1\" class=\"dataframe\">\n",
       "  <thead>\n",
       "    <tr style=\"text-align: right;\">\n",
       "      <th></th>\n",
       "      <th>name</th>\n",
       "      <th>sector</th>\n",
       "      <th>founded</th>\n",
       "      <th>country</th>\n",
       "      <th>ceo</th>\n",
       "      <th>employees</th>\n",
       "      <th>revenue</th>\n",
       "    </tr>\n",
       "  </thead>\n",
       "  <tbody>\n",
       "    <tr>\n",
       "      <th>0</th>\n",
       "      <td>Berkshire Hathaway</td>\n",
       "      <td>Diversified Financials</td>\n",
       "      <td>1939</td>\n",
       "      <td>United States</td>\n",
       "      <td>Warren Edward Buffett</td>\n",
       "      <td>372000</td>\n",
       "      <td>276100000000</td>\n",
       "    </tr>\n",
       "    <tr>\n",
       "      <th>1</th>\n",
       "      <td>ICBC</td>\n",
       "      <td>Banking</td>\n",
       "      <td>1984</td>\n",
       "      <td>China</td>\n",
       "      <td>Shu Gu</td>\n",
       "      <td>434089</td>\n",
       "      <td>208100000000</td>\n",
       "    </tr>\n",
       "    <tr>\n",
       "      <th>2</th>\n",
       "      <td>Saudi Arabian Oil Company (Saudi Aramco)</td>\n",
       "      <td>Oil &amp; Gas Operations</td>\n",
       "      <td>1933</td>\n",
       "      <td>Saudi Arabia</td>\n",
       "      <td>Amin bin Hasan Al-Nasser</td>\n",
       "      <td>68493</td>\n",
       "      <td>400400000000</td>\n",
       "    </tr>\n",
       "    <tr>\n",
       "      <th>3</th>\n",
       "      <td>JPMorgan Chase</td>\n",
       "      <td>Banking and Financial Services</td>\n",
       "      <td>2000</td>\n",
       "      <td>United States</td>\n",
       "      <td>Jamie Dimon</td>\n",
       "      <td>270000</td>\n",
       "      <td>124500000000</td>\n",
       "    </tr>\n",
       "    <tr>\n",
       "      <th>4</th>\n",
       "      <td>China Construction Bank</td>\n",
       "      <td>Banking</td>\n",
       "      <td>2014</td>\n",
       "      <td>China</td>\n",
       "      <td>Wang Zuji</td>\n",
       "      <td>349671</td>\n",
       "      <td>202100000000</td>\n",
       "    </tr>\n",
       "  </tbody>\n",
       "</table>\n",
       "</div>"
      ],
      "text/plain": [
       "                                       name                          sector  \\\n",
       "0                        Berkshire Hathaway          Diversified Financials   \n",
       "1                                      ICBC                         Banking   \n",
       "2  Saudi Arabian Oil Company (Saudi Aramco)            Oil & Gas Operations   \n",
       "3                            JPMorgan Chase  Banking and Financial Services   \n",
       "4                   China Construction Bank                         Banking   \n",
       "\n",
       "   founded        country                       ceo  employees       revenue  \n",
       "0     1939  United States     Warren Edward Buffett     372000  276100000000  \n",
       "1     1984          China                    Shu Gu     434089  208100000000  \n",
       "2     1933   Saudi Arabia  Amin bin Hasan Al-Nasser      68493  400400000000  \n",
       "3     2000  United States               Jamie Dimon     270000  124500000000  \n",
       "4     2014          China                 Wang Zuji     349671  202100000000  "
      ]
     },
     "execution_count": 279,
     "metadata": {},
     "output_type": "execute_result"
    }
   ],
   "source": [
    "slytherin_forbes.employees = slytherin_forbes.employees.apply(lambda x : (str(x).replace(',', '')))\n",
    "slytherin_forbes.revenue = slytherin_forbes.revenue.apply(lambda x: convert_market_cap_revenue(x) if pd.notnull(x) else x)\n",
    "slytherin_forbes = slytherin_forbes.replace('Not found', np.nan)\n",
    "\n",
    "slytherin_forbes.employees = slytherin_forbes.employees.astype(object).astype('Int64')\n",
    "slytherin_forbes.revenue = slytherin_forbes.revenue.astype(object).astype('Int64')\n",
    "slytherin_forbes.founded = slytherin_forbes.founded.astype(object).astype('Int64')\n",
    "\n",
    "slytherin_forbes.head()"
   ]
  },
  {
   "cell_type": "code",
   "execution_count": 280,
   "metadata": {},
   "outputs": [],
   "source": [
    "cleaned_files.append(slytherin_forbes)"
   ]
  },
  {
   "cell_type": "markdown",
   "metadata": {},
   "source": [
    "### slytherin-ft.com.json"
   ]
  },
  {
   "cell_type": "code",
   "execution_count": 281,
   "metadata": {},
   "outputs": [
    {
     "data": {
      "text/plain": [
       "'src/datasets/slytherin-ft.com.json'"
      ]
     },
     "execution_count": 281,
     "metadata": {},
     "output_type": "execute_result"
    }
   ],
   "source": [
    "files_list[43]"
   ]
  },
  {
   "cell_type": "code",
   "execution_count": 282,
   "metadata": {},
   "outputs": [
    {
     "data": {
      "text/html": [
       "<div>\n",
       "<style scoped>\n",
       "    .dataframe tbody tr th:only-of-type {\n",
       "        vertical-align: middle;\n",
       "    }\n",
       "\n",
       "    .dataframe tbody tr th {\n",
       "        vertical-align: top;\n",
       "    }\n",
       "\n",
       "    .dataframe thead th {\n",
       "        text-align: right;\n",
       "    }\n",
       "</style>\n",
       "<table border=\"1\" class=\"dataframe\">\n",
       "  <thead>\n",
       "    <tr style=\"text-align: right;\">\n",
       "      <th></th>\n",
       "      <th>link</th>\n",
       "      <th>name</th>\n",
       "      <th>country</th>\n",
       "      <th>industry</th>\n",
       "      <th>revenue</th>\n",
       "      <th>employees</th>\n",
       "      <th>founded</th>\n",
       "    </tr>\n",
       "  </thead>\n",
       "  <tbody>\n",
       "    <tr>\n",
       "      <th>0</th>\n",
       "      <td>https://www.greatdealscorp.com/</td>\n",
       "      <td>Great Deals E-Commerce Corp.</td>\n",
       "      <td>Philippines</td>\n",
       "      <td>Ecommerce</td>\n",
       "      <td>88.77</td>\n",
       "      <td>385</td>\n",
       "      <td>2017</td>\n",
       "    </tr>\n",
       "    <tr>\n",
       "      <th>1</th>\n",
       "      <td>http://www.pclchip.com/</td>\n",
       "      <td>PCL Inc.</td>\n",
       "      <td>South Korea</td>\n",
       "      <td>Pharmaceuticals</td>\n",
       "      <td>45.48</td>\n",
       "      <td>63</td>\n",
       "      <td>2008</td>\n",
       "    </tr>\n",
       "    <tr>\n",
       "      <th>2</th>\n",
       "      <td>https://www.spolive.com/</td>\n",
       "      <td>Spolive</td>\n",
       "      <td>South Korea</td>\n",
       "      <td>Games industry</td>\n",
       "      <td>9.49</td>\n",
       "      <td>47</td>\n",
       "      <td>2013</td>\n",
       "    </tr>\n",
       "    <tr>\n",
       "      <th>3</th>\n",
       "      <td>https://www.workmate.asia/</td>\n",
       "      <td>Workmate</td>\n",
       "      <td>Singapore</td>\n",
       "      <td>Support Services</td>\n",
       "      <td>12.44</td>\n",
       "      <td>82</td>\n",
       "      <td>2015</td>\n",
       "    </tr>\n",
       "    <tr>\n",
       "      <th>4</th>\n",
       "      <td>http://www.taimedbiologics.com/</td>\n",
       "      <td>TaiMed Biologics</td>\n",
       "      <td>Taiwan</td>\n",
       "      <td>Pharmaceuticals</td>\n",
       "      <td>24.42</td>\n",
       "      <td>78</td>\n",
       "      <td>2007</td>\n",
       "    </tr>\n",
       "  </tbody>\n",
       "</table>\n",
       "</div>"
      ],
      "text/plain": [
       "                              link                          name      country  \\\n",
       "0  https://www.greatdealscorp.com/  Great Deals E-Commerce Corp.  Philippines   \n",
       "1          http://www.pclchip.com/                      PCL Inc.  South Korea   \n",
       "2         https://www.spolive.com/                       Spolive  South Korea   \n",
       "3       https://www.workmate.asia/                      Workmate    Singapore   \n",
       "4  http://www.taimedbiologics.com/              TaiMed Biologics       Taiwan   \n",
       "\n",
       "           industry revenue employees  founded  \n",
       "0         Ecommerce   88.77       385     2017  \n",
       "1   Pharmaceuticals   45.48        63     2008  \n",
       "2    Games industry    9.49        47     2013  \n",
       "3  Support Services   12.44        82     2015  \n",
       "4   Pharmaceuticals   24.42        78     2007  "
      ]
     },
     "execution_count": 282,
     "metadata": {},
     "output_type": "execute_result"
    }
   ],
   "source": [
    "slytherin_ft = pd.read_json(files_list[43])\n",
    "slytherin_ft.head()"
   ]
  },
  {
   "cell_type": "code",
   "execution_count": 283,
   "metadata": {},
   "outputs": [
    {
     "name": "stdout",
     "output_type": "stream",
     "text": [
      "Columns to remove:\n"
     ]
    }
   ],
   "source": [
    "to_drop, _ = columns_to_remove_not_remove(slytherin_ft)"
   ]
  },
  {
   "cell_type": "code",
   "execution_count": 284,
   "metadata": {},
   "outputs": [
    {
     "name": "stdout",
     "output_type": "stream",
     "text": [
      "Columns to rename:\n",
      "link -> links\n",
      "industry -> sector\n"
     ]
    }
   ],
   "source": [
    "slytherin_ft = slytherin_ft.drop(to_drop, axis=1)\n",
    "to_rename = rename_columns(slytherin_ft.columns)\n",
    "slytherin_ft.columns = to_rename"
   ]
  },
  {
   "cell_type": "code",
   "execution_count": 285,
   "metadata": {},
   "outputs": [
    {
     "data": {
      "text/html": [
       "<div>\n",
       "<style scoped>\n",
       "    .dataframe tbody tr th:only-of-type {\n",
       "        vertical-align: middle;\n",
       "    }\n",
       "\n",
       "    .dataframe tbody tr th {\n",
       "        vertical-align: top;\n",
       "    }\n",
       "\n",
       "    .dataframe thead th {\n",
       "        text-align: right;\n",
       "    }\n",
       "</style>\n",
       "<table border=\"1\" class=\"dataframe\">\n",
       "  <thead>\n",
       "    <tr style=\"text-align: right;\">\n",
       "      <th></th>\n",
       "      <th>links</th>\n",
       "      <th>name</th>\n",
       "      <th>country</th>\n",
       "      <th>sector</th>\n",
       "      <th>revenue</th>\n",
       "      <th>employees</th>\n",
       "      <th>founded</th>\n",
       "    </tr>\n",
       "  </thead>\n",
       "  <tbody>\n",
       "    <tr>\n",
       "      <th>0</th>\n",
       "      <td>https://www.greatdealscorp.com/</td>\n",
       "      <td>Great Deals E-Commerce Corp.</td>\n",
       "      <td>Philippines</td>\n",
       "      <td>Ecommerce</td>\n",
       "      <td>88</td>\n",
       "      <td>385</td>\n",
       "      <td>2017</td>\n",
       "    </tr>\n",
       "    <tr>\n",
       "      <th>1</th>\n",
       "      <td>http://www.pclchip.com/</td>\n",
       "      <td>PCL Inc.</td>\n",
       "      <td>South Korea</td>\n",
       "      <td>Pharmaceuticals</td>\n",
       "      <td>45</td>\n",
       "      <td>63</td>\n",
       "      <td>2008</td>\n",
       "    </tr>\n",
       "    <tr>\n",
       "      <th>2</th>\n",
       "      <td>https://www.spolive.com/</td>\n",
       "      <td>Spolive</td>\n",
       "      <td>South Korea</td>\n",
       "      <td>Games industry</td>\n",
       "      <td>9</td>\n",
       "      <td>47</td>\n",
       "      <td>2013</td>\n",
       "    </tr>\n",
       "    <tr>\n",
       "      <th>3</th>\n",
       "      <td>https://www.workmate.asia/</td>\n",
       "      <td>Workmate</td>\n",
       "      <td>Singapore</td>\n",
       "      <td>Support Services</td>\n",
       "      <td>12</td>\n",
       "      <td>82</td>\n",
       "      <td>2015</td>\n",
       "    </tr>\n",
       "    <tr>\n",
       "      <th>4</th>\n",
       "      <td>http://www.taimedbiologics.com/</td>\n",
       "      <td>TaiMed Biologics</td>\n",
       "      <td>Taiwan</td>\n",
       "      <td>Pharmaceuticals</td>\n",
       "      <td>24</td>\n",
       "      <td>78</td>\n",
       "      <td>2007</td>\n",
       "    </tr>\n",
       "  </tbody>\n",
       "</table>\n",
       "</div>"
      ],
      "text/plain": [
       "                             links                          name      country  \\\n",
       "0  https://www.greatdealscorp.com/  Great Deals E-Commerce Corp.  Philippines   \n",
       "1          http://www.pclchip.com/                      PCL Inc.  South Korea   \n",
       "2         https://www.spolive.com/                       Spolive  South Korea   \n",
       "3       https://www.workmate.asia/                      Workmate    Singapore   \n",
       "4  http://www.taimedbiologics.com/              TaiMed Biologics       Taiwan   \n",
       "\n",
       "             sector  revenue  employees  founded  \n",
       "0         Ecommerce       88        385     2017  \n",
       "1   Pharmaceuticals       45         63     2008  \n",
       "2    Games industry        9         47     2013  \n",
       "3  Support Services       12         82     2015  \n",
       "4   Pharmaceuticals       24         78     2007  "
      ]
     },
     "execution_count": 285,
     "metadata": {},
     "output_type": "execute_result"
    }
   ],
   "source": [
    "slytherin_ft.employees = slytherin_ft.employees.apply(lambda x : (str(x).replace('.', '').replace(',', '')))\n",
    "slytherin_ft.revenue = slytherin_ft.revenue.apply(lambda x : (float(str(x).replace(',', ''))))\n",
    "slytherin_ft = slytherin_ft.replace('Not found', np.nan)\n",
    "slytherin_ft = slytherin_ft.replace('nan', np.nan)\n",
    "\n",
    "slytherin_ft.revenue = slytherin_ft.revenue.astype(float).astype(int)\n",
    "slytherin_ft.employees = slytherin_ft.employees.astype(object).astype('Int64')\n",
    "slytherin_ft.founded = slytherin_ft.founded.astype(object).astype('Int64')\n",
    "\n",
    "slytherin_ft.head()"
   ]
  },
  {
   "cell_type": "code",
   "execution_count": 286,
   "metadata": {},
   "outputs": [],
   "source": [
    "cleaned_files.append(slytherin_ft)"
   ]
  },
  {
   "cell_type": "markdown",
   "metadata": {},
   "source": [
    "### slytherin-value.today.json"
   ]
  },
  {
   "cell_type": "code",
   "execution_count": 287,
   "metadata": {},
   "outputs": [
    {
     "data": {
      "text/plain": [
       "'src/datasets/slytherin-value.today.json'"
      ]
     },
     "execution_count": 287,
     "metadata": {},
     "output_type": "execute_result"
    }
   ],
   "source": [
    "files_list[44]"
   ]
  },
  {
   "cell_type": "code",
   "execution_count": 288,
   "metadata": {},
   "outputs": [
    {
     "data": {
      "text/html": [
       "<div>\n",
       "<style scoped>\n",
       "    .dataframe tbody tr th:only-of-type {\n",
       "        vertical-align: middle;\n",
       "    }\n",
       "\n",
       "    .dataframe tbody tr th {\n",
       "        vertical-align: top;\n",
       "    }\n",
       "\n",
       "    .dataframe thead th {\n",
       "        text-align: right;\n",
       "    }\n",
       "</style>\n",
       "<table border=\"1\" class=\"dataframe\">\n",
       "  <thead>\n",
       "    <tr style=\"text-align: right;\">\n",
       "      <th></th>\n",
       "      <th>link</th>\n",
       "      <th>rank</th>\n",
       "      <th>name</th>\n",
       "      <th>ceo</th>\n",
       "      <th>founded</th>\n",
       "      <th>revenue</th>\n",
       "      <th>country</th>\n",
       "      <th>industry</th>\n",
       "    </tr>\n",
       "  </thead>\n",
       "  <tbody>\n",
       "    <tr>\n",
       "      <th>0</th>\n",
       "      <td>https://www.value.today/company/apple</td>\n",
       "      <td>1</td>\n",
       "      <td>APPLE</td>\n",
       "      <td>Tim Cook</td>\n",
       "      <td>1976</td>\n",
       "      <td>365,820 Million USD</td>\n",
       "      <td>USA</td>\n",
       "      <td>[Technology, Mobiles &amp; Accessories, Electronic...</td>\n",
       "    </tr>\n",
       "    <tr>\n",
       "      <th>1</th>\n",
       "      <td>https://www.value.today/company/taiwan-semicon...</td>\n",
       "      <td>10</td>\n",
       "      <td>TAIWAN SEMICONDUCTOR MANUFACTURING COMPANY (TSMC)</td>\n",
       "      <td>Mark Liu</td>\n",
       "      <td>1987</td>\n",
       "      <td>55,306 Million USD</td>\n",
       "      <td>Taiwan</td>\n",
       "      <td>[Technology, Semiconductors, Electronics, Tech...</td>\n",
       "    </tr>\n",
       "    <tr>\n",
       "      <th>2</th>\n",
       "      <td>https://www.value.today/company/microsoft-corp...</td>\n",
       "      <td>2</td>\n",
       "      <td>MICROSOFT CORPORATION</td>\n",
       "      <td>Satya Nadella</td>\n",
       "      <td>1975</td>\n",
       "      <td>198,270 Million USD</td>\n",
       "      <td>USA</td>\n",
       "      <td>[Technology, Software and IT, Laptops, Video G...</td>\n",
       "    </tr>\n",
       "    <tr>\n",
       "      <th>3</th>\n",
       "      <td>https://www.value.today/company/nvidia-corpora...</td>\n",
       "      <td>9</td>\n",
       "      <td>NVIDIA CORPORATION</td>\n",
       "      <td>Jensen Huang</td>\n",
       "      <td>1993</td>\n",
       "      <td>26,914 Million USD</td>\n",
       "      <td>USA</td>\n",
       "      <td>[Technology, Semiconductors, Electronics, Tech...</td>\n",
       "    </tr>\n",
       "    <tr>\n",
       "      <th>4</th>\n",
       "      <td>https://www.value.today/company/amazon.com</td>\n",
       "      <td>5</td>\n",
       "      <td>AMAZON.COM</td>\n",
       "      <td>Andy Jassy</td>\n",
       "      <td>1994</td>\n",
       "      <td>469,820 Million USD</td>\n",
       "      <td>USA</td>\n",
       "      <td>[eCommerce, Internet or Mobile App Based Busin...</td>\n",
       "    </tr>\n",
       "  </tbody>\n",
       "</table>\n",
       "</div>"
      ],
      "text/plain": [
       "                                                link  rank  \\\n",
       "0              https://www.value.today/company/apple     1   \n",
       "1  https://www.value.today/company/taiwan-semicon...    10   \n",
       "2  https://www.value.today/company/microsoft-corp...     2   \n",
       "3  https://www.value.today/company/nvidia-corpora...     9   \n",
       "4         https://www.value.today/company/amazon.com     5   \n",
       "\n",
       "                                                name            ceo founded  \\\n",
       "0                                              APPLE       Tim Cook    1976   \n",
       "1  TAIWAN SEMICONDUCTOR MANUFACTURING COMPANY (TSMC)       Mark Liu    1987   \n",
       "2                              MICROSOFT CORPORATION  Satya Nadella    1975   \n",
       "3                                 NVIDIA CORPORATION   Jensen Huang    1993   \n",
       "4                                         AMAZON.COM     Andy Jassy    1994   \n",
       "\n",
       "               revenue country  \\\n",
       "0  365,820 Million USD     USA   \n",
       "1   55,306 Million USD  Taiwan   \n",
       "2  198,270 Million USD     USA   \n",
       "3   26,914 Million USD     USA   \n",
       "4  469,820 Million USD     USA   \n",
       "\n",
       "                                            industry  \n",
       "0  [Technology, Mobiles & Accessories, Electronic...  \n",
       "1  [Technology, Semiconductors, Electronics, Tech...  \n",
       "2  [Technology, Software and IT, Laptops, Video G...  \n",
       "3  [Technology, Semiconductors, Electronics, Tech...  \n",
       "4  [eCommerce, Internet or Mobile App Based Busin...  "
      ]
     },
     "execution_count": 288,
     "metadata": {},
     "output_type": "execute_result"
    }
   ],
   "source": [
    "slytherin_value = pd.read_json(files_list[44])\n",
    "slytherin_value.head()"
   ]
  },
  {
   "cell_type": "code",
   "execution_count": 289,
   "metadata": {},
   "outputs": [
    {
     "name": "stdout",
     "output_type": "stream",
     "text": [
      "Columns to remove:\n",
      "rank\n"
     ]
    }
   ],
   "source": [
    "to_drop, _ = columns_to_remove_not_remove(slytherin_value)\n",
    "to_drop.append(\"link\")"
   ]
  },
  {
   "cell_type": "code",
   "execution_count": 290,
   "metadata": {},
   "outputs": [
    {
     "name": "stdout",
     "output_type": "stream",
     "text": [
      "Columns to rename:\n",
      "industry -> sector\n"
     ]
    }
   ],
   "source": [
    "slytherin_value = slytherin_value.drop(to_drop, axis=1)\n",
    "to_rename = rename_columns(slytherin_value.columns)\n",
    "slytherin_value.columns = to_rename"
   ]
  },
  {
   "cell_type": "code",
   "execution_count": 291,
   "metadata": {},
   "outputs": [
    {
     "data": {
      "text/html": [
       "<div>\n",
       "<style scoped>\n",
       "    .dataframe tbody tr th:only-of-type {\n",
       "        vertical-align: middle;\n",
       "    }\n",
       "\n",
       "    .dataframe tbody tr th {\n",
       "        vertical-align: top;\n",
       "    }\n",
       "\n",
       "    .dataframe thead th {\n",
       "        text-align: right;\n",
       "    }\n",
       "</style>\n",
       "<table border=\"1\" class=\"dataframe\">\n",
       "  <thead>\n",
       "    <tr style=\"text-align: right;\">\n",
       "      <th></th>\n",
       "      <th>name</th>\n",
       "      <th>ceo</th>\n",
       "      <th>founded</th>\n",
       "      <th>revenue</th>\n",
       "      <th>country</th>\n",
       "      <th>sector</th>\n",
       "    </tr>\n",
       "  </thead>\n",
       "  <tbody>\n",
       "    <tr>\n",
       "      <th>0</th>\n",
       "      <td>APPLE</td>\n",
       "      <td>Tim Cook</td>\n",
       "      <td>1976</td>\n",
       "      <td>365820000</td>\n",
       "      <td>USA</td>\n",
       "      <td>[Technology, Mobiles &amp; Accessories, Electronic...</td>\n",
       "    </tr>\n",
       "    <tr>\n",
       "      <th>1</th>\n",
       "      <td>TAIWAN SEMICONDUCTOR MANUFACTURING COMPANY (TSMC)</td>\n",
       "      <td>Mark Liu</td>\n",
       "      <td>1987</td>\n",
       "      <td>55306000</td>\n",
       "      <td>Taiwan</td>\n",
       "      <td>[Technology, Semiconductors, Electronics, Tech...</td>\n",
       "    </tr>\n",
       "    <tr>\n",
       "      <th>2</th>\n",
       "      <td>MICROSOFT CORPORATION</td>\n",
       "      <td>Satya Nadella</td>\n",
       "      <td>1975</td>\n",
       "      <td>198270000</td>\n",
       "      <td>USA</td>\n",
       "      <td>[Technology, Software and IT, Laptops, Video G...</td>\n",
       "    </tr>\n",
       "    <tr>\n",
       "      <th>3</th>\n",
       "      <td>NVIDIA CORPORATION</td>\n",
       "      <td>Jensen Huang</td>\n",
       "      <td>1993</td>\n",
       "      <td>26914000</td>\n",
       "      <td>USA</td>\n",
       "      <td>[Technology, Semiconductors, Electronics, Tech...</td>\n",
       "    </tr>\n",
       "    <tr>\n",
       "      <th>4</th>\n",
       "      <td>AMAZON.COM</td>\n",
       "      <td>Andy Jassy</td>\n",
       "      <td>1994</td>\n",
       "      <td>469820000</td>\n",
       "      <td>USA</td>\n",
       "      <td>[eCommerce, Internet or Mobile App Based Busin...</td>\n",
       "    </tr>\n",
       "  </tbody>\n",
       "</table>\n",
       "</div>"
      ],
      "text/plain": [
       "                                                name            ceo  founded  \\\n",
       "0                                              APPLE       Tim Cook     1976   \n",
       "1  TAIWAN SEMICONDUCTOR MANUFACTURING COMPANY (TSMC)       Mark Liu     1987   \n",
       "2                              MICROSOFT CORPORATION  Satya Nadella     1975   \n",
       "3                                 NVIDIA CORPORATION   Jensen Huang     1993   \n",
       "4                                         AMAZON.COM     Andy Jassy     1994   \n",
       "\n",
       "     revenue country                                             sector  \n",
       "0  365820000     USA  [Technology, Mobiles & Accessories, Electronic...  \n",
       "1   55306000  Taiwan  [Technology, Semiconductors, Electronics, Tech...  \n",
       "2  198270000     USA  [Technology, Software and IT, Laptops, Video G...  \n",
       "3   26914000     USA  [Technology, Semiconductors, Electronics, Tech...  \n",
       "4  469820000     USA  [eCommerce, Internet or Mobile App Based Busin...  "
      ]
     },
     "execution_count": 291,
     "metadata": {},
     "output_type": "execute_result"
    }
   ],
   "source": [
    "slytherin_value.founded = slytherin_value.founded.str.extract(r'([\\d]{4})')\n",
    "slytherin_value.revenue = slytherin_value.revenue.str.extract('([\\d]+[.,\\d]+)', expand=False)\n",
    "slytherin_value.revenue = slytherin_value.revenue.apply(lambda x: convert_market_cap_revenue(x.replace('.', '').replace(',', '.') + 'Million') if pd.notnull(x) else x)\n",
    "\n",
    "slytherin_value = slytherin_value.replace('Not found', np.nan)\n",
    "slytherin_value = slytherin_value.replace('nan', np.nan)\n",
    "\n",
    "slytherin_value.founded = slytherin_value.founded.astype(object).astype('Int64')\n",
    "slytherin_value.revenue = slytherin_value.revenue.astype(object).astype('Int64')\n",
    "slytherin_value.head()"
   ]
  },
  {
   "cell_type": "code",
   "execution_count": 292,
   "metadata": {},
   "outputs": [],
   "source": [
    "cleaned_files.append(slytherin_value)"
   ]
  },
  {
   "cell_type": "markdown",
   "metadata": {},
   "source": [
    "## wissel"
   ]
  },
  {
   "cell_type": "markdown",
   "metadata": {},
   "source": [
    "### wissel-ariregister.csv"
   ]
  },
  {
   "cell_type": "code",
   "execution_count": 293,
   "metadata": {},
   "outputs": [
    {
     "data": {
      "text/plain": [
       "'src/datasets/wissel-ariregister.rik.ee.csv'"
      ]
     },
     "execution_count": 293,
     "metadata": {},
     "output_type": "execute_result"
    }
   ],
   "source": [
    "files_list[45]"
   ]
  },
  {
   "cell_type": "code",
   "execution_count": 294,
   "metadata": {},
   "outputs": [
    {
     "data": {
      "text/html": [
       "<div>\n",
       "<style scoped>\n",
       "    .dataframe tbody tr th:only-of-type {\n",
       "        vertical-align: middle;\n",
       "    }\n",
       "\n",
       "    .dataframe tbody tr th {\n",
       "        vertical-align: top;\n",
       "    }\n",
       "\n",
       "    .dataframe thead th {\n",
       "        text-align: right;\n",
       "    }\n",
       "</style>\n",
       "<table border=\"1\" class=\"dataframe\">\n",
       "  <thead>\n",
       "    <tr style=\"text-align: right;\">\n",
       "      <th></th>\n",
       "      <th>Unnamed: 0</th>\n",
       "      <th>ID azienda</th>\n",
       "      <th>Name</th>\n",
       "      <th>Capital</th>\n",
       "      <th>Address</th>\n",
       "      <th>Area of Activity</th>\n",
       "    </tr>\n",
       "  </thead>\n",
       "  <tbody>\n",
       "    <tr>\n",
       "      <th>0</th>\n",
       "      <td>0</td>\n",
       "      <td>1</td>\n",
       "      <td>10DspaceOÃœ(14318875)</td>\n",
       "      <td>NaN</td>\n",
       "      <td>NaN</td>\n",
       "      <td>NaN</td>\n",
       "    </tr>\n",
       "    <tr>\n",
       "      <th>1</th>\n",
       "      <td>1</td>\n",
       "      <td>2</td>\n",
       "      <td>21SparrowsOÃœ(16270291)</td>\n",
       "      <td>Capitalis10Â 000Â â‚¬</td>\n",
       "      <td>Harju maakond Tallinn ...</td>\n",
       "      <td>Other activities auxiliary to financial servic...</td>\n",
       "    </tr>\n",
       "    <tr>\n",
       "      <th>2</th>\n",
       "      <td>2</td>\n",
       "      <td>3</td>\n",
       "      <td>3DSTOÃœ(12454634)</td>\n",
       "      <td>Capitalis2Â 500Â â‚¬</td>\n",
       "      <td>Harju maakond Tallinn ...</td>\n",
       "      <td>Specialised design activities</td>\n",
       "    </tr>\n",
       "    <tr>\n",
       "      <th>3</th>\n",
       "      <td>3</td>\n",
       "      <td>4</td>\n",
       "      <td>8BitsSpaceOÃœ(14867109)</td>\n",
       "      <td>Capitalis2Â 500Â â‚¬</td>\n",
       "      <td>Harju maakond Tallinn ...</td>\n",
       "      <td>Computer programming activities</td>\n",
       "    </tr>\n",
       "    <tr>\n",
       "      <th>4</th>\n",
       "      <td>4</td>\n",
       "      <td>5</td>\n",
       "      <td>A1EhituspartnerOÃœ(16451101)</td>\n",
       "      <td>Capitalis2Â 500Â â‚¬</td>\n",
       "      <td>PÃµlva maakond PÃµlva ...</td>\n",
       "      <td>Construction of residential and non-residentia...</td>\n",
       "    </tr>\n",
       "  </tbody>\n",
       "</table>\n",
       "</div>"
      ],
      "text/plain": [
       "   Unnamed: 0  ID azienda                          Name  \\\n",
       "0           0           1         10DspaceOÃœ(14318875)   \n",
       "1           1           2       21SparrowsOÃœ(16270291)   \n",
       "2           2           3             3DSTOÃœ(12454634)   \n",
       "3           3           4       8BitsSpaceOÃœ(14867109)   \n",
       "4           4           5  A1EhituspartnerOÃœ(16451101)   \n",
       "\n",
       "                 Capital                                            Address  \\\n",
       "0                    NaN                                                NaN   \n",
       "1  Capitalis10Â 000Â â‚¬                          Harju maakond Tallinn ...   \n",
       "2   Capitalis2Â 500Â â‚¬                          Harju maakond Tallinn ...   \n",
       "3   Capitalis2Â 500Â â‚¬                          Harju maakond Tallinn ...   \n",
       "4   Capitalis2Â 500Â â‚¬                          PÃµlva maakond PÃµlva ...   \n",
       "\n",
       "                                    Area of Activity  \n",
       "0                                                NaN  \n",
       "1  Other activities auxiliary to financial servic...  \n",
       "2                      Specialised design activities  \n",
       "3                    Computer programming activities  \n",
       "4  Construction of residential and non-residentia...  "
      ]
     },
     "execution_count": 294,
     "metadata": {},
     "output_type": "execute_result"
    }
   ],
   "source": [
    "wissel_ariregister = pd.read_csv(files_list[45])\n",
    "wissel_ariregister.head()"
   ]
  },
  {
   "cell_type": "code",
   "execution_count": 295,
   "metadata": {},
   "outputs": [
    {
     "name": "stdout",
     "output_type": "stream",
     "text": [
      "Columns to remove:\n",
      "Unnamed: 0\n",
      "ID azienda\n",
      "Capital\n"
     ]
    }
   ],
   "source": [
    "to_drop, _ = columns_to_remove_not_remove(wissel_ariregister)"
   ]
  },
  {
   "cell_type": "code",
   "execution_count": 296,
   "metadata": {},
   "outputs": [
    {
     "name": "stdout",
     "output_type": "stream",
     "text": [
      "Columns to rename:\n",
      "Address -> country\n",
      "Area of Activity -> sector\n"
     ]
    },
    {
     "data": {
      "text/html": [
       "<div>\n",
       "<style scoped>\n",
       "    .dataframe tbody tr th:only-of-type {\n",
       "        vertical-align: middle;\n",
       "    }\n",
       "\n",
       "    .dataframe tbody tr th {\n",
       "        vertical-align: top;\n",
       "    }\n",
       "\n",
       "    .dataframe thead th {\n",
       "        text-align: right;\n",
       "    }\n",
       "</style>\n",
       "<table border=\"1\" class=\"dataframe\">\n",
       "  <thead>\n",
       "    <tr style=\"text-align: right;\">\n",
       "      <th></th>\n",
       "      <th>name</th>\n",
       "      <th>country</th>\n",
       "      <th>sector</th>\n",
       "    </tr>\n",
       "  </thead>\n",
       "  <tbody>\n",
       "    <tr>\n",
       "      <th>0</th>\n",
       "      <td>10DspaceOÃœ(14318875)</td>\n",
       "      <td>NaN</td>\n",
       "      <td>NaN</td>\n",
       "    </tr>\n",
       "    <tr>\n",
       "      <th>1</th>\n",
       "      <td>21SparrowsOÃœ(16270291)</td>\n",
       "      <td>Harju maakond Tallinn ...</td>\n",
       "      <td>Other activities auxiliary to financial servic...</td>\n",
       "    </tr>\n",
       "    <tr>\n",
       "      <th>2</th>\n",
       "      <td>3DSTOÃœ(12454634)</td>\n",
       "      <td>Harju maakond Tallinn ...</td>\n",
       "      <td>Specialised design activities</td>\n",
       "    </tr>\n",
       "    <tr>\n",
       "      <th>3</th>\n",
       "      <td>8BitsSpaceOÃœ(14867109)</td>\n",
       "      <td>Harju maakond Tallinn ...</td>\n",
       "      <td>Computer programming activities</td>\n",
       "    </tr>\n",
       "    <tr>\n",
       "      <th>4</th>\n",
       "      <td>A1EhituspartnerOÃœ(16451101)</td>\n",
       "      <td>PÃµlva maakond PÃµlva ...</td>\n",
       "      <td>Construction of residential and non-residentia...</td>\n",
       "    </tr>\n",
       "  </tbody>\n",
       "</table>\n",
       "</div>"
      ],
      "text/plain": [
       "                           name  \\\n",
       "0         10DspaceOÃœ(14318875)   \n",
       "1       21SparrowsOÃœ(16270291)   \n",
       "2             3DSTOÃœ(12454634)   \n",
       "3       8BitsSpaceOÃœ(14867109)   \n",
       "4  A1EhituspartnerOÃœ(16451101)   \n",
       "\n",
       "                                             country  \\\n",
       "0                                                NaN   \n",
       "1                          Harju maakond Tallinn ...   \n",
       "2                          Harju maakond Tallinn ...   \n",
       "3                          Harju maakond Tallinn ...   \n",
       "4                          PÃµlva maakond PÃµlva ...   \n",
       "\n",
       "                                              sector  \n",
       "0                                                NaN  \n",
       "1  Other activities auxiliary to financial servic...  \n",
       "2                      Specialised design activities  \n",
       "3                    Computer programming activities  \n",
       "4  Construction of residential and non-residentia...  "
      ]
     },
     "execution_count": 296,
     "metadata": {},
     "output_type": "execute_result"
    }
   ],
   "source": [
    "wissel_ariregister = wissel_ariregister.drop(to_drop, axis=1)\n",
    "to_rename = rename_columns(wissel_ariregister.columns)\n",
    "wissel_ariregister.columns = to_rename\n",
    "wissel_ariregister.head()"
   ]
  },
  {
   "cell_type": "code",
   "execution_count": 297,
   "metadata": {},
   "outputs": [],
   "source": [
    "cleaned_files.append(wissel_ariregister)"
   ]
  },
  {
   "cell_type": "markdown",
   "metadata": {},
   "source": [
    "### wissel-companiesmarketcap.com.csv"
   ]
  },
  {
   "cell_type": "code",
   "execution_count": 298,
   "metadata": {},
   "outputs": [
    {
     "data": {
      "text/plain": [
       "'src/datasets/wissel-companiesmarketcap.com.csv'"
      ]
     },
     "execution_count": 298,
     "metadata": {},
     "output_type": "execute_result"
    }
   ],
   "source": [
    "files_list[46]"
   ]
  },
  {
   "cell_type": "code",
   "execution_count": 299,
   "metadata": {},
   "outputs": [
    {
     "data": {
      "text/html": [
       "<div>\n",
       "<style scoped>\n",
       "    .dataframe tbody tr th:only-of-type {\n",
       "        vertical-align: middle;\n",
       "    }\n",
       "\n",
       "    .dataframe tbody tr th {\n",
       "        vertical-align: top;\n",
       "    }\n",
       "\n",
       "    .dataframe thead th {\n",
       "        text-align: right;\n",
       "    }\n",
       "</style>\n",
       "<table border=\"1\" class=\"dataframe\">\n",
       "  <thead>\n",
       "    <tr style=\"text-align: right;\">\n",
       "      <th></th>\n",
       "      <th>Unnamed: 0</th>\n",
       "      <th>ID azienda</th>\n",
       "      <th>Name</th>\n",
       "      <th>Company code</th>\n",
       "      <th>Marketcap</th>\n",
       "      <th>Share price</th>\n",
       "      <th>Earnings</th>\n",
       "      <th>Revenue</th>\n",
       "      <th>Shares</th>\n",
       "      <th>Employees</th>\n",
       "      <th>Category</th>\n",
       "    </tr>\n",
       "  </thead>\n",
       "  <tbody>\n",
       "    <tr>\n",
       "      <th>0</th>\n",
       "      <td>0</td>\n",
       "      <td>1</td>\n",
       "      <td>Walmart</td>\n",
       "      <td>WMT</td>\n",
       "      <td>$411.81 B</td>\n",
       "      <td>$151.73</td>\n",
       "      <td>$14.84 B</td>\n",
       "      <td>$600.11 B</td>\n",
       "      <td>2.736.000.000</td>\n",
       "      <td>2.300.000</td>\n",
       "      <td>['Retail', 'Dowjones', 'SupermarketChains']</td>\n",
       "    </tr>\n",
       "    <tr>\n",
       "      <th>1</th>\n",
       "      <td>1</td>\n",
       "      <td>2</td>\n",
       "      <td>Amazon</td>\n",
       "      <td>AMZN</td>\n",
       "      <td>$988.03 B</td>\n",
       "      <td>$96.85</td>\n",
       "      <td>$12.11 B</td>\n",
       "      <td>$502.19 B</td>\n",
       "      <td>10.175.000.000</td>\n",
       "      <td>1.544.000</td>\n",
       "      <td>['ECommerce', 'Internet', 'Tech', 'Retail']</td>\n",
       "    </tr>\n",
       "    <tr>\n",
       "      <th>2</th>\n",
       "      <td>2</td>\n",
       "      <td>3</td>\n",
       "      <td>United Parcel Service</td>\n",
       "      <td>UPS</td>\n",
       "      <td>$164.27 B</td>\n",
       "      <td>$189.93</td>\n",
       "      <td>$14.32 B</td>\n",
       "      <td>$101.07 B</td>\n",
       "      <td>870.000.000</td>\n",
       "      <td>500.000</td>\n",
       "      <td>['Courier', 'Transportation']</td>\n",
       "    </tr>\n",
       "    <tr>\n",
       "      <th>3</th>\n",
       "      <td>3</td>\n",
       "      <td>4</td>\n",
       "      <td>Kroger</td>\n",
       "      <td>KR</td>\n",
       "      <td>$35.29 B</td>\n",
       "      <td>$49.30</td>\n",
       "      <td>$3.03 B</td>\n",
       "      <td>$144.14 B</td>\n",
       "      <td>716.000.000</td>\n",
       "      <td>500.000</td>\n",
       "      <td>['Retail', 'SupermarketChains']</td>\n",
       "    </tr>\n",
       "    <tr>\n",
       "      <th>4</th>\n",
       "      <td>4</td>\n",
       "      <td>5</td>\n",
       "      <td>Home Depot</td>\n",
       "      <td>HD</td>\n",
       "      <td>$332.04 B</td>\n",
       "      <td>$325.79</td>\n",
       "      <td>$24.14 B</td>\n",
       "      <td>$157.29 B</td>\n",
       "      <td>1.023.000.000</td>\n",
       "      <td>500.000</td>\n",
       "      <td>['Retail', 'Dowjones']</td>\n",
       "    </tr>\n",
       "  </tbody>\n",
       "</table>\n",
       "</div>"
      ],
      "text/plain": [
       "   Unnamed: 0  ID azienda                   Name Company code  Marketcap  \\\n",
       "0           0           1                Walmart          WMT  $411.81 B   \n",
       "1           1           2                 Amazon         AMZN  $988.03 B   \n",
       "2           2           3  United Parcel Service          UPS  $164.27 B   \n",
       "3           3           4                 Kroger           KR   $35.29 B   \n",
       "4           4           5             Home Depot           HD  $332.04 B   \n",
       "\n",
       "  Share price  Earnings    Revenue          Shares  Employees  \\\n",
       "0     $151.73  $14.84 B  $600.11 B   2.736.000.000  2.300.000   \n",
       "1      $96.85  $12.11 B  $502.19 B  10.175.000.000  1.544.000   \n",
       "2     $189.93  $14.32 B  $101.07 B     870.000.000    500.000   \n",
       "3      $49.30   $3.03 B  $144.14 B     716.000.000    500.000   \n",
       "4     $325.79  $24.14 B  $157.29 B   1.023.000.000    500.000   \n",
       "\n",
       "                                      Category  \n",
       "0  ['Retail', 'Dowjones', 'SupermarketChains']  \n",
       "1  ['ECommerce', 'Internet', 'Tech', 'Retail']  \n",
       "2                ['Courier', 'Transportation']  \n",
       "3              ['Retail', 'SupermarketChains']  \n",
       "4                       ['Retail', 'Dowjones']  "
      ]
     },
     "execution_count": 299,
     "metadata": {},
     "output_type": "execute_result"
    }
   ],
   "source": [
    "wissel_companies = pd.read_csv(files_list[46])\n",
    "wissel_companies.head()"
   ]
  },
  {
   "cell_type": "code",
   "execution_count": 300,
   "metadata": {},
   "outputs": [
    {
     "name": "stdout",
     "output_type": "stream",
     "text": [
      "Columns to remove:\n",
      "Unnamed: 0\n",
      "ID azienda\n",
      "Company code\n",
      "Share price\n",
      "Earnings\n",
      "Shares\n"
     ]
    }
   ],
   "source": [
    "to_drop, _ = columns_to_remove_not_remove(wissel_companies)"
   ]
  },
  {
   "cell_type": "code",
   "execution_count": 301,
   "metadata": {},
   "outputs": [
    {
     "name": "stdout",
     "output_type": "stream",
     "text": [
      "Columns to rename:\n",
      "Category -> sector\n"
     ]
    }
   ],
   "source": [
    "wissel_companies = wissel_companies.drop(to_drop, axis=1)\n",
    "to_rename = rename_columns(wissel_companies.columns)\n",
    "wissel_companies.columns = to_rename"
   ]
  },
  {
   "cell_type": "code",
   "execution_count": 302,
   "metadata": {},
   "outputs": [
    {
     "data": {
      "text/html": [
       "<div>\n",
       "<style scoped>\n",
       "    .dataframe tbody tr th:only-of-type {\n",
       "        vertical-align: middle;\n",
       "    }\n",
       "\n",
       "    .dataframe tbody tr th {\n",
       "        vertical-align: top;\n",
       "    }\n",
       "\n",
       "    .dataframe thead th {\n",
       "        text-align: right;\n",
       "    }\n",
       "</style>\n",
       "<table border=\"1\" class=\"dataframe\">\n",
       "  <thead>\n",
       "    <tr style=\"text-align: right;\">\n",
       "      <th></th>\n",
       "      <th>name</th>\n",
       "      <th>marketcap</th>\n",
       "      <th>revenue</th>\n",
       "      <th>employees</th>\n",
       "      <th>sector</th>\n",
       "    </tr>\n",
       "  </thead>\n",
       "  <tbody>\n",
       "    <tr>\n",
       "      <th>0</th>\n",
       "      <td>Walmart</td>\n",
       "      <td>411810000000</td>\n",
       "      <td>600110000000</td>\n",
       "      <td>2300000</td>\n",
       "      <td>['Retail', 'Dowjones', 'SupermarketChains']</td>\n",
       "    </tr>\n",
       "    <tr>\n",
       "      <th>1</th>\n",
       "      <td>Amazon</td>\n",
       "      <td>988030000000</td>\n",
       "      <td>502190000000</td>\n",
       "      <td>1544000</td>\n",
       "      <td>['ECommerce', 'Internet', 'Tech', 'Retail']</td>\n",
       "    </tr>\n",
       "    <tr>\n",
       "      <th>2</th>\n",
       "      <td>United Parcel Service</td>\n",
       "      <td>164270000000</td>\n",
       "      <td>101070000000</td>\n",
       "      <td>500000</td>\n",
       "      <td>['Courier', 'Transportation']</td>\n",
       "    </tr>\n",
       "    <tr>\n",
       "      <th>3</th>\n",
       "      <td>Kroger</td>\n",
       "      <td>35290000000</td>\n",
       "      <td>144140000000</td>\n",
       "      <td>500000</td>\n",
       "      <td>['Retail', 'SupermarketChains']</td>\n",
       "    </tr>\n",
       "    <tr>\n",
       "      <th>4</th>\n",
       "      <td>Home Depot</td>\n",
       "      <td>332040000000</td>\n",
       "      <td>157290000000</td>\n",
       "      <td>500000</td>\n",
       "      <td>['Retail', 'Dowjones']</td>\n",
       "    </tr>\n",
       "  </tbody>\n",
       "</table>\n",
       "</div>"
      ],
      "text/plain": [
       "                    name     marketcap       revenue  employees  \\\n",
       "0                Walmart  411810000000  600110000000    2300000   \n",
       "1                 Amazon  988030000000  502190000000    1544000   \n",
       "2  United Parcel Service  164270000000  101070000000     500000   \n",
       "3                 Kroger   35290000000  144140000000     500000   \n",
       "4             Home Depot  332040000000  157290000000     500000   \n",
       "\n",
       "                                        sector  \n",
       "0  ['Retail', 'Dowjones', 'SupermarketChains']  \n",
       "1  ['ECommerce', 'Internet', 'Tech', 'Retail']  \n",
       "2                ['Courier', 'Transportation']  \n",
       "3              ['Retail', 'SupermarketChains']  \n",
       "4                       ['Retail', 'Dowjones']  "
      ]
     },
     "execution_count": 302,
     "metadata": {},
     "output_type": "execute_result"
    }
   ],
   "source": [
    "wissel_companies.employees = wissel_companies.employees.apply(lambda x : (str(x).replace('.', '')))\n",
    "wissel_companies.revenue = wissel_companies.revenue.apply(lambda x: convert_market_cap_revenue(x) if pd.notnull(x) else x)\n",
    "wissel_companies.marketcap = wissel_companies.marketcap.apply(lambda x: convert_market_cap_revenue(x) if pd.notnull(x) else x)\n",
    "\n",
    "wissel_companies = wissel_companies.replace('<NA>', np.nan)\n",
    "wissel_companies = wissel_companies.replace('nan', np.nan)\n",
    "\n",
    "wissel_companies.employees = wissel_companies.employees.astype(object).astype('Int64')\n",
    "wissel_companies.revenue = wissel_companies.revenue.astype(object).astype('Int64')\n",
    "wissel_companies.marketcap = wissel_companies.marketcap.astype(object).astype('Int64')\n",
    "\n",
    "wissel_companies.head()"
   ]
  },
  {
   "cell_type": "code",
   "execution_count": 303,
   "metadata": {},
   "outputs": [],
   "source": [
    "cleaned_files.append(wissel_companies)"
   ]
  },
  {
   "cell_type": "markdown",
   "metadata": {},
   "source": [
    "### wissel-gov.uk.csv"
   ]
  },
  {
   "cell_type": "code",
   "execution_count": 304,
   "metadata": {},
   "outputs": [
    {
     "data": {
      "text/plain": [
       "'src/datasets/wissel-gov.uk.csv'"
      ]
     },
     "execution_count": 304,
     "metadata": {},
     "output_type": "execute_result"
    }
   ],
   "source": [
    "files_list[47]"
   ]
  },
  {
   "cell_type": "code",
   "execution_count": 305,
   "metadata": {},
   "outputs": [
    {
     "data": {
      "text/html": [
       "<div>\n",
       "<style scoped>\n",
       "    .dataframe tbody tr th:only-of-type {\n",
       "        vertical-align: middle;\n",
       "    }\n",
       "\n",
       "    .dataframe tbody tr th {\n",
       "        vertical-align: top;\n",
       "    }\n",
       "\n",
       "    .dataframe thead th {\n",
       "        text-align: right;\n",
       "    }\n",
       "</style>\n",
       "<table border=\"1\" class=\"dataframe\">\n",
       "  <thead>\n",
       "    <tr style=\"text-align: right;\">\n",
       "      <th></th>\n",
       "      <th>URL</th>\n",
       "      <th>ID</th>\n",
       "      <th>Name</th>\n",
       "      <th>Company ID</th>\n",
       "      <th>Company Status</th>\n",
       "      <th>Company Type</th>\n",
       "      <th>Registration Date</th>\n",
       "      <th>Incorporation Date</th>\n",
       "      <th>Dissolution Date</th>\n",
       "      <th>Office Address</th>\n",
       "    </tr>\n",
       "  </thead>\n",
       "  <tbody>\n",
       "    <tr>\n",
       "      <th>0</th>\n",
       "      <td>https://find-and-update.company-information.se...</td>\n",
       "      <td>1</td>\n",
       "      <td>A LIMITED</td>\n",
       "      <td>11790215</td>\n",
       "      <td>Active</td>\n",
       "      <td>PrivatelimitedCompany</td>\n",
       "      <td>NaN</td>\n",
       "      <td>28 January 2019</td>\n",
       "      <td>NaN</td>\n",
       "      <td>38SpringfieldRoad Gillingham Kent England ME71YJ</td>\n",
       "    </tr>\n",
       "    <tr>\n",
       "      <th>1</th>\n",
       "      <td>https://find-and-update.company-information.se...</td>\n",
       "      <td>2</td>\n",
       "      <td>A LIMITED</td>\n",
       "      <td>05438136</td>\n",
       "      <td>Dissolved</td>\n",
       "      <td>PrivatelimitedCompany</td>\n",
       "      <td>NaN</td>\n",
       "      <td>27 April 2005</td>\n",
       "      <td>4 December 2012</td>\n",
       "      <td>60WindsorAvenue London SW192RR</td>\n",
       "    </tr>\n",
       "    <tr>\n",
       "      <th>2</th>\n",
       "      <td>https://find-and-update.company-information.se...</td>\n",
       "      <td>3</td>\n",
       "      <td>A &amp; P (ESTATES &amp; INVESTMENTS) LIMITED</td>\n",
       "      <td>OE000110</td>\n",
       "      <td>Registered</td>\n",
       "      <td>Overseasentity</td>\n",
       "      <td>19 August 2022</td>\n",
       "      <td>NaN</td>\n",
       "      <td>NaN</td>\n",
       "      <td>67WestowStreet UpperNorwood London England SE1...</td>\n",
       "    </tr>\n",
       "    <tr>\n",
       "      <th>3</th>\n",
       "      <td>https://find-and-update.company-information.se...</td>\n",
       "      <td>4</td>\n",
       "      <td>A AND U INVESTMENTS LIMITED</td>\n",
       "      <td>OE004228</td>\n",
       "      <td>Registered</td>\n",
       "      <td>Overseasentity</td>\n",
       "      <td>17 November 2022</td>\n",
       "      <td>NaN</td>\n",
       "      <td>NaN</td>\n",
       "      <td>OrdnanceHouse 31PierRoad St.Helier Jersey JE48PW</td>\n",
       "    </tr>\n",
       "    <tr>\n",
       "      <th>4</th>\n",
       "      <td>https://find-and-update.company-information.se...</td>\n",
       "      <td>5</td>\n",
       "      <td>ACRIS COURT 27 A LIMITED</td>\n",
       "      <td>OE004120</td>\n",
       "      <td>Registered</td>\n",
       "      <td>Overseasentity</td>\n",
       "      <td>16 November 2022</td>\n",
       "      <td>NaN</td>\n",
       "      <td>NaN</td>\n",
       "      <td>SchindlersTrustMauritiusLimited2ndFloor BlockB...</td>\n",
       "    </tr>\n",
       "  </tbody>\n",
       "</table>\n",
       "</div>"
      ],
      "text/plain": [
       "                                                 URL  ID  \\\n",
       "0  https://find-and-update.company-information.se...   1   \n",
       "1  https://find-and-update.company-information.se...   2   \n",
       "2  https://find-and-update.company-information.se...   3   \n",
       "3  https://find-and-update.company-information.se...   4   \n",
       "4  https://find-and-update.company-information.se...   5   \n",
       "\n",
       "                                    Name Company ID Company Status  \\\n",
       "0                              A LIMITED   11790215         Active   \n",
       "1                              A LIMITED   05438136      Dissolved   \n",
       "2  A & P (ESTATES & INVESTMENTS) LIMITED   OE000110     Registered   \n",
       "3            A AND U INVESTMENTS LIMITED   OE004228     Registered   \n",
       "4               ACRIS COURT 27 A LIMITED   OE004120     Registered   \n",
       "\n",
       "            Company Type Registration Date Incorporation Date  \\\n",
       "0  PrivatelimitedCompany               NaN    28 January 2019   \n",
       "1  PrivatelimitedCompany               NaN      27 April 2005   \n",
       "2         Overseasentity    19 August 2022                NaN   \n",
       "3         Overseasentity  17 November 2022                NaN   \n",
       "4         Overseasentity  16 November 2022                NaN   \n",
       "\n",
       "  Dissolution Date                                     Office Address  \n",
       "0              NaN   38SpringfieldRoad Gillingham Kent England ME71YJ  \n",
       "1  4 December 2012                     60WindsorAvenue London SW192RR  \n",
       "2              NaN  67WestowStreet UpperNorwood London England SE1...  \n",
       "3              NaN   OrdnanceHouse 31PierRoad St.Helier Jersey JE48PW  \n",
       "4              NaN  SchindlersTrustMauritiusLimited2ndFloor BlockB...  "
      ]
     },
     "execution_count": 305,
     "metadata": {},
     "output_type": "execute_result"
    }
   ],
   "source": [
    "wissel_gov = pd.read_csv(files_list[47])\n",
    "wissel_gov.head()"
   ]
  },
  {
   "cell_type": "code",
   "execution_count": 306,
   "metadata": {},
   "outputs": [
    {
     "name": "stdout",
     "output_type": "stream",
     "text": [
      "Columns to remove:\n",
      "URL\n",
      "ID\n",
      "Company ID\n",
      "Company Status\n",
      "Company Type\n",
      "Registration Date\n",
      "Incorporation Date\n",
      "Dissolution Date\n"
     ]
    }
   ],
   "source": [
    "to_drop, _ = columns_to_remove_not_remove(wissel_gov)"
   ]
  },
  {
   "cell_type": "code",
   "execution_count": 307,
   "metadata": {},
   "outputs": [
    {
     "name": "stdout",
     "output_type": "stream",
     "text": [
      "Columns to rename:\n",
      "Office Address -> country\n"
     ]
    },
    {
     "data": {
      "text/html": [
       "<div>\n",
       "<style scoped>\n",
       "    .dataframe tbody tr th:only-of-type {\n",
       "        vertical-align: middle;\n",
       "    }\n",
       "\n",
       "    .dataframe tbody tr th {\n",
       "        vertical-align: top;\n",
       "    }\n",
       "\n",
       "    .dataframe thead th {\n",
       "        text-align: right;\n",
       "    }\n",
       "</style>\n",
       "<table border=\"1\" class=\"dataframe\">\n",
       "  <thead>\n",
       "    <tr style=\"text-align: right;\">\n",
       "      <th></th>\n",
       "      <th>name</th>\n",
       "      <th>country</th>\n",
       "    </tr>\n",
       "  </thead>\n",
       "  <tbody>\n",
       "    <tr>\n",
       "      <th>0</th>\n",
       "      <td>A LIMITED</td>\n",
       "      <td>38SpringfieldRoad Gillingham Kent England ME71YJ</td>\n",
       "    </tr>\n",
       "    <tr>\n",
       "      <th>1</th>\n",
       "      <td>A LIMITED</td>\n",
       "      <td>60WindsorAvenue London SW192RR</td>\n",
       "    </tr>\n",
       "    <tr>\n",
       "      <th>2</th>\n",
       "      <td>A &amp; P (ESTATES &amp; INVESTMENTS) LIMITED</td>\n",
       "      <td>67WestowStreet UpperNorwood London England SE1...</td>\n",
       "    </tr>\n",
       "    <tr>\n",
       "      <th>3</th>\n",
       "      <td>A AND U INVESTMENTS LIMITED</td>\n",
       "      <td>OrdnanceHouse 31PierRoad St.Helier Jersey JE48PW</td>\n",
       "    </tr>\n",
       "    <tr>\n",
       "      <th>4</th>\n",
       "      <td>ACRIS COURT 27 A LIMITED</td>\n",
       "      <td>SchindlersTrustMauritiusLimited2ndFloor BlockB...</td>\n",
       "    </tr>\n",
       "  </tbody>\n",
       "</table>\n",
       "</div>"
      ],
      "text/plain": [
       "                                    name  \\\n",
       "0                              A LIMITED   \n",
       "1                              A LIMITED   \n",
       "2  A & P (ESTATES & INVESTMENTS) LIMITED   \n",
       "3            A AND U INVESTMENTS LIMITED   \n",
       "4               ACRIS COURT 27 A LIMITED   \n",
       "\n",
       "                                             country  \n",
       "0   38SpringfieldRoad Gillingham Kent England ME71YJ  \n",
       "1                     60WindsorAvenue London SW192RR  \n",
       "2  67WestowStreet UpperNorwood London England SE1...  \n",
       "3   OrdnanceHouse 31PierRoad St.Helier Jersey JE48PW  \n",
       "4  SchindlersTrustMauritiusLimited2ndFloor BlockB...  "
      ]
     },
     "execution_count": 307,
     "metadata": {},
     "output_type": "execute_result"
    }
   ],
   "source": [
    "wissel_gov = wissel_gov.drop(to_drop, axis=1)\n",
    "to_rename = rename_columns(wissel_gov.columns)\n",
    "wissel_gov.columns = to_rename\n",
    "wissel_gov.head()"
   ]
  },
  {
   "cell_type": "code",
   "execution_count": 308,
   "metadata": {},
   "outputs": [],
   "source": [
    "cleaned_files.append(wissel_gov)"
   ]
  },
  {
   "cell_type": "markdown",
   "metadata": {},
   "source": [
    "### wissel-info-clipper.com.csv"
   ]
  },
  {
   "cell_type": "code",
   "execution_count": 309,
   "metadata": {},
   "outputs": [
    {
     "data": {
      "text/plain": [
       "'src/datasets/wissel-info-clipper.com.csv'"
      ]
     },
     "execution_count": 309,
     "metadata": {},
     "output_type": "execute_result"
    }
   ],
   "source": [
    "files_list[48]"
   ]
  },
  {
   "cell_type": "code",
   "execution_count": 310,
   "metadata": {},
   "outputs": [
    {
     "data": {
      "text/html": [
       "<div>\n",
       "<style scoped>\n",
       "    .dataframe tbody tr th:only-of-type {\n",
       "        vertical-align: middle;\n",
       "    }\n",
       "\n",
       "    .dataframe tbody tr th {\n",
       "        vertical-align: top;\n",
       "    }\n",
       "\n",
       "    .dataframe thead th {\n",
       "        text-align: right;\n",
       "    }\n",
       "</style>\n",
       "<table border=\"1\" class=\"dataframe\">\n",
       "  <thead>\n",
       "    <tr style=\"text-align: right;\">\n",
       "      <th></th>\n",
       "      <th>Unnamed: 0</th>\n",
       "      <th>INDEX</th>\n",
       "      <th>URL</th>\n",
       "      <th>Name</th>\n",
       "      <th>Trade Name</th>\n",
       "      <th>Address Name</th>\n",
       "      <th>Postalcode</th>\n",
       "      <th>City</th>\n",
       "      <th>State</th>\n",
       "      <th>Country</th>\n",
       "      <th>Location type</th>\n",
       "    </tr>\n",
       "  </thead>\n",
       "  <tbody>\n",
       "    <tr>\n",
       "      <th>0</th>\n",
       "      <td>0</td>\n",
       "      <td>0</td>\n",
       "      <td>https://www.info-clipper.com/en/company/united...</td>\n",
       "      <td>CNHI, LLC</td>\n",
       "      <td>NaN</td>\n",
       "      <td>445 DEXTER AVE</td>\n",
       "      <td>361043892</td>\n",
       "      <td>MONTGOMERY</td>\n",
       "      <td>Alabama(AL)</td>\n",
       "      <td>UNITED STATES</td>\n",
       "      <td>Headquarter</td>\n",
       "    </tr>\n",
       "    <tr>\n",
       "      <th>1</th>\n",
       "      <td>1</td>\n",
       "      <td>1</td>\n",
       "      <td>https://www.info-clipper.com/en/company/united...</td>\n",
       "      <td>CRAIG &amp; ROSE LIMITED</td>\n",
       "      <td>NaN</td>\n",
       "      <td>7th Floor Suite 1 50 Broadway</td>\n",
       "      <td>SW1H 0BL</td>\n",
       "      <td>LONDON</td>\n",
       "      <td>UNITED KINGDOM</td>\n",
       "      <td>UNITED KINGDOM</td>\n",
       "      <td>Single address</td>\n",
       "    </tr>\n",
       "    <tr>\n",
       "      <th>2</th>\n",
       "      <td>2</td>\n",
       "      <td>2</td>\n",
       "      <td>https://www.info-clipper.com/en/company/italy/...</td>\n",
       "      <td>SEGRETARIATO GENERALE DELLA PRESIDENZA DELLA R...</td>\n",
       "      <td>NaN</td>\n",
       "      <td>VIA DELLA DATARIA 96</td>\n",
       "      <td>187</td>\n",
       "      <td>ROMA</td>\n",
       "      <td>ITALY</td>\n",
       "      <td>ITALY</td>\n",
       "      <td>Headquarter</td>\n",
       "    </tr>\n",
       "    <tr>\n",
       "      <th>3</th>\n",
       "      <td>3</td>\n",
       "      <td>3</td>\n",
       "      <td>https://www.info-clipper.com/en/company/estoni...</td>\n",
       "      <td>BIH REAL ESTATE OU</td>\n",
       "      <td>NaN</td>\n",
       "      <td>Narva mnt 6-44</td>\n",
       "      <td>10117</td>\n",
       "      <td>Tallinn</td>\n",
       "      <td>ESTONIA</td>\n",
       "      <td>ESTONIA</td>\n",
       "      <td>Single address</td>\n",
       "    </tr>\n",
       "    <tr>\n",
       "      <th>4</th>\n",
       "      <td>4</td>\n",
       "      <td>4</td>\n",
       "      <td>https://www.info-clipper.com/en/company/united...</td>\n",
       "      <td>DEVELOPMENTAL SERVICES, CALIFORNIA DEPARTMENT OF</td>\n",
       "      <td>NaN</td>\n",
       "      <td>1215 O ST</td>\n",
       "      <td>958145804</td>\n",
       "      <td>SACRAMENTO</td>\n",
       "      <td>California(CA)</td>\n",
       "      <td>UNITED STATES</td>\n",
       "      <td>Headquarter</td>\n",
       "    </tr>\n",
       "  </tbody>\n",
       "</table>\n",
       "</div>"
      ],
      "text/plain": [
       "   Unnamed: 0  INDEX                                                URL  \\\n",
       "0           0      0  https://www.info-clipper.com/en/company/united...   \n",
       "1           1      1  https://www.info-clipper.com/en/company/united...   \n",
       "2           2      2  https://www.info-clipper.com/en/company/italy/...   \n",
       "3           3      3  https://www.info-clipper.com/en/company/estoni...   \n",
       "4           4      4  https://www.info-clipper.com/en/company/united...   \n",
       "\n",
       "                                                Name Trade Name  \\\n",
       "0                                          CNHI, LLC        NaN   \n",
       "1                               CRAIG & ROSE LIMITED        NaN   \n",
       "2  SEGRETARIATO GENERALE DELLA PRESIDENZA DELLA R...        NaN   \n",
       "3                                 BIH REAL ESTATE OU        NaN   \n",
       "4   DEVELOPMENTAL SERVICES, CALIFORNIA DEPARTMENT OF        NaN   \n",
       "\n",
       "                    Address Name              Postalcode        City  \\\n",
       "0                 445 DEXTER AVE               361043892  MONTGOMERY   \n",
       "1  7th Floor Suite 1 50 Broadway                SW1H 0BL      LONDON   \n",
       "2           VIA DELLA DATARIA 96                     187        ROMA   \n",
       "3                 Narva mnt 6-44                   10117     Tallinn   \n",
       "4                      1215 O ST               958145804  SACRAMENTO   \n",
       "\n",
       "            State         Country   Location type  \n",
       "0     Alabama(AL)   UNITED STATES     Headquarter  \n",
       "1  UNITED KINGDOM  UNITED KINGDOM  Single address  \n",
       "2           ITALY           ITALY     Headquarter  \n",
       "3         ESTONIA         ESTONIA  Single address  \n",
       "4  California(CA)   UNITED STATES     Headquarter  "
      ]
     },
     "execution_count": 310,
     "metadata": {},
     "output_type": "execute_result"
    }
   ],
   "source": [
    "wissel_info = pd.read_csv(files_list[48])\n",
    "wissel_info.head()"
   ]
  },
  {
   "cell_type": "code",
   "execution_count": 311,
   "metadata": {},
   "outputs": [
    {
     "name": "stdout",
     "output_type": "stream",
     "text": [
      "Columns to remove:\n",
      "Unnamed: 0\n",
      "INDEX\n",
      "URL\n",
      "Trade Name\n",
      "Address Name\n",
      "Postalcode\n",
      "City\n",
      "State\n",
      "Location type\n"
     ]
    }
   ],
   "source": [
    "to_drop, _ = columns_to_remove_not_remove(wissel_info)"
   ]
  },
  {
   "cell_type": "code",
   "execution_count": 312,
   "metadata": {},
   "outputs": [
    {
     "name": "stdout",
     "output_type": "stream",
     "text": [
      "Columns to rename:\n"
     ]
    },
    {
     "data": {
      "text/html": [
       "<div>\n",
       "<style scoped>\n",
       "    .dataframe tbody tr th:only-of-type {\n",
       "        vertical-align: middle;\n",
       "    }\n",
       "\n",
       "    .dataframe tbody tr th {\n",
       "        vertical-align: top;\n",
       "    }\n",
       "\n",
       "    .dataframe thead th {\n",
       "        text-align: right;\n",
       "    }\n",
       "</style>\n",
       "<table border=\"1\" class=\"dataframe\">\n",
       "  <thead>\n",
       "    <tr style=\"text-align: right;\">\n",
       "      <th></th>\n",
       "      <th>name</th>\n",
       "      <th>country</th>\n",
       "    </tr>\n",
       "  </thead>\n",
       "  <tbody>\n",
       "    <tr>\n",
       "      <th>0</th>\n",
       "      <td>CNHI, LLC</td>\n",
       "      <td>UNITED STATES</td>\n",
       "    </tr>\n",
       "    <tr>\n",
       "      <th>1</th>\n",
       "      <td>CRAIG &amp; ROSE LIMITED</td>\n",
       "      <td>UNITED KINGDOM</td>\n",
       "    </tr>\n",
       "    <tr>\n",
       "      <th>2</th>\n",
       "      <td>SEGRETARIATO GENERALE DELLA PRESIDENZA DELLA R...</td>\n",
       "      <td>ITALY</td>\n",
       "    </tr>\n",
       "    <tr>\n",
       "      <th>3</th>\n",
       "      <td>BIH REAL ESTATE OU</td>\n",
       "      <td>ESTONIA</td>\n",
       "    </tr>\n",
       "    <tr>\n",
       "      <th>4</th>\n",
       "      <td>DEVELOPMENTAL SERVICES, CALIFORNIA DEPARTMENT OF</td>\n",
       "      <td>UNITED STATES</td>\n",
       "    </tr>\n",
       "  </tbody>\n",
       "</table>\n",
       "</div>"
      ],
      "text/plain": [
       "                                                name         country\n",
       "0                                          CNHI, LLC   UNITED STATES\n",
       "1                               CRAIG & ROSE LIMITED  UNITED KINGDOM\n",
       "2  SEGRETARIATO GENERALE DELLA PRESIDENZA DELLA R...           ITALY\n",
       "3                                 BIH REAL ESTATE OU         ESTONIA\n",
       "4   DEVELOPMENTAL SERVICES, CALIFORNIA DEPARTMENT OF   UNITED STATES"
      ]
     },
     "execution_count": 312,
     "metadata": {},
     "output_type": "execute_result"
    }
   ],
   "source": [
    "wissel_info = wissel_info.drop(to_drop, axis=1)\n",
    "to_rename = rename_columns(wissel_info.columns)\n",
    "wissel_info.columns = to_rename\n",
    "wissel_info.head()"
   ]
  },
  {
   "cell_type": "code",
   "execution_count": 313,
   "metadata": {},
   "outputs": [],
   "source": [
    "cleaned_files.append(wissel_info)"
   ]
  },
  {
   "cell_type": "markdown",
   "metadata": {},
   "source": [
    "# Datasets Concatenation"
   ]
  },
  {
   "cell_type": "code",
   "execution_count": 314,
   "metadata": {},
   "outputs": [],
   "source": [
    "final = pd.concat(cleaned_files, ignore_index=True)"
   ]
  },
  {
   "cell_type": "code",
   "execution_count": 315,
   "metadata": {},
   "outputs": [],
   "source": [
    "for c in final.columns:\n",
    "    final[str(c)] = final[str(c)].replace('', pd.NA)\n",
    "    final[str(c)] = final[str(c)].fillna(pd.NA)\n",
    "    if final[str(c)].dtypes != 'Int64':\n",
    "        final[str(c)] = final[str(c)].str.upper()"
   ]
  },
  {
   "cell_type": "code",
   "execution_count": 316,
   "metadata": {},
   "outputs": [
    {
     "data": {
      "text/html": [
       "<div>\n",
       "<style scoped>\n",
       "    .dataframe tbody tr th:only-of-type {\n",
       "        vertical-align: middle;\n",
       "    }\n",
       "\n",
       "    .dataframe tbody tr th {\n",
       "        vertical-align: top;\n",
       "    }\n",
       "\n",
       "    .dataframe thead th {\n",
       "        text-align: right;\n",
       "    }\n",
       "</style>\n",
       "<table border=\"1\" class=\"dataframe\">\n",
       "  <thead>\n",
       "    <tr style=\"text-align: right;\">\n",
       "      <th></th>\n",
       "      <th>name</th>\n",
       "      <th>country</th>\n",
       "      <th>sector</th>\n",
       "      <th>founded</th>\n",
       "      <th>marketcap</th>\n",
       "      <th>revenue</th>\n",
       "      <th>employees</th>\n",
       "      <th>links</th>\n",
       "      <th>ceo</th>\n",
       "    </tr>\n",
       "  </thead>\n",
       "  <tbody>\n",
       "    <tr>\n",
       "      <th>0</th>\n",
       "      <td>LACEWORK</td>\n",
       "      <td>UNITED STATES</td>\n",
       "      <td>CYBERSECURITY</td>\n",
       "      <td>2015</td>\n",
       "      <td>&lt;NA&gt;</td>\n",
       "      <td>&lt;NA&gt;</td>\n",
       "      <td>&lt;NA&gt;</td>\n",
       "      <td>&lt;NA&gt;</td>\n",
       "      <td>&lt;NA&gt;</td>\n",
       "    </tr>\n",
       "    <tr>\n",
       "      <th>1</th>\n",
       "      <td>TIPALTI</td>\n",
       "      <td>UNITED STATES</td>\n",
       "      <td>FINTECH</td>\n",
       "      <td>2010</td>\n",
       "      <td>&lt;NA&gt;</td>\n",
       "      <td>&lt;NA&gt;</td>\n",
       "      <td>&lt;NA&gt;</td>\n",
       "      <td>&lt;NA&gt;</td>\n",
       "      <td>&lt;NA&gt;</td>\n",
       "    </tr>\n",
       "    <tr>\n",
       "      <th>2</th>\n",
       "      <td>TEMPUS</td>\n",
       "      <td>UNITED STATES</td>\n",
       "      <td>HEALTH</td>\n",
       "      <td>2015</td>\n",
       "      <td>&lt;NA&gt;</td>\n",
       "      <td>&lt;NA&gt;</td>\n",
       "      <td>&lt;NA&gt;</td>\n",
       "      <td>&lt;NA&gt;</td>\n",
       "      <td>&lt;NA&gt;</td>\n",
       "    </tr>\n",
       "    <tr>\n",
       "      <th>3</th>\n",
       "      <td>ANDURIL</td>\n",
       "      <td>UNITED STATES</td>\n",
       "      <td>ARTIFICIAL INTELLIGENCE</td>\n",
       "      <td>2017</td>\n",
       "      <td>&lt;NA&gt;</td>\n",
       "      <td>&lt;NA&gt;</td>\n",
       "      <td>&lt;NA&gt;</td>\n",
       "      <td>&lt;NA&gt;</td>\n",
       "      <td>&lt;NA&gt;</td>\n",
       "    </tr>\n",
       "    <tr>\n",
       "      <th>4</th>\n",
       "      <td>BOLT</td>\n",
       "      <td>ESTONIA</td>\n",
       "      <td>AUTO &amp; TRANSPORTATION</td>\n",
       "      <td>2013</td>\n",
       "      <td>&lt;NA&gt;</td>\n",
       "      <td>&lt;NA&gt;</td>\n",
       "      <td>&lt;NA&gt;</td>\n",
       "      <td>&lt;NA&gt;</td>\n",
       "      <td>&lt;NA&gt;</td>\n",
       "    </tr>\n",
       "    <tr>\n",
       "      <th>5</th>\n",
       "      <td>BYTEDANCE</td>\n",
       "      <td>CHINA</td>\n",
       "      <td>ARTIFICIAL INTELLIGENCE</td>\n",
       "      <td>2012</td>\n",
       "      <td>&lt;NA&gt;</td>\n",
       "      <td>&lt;NA&gt;</td>\n",
       "      <td>&lt;NA&gt;</td>\n",
       "      <td>&lt;NA&gt;</td>\n",
       "      <td>&lt;NA&gt;</td>\n",
       "    </tr>\n",
       "    <tr>\n",
       "      <th>6</th>\n",
       "      <td>NIANTIC</td>\n",
       "      <td>UNITED STATES</td>\n",
       "      <td>MOBILE &amp; TELECOMMUNICATIONS</td>\n",
       "      <td>2015</td>\n",
       "      <td>&lt;NA&gt;</td>\n",
       "      <td>&lt;NA&gt;</td>\n",
       "      <td>&lt;NA&gt;</td>\n",
       "      <td>&lt;NA&gt;</td>\n",
       "      <td>&lt;NA&gt;</td>\n",
       "    </tr>\n",
       "    <tr>\n",
       "      <th>7</th>\n",
       "      <td>OYO ROOMS</td>\n",
       "      <td>INDIA</td>\n",
       "      <td>TRAVEL</td>\n",
       "      <td>2012</td>\n",
       "      <td>&lt;NA&gt;</td>\n",
       "      <td>&lt;NA&gt;</td>\n",
       "      <td>&lt;NA&gt;</td>\n",
       "      <td>&lt;NA&gt;</td>\n",
       "      <td>&lt;NA&gt;</td>\n",
       "    </tr>\n",
       "    <tr>\n",
       "      <th>8</th>\n",
       "      <td>KAVAK</td>\n",
       "      <td>MEXICO</td>\n",
       "      <td>E-COMMERCE &amp; DIRECT-TO-CONSUMER</td>\n",
       "      <td>2014</td>\n",
       "      <td>&lt;NA&gt;</td>\n",
       "      <td>&lt;NA&gt;</td>\n",
       "      <td>&lt;NA&gt;</td>\n",
       "      <td>&lt;NA&gt;</td>\n",
       "      <td>&lt;NA&gt;</td>\n",
       "    </tr>\n",
       "    <tr>\n",
       "      <th>9</th>\n",
       "      <td>PERSONIO</td>\n",
       "      <td>GERMANY</td>\n",
       "      <td>INTERNET SOFTWARE &amp; SERVICES</td>\n",
       "      <td>2015</td>\n",
       "      <td>&lt;NA&gt;</td>\n",
       "      <td>&lt;NA&gt;</td>\n",
       "      <td>&lt;NA&gt;</td>\n",
       "      <td>&lt;NA&gt;</td>\n",
       "      <td>&lt;NA&gt;</td>\n",
       "    </tr>\n",
       "  </tbody>\n",
       "</table>\n",
       "</div>"
      ],
      "text/plain": [
       "        name        country                           sector  founded  \\\n",
       "0   LACEWORK  UNITED STATES                    CYBERSECURITY     2015   \n",
       "1    TIPALTI  UNITED STATES                          FINTECH     2010   \n",
       "2     TEMPUS  UNITED STATES                           HEALTH     2015   \n",
       "3    ANDURIL  UNITED STATES          ARTIFICIAL INTELLIGENCE     2017   \n",
       "4       BOLT        ESTONIA            AUTO & TRANSPORTATION     2013   \n",
       "5  BYTEDANCE          CHINA          ARTIFICIAL INTELLIGENCE     2012   \n",
       "6    NIANTIC  UNITED STATES      MOBILE & TELECOMMUNICATIONS     2015   \n",
       "7  OYO ROOMS          INDIA                           TRAVEL     2012   \n",
       "8      KAVAK         MEXICO  E-COMMERCE & DIRECT-TO-CONSUMER     2014   \n",
       "9   PERSONIO        GERMANY     INTERNET SOFTWARE & SERVICES     2015   \n",
       "\n",
       "   marketcap  revenue  employees links   ceo  \n",
       "0       <NA>     <NA>       <NA>  <NA>  <NA>  \n",
       "1       <NA>     <NA>       <NA>  <NA>  <NA>  \n",
       "2       <NA>     <NA>       <NA>  <NA>  <NA>  \n",
       "3       <NA>     <NA>       <NA>  <NA>  <NA>  \n",
       "4       <NA>     <NA>       <NA>  <NA>  <NA>  \n",
       "5       <NA>     <NA>       <NA>  <NA>  <NA>  \n",
       "6       <NA>     <NA>       <NA>  <NA>  <NA>  \n",
       "7       <NA>     <NA>       <NA>  <NA>  <NA>  \n",
       "8       <NA>     <NA>       <NA>  <NA>  <NA>  \n",
       "9       <NA>     <NA>       <NA>  <NA>  <NA>  "
      ]
     },
     "execution_count": 316,
     "metadata": {},
     "output_type": "execute_result"
    }
   ],
   "source": [
    "final.head(10)"
   ]
  },
  {
   "cell_type": "code",
   "execution_count": 317,
   "metadata": {},
   "outputs": [
    {
     "data": {
      "text/html": [
       "<div>\n",
       "<style scoped>\n",
       "    .dataframe tbody tr th:only-of-type {\n",
       "        vertical-align: middle;\n",
       "    }\n",
       "\n",
       "    .dataframe tbody tr th {\n",
       "        vertical-align: top;\n",
       "    }\n",
       "\n",
       "    .dataframe thead th {\n",
       "        text-align: right;\n",
       "    }\n",
       "</style>\n",
       "<table border=\"1\" class=\"dataframe\">\n",
       "  <thead>\n",
       "    <tr style=\"text-align: right;\">\n",
       "      <th></th>\n",
       "      <th>name</th>\n",
       "      <th>country</th>\n",
       "      <th>sector</th>\n",
       "      <th>founded</th>\n",
       "      <th>marketcap</th>\n",
       "      <th>revenue</th>\n",
       "      <th>employees</th>\n",
       "      <th>links</th>\n",
       "      <th>ceo</th>\n",
       "    </tr>\n",
       "  </thead>\n",
       "  <tbody>\n",
       "    <tr>\n",
       "      <th>173023</th>\n",
       "      <td>LENOVO ITALY SRL</td>\n",
       "      <td>ITALY</td>\n",
       "      <td>&lt;NA&gt;</td>\n",
       "      <td>&lt;NA&gt;</td>\n",
       "      <td>&lt;NA&gt;</td>\n",
       "      <td>&lt;NA&gt;</td>\n",
       "      <td>&lt;NA&gt;</td>\n",
       "      <td>&lt;NA&gt;</td>\n",
       "      <td>&lt;NA&gt;</td>\n",
       "    </tr>\n",
       "    <tr>\n",
       "      <th>173024</th>\n",
       "      <td>MESSER NORTH AMERICA, INC.</td>\n",
       "      <td>UNITED STATES</td>\n",
       "      <td>&lt;NA&gt;</td>\n",
       "      <td>&lt;NA&gt;</td>\n",
       "      <td>&lt;NA&gt;</td>\n",
       "      <td>&lt;NA&gt;</td>\n",
       "      <td>&lt;NA&gt;</td>\n",
       "      <td>&lt;NA&gt;</td>\n",
       "      <td>&lt;NA&gt;</td>\n",
       "    </tr>\n",
       "    <tr>\n",
       "      <th>173025</th>\n",
       "      <td>SB INVESTMENT ADVISERS (UK) LIMITED</td>\n",
       "      <td>UNITED KINGDOM</td>\n",
       "      <td>&lt;NA&gt;</td>\n",
       "      <td>&lt;NA&gt;</td>\n",
       "      <td>&lt;NA&gt;</td>\n",
       "      <td>&lt;NA&gt;</td>\n",
       "      <td>&lt;NA&gt;</td>\n",
       "      <td>&lt;NA&gt;</td>\n",
       "      <td>&lt;NA&gt;</td>\n",
       "    </tr>\n",
       "    <tr>\n",
       "      <th>173026</th>\n",
       "      <td>OSCARTIELLE SPA</td>\n",
       "      <td>ITALY</td>\n",
       "      <td>&lt;NA&gt;</td>\n",
       "      <td>&lt;NA&gt;</td>\n",
       "      <td>&lt;NA&gt;</td>\n",
       "      <td>&lt;NA&gt;</td>\n",
       "      <td>&lt;NA&gt;</td>\n",
       "      <td>&lt;NA&gt;</td>\n",
       "      <td>&lt;NA&gt;</td>\n",
       "    </tr>\n",
       "    <tr>\n",
       "      <th>173027</th>\n",
       "      <td>3M INNOVATIVE PROPERTIES COMPANY</td>\n",
       "      <td>UNITED STATES</td>\n",
       "      <td>&lt;NA&gt;</td>\n",
       "      <td>&lt;NA&gt;</td>\n",
       "      <td>&lt;NA&gt;</td>\n",
       "      <td>&lt;NA&gt;</td>\n",
       "      <td>&lt;NA&gt;</td>\n",
       "      <td>&lt;NA&gt;</td>\n",
       "      <td>&lt;NA&gt;</td>\n",
       "    </tr>\n",
       "    <tr>\n",
       "      <th>173028</th>\n",
       "      <td>SOFTBANK ROBOTICS UK LTD</td>\n",
       "      <td>UNITED KINGDOM</td>\n",
       "      <td>&lt;NA&gt;</td>\n",
       "      <td>&lt;NA&gt;</td>\n",
       "      <td>&lt;NA&gt;</td>\n",
       "      <td>&lt;NA&gt;</td>\n",
       "      <td>&lt;NA&gt;</td>\n",
       "      <td>&lt;NA&gt;</td>\n",
       "      <td>&lt;NA&gt;</td>\n",
       "    </tr>\n",
       "    <tr>\n",
       "      <th>173029</th>\n",
       "      <td>COMUNE DI VOLLA</td>\n",
       "      <td>ITALY</td>\n",
       "      <td>&lt;NA&gt;</td>\n",
       "      <td>&lt;NA&gt;</td>\n",
       "      <td>&lt;NA&gt;</td>\n",
       "      <td>&lt;NA&gt;</td>\n",
       "      <td>&lt;NA&gt;</td>\n",
       "      <td>&lt;NA&gt;</td>\n",
       "      <td>&lt;NA&gt;</td>\n",
       "    </tr>\n",
       "    <tr>\n",
       "      <th>173030</th>\n",
       "      <td>SUDDATH RELOCATION SYSTEMS OF ORLANDO, INC</td>\n",
       "      <td>UNITED STATES</td>\n",
       "      <td>&lt;NA&gt;</td>\n",
       "      <td>&lt;NA&gt;</td>\n",
       "      <td>&lt;NA&gt;</td>\n",
       "      <td>&lt;NA&gt;</td>\n",
       "      <td>&lt;NA&gt;</td>\n",
       "      <td>&lt;NA&gt;</td>\n",
       "      <td>&lt;NA&gt;</td>\n",
       "    </tr>\n",
       "    <tr>\n",
       "      <th>173031</th>\n",
       "      <td>MIDASPLAYER.COM LTD.</td>\n",
       "      <td>UNITED KINGDOM</td>\n",
       "      <td>&lt;NA&gt;</td>\n",
       "      <td>&lt;NA&gt;</td>\n",
       "      <td>&lt;NA&gt;</td>\n",
       "      <td>&lt;NA&gt;</td>\n",
       "      <td>&lt;NA&gt;</td>\n",
       "      <td>&lt;NA&gt;</td>\n",
       "      <td>&lt;NA&gt;</td>\n",
       "    </tr>\n",
       "    <tr>\n",
       "      <th>173032</th>\n",
       "      <td>DRILLMEC SPA</td>\n",
       "      <td>ITALY</td>\n",
       "      <td>&lt;NA&gt;</td>\n",
       "      <td>&lt;NA&gt;</td>\n",
       "      <td>&lt;NA&gt;</td>\n",
       "      <td>&lt;NA&gt;</td>\n",
       "      <td>&lt;NA&gt;</td>\n",
       "      <td>&lt;NA&gt;</td>\n",
       "      <td>&lt;NA&gt;</td>\n",
       "    </tr>\n",
       "  </tbody>\n",
       "</table>\n",
       "</div>"
      ],
      "text/plain": [
       "                                              name         country sector  \\\n",
       "173023                            LENOVO ITALY SRL           ITALY   <NA>   \n",
       "173024                  MESSER NORTH AMERICA, INC.   UNITED STATES   <NA>   \n",
       "173025         SB INVESTMENT ADVISERS (UK) LIMITED  UNITED KINGDOM   <NA>   \n",
       "173026                             OSCARTIELLE SPA           ITALY   <NA>   \n",
       "173027            3M INNOVATIVE PROPERTIES COMPANY   UNITED STATES   <NA>   \n",
       "173028                    SOFTBANK ROBOTICS UK LTD  UNITED KINGDOM   <NA>   \n",
       "173029                             COMUNE DI VOLLA           ITALY   <NA>   \n",
       "173030  SUDDATH RELOCATION SYSTEMS OF ORLANDO, INC   UNITED STATES   <NA>   \n",
       "173031                        MIDASPLAYER.COM LTD.  UNITED KINGDOM   <NA>   \n",
       "173032                                DRILLMEC SPA           ITALY   <NA>   \n",
       "\n",
       "        founded  marketcap  revenue  employees links   ceo  \n",
       "173023     <NA>       <NA>     <NA>       <NA>  <NA>  <NA>  \n",
       "173024     <NA>       <NA>     <NA>       <NA>  <NA>  <NA>  \n",
       "173025     <NA>       <NA>     <NA>       <NA>  <NA>  <NA>  \n",
       "173026     <NA>       <NA>     <NA>       <NA>  <NA>  <NA>  \n",
       "173027     <NA>       <NA>     <NA>       <NA>  <NA>  <NA>  \n",
       "173028     <NA>       <NA>     <NA>       <NA>  <NA>  <NA>  \n",
       "173029     <NA>       <NA>     <NA>       <NA>  <NA>  <NA>  \n",
       "173030     <NA>       <NA>     <NA>       <NA>  <NA>  <NA>  \n",
       "173031     <NA>       <NA>     <NA>       <NA>  <NA>  <NA>  \n",
       "173032     <NA>       <NA>     <NA>       <NA>  <NA>  <NA>  "
      ]
     },
     "execution_count": 317,
     "metadata": {},
     "output_type": "execute_result"
    }
   ],
   "source": [
    "final.tail(10)"
   ]
  },
  {
   "cell_type": "code",
   "execution_count": 318,
   "metadata": {},
   "outputs": [],
   "source": [
    "final.to_csv('./src/final_dataset.csv')"
   ]
  },
  {
   "cell_type": "markdown",
   "metadata": {},
   "source": [
    "## Report final dataset"
   ]
  },
  {
   "cell_type": "code",
   "execution_count": null,
   "metadata": {},
   "outputs": [],
   "source": [
    "from pandas_profiling import ProfileReport\n",
    "profile=ProfileReport(final)\n",
    "profile.to_notebook_iframe()"
   ]
  }
 ],
 "metadata": {
  "kernelspec": {
   "display_name": "Python 3 (ipykernel)",
   "language": "python",
   "name": "python3"
  },
  "language_info": {
   "codemirror_mode": {
    "name": "ipython",
    "version": 3
   },
   "file_extension": ".py",
   "mimetype": "text/x-python",
   "name": "python",
   "nbconvert_exporter": "python",
   "pygments_lexer": "ipython3",
   "version": "3.9.12"
  },
  "vscode": {
   "interpreter": {
    "hash": "aee8b7b246df8f9039afb4144a1f6fd8d2ca17a180786b69acc140d282b71a49"
   }
  }
 },
 "nbformat": 4,
 "nbformat_minor": 2
}
