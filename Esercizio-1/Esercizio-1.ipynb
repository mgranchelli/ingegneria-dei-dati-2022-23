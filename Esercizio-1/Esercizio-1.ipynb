{
 "cells": [
  {
   "cell_type": "code",
   "execution_count": null,
   "metadata": {},
   "outputs": [],
   "source": [
    "from lxml import html\n",
    "import requests\n",
    "import unicodedata"
   ]
  },
  {
   "cell_type": "code",
   "execution_count": null,
   "metadata": {},
   "outputs": [],
   "source": [
    "header = {'User-Agent': 'Mozilla/5.0 (Macintosh; Intel Mac OS X 10_15_7) AppleWebKit/537.36 (KHTML, like Gecko) Chrome/107.0.0.0 Safari/537.36'}"
   ]
  },
  {
   "cell_type": "code",
   "execution_count": null,
   "metadata": {},
   "outputs": [],
   "source": [
    "from typing import List\n",
    "import re\n",
    "\n",
    "class Game:\n",
    "\n",
    "    def __init__(self, tree):\n",
    "        self.nome = self.to_string(tree.xpath(\"//h1[@id='title']/span/text()\"))\n",
    "        self.prezzo = self.fix_list_string(self.get_prezzo(tree))\n",
    "\n",
    "        self.piattaforma = self.to_string(tree.xpath(\"//div[@id='platformInformation_feature_div']/text()[2]\"))\n",
    "        self.classificazione = self.to_string(tree.xpath(\"//div[@id='vgRating_feature_div']/span[2]/a/text()\"))\n",
    "        \n",
    "        self.info = self.fix_list_string(tree.xpath(\"//div[@id='feature-bullets']/ul/li/span/text()\"))\n",
    "        self.data_uscita = self.to_string(tree.xpath('//span[contains(.,\"Data d\\'uscita\")]/span[2]/text()'))\n",
    "        \n",
    "        self.n_recensioni = self.to_string(tree.xpath(\"//div[@id='averageCustomerReviews']/span[3]/a/span/text()\"))\n",
    "        self.val_recensioni = self.to_string(tree.xpath(\"//div[@id='averageCustomerReviews']/span/span/@title\"))\n",
    "    \n",
    "    def print_prodotto(self):\n",
    "        print('Nome: ' + self.nome)\n",
    "        print('Prezzo: ' + self.to_string(self.prezzo))\n",
    "        print('Piattaforma: ' + self.piattaforma)\n",
    "        print('Classificazione: ' + self.classificazione)\n",
    "        print('Info articolo: ' + self.to_string(self.info))\n",
    "        print('Data di uscita: ' + self.data_uscita)\n",
    "        print('Numero recensioni: ' + self.n_recensioni)\n",
    "        print('Valutazione: ' + self.val_recensioni + '\\n')\n",
    "\n",
    "    def fix_list_string(self, stringa: List[str]):\n",
    "        lista = []\n",
    "        for s in stringa:\n",
    "            if len(stringa) > 1:\n",
    "                lista.append(unicodedata.normalize(\"NFKD\", s.strip()))\n",
    "            else:\n",
    "                return unicodedata.normalize(\"NFKD\", s.strip())\n",
    "        return lista\n",
    "\n",
    "    def to_string(self, stringa: List[str]):\n",
    "        str1 = \"\"\n",
    "        for s in stringa:\n",
    "            if len(stringa) > 1:\n",
    "                str1 += '\\n- '\n",
    "            str1 += unicodedata.normalize(\"NFKD\", s.strip())\n",
    "        return str1\n",
    "\n",
    "    def get_prezzo(self, tree):\n",
    "        lista_prezzi = []\n",
    "        prezzi = tree.xpath(\"//div[@id='corePriceDisplay_desktop_feature_div']/div[1]/span/span/text()\")\n",
    "        if (len(prezzi) > 1):\n",
    "            lista_prezzi.append(\"Nuovo: \" + prezzi[0])\n",
    "            lista_prezzi.append(\"Usato: \" + prezzi[1])\n",
    "        elif (len(prezzi) == 1):\n",
    "            lista_prezzi.append(\"Nuovo: \" + prezzi[0])\n",
    "        return lista_prezzi"
   ]
  },
  {
   "cell_type": "code",
   "execution_count": null,
   "metadata": {},
   "outputs": [],
   "source": [
    "links = [\n",
    "        \"https://amzn.eu/d/iV7kobw\",\n",
    "        \"https://amzn.eu/d/71sSdyJ\",\n",
    "        \"https://amzn.eu/d/0qN2svy\",\n",
    "        \"https://amzn.eu/d/aNpuTyK\",\n",
    "        \"https://amzn.eu/d/hSA3iTJ\",\n",
    "        \"https://amzn.eu/d/9RbDR0Z\",\n",
    "        \"https://amzn.eu/d/csA6b0b\",\n",
    "        \"https://amzn.eu/d/7KHyX18\",\n",
    "        \"https://amzn.eu/d/iCRnEbr\",\n",
    "        \"https://amzn.eu/d/fRlirY8\"\n",
    "        ]"
   ]
  },
  {
   "cell_type": "code",
   "execution_count": null,
   "metadata": {},
   "outputs": [],
   "source": [
    "games:List[Game] = []\n",
    "for link in links:\n",
    "    page = requests.get(link, header)\n",
    "    if page.status_code != 503:\n",
    "        game = Game(html.fromstring(page.content))\n",
    "        games.append(game)\n",
    "        # game.print_prodotto()\n",
    "    else: \n",
    "        page = requests.get(link, header)\n",
    "        if page.status_code != 503:\n",
    "            game = Game(html.fromstring(page.content))\n",
    "            games.append(game)\n",
    "            # game.print_prodotto()\n",
    "        else:\n",
    "            print(\"503 Error code\")"
   ]
  },
  {
   "cell_type": "code",
   "execution_count": null,
   "metadata": {},
   "outputs": [],
   "source": [
    "import pandas as pd\n",
    "\n",
    "lst = [[x.nome, x.prezzo, x.piattaforma, x.classificazione, x.info, x.data_uscita, x.n_recensioni, x.val_recensioni] for x in games]\n",
    "df = pd.DataFrame(lst)\n",
    "df.to_csv('games.csv', index=0, header=['Nome', 'Prezzo', 'Piattaforma', 'Classificazione', 'Info', 'Data di uscita', 'Numero recensioni', 'Valutazione'])"
   ]
  }
 ],
 "metadata": {
  "kernelspec": {
   "display_name": "Python 3.9.2 64-bit",
   "language": "python",
   "name": "python3"
  },
  "language_info": {
   "codemirror_mode": {
    "name": "ipython",
    "version": 3
   },
   "file_extension": ".py",
   "mimetype": "text/x-python",
   "name": "python",
   "nbconvert_exporter": "python",
   "pygments_lexer": "ipython3",
   "version": "3.9.2"
  },
  "orig_nbformat": 4,
  "vscode": {
   "interpreter": {
    "hash": "aee8b7b246df8f9039afb4144a1f6fd8d2ca17a180786b69acc140d282b71a49"
   }
  }
 },
 "nbformat": 4,
 "nbformat_minor": 2
}
